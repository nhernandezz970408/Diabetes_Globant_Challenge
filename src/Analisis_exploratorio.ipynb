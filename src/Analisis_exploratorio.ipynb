{
  "nbformat": 4,
  "nbformat_minor": 0,
  "metadata": {
    "colab": {
      "provenance": [],
      "toc_visible": true
    },
    "kernelspec": {
      "name": "python3",
      "display_name": "Python 3"
    },
    "language_info": {
      "name": "python"
    }
  },
  "cells": [
    {
      "cell_type": "markdown",
      "source": [
        "Este notebook está dedicado al analisis exploratorio de los 3 dataset creados en el notebook anterior llamado **Diabetes Globant Challenge Datasets**. Cada dataset se va a evaluar de forma independiente. Posteriormente, se realizaran comparaciones entre los dataset."
      ],
      "metadata": {
        "id": "UpQNJjahtnaW"
      }
    },
    {
      "cell_type": "code",
      "source": [
        "import pandas as pd\n",
        "pd.set_option('display.max_columns', 60)\n",
        "pd.set_option('display.max_rows', 200)\n",
        "import warnings\n",
        "warnings.filterwarnings('ignore')\n",
        "import plotly.express as px"
      ],
      "metadata": {
        "id": "vMTTWqPNu2sh"
      },
      "execution_count": 1,
      "outputs": []
    },
    {
      "cell_type": "markdown",
      "source": [
        "## Strack Dataset"
      ],
      "metadata": {
        "id": "dq_fJjE1t-vv"
      }
    },
    {
      "cell_type": "code",
      "execution_count": 2,
      "metadata": {
        "colab": {
          "base_uri": "https://localhost:8080/",
          "height": 184
        },
        "id": "POPrzblythv3",
        "outputId": "ddb53aa0-b325-4738-f0d5-1dd6825de33d"
      },
      "outputs": [
        {
          "output_type": "execute_result",
          "data": {
            "text/plain": [
              "   Unnamed: 0  encounter_id  patient_nbr       race  gender      age  \\\n",
              "0        4267      24437208          135  Caucasian  Female  [50-60)   \n",
              "1        5827      29758806          378  Caucasian  Female  [50-60)   \n",
              "\n",
              "   admission_type_id  discharge_disposition_id  admission_source_id  \\\n",
              "0                  2                         1                    1   \n",
              "1                  3                         1                    1   \n",
              "\n",
              "   time_in_hospital medical_specialty  num_lab_procedures  num_procedures  \\\n",
              "0                 8        Cardiology                  77               6   \n",
              "1                 2     Surgery-Neuro                  49               1   \n",
              "\n",
              "   num_medications  number_outpatient  number_emergency  number_inpatient  \\\n",
              "0               33                  0                 0                 0   \n",
              "1               11                  0                 0                 0   \n",
              "\n",
              "  diag_1 diag_2 diag_3  number_diagnoses max_glu_serum A1Cresult metformin  \\\n",
              "0    401    997    560                 8          none      none    Steady   \n",
              "1    722    305    250                 3          none      none        No   \n",
              "\n",
              "  repaglinide nateglinide chlorpropamide glimepiride acetohexamide glipizide  \\\n",
              "0          No          No             No          No            No        No   \n",
              "1          No          No             No          No            No        No   \n",
              "\n",
              "  glyburide tolbutamide pioglitazone rosiglitazone acarbose miglitol  \\\n",
              "0      Down          No           No            No       No       No   \n",
              "1        No          No           No            No       No       No   \n",
              "\n",
              "  troglitazone tolazamide examide citoglipton insulin glyburide-metformin  \\\n",
              "0           No         No      No          No  Steady                  No   \n",
              "1           No         No      No          No      No                  No   \n",
              "\n",
              "  glipizide-metformin glimepiride-pioglitazone metformin-rosiglitazone  \\\n",
              "0                  No                       No                      No   \n",
              "1                  No                       No                      No   \n",
              "\n",
              "  metformin-pioglitazone change diabetesMed readmitted  \n",
              "0                     No     Ch         Yes        <30  \n",
              "1                     No     No          No         NO  "
            ],
            "text/html": [
              "\n",
              "  <div id=\"df-5340fb9d-9b7d-41b0-8830-e477c3feb7c4\" class=\"colab-df-container\">\n",
              "    <div>\n",
              "<style scoped>\n",
              "    .dataframe tbody tr th:only-of-type {\n",
              "        vertical-align: middle;\n",
              "    }\n",
              "\n",
              "    .dataframe tbody tr th {\n",
              "        vertical-align: top;\n",
              "    }\n",
              "\n",
              "    .dataframe thead th {\n",
              "        text-align: right;\n",
              "    }\n",
              "</style>\n",
              "<table border=\"1\" class=\"dataframe\">\n",
              "  <thead>\n",
              "    <tr style=\"text-align: right;\">\n",
              "      <th></th>\n",
              "      <th>Unnamed: 0</th>\n",
              "      <th>encounter_id</th>\n",
              "      <th>patient_nbr</th>\n",
              "      <th>race</th>\n",
              "      <th>gender</th>\n",
              "      <th>age</th>\n",
              "      <th>admission_type_id</th>\n",
              "      <th>discharge_disposition_id</th>\n",
              "      <th>admission_source_id</th>\n",
              "      <th>time_in_hospital</th>\n",
              "      <th>medical_specialty</th>\n",
              "      <th>num_lab_procedures</th>\n",
              "      <th>num_procedures</th>\n",
              "      <th>num_medications</th>\n",
              "      <th>number_outpatient</th>\n",
              "      <th>number_emergency</th>\n",
              "      <th>number_inpatient</th>\n",
              "      <th>diag_1</th>\n",
              "      <th>diag_2</th>\n",
              "      <th>diag_3</th>\n",
              "      <th>number_diagnoses</th>\n",
              "      <th>max_glu_serum</th>\n",
              "      <th>A1Cresult</th>\n",
              "      <th>metformin</th>\n",
              "      <th>repaglinide</th>\n",
              "      <th>nateglinide</th>\n",
              "      <th>chlorpropamide</th>\n",
              "      <th>glimepiride</th>\n",
              "      <th>acetohexamide</th>\n",
              "      <th>glipizide</th>\n",
              "      <th>glyburide</th>\n",
              "      <th>tolbutamide</th>\n",
              "      <th>pioglitazone</th>\n",
              "      <th>rosiglitazone</th>\n",
              "      <th>acarbose</th>\n",
              "      <th>miglitol</th>\n",
              "      <th>troglitazone</th>\n",
              "      <th>tolazamide</th>\n",
              "      <th>examide</th>\n",
              "      <th>citoglipton</th>\n",
              "      <th>insulin</th>\n",
              "      <th>glyburide-metformin</th>\n",
              "      <th>glipizide-metformin</th>\n",
              "      <th>glimepiride-pioglitazone</th>\n",
              "      <th>metformin-rosiglitazone</th>\n",
              "      <th>metformin-pioglitazone</th>\n",
              "      <th>change</th>\n",
              "      <th>diabetesMed</th>\n",
              "      <th>readmitted</th>\n",
              "    </tr>\n",
              "  </thead>\n",
              "  <tbody>\n",
              "    <tr>\n",
              "      <th>0</th>\n",
              "      <td>4267</td>\n",
              "      <td>24437208</td>\n",
              "      <td>135</td>\n",
              "      <td>Caucasian</td>\n",
              "      <td>Female</td>\n",
              "      <td>[50-60)</td>\n",
              "      <td>2</td>\n",
              "      <td>1</td>\n",
              "      <td>1</td>\n",
              "      <td>8</td>\n",
              "      <td>Cardiology</td>\n",
              "      <td>77</td>\n",
              "      <td>6</td>\n",
              "      <td>33</td>\n",
              "      <td>0</td>\n",
              "      <td>0</td>\n",
              "      <td>0</td>\n",
              "      <td>401</td>\n",
              "      <td>997</td>\n",
              "      <td>560</td>\n",
              "      <td>8</td>\n",
              "      <td>none</td>\n",
              "      <td>none</td>\n",
              "      <td>Steady</td>\n",
              "      <td>No</td>\n",
              "      <td>No</td>\n",
              "      <td>No</td>\n",
              "      <td>No</td>\n",
              "      <td>No</td>\n",
              "      <td>No</td>\n",
              "      <td>Down</td>\n",
              "      <td>No</td>\n",
              "      <td>No</td>\n",
              "      <td>No</td>\n",
              "      <td>No</td>\n",
              "      <td>No</td>\n",
              "      <td>No</td>\n",
              "      <td>No</td>\n",
              "      <td>No</td>\n",
              "      <td>No</td>\n",
              "      <td>Steady</td>\n",
              "      <td>No</td>\n",
              "      <td>No</td>\n",
              "      <td>No</td>\n",
              "      <td>No</td>\n",
              "      <td>No</td>\n",
              "      <td>Ch</td>\n",
              "      <td>Yes</td>\n",
              "      <td>&lt;30</td>\n",
              "    </tr>\n",
              "    <tr>\n",
              "      <th>1</th>\n",
              "      <td>5827</td>\n",
              "      <td>29758806</td>\n",
              "      <td>378</td>\n",
              "      <td>Caucasian</td>\n",
              "      <td>Female</td>\n",
              "      <td>[50-60)</td>\n",
              "      <td>3</td>\n",
              "      <td>1</td>\n",
              "      <td>1</td>\n",
              "      <td>2</td>\n",
              "      <td>Surgery-Neuro</td>\n",
              "      <td>49</td>\n",
              "      <td>1</td>\n",
              "      <td>11</td>\n",
              "      <td>0</td>\n",
              "      <td>0</td>\n",
              "      <td>0</td>\n",
              "      <td>722</td>\n",
              "      <td>305</td>\n",
              "      <td>250</td>\n",
              "      <td>3</td>\n",
              "      <td>none</td>\n",
              "      <td>none</td>\n",
              "      <td>No</td>\n",
              "      <td>No</td>\n",
              "      <td>No</td>\n",
              "      <td>No</td>\n",
              "      <td>No</td>\n",
              "      <td>No</td>\n",
              "      <td>No</td>\n",
              "      <td>No</td>\n",
              "      <td>No</td>\n",
              "      <td>No</td>\n",
              "      <td>No</td>\n",
              "      <td>No</td>\n",
              "      <td>No</td>\n",
              "      <td>No</td>\n",
              "      <td>No</td>\n",
              "      <td>No</td>\n",
              "      <td>No</td>\n",
              "      <td>No</td>\n",
              "      <td>No</td>\n",
              "      <td>No</td>\n",
              "      <td>No</td>\n",
              "      <td>No</td>\n",
              "      <td>No</td>\n",
              "      <td>No</td>\n",
              "      <td>No</td>\n",
              "      <td>NO</td>\n",
              "    </tr>\n",
              "  </tbody>\n",
              "</table>\n",
              "</div>\n",
              "    <div class=\"colab-df-buttons\">\n",
              "\n",
              "  <div class=\"colab-df-container\">\n",
              "    <button class=\"colab-df-convert\" onclick=\"convertToInteractive('df-5340fb9d-9b7d-41b0-8830-e477c3feb7c4')\"\n",
              "            title=\"Convert this dataframe to an interactive table.\"\n",
              "            style=\"display:none;\">\n",
              "\n",
              "  <svg xmlns=\"http://www.w3.org/2000/svg\" height=\"24px\" viewBox=\"0 -960 960 960\">\n",
              "    <path d=\"M120-120v-720h720v720H120Zm60-500h600v-160H180v160Zm220 220h160v-160H400v160Zm0 220h160v-160H400v160ZM180-400h160v-160H180v160Zm440 0h160v-160H620v160ZM180-180h160v-160H180v160Zm440 0h160v-160H620v160Z\"/>\n",
              "  </svg>\n",
              "    </button>\n",
              "\n",
              "  <style>\n",
              "    .colab-df-container {\n",
              "      display:flex;\n",
              "      gap: 12px;\n",
              "    }\n",
              "\n",
              "    .colab-df-convert {\n",
              "      background-color: #E8F0FE;\n",
              "      border: none;\n",
              "      border-radius: 50%;\n",
              "      cursor: pointer;\n",
              "      display: none;\n",
              "      fill: #1967D2;\n",
              "      height: 32px;\n",
              "      padding: 0 0 0 0;\n",
              "      width: 32px;\n",
              "    }\n",
              "\n",
              "    .colab-df-convert:hover {\n",
              "      background-color: #E2EBFA;\n",
              "      box-shadow: 0px 1px 2px rgba(60, 64, 67, 0.3), 0px 1px 3px 1px rgba(60, 64, 67, 0.15);\n",
              "      fill: #174EA6;\n",
              "    }\n",
              "\n",
              "    .colab-df-buttons div {\n",
              "      margin-bottom: 4px;\n",
              "    }\n",
              "\n",
              "    [theme=dark] .colab-df-convert {\n",
              "      background-color: #3B4455;\n",
              "      fill: #D2E3FC;\n",
              "    }\n",
              "\n",
              "    [theme=dark] .colab-df-convert:hover {\n",
              "      background-color: #434B5C;\n",
              "      box-shadow: 0px 1px 3px 1px rgba(0, 0, 0, 0.15);\n",
              "      filter: drop-shadow(0px 1px 2px rgba(0, 0, 0, 0.3));\n",
              "      fill: #FFFFFF;\n",
              "    }\n",
              "  </style>\n",
              "\n",
              "    <script>\n",
              "      const buttonEl =\n",
              "        document.querySelector('#df-5340fb9d-9b7d-41b0-8830-e477c3feb7c4 button.colab-df-convert');\n",
              "      buttonEl.style.display =\n",
              "        google.colab.kernel.accessAllowed ? 'block' : 'none';\n",
              "\n",
              "      async function convertToInteractive(key) {\n",
              "        const element = document.querySelector('#df-5340fb9d-9b7d-41b0-8830-e477c3feb7c4');\n",
              "        const dataTable =\n",
              "          await google.colab.kernel.invokeFunction('convertToInteractive',\n",
              "                                                    [key], {});\n",
              "        if (!dataTable) return;\n",
              "\n",
              "        const docLinkHtml = 'Like what you see? Visit the ' +\n",
              "          '<a target=\"_blank\" href=https://colab.research.google.com/notebooks/data_table.ipynb>data table notebook</a>'\n",
              "          + ' to learn more about interactive tables.';\n",
              "        element.innerHTML = '';\n",
              "        dataTable['output_type'] = 'display_data';\n",
              "        await google.colab.output.renderOutput(dataTable, element);\n",
              "        const docLink = document.createElement('div');\n",
              "        docLink.innerHTML = docLinkHtml;\n",
              "        element.appendChild(docLink);\n",
              "      }\n",
              "    </script>\n",
              "  </div>\n",
              "\n",
              "\n",
              "<div id=\"df-eff0401f-ed1f-4011-8de1-da08711cbfa9\">\n",
              "  <button class=\"colab-df-quickchart\" onclick=\"quickchart('df-eff0401f-ed1f-4011-8de1-da08711cbfa9')\"\n",
              "            title=\"Suggest charts\"\n",
              "            style=\"display:none;\">\n",
              "\n",
              "<svg xmlns=\"http://www.w3.org/2000/svg\" height=\"24px\"viewBox=\"0 0 24 24\"\n",
              "     width=\"24px\">\n",
              "    <g>\n",
              "        <path d=\"M19 3H5c-1.1 0-2 .9-2 2v14c0 1.1.9 2 2 2h14c1.1 0 2-.9 2-2V5c0-1.1-.9-2-2-2zM9 17H7v-7h2v7zm4 0h-2V7h2v10zm4 0h-2v-4h2v4z\"/>\n",
              "    </g>\n",
              "</svg>\n",
              "  </button>\n",
              "\n",
              "<style>\n",
              "  .colab-df-quickchart {\n",
              "      --bg-color: #E8F0FE;\n",
              "      --fill-color: #1967D2;\n",
              "      --hover-bg-color: #E2EBFA;\n",
              "      --hover-fill-color: #174EA6;\n",
              "      --disabled-fill-color: #AAA;\n",
              "      --disabled-bg-color: #DDD;\n",
              "  }\n",
              "\n",
              "  [theme=dark] .colab-df-quickchart {\n",
              "      --bg-color: #3B4455;\n",
              "      --fill-color: #D2E3FC;\n",
              "      --hover-bg-color: #434B5C;\n",
              "      --hover-fill-color: #FFFFFF;\n",
              "      --disabled-bg-color: #3B4455;\n",
              "      --disabled-fill-color: #666;\n",
              "  }\n",
              "\n",
              "  .colab-df-quickchart {\n",
              "    background-color: var(--bg-color);\n",
              "    border: none;\n",
              "    border-radius: 50%;\n",
              "    cursor: pointer;\n",
              "    display: none;\n",
              "    fill: var(--fill-color);\n",
              "    height: 32px;\n",
              "    padding: 0;\n",
              "    width: 32px;\n",
              "  }\n",
              "\n",
              "  .colab-df-quickchart:hover {\n",
              "    background-color: var(--hover-bg-color);\n",
              "    box-shadow: 0 1px 2px rgba(60, 64, 67, 0.3), 0 1px 3px 1px rgba(60, 64, 67, 0.15);\n",
              "    fill: var(--button-hover-fill-color);\n",
              "  }\n",
              "\n",
              "  .colab-df-quickchart-complete:disabled,\n",
              "  .colab-df-quickchart-complete:disabled:hover {\n",
              "    background-color: var(--disabled-bg-color);\n",
              "    fill: var(--disabled-fill-color);\n",
              "    box-shadow: none;\n",
              "  }\n",
              "\n",
              "  .colab-df-spinner {\n",
              "    border: 2px solid var(--fill-color);\n",
              "    border-color: transparent;\n",
              "    border-bottom-color: var(--fill-color);\n",
              "    animation:\n",
              "      spin 1s steps(1) infinite;\n",
              "  }\n",
              "\n",
              "  @keyframes spin {\n",
              "    0% {\n",
              "      border-color: transparent;\n",
              "      border-bottom-color: var(--fill-color);\n",
              "      border-left-color: var(--fill-color);\n",
              "    }\n",
              "    20% {\n",
              "      border-color: transparent;\n",
              "      border-left-color: var(--fill-color);\n",
              "      border-top-color: var(--fill-color);\n",
              "    }\n",
              "    30% {\n",
              "      border-color: transparent;\n",
              "      border-left-color: var(--fill-color);\n",
              "      border-top-color: var(--fill-color);\n",
              "      border-right-color: var(--fill-color);\n",
              "    }\n",
              "    40% {\n",
              "      border-color: transparent;\n",
              "      border-right-color: var(--fill-color);\n",
              "      border-top-color: var(--fill-color);\n",
              "    }\n",
              "    60% {\n",
              "      border-color: transparent;\n",
              "      border-right-color: var(--fill-color);\n",
              "    }\n",
              "    80% {\n",
              "      border-color: transparent;\n",
              "      border-right-color: var(--fill-color);\n",
              "      border-bottom-color: var(--fill-color);\n",
              "    }\n",
              "    90% {\n",
              "      border-color: transparent;\n",
              "      border-bottom-color: var(--fill-color);\n",
              "    }\n",
              "  }\n",
              "</style>\n",
              "\n",
              "  <script>\n",
              "    async function quickchart(key) {\n",
              "      const quickchartButtonEl =\n",
              "        document.querySelector('#' + key + ' button');\n",
              "      quickchartButtonEl.disabled = true;  // To prevent multiple clicks.\n",
              "      quickchartButtonEl.classList.add('colab-df-spinner');\n",
              "      try {\n",
              "        const charts = await google.colab.kernel.invokeFunction(\n",
              "            'suggestCharts', [key], {});\n",
              "      } catch (error) {\n",
              "        console.error('Error during call to suggestCharts:', error);\n",
              "      }\n",
              "      quickchartButtonEl.classList.remove('colab-df-spinner');\n",
              "      quickchartButtonEl.classList.add('colab-df-quickchart-complete');\n",
              "    }\n",
              "    (() => {\n",
              "      let quickchartButtonEl =\n",
              "        document.querySelector('#df-eff0401f-ed1f-4011-8de1-da08711cbfa9 button');\n",
              "      quickchartButtonEl.style.display =\n",
              "        google.colab.kernel.accessAllowed ? 'block' : 'none';\n",
              "    })();\n",
              "  </script>\n",
              "</div>\n",
              "\n",
              "    </div>\n",
              "  </div>\n"
            ],
            "application/vnd.google.colaboratory.intrinsic+json": {
              "type": "dataframe",
              "variable_name": "Strack_dataset"
            }
          },
          "metadata": {},
          "execution_count": 2
        }
      ],
      "source": [
        "Strack_dataset = pd.read_csv('/content/drive/MyDrive/Diabetes Globant Challenge/data/Strack_Diabetes.csv')\n",
        "Strack_dataset.head(2)"
      ]
    },
    {
      "cell_type": "markdown",
      "source": [
        "Primero vamos a conocer un poco más sobre la columna target **readmitted**"
      ],
      "metadata": {
        "id": "SxYAmzmlvC6F"
      }
    },
    {
      "cell_type": "code",
      "source": [
        "readmitted_freq = Strack_dataset['readmitted'].value_counts().reset_index()\n",
        "readmitted_freq.columns = ['readmitted', 'Frecuencia']\n",
        "\n",
        "fig = px.bar(readmitted_freq, x='readmitted', y='Frecuencia', title='Cantidad de readmitted', hover_data= 'Frecuencia')\n",
        "fig.show()"
      ],
      "metadata": {
        "colab": {
          "base_uri": "https://localhost:8080/",
          "height": 542
        },
        "id": "yOf5pMgYugVv",
        "outputId": "c1fdbeee-43be-4163-8535-d29fd53a0a4e"
      },
      "execution_count": 3,
      "outputs": [
        {
          "output_type": "display_data",
          "data": {
            "text/html": [
              "<html>\n",
              "<head><meta charset=\"utf-8\" /></head>\n",
              "<body>\n",
              "    <div>            <script src=\"https://cdnjs.cloudflare.com/ajax/libs/mathjax/2.7.5/MathJax.js?config=TeX-AMS-MML_SVG\"></script><script type=\"text/javascript\">if (window.MathJax && window.MathJax.Hub && window.MathJax.Hub.Config) {window.MathJax.Hub.Config({SVG: {font: \"STIX-Web\"}});}</script>                <script type=\"text/javascript\">window.PlotlyConfig = {MathJaxConfig: 'local'};</script>\n",
              "        <script charset=\"utf-8\" src=\"https://cdn.plot.ly/plotly-2.35.2.min.js\"></script>                <div id=\"c7b787a0-f3ca-462f-bdcc-600fa245ad9f\" class=\"plotly-graph-div\" style=\"height:525px; width:100%;\"></div>            <script type=\"text/javascript\">                                    window.PLOTLYENV=window.PLOTLYENV || {};                                    if (document.getElementById(\"c7b787a0-f3ca-462f-bdcc-600fa245ad9f\")) {                    Plotly.newPlot(                        \"c7b787a0-f3ca-462f-bdcc-600fa245ad9f\",                        [{\"alignmentgroup\":\"True\",\"hovertemplate\":\"readmitted=%{x}\\u003cbr\\u003eFrecuencia=%{y}\\u003cextra\\u003e\\u003c\\u002fextra\\u003e\",\"legendgroup\":\"\",\"marker\":{\"color\":\"#636efa\",\"pattern\":{\"shape\":\"\"}},\"name\":\"\",\"offsetgroup\":\"\",\"orientation\":\"v\",\"showlegend\":false,\"textposition\":\"auto\",\"x\":[\"NO\",\"\\u003e30\",\"\\u003c30\"],\"xaxis\":\"x\",\"y\":[41481,22222,6277],\"yaxis\":\"y\",\"type\":\"bar\"}],                        {\"template\":{\"data\":{\"histogram2dcontour\":[{\"type\":\"histogram2dcontour\",\"colorbar\":{\"outlinewidth\":0,\"ticks\":\"\"},\"colorscale\":[[0.0,\"#0d0887\"],[0.1111111111111111,\"#46039f\"],[0.2222222222222222,\"#7201a8\"],[0.3333333333333333,\"#9c179e\"],[0.4444444444444444,\"#bd3786\"],[0.5555555555555556,\"#d8576b\"],[0.6666666666666666,\"#ed7953\"],[0.7777777777777778,\"#fb9f3a\"],[0.8888888888888888,\"#fdca26\"],[1.0,\"#f0f921\"]]}],\"choropleth\":[{\"type\":\"choropleth\",\"colorbar\":{\"outlinewidth\":0,\"ticks\":\"\"}}],\"histogram2d\":[{\"type\":\"histogram2d\",\"colorbar\":{\"outlinewidth\":0,\"ticks\":\"\"},\"colorscale\":[[0.0,\"#0d0887\"],[0.1111111111111111,\"#46039f\"],[0.2222222222222222,\"#7201a8\"],[0.3333333333333333,\"#9c179e\"],[0.4444444444444444,\"#bd3786\"],[0.5555555555555556,\"#d8576b\"],[0.6666666666666666,\"#ed7953\"],[0.7777777777777778,\"#fb9f3a\"],[0.8888888888888888,\"#fdca26\"],[1.0,\"#f0f921\"]]}],\"heatmap\":[{\"type\":\"heatmap\",\"colorbar\":{\"outlinewidth\":0,\"ticks\":\"\"},\"colorscale\":[[0.0,\"#0d0887\"],[0.1111111111111111,\"#46039f\"],[0.2222222222222222,\"#7201a8\"],[0.3333333333333333,\"#9c179e\"],[0.4444444444444444,\"#bd3786\"],[0.5555555555555556,\"#d8576b\"],[0.6666666666666666,\"#ed7953\"],[0.7777777777777778,\"#fb9f3a\"],[0.8888888888888888,\"#fdca26\"],[1.0,\"#f0f921\"]]}],\"heatmapgl\":[{\"type\":\"heatmapgl\",\"colorbar\":{\"outlinewidth\":0,\"ticks\":\"\"},\"colorscale\":[[0.0,\"#0d0887\"],[0.1111111111111111,\"#46039f\"],[0.2222222222222222,\"#7201a8\"],[0.3333333333333333,\"#9c179e\"],[0.4444444444444444,\"#bd3786\"],[0.5555555555555556,\"#d8576b\"],[0.6666666666666666,\"#ed7953\"],[0.7777777777777778,\"#fb9f3a\"],[0.8888888888888888,\"#fdca26\"],[1.0,\"#f0f921\"]]}],\"contourcarpet\":[{\"type\":\"contourcarpet\",\"colorbar\":{\"outlinewidth\":0,\"ticks\":\"\"}}],\"contour\":[{\"type\":\"contour\",\"colorbar\":{\"outlinewidth\":0,\"ticks\":\"\"},\"colorscale\":[[0.0,\"#0d0887\"],[0.1111111111111111,\"#46039f\"],[0.2222222222222222,\"#7201a8\"],[0.3333333333333333,\"#9c179e\"],[0.4444444444444444,\"#bd3786\"],[0.5555555555555556,\"#d8576b\"],[0.6666666666666666,\"#ed7953\"],[0.7777777777777778,\"#fb9f3a\"],[0.8888888888888888,\"#fdca26\"],[1.0,\"#f0f921\"]]}],\"surface\":[{\"type\":\"surface\",\"colorbar\":{\"outlinewidth\":0,\"ticks\":\"\"},\"colorscale\":[[0.0,\"#0d0887\"],[0.1111111111111111,\"#46039f\"],[0.2222222222222222,\"#7201a8\"],[0.3333333333333333,\"#9c179e\"],[0.4444444444444444,\"#bd3786\"],[0.5555555555555556,\"#d8576b\"],[0.6666666666666666,\"#ed7953\"],[0.7777777777777778,\"#fb9f3a\"],[0.8888888888888888,\"#fdca26\"],[1.0,\"#f0f921\"]]}],\"mesh3d\":[{\"type\":\"mesh3d\",\"colorbar\":{\"outlinewidth\":0,\"ticks\":\"\"}}],\"scatter\":[{\"fillpattern\":{\"fillmode\":\"overlay\",\"size\":10,\"solidity\":0.2},\"type\":\"scatter\"}],\"parcoords\":[{\"type\":\"parcoords\",\"line\":{\"colorbar\":{\"outlinewidth\":0,\"ticks\":\"\"}}}],\"scatterpolargl\":[{\"type\":\"scatterpolargl\",\"marker\":{\"colorbar\":{\"outlinewidth\":0,\"ticks\":\"\"}}}],\"bar\":[{\"error_x\":{\"color\":\"#2a3f5f\"},\"error_y\":{\"color\":\"#2a3f5f\"},\"marker\":{\"line\":{\"color\":\"#E5ECF6\",\"width\":0.5},\"pattern\":{\"fillmode\":\"overlay\",\"size\":10,\"solidity\":0.2}},\"type\":\"bar\"}],\"scattergeo\":[{\"type\":\"scattergeo\",\"marker\":{\"colorbar\":{\"outlinewidth\":0,\"ticks\":\"\"}}}],\"scatterpolar\":[{\"type\":\"scatterpolar\",\"marker\":{\"colorbar\":{\"outlinewidth\":0,\"ticks\":\"\"}}}],\"histogram\":[{\"marker\":{\"pattern\":{\"fillmode\":\"overlay\",\"size\":10,\"solidity\":0.2}},\"type\":\"histogram\"}],\"scattergl\":[{\"type\":\"scattergl\",\"marker\":{\"colorbar\":{\"outlinewidth\":0,\"ticks\":\"\"}}}],\"scatter3d\":[{\"type\":\"scatter3d\",\"line\":{\"colorbar\":{\"outlinewidth\":0,\"ticks\":\"\"}},\"marker\":{\"colorbar\":{\"outlinewidth\":0,\"ticks\":\"\"}}}],\"scattermapbox\":[{\"type\":\"scattermapbox\",\"marker\":{\"colorbar\":{\"outlinewidth\":0,\"ticks\":\"\"}}}],\"scatterternary\":[{\"type\":\"scatterternary\",\"marker\":{\"colorbar\":{\"outlinewidth\":0,\"ticks\":\"\"}}}],\"scattercarpet\":[{\"type\":\"scattercarpet\",\"marker\":{\"colorbar\":{\"outlinewidth\":0,\"ticks\":\"\"}}}],\"carpet\":[{\"aaxis\":{\"endlinecolor\":\"#2a3f5f\",\"gridcolor\":\"white\",\"linecolor\":\"white\",\"minorgridcolor\":\"white\",\"startlinecolor\":\"#2a3f5f\"},\"baxis\":{\"endlinecolor\":\"#2a3f5f\",\"gridcolor\":\"white\",\"linecolor\":\"white\",\"minorgridcolor\":\"white\",\"startlinecolor\":\"#2a3f5f\"},\"type\":\"carpet\"}],\"table\":[{\"cells\":{\"fill\":{\"color\":\"#EBF0F8\"},\"line\":{\"color\":\"white\"}},\"header\":{\"fill\":{\"color\":\"#C8D4E3\"},\"line\":{\"color\":\"white\"}},\"type\":\"table\"}],\"barpolar\":[{\"marker\":{\"line\":{\"color\":\"#E5ECF6\",\"width\":0.5},\"pattern\":{\"fillmode\":\"overlay\",\"size\":10,\"solidity\":0.2}},\"type\":\"barpolar\"}],\"pie\":[{\"automargin\":true,\"type\":\"pie\"}]},\"layout\":{\"autotypenumbers\":\"strict\",\"colorway\":[\"#636efa\",\"#EF553B\",\"#00cc96\",\"#ab63fa\",\"#FFA15A\",\"#19d3f3\",\"#FF6692\",\"#B6E880\",\"#FF97FF\",\"#FECB52\"],\"font\":{\"color\":\"#2a3f5f\"},\"hovermode\":\"closest\",\"hoverlabel\":{\"align\":\"left\"},\"paper_bgcolor\":\"white\",\"plot_bgcolor\":\"#E5ECF6\",\"polar\":{\"bgcolor\":\"#E5ECF6\",\"angularaxis\":{\"gridcolor\":\"white\",\"linecolor\":\"white\",\"ticks\":\"\"},\"radialaxis\":{\"gridcolor\":\"white\",\"linecolor\":\"white\",\"ticks\":\"\"}},\"ternary\":{\"bgcolor\":\"#E5ECF6\",\"aaxis\":{\"gridcolor\":\"white\",\"linecolor\":\"white\",\"ticks\":\"\"},\"baxis\":{\"gridcolor\":\"white\",\"linecolor\":\"white\",\"ticks\":\"\"},\"caxis\":{\"gridcolor\":\"white\",\"linecolor\":\"white\",\"ticks\":\"\"}},\"coloraxis\":{\"colorbar\":{\"outlinewidth\":0,\"ticks\":\"\"}},\"colorscale\":{\"sequential\":[[0.0,\"#0d0887\"],[0.1111111111111111,\"#46039f\"],[0.2222222222222222,\"#7201a8\"],[0.3333333333333333,\"#9c179e\"],[0.4444444444444444,\"#bd3786\"],[0.5555555555555556,\"#d8576b\"],[0.6666666666666666,\"#ed7953\"],[0.7777777777777778,\"#fb9f3a\"],[0.8888888888888888,\"#fdca26\"],[1.0,\"#f0f921\"]],\"sequentialminus\":[[0.0,\"#0d0887\"],[0.1111111111111111,\"#46039f\"],[0.2222222222222222,\"#7201a8\"],[0.3333333333333333,\"#9c179e\"],[0.4444444444444444,\"#bd3786\"],[0.5555555555555556,\"#d8576b\"],[0.6666666666666666,\"#ed7953\"],[0.7777777777777778,\"#fb9f3a\"],[0.8888888888888888,\"#fdca26\"],[1.0,\"#f0f921\"]],\"diverging\":[[0,\"#8e0152\"],[0.1,\"#c51b7d\"],[0.2,\"#de77ae\"],[0.3,\"#f1b6da\"],[0.4,\"#fde0ef\"],[0.5,\"#f7f7f7\"],[0.6,\"#e6f5d0\"],[0.7,\"#b8e186\"],[0.8,\"#7fbc41\"],[0.9,\"#4d9221\"],[1,\"#276419\"]]},\"xaxis\":{\"gridcolor\":\"white\",\"linecolor\":\"white\",\"ticks\":\"\",\"title\":{\"standoff\":15},\"zerolinecolor\":\"white\",\"automargin\":true,\"zerolinewidth\":2},\"yaxis\":{\"gridcolor\":\"white\",\"linecolor\":\"white\",\"ticks\":\"\",\"title\":{\"standoff\":15},\"zerolinecolor\":\"white\",\"automargin\":true,\"zerolinewidth\":2},\"scene\":{\"xaxis\":{\"backgroundcolor\":\"#E5ECF6\",\"gridcolor\":\"white\",\"linecolor\":\"white\",\"showbackground\":true,\"ticks\":\"\",\"zerolinecolor\":\"white\",\"gridwidth\":2},\"yaxis\":{\"backgroundcolor\":\"#E5ECF6\",\"gridcolor\":\"white\",\"linecolor\":\"white\",\"showbackground\":true,\"ticks\":\"\",\"zerolinecolor\":\"white\",\"gridwidth\":2},\"zaxis\":{\"backgroundcolor\":\"#E5ECF6\",\"gridcolor\":\"white\",\"linecolor\":\"white\",\"showbackground\":true,\"ticks\":\"\",\"zerolinecolor\":\"white\",\"gridwidth\":2}},\"shapedefaults\":{\"line\":{\"color\":\"#2a3f5f\"}},\"annotationdefaults\":{\"arrowcolor\":\"#2a3f5f\",\"arrowhead\":0,\"arrowwidth\":1},\"geo\":{\"bgcolor\":\"white\",\"landcolor\":\"#E5ECF6\",\"subunitcolor\":\"white\",\"showland\":true,\"showlakes\":true,\"lakecolor\":\"white\"},\"title\":{\"x\":0.05},\"mapbox\":{\"style\":\"light\"}}},\"xaxis\":{\"anchor\":\"y\",\"domain\":[0.0,1.0],\"title\":{\"text\":\"readmitted\"}},\"yaxis\":{\"anchor\":\"x\",\"domain\":[0.0,1.0],\"title\":{\"text\":\"Frecuencia\"}},\"legend\":{\"tracegroupgap\":0},\"title\":{\"text\":\"Cantidad de readmitted\"},\"barmode\":\"relative\"},                        {\"responsive\": true}                    ).then(function(){\n",
              "                            \n",
              "var gd = document.getElementById('c7b787a0-f3ca-462f-bdcc-600fa245ad9f');\n",
              "var x = new MutationObserver(function (mutations, observer) {{\n",
              "        var display = window.getComputedStyle(gd).display;\n",
              "        if (!display || display === 'none') {{\n",
              "            console.log([gd, 'removed!']);\n",
              "            Plotly.purge(gd);\n",
              "            observer.disconnect();\n",
              "        }}\n",
              "}});\n",
              "\n",
              "// Listen for the removal of the full notebook cells\n",
              "var notebookContainer = gd.closest('#notebook-container');\n",
              "if (notebookContainer) {{\n",
              "    x.observe(notebookContainer, {childList: true});\n",
              "}}\n",
              "\n",
              "// Listen for the clearing of the current output cell\n",
              "var outputEl = gd.closest('.output');\n",
              "if (outputEl) {{\n",
              "    x.observe(outputEl, {childList: true});\n",
              "}}\n",
              "\n",
              "                        })                };                            </script>        </div>\n",
              "</body>\n",
              "</html>"
            ]
          },
          "metadata": {}
        }
      ]
    },
    {
      "cell_type": "markdown",
      "source": [
        "Con la gráfica anterior observamos que:\n",
        "\n",
        "\n",
        "*   El 60% de la data tiene como label **NO**\n",
        "*   El 30% de los pacientes fueron reingresados en un periodo mayor a 30\n",
        "*   El 10% de los pacientes fueron reingresados en un periodo menor a 30\n",
        "\n",
        "Strack en su articulo decide unificar los pacientes reingresados. Por efectos de comparación se evaluará y analizará la relación entre los features con el target de la forma original y de la forma propuesta por Strack\n",
        "\n"
      ],
      "metadata": {
        "id": "TAy9Ij1IxDFJ"
      }
    },
    {
      "cell_type": "markdown",
      "source": [
        "### HbA1c"
      ],
      "metadata": {
        "id": "nQfcUaibxwHd"
      }
    },
    {
      "cell_type": "markdown",
      "source": [
        "En esta sección vamos a explorar el efecto de la prueba del HbA1c que se ve reflejada en la columna **A1Cresult**. Vamos a comenzar con esta columna ya que es la columna que en trabajos previos se identifica como más importante.\n",
        "\n",
        "Es importante aclarar que Strack, et al. concluyen que la importancia es realizar el test, no los resultados por lo que exploraremos ambas situaciones"
      ],
      "metadata": {
        "id": "nc-GAc1QyI0c"
      }
    },
    {
      "cell_type": "code",
      "source": [
        "A1C_freq = Strack_dataset.groupby(['A1Cresult'])['readmitted'].value_counts().reset_index()\n",
        "fig = px.histogram(A1C_freq, x=\"readmitted\", y=\"count\",\n",
        "                   color='A1Cresult', barmode='group', height=400)\n",
        "fig.show()"
      ],
      "metadata": {
        "colab": {
          "base_uri": "https://localhost:8080/",
          "height": 417
        },
        "id": "9sx7MBfzv9K3",
        "outputId": "f0b7d7a8-1054-4ea6-de08-e74f0078bf88"
      },
      "execution_count": 4,
      "outputs": [
        {
          "output_type": "display_data",
          "data": {
            "text/html": [
              "<html>\n",
              "<head><meta charset=\"utf-8\" /></head>\n",
              "<body>\n",
              "    <div>            <script src=\"https://cdnjs.cloudflare.com/ajax/libs/mathjax/2.7.5/MathJax.js?config=TeX-AMS-MML_SVG\"></script><script type=\"text/javascript\">if (window.MathJax && window.MathJax.Hub && window.MathJax.Hub.Config) {window.MathJax.Hub.Config({SVG: {font: \"STIX-Web\"}});}</script>                <script type=\"text/javascript\">window.PlotlyConfig = {MathJaxConfig: 'local'};</script>\n",
              "        <script charset=\"utf-8\" src=\"https://cdn.plot.ly/plotly-2.35.2.min.js\"></script>                <div id=\"444665f8-3c73-4046-893a-c00e75697696\" class=\"plotly-graph-div\" style=\"height:400px; width:100%;\"></div>            <script type=\"text/javascript\">                                    window.PLOTLYENV=window.PLOTLYENV || {};                                    if (document.getElementById(\"444665f8-3c73-4046-893a-c00e75697696\")) {                    Plotly.newPlot(                        \"444665f8-3c73-4046-893a-c00e75697696\",                        [{\"alignmentgroup\":\"True\",\"bingroup\":\"x\",\"histfunc\":\"sum\",\"hovertemplate\":\"A1Cresult=\\u003e7\\u003cbr\\u003ereadmitted=%{x}\\u003cbr\\u003esum of count=%{y}\\u003cextra\\u003e\\u003c\\u002fextra\\u003e\",\"legendgroup\":\"\\u003e7\",\"marker\":{\"color\":\"#636efa\",\"pattern\":{\"shape\":\"\"}},\"name\":\"\\u003e7\",\"offsetgroup\":\"\\u003e7\",\"orientation\":\"v\",\"showlegend\":true,\"x\":[\"NO\",\"\\u003e30\",\"\\u003c30\"],\"xaxis\":\"x\",\"y\":[1757,862,246],\"yaxis\":\"y\",\"type\":\"histogram\"},{\"alignmentgroup\":\"True\",\"bingroup\":\"x\",\"histfunc\":\"sum\",\"hovertemplate\":\"A1Cresult=\\u003e8\\u003cbr\\u003ereadmitted=%{x}\\u003cbr\\u003esum of count=%{y}\\u003cextra\\u003e\\u003c\\u002fextra\\u003e\",\"legendgroup\":\"\\u003e8\",\"marker\":{\"color\":\"#EF553B\",\"pattern\":{\"shape\":\"\"}},\"name\":\"\\u003e8\",\"offsetgroup\":\"\\u003e8\",\"orientation\":\"v\",\"showlegend\":true,\"x\":[\"NO\",\"\\u003e30\",\"\\u003c30\"],\"xaxis\":\"x\",\"y\":[3770,1960,509],\"yaxis\":\"y\",\"type\":\"histogram\"},{\"alignmentgroup\":\"True\",\"bingroup\":\"x\",\"histfunc\":\"sum\",\"hovertemplate\":\"A1Cresult=Norm\\u003cbr\\u003ereadmitted=%{x}\\u003cbr\\u003esum of count=%{y}\\u003cextra\\u003e\\u003c\\u002fextra\\u003e\",\"legendgroup\":\"Norm\",\"marker\":{\"color\":\"#00cc96\",\"pattern\":{\"shape\":\"\"}},\"name\":\"Norm\",\"offsetgroup\":\"Norm\",\"orientation\":\"v\",\"showlegend\":true,\"x\":[\"NO\",\"\\u003e30\",\"\\u003c30\"],\"xaxis\":\"x\",\"y\":[2380,1039,323],\"yaxis\":\"y\",\"type\":\"histogram\"},{\"alignmentgroup\":\"True\",\"bingroup\":\"x\",\"histfunc\":\"sum\",\"hovertemplate\":\"A1Cresult=none\\u003cbr\\u003ereadmitted=%{x}\\u003cbr\\u003esum of count=%{y}\\u003cextra\\u003e\\u003c\\u002fextra\\u003e\",\"legendgroup\":\"none\",\"marker\":{\"color\":\"#ab63fa\",\"pattern\":{\"shape\":\"\"}},\"name\":\"none\",\"offsetgroup\":\"none\",\"orientation\":\"v\",\"showlegend\":true,\"x\":[\"NO\",\"\\u003e30\",\"\\u003c30\"],\"xaxis\":\"x\",\"y\":[33574,18361,5199],\"yaxis\":\"y\",\"type\":\"histogram\"}],                        {\"template\":{\"data\":{\"histogram2dcontour\":[{\"type\":\"histogram2dcontour\",\"colorbar\":{\"outlinewidth\":0,\"ticks\":\"\"},\"colorscale\":[[0.0,\"#0d0887\"],[0.1111111111111111,\"#46039f\"],[0.2222222222222222,\"#7201a8\"],[0.3333333333333333,\"#9c179e\"],[0.4444444444444444,\"#bd3786\"],[0.5555555555555556,\"#d8576b\"],[0.6666666666666666,\"#ed7953\"],[0.7777777777777778,\"#fb9f3a\"],[0.8888888888888888,\"#fdca26\"],[1.0,\"#f0f921\"]]}],\"choropleth\":[{\"type\":\"choropleth\",\"colorbar\":{\"outlinewidth\":0,\"ticks\":\"\"}}],\"histogram2d\":[{\"type\":\"histogram2d\",\"colorbar\":{\"outlinewidth\":0,\"ticks\":\"\"},\"colorscale\":[[0.0,\"#0d0887\"],[0.1111111111111111,\"#46039f\"],[0.2222222222222222,\"#7201a8\"],[0.3333333333333333,\"#9c179e\"],[0.4444444444444444,\"#bd3786\"],[0.5555555555555556,\"#d8576b\"],[0.6666666666666666,\"#ed7953\"],[0.7777777777777778,\"#fb9f3a\"],[0.8888888888888888,\"#fdca26\"],[1.0,\"#f0f921\"]]}],\"heatmap\":[{\"type\":\"heatmap\",\"colorbar\":{\"outlinewidth\":0,\"ticks\":\"\"},\"colorscale\":[[0.0,\"#0d0887\"],[0.1111111111111111,\"#46039f\"],[0.2222222222222222,\"#7201a8\"],[0.3333333333333333,\"#9c179e\"],[0.4444444444444444,\"#bd3786\"],[0.5555555555555556,\"#d8576b\"],[0.6666666666666666,\"#ed7953\"],[0.7777777777777778,\"#fb9f3a\"],[0.8888888888888888,\"#fdca26\"],[1.0,\"#f0f921\"]]}],\"heatmapgl\":[{\"type\":\"heatmapgl\",\"colorbar\":{\"outlinewidth\":0,\"ticks\":\"\"},\"colorscale\":[[0.0,\"#0d0887\"],[0.1111111111111111,\"#46039f\"],[0.2222222222222222,\"#7201a8\"],[0.3333333333333333,\"#9c179e\"],[0.4444444444444444,\"#bd3786\"],[0.5555555555555556,\"#d8576b\"],[0.6666666666666666,\"#ed7953\"],[0.7777777777777778,\"#fb9f3a\"],[0.8888888888888888,\"#fdca26\"],[1.0,\"#f0f921\"]]}],\"contourcarpet\":[{\"type\":\"contourcarpet\",\"colorbar\":{\"outlinewidth\":0,\"ticks\":\"\"}}],\"contour\":[{\"type\":\"contour\",\"colorbar\":{\"outlinewidth\":0,\"ticks\":\"\"},\"colorscale\":[[0.0,\"#0d0887\"],[0.1111111111111111,\"#46039f\"],[0.2222222222222222,\"#7201a8\"],[0.3333333333333333,\"#9c179e\"],[0.4444444444444444,\"#bd3786\"],[0.5555555555555556,\"#d8576b\"],[0.6666666666666666,\"#ed7953\"],[0.7777777777777778,\"#fb9f3a\"],[0.8888888888888888,\"#fdca26\"],[1.0,\"#f0f921\"]]}],\"surface\":[{\"type\":\"surface\",\"colorbar\":{\"outlinewidth\":0,\"ticks\":\"\"},\"colorscale\":[[0.0,\"#0d0887\"],[0.1111111111111111,\"#46039f\"],[0.2222222222222222,\"#7201a8\"],[0.3333333333333333,\"#9c179e\"],[0.4444444444444444,\"#bd3786\"],[0.5555555555555556,\"#d8576b\"],[0.6666666666666666,\"#ed7953\"],[0.7777777777777778,\"#fb9f3a\"],[0.8888888888888888,\"#fdca26\"],[1.0,\"#f0f921\"]]}],\"mesh3d\":[{\"type\":\"mesh3d\",\"colorbar\":{\"outlinewidth\":0,\"ticks\":\"\"}}],\"scatter\":[{\"fillpattern\":{\"fillmode\":\"overlay\",\"size\":10,\"solidity\":0.2},\"type\":\"scatter\"}],\"parcoords\":[{\"type\":\"parcoords\",\"line\":{\"colorbar\":{\"outlinewidth\":0,\"ticks\":\"\"}}}],\"scatterpolargl\":[{\"type\":\"scatterpolargl\",\"marker\":{\"colorbar\":{\"outlinewidth\":0,\"ticks\":\"\"}}}],\"bar\":[{\"error_x\":{\"color\":\"#2a3f5f\"},\"error_y\":{\"color\":\"#2a3f5f\"},\"marker\":{\"line\":{\"color\":\"#E5ECF6\",\"width\":0.5},\"pattern\":{\"fillmode\":\"overlay\",\"size\":10,\"solidity\":0.2}},\"type\":\"bar\"}],\"scattergeo\":[{\"type\":\"scattergeo\",\"marker\":{\"colorbar\":{\"outlinewidth\":0,\"ticks\":\"\"}}}],\"scatterpolar\":[{\"type\":\"scatterpolar\",\"marker\":{\"colorbar\":{\"outlinewidth\":0,\"ticks\":\"\"}}}],\"histogram\":[{\"marker\":{\"pattern\":{\"fillmode\":\"overlay\",\"size\":10,\"solidity\":0.2}},\"type\":\"histogram\"}],\"scattergl\":[{\"type\":\"scattergl\",\"marker\":{\"colorbar\":{\"outlinewidth\":0,\"ticks\":\"\"}}}],\"scatter3d\":[{\"type\":\"scatter3d\",\"line\":{\"colorbar\":{\"outlinewidth\":0,\"ticks\":\"\"}},\"marker\":{\"colorbar\":{\"outlinewidth\":0,\"ticks\":\"\"}}}],\"scattermapbox\":[{\"type\":\"scattermapbox\",\"marker\":{\"colorbar\":{\"outlinewidth\":0,\"ticks\":\"\"}}}],\"scatterternary\":[{\"type\":\"scatterternary\",\"marker\":{\"colorbar\":{\"outlinewidth\":0,\"ticks\":\"\"}}}],\"scattercarpet\":[{\"type\":\"scattercarpet\",\"marker\":{\"colorbar\":{\"outlinewidth\":0,\"ticks\":\"\"}}}],\"carpet\":[{\"aaxis\":{\"endlinecolor\":\"#2a3f5f\",\"gridcolor\":\"white\",\"linecolor\":\"white\",\"minorgridcolor\":\"white\",\"startlinecolor\":\"#2a3f5f\"},\"baxis\":{\"endlinecolor\":\"#2a3f5f\",\"gridcolor\":\"white\",\"linecolor\":\"white\",\"minorgridcolor\":\"white\",\"startlinecolor\":\"#2a3f5f\"},\"type\":\"carpet\"}],\"table\":[{\"cells\":{\"fill\":{\"color\":\"#EBF0F8\"},\"line\":{\"color\":\"white\"}},\"header\":{\"fill\":{\"color\":\"#C8D4E3\"},\"line\":{\"color\":\"white\"}},\"type\":\"table\"}],\"barpolar\":[{\"marker\":{\"line\":{\"color\":\"#E5ECF6\",\"width\":0.5},\"pattern\":{\"fillmode\":\"overlay\",\"size\":10,\"solidity\":0.2}},\"type\":\"barpolar\"}],\"pie\":[{\"automargin\":true,\"type\":\"pie\"}]},\"layout\":{\"autotypenumbers\":\"strict\",\"colorway\":[\"#636efa\",\"#EF553B\",\"#00cc96\",\"#ab63fa\",\"#FFA15A\",\"#19d3f3\",\"#FF6692\",\"#B6E880\",\"#FF97FF\",\"#FECB52\"],\"font\":{\"color\":\"#2a3f5f\"},\"hovermode\":\"closest\",\"hoverlabel\":{\"align\":\"left\"},\"paper_bgcolor\":\"white\",\"plot_bgcolor\":\"#E5ECF6\",\"polar\":{\"bgcolor\":\"#E5ECF6\",\"angularaxis\":{\"gridcolor\":\"white\",\"linecolor\":\"white\",\"ticks\":\"\"},\"radialaxis\":{\"gridcolor\":\"white\",\"linecolor\":\"white\",\"ticks\":\"\"}},\"ternary\":{\"bgcolor\":\"#E5ECF6\",\"aaxis\":{\"gridcolor\":\"white\",\"linecolor\":\"white\",\"ticks\":\"\"},\"baxis\":{\"gridcolor\":\"white\",\"linecolor\":\"white\",\"ticks\":\"\"},\"caxis\":{\"gridcolor\":\"white\",\"linecolor\":\"white\",\"ticks\":\"\"}},\"coloraxis\":{\"colorbar\":{\"outlinewidth\":0,\"ticks\":\"\"}},\"colorscale\":{\"sequential\":[[0.0,\"#0d0887\"],[0.1111111111111111,\"#46039f\"],[0.2222222222222222,\"#7201a8\"],[0.3333333333333333,\"#9c179e\"],[0.4444444444444444,\"#bd3786\"],[0.5555555555555556,\"#d8576b\"],[0.6666666666666666,\"#ed7953\"],[0.7777777777777778,\"#fb9f3a\"],[0.8888888888888888,\"#fdca26\"],[1.0,\"#f0f921\"]],\"sequentialminus\":[[0.0,\"#0d0887\"],[0.1111111111111111,\"#46039f\"],[0.2222222222222222,\"#7201a8\"],[0.3333333333333333,\"#9c179e\"],[0.4444444444444444,\"#bd3786\"],[0.5555555555555556,\"#d8576b\"],[0.6666666666666666,\"#ed7953\"],[0.7777777777777778,\"#fb9f3a\"],[0.8888888888888888,\"#fdca26\"],[1.0,\"#f0f921\"]],\"diverging\":[[0,\"#8e0152\"],[0.1,\"#c51b7d\"],[0.2,\"#de77ae\"],[0.3,\"#f1b6da\"],[0.4,\"#fde0ef\"],[0.5,\"#f7f7f7\"],[0.6,\"#e6f5d0\"],[0.7,\"#b8e186\"],[0.8,\"#7fbc41\"],[0.9,\"#4d9221\"],[1,\"#276419\"]]},\"xaxis\":{\"gridcolor\":\"white\",\"linecolor\":\"white\",\"ticks\":\"\",\"title\":{\"standoff\":15},\"zerolinecolor\":\"white\",\"automargin\":true,\"zerolinewidth\":2},\"yaxis\":{\"gridcolor\":\"white\",\"linecolor\":\"white\",\"ticks\":\"\",\"title\":{\"standoff\":15},\"zerolinecolor\":\"white\",\"automargin\":true,\"zerolinewidth\":2},\"scene\":{\"xaxis\":{\"backgroundcolor\":\"#E5ECF6\",\"gridcolor\":\"white\",\"linecolor\":\"white\",\"showbackground\":true,\"ticks\":\"\",\"zerolinecolor\":\"white\",\"gridwidth\":2},\"yaxis\":{\"backgroundcolor\":\"#E5ECF6\",\"gridcolor\":\"white\",\"linecolor\":\"white\",\"showbackground\":true,\"ticks\":\"\",\"zerolinecolor\":\"white\",\"gridwidth\":2},\"zaxis\":{\"backgroundcolor\":\"#E5ECF6\",\"gridcolor\":\"white\",\"linecolor\":\"white\",\"showbackground\":true,\"ticks\":\"\",\"zerolinecolor\":\"white\",\"gridwidth\":2}},\"shapedefaults\":{\"line\":{\"color\":\"#2a3f5f\"}},\"annotationdefaults\":{\"arrowcolor\":\"#2a3f5f\",\"arrowhead\":0,\"arrowwidth\":1},\"geo\":{\"bgcolor\":\"white\",\"landcolor\":\"#E5ECF6\",\"subunitcolor\":\"white\",\"showland\":true,\"showlakes\":true,\"lakecolor\":\"white\"},\"title\":{\"x\":0.05},\"mapbox\":{\"style\":\"light\"}}},\"xaxis\":{\"anchor\":\"y\",\"domain\":[0.0,1.0],\"title\":{\"text\":\"readmitted\"}},\"yaxis\":{\"anchor\":\"x\",\"domain\":[0.0,1.0],\"title\":{\"text\":\"sum of count\"}},\"legend\":{\"title\":{\"text\":\"A1Cresult\"},\"tracegroupgap\":0},\"margin\":{\"t\":60},\"barmode\":\"group\",\"height\":400},                        {\"responsive\": true}                    ).then(function(){\n",
              "                            \n",
              "var gd = document.getElementById('444665f8-3c73-4046-893a-c00e75697696');\n",
              "var x = new MutationObserver(function (mutations, observer) {{\n",
              "        var display = window.getComputedStyle(gd).display;\n",
              "        if (!display || display === 'none') {{\n",
              "            console.log([gd, 'removed!']);\n",
              "            Plotly.purge(gd);\n",
              "            observer.disconnect();\n",
              "        }}\n",
              "}});\n",
              "\n",
              "// Listen for the removal of the full notebook cells\n",
              "var notebookContainer = gd.closest('#notebook-container');\n",
              "if (notebookContainer) {{\n",
              "    x.observe(notebookContainer, {childList: true});\n",
              "}}\n",
              "\n",
              "// Listen for the clearing of the current output cell\n",
              "var outputEl = gd.closest('.output');\n",
              "if (outputEl) {{\n",
              "    x.observe(outputEl, {childList: true});\n",
              "}}\n",
              "\n",
              "                        })                };                            </script>        </div>\n",
              "</body>\n",
              "</html>"
            ]
          },
          "metadata": {}
        }
      ]
    },
    {
      "cell_type": "markdown",
      "source": [
        "De esta gráfica podemos concluir que al igual que menciona Strack solo se le hace prueba al 18% de los pacientes que ingresan. En los 3 escenarios la cantidad de gente que no le hicieron la prueba es del 80 al 82% para cada caso de readmision.\n",
        "\n",
        "En los 3 escenarios se observa la misma distribución de los resultados del A1C.\n",
        "Si los resultados de Strack son correctos, deberiamos encontrar alguna variable adicional que nos permita diferenciar los casos en los que se hizo la prueba y el paciente fue readmitido o no. Para esto vamos a explorar la prueba HbA1c junto con las siguientes columnas:\n",
        "\n",
        "\n",
        "\n",
        "*   **diabetesMed**: Con el fin de ver si la medicación previa tiene efecto en el resultado del examen\n",
        "*   **change**: Con el fin de ver si hubo un cambio de medicación cuando los resultados no fueron normales que eviten el reingreso. Tambien se va a mirar si hubo cambio de medicación cuando los resultados fueron normales que llevaran a un reingreso.\n",
        "*   **diag_1**: Con el fin de ver cual fue el primer diagnostico, según el resultado de la prueba.\n",
        "*   **medical_specialty**: Con el fin de ver si la especialidad del medico que atiende a la persona tiene influencia\n",
        "*   **admission_type_id**: Con el fin de ver si hay relación entre el tipo de ingreso, el examen y un posible reingreso\n",
        "*   **age**: Con el fin de determinar si hay relación entre los resultados del examen y la edad. Las otras variables demograficas como genero y raza serán explorados en un futuro pero por ahora a priori no se consideran."
      ],
      "metadata": {
        "id": "QB57gXgC1gWI"
      }
    },
    {
      "cell_type": "markdown",
      "source": [
        "#### diabetesMed"
      ],
      "metadata": {
        "id": "1VVG7BI36iM9"
      }
    },
    {
      "cell_type": "markdown",
      "source": [
        "La prueba de hemoglobina glicosilada (HbA1c) es un examen de sangre para la diabetes tipo 2 y prediabetes. Mide el nivel promedio de glucosa o azúcar en la sangre durante los últimos tres meses. (*https://effectivehealthcare.ahrq.gov/health-topics/prueba-de-hemoglobina-glicosilada-hba1c*)\n",
        "\n",
        "Basados en la definición de la prueba de HbA1c mi pensamiento inicial es suponer que si la persona se encuentra tomando el medicamento para la diabetes el resultado debería ser normal"
      ],
      "metadata": {
        "id": "k7w26RQL6_tL"
      }
    },
    {
      "cell_type": "code",
      "source": [
        "diabetesMed_A1c = Strack_dataset.groupby(['diabetesMed'])['A1Cresult'].value_counts().reset_index()\n",
        "diabetesMed_A1c = diabetesMed_A1c.sort_values(by=['A1Cresult'])\n",
        "fig = px.histogram(diabetesMed_A1c, x=\"diabetesMed\", y=\"count\",\n",
        "                   color='A1Cresult', barmode='group')\n",
        "fig.show()"
      ],
      "metadata": {
        "colab": {
          "base_uri": "https://localhost:8080/",
          "height": 542
        },
        "id": "8MUYgZUpy81X",
        "outputId": "98bfd747-bdb6-49b4-a8f3-4dd05ebdd65b"
      },
      "execution_count": 5,
      "outputs": [
        {
          "output_type": "display_data",
          "data": {
            "text/html": [
              "<html>\n",
              "<head><meta charset=\"utf-8\" /></head>\n",
              "<body>\n",
              "    <div>            <script src=\"https://cdnjs.cloudflare.com/ajax/libs/mathjax/2.7.5/MathJax.js?config=TeX-AMS-MML_SVG\"></script><script type=\"text/javascript\">if (window.MathJax && window.MathJax.Hub && window.MathJax.Hub.Config) {window.MathJax.Hub.Config({SVG: {font: \"STIX-Web\"}});}</script>                <script type=\"text/javascript\">window.PlotlyConfig = {MathJaxConfig: 'local'};</script>\n",
              "        <script charset=\"utf-8\" src=\"https://cdn.plot.ly/plotly-2.35.2.min.js\"></script>                <div id=\"129c14e6-8265-41f0-8d90-7344c5d324a3\" class=\"plotly-graph-div\" style=\"height:525px; width:100%;\"></div>            <script type=\"text/javascript\">                                    window.PLOTLYENV=window.PLOTLYENV || {};                                    if (document.getElementById(\"129c14e6-8265-41f0-8d90-7344c5d324a3\")) {                    Plotly.newPlot(                        \"129c14e6-8265-41f0-8d90-7344c5d324a3\",                        [{\"alignmentgroup\":\"True\",\"bingroup\":\"x\",\"histfunc\":\"sum\",\"hovertemplate\":\"A1Cresult=\\u003e7\\u003cbr\\u003ediabetesMed=%{x}\\u003cbr\\u003esum of count=%{y}\\u003cextra\\u003e\\u003c\\u002fextra\\u003e\",\"legendgroup\":\"\\u003e7\",\"marker\":{\"color\":\"#636efa\",\"pattern\":{\"shape\":\"\"}},\"name\":\"\\u003e7\",\"offsetgroup\":\"\\u003e7\",\"orientation\":\"v\",\"showlegend\":true,\"x\":[\"No\",\"Yes\"],\"xaxis\":\"x\",\"y\":[587,2278],\"yaxis\":\"y\",\"type\":\"histogram\"},{\"alignmentgroup\":\"True\",\"bingroup\":\"x\",\"histfunc\":\"sum\",\"hovertemplate\":\"A1Cresult=\\u003e8\\u003cbr\\u003ediabetesMed=%{x}\\u003cbr\\u003esum of count=%{y}\\u003cextra\\u003e\\u003c\\u002fextra\\u003e\",\"legendgroup\":\"\\u003e8\",\"marker\":{\"color\":\"#EF553B\",\"pattern\":{\"shape\":\"\"}},\"name\":\"\\u003e8\",\"offsetgroup\":\"\\u003e8\",\"orientation\":\"v\",\"showlegend\":true,\"x\":[\"No\",\"Yes\"],\"xaxis\":\"x\",\"y\":[601,5638],\"yaxis\":\"y\",\"type\":\"histogram\"},{\"alignmentgroup\":\"True\",\"bingroup\":\"x\",\"histfunc\":\"sum\",\"hovertemplate\":\"A1Cresult=Norm\\u003cbr\\u003ediabetesMed=%{x}\\u003cbr\\u003esum of count=%{y}\\u003cextra\\u003e\\u003c\\u002fextra\\u003e\",\"legendgroup\":\"Norm\",\"marker\":{\"color\":\"#00cc96\",\"pattern\":{\"shape\":\"\"}},\"name\":\"Norm\",\"offsetgroup\":\"Norm\",\"orientation\":\"v\",\"showlegend\":true,\"x\":[\"No\",\"Yes\"],\"xaxis\":\"x\",\"y\":[1004,2738],\"yaxis\":\"y\",\"type\":\"histogram\"},{\"alignmentgroup\":\"True\",\"bingroup\":\"x\",\"histfunc\":\"sum\",\"hovertemplate\":\"A1Cresult=none\\u003cbr\\u003ediabetesMed=%{x}\\u003cbr\\u003esum of count=%{y}\\u003cextra\\u003e\\u003c\\u002fextra\\u003e\",\"legendgroup\":\"none\",\"marker\":{\"color\":\"#ab63fa\",\"pattern\":{\"shape\":\"\"}},\"name\":\"none\",\"offsetgroup\":\"none\",\"orientation\":\"v\",\"showlegend\":true,\"x\":[\"No\",\"Yes\"],\"xaxis\":\"x\",\"y\":[14492,42642],\"yaxis\":\"y\",\"type\":\"histogram\"}],                        {\"template\":{\"data\":{\"histogram2dcontour\":[{\"type\":\"histogram2dcontour\",\"colorbar\":{\"outlinewidth\":0,\"ticks\":\"\"},\"colorscale\":[[0.0,\"#0d0887\"],[0.1111111111111111,\"#46039f\"],[0.2222222222222222,\"#7201a8\"],[0.3333333333333333,\"#9c179e\"],[0.4444444444444444,\"#bd3786\"],[0.5555555555555556,\"#d8576b\"],[0.6666666666666666,\"#ed7953\"],[0.7777777777777778,\"#fb9f3a\"],[0.8888888888888888,\"#fdca26\"],[1.0,\"#f0f921\"]]}],\"choropleth\":[{\"type\":\"choropleth\",\"colorbar\":{\"outlinewidth\":0,\"ticks\":\"\"}}],\"histogram2d\":[{\"type\":\"histogram2d\",\"colorbar\":{\"outlinewidth\":0,\"ticks\":\"\"},\"colorscale\":[[0.0,\"#0d0887\"],[0.1111111111111111,\"#46039f\"],[0.2222222222222222,\"#7201a8\"],[0.3333333333333333,\"#9c179e\"],[0.4444444444444444,\"#bd3786\"],[0.5555555555555556,\"#d8576b\"],[0.6666666666666666,\"#ed7953\"],[0.7777777777777778,\"#fb9f3a\"],[0.8888888888888888,\"#fdca26\"],[1.0,\"#f0f921\"]]}],\"heatmap\":[{\"type\":\"heatmap\",\"colorbar\":{\"outlinewidth\":0,\"ticks\":\"\"},\"colorscale\":[[0.0,\"#0d0887\"],[0.1111111111111111,\"#46039f\"],[0.2222222222222222,\"#7201a8\"],[0.3333333333333333,\"#9c179e\"],[0.4444444444444444,\"#bd3786\"],[0.5555555555555556,\"#d8576b\"],[0.6666666666666666,\"#ed7953\"],[0.7777777777777778,\"#fb9f3a\"],[0.8888888888888888,\"#fdca26\"],[1.0,\"#f0f921\"]]}],\"heatmapgl\":[{\"type\":\"heatmapgl\",\"colorbar\":{\"outlinewidth\":0,\"ticks\":\"\"},\"colorscale\":[[0.0,\"#0d0887\"],[0.1111111111111111,\"#46039f\"],[0.2222222222222222,\"#7201a8\"],[0.3333333333333333,\"#9c179e\"],[0.4444444444444444,\"#bd3786\"],[0.5555555555555556,\"#d8576b\"],[0.6666666666666666,\"#ed7953\"],[0.7777777777777778,\"#fb9f3a\"],[0.8888888888888888,\"#fdca26\"],[1.0,\"#f0f921\"]]}],\"contourcarpet\":[{\"type\":\"contourcarpet\",\"colorbar\":{\"outlinewidth\":0,\"ticks\":\"\"}}],\"contour\":[{\"type\":\"contour\",\"colorbar\":{\"outlinewidth\":0,\"ticks\":\"\"},\"colorscale\":[[0.0,\"#0d0887\"],[0.1111111111111111,\"#46039f\"],[0.2222222222222222,\"#7201a8\"],[0.3333333333333333,\"#9c179e\"],[0.4444444444444444,\"#bd3786\"],[0.5555555555555556,\"#d8576b\"],[0.6666666666666666,\"#ed7953\"],[0.7777777777777778,\"#fb9f3a\"],[0.8888888888888888,\"#fdca26\"],[1.0,\"#f0f921\"]]}],\"surface\":[{\"type\":\"surface\",\"colorbar\":{\"outlinewidth\":0,\"ticks\":\"\"},\"colorscale\":[[0.0,\"#0d0887\"],[0.1111111111111111,\"#46039f\"],[0.2222222222222222,\"#7201a8\"],[0.3333333333333333,\"#9c179e\"],[0.4444444444444444,\"#bd3786\"],[0.5555555555555556,\"#d8576b\"],[0.6666666666666666,\"#ed7953\"],[0.7777777777777778,\"#fb9f3a\"],[0.8888888888888888,\"#fdca26\"],[1.0,\"#f0f921\"]]}],\"mesh3d\":[{\"type\":\"mesh3d\",\"colorbar\":{\"outlinewidth\":0,\"ticks\":\"\"}}],\"scatter\":[{\"fillpattern\":{\"fillmode\":\"overlay\",\"size\":10,\"solidity\":0.2},\"type\":\"scatter\"}],\"parcoords\":[{\"type\":\"parcoords\",\"line\":{\"colorbar\":{\"outlinewidth\":0,\"ticks\":\"\"}}}],\"scatterpolargl\":[{\"type\":\"scatterpolargl\",\"marker\":{\"colorbar\":{\"outlinewidth\":0,\"ticks\":\"\"}}}],\"bar\":[{\"error_x\":{\"color\":\"#2a3f5f\"},\"error_y\":{\"color\":\"#2a3f5f\"},\"marker\":{\"line\":{\"color\":\"#E5ECF6\",\"width\":0.5},\"pattern\":{\"fillmode\":\"overlay\",\"size\":10,\"solidity\":0.2}},\"type\":\"bar\"}],\"scattergeo\":[{\"type\":\"scattergeo\",\"marker\":{\"colorbar\":{\"outlinewidth\":0,\"ticks\":\"\"}}}],\"scatterpolar\":[{\"type\":\"scatterpolar\",\"marker\":{\"colorbar\":{\"outlinewidth\":0,\"ticks\":\"\"}}}],\"histogram\":[{\"marker\":{\"pattern\":{\"fillmode\":\"overlay\",\"size\":10,\"solidity\":0.2}},\"type\":\"histogram\"}],\"scattergl\":[{\"type\":\"scattergl\",\"marker\":{\"colorbar\":{\"outlinewidth\":0,\"ticks\":\"\"}}}],\"scatter3d\":[{\"type\":\"scatter3d\",\"line\":{\"colorbar\":{\"outlinewidth\":0,\"ticks\":\"\"}},\"marker\":{\"colorbar\":{\"outlinewidth\":0,\"ticks\":\"\"}}}],\"scattermapbox\":[{\"type\":\"scattermapbox\",\"marker\":{\"colorbar\":{\"outlinewidth\":0,\"ticks\":\"\"}}}],\"scatterternary\":[{\"type\":\"scatterternary\",\"marker\":{\"colorbar\":{\"outlinewidth\":0,\"ticks\":\"\"}}}],\"scattercarpet\":[{\"type\":\"scattercarpet\",\"marker\":{\"colorbar\":{\"outlinewidth\":0,\"ticks\":\"\"}}}],\"carpet\":[{\"aaxis\":{\"endlinecolor\":\"#2a3f5f\",\"gridcolor\":\"white\",\"linecolor\":\"white\",\"minorgridcolor\":\"white\",\"startlinecolor\":\"#2a3f5f\"},\"baxis\":{\"endlinecolor\":\"#2a3f5f\",\"gridcolor\":\"white\",\"linecolor\":\"white\",\"minorgridcolor\":\"white\",\"startlinecolor\":\"#2a3f5f\"},\"type\":\"carpet\"}],\"table\":[{\"cells\":{\"fill\":{\"color\":\"#EBF0F8\"},\"line\":{\"color\":\"white\"}},\"header\":{\"fill\":{\"color\":\"#C8D4E3\"},\"line\":{\"color\":\"white\"}},\"type\":\"table\"}],\"barpolar\":[{\"marker\":{\"line\":{\"color\":\"#E5ECF6\",\"width\":0.5},\"pattern\":{\"fillmode\":\"overlay\",\"size\":10,\"solidity\":0.2}},\"type\":\"barpolar\"}],\"pie\":[{\"automargin\":true,\"type\":\"pie\"}]},\"layout\":{\"autotypenumbers\":\"strict\",\"colorway\":[\"#636efa\",\"#EF553B\",\"#00cc96\",\"#ab63fa\",\"#FFA15A\",\"#19d3f3\",\"#FF6692\",\"#B6E880\",\"#FF97FF\",\"#FECB52\"],\"font\":{\"color\":\"#2a3f5f\"},\"hovermode\":\"closest\",\"hoverlabel\":{\"align\":\"left\"},\"paper_bgcolor\":\"white\",\"plot_bgcolor\":\"#E5ECF6\",\"polar\":{\"bgcolor\":\"#E5ECF6\",\"angularaxis\":{\"gridcolor\":\"white\",\"linecolor\":\"white\",\"ticks\":\"\"},\"radialaxis\":{\"gridcolor\":\"white\",\"linecolor\":\"white\",\"ticks\":\"\"}},\"ternary\":{\"bgcolor\":\"#E5ECF6\",\"aaxis\":{\"gridcolor\":\"white\",\"linecolor\":\"white\",\"ticks\":\"\"},\"baxis\":{\"gridcolor\":\"white\",\"linecolor\":\"white\",\"ticks\":\"\"},\"caxis\":{\"gridcolor\":\"white\",\"linecolor\":\"white\",\"ticks\":\"\"}},\"coloraxis\":{\"colorbar\":{\"outlinewidth\":0,\"ticks\":\"\"}},\"colorscale\":{\"sequential\":[[0.0,\"#0d0887\"],[0.1111111111111111,\"#46039f\"],[0.2222222222222222,\"#7201a8\"],[0.3333333333333333,\"#9c179e\"],[0.4444444444444444,\"#bd3786\"],[0.5555555555555556,\"#d8576b\"],[0.6666666666666666,\"#ed7953\"],[0.7777777777777778,\"#fb9f3a\"],[0.8888888888888888,\"#fdca26\"],[1.0,\"#f0f921\"]],\"sequentialminus\":[[0.0,\"#0d0887\"],[0.1111111111111111,\"#46039f\"],[0.2222222222222222,\"#7201a8\"],[0.3333333333333333,\"#9c179e\"],[0.4444444444444444,\"#bd3786\"],[0.5555555555555556,\"#d8576b\"],[0.6666666666666666,\"#ed7953\"],[0.7777777777777778,\"#fb9f3a\"],[0.8888888888888888,\"#fdca26\"],[1.0,\"#f0f921\"]],\"diverging\":[[0,\"#8e0152\"],[0.1,\"#c51b7d\"],[0.2,\"#de77ae\"],[0.3,\"#f1b6da\"],[0.4,\"#fde0ef\"],[0.5,\"#f7f7f7\"],[0.6,\"#e6f5d0\"],[0.7,\"#b8e186\"],[0.8,\"#7fbc41\"],[0.9,\"#4d9221\"],[1,\"#276419\"]]},\"xaxis\":{\"gridcolor\":\"white\",\"linecolor\":\"white\",\"ticks\":\"\",\"title\":{\"standoff\":15},\"zerolinecolor\":\"white\",\"automargin\":true,\"zerolinewidth\":2},\"yaxis\":{\"gridcolor\":\"white\",\"linecolor\":\"white\",\"ticks\":\"\",\"title\":{\"standoff\":15},\"zerolinecolor\":\"white\",\"automargin\":true,\"zerolinewidth\":2},\"scene\":{\"xaxis\":{\"backgroundcolor\":\"#E5ECF6\",\"gridcolor\":\"white\",\"linecolor\":\"white\",\"showbackground\":true,\"ticks\":\"\",\"zerolinecolor\":\"white\",\"gridwidth\":2},\"yaxis\":{\"backgroundcolor\":\"#E5ECF6\",\"gridcolor\":\"white\",\"linecolor\":\"white\",\"showbackground\":true,\"ticks\":\"\",\"zerolinecolor\":\"white\",\"gridwidth\":2},\"zaxis\":{\"backgroundcolor\":\"#E5ECF6\",\"gridcolor\":\"white\",\"linecolor\":\"white\",\"showbackground\":true,\"ticks\":\"\",\"zerolinecolor\":\"white\",\"gridwidth\":2}},\"shapedefaults\":{\"line\":{\"color\":\"#2a3f5f\"}},\"annotationdefaults\":{\"arrowcolor\":\"#2a3f5f\",\"arrowhead\":0,\"arrowwidth\":1},\"geo\":{\"bgcolor\":\"white\",\"landcolor\":\"#E5ECF6\",\"subunitcolor\":\"white\",\"showland\":true,\"showlakes\":true,\"lakecolor\":\"white\"},\"title\":{\"x\":0.05},\"mapbox\":{\"style\":\"light\"}}},\"xaxis\":{\"anchor\":\"y\",\"domain\":[0.0,1.0],\"title\":{\"text\":\"diabetesMed\"}},\"yaxis\":{\"anchor\":\"x\",\"domain\":[0.0,1.0],\"title\":{\"text\":\"sum of count\"}},\"legend\":{\"title\":{\"text\":\"A1Cresult\"},\"tracegroupgap\":0},\"margin\":{\"t\":60},\"barmode\":\"group\"},                        {\"responsive\": true}                    ).then(function(){\n",
              "                            \n",
              "var gd = document.getElementById('129c14e6-8265-41f0-8d90-7344c5d324a3');\n",
              "var x = new MutationObserver(function (mutations, observer) {{\n",
              "        var display = window.getComputedStyle(gd).display;\n",
              "        if (!display || display === 'none') {{\n",
              "            console.log([gd, 'removed!']);\n",
              "            Plotly.purge(gd);\n",
              "            observer.disconnect();\n",
              "        }}\n",
              "}});\n",
              "\n",
              "// Listen for the removal of the full notebook cells\n",
              "var notebookContainer = gd.closest('#notebook-container');\n",
              "if (notebookContainer) {{\n",
              "    x.observe(notebookContainer, {childList: true});\n",
              "}}\n",
              "\n",
              "// Listen for the clearing of the current output cell\n",
              "var outputEl = gd.closest('.output');\n",
              "if (outputEl) {{\n",
              "    x.observe(outputEl, {childList: true});\n",
              "}}\n",
              "\n",
              "                        })                };                            </script>        </div>\n",
              "</body>\n",
              "</html>"
            ]
          },
          "metadata": {}
        }
      ]
    },
    {
      "cell_type": "markdown",
      "source": [
        "No vamos a tener en cuenta los 57134 (81.6%) de pacientes que no recibieron la prueba HbA1c.\n",
        "\n",
        "La prueba HbA1c se considera alta por encima de 7% por lo que cuando hablemos de resultados altos se están sumando los resutlados >8% y >7%.\n",
        "\n",
        "\n",
        "1.   De los pacientes restantes (12846), la mayoria estaba tomando medicina para la diabetes (82.9% o 10654).\n",
        "2.   Entre los pacientes que no tomaban medicina la distribución es bastante pareja teniendo 1188 (54.2%) pacientes con resultados altos y 1004 (45.8%) pacientes con resultados normales. Aquí se cumple la lógica que indica que si no están tomando medicamento para la diabetes el examen debe dar resultados altos en la mayoría de los casos, aunque a priori esperaba una diferencia más marcada.\n",
        "3.   Sorprendentemente, entre los pacientes que toman medicina para la diabetes la mayoría (7916) presenta resultados altos en el examen, en comparación con el 25.7% restante que muestra resultados normales.\n",
        "4.   A pesar de los resultados presentados en el punto 3. es evidente en la figura que es más probable tener un resultado normal en el examen si se estaba tomando la medicina para la diabetes con anterioridad.\n",
        "\n",
        "La intuición me indica que los pacientes con resultados altos, especialmente los que están tomando medicación para la diabetes van a tener un reingreso. Vamos a comprobarlo.\n",
        "\n"
      ],
      "metadata": {
        "id": "1fQb9KIL__cH"
      }
    },
    {
      "cell_type": "code",
      "source": [
        "diabetesMed_A1c_read = Strack_dataset.groupby(['diabetesMed', 'A1Cresult'])['readmitted'].value_counts().reset_index()\n",
        "diabetesMed_A1c_read = diabetesMed_A1c_read.sort_values(by=['A1Cresult'])\n",
        "fig = px.histogram(diabetesMed_A1c_read, x=\"readmitted\", y=\"count\",\n",
        "                   color='A1Cresult', facet_col='diabetesMed', barmode='group', height=400)\n",
        "fig.show()"
      ],
      "metadata": {
        "colab": {
          "base_uri": "https://localhost:8080/",
          "height": 417
        },
        "id": "TCzlwhX-_SkE",
        "outputId": "bdb48ab7-2d1c-4a75-a2eb-d06d69d614f2"
      },
      "execution_count": 6,
      "outputs": [
        {
          "output_type": "display_data",
          "data": {
            "text/html": [
              "<html>\n",
              "<head><meta charset=\"utf-8\" /></head>\n",
              "<body>\n",
              "    <div>            <script src=\"https://cdnjs.cloudflare.com/ajax/libs/mathjax/2.7.5/MathJax.js?config=TeX-AMS-MML_SVG\"></script><script type=\"text/javascript\">if (window.MathJax && window.MathJax.Hub && window.MathJax.Hub.Config) {window.MathJax.Hub.Config({SVG: {font: \"STIX-Web\"}});}</script>                <script type=\"text/javascript\">window.PlotlyConfig = {MathJaxConfig: 'local'};</script>\n",
              "        <script charset=\"utf-8\" src=\"https://cdn.plot.ly/plotly-2.35.2.min.js\"></script>                <div id=\"386bd756-490b-4d16-bf6b-49b58e6884ae\" class=\"plotly-graph-div\" style=\"height:400px; width:100%;\"></div>            <script type=\"text/javascript\">                                    window.PLOTLYENV=window.PLOTLYENV || {};                                    if (document.getElementById(\"386bd756-490b-4d16-bf6b-49b58e6884ae\")) {                    Plotly.newPlot(                        \"386bd756-490b-4d16-bf6b-49b58e6884ae\",                        [{\"alignmentgroup\":\"True\",\"bingroup\":\"x\",\"histfunc\":\"sum\",\"hovertemplate\":\"A1Cresult=\\u003e7\\u003cbr\\u003ediabetesMed=No\\u003cbr\\u003ereadmitted=%{x}\\u003cbr\\u003esum of count=%{y}\\u003cextra\\u003e\\u003c\\u002fextra\\u003e\",\"legendgroup\":\"\\u003e7\",\"marker\":{\"color\":\"#636efa\",\"pattern\":{\"shape\":\"\"}},\"name\":\"\\u003e7\",\"offsetgroup\":\"\\u003e7\",\"orientation\":\"v\",\"showlegend\":true,\"x\":[\"NO\",\"\\u003e30\",\"\\u003c30\"],\"xaxis\":\"x\",\"y\":[390,152,45],\"yaxis\":\"y\",\"type\":\"histogram\"},{\"alignmentgroup\":\"True\",\"bingroup\":\"x\",\"histfunc\":\"sum\",\"hovertemplate\":\"A1Cresult=\\u003e7\\u003cbr\\u003ediabetesMed=Yes\\u003cbr\\u003ereadmitted=%{x}\\u003cbr\\u003esum of count=%{y}\\u003cextra\\u003e\\u003c\\u002fextra\\u003e\",\"legendgroup\":\"\\u003e7\",\"marker\":{\"color\":\"#636efa\",\"pattern\":{\"shape\":\"\"}},\"name\":\"\\u003e7\",\"offsetgroup\":\"\\u003e7\",\"orientation\":\"v\",\"showlegend\":false,\"x\":[\"\\u003c30\",\"\\u003e30\",\"NO\"],\"xaxis\":\"x2\",\"y\":[201,710,1367],\"yaxis\":\"y2\",\"type\":\"histogram\"},{\"alignmentgroup\":\"True\",\"bingroup\":\"x\",\"histfunc\":\"sum\",\"hovertemplate\":\"A1Cresult=\\u003e8\\u003cbr\\u003ediabetesMed=No\\u003cbr\\u003ereadmitted=%{x}\\u003cbr\\u003esum of count=%{y}\\u003cextra\\u003e\\u003c\\u002fextra\\u003e\",\"legendgroup\":\"\\u003e8\",\"marker\":{\"color\":\"#EF553B\",\"pattern\":{\"shape\":\"\"}},\"name\":\"\\u003e8\",\"offsetgroup\":\"\\u003e8\",\"orientation\":\"v\",\"showlegend\":true,\"x\":[\"NO\",\"\\u003e30\",\"\\u003c30\"],\"xaxis\":\"x\",\"y\":[351,209,41],\"yaxis\":\"y\",\"type\":\"histogram\"},{\"alignmentgroup\":\"True\",\"bingroup\":\"x\",\"histfunc\":\"sum\",\"hovertemplate\":\"A1Cresult=\\u003e8\\u003cbr\\u003ediabetesMed=Yes\\u003cbr\\u003ereadmitted=%{x}\\u003cbr\\u003esum of count=%{y}\\u003cextra\\u003e\\u003c\\u002fextra\\u003e\",\"legendgroup\":\"\\u003e8\",\"marker\":{\"color\":\"#EF553B\",\"pattern\":{\"shape\":\"\"}},\"name\":\"\\u003e8\",\"offsetgroup\":\"\\u003e8\",\"orientation\":\"v\",\"showlegend\":false,\"x\":[\"\\u003e30\",\"NO\",\"\\u003c30\"],\"xaxis\":\"x2\",\"y\":[1751,3419,468],\"yaxis\":\"y2\",\"type\":\"histogram\"},{\"alignmentgroup\":\"True\",\"bingroup\":\"x\",\"histfunc\":\"sum\",\"hovertemplate\":\"A1Cresult=Norm\\u003cbr\\u003ediabetesMed=No\\u003cbr\\u003ereadmitted=%{x}\\u003cbr\\u003esum of count=%{y}\\u003cextra\\u003e\\u003c\\u002fextra\\u003e\",\"legendgroup\":\"Norm\",\"marker\":{\"color\":\"#00cc96\",\"pattern\":{\"shape\":\"\"}},\"name\":\"Norm\",\"offsetgroup\":\"Norm\",\"orientation\":\"v\",\"showlegend\":true,\"x\":[\"\\u003c30\",\"\\u003e30\",\"NO\"],\"xaxis\":\"x\",\"y\":[80,201,723],\"yaxis\":\"y\",\"type\":\"histogram\"},{\"alignmentgroup\":\"True\",\"bingroup\":\"x\",\"histfunc\":\"sum\",\"hovertemplate\":\"A1Cresult=Norm\\u003cbr\\u003ediabetesMed=Yes\\u003cbr\\u003ereadmitted=%{x}\\u003cbr\\u003esum of count=%{y}\\u003cextra\\u003e\\u003c\\u002fextra\\u003e\",\"legendgroup\":\"Norm\",\"marker\":{\"color\":\"#00cc96\",\"pattern\":{\"shape\":\"\"}},\"name\":\"Norm\",\"offsetgroup\":\"Norm\",\"orientation\":\"v\",\"showlegend\":false,\"x\":[\"NO\",\"\\u003c30\",\"\\u003e30\"],\"xaxis\":\"x2\",\"y\":[1657,243,838],\"yaxis\":\"y2\",\"type\":\"histogram\"},{\"alignmentgroup\":\"True\",\"bingroup\":\"x\",\"histfunc\":\"sum\",\"hovertemplate\":\"A1Cresult=none\\u003cbr\\u003ediabetesMed=No\\u003cbr\\u003ereadmitted=%{x}\\u003cbr\\u003esum of count=%{y}\\u003cextra\\u003e\\u003c\\u002fextra\\u003e\",\"legendgroup\":\"none\",\"marker\":{\"color\":\"#ab63fa\",\"pattern\":{\"shape\":\"\"}},\"name\":\"none\",\"offsetgroup\":\"none\",\"orientation\":\"v\",\"showlegend\":true,\"x\":[\"\\u003c30\",\"\\u003e30\",\"NO\"],\"xaxis\":\"x\",\"y\":[1093,4078,9321],\"yaxis\":\"y\",\"type\":\"histogram\"},{\"alignmentgroup\":\"True\",\"bingroup\":\"x\",\"histfunc\":\"sum\",\"hovertemplate\":\"A1Cresult=none\\u003cbr\\u003ediabetesMed=Yes\\u003cbr\\u003ereadmitted=%{x}\\u003cbr\\u003esum of count=%{y}\\u003cextra\\u003e\\u003c\\u002fextra\\u003e\",\"legendgroup\":\"none\",\"marker\":{\"color\":\"#ab63fa\",\"pattern\":{\"shape\":\"\"}},\"name\":\"none\",\"offsetgroup\":\"none\",\"orientation\":\"v\",\"showlegend\":false,\"x\":[\"NO\",\"\\u003e30\",\"\\u003c30\"],\"xaxis\":\"x2\",\"y\":[24253,14283,4106],\"yaxis\":\"y2\",\"type\":\"histogram\"}],                        {\"template\":{\"data\":{\"histogram2dcontour\":[{\"type\":\"histogram2dcontour\",\"colorbar\":{\"outlinewidth\":0,\"ticks\":\"\"},\"colorscale\":[[0.0,\"#0d0887\"],[0.1111111111111111,\"#46039f\"],[0.2222222222222222,\"#7201a8\"],[0.3333333333333333,\"#9c179e\"],[0.4444444444444444,\"#bd3786\"],[0.5555555555555556,\"#d8576b\"],[0.6666666666666666,\"#ed7953\"],[0.7777777777777778,\"#fb9f3a\"],[0.8888888888888888,\"#fdca26\"],[1.0,\"#f0f921\"]]}],\"choropleth\":[{\"type\":\"choropleth\",\"colorbar\":{\"outlinewidth\":0,\"ticks\":\"\"}}],\"histogram2d\":[{\"type\":\"histogram2d\",\"colorbar\":{\"outlinewidth\":0,\"ticks\":\"\"},\"colorscale\":[[0.0,\"#0d0887\"],[0.1111111111111111,\"#46039f\"],[0.2222222222222222,\"#7201a8\"],[0.3333333333333333,\"#9c179e\"],[0.4444444444444444,\"#bd3786\"],[0.5555555555555556,\"#d8576b\"],[0.6666666666666666,\"#ed7953\"],[0.7777777777777778,\"#fb9f3a\"],[0.8888888888888888,\"#fdca26\"],[1.0,\"#f0f921\"]]}],\"heatmap\":[{\"type\":\"heatmap\",\"colorbar\":{\"outlinewidth\":0,\"ticks\":\"\"},\"colorscale\":[[0.0,\"#0d0887\"],[0.1111111111111111,\"#46039f\"],[0.2222222222222222,\"#7201a8\"],[0.3333333333333333,\"#9c179e\"],[0.4444444444444444,\"#bd3786\"],[0.5555555555555556,\"#d8576b\"],[0.6666666666666666,\"#ed7953\"],[0.7777777777777778,\"#fb9f3a\"],[0.8888888888888888,\"#fdca26\"],[1.0,\"#f0f921\"]]}],\"heatmapgl\":[{\"type\":\"heatmapgl\",\"colorbar\":{\"outlinewidth\":0,\"ticks\":\"\"},\"colorscale\":[[0.0,\"#0d0887\"],[0.1111111111111111,\"#46039f\"],[0.2222222222222222,\"#7201a8\"],[0.3333333333333333,\"#9c179e\"],[0.4444444444444444,\"#bd3786\"],[0.5555555555555556,\"#d8576b\"],[0.6666666666666666,\"#ed7953\"],[0.7777777777777778,\"#fb9f3a\"],[0.8888888888888888,\"#fdca26\"],[1.0,\"#f0f921\"]]}],\"contourcarpet\":[{\"type\":\"contourcarpet\",\"colorbar\":{\"outlinewidth\":0,\"ticks\":\"\"}}],\"contour\":[{\"type\":\"contour\",\"colorbar\":{\"outlinewidth\":0,\"ticks\":\"\"},\"colorscale\":[[0.0,\"#0d0887\"],[0.1111111111111111,\"#46039f\"],[0.2222222222222222,\"#7201a8\"],[0.3333333333333333,\"#9c179e\"],[0.4444444444444444,\"#bd3786\"],[0.5555555555555556,\"#d8576b\"],[0.6666666666666666,\"#ed7953\"],[0.7777777777777778,\"#fb9f3a\"],[0.8888888888888888,\"#fdca26\"],[1.0,\"#f0f921\"]]}],\"surface\":[{\"type\":\"surface\",\"colorbar\":{\"outlinewidth\":0,\"ticks\":\"\"},\"colorscale\":[[0.0,\"#0d0887\"],[0.1111111111111111,\"#46039f\"],[0.2222222222222222,\"#7201a8\"],[0.3333333333333333,\"#9c179e\"],[0.4444444444444444,\"#bd3786\"],[0.5555555555555556,\"#d8576b\"],[0.6666666666666666,\"#ed7953\"],[0.7777777777777778,\"#fb9f3a\"],[0.8888888888888888,\"#fdca26\"],[1.0,\"#f0f921\"]]}],\"mesh3d\":[{\"type\":\"mesh3d\",\"colorbar\":{\"outlinewidth\":0,\"ticks\":\"\"}}],\"scatter\":[{\"fillpattern\":{\"fillmode\":\"overlay\",\"size\":10,\"solidity\":0.2},\"type\":\"scatter\"}],\"parcoords\":[{\"type\":\"parcoords\",\"line\":{\"colorbar\":{\"outlinewidth\":0,\"ticks\":\"\"}}}],\"scatterpolargl\":[{\"type\":\"scatterpolargl\",\"marker\":{\"colorbar\":{\"outlinewidth\":0,\"ticks\":\"\"}}}],\"bar\":[{\"error_x\":{\"color\":\"#2a3f5f\"},\"error_y\":{\"color\":\"#2a3f5f\"},\"marker\":{\"line\":{\"color\":\"#E5ECF6\",\"width\":0.5},\"pattern\":{\"fillmode\":\"overlay\",\"size\":10,\"solidity\":0.2}},\"type\":\"bar\"}],\"scattergeo\":[{\"type\":\"scattergeo\",\"marker\":{\"colorbar\":{\"outlinewidth\":0,\"ticks\":\"\"}}}],\"scatterpolar\":[{\"type\":\"scatterpolar\",\"marker\":{\"colorbar\":{\"outlinewidth\":0,\"ticks\":\"\"}}}],\"histogram\":[{\"marker\":{\"pattern\":{\"fillmode\":\"overlay\",\"size\":10,\"solidity\":0.2}},\"type\":\"histogram\"}],\"scattergl\":[{\"type\":\"scattergl\",\"marker\":{\"colorbar\":{\"outlinewidth\":0,\"ticks\":\"\"}}}],\"scatter3d\":[{\"type\":\"scatter3d\",\"line\":{\"colorbar\":{\"outlinewidth\":0,\"ticks\":\"\"}},\"marker\":{\"colorbar\":{\"outlinewidth\":0,\"ticks\":\"\"}}}],\"scattermapbox\":[{\"type\":\"scattermapbox\",\"marker\":{\"colorbar\":{\"outlinewidth\":0,\"ticks\":\"\"}}}],\"scatterternary\":[{\"type\":\"scatterternary\",\"marker\":{\"colorbar\":{\"outlinewidth\":0,\"ticks\":\"\"}}}],\"scattercarpet\":[{\"type\":\"scattercarpet\",\"marker\":{\"colorbar\":{\"outlinewidth\":0,\"ticks\":\"\"}}}],\"carpet\":[{\"aaxis\":{\"endlinecolor\":\"#2a3f5f\",\"gridcolor\":\"white\",\"linecolor\":\"white\",\"minorgridcolor\":\"white\",\"startlinecolor\":\"#2a3f5f\"},\"baxis\":{\"endlinecolor\":\"#2a3f5f\",\"gridcolor\":\"white\",\"linecolor\":\"white\",\"minorgridcolor\":\"white\",\"startlinecolor\":\"#2a3f5f\"},\"type\":\"carpet\"}],\"table\":[{\"cells\":{\"fill\":{\"color\":\"#EBF0F8\"},\"line\":{\"color\":\"white\"}},\"header\":{\"fill\":{\"color\":\"#C8D4E3\"},\"line\":{\"color\":\"white\"}},\"type\":\"table\"}],\"barpolar\":[{\"marker\":{\"line\":{\"color\":\"#E5ECF6\",\"width\":0.5},\"pattern\":{\"fillmode\":\"overlay\",\"size\":10,\"solidity\":0.2}},\"type\":\"barpolar\"}],\"pie\":[{\"automargin\":true,\"type\":\"pie\"}]},\"layout\":{\"autotypenumbers\":\"strict\",\"colorway\":[\"#636efa\",\"#EF553B\",\"#00cc96\",\"#ab63fa\",\"#FFA15A\",\"#19d3f3\",\"#FF6692\",\"#B6E880\",\"#FF97FF\",\"#FECB52\"],\"font\":{\"color\":\"#2a3f5f\"},\"hovermode\":\"closest\",\"hoverlabel\":{\"align\":\"left\"},\"paper_bgcolor\":\"white\",\"plot_bgcolor\":\"#E5ECF6\",\"polar\":{\"bgcolor\":\"#E5ECF6\",\"angularaxis\":{\"gridcolor\":\"white\",\"linecolor\":\"white\",\"ticks\":\"\"},\"radialaxis\":{\"gridcolor\":\"white\",\"linecolor\":\"white\",\"ticks\":\"\"}},\"ternary\":{\"bgcolor\":\"#E5ECF6\",\"aaxis\":{\"gridcolor\":\"white\",\"linecolor\":\"white\",\"ticks\":\"\"},\"baxis\":{\"gridcolor\":\"white\",\"linecolor\":\"white\",\"ticks\":\"\"},\"caxis\":{\"gridcolor\":\"white\",\"linecolor\":\"white\",\"ticks\":\"\"}},\"coloraxis\":{\"colorbar\":{\"outlinewidth\":0,\"ticks\":\"\"}},\"colorscale\":{\"sequential\":[[0.0,\"#0d0887\"],[0.1111111111111111,\"#46039f\"],[0.2222222222222222,\"#7201a8\"],[0.3333333333333333,\"#9c179e\"],[0.4444444444444444,\"#bd3786\"],[0.5555555555555556,\"#d8576b\"],[0.6666666666666666,\"#ed7953\"],[0.7777777777777778,\"#fb9f3a\"],[0.8888888888888888,\"#fdca26\"],[1.0,\"#f0f921\"]],\"sequentialminus\":[[0.0,\"#0d0887\"],[0.1111111111111111,\"#46039f\"],[0.2222222222222222,\"#7201a8\"],[0.3333333333333333,\"#9c179e\"],[0.4444444444444444,\"#bd3786\"],[0.5555555555555556,\"#d8576b\"],[0.6666666666666666,\"#ed7953\"],[0.7777777777777778,\"#fb9f3a\"],[0.8888888888888888,\"#fdca26\"],[1.0,\"#f0f921\"]],\"diverging\":[[0,\"#8e0152\"],[0.1,\"#c51b7d\"],[0.2,\"#de77ae\"],[0.3,\"#f1b6da\"],[0.4,\"#fde0ef\"],[0.5,\"#f7f7f7\"],[0.6,\"#e6f5d0\"],[0.7,\"#b8e186\"],[0.8,\"#7fbc41\"],[0.9,\"#4d9221\"],[1,\"#276419\"]]},\"xaxis\":{\"gridcolor\":\"white\",\"linecolor\":\"white\",\"ticks\":\"\",\"title\":{\"standoff\":15},\"zerolinecolor\":\"white\",\"automargin\":true,\"zerolinewidth\":2},\"yaxis\":{\"gridcolor\":\"white\",\"linecolor\":\"white\",\"ticks\":\"\",\"title\":{\"standoff\":15},\"zerolinecolor\":\"white\",\"automargin\":true,\"zerolinewidth\":2},\"scene\":{\"xaxis\":{\"backgroundcolor\":\"#E5ECF6\",\"gridcolor\":\"white\",\"linecolor\":\"white\",\"showbackground\":true,\"ticks\":\"\",\"zerolinecolor\":\"white\",\"gridwidth\":2},\"yaxis\":{\"backgroundcolor\":\"#E5ECF6\",\"gridcolor\":\"white\",\"linecolor\":\"white\",\"showbackground\":true,\"ticks\":\"\",\"zerolinecolor\":\"white\",\"gridwidth\":2},\"zaxis\":{\"backgroundcolor\":\"#E5ECF6\",\"gridcolor\":\"white\",\"linecolor\":\"white\",\"showbackground\":true,\"ticks\":\"\",\"zerolinecolor\":\"white\",\"gridwidth\":2}},\"shapedefaults\":{\"line\":{\"color\":\"#2a3f5f\"}},\"annotationdefaults\":{\"arrowcolor\":\"#2a3f5f\",\"arrowhead\":0,\"arrowwidth\":1},\"geo\":{\"bgcolor\":\"white\",\"landcolor\":\"#E5ECF6\",\"subunitcolor\":\"white\",\"showland\":true,\"showlakes\":true,\"lakecolor\":\"white\"},\"title\":{\"x\":0.05},\"mapbox\":{\"style\":\"light\"}}},\"xaxis\":{\"anchor\":\"y\",\"domain\":[0.0,0.49],\"title\":{\"text\":\"readmitted\"}},\"yaxis\":{\"anchor\":\"x\",\"domain\":[0.0,1.0],\"title\":{\"text\":\"sum of count\"}},\"xaxis2\":{\"anchor\":\"y2\",\"domain\":[0.51,1.0],\"matches\":\"x\",\"title\":{\"text\":\"readmitted\"}},\"yaxis2\":{\"anchor\":\"x2\",\"domain\":[0.0,1.0],\"matches\":\"y\",\"showticklabels\":false},\"annotations\":[{\"font\":{},\"showarrow\":false,\"text\":\"diabetesMed=No\",\"x\":0.245,\"xanchor\":\"center\",\"xref\":\"paper\",\"y\":1.0,\"yanchor\":\"bottom\",\"yref\":\"paper\"},{\"font\":{},\"showarrow\":false,\"text\":\"diabetesMed=Yes\",\"x\":0.755,\"xanchor\":\"center\",\"xref\":\"paper\",\"y\":1.0,\"yanchor\":\"bottom\",\"yref\":\"paper\"}],\"legend\":{\"title\":{\"text\":\"A1Cresult\"},\"tracegroupgap\":0},\"margin\":{\"t\":60},\"barmode\":\"group\",\"height\":400},                        {\"responsive\": true}                    ).then(function(){\n",
              "                            \n",
              "var gd = document.getElementById('386bd756-490b-4d16-bf6b-49b58e6884ae');\n",
              "var x = new MutationObserver(function (mutations, observer) {{\n",
              "        var display = window.getComputedStyle(gd).display;\n",
              "        if (!display || display === 'none') {{\n",
              "            console.log([gd, 'removed!']);\n",
              "            Plotly.purge(gd);\n",
              "            observer.disconnect();\n",
              "        }}\n",
              "}});\n",
              "\n",
              "// Listen for the removal of the full notebook cells\n",
              "var notebookContainer = gd.closest('#notebook-container');\n",
              "if (notebookContainer) {{\n",
              "    x.observe(notebookContainer, {childList: true});\n",
              "}}\n",
              "\n",
              "// Listen for the clearing of the current output cell\n",
              "var outputEl = gd.closest('.output');\n",
              "if (outputEl) {{\n",
              "    x.observe(outputEl, {childList: true});\n",
              "}}\n",
              "\n",
              "                        })                };                            </script>        </div>\n",
              "</body>\n",
              "</html>"
            ]
          },
          "metadata": {}
        }
      ]
    },
    {
      "cell_type": "markdown",
      "source": [
        "Conclusiones para pacientes que **NO** tomaban medicina para diabetes:\n",
        "\n",
        "\n",
        "*   El 72% de los pacientes que no toman medicamento y el examen les sale normal no tienen reingreso\n",
        "*   El 62% de los pacientes que no toman medicamento y el examen les sale alto tienen reingreso. Para este caso hay que revisar cuantos de ellos presentan un cambio en su medicación\n",
        "\n",
        "Conclusiones para pacientes que **SI** tomaban medicina para diabetes:\n",
        "\n",
        "\n",
        "*   El 60.5% de los pacientes que si toman medicamento y el examen les sale normal no tienen reingreso\n",
        "*   El 60.4% de los pacientes que si toman medicamento y el examen les sale alto no tienen reingreso\n",
        "\n",
        "Curiosidades:\n",
        "\n",
        "\n",
        "*   Cuando no toman la medicina hay una diferencia porcentual muy importante según los resultados del examen\n",
        "*   Cuando si toman la medicina no existe diferencia porcentual según los resultados del examen\n",
        "\n",
        "Próximos paso:\n",
        "\n",
        "Vamos a explorar la variable change para ver si encontramos algún patrón o algo que nos aclare un poco el panorama en el que estamos.\n",
        "\n",
        "Preguntas actuales:\n",
        "\n",
        "\n",
        "1.   Ese 72% que no toma medicina para la diabetes, tienen resutlados normales y no hicieron reingreso habran tenido cambio en su medicamente? Probablemente no (suposición)\n",
        "2.   El 62% de pacientes que no toma medicamento, tuvo examenes altos pero no tuvo reingreso habrán tenido cambio en su medicamente? Probablemente si (Suposición)\n",
        "3.   El resto de pacientes que no tomaban medicamento y tuvieron reingreso habran tenido cambio en su medicamento? Probablemente no (Suposición)\n",
        "4.   Por qué el procentaje de pacientes que si tomaban medicamento no presentaron reingreso sin importar el resultado de los resultados\n",
        "5.   Qué pasa con todos los que toman medicamento y tienen reingreso?\n",
        "\n",
        "\n",
        "\n",
        "\n",
        "\n",
        "\n",
        "\n",
        "\n",
        "\n",
        "\n"
      ],
      "metadata": {
        "id": "Lz8pYbeUFrat"
      }
    },
    {
      "cell_type": "markdown",
      "source": [
        "#### change"
      ],
      "metadata": {
        "id": "i4YjiunaJzNg"
      }
    },
    {
      "cell_type": "markdown",
      "source": [
        "Vamos a tratar de responder las preguntas que surgen del análisis anterior"
      ],
      "metadata": {
        "id": "IIu6uvSMJ2yt"
      }
    },
    {
      "cell_type": "code",
      "source": [
        "#Dataset de pacientes que No toman medicina, tienen el examen normal y no fueron readmitidos\n",
        "df1 = Strack_dataset[(Strack_dataset['diabetesMed'] == 'No') &\n",
        "                     (Strack_dataset['A1Cresult'] == 'Norm') &\n",
        "                     (Strack_dataset['readmitted'] == 'NO')]\n",
        "df1['change'].value_counts()"
      ],
      "metadata": {
        "colab": {
          "base_uri": "https://localhost:8080/",
          "height": 147
        },
        "id": "xiUR5id0FHOi",
        "outputId": "b6f6a3f2-3989-454e-f565-6d66866aa010"
      },
      "execution_count": 7,
      "outputs": [
        {
          "output_type": "execute_result",
          "data": {
            "text/plain": [
              "change\n",
              "No    723\n",
              "Name: count, dtype: int64"
            ],
            "text/html": [
              "<div>\n",
              "<style scoped>\n",
              "    .dataframe tbody tr th:only-of-type {\n",
              "        vertical-align: middle;\n",
              "    }\n",
              "\n",
              "    .dataframe tbody tr th {\n",
              "        vertical-align: top;\n",
              "    }\n",
              "\n",
              "    .dataframe thead th {\n",
              "        text-align: right;\n",
              "    }\n",
              "</style>\n",
              "<table border=\"1\" class=\"dataframe\">\n",
              "  <thead>\n",
              "    <tr style=\"text-align: right;\">\n",
              "      <th></th>\n",
              "      <th>count</th>\n",
              "    </tr>\n",
              "    <tr>\n",
              "      <th>change</th>\n",
              "      <th></th>\n",
              "    </tr>\n",
              "  </thead>\n",
              "  <tbody>\n",
              "    <tr>\n",
              "      <th>No</th>\n",
              "      <td>723</td>\n",
              "    </tr>\n",
              "  </tbody>\n",
              "</table>\n",
              "</div><br><label><b>dtype:</b> int64</label>"
            ]
          },
          "metadata": {},
          "execution_count": 7
        }
      ]
    },
    {
      "cell_type": "markdown",
      "source": [
        "Confirmamos la suposición y concluimos que **Los pacientes que NO toman medicina y tienen el examen con resultados normales que no fueron readmitidos no tuvieron cambios en su medicación**"
      ],
      "metadata": {
        "id": "McQEz2Ftf1yF"
      }
    },
    {
      "cell_type": "code",
      "source": [
        "#Dataset de pacientes que No toman medicina, tienen el examen normal y si fueron readmitidos\n",
        "df2 = Strack_dataset[(Strack_dataset['diabetesMed'] == 'No') &\n",
        "                     (Strack_dataset['A1Cresult'] == 'Norm') &\n",
        "                     (Strack_dataset['readmitted'] != 'NO')]\n",
        "df2['change'].value_counts()"
      ],
      "metadata": {
        "colab": {
          "base_uri": "https://localhost:8080/",
          "height": 147
        },
        "id": "ddtdIp29em6N",
        "outputId": "6b5e18f2-97f1-43ba-8793-d835a48ee8b0"
      },
      "execution_count": 8,
      "outputs": [
        {
          "output_type": "execute_result",
          "data": {
            "text/plain": [
              "change\n",
              "No    281\n",
              "Name: count, dtype: int64"
            ],
            "text/html": [
              "<div>\n",
              "<style scoped>\n",
              "    .dataframe tbody tr th:only-of-type {\n",
              "        vertical-align: middle;\n",
              "    }\n",
              "\n",
              "    .dataframe tbody tr th {\n",
              "        vertical-align: top;\n",
              "    }\n",
              "\n",
              "    .dataframe thead th {\n",
              "        text-align: right;\n",
              "    }\n",
              "</style>\n",
              "<table border=\"1\" class=\"dataframe\">\n",
              "  <thead>\n",
              "    <tr style=\"text-align: right;\">\n",
              "      <th></th>\n",
              "      <th>count</th>\n",
              "    </tr>\n",
              "    <tr>\n",
              "      <th>change</th>\n",
              "      <th></th>\n",
              "    </tr>\n",
              "  </thead>\n",
              "  <tbody>\n",
              "    <tr>\n",
              "      <th>No</th>\n",
              "      <td>281</td>\n",
              "    </tr>\n",
              "  </tbody>\n",
              "</table>\n",
              "</div><br><label><b>dtype:</b> int64</label>"
            ]
          },
          "metadata": {},
          "execution_count": 8
        }
      ]
    },
    {
      "cell_type": "markdown",
      "source": [
        "El resultado anterior nos da una conclusión más importante:\n",
        "\n",
        "\n",
        "*   **Los pacientes que no toman medicamento y tienen resultados normales en el examen NO presentan cambios en su medicación, los que reingresan deben ser por otra variable diferente a la medicación**\n",
        "\n",
        "\n"
      ],
      "metadata": {
        "id": "LFMjbx1Dgdtj"
      }
    },
    {
      "cell_type": "code",
      "source": [
        "#Dataset de pacientes que No toman medicina, tienen el examen alto y no fueron readmitidos\n",
        "df3 = Strack_dataset[(Strack_dataset['diabetesMed'] == 'No') &\n",
        "                     (Strack_dataset['A1Cresult'] != 'Norm') &\n",
        "                     (Strack_dataset['A1Cresult'] != 'none') &\n",
        "                     (Strack_dataset['readmitted'] == 'NO')]\n",
        "df3['change'].value_counts()"
      ],
      "metadata": {
        "colab": {
          "base_uri": "https://localhost:8080/",
          "height": 147
        },
        "id": "-nrOoSTzgUE4",
        "outputId": "10805d6c-29c0-4ef7-864d-0cc827a3201f"
      },
      "execution_count": 9,
      "outputs": [
        {
          "output_type": "execute_result",
          "data": {
            "text/plain": [
              "change\n",
              "No    741\n",
              "Name: count, dtype: int64"
            ],
            "text/html": [
              "<div>\n",
              "<style scoped>\n",
              "    .dataframe tbody tr th:only-of-type {\n",
              "        vertical-align: middle;\n",
              "    }\n",
              "\n",
              "    .dataframe tbody tr th {\n",
              "        vertical-align: top;\n",
              "    }\n",
              "\n",
              "    .dataframe thead th {\n",
              "        text-align: right;\n",
              "    }\n",
              "</style>\n",
              "<table border=\"1\" class=\"dataframe\">\n",
              "  <thead>\n",
              "    <tr style=\"text-align: right;\">\n",
              "      <th></th>\n",
              "      <th>count</th>\n",
              "    </tr>\n",
              "    <tr>\n",
              "      <th>change</th>\n",
              "      <th></th>\n",
              "    </tr>\n",
              "  </thead>\n",
              "  <tbody>\n",
              "    <tr>\n",
              "      <th>No</th>\n",
              "      <td>741</td>\n",
              "    </tr>\n",
              "  </tbody>\n",
              "</table>\n",
              "</div><br><label><b>dtype:</b> int64</label>"
            ]
          },
          "metadata": {},
          "execution_count": 9
        }
      ]
    },
    {
      "cell_type": "code",
      "source": [
        "#Dataset de pacientes que No toman medicina, tienen el examen alto y si fueron readmitidos\n",
        "df4 = Strack_dataset[(Strack_dataset['diabetesMed'] == 'No') &\n",
        "                     (Strack_dataset['A1Cresult'] != 'Norm') &\n",
        "                     (Strack_dataset['A1Cresult'] != 'none') &\n",
        "                     (Strack_dataset['readmitted'] != 'NO')]\n",
        "df4['change'].value_counts()"
      ],
      "metadata": {
        "colab": {
          "base_uri": "https://localhost:8080/",
          "height": 147
        },
        "id": "FYO8lYfpgX8H",
        "outputId": "d901716b-38d3-43cb-befb-985c4be951f7"
      },
      "execution_count": 10,
      "outputs": [
        {
          "output_type": "execute_result",
          "data": {
            "text/plain": [
              "change\n",
              "No    447\n",
              "Name: count, dtype: int64"
            ],
            "text/html": [
              "<div>\n",
              "<style scoped>\n",
              "    .dataframe tbody tr th:only-of-type {\n",
              "        vertical-align: middle;\n",
              "    }\n",
              "\n",
              "    .dataframe tbody tr th {\n",
              "        vertical-align: top;\n",
              "    }\n",
              "\n",
              "    .dataframe thead th {\n",
              "        text-align: right;\n",
              "    }\n",
              "</style>\n",
              "<table border=\"1\" class=\"dataframe\">\n",
              "  <thead>\n",
              "    <tr style=\"text-align: right;\">\n",
              "      <th></th>\n",
              "      <th>count</th>\n",
              "    </tr>\n",
              "    <tr>\n",
              "      <th>change</th>\n",
              "      <th></th>\n",
              "    </tr>\n",
              "  </thead>\n",
              "  <tbody>\n",
              "    <tr>\n",
              "      <th>No</th>\n",
              "      <td>447</td>\n",
              "    </tr>\n",
              "  </tbody>\n",
              "</table>\n",
              "</div><br><label><b>dtype:</b> int64</label>"
            ]
          },
          "metadata": {},
          "execution_count": 10
        }
      ]
    },
    {
      "cell_type": "markdown",
      "source": [
        "Conclusión:\n",
        "\n",
        "*  **Todos los pacientes que No toman medicina para la diabetes, no presentan cambios en su medicación**\n",
        "\n",
        "Para este grupo de pacientes, el cambio de medicación no es un factor importante"
      ],
      "metadata": {
        "id": "n3lFN9j1h1U2"
      }
    },
    {
      "cell_type": "code",
      "source": [
        "#Dataset de pacientes que Si toman medicina, tienen el examen normal y no fueron readmitidos\n",
        "df5 = Strack_dataset[(Strack_dataset['diabetesMed'] == 'Yes') &\n",
        "                     (Strack_dataset['A1Cresult'] == 'Norm') &\n",
        "                     (Strack_dataset['readmitted'] == 'NO')]\n",
        "df5['change'].value_counts()"
      ],
      "metadata": {
        "colab": {
          "base_uri": "https://localhost:8080/",
          "height": 178
        },
        "id": "Fteon8yjhBZa",
        "outputId": "87de051d-d1c4-4959-b69c-b5d19bb32f4d"
      },
      "execution_count": 11,
      "outputs": [
        {
          "output_type": "execute_result",
          "data": {
            "text/plain": [
              "change\n",
              "Ch    945\n",
              "No    712\n",
              "Name: count, dtype: int64"
            ],
            "text/html": [
              "<div>\n",
              "<style scoped>\n",
              "    .dataframe tbody tr th:only-of-type {\n",
              "        vertical-align: middle;\n",
              "    }\n",
              "\n",
              "    .dataframe tbody tr th {\n",
              "        vertical-align: top;\n",
              "    }\n",
              "\n",
              "    .dataframe thead th {\n",
              "        text-align: right;\n",
              "    }\n",
              "</style>\n",
              "<table border=\"1\" class=\"dataframe\">\n",
              "  <thead>\n",
              "    <tr style=\"text-align: right;\">\n",
              "      <th></th>\n",
              "      <th>count</th>\n",
              "    </tr>\n",
              "    <tr>\n",
              "      <th>change</th>\n",
              "      <th></th>\n",
              "    </tr>\n",
              "  </thead>\n",
              "  <tbody>\n",
              "    <tr>\n",
              "      <th>Ch</th>\n",
              "      <td>945</td>\n",
              "    </tr>\n",
              "    <tr>\n",
              "      <th>No</th>\n",
              "      <td>712</td>\n",
              "    </tr>\n",
              "  </tbody>\n",
              "</table>\n",
              "</div><br><label><b>dtype:</b> int64</label>"
            ]
          },
          "metadata": {},
          "execution_count": 11
        }
      ]
    },
    {
      "cell_type": "code",
      "source": [
        "#Dataset de pacientes que Si toman medicina, tienen el examen normal y si fueron readmitidos\n",
        "df6 = Strack_dataset[(Strack_dataset['diabetesMed'] == 'Yes') &\n",
        "                     (Strack_dataset['A1Cresult'] == 'Norm') &\n",
        "                     (Strack_dataset['readmitted'] != 'NO')]\n",
        "df6['change'].value_counts()"
      ],
      "metadata": {
        "colab": {
          "base_uri": "https://localhost:8080/",
          "height": 178
        },
        "id": "u9SRbyCThIgD",
        "outputId": "0dabc3e0-afbe-423e-d3b2-5a757195b11a"
      },
      "execution_count": 12,
      "outputs": [
        {
          "output_type": "execute_result",
          "data": {
            "text/plain": [
              "change\n",
              "Ch    664\n",
              "No    417\n",
              "Name: count, dtype: int64"
            ],
            "text/html": [
              "<div>\n",
              "<style scoped>\n",
              "    .dataframe tbody tr th:only-of-type {\n",
              "        vertical-align: middle;\n",
              "    }\n",
              "\n",
              "    .dataframe tbody tr th {\n",
              "        vertical-align: top;\n",
              "    }\n",
              "\n",
              "    .dataframe thead th {\n",
              "        text-align: right;\n",
              "    }\n",
              "</style>\n",
              "<table border=\"1\" class=\"dataframe\">\n",
              "  <thead>\n",
              "    <tr style=\"text-align: right;\">\n",
              "      <th></th>\n",
              "      <th>count</th>\n",
              "    </tr>\n",
              "    <tr>\n",
              "      <th>change</th>\n",
              "      <th></th>\n",
              "    </tr>\n",
              "  </thead>\n",
              "  <tbody>\n",
              "    <tr>\n",
              "      <th>Ch</th>\n",
              "      <td>664</td>\n",
              "    </tr>\n",
              "    <tr>\n",
              "      <th>No</th>\n",
              "      <td>417</td>\n",
              "    </tr>\n",
              "  </tbody>\n",
              "</table>\n",
              "</div><br><label><b>dtype:</b> int64</label>"
            ]
          },
          "metadata": {},
          "execution_count": 12
        }
      ]
    },
    {
      "cell_type": "markdown",
      "source": [
        "Para el caso donde toman medicina, tienen el examen normal y no fueron readmitidos que sufrieron cambios en su formula es necesario entrar a mirar cual fue el cambio. Ya que lo normal es que con estas condiciones estos pacientes no sufran cambios en su formula.\n",
        "\n",
        "El resto de casos donde los pacientes Si fueron readmitidos es necesario mirar los cambios que sufrieron y compararlo con lo que vamos a llamar el grupo de control que son los pacientes que si toman medicina, tienen el examen normal y no fueron readmitidos."
      ],
      "metadata": {
        "id": "6xuUror0i6PZ"
      }
    },
    {
      "cell_type": "code",
      "source": [
        "#Dataset de pacientes que Si toman medicina, tienen el examen alto y no fueron readmitidos\n",
        "df7 = Strack_dataset[(Strack_dataset['diabetesMed'] == 'Yes') &\n",
        "                     (Strack_dataset['A1Cresult'] != 'Norm') &\n",
        "                     (Strack_dataset['A1Cresult'] != 'none') &\n",
        "                     (Strack_dataset['readmitted'] == 'NO')]\n",
        "df7['change'].value_counts()"
      ],
      "metadata": {
        "colab": {
          "base_uri": "https://localhost:8080/",
          "height": 178
        },
        "id": "EHr_Y7wNiccT",
        "outputId": "2f2bda04-1e9c-404f-b88c-e76e6501efc8"
      },
      "execution_count": 13,
      "outputs": [
        {
          "output_type": "execute_result",
          "data": {
            "text/plain": [
              "change\n",
              "Ch    3246\n",
              "No    1540\n",
              "Name: count, dtype: int64"
            ],
            "text/html": [
              "<div>\n",
              "<style scoped>\n",
              "    .dataframe tbody tr th:only-of-type {\n",
              "        vertical-align: middle;\n",
              "    }\n",
              "\n",
              "    .dataframe tbody tr th {\n",
              "        vertical-align: top;\n",
              "    }\n",
              "\n",
              "    .dataframe thead th {\n",
              "        text-align: right;\n",
              "    }\n",
              "</style>\n",
              "<table border=\"1\" class=\"dataframe\">\n",
              "  <thead>\n",
              "    <tr style=\"text-align: right;\">\n",
              "      <th></th>\n",
              "      <th>count</th>\n",
              "    </tr>\n",
              "    <tr>\n",
              "      <th>change</th>\n",
              "      <th></th>\n",
              "    </tr>\n",
              "  </thead>\n",
              "  <tbody>\n",
              "    <tr>\n",
              "      <th>Ch</th>\n",
              "      <td>3246</td>\n",
              "    </tr>\n",
              "    <tr>\n",
              "      <th>No</th>\n",
              "      <td>1540</td>\n",
              "    </tr>\n",
              "  </tbody>\n",
              "</table>\n",
              "</div><br><label><b>dtype:</b> int64</label>"
            ]
          },
          "metadata": {},
          "execution_count": 13
        }
      ]
    },
    {
      "cell_type": "code",
      "source": [
        "#Dataset de pacientes que Si toman medicina, tienen el examen alto y si fueron readmitidos\n",
        "df8 = Strack_dataset[(Strack_dataset['diabetesMed'] == 'Yes') &\n",
        "                     (Strack_dataset['A1Cresult'] != 'Norm') &\n",
        "                     (Strack_dataset['A1Cresult'] != 'none') &\n",
        "                     (Strack_dataset['readmitted'] != 'NO')]\n",
        "df8['change'].value_counts()"
      ],
      "metadata": {
        "colab": {
          "base_uri": "https://localhost:8080/",
          "height": 178
        },
        "id": "fUM4KknpjEB7",
        "outputId": "df3e1c5f-0c15-402b-b663-e6880df3fbaf"
      },
      "execution_count": 14,
      "outputs": [
        {
          "output_type": "execute_result",
          "data": {
            "text/plain": [
              "change\n",
              "Ch    2227\n",
              "No     903\n",
              "Name: count, dtype: int64"
            ],
            "text/html": [
              "<div>\n",
              "<style scoped>\n",
              "    .dataframe tbody tr th:only-of-type {\n",
              "        vertical-align: middle;\n",
              "    }\n",
              "\n",
              "    .dataframe tbody tr th {\n",
              "        vertical-align: top;\n",
              "    }\n",
              "\n",
              "    .dataframe thead th {\n",
              "        text-align: right;\n",
              "    }\n",
              "</style>\n",
              "<table border=\"1\" class=\"dataframe\">\n",
              "  <thead>\n",
              "    <tr style=\"text-align: right;\">\n",
              "      <th></th>\n",
              "      <th>count</th>\n",
              "    </tr>\n",
              "    <tr>\n",
              "      <th>change</th>\n",
              "      <th></th>\n",
              "    </tr>\n",
              "  </thead>\n",
              "  <tbody>\n",
              "    <tr>\n",
              "      <th>Ch</th>\n",
              "      <td>2227</td>\n",
              "    </tr>\n",
              "    <tr>\n",
              "      <th>No</th>\n",
              "      <td>903</td>\n",
              "    </tr>\n",
              "  </tbody>\n",
              "</table>\n",
              "</div><br><label><b>dtype:</b> int64</label>"
            ]
          },
          "metadata": {},
          "execution_count": 14
        }
      ]
    },
    {
      "cell_type": "markdown",
      "source": [
        "La tendencia muestra que 69.1% de las veces que el paciente tiene los examenes altos y toma medicina, le hacen un ajuste en la dosis o le cambian el nombre generico del medicamento. De aquí podemos intuir que la dosis del medicamento o el nombre generico debe influir en si el paciente fue readmitido o no.\n",
        "\n",
        "El caso donde No fueron readmitidos, si toman medicina, tienen resultados altos pero no presentan cambios en su medicina es necesario comparar dosis contra los pacientes que tienen el examen normal y no fueron readmitidos, ya que es posible que la dosis sea correcta pero todavía no ha tenido efecto."
      ],
      "metadata": {
        "id": "MFo-UROojZ2N"
      }
    },
    {
      "cell_type": "markdown",
      "source": [
        "#### Control group"
      ],
      "metadata": {
        "id": "Rodl-imwl8jA"
      }
    },
    {
      "cell_type": "code",
      "source": [
        "#Grupo de control\n",
        "control_group = Strack_dataset[(Strack_dataset['diabetesMed'] == 'Yes') &\n",
        "                     (Strack_dataset['A1Cresult'] == 'Norm') &\n",
        "                     (Strack_dataset['readmitted'] == 'NO') &\n",
        "                     (Strack_dataset['change'] == 'No')]\n",
        "len(control_group)"
      ],
      "metadata": {
        "colab": {
          "base_uri": "https://localhost:8080/"
        },
        "id": "TG-OJwTHjWKz",
        "outputId": "5ba4b6b0-8c05-4c54-faa6-296af6881905"
      },
      "execution_count": 15,
      "outputs": [
        {
          "output_type": "execute_result",
          "data": {
            "text/plain": [
              "712"
            ]
          },
          "metadata": {},
          "execution_count": 15
        }
      ]
    },
    {
      "cell_type": "markdown",
      "source": [
        "Vamos a mirar que podemos encontrar en el grupo de control.\n",
        "\n",
        "En el grupo de control todas las medicinas deben tener 2 posibles valores, **No** o **Steady**. Para encontrar patrones vamos a aplicar dos"
      ],
      "metadata": {
        "id": "fqJx3PtDl39r"
      }
    },
    {
      "cell_type": "code",
      "source": [
        "from sklearn.preprocessing import LabelEncoder\n",
        "from sklearn.cluster import KMeans\n",
        "import matplotlib.pyplot as plt\n",
        "\n",
        "med_control_group = control_group[['metformin', 'repaglinide', 'nateglinide', 'chlorpropamide',\n",
        "                                   'glimepiride', 'acetohexamide', 'glipizide', 'glyburide',\n",
        "                                   'tolbutamide', 'pioglitazone', 'rosiglitazone', 'acarbose',\n",
        "                                   'miglitol', 'troglitazone', 'tolazamide', 'examide',\n",
        "                                   'citoglipton', 'insulin', 'glyburide-metformin',\n",
        "                                   'glipizide-metformin', 'glimepiride-pioglitazone',\n",
        "                                   'metformin-rosiglitazone', 'metformin-pioglitazone']]\n",
        "\n",
        "med_control_group_encoded = med_control_group.apply(LabelEncoder().fit_transform) #0 = No, 1 = Steady\n",
        "\n",
        "inertia = []\n",
        "K = range(2, 15)  # Prueba con diferentes números de clusters\n",
        "\n",
        "for k in K:\n",
        "    kmeans = KMeans(n_clusters=k, random_state=42)\n",
        "    kmeans.fit(med_control_group_encoded)\n",
        "    inertia.append(kmeans.inertia_)\n",
        "\n",
        "# Graficar la inercia vs. el número de clusters\n",
        "plt.figure(figsize=(6, 3))\n",
        "plt.plot(K, inertia, 'bx-')\n",
        "plt.xlabel('Número de Clusters')\n",
        "plt.ylabel('Inercia')\n",
        "plt.title('Método del Codo para determinar el número óptimo de clusters')\n",
        "plt.show()"
      ],
      "metadata": {
        "colab": {
          "base_uri": "https://localhost:8080/",
          "height": 334
        },
        "id": "7a5AeWZll3GL",
        "outputId": "197f779a-b94f-4bce-da0d-ec2b6986d23b"
      },
      "execution_count": 16,
      "outputs": [
        {
          "output_type": "display_data",
          "data": {
            "text/plain": [
              "<Figure size 600x300 with 1 Axes>"
            ],
            "image/png": "[encoded data removed]"
          },
          "metadata": {}
        }
      ]
    },
    {
      "cell_type": "code",
      "source": [
        "kmeans = KMeans(n_clusters=3, random_state=42)\n",
        "clusters = kmeans.fit_predict(med_control_group_encoded)\n",
        "\n",
        "med_control_group['Cluster'] = clusters\n",
        "cluster0 = med_control_group[med_control_group['Cluster'] == 0]\n",
        "cluster1 = med_control_group[med_control_group['Cluster'] == 1]\n",
        "cluster2 = med_control_group[med_control_group['Cluster'] == 2]"
      ],
      "metadata": {
        "id": "rOca22aoqyXy"
      },
      "execution_count": 17,
      "outputs": []
    },
    {
      "cell_type": "markdown",
      "source": [
        "vamos a ver que valores distintos tenemos en cada cluster. Esto para identificar las medicinas que siempre se dan, nunca se dan o pueden variar"
      ],
      "metadata": {
        "id": "qWhDWeFOumMc"
      }
    },
    {
      "cell_type": "code",
      "source": [
        "for column in cluster0.columns:\n",
        "  print(f\"{column}: {cluster0[column].nunique()}\")\n",
        "print(\"Tamaño del cluster0:\", len(cluster0))\n",
        "cluster0.head(1)"
      ],
      "metadata": {
        "colab": {
          "base_uri": "https://localhost:8080/",
          "height": 552
        },
        "id": "5BolROOXseRM",
        "outputId": "d4901558-db11-440d-f54d-2412e0d376e1"
      },
      "execution_count": 18,
      "outputs": [
        {
          "output_type": "stream",
          "name": "stdout",
          "text": [
            "metformin: 1\n",
            "repaglinide: 1\n",
            "nateglinide: 1\n",
            "chlorpropamide: 1\n",
            "glimepiride: 1\n",
            "acetohexamide: 1\n",
            "glipizide: 1\n",
            "glyburide: 1\n",
            "tolbutamide: 1\n",
            "pioglitazone: 1\n",
            "rosiglitazone: 1\n",
            "acarbose: 1\n",
            "miglitol: 1\n",
            "troglitazone: 1\n",
            "tolazamide: 1\n",
            "examide: 1\n",
            "citoglipton: 1\n",
            "insulin: 1\n",
            "glyburide-metformin: 1\n",
            "glipizide-metformin: 1\n",
            "glimepiride-pioglitazone: 1\n",
            "metformin-rosiglitazone: 1\n",
            "metformin-pioglitazone: 1\n",
            "Cluster: 1\n",
            "Tamaño del cluster0: 120\n"
          ]
        },
        {
          "output_type": "execute_result",
          "data": {
            "text/plain": [
              "    metformin repaglinide nateglinide chlorpropamide glimepiride  \\\n",
              "335    Steady          No          No             No          No   \n",
              "\n",
              "    acetohexamide glipizide glyburide tolbutamide pioglitazone rosiglitazone  \\\n",
              "335            No        No        No          No           No            No   \n",
              "\n",
              "    acarbose miglitol troglitazone tolazamide examide citoglipton insulin  \\\n",
              "335       No       No           No         No      No          No      No   \n",
              "\n",
              "    glyburide-metformin glipizide-metformin glimepiride-pioglitazone  \\\n",
              "335                  No                  No                       No   \n",
              "\n",
              "    metformin-rosiglitazone metformin-pioglitazone  Cluster  \n",
              "335                      No                     No        0  "
            ],
            "text/html": [
              "\n",
              "  <div id=\"df-ff1c3d60-6b3c-40dc-8c88-7c718efe73ef\" class=\"colab-df-container\">\n",
              "    <div>\n",
              "<style scoped>\n",
              "    .dataframe tbody tr th:only-of-type {\n",
              "        vertical-align: middle;\n",
              "    }\n",
              "\n",
              "    .dataframe tbody tr th {\n",
              "        vertical-align: top;\n",
              "    }\n",
              "\n",
              "    .dataframe thead th {\n",
              "        text-align: right;\n",
              "    }\n",
              "</style>\n",
              "<table border=\"1\" class=\"dataframe\">\n",
              "  <thead>\n",
              "    <tr style=\"text-align: right;\">\n",
              "      <th></th>\n",
              "      <th>metformin</th>\n",
              "      <th>repaglinide</th>\n",
              "      <th>nateglinide</th>\n",
              "      <th>chlorpropamide</th>\n",
              "      <th>glimepiride</th>\n",
              "      <th>acetohexamide</th>\n",
              "      <th>glipizide</th>\n",
              "      <th>glyburide</th>\n",
              "      <th>tolbutamide</th>\n",
              "      <th>pioglitazone</th>\n",
              "      <th>rosiglitazone</th>\n",
              "      <th>acarbose</th>\n",
              "      <th>miglitol</th>\n",
              "      <th>troglitazone</th>\n",
              "      <th>tolazamide</th>\n",
              "      <th>examide</th>\n",
              "      <th>citoglipton</th>\n",
              "      <th>insulin</th>\n",
              "      <th>glyburide-metformin</th>\n",
              "      <th>glipizide-metformin</th>\n",
              "      <th>glimepiride-pioglitazone</th>\n",
              "      <th>metformin-rosiglitazone</th>\n",
              "      <th>metformin-pioglitazone</th>\n",
              "      <th>Cluster</th>\n",
              "    </tr>\n",
              "  </thead>\n",
              "  <tbody>\n",
              "    <tr>\n",
              "      <th>335</th>\n",
              "      <td>Steady</td>\n",
              "      <td>No</td>\n",
              "      <td>No</td>\n",
              "      <td>No</td>\n",
              "      <td>No</td>\n",
              "      <td>No</td>\n",
              "      <td>No</td>\n",
              "      <td>No</td>\n",
              "      <td>No</td>\n",
              "      <td>No</td>\n",
              "      <td>No</td>\n",
              "      <td>No</td>\n",
              "      <td>No</td>\n",
              "      <td>No</td>\n",
              "      <td>No</td>\n",
              "      <td>No</td>\n",
              "      <td>No</td>\n",
              "      <td>No</td>\n",
              "      <td>No</td>\n",
              "      <td>No</td>\n",
              "      <td>No</td>\n",
              "      <td>No</td>\n",
              "      <td>No</td>\n",
              "      <td>0</td>\n",
              "    </tr>\n",
              "  </tbody>\n",
              "</table>\n",
              "</div>\n",
              "    <div class=\"colab-df-buttons\">\n",
              "\n",
              "  <div class=\"colab-df-container\">\n",
              "    <button class=\"colab-df-convert\" onclick=\"convertToInteractive('df-ff1c3d60-6b3c-40dc-8c88-7c718efe73ef')\"\n",
              "            title=\"Convert this dataframe to an interactive table.\"\n",
              "            style=\"display:none;\">\n",
              "\n",
              "  <svg xmlns=\"http://www.w3.org/2000/svg\" height=\"24px\" viewBox=\"0 -960 960 960\">\n",
              "    <path d=\"M120-120v-720h720v720H120Zm60-500h600v-160H180v160Zm220 220h160v-160H400v160Zm0 220h160v-160H400v160ZM180-400h160v-160H180v160Zm440 0h160v-160H620v160ZM180-180h160v-160H180v160Zm440 0h160v-160H620v160Z\"/>\n",
              "  </svg>\n",
              "    </button>\n",
              "\n",
              "  <style>\n",
              "    .colab-df-container {\n",
              "      display:flex;\n",
              "      gap: 12px;\n",
              "    }\n",
              "\n",
              "    .colab-df-convert {\n",
              "      background-color: #E8F0FE;\n",
              "      border: none;\n",
              "      border-radius: 50%;\n",
              "      cursor: pointer;\n",
              "      display: none;\n",
              "      fill: #1967D2;\n",
              "      height: 32px;\n",
              "      padding: 0 0 0 0;\n",
              "      width: 32px;\n",
              "    }\n",
              "\n",
              "    .colab-df-convert:hover {\n",
              "      background-color: #E2EBFA;\n",
              "      box-shadow: 0px 1px 2px rgba(60, 64, 67, 0.3), 0px 1px 3px 1px rgba(60, 64, 67, 0.15);\n",
              "      fill: #174EA6;\n",
              "    }\n",
              "\n",
              "    .colab-df-buttons div {\n",
              "      margin-bottom: 4px;\n",
              "    }\n",
              "\n",
              "    [theme=dark] .colab-df-convert {\n",
              "      background-color: #3B4455;\n",
              "      fill: #D2E3FC;\n",
              "    }\n",
              "\n",
              "    [theme=dark] .colab-df-convert:hover {\n",
              "      background-color: #434B5C;\n",
              "      box-shadow: 0px 1px 3px 1px rgba(0, 0, 0, 0.15);\n",
              "      filter: drop-shadow(0px 1px 2px rgba(0, 0, 0, 0.3));\n",
              "      fill: #FFFFFF;\n",
              "    }\n",
              "  </style>\n",
              "\n",
              "    <script>\n",
              "      const buttonEl =\n",
              "        document.querySelector('#df-ff1c3d60-6b3c-40dc-8c88-7c718efe73ef button.colab-df-convert');\n",
              "      buttonEl.style.display =\n",
              "        google.colab.kernel.accessAllowed ? 'block' : 'none';\n",
              "\n",
              "      async function convertToInteractive(key) {\n",
              "        const element = document.querySelector('#df-ff1c3d60-6b3c-40dc-8c88-7c718efe73ef');\n",
              "        const dataTable =\n",
              "          await google.colab.kernel.invokeFunction('convertToInteractive',\n",
              "                                                    [key], {});\n",
              "        if (!dataTable) return;\n",
              "\n",
              "        const docLinkHtml = 'Like what you see? Visit the ' +\n",
              "          '<a target=\"_blank\" href=https://colab.research.google.com/notebooks/data_table.ipynb>data table notebook</a>'\n",
              "          + ' to learn more about interactive tables.';\n",
              "        element.innerHTML = '';\n",
              "        dataTable['output_type'] = 'display_data';\n",
              "        await google.colab.output.renderOutput(dataTable, element);\n",
              "        const docLink = document.createElement('div');\n",
              "        docLink.innerHTML = docLinkHtml;\n",
              "        element.appendChild(docLink);\n",
              "      }\n",
              "    </script>\n",
              "  </div>\n",
              "\n",
              "\n",
              "    </div>\n",
              "  </div>\n"
            ],
            "application/vnd.google.colaboratory.intrinsic+json": {
              "type": "dataframe",
              "variable_name": "cluster0"
            }
          },
          "metadata": {},
          "execution_count": 18
        }
      ]
    },
    {
      "cell_type": "markdown",
      "source": [
        "Este cluster se caracteriza por tener 120 pacientes los cuales la unica medicina que toman es **metformin**"
      ],
      "metadata": {
        "id": "KNtpzcPEu-FD"
      }
    },
    {
      "cell_type": "code",
      "source": [
        "for column in cluster1.columns:\n",
        "  print(f\"{column}: {cluster1[column].nunique()}\")\n",
        "print(\"Tamaño del cluster1:\", len(cluster1))\n",
        "cluster1.head(1)"
      ],
      "metadata": {
        "colab": {
          "base_uri": "https://localhost:8080/",
          "height": 552
        },
        "id": "beGOPCnHsg64",
        "outputId": "dfabe186-e71b-43b3-89fc-f60e524925fc"
      },
      "execution_count": 19,
      "outputs": [
        {
          "output_type": "stream",
          "name": "stdout",
          "text": [
            "metformin: 1\n",
            "repaglinide: 1\n",
            "nateglinide: 1\n",
            "chlorpropamide: 1\n",
            "glimepiride: 1\n",
            "acetohexamide: 1\n",
            "glipizide: 1\n",
            "glyburide: 1\n",
            "tolbutamide: 1\n",
            "pioglitazone: 1\n",
            "rosiglitazone: 1\n",
            "acarbose: 1\n",
            "miglitol: 1\n",
            "troglitazone: 1\n",
            "tolazamide: 1\n",
            "examide: 1\n",
            "citoglipton: 1\n",
            "insulin: 1\n",
            "glyburide-metformin: 1\n",
            "glipizide-metformin: 1\n",
            "glimepiride-pioglitazone: 1\n",
            "metformin-rosiglitazone: 1\n",
            "metformin-pioglitazone: 1\n",
            "Cluster: 1\n",
            "Tamaño del cluster1: 394\n"
          ]
        },
        {
          "output_type": "execute_result",
          "data": {
            "text/plain": [
              "   metformin repaglinide nateglinide chlorpropamide glimepiride acetohexamide  \\\n",
              "32        No          No          No             No          No            No   \n",
              "\n",
              "   glipizide glyburide tolbutamide pioglitazone rosiglitazone acarbose  \\\n",
              "32        No        No          No           No            No       No   \n",
              "\n",
              "   miglitol troglitazone tolazamide examide citoglipton insulin  \\\n",
              "32       No           No         No      No          No  Steady   \n",
              "\n",
              "   glyburide-metformin glipizide-metformin glimepiride-pioglitazone  \\\n",
              "32                  No                  No                       No   \n",
              "\n",
              "   metformin-rosiglitazone metformin-pioglitazone  Cluster  \n",
              "32                      No                     No        1  "
            ],
            "text/html": [
              "\n",
              "  <div id=\"df-b70d4af2-e0ad-4a22-b67b-fa351dc7d7f6\" class=\"colab-df-container\">\n",
              "    <div>\n",
              "<style scoped>\n",
              "    .dataframe tbody tr th:only-of-type {\n",
              "        vertical-align: middle;\n",
              "    }\n",
              "\n",
              "    .dataframe tbody tr th {\n",
              "        vertical-align: top;\n",
              "    }\n",
              "\n",
              "    .dataframe thead th {\n",
              "        text-align: right;\n",
              "    }\n",
              "</style>\n",
              "<table border=\"1\" class=\"dataframe\">\n",
              "  <thead>\n",
              "    <tr style=\"text-align: right;\">\n",
              "      <th></th>\n",
              "      <th>metformin</th>\n",
              "      <th>repaglinide</th>\n",
              "      <th>nateglinide</th>\n",
              "      <th>chlorpropamide</th>\n",
              "      <th>glimepiride</th>\n",
              "      <th>acetohexamide</th>\n",
              "      <th>glipizide</th>\n",
              "      <th>glyburide</th>\n",
              "      <th>tolbutamide</th>\n",
              "      <th>pioglitazone</th>\n",
              "      <th>rosiglitazone</th>\n",
              "      <th>acarbose</th>\n",
              "      <th>miglitol</th>\n",
              "      <th>troglitazone</th>\n",
              "      <th>tolazamide</th>\n",
              "      <th>examide</th>\n",
              "      <th>citoglipton</th>\n",
              "      <th>insulin</th>\n",
              "      <th>glyburide-metformin</th>\n",
              "      <th>glipizide-metformin</th>\n",
              "      <th>glimepiride-pioglitazone</th>\n",
              "      <th>metformin-rosiglitazone</th>\n",
              "      <th>metformin-pioglitazone</th>\n",
              "      <th>Cluster</th>\n",
              "    </tr>\n",
              "  </thead>\n",
              "  <tbody>\n",
              "    <tr>\n",
              "      <th>32</th>\n",
              "      <td>No</td>\n",
              "      <td>No</td>\n",
              "      <td>No</td>\n",
              "      <td>No</td>\n",
              "      <td>No</td>\n",
              "      <td>No</td>\n",
              "      <td>No</td>\n",
              "      <td>No</td>\n",
              "      <td>No</td>\n",
              "      <td>No</td>\n",
              "      <td>No</td>\n",
              "      <td>No</td>\n",
              "      <td>No</td>\n",
              "      <td>No</td>\n",
              "      <td>No</td>\n",
              "      <td>No</td>\n",
              "      <td>No</td>\n",
              "      <td>Steady</td>\n",
              "      <td>No</td>\n",
              "      <td>No</td>\n",
              "      <td>No</td>\n",
              "      <td>No</td>\n",
              "      <td>No</td>\n",
              "      <td>1</td>\n",
              "    </tr>\n",
              "  </tbody>\n",
              "</table>\n",
              "</div>\n",
              "    <div class=\"colab-df-buttons\">\n",
              "\n",
              "  <div class=\"colab-df-container\">\n",
              "    <button class=\"colab-df-convert\" onclick=\"convertToInteractive('df-b70d4af2-e0ad-4a22-b67b-fa351dc7d7f6')\"\n",
              "            title=\"Convert this dataframe to an interactive table.\"\n",
              "            style=\"display:none;\">\n",
              "\n",
              "  <svg xmlns=\"http://www.w3.org/2000/svg\" height=\"24px\" viewBox=\"0 -960 960 960\">\n",
              "    <path d=\"M120-120v-720h720v720H120Zm60-500h600v-160H180v160Zm220 220h160v-160H400v160Zm0 220h160v-160H400v160ZM180-400h160v-160H180v160Zm440 0h160v-160H620v160ZM180-180h160v-160H180v160Zm440 0h160v-160H620v160Z\"/>\n",
              "  </svg>\n",
              "    </button>\n",
              "\n",
              "  <style>\n",
              "    .colab-df-container {\n",
              "      display:flex;\n",
              "      gap: 12px;\n",
              "    }\n",
              "\n",
              "    .colab-df-convert {\n",
              "      background-color: #E8F0FE;\n",
              "      border: none;\n",
              "      border-radius: 50%;\n",
              "      cursor: pointer;\n",
              "      display: none;\n",
              "      fill: #1967D2;\n",
              "      height: 32px;\n",
              "      padding: 0 0 0 0;\n",
              "      width: 32px;\n",
              "    }\n",
              "\n",
              "    .colab-df-convert:hover {\n",
              "      background-color: #E2EBFA;\n",
              "      box-shadow: 0px 1px 2px rgba(60, 64, 67, 0.3), 0px 1px 3px 1px rgba(60, 64, 67, 0.15);\n",
              "      fill: #174EA6;\n",
              "    }\n",
              "\n",
              "    .colab-df-buttons div {\n",
              "      margin-bottom: 4px;\n",
              "    }\n",
              "\n",
              "    [theme=dark] .colab-df-convert {\n",
              "      background-color: #3B4455;\n",
              "      fill: #D2E3FC;\n",
              "    }\n",
              "\n",
              "    [theme=dark] .colab-df-convert:hover {\n",
              "      background-color: #434B5C;\n",
              "      box-shadow: 0px 1px 3px 1px rgba(0, 0, 0, 0.15);\n",
              "      filter: drop-shadow(0px 1px 2px rgba(0, 0, 0, 0.3));\n",
              "      fill: #FFFFFF;\n",
              "    }\n",
              "  </style>\n",
              "\n",
              "    <script>\n",
              "      const buttonEl =\n",
              "        document.querySelector('#df-b70d4af2-e0ad-4a22-b67b-fa351dc7d7f6 button.colab-df-convert');\n",
              "      buttonEl.style.display =\n",
              "        google.colab.kernel.accessAllowed ? 'block' : 'none';\n",
              "\n",
              "      async function convertToInteractive(key) {\n",
              "        const element = document.querySelector('#df-b70d4af2-e0ad-4a22-b67b-fa351dc7d7f6');\n",
              "        const dataTable =\n",
              "          await google.colab.kernel.invokeFunction('convertToInteractive',\n",
              "                                                    [key], {});\n",
              "        if (!dataTable) return;\n",
              "\n",
              "        const docLinkHtml = 'Like what you see? Visit the ' +\n",
              "          '<a target=\"_blank\" href=https://colab.research.google.com/notebooks/data_table.ipynb>data table notebook</a>'\n",
              "          + ' to learn more about interactive tables.';\n",
              "        element.innerHTML = '';\n",
              "        dataTable['output_type'] = 'display_data';\n",
              "        await google.colab.output.renderOutput(dataTable, element);\n",
              "        const docLink = document.createElement('div');\n",
              "        docLink.innerHTML = docLinkHtml;\n",
              "        element.appendChild(docLink);\n",
              "      }\n",
              "    </script>\n",
              "  </div>\n",
              "\n",
              "\n",
              "    </div>\n",
              "  </div>\n"
            ],
            "application/vnd.google.colaboratory.intrinsic+json": {
              "type": "dataframe",
              "variable_name": "cluster1"
            }
          },
          "metadata": {},
          "execution_count": 19
        }
      ]
    },
    {
      "cell_type": "markdown",
      "source": [
        "Este cluster se caracteriza por tener 394 pacientes los cuales la unica medicina que toman es **insulin**"
      ],
      "metadata": {
        "id": "EMhJSEF2vsC0"
      }
    },
    {
      "cell_type": "code",
      "source": [
        "for column in cluster2.columns:\n",
        "  print(f\"{column}: {cluster2[column].nunique()}\")\n",
        "print(\"Tamaño del cluster2:\", len(cluster2))"
      ],
      "metadata": {
        "colab": {
          "base_uri": "https://localhost:8080/"
        },
        "id": "C7xgz_hfs0SY",
        "outputId": "242f8e2b-9fb8-415c-e71a-93836f95ca27"
      },
      "execution_count": 20,
      "outputs": [
        {
          "output_type": "stream",
          "name": "stdout",
          "text": [
            "metformin: 1\n",
            "repaglinide: 2\n",
            "nateglinide: 2\n",
            "chlorpropamide: 2\n",
            "glimepiride: 2\n",
            "acetohexamide: 1\n",
            "glipizide: 2\n",
            "glyburide: 2\n",
            "tolbutamide: 1\n",
            "pioglitazone: 2\n",
            "rosiglitazone: 2\n",
            "acarbose: 2\n",
            "miglitol: 1\n",
            "troglitazone: 1\n",
            "tolazamide: 2\n",
            "examide: 1\n",
            "citoglipton: 1\n",
            "insulin: 1\n",
            "glyburide-metformin: 1\n",
            "glipizide-metformin: 1\n",
            "glimepiride-pioglitazone: 1\n",
            "metformin-rosiglitazone: 1\n",
            "metformin-pioglitazone: 1\n",
            "Cluster: 1\n",
            "Tamaño del cluster2: 198\n"
          ]
        }
      ]
    },
    {
      "cell_type": "markdown",
      "source": [
        "Para el cluster 2 con ver la primera fila sabríamos cuales pueden tener Steady o No en cada columna. Despues de esto, estamos interesados en averiguar si hay combinación de medicamentos o si al igual que los cluster anteriores solo se aplican de a uno"
      ],
      "metadata": {
        "id": "0sqaRRYoxcMH"
      }
    },
    {
      "cell_type": "code",
      "source": [
        "def check_multiple_columns_for_value(df, value): #Con esta función vamos a buscar las filas donde la palabra Steady se encuentre en mas de 1 columna\n",
        "  return (df == value).all(axis=1)\n",
        "\n",
        "value_to_check = 'Steady'\n",
        "rows_with_same_value = check_multiple_columns_for_value(cluster2, value_to_check)\n",
        "\n",
        "# Print the rows that have 'No' in all specified columns.\n",
        "print(cluster2[rows_with_same_value])"
      ],
      "metadata": {
        "colab": {
          "base_uri": "https://localhost:8080/"
        },
        "id": "rcZKKJP9xZm7",
        "outputId": "ac0ecffc-8dee-4b2e-d7c4-6b6a9a0680cb"
      },
      "execution_count": 21,
      "outputs": [
        {
          "output_type": "stream",
          "name": "stdout",
          "text": [
            "Empty DataFrame\n",
            "Columns: [metformin, repaglinide, nateglinide, chlorpropamide, glimepiride, acetohexamide, glipizide, glyburide, tolbutamide, pioglitazone, rosiglitazone, acarbose, miglitol, troglitazone, tolazamide, examide, citoglipton, insulin, glyburide-metformin, glipizide-metformin, glimepiride-pioglitazone, metformin-rosiglitazone, metformin-pioglitazone, Cluster]\n",
            "Index: []\n"
          ]
        }
      ]
    },
    {
      "cell_type": "code",
      "source": [
        "cluster2.head(1)"
      ],
      "metadata": {
        "colab": {
          "base_uri": "https://localhost:8080/",
          "height": 118
        },
        "id": "QVCWlZt2zApU",
        "outputId": "a22c693c-73e5-41ec-dfcf-2e0ba0401f11"
      },
      "execution_count": 22,
      "outputs": [
        {
          "output_type": "execute_result",
          "data": {
            "text/plain": [
              "   metformin repaglinide nateglinide chlorpropamide glimepiride acetohexamide  \\\n",
              "24        No      Steady          No             No          No            No   \n",
              "\n",
              "   glipizide glyburide tolbutamide pioglitazone rosiglitazone acarbose  \\\n",
              "24        No        No          No           No            No       No   \n",
              "\n",
              "   miglitol troglitazone tolazamide examide citoglipton insulin  \\\n",
              "24       No           No         No      No          No      No   \n",
              "\n",
              "   glyburide-metformin glipizide-metformin glimepiride-pioglitazone  \\\n",
              "24                  No                  No                       No   \n",
              "\n",
              "   metformin-rosiglitazone metformin-pioglitazone  Cluster  \n",
              "24                      No                     No        2  "
            ],
            "text/html": [
              "\n",
              "  <div id=\"df-5847e021-fcef-46f7-a430-5b33217630ce\" class=\"colab-df-container\">\n",
              "    <div>\n",
              "<style scoped>\n",
              "    .dataframe tbody tr th:only-of-type {\n",
              "        vertical-align: middle;\n",
              "    }\n",
              "\n",
              "    .dataframe tbody tr th {\n",
              "        vertical-align: top;\n",
              "    }\n",
              "\n",
              "    .dataframe thead th {\n",
              "        text-align: right;\n",
              "    }\n",
              "</style>\n",
              "<table border=\"1\" class=\"dataframe\">\n",
              "  <thead>\n",
              "    <tr style=\"text-align: right;\">\n",
              "      <th></th>\n",
              "      <th>metformin</th>\n",
              "      <th>repaglinide</th>\n",
              "      <th>nateglinide</th>\n",
              "      <th>chlorpropamide</th>\n",
              "      <th>glimepiride</th>\n",
              "      <th>acetohexamide</th>\n",
              "      <th>glipizide</th>\n",
              "      <th>glyburide</th>\n",
              "      <th>tolbutamide</th>\n",
              "      <th>pioglitazone</th>\n",
              "      <th>rosiglitazone</th>\n",
              "      <th>acarbose</th>\n",
              "      <th>miglitol</th>\n",
              "      <th>troglitazone</th>\n",
              "      <th>tolazamide</th>\n",
              "      <th>examide</th>\n",
              "      <th>citoglipton</th>\n",
              "      <th>insulin</th>\n",
              "      <th>glyburide-metformin</th>\n",
              "      <th>glipizide-metformin</th>\n",
              "      <th>glimepiride-pioglitazone</th>\n",
              "      <th>metformin-rosiglitazone</th>\n",
              "      <th>metformin-pioglitazone</th>\n",
              "      <th>Cluster</th>\n",
              "    </tr>\n",
              "  </thead>\n",
              "  <tbody>\n",
              "    <tr>\n",
              "      <th>24</th>\n",
              "      <td>No</td>\n",
              "      <td>Steady</td>\n",
              "      <td>No</td>\n",
              "      <td>No</td>\n",
              "      <td>No</td>\n",
              "      <td>No</td>\n",
              "      <td>No</td>\n",
              "      <td>No</td>\n",
              "      <td>No</td>\n",
              "      <td>No</td>\n",
              "      <td>No</td>\n",
              "      <td>No</td>\n",
              "      <td>No</td>\n",
              "      <td>No</td>\n",
              "      <td>No</td>\n",
              "      <td>No</td>\n",
              "      <td>No</td>\n",
              "      <td>No</td>\n",
              "      <td>No</td>\n",
              "      <td>No</td>\n",
              "      <td>No</td>\n",
              "      <td>No</td>\n",
              "      <td>No</td>\n",
              "      <td>2</td>\n",
              "    </tr>\n",
              "  </tbody>\n",
              "</table>\n",
              "</div>\n",
              "    <div class=\"colab-df-buttons\">\n",
              "\n",
              "  <div class=\"colab-df-container\">\n",
              "    <button class=\"colab-df-convert\" onclick=\"convertToInteractive('df-5847e021-fcef-46f7-a430-5b33217630ce')\"\n",
              "            title=\"Convert this dataframe to an interactive table.\"\n",
              "            style=\"display:none;\">\n",
              "\n",
              "  <svg xmlns=\"http://www.w3.org/2000/svg\" height=\"24px\" viewBox=\"0 -960 960 960\">\n",
              "    <path d=\"M120-120v-720h720v720H120Zm60-500h600v-160H180v160Zm220 220h160v-160H400v160Zm0 220h160v-160H400v160ZM180-400h160v-160H180v160Zm440 0h160v-160H620v160ZM180-180h160v-160H180v160Zm440 0h160v-160H620v160Z\"/>\n",
              "  </svg>\n",
              "    </button>\n",
              "\n",
              "  <style>\n",
              "    .colab-df-container {\n",
              "      display:flex;\n",
              "      gap: 12px;\n",
              "    }\n",
              "\n",
              "    .colab-df-convert {\n",
              "      background-color: #E8F0FE;\n",
              "      border: none;\n",
              "      border-radius: 50%;\n",
              "      cursor: pointer;\n",
              "      display: none;\n",
              "      fill: #1967D2;\n",
              "      height: 32px;\n",
              "      padding: 0 0 0 0;\n",
              "      width: 32px;\n",
              "    }\n",
              "\n",
              "    .colab-df-convert:hover {\n",
              "      background-color: #E2EBFA;\n",
              "      box-shadow: 0px 1px 2px rgba(60, 64, 67, 0.3), 0px 1px 3px 1px rgba(60, 64, 67, 0.15);\n",
              "      fill: #174EA6;\n",
              "    }\n",
              "\n",
              "    .colab-df-buttons div {\n",
              "      margin-bottom: 4px;\n",
              "    }\n",
              "\n",
              "    [theme=dark] .colab-df-convert {\n",
              "      background-color: #3B4455;\n",
              "      fill: #D2E3FC;\n",
              "    }\n",
              "\n",
              "    [theme=dark] .colab-df-convert:hover {\n",
              "      background-color: #434B5C;\n",
              "      box-shadow: 0px 1px 3px 1px rgba(0, 0, 0, 0.15);\n",
              "      filter: drop-shadow(0px 1px 2px rgba(0, 0, 0, 0.3));\n",
              "      fill: #FFFFFF;\n",
              "    }\n",
              "  </style>\n",
              "\n",
              "    <script>\n",
              "      const buttonEl =\n",
              "        document.querySelector('#df-5847e021-fcef-46f7-a430-5b33217630ce button.colab-df-convert');\n",
              "      buttonEl.style.display =\n",
              "        google.colab.kernel.accessAllowed ? 'block' : 'none';\n",
              "\n",
              "      async function convertToInteractive(key) {\n",
              "        const element = document.querySelector('#df-5847e021-fcef-46f7-a430-5b33217630ce');\n",
              "        const dataTable =\n",
              "          await google.colab.kernel.invokeFunction('convertToInteractive',\n",
              "                                                    [key], {});\n",
              "        if (!dataTable) return;\n",
              "\n",
              "        const docLinkHtml = 'Like what you see? Visit the ' +\n",
              "          '<a target=\"_blank\" href=https://colab.research.google.com/notebooks/data_table.ipynb>data table notebook</a>'\n",
              "          + ' to learn more about interactive tables.';\n",
              "        element.innerHTML = '';\n",
              "        dataTable['output_type'] = 'display_data';\n",
              "        await google.colab.output.renderOutput(dataTable, element);\n",
              "        const docLink = document.createElement('div');\n",
              "        docLink.innerHTML = docLinkHtml;\n",
              "        element.appendChild(docLink);\n",
              "      }\n",
              "    </script>\n",
              "  </div>\n",
              "\n",
              "\n",
              "    </div>\n",
              "  </div>\n"
            ],
            "application/vnd.google.colaboratory.intrinsic+json": {
              "type": "dataframe",
              "variable_name": "cluster2"
            }
          },
          "metadata": {},
          "execution_count": 22
        }
      ]
    },
    {
      "cell_type": "markdown",
      "source": [
        "El cluster 2 son 198 personas que solo toman un medicamento que puede variar entre:\n",
        "\n",
        "\n",
        "*   repaglinide\n",
        "*   nateglinide\n",
        "*   chlorpropamide\n",
        "*   glimepiride\n",
        "*   glipizide\n",
        "*   glyburide\n",
        "*   pioglitazone\n",
        "*   rosiglitazone\n",
        "*   acarbose\n",
        "*   tolazamide\n",
        "\n"
      ],
      "metadata": {
        "id": "F945GzRBx3vr"
      }
    },
    {
      "cell_type": "markdown",
      "source": [
        "Ahora vamos a graficar la cantidad de personas que toma cada medicamento dentro del grupo de control. Recordemos que el grupo de control toma solo 1 medicamento\n",
        "\n"
      ],
      "metadata": {
        "id": "eJ7pfD0ntKk8"
      }
    },
    {
      "cell_type": "code",
      "source": [
        "frecuencia_steady = cluster2.apply(lambda col: (col == 'Steady').sum())\n",
        "frecuencia_steady += cluster1.apply(lambda col: (col == 'Steady').sum())\n",
        "frecuencia_steady += cluster0.apply(lambda col: (col == 'Steady').sum())\n",
        "frecuencia_steady_df = frecuencia_steady.reset_index()\n",
        "frecuencia_steady_df.columns = ['Medicina', 'Cantidad de pacientes']\n",
        "frecuencia_steady_df = frecuencia_steady_df[frecuencia_steady_df['Cantidad de pacientes'] != 0]\n",
        "fig = px.bar(frecuencia_steady_df, x='Medicina', y='Cantidad de pacientes',\n",
        "             title='Cantidad de pacientes vs Medicina')\n",
        "fig.show()"
      ],
      "metadata": {
        "colab": {
          "base_uri": "https://localhost:8080/",
          "height": 542
        },
        "id": "WitVgZCk00f5",
        "outputId": "c674078b-724e-4d38-afab-52fb8edeeab5"
      },
      "execution_count": 23,
      "outputs": [
        {
          "output_type": "display_data",
          "data": {
            "text/html": [
              "<html>\n",
              "<head><meta charset=\"utf-8\" /></head>\n",
              "<body>\n",
              "    <div>            <script src=\"https://cdnjs.cloudflare.com/ajax/libs/mathjax/2.7.5/MathJax.js?config=TeX-AMS-MML_SVG\"></script><script type=\"text/javascript\">if (window.MathJax && window.MathJax.Hub && window.MathJax.Hub.Config) {window.MathJax.Hub.Config({SVG: {font: \"STIX-Web\"}});}</script>                <script type=\"text/javascript\">window.PlotlyConfig = {MathJaxConfig: 'local'};</script>\n",
              "        <script charset=\"utf-8\" src=\"https://cdn.plot.ly/plotly-2.35.2.min.js\"></script>                <div id=\"e519cfd7-df3c-488f-92dc-7897898e7ecd\" class=\"plotly-graph-div\" style=\"height:525px; width:100%;\"></div>            <script type=\"text/javascript\">                                    window.PLOTLYENV=window.PLOTLYENV || {};                                    if (document.getElementById(\"e519cfd7-df3c-488f-92dc-7897898e7ecd\")) {                    Plotly.newPlot(                        \"e519cfd7-df3c-488f-92dc-7897898e7ecd\",                        [{\"alignmentgroup\":\"True\",\"hovertemplate\":\"Medicina=%{x}\\u003cbr\\u003eCantidad de pacientes=%{y}\\u003cextra\\u003e\\u003c\\u002fextra\\u003e\",\"legendgroup\":\"\",\"marker\":{\"color\":\"#636efa\",\"pattern\":{\"shape\":\"\"}},\"name\":\"\",\"offsetgroup\":\"\",\"orientation\":\"v\",\"showlegend\":false,\"textposition\":\"auto\",\"x\":[\"metformin\",\"repaglinide\",\"nateglinide\",\"chlorpropamide\",\"glimepiride\",\"glipizide\",\"glyburide\",\"pioglitazone\",\"rosiglitazone\",\"acarbose\",\"tolazamide\",\"insulin\"],\"xaxis\":\"x\",\"y\":[120,4,4,2,31,61,50,25,19,1,1,394],\"yaxis\":\"y\",\"type\":\"bar\"}],                        {\"template\":{\"data\":{\"histogram2dcontour\":[{\"type\":\"histogram2dcontour\",\"colorbar\":{\"outlinewidth\":0,\"ticks\":\"\"},\"colorscale\":[[0.0,\"#0d0887\"],[0.1111111111111111,\"#46039f\"],[0.2222222222222222,\"#7201a8\"],[0.3333333333333333,\"#9c179e\"],[0.4444444444444444,\"#bd3786\"],[0.5555555555555556,\"#d8576b\"],[0.6666666666666666,\"#ed7953\"],[0.7777777777777778,\"#fb9f3a\"],[0.8888888888888888,\"#fdca26\"],[1.0,\"#f0f921\"]]}],\"choropleth\":[{\"type\":\"choropleth\",\"colorbar\":{\"outlinewidth\":0,\"ticks\":\"\"}}],\"histogram2d\":[{\"type\":\"histogram2d\",\"colorbar\":{\"outlinewidth\":0,\"ticks\":\"\"},\"colorscale\":[[0.0,\"#0d0887\"],[0.1111111111111111,\"#46039f\"],[0.2222222222222222,\"#7201a8\"],[0.3333333333333333,\"#9c179e\"],[0.4444444444444444,\"#bd3786\"],[0.5555555555555556,\"#d8576b\"],[0.6666666666666666,\"#ed7953\"],[0.7777777777777778,\"#fb9f3a\"],[0.8888888888888888,\"#fdca26\"],[1.0,\"#f0f921\"]]}],\"heatmap\":[{\"type\":\"heatmap\",\"colorbar\":{\"outlinewidth\":0,\"ticks\":\"\"},\"colorscale\":[[0.0,\"#0d0887\"],[0.1111111111111111,\"#46039f\"],[0.2222222222222222,\"#7201a8\"],[0.3333333333333333,\"#9c179e\"],[0.4444444444444444,\"#bd3786\"],[0.5555555555555556,\"#d8576b\"],[0.6666666666666666,\"#ed7953\"],[0.7777777777777778,\"#fb9f3a\"],[0.8888888888888888,\"#fdca26\"],[1.0,\"#f0f921\"]]}],\"heatmapgl\":[{\"type\":\"heatmapgl\",\"colorbar\":{\"outlinewidth\":0,\"ticks\":\"\"},\"colorscale\":[[0.0,\"#0d0887\"],[0.1111111111111111,\"#46039f\"],[0.2222222222222222,\"#7201a8\"],[0.3333333333333333,\"#9c179e\"],[0.4444444444444444,\"#bd3786\"],[0.5555555555555556,\"#d8576b\"],[0.6666666666666666,\"#ed7953\"],[0.7777777777777778,\"#fb9f3a\"],[0.8888888888888888,\"#fdca26\"],[1.0,\"#f0f921\"]]}],\"contourcarpet\":[{\"type\":\"contourcarpet\",\"colorbar\":{\"outlinewidth\":0,\"ticks\":\"\"}}],\"contour\":[{\"type\":\"contour\",\"colorbar\":{\"outlinewidth\":0,\"ticks\":\"\"},\"colorscale\":[[0.0,\"#0d0887\"],[0.1111111111111111,\"#46039f\"],[0.2222222222222222,\"#7201a8\"],[0.3333333333333333,\"#9c179e\"],[0.4444444444444444,\"#bd3786\"],[0.5555555555555556,\"#d8576b\"],[0.6666666666666666,\"#ed7953\"],[0.7777777777777778,\"#fb9f3a\"],[0.8888888888888888,\"#fdca26\"],[1.0,\"#f0f921\"]]}],\"surface\":[{\"type\":\"surface\",\"colorbar\":{\"outlinewidth\":0,\"ticks\":\"\"},\"colorscale\":[[0.0,\"#0d0887\"],[0.1111111111111111,\"#46039f\"],[0.2222222222222222,\"#7201a8\"],[0.3333333333333333,\"#9c179e\"],[0.4444444444444444,\"#bd3786\"],[0.5555555555555556,\"#d8576b\"],[0.6666666666666666,\"#ed7953\"],[0.7777777777777778,\"#fb9f3a\"],[0.8888888888888888,\"#fdca26\"],[1.0,\"#f0f921\"]]}],\"mesh3d\":[{\"type\":\"mesh3d\",\"colorbar\":{\"outlinewidth\":0,\"ticks\":\"\"}}],\"scatter\":[{\"fillpattern\":{\"fillmode\":\"overlay\",\"size\":10,\"solidity\":0.2},\"type\":\"scatter\"}],\"parcoords\":[{\"type\":\"parcoords\",\"line\":{\"colorbar\":{\"outlinewidth\":0,\"ticks\":\"\"}}}],\"scatterpolargl\":[{\"type\":\"scatterpolargl\",\"marker\":{\"colorbar\":{\"outlinewidth\":0,\"ticks\":\"\"}}}],\"bar\":[{\"error_x\":{\"color\":\"#2a3f5f\"},\"error_y\":{\"color\":\"#2a3f5f\"},\"marker\":{\"line\":{\"color\":\"#E5ECF6\",\"width\":0.5},\"pattern\":{\"fillmode\":\"overlay\",\"size\":10,\"solidity\":0.2}},\"type\":\"bar\"}],\"scattergeo\":[{\"type\":\"scattergeo\",\"marker\":{\"colorbar\":{\"outlinewidth\":0,\"ticks\":\"\"}}}],\"scatterpolar\":[{\"type\":\"scatterpolar\",\"marker\":{\"colorbar\":{\"outlinewidth\":0,\"ticks\":\"\"}}}],\"histogram\":[{\"marker\":{\"pattern\":{\"fillmode\":\"overlay\",\"size\":10,\"solidity\":0.2}},\"type\":\"histogram\"}],\"scattergl\":[{\"type\":\"scattergl\",\"marker\":{\"colorbar\":{\"outlinewidth\":0,\"ticks\":\"\"}}}],\"scatter3d\":[{\"type\":\"scatter3d\",\"line\":{\"colorbar\":{\"outlinewidth\":0,\"ticks\":\"\"}},\"marker\":{\"colorbar\":{\"outlinewidth\":0,\"ticks\":\"\"}}}],\"scattermapbox\":[{\"type\":\"scattermapbox\",\"marker\":{\"colorbar\":{\"outlinewidth\":0,\"ticks\":\"\"}}}],\"scatterternary\":[{\"type\":\"scatterternary\",\"marker\":{\"colorbar\":{\"outlinewidth\":0,\"ticks\":\"\"}}}],\"scattercarpet\":[{\"type\":\"scattercarpet\",\"marker\":{\"colorbar\":{\"outlinewidth\":0,\"ticks\":\"\"}}}],\"carpet\":[{\"aaxis\":{\"endlinecolor\":\"#2a3f5f\",\"gridcolor\":\"white\",\"linecolor\":\"white\",\"minorgridcolor\":\"white\",\"startlinecolor\":\"#2a3f5f\"},\"baxis\":{\"endlinecolor\":\"#2a3f5f\",\"gridcolor\":\"white\",\"linecolor\":\"white\",\"minorgridcolor\":\"white\",\"startlinecolor\":\"#2a3f5f\"},\"type\":\"carpet\"}],\"table\":[{\"cells\":{\"fill\":{\"color\":\"#EBF0F8\"},\"line\":{\"color\":\"white\"}},\"header\":{\"fill\":{\"color\":\"#C8D4E3\"},\"line\":{\"color\":\"white\"}},\"type\":\"table\"}],\"barpolar\":[{\"marker\":{\"line\":{\"color\":\"#E5ECF6\",\"width\":0.5},\"pattern\":{\"fillmode\":\"overlay\",\"size\":10,\"solidity\":0.2}},\"type\":\"barpolar\"}],\"pie\":[{\"automargin\":true,\"type\":\"pie\"}]},\"layout\":{\"autotypenumbers\":\"strict\",\"colorway\":[\"#636efa\",\"#EF553B\",\"#00cc96\",\"#ab63fa\",\"#FFA15A\",\"#19d3f3\",\"#FF6692\",\"#B6E880\",\"#FF97FF\",\"#FECB52\"],\"font\":{\"color\":\"#2a3f5f\"},\"hovermode\":\"closest\",\"hoverlabel\":{\"align\":\"left\"},\"paper_bgcolor\":\"white\",\"plot_bgcolor\":\"#E5ECF6\",\"polar\":{\"bgcolor\":\"#E5ECF6\",\"angularaxis\":{\"gridcolor\":\"white\",\"linecolor\":\"white\",\"ticks\":\"\"},\"radialaxis\":{\"gridcolor\":\"white\",\"linecolor\":\"white\",\"ticks\":\"\"}},\"ternary\":{\"bgcolor\":\"#E5ECF6\",\"aaxis\":{\"gridcolor\":\"white\",\"linecolor\":\"white\",\"ticks\":\"\"},\"baxis\":{\"gridcolor\":\"white\",\"linecolor\":\"white\",\"ticks\":\"\"},\"caxis\":{\"gridcolor\":\"white\",\"linecolor\":\"white\",\"ticks\":\"\"}},\"coloraxis\":{\"colorbar\":{\"outlinewidth\":0,\"ticks\":\"\"}},\"colorscale\":{\"sequential\":[[0.0,\"#0d0887\"],[0.1111111111111111,\"#46039f\"],[0.2222222222222222,\"#7201a8\"],[0.3333333333333333,\"#9c179e\"],[0.4444444444444444,\"#bd3786\"],[0.5555555555555556,\"#d8576b\"],[0.6666666666666666,\"#ed7953\"],[0.7777777777777778,\"#fb9f3a\"],[0.8888888888888888,\"#fdca26\"],[1.0,\"#f0f921\"]],\"sequentialminus\":[[0.0,\"#0d0887\"],[0.1111111111111111,\"#46039f\"],[0.2222222222222222,\"#7201a8\"],[0.3333333333333333,\"#9c179e\"],[0.4444444444444444,\"#bd3786\"],[0.5555555555555556,\"#d8576b\"],[0.6666666666666666,\"#ed7953\"],[0.7777777777777778,\"#fb9f3a\"],[0.8888888888888888,\"#fdca26\"],[1.0,\"#f0f921\"]],\"diverging\":[[0,\"#8e0152\"],[0.1,\"#c51b7d\"],[0.2,\"#de77ae\"],[0.3,\"#f1b6da\"],[0.4,\"#fde0ef\"],[0.5,\"#f7f7f7\"],[0.6,\"#e6f5d0\"],[0.7,\"#b8e186\"],[0.8,\"#7fbc41\"],[0.9,\"#4d9221\"],[1,\"#276419\"]]},\"xaxis\":{\"gridcolor\":\"white\",\"linecolor\":\"white\",\"ticks\":\"\",\"title\":{\"standoff\":15},\"zerolinecolor\":\"white\",\"automargin\":true,\"zerolinewidth\":2},\"yaxis\":{\"gridcolor\":\"white\",\"linecolor\":\"white\",\"ticks\":\"\",\"title\":{\"standoff\":15},\"zerolinecolor\":\"white\",\"automargin\":true,\"zerolinewidth\":2},\"scene\":{\"xaxis\":{\"backgroundcolor\":\"#E5ECF6\",\"gridcolor\":\"white\",\"linecolor\":\"white\",\"showbackground\":true,\"ticks\":\"\",\"zerolinecolor\":\"white\",\"gridwidth\":2},\"yaxis\":{\"backgroundcolor\":\"#E5ECF6\",\"gridcolor\":\"white\",\"linecolor\":\"white\",\"showbackground\":true,\"ticks\":\"\",\"zerolinecolor\":\"white\",\"gridwidth\":2},\"zaxis\":{\"backgroundcolor\":\"#E5ECF6\",\"gridcolor\":\"white\",\"linecolor\":\"white\",\"showbackground\":true,\"ticks\":\"\",\"zerolinecolor\":\"white\",\"gridwidth\":2}},\"shapedefaults\":{\"line\":{\"color\":\"#2a3f5f\"}},\"annotationdefaults\":{\"arrowcolor\":\"#2a3f5f\",\"arrowhead\":0,\"arrowwidth\":1},\"geo\":{\"bgcolor\":\"white\",\"landcolor\":\"#E5ECF6\",\"subunitcolor\":\"white\",\"showland\":true,\"showlakes\":true,\"lakecolor\":\"white\"},\"title\":{\"x\":0.05},\"mapbox\":{\"style\":\"light\"}}},\"xaxis\":{\"anchor\":\"y\",\"domain\":[0.0,1.0],\"title\":{\"text\":\"Medicina\"}},\"yaxis\":{\"anchor\":\"x\",\"domain\":[0.0,1.0],\"title\":{\"text\":\"Cantidad de pacientes\"}},\"legend\":{\"tracegroupgap\":0},\"title\":{\"text\":\"Cantidad de pacientes vs Medicina\"},\"barmode\":\"relative\"},                        {\"responsive\": true}                    ).then(function(){\n",
              "                            \n",
              "var gd = document.getElementById('e519cfd7-df3c-488f-92dc-7897898e7ecd');\n",
              "var x = new MutationObserver(function (mutations, observer) {{\n",
              "        var display = window.getComputedStyle(gd).display;\n",
              "        if (!display || display === 'none') {{\n",
              "            console.log([gd, 'removed!']);\n",
              "            Plotly.purge(gd);\n",
              "            observer.disconnect();\n",
              "        }}\n",
              "}});\n",
              "\n",
              "// Listen for the removal of the full notebook cells\n",
              "var notebookContainer = gd.closest('#notebook-container');\n",
              "if (notebookContainer) {{\n",
              "    x.observe(notebookContainer, {childList: true});\n",
              "}}\n",
              "\n",
              "// Listen for the clearing of the current output cell\n",
              "var outputEl = gd.closest('.output');\n",
              "if (outputEl) {{\n",
              "    x.observe(outputEl, {childList: true});\n",
              "}}\n",
              "\n",
              "                        })                };                            </script>        </div>\n",
              "</body>\n",
              "</html>"
            ]
          },
          "metadata": {}
        }
      ]
    },
    {
      "cell_type": "markdown",
      "source": [
        "Conclusiones grupo de control\n",
        "\n",
        "\n",
        "*   Siempre toman 1 sola medicina\n",
        "*   La insulina, metformin, glipizide, glyburide van a ser consideradas las medicinas que al tomarse solas deberían dar buenos resultados en el examen y evitar la readmisión. Se toman estás 4 ya que ellas corresponde al 87.7% del grupo de control.\n",
        "\n",
        "Las otras medicinas fueron eficaces en tan pocos casos que no se pueden tomar como referencia. Por lo tanto serán excluidas del grupo de control.\n",
        "\n"
      ],
      "metadata": {
        "id": "G57LJPRj2yYa"
      }
    },
    {
      "cell_type": "code",
      "source": [
        "control_group = control_group[(control_group['metformin'] == 'Steady') |\n",
        "                              (control_group['glipizide'] == 'Steady') |\n",
        "                              (control_group['glyburide'] == 'Steady') |\n",
        "                              (control_group['insulin'] == 'Steady')]\n",
        "len(control_group)"
      ],
      "metadata": {
        "colab": {
          "base_uri": "https://localhost:8080/"
        },
        "id": "5YzcAbl95ZpB",
        "outputId": "2ed5c3a2-2806-4ece-ee11-1f8f816cc497"
      },
      "execution_count": 24,
      "outputs": [
        {
          "output_type": "execute_result",
          "data": {
            "text/plain": [
              "625"
            ]
          },
          "metadata": {},
          "execution_count": 24
        }
      ]
    },
    {
      "cell_type": "markdown",
      "source": [
        "Ahora para el grupo de control vamos a explorar un poco los siguientes features:\n",
        "\n",
        "\n",
        "*   **diag_1**\n",
        "*   **medical_specialty**\n",
        "*   **admission_type_id**\n",
        "*   **age**"
      ],
      "metadata": {
        "id": "KSVC8XPY4zAw"
      }
    },
    {
      "cell_type": "markdown",
      "source": [
        "Los códigos del **diag_1** corresponden a los ICD-9 codes reportados por  *International Statistical Classification of Diseases and Related Health Problems*.\n",
        "\n",
        "Los codigos van por rangos y tienen un significado por rango, por lo tanto vamos a agrupar los códigos en los rangos (*https://www.aapc.com/codes/icd9-codes-range/*)"
      ],
      "metadata": {
        "id": "EVHcernIAMcG"
      }
    },
    {
      "cell_type": "code",
      "source": [
        "def replace_diag(diag):\n",
        "  try:\n",
        "    diag = float(diag)\n",
        "    if 1 <= diag <= 139:\n",
        "      return 'Infectious and parasitic diseases'\n",
        "    elif 140 <= diag <= 239:\n",
        "      return 'Neoplasms'\n",
        "    elif 240 <= diag <= 279:\n",
        "      return 'Endocrine, nutritional and metabolic diseases, and immunity disorders'\n",
        "    elif 280 <= diag <= 289:\n",
        "      return 'Diseases of the blood and blood-forming organs'\n",
        "    elif 290 <= diag <= 319:\n",
        "      return 'Mental disorders'\n",
        "    elif 320 <= diag <= 389:\n",
        "      return 'Diseases of the nervous system and sense organs'\n",
        "    elif 390 <= diag <= 459:\n",
        "      return 'Diseases of the circulatory system'\n",
        "    elif 460 <= diag <= 519:\n",
        "      return 'Diseases of the respiratory system'\n",
        "    elif 520 <= diag <= 579:\n",
        "      return 'Diseases of the digestive system'\n",
        "    elif 580 <= diag <= 629:\n",
        "      return 'Diseases of the genitourinary system'\n",
        "    elif 630 <= diag <= 679:\n",
        "      return 'Complications of pregnancy, childbirth, and the puerperium'\n",
        "    elif 680 <= diag <= 709:\n",
        "      return 'Diseases of the skin and subcutaneous tissue'\n",
        "    elif 710 <= diag <= 739:\n",
        "      return 'Diseases of the musculoskeletal system and connective tissue'\n",
        "    elif 740 <= diag <= 759:\n",
        "      return 'Congenital anomalies'\n",
        "    elif 760 <= diag <= 779:\n",
        "      return 'Certain conditions originating in the perinatal period'\n",
        "    elif 780 <= diag <= 799:\n",
        "      return 'Symptoms, signs, and ill-defined conditions'\n",
        "    elif 800 <= diag <= 999:\n",
        "      return 'Injury and poisoning'\n",
        "    else:\n",
        "      return 'Other'\n",
        "  except ValueError:\n",
        "    if diag.startswith('V'):\n",
        "      return 'Supplementary Classification of Factors Influencing Health Status and Contact with Health Services'\n",
        "    elif diag.startswith('E'):\n",
        "      return 'External Causes of Morbidity'\n",
        "    else:\n",
        "      return 'none'\n",
        "\n",
        "control_group['diag_1_range'] = control_group['diag_1'].apply(replace_diag)"
      ],
      "metadata": {
        "id": "H2EmOHrHz-bC"
      },
      "execution_count": 25,
      "outputs": []
    },
    {
      "cell_type": "code",
      "source": [
        "diag1_freq_control = control_group['diag_1_range'].value_counts().reset_index()\n",
        "diag1_freq_control.columns = ['diag_1_range', 'Frecuencia']\n",
        "\n",
        "fig = px.bar(diag1_freq_control, x='diag_1_range', y='Frecuencia', title='diag_1', hover_data= 'Frecuencia')\n",
        "fig.show()"
      ],
      "metadata": {
        "colab": {
          "base_uri": "https://localhost:8080/",
          "height": 542
        },
        "id": "Ao3P7aj32gdR",
        "outputId": "3c75ed65-85f3-4166-d4f9-5e8962345446"
      },
      "execution_count": 26,
      "outputs": [
        {
          "output_type": "display_data",
          "data": {
            "text/html": [
              "<html>\n",
              "<head><meta charset=\"utf-8\" /></head>\n",
              "<body>\n",
              "    <div>            <script src=\"https://cdnjs.cloudflare.com/ajax/libs/mathjax/2.7.5/MathJax.js?config=TeX-AMS-MML_SVG\"></script><script type=\"text/javascript\">if (window.MathJax && window.MathJax.Hub && window.MathJax.Hub.Config) {window.MathJax.Hub.Config({SVG: {font: \"STIX-Web\"}});}</script>                <script type=\"text/javascript\">window.PlotlyConfig = {MathJaxConfig: 'local'};</script>\n",
              "        <script charset=\"utf-8\" src=\"https://cdn.plot.ly/plotly-2.35.2.min.js\"></script>                <div id=\"810b32ca-5ebd-4087-b399-68466c475f25\" class=\"plotly-graph-div\" style=\"height:525px; width:100%;\"></div>            <script type=\"text/javascript\">                                    window.PLOTLYENV=window.PLOTLYENV || {};                                    if (document.getElementById(\"810b32ca-5ebd-4087-b399-68466c475f25\")) {                    Plotly.newPlot(                        \"810b32ca-5ebd-4087-b399-68466c475f25\",                        [{\"alignmentgroup\":\"True\",\"hovertemplate\":\"diag_1_range=%{x}\\u003cbr\\u003eFrecuencia=%{y}\\u003cextra\\u003e\\u003c\\u002fextra\\u003e\",\"legendgroup\":\"\",\"marker\":{\"color\":\"#636efa\",\"pattern\":{\"shape\":\"\"}},\"name\":\"\",\"offsetgroup\":\"\",\"orientation\":\"v\",\"showlegend\":false,\"textposition\":\"auto\",\"x\":[\"Diseases of the circulatory system\",\"Diseases of the respiratory system\",\"Symptoms, signs, and ill-defined conditions\",\"Endocrine, nutritional and metabolic diseases, and immunity disorders\",\"Diseases of the digestive system\",\"Injury and poisoning\",\"Diseases of the musculoskeletal system and connective tissue\",\"Diseases of the skin and subcutaneous tissue\",\"Mental disorders\",\"Diseases of the genitourinary system\",\"Diseases of the nervous system and sense organs\",\"Neoplasms\",\"Infectious and parasitic diseases\",\"Complications of pregnancy, childbirth, and the puerperium\",\"Diseases of the blood and blood-forming organs\",\"Supplementary Classification of Factors Influencing Health Status and Contact with Health Services\"],\"xaxis\":\"x\",\"y\":[187,67,62,61,55,45,28,24,23,22,16,12,12,6,3,2],\"yaxis\":\"y\",\"type\":\"bar\"}],                        {\"template\":{\"data\":{\"histogram2dcontour\":[{\"type\":\"histogram2dcontour\",\"colorbar\":{\"outlinewidth\":0,\"ticks\":\"\"},\"colorscale\":[[0.0,\"#0d0887\"],[0.1111111111111111,\"#46039f\"],[0.2222222222222222,\"#7201a8\"],[0.3333333333333333,\"#9c179e\"],[0.4444444444444444,\"#bd3786\"],[0.5555555555555556,\"#d8576b\"],[0.6666666666666666,\"#ed7953\"],[0.7777777777777778,\"#fb9f3a\"],[0.8888888888888888,\"#fdca26\"],[1.0,\"#f0f921\"]]}],\"choropleth\":[{\"type\":\"choropleth\",\"colorbar\":{\"outlinewidth\":0,\"ticks\":\"\"}}],\"histogram2d\":[{\"type\":\"histogram2d\",\"colorbar\":{\"outlinewidth\":0,\"ticks\":\"\"},\"colorscale\":[[0.0,\"#0d0887\"],[0.1111111111111111,\"#46039f\"],[0.2222222222222222,\"#7201a8\"],[0.3333333333333333,\"#9c179e\"],[0.4444444444444444,\"#bd3786\"],[0.5555555555555556,\"#d8576b\"],[0.6666666666666666,\"#ed7953\"],[0.7777777777777778,\"#fb9f3a\"],[0.8888888888888888,\"#fdca26\"],[1.0,\"#f0f921\"]]}],\"heatmap\":[{\"type\":\"heatmap\",\"colorbar\":{\"outlinewidth\":0,\"ticks\":\"\"},\"colorscale\":[[0.0,\"#0d0887\"],[0.1111111111111111,\"#46039f\"],[0.2222222222222222,\"#7201a8\"],[0.3333333333333333,\"#9c179e\"],[0.4444444444444444,\"#bd3786\"],[0.5555555555555556,\"#d8576b\"],[0.6666666666666666,\"#ed7953\"],[0.7777777777777778,\"#fb9f3a\"],[0.8888888888888888,\"#fdca26\"],[1.0,\"#f0f921\"]]}],\"heatmapgl\":[{\"type\":\"heatmapgl\",\"colorbar\":{\"outlinewidth\":0,\"ticks\":\"\"},\"colorscale\":[[0.0,\"#0d0887\"],[0.1111111111111111,\"#46039f\"],[0.2222222222222222,\"#7201a8\"],[0.3333333333333333,\"#9c179e\"],[0.4444444444444444,\"#bd3786\"],[0.5555555555555556,\"#d8576b\"],[0.6666666666666666,\"#ed7953\"],[0.7777777777777778,\"#fb9f3a\"],[0.8888888888888888,\"#fdca26\"],[1.0,\"#f0f921\"]]}],\"contourcarpet\":[{\"type\":\"contourcarpet\",\"colorbar\":{\"outlinewidth\":0,\"ticks\":\"\"}}],\"contour\":[{\"type\":\"contour\",\"colorbar\":{\"outlinewidth\":0,\"ticks\":\"\"},\"colorscale\":[[0.0,\"#0d0887\"],[0.1111111111111111,\"#46039f\"],[0.2222222222222222,\"#7201a8\"],[0.3333333333333333,\"#9c179e\"],[0.4444444444444444,\"#bd3786\"],[0.5555555555555556,\"#d8576b\"],[0.6666666666666666,\"#ed7953\"],[0.7777777777777778,\"#fb9f3a\"],[0.8888888888888888,\"#fdca26\"],[1.0,\"#f0f921\"]]}],\"surface\":[{\"type\":\"surface\",\"colorbar\":{\"outlinewidth\":0,\"ticks\":\"\"},\"colorscale\":[[0.0,\"#0d0887\"],[0.1111111111111111,\"#46039f\"],[0.2222222222222222,\"#7201a8\"],[0.3333333333333333,\"#9c179e\"],[0.4444444444444444,\"#bd3786\"],[0.5555555555555556,\"#d8576b\"],[0.6666666666666666,\"#ed7953\"],[0.7777777777777778,\"#fb9f3a\"],[0.8888888888888888,\"#fdca26\"],[1.0,\"#f0f921\"]]}],\"mesh3d\":[{\"type\":\"mesh3d\",\"colorbar\":{\"outlinewidth\":0,\"ticks\":\"\"}}],\"scatter\":[{\"fillpattern\":{\"fillmode\":\"overlay\",\"size\":10,\"solidity\":0.2},\"type\":\"scatter\"}],\"parcoords\":[{\"type\":\"parcoords\",\"line\":{\"colorbar\":{\"outlinewidth\":0,\"ticks\":\"\"}}}],\"scatterpolargl\":[{\"type\":\"scatterpolargl\",\"marker\":{\"colorbar\":{\"outlinewidth\":0,\"ticks\":\"\"}}}],\"bar\":[{\"error_x\":{\"color\":\"#2a3f5f\"},\"error_y\":{\"color\":\"#2a3f5f\"},\"marker\":{\"line\":{\"color\":\"#E5ECF6\",\"width\":0.5},\"pattern\":{\"fillmode\":\"overlay\",\"size\":10,\"solidity\":0.2}},\"type\":\"bar\"}],\"scattergeo\":[{\"type\":\"scattergeo\",\"marker\":{\"colorbar\":{\"outlinewidth\":0,\"ticks\":\"\"}}}],\"scatterpolar\":[{\"type\":\"scatterpolar\",\"marker\":{\"colorbar\":{\"outlinewidth\":0,\"ticks\":\"\"}}}],\"histogram\":[{\"marker\":{\"pattern\":{\"fillmode\":\"overlay\",\"size\":10,\"solidity\":0.2}},\"type\":\"histogram\"}],\"scattergl\":[{\"type\":\"scattergl\",\"marker\":{\"colorbar\":{\"outlinewidth\":0,\"ticks\":\"\"}}}],\"scatter3d\":[{\"type\":\"scatter3d\",\"line\":{\"colorbar\":{\"outlinewidth\":0,\"ticks\":\"\"}},\"marker\":{\"colorbar\":{\"outlinewidth\":0,\"ticks\":\"\"}}}],\"scattermapbox\":[{\"type\":\"scattermapbox\",\"marker\":{\"colorbar\":{\"outlinewidth\":0,\"ticks\":\"\"}}}],\"scatterternary\":[{\"type\":\"scatterternary\",\"marker\":{\"colorbar\":{\"outlinewidth\":0,\"ticks\":\"\"}}}],\"scattercarpet\":[{\"type\":\"scattercarpet\",\"marker\":{\"colorbar\":{\"outlinewidth\":0,\"ticks\":\"\"}}}],\"carpet\":[{\"aaxis\":{\"endlinecolor\":\"#2a3f5f\",\"gridcolor\":\"white\",\"linecolor\":\"white\",\"minorgridcolor\":\"white\",\"startlinecolor\":\"#2a3f5f\"},\"baxis\":{\"endlinecolor\":\"#2a3f5f\",\"gridcolor\":\"white\",\"linecolor\":\"white\",\"minorgridcolor\":\"white\",\"startlinecolor\":\"#2a3f5f\"},\"type\":\"carpet\"}],\"table\":[{\"cells\":{\"fill\":{\"color\":\"#EBF0F8\"},\"line\":{\"color\":\"white\"}},\"header\":{\"fill\":{\"color\":\"#C8D4E3\"},\"line\":{\"color\":\"white\"}},\"type\":\"table\"}],\"barpolar\":[{\"marker\":{\"line\":{\"color\":\"#E5ECF6\",\"width\":0.5},\"pattern\":{\"fillmode\":\"overlay\",\"size\":10,\"solidity\":0.2}},\"type\":\"barpolar\"}],\"pie\":[{\"automargin\":true,\"type\":\"pie\"}]},\"layout\":{\"autotypenumbers\":\"strict\",\"colorway\":[\"#636efa\",\"#EF553B\",\"#00cc96\",\"#ab63fa\",\"#FFA15A\",\"#19d3f3\",\"#FF6692\",\"#B6E880\",\"#FF97FF\",\"#FECB52\"],\"font\":{\"color\":\"#2a3f5f\"},\"hovermode\":\"closest\",\"hoverlabel\":{\"align\":\"left\"},\"paper_bgcolor\":\"white\",\"plot_bgcolor\":\"#E5ECF6\",\"polar\":{\"bgcolor\":\"#E5ECF6\",\"angularaxis\":{\"gridcolor\":\"white\",\"linecolor\":\"white\",\"ticks\":\"\"},\"radialaxis\":{\"gridcolor\":\"white\",\"linecolor\":\"white\",\"ticks\":\"\"}},\"ternary\":{\"bgcolor\":\"#E5ECF6\",\"aaxis\":{\"gridcolor\":\"white\",\"linecolor\":\"white\",\"ticks\":\"\"},\"baxis\":{\"gridcolor\":\"white\",\"linecolor\":\"white\",\"ticks\":\"\"},\"caxis\":{\"gridcolor\":\"white\",\"linecolor\":\"white\",\"ticks\":\"\"}},\"coloraxis\":{\"colorbar\":{\"outlinewidth\":0,\"ticks\":\"\"}},\"colorscale\":{\"sequential\":[[0.0,\"#0d0887\"],[0.1111111111111111,\"#46039f\"],[0.2222222222222222,\"#7201a8\"],[0.3333333333333333,\"#9c179e\"],[0.4444444444444444,\"#bd3786\"],[0.5555555555555556,\"#d8576b\"],[0.6666666666666666,\"#ed7953\"],[0.7777777777777778,\"#fb9f3a\"],[0.8888888888888888,\"#fdca26\"],[1.0,\"#f0f921\"]],\"sequentialminus\":[[0.0,\"#0d0887\"],[0.1111111111111111,\"#46039f\"],[0.2222222222222222,\"#7201a8\"],[0.3333333333333333,\"#9c179e\"],[0.4444444444444444,\"#bd3786\"],[0.5555555555555556,\"#d8576b\"],[0.6666666666666666,\"#ed7953\"],[0.7777777777777778,\"#fb9f3a\"],[0.8888888888888888,\"#fdca26\"],[1.0,\"#f0f921\"]],\"diverging\":[[0,\"#8e0152\"],[0.1,\"#c51b7d\"],[0.2,\"#de77ae\"],[0.3,\"#f1b6da\"],[0.4,\"#fde0ef\"],[0.5,\"#f7f7f7\"],[0.6,\"#e6f5d0\"],[0.7,\"#b8e186\"],[0.8,\"#7fbc41\"],[0.9,\"#4d9221\"],[1,\"#276419\"]]},\"xaxis\":{\"gridcolor\":\"white\",\"linecolor\":\"white\",\"ticks\":\"\",\"title\":{\"standoff\":15},\"zerolinecolor\":\"white\",\"automargin\":true,\"zerolinewidth\":2},\"yaxis\":{\"gridcolor\":\"white\",\"linecolor\":\"white\",\"ticks\":\"\",\"title\":{\"standoff\":15},\"zerolinecolor\":\"white\",\"automargin\":true,\"zerolinewidth\":2},\"scene\":{\"xaxis\":{\"backgroundcolor\":\"#E5ECF6\",\"gridcolor\":\"white\",\"linecolor\":\"white\",\"showbackground\":true,\"ticks\":\"\",\"zerolinecolor\":\"white\",\"gridwidth\":2},\"yaxis\":{\"backgroundcolor\":\"#E5ECF6\",\"gridcolor\":\"white\",\"linecolor\":\"white\",\"showbackground\":true,\"ticks\":\"\",\"zerolinecolor\":\"white\",\"gridwidth\":2},\"zaxis\":{\"backgroundcolor\":\"#E5ECF6\",\"gridcolor\":\"white\",\"linecolor\":\"white\",\"showbackground\":true,\"ticks\":\"\",\"zerolinecolor\":\"white\",\"gridwidth\":2}},\"shapedefaults\":{\"line\":{\"color\":\"#2a3f5f\"}},\"annotationdefaults\":{\"arrowcolor\":\"#2a3f5f\",\"arrowhead\":0,\"arrowwidth\":1},\"geo\":{\"bgcolor\":\"white\",\"landcolor\":\"#E5ECF6\",\"subunitcolor\":\"white\",\"showland\":true,\"showlakes\":true,\"lakecolor\":\"white\"},\"title\":{\"x\":0.05},\"mapbox\":{\"style\":\"light\"}}},\"xaxis\":{\"anchor\":\"y\",\"domain\":[0.0,1.0],\"title\":{\"text\":\"diag_1_range\"}},\"yaxis\":{\"anchor\":\"x\",\"domain\":[0.0,1.0],\"title\":{\"text\":\"Frecuencia\"}},\"legend\":{\"tracegroupgap\":0},\"title\":{\"text\":\"diag_1\"},\"barmode\":\"relative\"},                        {\"responsive\": true}                    ).then(function(){\n",
              "                            \n",
              "var gd = document.getElementById('810b32ca-5ebd-4087-b399-68466c475f25');\n",
              "var x = new MutationObserver(function (mutations, observer) {{\n",
              "        var display = window.getComputedStyle(gd).display;\n",
              "        if (!display || display === 'none') {{\n",
              "            console.log([gd, 'removed!']);\n",
              "            Plotly.purge(gd);\n",
              "            observer.disconnect();\n",
              "        }}\n",
              "}});\n",
              "\n",
              "// Listen for the removal of the full notebook cells\n",
              "var notebookContainer = gd.closest('#notebook-container');\n",
              "if (notebookContainer) {{\n",
              "    x.observe(notebookContainer, {childList: true});\n",
              "}}\n",
              "\n",
              "// Listen for the clearing of the current output cell\n",
              "var outputEl = gd.closest('.output');\n",
              "if (outputEl) {{\n",
              "    x.observe(outputEl, {childList: true});\n",
              "}}\n",
              "\n",
              "                        })                };                            </script>        </div>\n",
              "</body>\n",
              "</html>"
            ]
          },
          "metadata": {}
        }
      ]
    },
    {
      "cell_type": "markdown",
      "source": [
        "Se encuentra una variedad de diagnosticos. Sin embargo, la mayor esta relacionado con problemas circulatorios"
      ],
      "metadata": {
        "id": "3KTs_VuC1ZpR"
      }
    },
    {
      "cell_type": "code",
      "source": [
        "med_freq_control = control_group['medical_specialty'].value_counts().reset_index()\n",
        "med_freq_control.columns = ['medical_specialty', 'Frecuencia']\n",
        "\n",
        "fig = px.bar(med_freq_control, x='medical_specialty', y='Frecuencia', title='medical_specialty', hover_data= 'Frecuencia')\n",
        "fig.show()"
      ],
      "metadata": {
        "colab": {
          "base_uri": "https://localhost:8080/",
          "height": 542
        },
        "id": "JGSp0J0--_62",
        "outputId": "b358c9e9-3aab-459b-e51b-19dd976a8556"
      },
      "execution_count": 27,
      "outputs": [
        {
          "output_type": "display_data",
          "data": {
            "text/html": [
              "<html>\n",
              "<head><meta charset=\"utf-8\" /></head>\n",
              "<body>\n",
              "    <div>            <script src=\"https://cdnjs.cloudflare.com/ajax/libs/mathjax/2.7.5/MathJax.js?config=TeX-AMS-MML_SVG\"></script><script type=\"text/javascript\">if (window.MathJax && window.MathJax.Hub && window.MathJax.Hub.Config) {window.MathJax.Hub.Config({SVG: {font: \"STIX-Web\"}});}</script>                <script type=\"text/javascript\">window.PlotlyConfig = {MathJaxConfig: 'local'};</script>\n",
              "        <script charset=\"utf-8\" src=\"https://cdn.plot.ly/plotly-2.35.2.min.js\"></script>                <div id=\"28b82ef6-cf29-4633-8ea1-7b90f732eb29\" class=\"plotly-graph-div\" style=\"height:525px; width:100%;\"></div>            <script type=\"text/javascript\">                                    window.PLOTLYENV=window.PLOTLYENV || {};                                    if (document.getElementById(\"28b82ef6-cf29-4633-8ea1-7b90f732eb29\")) {                    Plotly.newPlot(                        \"28b82ef6-cf29-4633-8ea1-7b90f732eb29\",                        [{\"alignmentgroup\":\"True\",\"hovertemplate\":\"medical_specialty=%{x}\\u003cbr\\u003eFrecuencia=%{y}\\u003cextra\\u003e\\u003c\\u002fextra\\u003e\",\"legendgroup\":\"\",\"marker\":{\"color\":\"#636efa\",\"pattern\":{\"shape\":\"\"}},\"name\":\"\",\"offsetgroup\":\"\",\"orientation\":\"v\",\"showlegend\":false,\"textposition\":\"auto\",\"x\":[\"missing\",\"InternalMedicine\",\"Family\\u002fGeneralPractice\",\"Emergency\\u002fTrauma\",\"Cardiology\",\"Surgery-General\",\"Nephrology\",\"Psychiatry\",\"Pulmonology\",\"Orthopedics-Reconstructive\",\"ObstetricsandGynecology\",\"Gastroenterology\",\"Surgery-Cardiovascular\\u002fThoracic\",\"Orthopedics\",\"Pediatrics-Endocrinology\",\"Surgery-Thoracic\",\"Pediatrics\",\"Pediatrics-CriticalCare\",\"PhysicalMedicineandRehabilitation\",\"Endocrinology\",\"Surgery-Vascular\",\"Neurology\",\"Surgery-Neuro\",\"Surgery-Cardiovascular\",\"Urology\",\"Radiologist\",\"Hospitalist\",\"InfectiousDiseases\"],\"xaxis\":\"x\",\"y\":[320,111,41,35,26,16,10,9,9,7,5,5,4,4,3,2,2,2,2,2,2,2,1,1,1,1,1,1],\"yaxis\":\"y\",\"type\":\"bar\"}],                        {\"template\":{\"data\":{\"histogram2dcontour\":[{\"type\":\"histogram2dcontour\",\"colorbar\":{\"outlinewidth\":0,\"ticks\":\"\"},\"colorscale\":[[0.0,\"#0d0887\"],[0.1111111111111111,\"#46039f\"],[0.2222222222222222,\"#7201a8\"],[0.3333333333333333,\"#9c179e\"],[0.4444444444444444,\"#bd3786\"],[0.5555555555555556,\"#d8576b\"],[0.6666666666666666,\"#ed7953\"],[0.7777777777777778,\"#fb9f3a\"],[0.8888888888888888,\"#fdca26\"],[1.0,\"#f0f921\"]]}],\"choropleth\":[{\"type\":\"choropleth\",\"colorbar\":{\"outlinewidth\":0,\"ticks\":\"\"}}],\"histogram2d\":[{\"type\":\"histogram2d\",\"colorbar\":{\"outlinewidth\":0,\"ticks\":\"\"},\"colorscale\":[[0.0,\"#0d0887\"],[0.1111111111111111,\"#46039f\"],[0.2222222222222222,\"#7201a8\"],[0.3333333333333333,\"#9c179e\"],[0.4444444444444444,\"#bd3786\"],[0.5555555555555556,\"#d8576b\"],[0.6666666666666666,\"#ed7953\"],[0.7777777777777778,\"#fb9f3a\"],[0.8888888888888888,\"#fdca26\"],[1.0,\"#f0f921\"]]}],\"heatmap\":[{\"type\":\"heatmap\",\"colorbar\":{\"outlinewidth\":0,\"ticks\":\"\"},\"colorscale\":[[0.0,\"#0d0887\"],[0.1111111111111111,\"#46039f\"],[0.2222222222222222,\"#7201a8\"],[0.3333333333333333,\"#9c179e\"],[0.4444444444444444,\"#bd3786\"],[0.5555555555555556,\"#d8576b\"],[0.6666666666666666,\"#ed7953\"],[0.7777777777777778,\"#fb9f3a\"],[0.8888888888888888,\"#fdca26\"],[1.0,\"#f0f921\"]]}],\"heatmapgl\":[{\"type\":\"heatmapgl\",\"colorbar\":{\"outlinewidth\":0,\"ticks\":\"\"},\"colorscale\":[[0.0,\"#0d0887\"],[0.1111111111111111,\"#46039f\"],[0.2222222222222222,\"#7201a8\"],[0.3333333333333333,\"#9c179e\"],[0.4444444444444444,\"#bd3786\"],[0.5555555555555556,\"#d8576b\"],[0.6666666666666666,\"#ed7953\"],[0.7777777777777778,\"#fb9f3a\"],[0.8888888888888888,\"#fdca26\"],[1.0,\"#f0f921\"]]}],\"contourcarpet\":[{\"type\":\"contourcarpet\",\"colorbar\":{\"outlinewidth\":0,\"ticks\":\"\"}}],\"contour\":[{\"type\":\"contour\",\"colorbar\":{\"outlinewidth\":0,\"ticks\":\"\"},\"colorscale\":[[0.0,\"#0d0887\"],[0.1111111111111111,\"#46039f\"],[0.2222222222222222,\"#7201a8\"],[0.3333333333333333,\"#9c179e\"],[0.4444444444444444,\"#bd3786\"],[0.5555555555555556,\"#d8576b\"],[0.6666666666666666,\"#ed7953\"],[0.7777777777777778,\"#fb9f3a\"],[0.8888888888888888,\"#fdca26\"],[1.0,\"#f0f921\"]]}],\"surface\":[{\"type\":\"surface\",\"colorbar\":{\"outlinewidth\":0,\"ticks\":\"\"},\"colorscale\":[[0.0,\"#0d0887\"],[0.1111111111111111,\"#46039f\"],[0.2222222222222222,\"#7201a8\"],[0.3333333333333333,\"#9c179e\"],[0.4444444444444444,\"#bd3786\"],[0.5555555555555556,\"#d8576b\"],[0.6666666666666666,\"#ed7953\"],[0.7777777777777778,\"#fb9f3a\"],[0.8888888888888888,\"#fdca26\"],[1.0,\"#f0f921\"]]}],\"mesh3d\":[{\"type\":\"mesh3d\",\"colorbar\":{\"outlinewidth\":0,\"ticks\":\"\"}}],\"scatter\":[{\"fillpattern\":{\"fillmode\":\"overlay\",\"size\":10,\"solidity\":0.2},\"type\":\"scatter\"}],\"parcoords\":[{\"type\":\"parcoords\",\"line\":{\"colorbar\":{\"outlinewidth\":0,\"ticks\":\"\"}}}],\"scatterpolargl\":[{\"type\":\"scatterpolargl\",\"marker\":{\"colorbar\":{\"outlinewidth\":0,\"ticks\":\"\"}}}],\"bar\":[{\"error_x\":{\"color\":\"#2a3f5f\"},\"error_y\":{\"color\":\"#2a3f5f\"},\"marker\":{\"line\":{\"color\":\"#E5ECF6\",\"width\":0.5},\"pattern\":{\"fillmode\":\"overlay\",\"size\":10,\"solidity\":0.2}},\"type\":\"bar\"}],\"scattergeo\":[{\"type\":\"scattergeo\",\"marker\":{\"colorbar\":{\"outlinewidth\":0,\"ticks\":\"\"}}}],\"scatterpolar\":[{\"type\":\"scatterpolar\",\"marker\":{\"colorbar\":{\"outlinewidth\":0,\"ticks\":\"\"}}}],\"histogram\":[{\"marker\":{\"pattern\":{\"fillmode\":\"overlay\",\"size\":10,\"solidity\":0.2}},\"type\":\"histogram\"}],\"scattergl\":[{\"type\":\"scattergl\",\"marker\":{\"colorbar\":{\"outlinewidth\":0,\"ticks\":\"\"}}}],\"scatter3d\":[{\"type\":\"scatter3d\",\"line\":{\"colorbar\":{\"outlinewidth\":0,\"ticks\":\"\"}},\"marker\":{\"colorbar\":{\"outlinewidth\":0,\"ticks\":\"\"}}}],\"scattermapbox\":[{\"type\":\"scattermapbox\",\"marker\":{\"colorbar\":{\"outlinewidth\":0,\"ticks\":\"\"}}}],\"scatterternary\":[{\"type\":\"scatterternary\",\"marker\":{\"colorbar\":{\"outlinewidth\":0,\"ticks\":\"\"}}}],\"scattercarpet\":[{\"type\":\"scattercarpet\",\"marker\":{\"colorbar\":{\"outlinewidth\":0,\"ticks\":\"\"}}}],\"carpet\":[{\"aaxis\":{\"endlinecolor\":\"#2a3f5f\",\"gridcolor\":\"white\",\"linecolor\":\"white\",\"minorgridcolor\":\"white\",\"startlinecolor\":\"#2a3f5f\"},\"baxis\":{\"endlinecolor\":\"#2a3f5f\",\"gridcolor\":\"white\",\"linecolor\":\"white\",\"minorgridcolor\":\"white\",\"startlinecolor\":\"#2a3f5f\"},\"type\":\"carpet\"}],\"table\":[{\"cells\":{\"fill\":{\"color\":\"#EBF0F8\"},\"line\":{\"color\":\"white\"}},\"header\":{\"fill\":{\"color\":\"#C8D4E3\"},\"line\":{\"color\":\"white\"}},\"type\":\"table\"}],\"barpolar\":[{\"marker\":{\"line\":{\"color\":\"#E5ECF6\",\"width\":0.5},\"pattern\":{\"fillmode\":\"overlay\",\"size\":10,\"solidity\":0.2}},\"type\":\"barpolar\"}],\"pie\":[{\"automargin\":true,\"type\":\"pie\"}]},\"layout\":{\"autotypenumbers\":\"strict\",\"colorway\":[\"#636efa\",\"#EF553B\",\"#00cc96\",\"#ab63fa\",\"#FFA15A\",\"#19d3f3\",\"#FF6692\",\"#B6E880\",\"#FF97FF\",\"#FECB52\"],\"font\":{\"color\":\"#2a3f5f\"},\"hovermode\":\"closest\",\"hoverlabel\":{\"align\":\"left\"},\"paper_bgcolor\":\"white\",\"plot_bgcolor\":\"#E5ECF6\",\"polar\":{\"bgcolor\":\"#E5ECF6\",\"angularaxis\":{\"gridcolor\":\"white\",\"linecolor\":\"white\",\"ticks\":\"\"},\"radialaxis\":{\"gridcolor\":\"white\",\"linecolor\":\"white\",\"ticks\":\"\"}},\"ternary\":{\"bgcolor\":\"#E5ECF6\",\"aaxis\":{\"gridcolor\":\"white\",\"linecolor\":\"white\",\"ticks\":\"\"},\"baxis\":{\"gridcolor\":\"white\",\"linecolor\":\"white\",\"ticks\":\"\"},\"caxis\":{\"gridcolor\":\"white\",\"linecolor\":\"white\",\"ticks\":\"\"}},\"coloraxis\":{\"colorbar\":{\"outlinewidth\":0,\"ticks\":\"\"}},\"colorscale\":{\"sequential\":[[0.0,\"#0d0887\"],[0.1111111111111111,\"#46039f\"],[0.2222222222222222,\"#7201a8\"],[0.3333333333333333,\"#9c179e\"],[0.4444444444444444,\"#bd3786\"],[0.5555555555555556,\"#d8576b\"],[0.6666666666666666,\"#ed7953\"],[0.7777777777777778,\"#fb9f3a\"],[0.8888888888888888,\"#fdca26\"],[1.0,\"#f0f921\"]],\"sequentialminus\":[[0.0,\"#0d0887\"],[0.1111111111111111,\"#46039f\"],[0.2222222222222222,\"#7201a8\"],[0.3333333333333333,\"#9c179e\"],[0.4444444444444444,\"#bd3786\"],[0.5555555555555556,\"#d8576b\"],[0.6666666666666666,\"#ed7953\"],[0.7777777777777778,\"#fb9f3a\"],[0.8888888888888888,\"#fdca26\"],[1.0,\"#f0f921\"]],\"diverging\":[[0,\"#8e0152\"],[0.1,\"#c51b7d\"],[0.2,\"#de77ae\"],[0.3,\"#f1b6da\"],[0.4,\"#fde0ef\"],[0.5,\"#f7f7f7\"],[0.6,\"#e6f5d0\"],[0.7,\"#b8e186\"],[0.8,\"#7fbc41\"],[0.9,\"#4d9221\"],[1,\"#276419\"]]},\"xaxis\":{\"gridcolor\":\"white\",\"linecolor\":\"white\",\"ticks\":\"\",\"title\":{\"standoff\":15},\"zerolinecolor\":\"white\",\"automargin\":true,\"zerolinewidth\":2},\"yaxis\":{\"gridcolor\":\"white\",\"linecolor\":\"white\",\"ticks\":\"\",\"title\":{\"standoff\":15},\"zerolinecolor\":\"white\",\"automargin\":true,\"zerolinewidth\":2},\"scene\":{\"xaxis\":{\"backgroundcolor\":\"#E5ECF6\",\"gridcolor\":\"white\",\"linecolor\":\"white\",\"showbackground\":true,\"ticks\":\"\",\"zerolinecolor\":\"white\",\"gridwidth\":2},\"yaxis\":{\"backgroundcolor\":\"#E5ECF6\",\"gridcolor\":\"white\",\"linecolor\":\"white\",\"showbackground\":true,\"ticks\":\"\",\"zerolinecolor\":\"white\",\"gridwidth\":2},\"zaxis\":{\"backgroundcolor\":\"#E5ECF6\",\"gridcolor\":\"white\",\"linecolor\":\"white\",\"showbackground\":true,\"ticks\":\"\",\"zerolinecolor\":\"white\",\"gridwidth\":2}},\"shapedefaults\":{\"line\":{\"color\":\"#2a3f5f\"}},\"annotationdefaults\":{\"arrowcolor\":\"#2a3f5f\",\"arrowhead\":0,\"arrowwidth\":1},\"geo\":{\"bgcolor\":\"white\",\"landcolor\":\"#E5ECF6\",\"subunitcolor\":\"white\",\"showland\":true,\"showlakes\":true,\"lakecolor\":\"white\"},\"title\":{\"x\":0.05},\"mapbox\":{\"style\":\"light\"}}},\"xaxis\":{\"anchor\":\"y\",\"domain\":[0.0,1.0],\"title\":{\"text\":\"medical_specialty\"}},\"yaxis\":{\"anchor\":\"x\",\"domain\":[0.0,1.0],\"title\":{\"text\":\"Frecuencia\"}},\"legend\":{\"tracegroupgap\":0},\"title\":{\"text\":\"medical_specialty\"},\"barmode\":\"relative\"},                        {\"responsive\": true}                    ).then(function(){\n",
              "                            \n",
              "var gd = document.getElementById('28b82ef6-cf29-4633-8ea1-7b90f732eb29');\n",
              "var x = new MutationObserver(function (mutations, observer) {{\n",
              "        var display = window.getComputedStyle(gd).display;\n",
              "        if (!display || display === 'none') {{\n",
              "            console.log([gd, 'removed!']);\n",
              "            Plotly.purge(gd);\n",
              "            observer.disconnect();\n",
              "        }}\n",
              "}});\n",
              "\n",
              "// Listen for the removal of the full notebook cells\n",
              "var notebookContainer = gd.closest('#notebook-container');\n",
              "if (notebookContainer) {{\n",
              "    x.observe(notebookContainer, {childList: true});\n",
              "}}\n",
              "\n",
              "// Listen for the clearing of the current output cell\n",
              "var outputEl = gd.closest('.output');\n",
              "if (outputEl) {{\n",
              "    x.observe(outputEl, {childList: true});\n",
              "}}\n",
              "\n",
              "                        })                };                            </script>        </div>\n",
              "</body>\n",
              "</html>"
            ]
          },
          "metadata": {}
        }
      ]
    },
    {
      "cell_type": "markdown",
      "source": [
        "La especialidad medica no da información relevante en ningún sentido. Incluso la mayoria de información se encuentra sin valor o missing"
      ],
      "metadata": {
        "id": "8S2ZDMJb1jRy"
      }
    },
    {
      "cell_type": "code",
      "source": [
        "admin_freq_control = control_group['admission_type_id'].value_counts().reset_index()\n",
        "admin_freq_control.columns = ['admission_type_id', 'Frecuencia']\n",
        "\n",
        "fig = px.bar(admin_freq_control, x='admission_type_id', y='Frecuencia', title='admission_type_id', hover_data= 'Frecuencia')\n",
        "fig.show()"
      ],
      "metadata": {
        "colab": {
          "base_uri": "https://localhost:8080/",
          "height": 542
        },
        "id": "kuJWg4lbCPo4",
        "outputId": "1b00764c-9dbd-4479-f23b-9e56c784aabc"
      },
      "execution_count": 28,
      "outputs": [
        {
          "output_type": "display_data",
          "data": {
            "text/html": [
              "<html>\n",
              "<head><meta charset=\"utf-8\" /></head>\n",
              "<body>\n",
              "    <div>            <script src=\"https://cdnjs.cloudflare.com/ajax/libs/mathjax/2.7.5/MathJax.js?config=TeX-AMS-MML_SVG\"></script><script type=\"text/javascript\">if (window.MathJax && window.MathJax.Hub && window.MathJax.Hub.Config) {window.MathJax.Hub.Config({SVG: {font: \"STIX-Web\"}});}</script>                <script type=\"text/javascript\">window.PlotlyConfig = {MathJaxConfig: 'local'};</script>\n",
              "        <script charset=\"utf-8\" src=\"https://cdn.plot.ly/plotly-2.35.2.min.js\"></script>                <div id=\"ffd47a8f-03e0-4325-b56a-247ab1103a62\" class=\"plotly-graph-div\" style=\"height:525px; width:100%;\"></div>            <script type=\"text/javascript\">                                    window.PLOTLYENV=window.PLOTLYENV || {};                                    if (document.getElementById(\"ffd47a8f-03e0-4325-b56a-247ab1103a62\")) {                    Plotly.newPlot(                        \"ffd47a8f-03e0-4325-b56a-247ab1103a62\",                        [{\"alignmentgroup\":\"True\",\"hovertemplate\":\"admission_type_id=%{x}\\u003cbr\\u003eFrecuencia=%{y}\\u003cextra\\u003e\\u003c\\u002fextra\\u003e\",\"legendgroup\":\"\",\"marker\":{\"color\":\"#636efa\",\"pattern\":{\"shape\":\"\"}},\"name\":\"\",\"offsetgroup\":\"\",\"orientation\":\"v\",\"showlegend\":false,\"textposition\":\"auto\",\"x\":[1,2,3,6,5,8,7],\"xaxis\":\"x\",\"y\":[402,122,65,18,13,4,1],\"yaxis\":\"y\",\"type\":\"bar\"}],                        {\"template\":{\"data\":{\"histogram2dcontour\":[{\"type\":\"histogram2dcontour\",\"colorbar\":{\"outlinewidth\":0,\"ticks\":\"\"},\"colorscale\":[[0.0,\"#0d0887\"],[0.1111111111111111,\"#46039f\"],[0.2222222222222222,\"#7201a8\"],[0.3333333333333333,\"#9c179e\"],[0.4444444444444444,\"#bd3786\"],[0.5555555555555556,\"#d8576b\"],[0.6666666666666666,\"#ed7953\"],[0.7777777777777778,\"#fb9f3a\"],[0.8888888888888888,\"#fdca26\"],[1.0,\"#f0f921\"]]}],\"choropleth\":[{\"type\":\"choropleth\",\"colorbar\":{\"outlinewidth\":0,\"ticks\":\"\"}}],\"histogram2d\":[{\"type\":\"histogram2d\",\"colorbar\":{\"outlinewidth\":0,\"ticks\":\"\"},\"colorscale\":[[0.0,\"#0d0887\"],[0.1111111111111111,\"#46039f\"],[0.2222222222222222,\"#7201a8\"],[0.3333333333333333,\"#9c179e\"],[0.4444444444444444,\"#bd3786\"],[0.5555555555555556,\"#d8576b\"],[0.6666666666666666,\"#ed7953\"],[0.7777777777777778,\"#fb9f3a\"],[0.8888888888888888,\"#fdca26\"],[1.0,\"#f0f921\"]]}],\"heatmap\":[{\"type\":\"heatmap\",\"colorbar\":{\"outlinewidth\":0,\"ticks\":\"\"},\"colorscale\":[[0.0,\"#0d0887\"],[0.1111111111111111,\"#46039f\"],[0.2222222222222222,\"#7201a8\"],[0.3333333333333333,\"#9c179e\"],[0.4444444444444444,\"#bd3786\"],[0.5555555555555556,\"#d8576b\"],[0.6666666666666666,\"#ed7953\"],[0.7777777777777778,\"#fb9f3a\"],[0.8888888888888888,\"#fdca26\"],[1.0,\"#f0f921\"]]}],\"heatmapgl\":[{\"type\":\"heatmapgl\",\"colorbar\":{\"outlinewidth\":0,\"ticks\":\"\"},\"colorscale\":[[0.0,\"#0d0887\"],[0.1111111111111111,\"#46039f\"],[0.2222222222222222,\"#7201a8\"],[0.3333333333333333,\"#9c179e\"],[0.4444444444444444,\"#bd3786\"],[0.5555555555555556,\"#d8576b\"],[0.6666666666666666,\"#ed7953\"],[0.7777777777777778,\"#fb9f3a\"],[0.8888888888888888,\"#fdca26\"],[1.0,\"#f0f921\"]]}],\"contourcarpet\":[{\"type\":\"contourcarpet\",\"colorbar\":{\"outlinewidth\":0,\"ticks\":\"\"}}],\"contour\":[{\"type\":\"contour\",\"colorbar\":{\"outlinewidth\":0,\"ticks\":\"\"},\"colorscale\":[[0.0,\"#0d0887\"],[0.1111111111111111,\"#46039f\"],[0.2222222222222222,\"#7201a8\"],[0.3333333333333333,\"#9c179e\"],[0.4444444444444444,\"#bd3786\"],[0.5555555555555556,\"#d8576b\"],[0.6666666666666666,\"#ed7953\"],[0.7777777777777778,\"#fb9f3a\"],[0.8888888888888888,\"#fdca26\"],[1.0,\"#f0f921\"]]}],\"surface\":[{\"type\":\"surface\",\"colorbar\":{\"outlinewidth\":0,\"ticks\":\"\"},\"colorscale\":[[0.0,\"#0d0887\"],[0.1111111111111111,\"#46039f\"],[0.2222222222222222,\"#7201a8\"],[0.3333333333333333,\"#9c179e\"],[0.4444444444444444,\"#bd3786\"],[0.5555555555555556,\"#d8576b\"],[0.6666666666666666,\"#ed7953\"],[0.7777777777777778,\"#fb9f3a\"],[0.8888888888888888,\"#fdca26\"],[1.0,\"#f0f921\"]]}],\"mesh3d\":[{\"type\":\"mesh3d\",\"colorbar\":{\"outlinewidth\":0,\"ticks\":\"\"}}],\"scatter\":[{\"fillpattern\":{\"fillmode\":\"overlay\",\"size\":10,\"solidity\":0.2},\"type\":\"scatter\"}],\"parcoords\":[{\"type\":\"parcoords\",\"line\":{\"colorbar\":{\"outlinewidth\":0,\"ticks\":\"\"}}}],\"scatterpolargl\":[{\"type\":\"scatterpolargl\",\"marker\":{\"colorbar\":{\"outlinewidth\":0,\"ticks\":\"\"}}}],\"bar\":[{\"error_x\":{\"color\":\"#2a3f5f\"},\"error_y\":{\"color\":\"#2a3f5f\"},\"marker\":{\"line\":{\"color\":\"#E5ECF6\",\"width\":0.5},\"pattern\":{\"fillmode\":\"overlay\",\"size\":10,\"solidity\":0.2}},\"type\":\"bar\"}],\"scattergeo\":[{\"type\":\"scattergeo\",\"marker\":{\"colorbar\":{\"outlinewidth\":0,\"ticks\":\"\"}}}],\"scatterpolar\":[{\"type\":\"scatterpolar\",\"marker\":{\"colorbar\":{\"outlinewidth\":0,\"ticks\":\"\"}}}],\"histogram\":[{\"marker\":{\"pattern\":{\"fillmode\":\"overlay\",\"size\":10,\"solidity\":0.2}},\"type\":\"histogram\"}],\"scattergl\":[{\"type\":\"scattergl\",\"marker\":{\"colorbar\":{\"outlinewidth\":0,\"ticks\":\"\"}}}],\"scatter3d\":[{\"type\":\"scatter3d\",\"line\":{\"colorbar\":{\"outlinewidth\":0,\"ticks\":\"\"}},\"marker\":{\"colorbar\":{\"outlinewidth\":0,\"ticks\":\"\"}}}],\"scattermapbox\":[{\"type\":\"scattermapbox\",\"marker\":{\"colorbar\":{\"outlinewidth\":0,\"ticks\":\"\"}}}],\"scatterternary\":[{\"type\":\"scatterternary\",\"marker\":{\"colorbar\":{\"outlinewidth\":0,\"ticks\":\"\"}}}],\"scattercarpet\":[{\"type\":\"scattercarpet\",\"marker\":{\"colorbar\":{\"outlinewidth\":0,\"ticks\":\"\"}}}],\"carpet\":[{\"aaxis\":{\"endlinecolor\":\"#2a3f5f\",\"gridcolor\":\"white\",\"linecolor\":\"white\",\"minorgridcolor\":\"white\",\"startlinecolor\":\"#2a3f5f\"},\"baxis\":{\"endlinecolor\":\"#2a3f5f\",\"gridcolor\":\"white\",\"linecolor\":\"white\",\"minorgridcolor\":\"white\",\"startlinecolor\":\"#2a3f5f\"},\"type\":\"carpet\"}],\"table\":[{\"cells\":{\"fill\":{\"color\":\"#EBF0F8\"},\"line\":{\"color\":\"white\"}},\"header\":{\"fill\":{\"color\":\"#C8D4E3\"},\"line\":{\"color\":\"white\"}},\"type\":\"table\"}],\"barpolar\":[{\"marker\":{\"line\":{\"color\":\"#E5ECF6\",\"width\":0.5},\"pattern\":{\"fillmode\":\"overlay\",\"size\":10,\"solidity\":0.2}},\"type\":\"barpolar\"}],\"pie\":[{\"automargin\":true,\"type\":\"pie\"}]},\"layout\":{\"autotypenumbers\":\"strict\",\"colorway\":[\"#636efa\",\"#EF553B\",\"#00cc96\",\"#ab63fa\",\"#FFA15A\",\"#19d3f3\",\"#FF6692\",\"#B6E880\",\"#FF97FF\",\"#FECB52\"],\"font\":{\"color\":\"#2a3f5f\"},\"hovermode\":\"closest\",\"hoverlabel\":{\"align\":\"left\"},\"paper_bgcolor\":\"white\",\"plot_bgcolor\":\"#E5ECF6\",\"polar\":{\"bgcolor\":\"#E5ECF6\",\"angularaxis\":{\"gridcolor\":\"white\",\"linecolor\":\"white\",\"ticks\":\"\"},\"radialaxis\":{\"gridcolor\":\"white\",\"linecolor\":\"white\",\"ticks\":\"\"}},\"ternary\":{\"bgcolor\":\"#E5ECF6\",\"aaxis\":{\"gridcolor\":\"white\",\"linecolor\":\"white\",\"ticks\":\"\"},\"baxis\":{\"gridcolor\":\"white\",\"linecolor\":\"white\",\"ticks\":\"\"},\"caxis\":{\"gridcolor\":\"white\",\"linecolor\":\"white\",\"ticks\":\"\"}},\"coloraxis\":{\"colorbar\":{\"outlinewidth\":0,\"ticks\":\"\"}},\"colorscale\":{\"sequential\":[[0.0,\"#0d0887\"],[0.1111111111111111,\"#46039f\"],[0.2222222222222222,\"#7201a8\"],[0.3333333333333333,\"#9c179e\"],[0.4444444444444444,\"#bd3786\"],[0.5555555555555556,\"#d8576b\"],[0.6666666666666666,\"#ed7953\"],[0.7777777777777778,\"#fb9f3a\"],[0.8888888888888888,\"#fdca26\"],[1.0,\"#f0f921\"]],\"sequentialminus\":[[0.0,\"#0d0887\"],[0.1111111111111111,\"#46039f\"],[0.2222222222222222,\"#7201a8\"],[0.3333333333333333,\"#9c179e\"],[0.4444444444444444,\"#bd3786\"],[0.5555555555555556,\"#d8576b\"],[0.6666666666666666,\"#ed7953\"],[0.7777777777777778,\"#fb9f3a\"],[0.8888888888888888,\"#fdca26\"],[1.0,\"#f0f921\"]],\"diverging\":[[0,\"#8e0152\"],[0.1,\"#c51b7d\"],[0.2,\"#de77ae\"],[0.3,\"#f1b6da\"],[0.4,\"#fde0ef\"],[0.5,\"#f7f7f7\"],[0.6,\"#e6f5d0\"],[0.7,\"#b8e186\"],[0.8,\"#7fbc41\"],[0.9,\"#4d9221\"],[1,\"#276419\"]]},\"xaxis\":{\"gridcolor\":\"white\",\"linecolor\":\"white\",\"ticks\":\"\",\"title\":{\"standoff\":15},\"zerolinecolor\":\"white\",\"automargin\":true,\"zerolinewidth\":2},\"yaxis\":{\"gridcolor\":\"white\",\"linecolor\":\"white\",\"ticks\":\"\",\"title\":{\"standoff\":15},\"zerolinecolor\":\"white\",\"automargin\":true,\"zerolinewidth\":2},\"scene\":{\"xaxis\":{\"backgroundcolor\":\"#E5ECF6\",\"gridcolor\":\"white\",\"linecolor\":\"white\",\"showbackground\":true,\"ticks\":\"\",\"zerolinecolor\":\"white\",\"gridwidth\":2},\"yaxis\":{\"backgroundcolor\":\"#E5ECF6\",\"gridcolor\":\"white\",\"linecolor\":\"white\",\"showbackground\":true,\"ticks\":\"\",\"zerolinecolor\":\"white\",\"gridwidth\":2},\"zaxis\":{\"backgroundcolor\":\"#E5ECF6\",\"gridcolor\":\"white\",\"linecolor\":\"white\",\"showbackground\":true,\"ticks\":\"\",\"zerolinecolor\":\"white\",\"gridwidth\":2}},\"shapedefaults\":{\"line\":{\"color\":\"#2a3f5f\"}},\"annotationdefaults\":{\"arrowcolor\":\"#2a3f5f\",\"arrowhead\":0,\"arrowwidth\":1},\"geo\":{\"bgcolor\":\"white\",\"landcolor\":\"#E5ECF6\",\"subunitcolor\":\"white\",\"showland\":true,\"showlakes\":true,\"lakecolor\":\"white\"},\"title\":{\"x\":0.05},\"mapbox\":{\"style\":\"light\"}}},\"xaxis\":{\"anchor\":\"y\",\"domain\":[0.0,1.0],\"title\":{\"text\":\"admission_type_id\"}},\"yaxis\":{\"anchor\":\"x\",\"domain\":[0.0,1.0],\"title\":{\"text\":\"Frecuencia\"}},\"legend\":{\"tracegroupgap\":0},\"title\":{\"text\":\"admission_type_id\"},\"barmode\":\"relative\"},                        {\"responsive\": true}                    ).then(function(){\n",
              "                            \n",
              "var gd = document.getElementById('ffd47a8f-03e0-4325-b56a-247ab1103a62');\n",
              "var x = new MutationObserver(function (mutations, observer) {{\n",
              "        var display = window.getComputedStyle(gd).display;\n",
              "        if (!display || display === 'none') {{\n",
              "            console.log([gd, 'removed!']);\n",
              "            Plotly.purge(gd);\n",
              "            observer.disconnect();\n",
              "        }}\n",
              "}});\n",
              "\n",
              "// Listen for the removal of the full notebook cells\n",
              "var notebookContainer = gd.closest('#notebook-container');\n",
              "if (notebookContainer) {{\n",
              "    x.observe(notebookContainer, {childList: true});\n",
              "}}\n",
              "\n",
              "// Listen for the clearing of the current output cell\n",
              "var outputEl = gd.closest('.output');\n",
              "if (outputEl) {{\n",
              "    x.observe(outputEl, {childList: true});\n",
              "}}\n",
              "\n",
              "                        })                };                            </script>        </div>\n",
              "</body>\n",
              "</html>"
            ]
          },
          "metadata": {}
        }
      ]
    },
    {
      "cell_type": "markdown",
      "source": [
        "Aquí vemos una tendencia muy marcada para ingresos de tipo 1, 2 y 3 que corresponden a Emergencia, Urgencia y electiva, respectivamente."
      ],
      "metadata": {
        "id": "SC0ItBGs13XK"
      }
    },
    {
      "cell_type": "code",
      "source": [
        "age_freq_control = control_group['age'].value_counts().reset_index()\n",
        "age_freq_control.columns = ['age', 'Frecuencia']\n",
        "\n",
        "fig = px.bar(age_freq_control, x='age', y='Frecuencia', title='age', hover_data= 'Frecuencia')\n",
        "fig.show()"
      ],
      "metadata": {
        "colab": {
          "base_uri": "https://localhost:8080/",
          "height": 542
        },
        "id": "gXQBdpNg11Kq",
        "outputId": "a53ae07f-993f-424b-99da-9358d0e461f5"
      },
      "execution_count": 29,
      "outputs": [
        {
          "output_type": "display_data",
          "data": {
            "text/html": [
              "<html>\n",
              "<head><meta charset=\"utf-8\" /></head>\n",
              "<body>\n",
              "    <div>            <script src=\"https://cdnjs.cloudflare.com/ajax/libs/mathjax/2.7.5/MathJax.js?config=TeX-AMS-MML_SVG\"></script><script type=\"text/javascript\">if (window.MathJax && window.MathJax.Hub && window.MathJax.Hub.Config) {window.MathJax.Hub.Config({SVG: {font: \"STIX-Web\"}});}</script>                <script type=\"text/javascript\">window.PlotlyConfig = {MathJaxConfig: 'local'};</script>\n",
              "        <script charset=\"utf-8\" src=\"https://cdn.plot.ly/plotly-2.35.2.min.js\"></script>                <div id=\"b7d92744-54fb-45b6-a12b-11d6611036af\" class=\"plotly-graph-div\" style=\"height:525px; width:100%;\"></div>            <script type=\"text/javascript\">                                    window.PLOTLYENV=window.PLOTLYENV || {};                                    if (document.getElementById(\"b7d92744-54fb-45b6-a12b-11d6611036af\")) {                    Plotly.newPlot(                        \"b7d92744-54fb-45b6-a12b-11d6611036af\",                        [{\"alignmentgroup\":\"True\",\"hovertemplate\":\"age=%{x}\\u003cbr\\u003eFrecuencia=%{y}\\u003cextra\\u003e\\u003c\\u002fextra\\u003e\",\"legendgroup\":\"\",\"marker\":{\"color\":\"#636efa\",\"pattern\":{\"shape\":\"\"}},\"name\":\"\",\"offsetgroup\":\"\",\"orientation\":\"v\",\"showlegend\":false,\"textposition\":\"auto\",\"x\":[\"[70-80)\",\"[60-70)\",\"[50-60)\",\"[80-90)\",\"[40-50)\",\"[30-40)\",\"[90-100)\",\"[20-30)\",\"[10-20)\",\"[0-10)\"],\"xaxis\":\"x\",\"y\":[138,123,122,108,74,26,14,11,6,3],\"yaxis\":\"y\",\"type\":\"bar\"}],                        {\"template\":{\"data\":{\"histogram2dcontour\":[{\"type\":\"histogram2dcontour\",\"colorbar\":{\"outlinewidth\":0,\"ticks\":\"\"},\"colorscale\":[[0.0,\"#0d0887\"],[0.1111111111111111,\"#46039f\"],[0.2222222222222222,\"#7201a8\"],[0.3333333333333333,\"#9c179e\"],[0.4444444444444444,\"#bd3786\"],[0.5555555555555556,\"#d8576b\"],[0.6666666666666666,\"#ed7953\"],[0.7777777777777778,\"#fb9f3a\"],[0.8888888888888888,\"#fdca26\"],[1.0,\"#f0f921\"]]}],\"choropleth\":[{\"type\":\"choropleth\",\"colorbar\":{\"outlinewidth\":0,\"ticks\":\"\"}}],\"histogram2d\":[{\"type\":\"histogram2d\",\"colorbar\":{\"outlinewidth\":0,\"ticks\":\"\"},\"colorscale\":[[0.0,\"#0d0887\"],[0.1111111111111111,\"#46039f\"],[0.2222222222222222,\"#7201a8\"],[0.3333333333333333,\"#9c179e\"],[0.4444444444444444,\"#bd3786\"],[0.5555555555555556,\"#d8576b\"],[0.6666666666666666,\"#ed7953\"],[0.7777777777777778,\"#fb9f3a\"],[0.8888888888888888,\"#fdca26\"],[1.0,\"#f0f921\"]]}],\"heatmap\":[{\"type\":\"heatmap\",\"colorbar\":{\"outlinewidth\":0,\"ticks\":\"\"},\"colorscale\":[[0.0,\"#0d0887\"],[0.1111111111111111,\"#46039f\"],[0.2222222222222222,\"#7201a8\"],[0.3333333333333333,\"#9c179e\"],[0.4444444444444444,\"#bd3786\"],[0.5555555555555556,\"#d8576b\"],[0.6666666666666666,\"#ed7953\"],[0.7777777777777778,\"#fb9f3a\"],[0.8888888888888888,\"#fdca26\"],[1.0,\"#f0f921\"]]}],\"heatmapgl\":[{\"type\":\"heatmapgl\",\"colorbar\":{\"outlinewidth\":0,\"ticks\":\"\"},\"colorscale\":[[0.0,\"#0d0887\"],[0.1111111111111111,\"#46039f\"],[0.2222222222222222,\"#7201a8\"],[0.3333333333333333,\"#9c179e\"],[0.4444444444444444,\"#bd3786\"],[0.5555555555555556,\"#d8576b\"],[0.6666666666666666,\"#ed7953\"],[0.7777777777777778,\"#fb9f3a\"],[0.8888888888888888,\"#fdca26\"],[1.0,\"#f0f921\"]]}],\"contourcarpet\":[{\"type\":\"contourcarpet\",\"colorbar\":{\"outlinewidth\":0,\"ticks\":\"\"}}],\"contour\":[{\"type\":\"contour\",\"colorbar\":{\"outlinewidth\":0,\"ticks\":\"\"},\"colorscale\":[[0.0,\"#0d0887\"],[0.1111111111111111,\"#46039f\"],[0.2222222222222222,\"#7201a8\"],[0.3333333333333333,\"#9c179e\"],[0.4444444444444444,\"#bd3786\"],[0.5555555555555556,\"#d8576b\"],[0.6666666666666666,\"#ed7953\"],[0.7777777777777778,\"#fb9f3a\"],[0.8888888888888888,\"#fdca26\"],[1.0,\"#f0f921\"]]}],\"surface\":[{\"type\":\"surface\",\"colorbar\":{\"outlinewidth\":0,\"ticks\":\"\"},\"colorscale\":[[0.0,\"#0d0887\"],[0.1111111111111111,\"#46039f\"],[0.2222222222222222,\"#7201a8\"],[0.3333333333333333,\"#9c179e\"],[0.4444444444444444,\"#bd3786\"],[0.5555555555555556,\"#d8576b\"],[0.6666666666666666,\"#ed7953\"],[0.7777777777777778,\"#fb9f3a\"],[0.8888888888888888,\"#fdca26\"],[1.0,\"#f0f921\"]]}],\"mesh3d\":[{\"type\":\"mesh3d\",\"colorbar\":{\"outlinewidth\":0,\"ticks\":\"\"}}],\"scatter\":[{\"fillpattern\":{\"fillmode\":\"overlay\",\"size\":10,\"solidity\":0.2},\"type\":\"scatter\"}],\"parcoords\":[{\"type\":\"parcoords\",\"line\":{\"colorbar\":{\"outlinewidth\":0,\"ticks\":\"\"}}}],\"scatterpolargl\":[{\"type\":\"scatterpolargl\",\"marker\":{\"colorbar\":{\"outlinewidth\":0,\"ticks\":\"\"}}}],\"bar\":[{\"error_x\":{\"color\":\"#2a3f5f\"},\"error_y\":{\"color\":\"#2a3f5f\"},\"marker\":{\"line\":{\"color\":\"#E5ECF6\",\"width\":0.5},\"pattern\":{\"fillmode\":\"overlay\",\"size\":10,\"solidity\":0.2}},\"type\":\"bar\"}],\"scattergeo\":[{\"type\":\"scattergeo\",\"marker\":{\"colorbar\":{\"outlinewidth\":0,\"ticks\":\"\"}}}],\"scatterpolar\":[{\"type\":\"scatterpolar\",\"marker\":{\"colorbar\":{\"outlinewidth\":0,\"ticks\":\"\"}}}],\"histogram\":[{\"marker\":{\"pattern\":{\"fillmode\":\"overlay\",\"size\":10,\"solidity\":0.2}},\"type\":\"histogram\"}],\"scattergl\":[{\"type\":\"scattergl\",\"marker\":{\"colorbar\":{\"outlinewidth\":0,\"ticks\":\"\"}}}],\"scatter3d\":[{\"type\":\"scatter3d\",\"line\":{\"colorbar\":{\"outlinewidth\":0,\"ticks\":\"\"}},\"marker\":{\"colorbar\":{\"outlinewidth\":0,\"ticks\":\"\"}}}],\"scattermapbox\":[{\"type\":\"scattermapbox\",\"marker\":{\"colorbar\":{\"outlinewidth\":0,\"ticks\":\"\"}}}],\"scatterternary\":[{\"type\":\"scatterternary\",\"marker\":{\"colorbar\":{\"outlinewidth\":0,\"ticks\":\"\"}}}],\"scattercarpet\":[{\"type\":\"scattercarpet\",\"marker\":{\"colorbar\":{\"outlinewidth\":0,\"ticks\":\"\"}}}],\"carpet\":[{\"aaxis\":{\"endlinecolor\":\"#2a3f5f\",\"gridcolor\":\"white\",\"linecolor\":\"white\",\"minorgridcolor\":\"white\",\"startlinecolor\":\"#2a3f5f\"},\"baxis\":{\"endlinecolor\":\"#2a3f5f\",\"gridcolor\":\"white\",\"linecolor\":\"white\",\"minorgridcolor\":\"white\",\"startlinecolor\":\"#2a3f5f\"},\"type\":\"carpet\"}],\"table\":[{\"cells\":{\"fill\":{\"color\":\"#EBF0F8\"},\"line\":{\"color\":\"white\"}},\"header\":{\"fill\":{\"color\":\"#C8D4E3\"},\"line\":{\"color\":\"white\"}},\"type\":\"table\"}],\"barpolar\":[{\"marker\":{\"line\":{\"color\":\"#E5ECF6\",\"width\":0.5},\"pattern\":{\"fillmode\":\"overlay\",\"size\":10,\"solidity\":0.2}},\"type\":\"barpolar\"}],\"pie\":[{\"automargin\":true,\"type\":\"pie\"}]},\"layout\":{\"autotypenumbers\":\"strict\",\"colorway\":[\"#636efa\",\"#EF553B\",\"#00cc96\",\"#ab63fa\",\"#FFA15A\",\"#19d3f3\",\"#FF6692\",\"#B6E880\",\"#FF97FF\",\"#FECB52\"],\"font\":{\"color\":\"#2a3f5f\"},\"hovermode\":\"closest\",\"hoverlabel\":{\"align\":\"left\"},\"paper_bgcolor\":\"white\",\"plot_bgcolor\":\"#E5ECF6\",\"polar\":{\"bgcolor\":\"#E5ECF6\",\"angularaxis\":{\"gridcolor\":\"white\",\"linecolor\":\"white\",\"ticks\":\"\"},\"radialaxis\":{\"gridcolor\":\"white\",\"linecolor\":\"white\",\"ticks\":\"\"}},\"ternary\":{\"bgcolor\":\"#E5ECF6\",\"aaxis\":{\"gridcolor\":\"white\",\"linecolor\":\"white\",\"ticks\":\"\"},\"baxis\":{\"gridcolor\":\"white\",\"linecolor\":\"white\",\"ticks\":\"\"},\"caxis\":{\"gridcolor\":\"white\",\"linecolor\":\"white\",\"ticks\":\"\"}},\"coloraxis\":{\"colorbar\":{\"outlinewidth\":0,\"ticks\":\"\"}},\"colorscale\":{\"sequential\":[[0.0,\"#0d0887\"],[0.1111111111111111,\"#46039f\"],[0.2222222222222222,\"#7201a8\"],[0.3333333333333333,\"#9c179e\"],[0.4444444444444444,\"#bd3786\"],[0.5555555555555556,\"#d8576b\"],[0.6666666666666666,\"#ed7953\"],[0.7777777777777778,\"#fb9f3a\"],[0.8888888888888888,\"#fdca26\"],[1.0,\"#f0f921\"]],\"sequentialminus\":[[0.0,\"#0d0887\"],[0.1111111111111111,\"#46039f\"],[0.2222222222222222,\"#7201a8\"],[0.3333333333333333,\"#9c179e\"],[0.4444444444444444,\"#bd3786\"],[0.5555555555555556,\"#d8576b\"],[0.6666666666666666,\"#ed7953\"],[0.7777777777777778,\"#fb9f3a\"],[0.8888888888888888,\"#fdca26\"],[1.0,\"#f0f921\"]],\"diverging\":[[0,\"#8e0152\"],[0.1,\"#c51b7d\"],[0.2,\"#de77ae\"],[0.3,\"#f1b6da\"],[0.4,\"#fde0ef\"],[0.5,\"#f7f7f7\"],[0.6,\"#e6f5d0\"],[0.7,\"#b8e186\"],[0.8,\"#7fbc41\"],[0.9,\"#4d9221\"],[1,\"#276419\"]]},\"xaxis\":{\"gridcolor\":\"white\",\"linecolor\":\"white\",\"ticks\":\"\",\"title\":{\"standoff\":15},\"zerolinecolor\":\"white\",\"automargin\":true,\"zerolinewidth\":2},\"yaxis\":{\"gridcolor\":\"white\",\"linecolor\":\"white\",\"ticks\":\"\",\"title\":{\"standoff\":15},\"zerolinecolor\":\"white\",\"automargin\":true,\"zerolinewidth\":2},\"scene\":{\"xaxis\":{\"backgroundcolor\":\"#E5ECF6\",\"gridcolor\":\"white\",\"linecolor\":\"white\",\"showbackground\":true,\"ticks\":\"\",\"zerolinecolor\":\"white\",\"gridwidth\":2},\"yaxis\":{\"backgroundcolor\":\"#E5ECF6\",\"gridcolor\":\"white\",\"linecolor\":\"white\",\"showbackground\":true,\"ticks\":\"\",\"zerolinecolor\":\"white\",\"gridwidth\":2},\"zaxis\":{\"backgroundcolor\":\"#E5ECF6\",\"gridcolor\":\"white\",\"linecolor\":\"white\",\"showbackground\":true,\"ticks\":\"\",\"zerolinecolor\":\"white\",\"gridwidth\":2}},\"shapedefaults\":{\"line\":{\"color\":\"#2a3f5f\"}},\"annotationdefaults\":{\"arrowcolor\":\"#2a3f5f\",\"arrowhead\":0,\"arrowwidth\":1},\"geo\":{\"bgcolor\":\"white\",\"landcolor\":\"#E5ECF6\",\"subunitcolor\":\"white\",\"showland\":true,\"showlakes\":true,\"lakecolor\":\"white\"},\"title\":{\"x\":0.05},\"mapbox\":{\"style\":\"light\"}}},\"xaxis\":{\"anchor\":\"y\",\"domain\":[0.0,1.0],\"title\":{\"text\":\"age\"}},\"yaxis\":{\"anchor\":\"x\",\"domain\":[0.0,1.0],\"title\":{\"text\":\"Frecuencia\"}},\"legend\":{\"tracegroupgap\":0},\"title\":{\"text\":\"age\"},\"barmode\":\"relative\"},                        {\"responsive\": true}                    ).then(function(){\n",
              "                            \n",
              "var gd = document.getElementById('b7d92744-54fb-45b6-a12b-11d6611036af');\n",
              "var x = new MutationObserver(function (mutations, observer) {{\n",
              "        var display = window.getComputedStyle(gd).display;\n",
              "        if (!display || display === 'none') {{\n",
              "            console.log([gd, 'removed!']);\n",
              "            Plotly.purge(gd);\n",
              "            observer.disconnect();\n",
              "        }}\n",
              "}});\n",
              "\n",
              "// Listen for the removal of the full notebook cells\n",
              "var notebookContainer = gd.closest('#notebook-container');\n",
              "if (notebookContainer) {{\n",
              "    x.observe(notebookContainer, {childList: true});\n",
              "}}\n",
              "\n",
              "// Listen for the clearing of the current output cell\n",
              "var outputEl = gd.closest('.output');\n",
              "if (outputEl) {{\n",
              "    x.observe(outputEl, {childList: true});\n",
              "}}\n",
              "\n",
              "                        })                };                            </script>        </div>\n",
              "</body>\n",
              "</html>"
            ]
          },
          "metadata": {}
        }
      ]
    },
    {
      "cell_type": "markdown",
      "source": [
        "La distribución por rangos de edades tampoco muestra un patrón claro para el grupo de control. Los valores con pocos casos tienen sentido ya que lógicamente la enfermedad no afecta fuertemente a grupo poblacionales jovenes y el grupo de muy mayores (90 a 100) no es un apoblación significativa teniendo en cuenta la vida media de una persona."
      ],
      "metadata": {
        "id": "wI2vqcfB2TLO"
      }
    },
    {
      "cell_type": "markdown",
      "source": [
        "Hasta ahora tenemos una idea inicial de esos pacientes que venían tomando medicinas, el examen les salío normal y no tuvieron reingreso, este sería el caso ideal y vamos a ver si estos patrones se repiten en otros grupos de interes.\n",
        "\n",
        "Las conclusiones principales y más marcadas son:\n",
        "\n",
        "*   Solo toman un medicamento que puede ser insulina, metformin, glipizide, glyburide\n",
        "*   Suelen ingresar por emergencias\n",
        "\n"
      ],
      "metadata": {
        "id": "gxoT1LKz2rY9"
      }
    },
    {
      "cell_type": "markdown",
      "source": [
        "#### Grupo 1"
      ],
      "metadata": {
        "id": "cDc-VoSg4Nc7"
      }
    },
    {
      "cell_type": "markdown",
      "source": [
        "Este grupo se caracteriza por tomar medicinas, tener examenes con resultados normales y pudieron o no ser readmitidos. Aquí se excluyen los que no fueron readmitidos y no tuvieron cambios en su medicina ya que hacen parte del grupo de control"
      ],
      "metadata": {
        "id": "HssVXGL44RK-"
      }
    },
    {
      "cell_type": "code",
      "source": [
        "group1 = Strack_dataset[(Strack_dataset['diabetesMed'] == 'Yes') &\n",
        "                     (Strack_dataset['A1Cresult'] == 'Norm') &\n",
        "                     (((Strack_dataset['readmitted'] == 'NO') & (Strack_dataset['change'] != 'No')) | (Strack_dataset['readmitted'] != 'NO'))]\n",
        "len(group1)"
      ],
      "metadata": {
        "colab": {
          "base_uri": "https://localhost:8080/"
        },
        "id": "CM6pv3s42P8F",
        "outputId": "e4475e67-ef75-4dab-fbbe-e14928667acb"
      },
      "execution_count": 30,
      "outputs": [
        {
          "output_type": "execute_result",
          "data": {
            "text/plain": [
              "2026"
            ]
          },
          "metadata": {},
          "execution_count": 30
        }
      ]
    },
    {
      "cell_type": "markdown",
      "source": [
        "La cantidad de data que tiene el grupo se muestra con el fin de controlar la trasabilidad del grupo y verificar que la cantidad de data corresponde a lo previamente visto"
      ],
      "metadata": {
        "id": "kysgmjRv5pXL"
      }
    },
    {
      "cell_type": "markdown",
      "source": [
        "En este grupo tenemos 3 casos\n",
        "\n",
        "*   Grupo 1.1 = los que recibieron cambios en su medicación y no fueron reingresados\n",
        "*   Grupo 1.2 = los que recibieron cambios en su medicación y si fueron reingresados\n",
        "*   Grupo 1.3 = los que no recibieron cambios en su medicación y si fueron reingresados\n",
        "\n",
        "En estos 3 grupos vamos a buscar patrones en las medicinas"
      ],
      "metadata": {
        "id": "qfdckl3P7vDo"
      }
    },
    {
      "cell_type": "code",
      "source": [
        "group1_1 = group1[(group1['change'] != 'No') & (group1['readmitted'] == 'NO')]\n",
        "group1_2 = group1[(group1['change'] != 'No') & (group1['readmitted'] != 'NO')]\n",
        "group1_3 = group1[(group1['change'] == 'No') & (group1['readmitted'] != 'NO')]\n",
        "len(group1_1), len(group1_2), len(group1_3)"
      ],
      "metadata": {
        "colab": {
          "base_uri": "https://localhost:8080/"
        },
        "id": "sk_Iy7e35O1W",
        "outputId": "e87677d7-2fa6-44e5-e82e-13ec1ba011aa"
      },
      "execution_count": 31,
      "outputs": [
        {
          "output_type": "execute_result",
          "data": {
            "text/plain": [
              "(945, 664, 417)"
            ]
          },
          "metadata": {},
          "execution_count": 31
        }
      ]
    },
    {
      "cell_type": "markdown",
      "source": [
        "##### Grupo 1.1"
      ],
      "metadata": {
        "id": "KoszZHqbNN3v"
      }
    },
    {
      "cell_type": "code",
      "source": [
        "med_group1_1 = group1_1[['metformin', 'repaglinide', 'nateglinide', 'chlorpropamide',\n",
        "                                   'glimepiride', 'acetohexamide', 'glipizide', 'glyburide',\n",
        "                                   'tolbutamide', 'pioglitazone', 'rosiglitazone', 'acarbose',\n",
        "                                   'miglitol', 'troglitazone', 'tolazamide', 'examide',\n",
        "                                   'citoglipton', 'insulin', 'glyburide-metformin',\n",
        "                                   'glipizide-metformin', 'glimepiride-pioglitazone',\n",
        "                                   'metformin-rosiglitazone', 'metformin-pioglitazone']]\n",
        "\n",
        "med_group1_1 = med_group1_1.loc[:, med_group1_1.nunique() > 1] #Quitamos las columnas que solo tienen un valor constante\n",
        "med_group1_1['Medicinas_tomadas'] = med_group1_1.apply(lambda row: (row != 'No').sum(), axis=1)\n",
        "fig = px.histogram(med_group1_1, x='Medicinas_tomadas', nbins=11, title='Distribución del número de medicinas tomadas al tiempo')\n",
        "fig.show()"
      ],
      "metadata": {
        "colab": {
          "base_uri": "https://localhost:8080/",
          "height": 542
        },
        "id": "bjvupsyE5O4t",
        "outputId": "dac8bf55-7a0d-4430-e215-158de04d6246"
      },
      "execution_count": 32,
      "outputs": [
        {
          "output_type": "display_data",
          "data": {
            "text/html": [
              "<html>\n",
              "<head><meta charset=\"utf-8\" /></head>\n",
              "<body>\n",
              "    <div>            <script src=\"https://cdnjs.cloudflare.com/ajax/libs/mathjax/2.7.5/MathJax.js?config=TeX-AMS-MML_SVG\"></script><script type=\"text/javascript\">if (window.MathJax && window.MathJax.Hub && window.MathJax.Hub.Config) {window.MathJax.Hub.Config({SVG: {font: \"STIX-Web\"}});}</script>                <script type=\"text/javascript\">window.PlotlyConfig = {MathJaxConfig: 'local'};</script>\n",
              "        <script charset=\"utf-8\" src=\"https://cdn.plot.ly/plotly-2.35.2.min.js\"></script>                <div id=\"939523e2-13fe-4b93-b14e-b803a03c6004\" class=\"plotly-graph-div\" style=\"height:525px; width:100%;\"></div>            <script type=\"text/javascript\">                                    window.PLOTLYENV=window.PLOTLYENV || {};                                    if (document.getElementById(\"939523e2-13fe-4b93-b14e-b803a03c6004\")) {                    Plotly.newPlot(                        \"939523e2-13fe-4b93-b14e-b803a03c6004\",                        [{\"alignmentgroup\":\"True\",\"bingroup\":\"x\",\"hovertemplate\":\"Medicinas_tomadas=%{x}\\u003cbr\\u003ecount=%{y}\\u003cextra\\u003e\\u003c\\u002fextra\\u003e\",\"legendgroup\":\"\",\"marker\":{\"color\":\"#636efa\",\"pattern\":{\"shape\":\"\"}},\"name\":\"\",\"nbinsx\":11,\"offsetgroup\":\"\",\"orientation\":\"v\",\"showlegend\":false,\"x\":[2,1,2,1,2,1,1,2,2,3,2,1,2,2,1,2,2,4,3,2,3,3,2,2,2,1,2,1,1,2,1,2,2,4,2,2,4,3,2,1,2,2,2,2,1,1,3,1,3,1,2,2,2,3,2,2,1,3,2,2,2,2,2,2,2,2,3,1,2,3,2,2,2,2,2,2,4,2,1,3,2,2,3,1,2,2,2,3,2,1,2,3,1,3,1,2,2,2,2,3,3,2,1,2,3,2,3,3,2,3,1,1,2,2,2,1,2,2,2,2,2,3,3,2,2,3,1,2,1,2,1,2,2,4,2,2,1,2,1,2,3,2,2,2,2,2,2,2,1,2,1,2,3,2,2,2,3,1,2,2,3,3,2,3,3,2,1,2,2,4,2,2,4,3,2,2,2,3,2,4,2,2,2,1,2,2,2,1,3,2,3,2,1,3,1,1,4,3,2,2,2,2,1,3,1,3,1,4,1,3,3,1,3,1,1,2,1,2,1,3,1,2,1,3,2,1,1,4,3,2,2,2,3,1,2,1,3,2,2,1,1,1,3,2,2,1,1,1,2,1,1,2,1,1,2,2,1,2,3,1,1,3,2,4,4,1,1,4,2,1,2,3,2,2,1,2,2,1,2,2,2,3,2,1,1,1,1,2,2,3,2,2,1,2,2,3,2,1,2,3,1,1,2,3,1,2,2,1,2,1,1,1,2,1,2,2,1,1,1,1,1,1,1,1,2,2,1,3,1,3,2,2,2,3,1,3,3,2,3,2,1,2,2,1,1,2,3,2,3,1,1,1,2,2,1,4,2,3,3,2,1,2,2,3,2,1,2,2,2,3,2,2,3,2,1,4,2,1,2,2,2,1,1,2,2,3,2,2,2,2,1,2,2,2,2,3,1,4,3,2,4,3,2,2,1,3,2,1,2,3,2,2,2,5,1,1,1,3,3,1,3,2,1,3,2,1,3,1,1,1,2,2,2,1,4,3,1,3,3,2,2,1,1,1,1,1,1,4,1,2,3,1,2,1,2,1,3,2,2,1,1,2,2,2,1,2,3,2,3,2,1,3,1,1,2,4,2,1,1,2,2,3,4,3,1,4,2,1,1,1,1,1,1,2,3,1,3,1,1,2,2,1,3,1,2,3,2,1,2,1,4,2,3,1,3,2,1,1,2,2,1,2,1,3,3,2,2,3,2,1,1,1,1,2,1,2,2,1,2,2,1,4,1,1,3,1,3,3,1,2,2,2,2,4,3,1,2,3,3,1,2,4,3,3,2,2,4,2,2,3,2,3,2,2,1,2,2,2,1,3,2,1,3,2,1,1,3,2,3,3,2,1,4,2,1,1,1,1,2,1,1,2,4,2,2,3,2,2,2,2,1,2,3,2,2,2,2,2,1,3,2,3,1,1,3,2,4,3,1,2,3,2,2,1,1,2,2,1,2,4,2,1,1,2,3,3,2,1,2,2,1,2,2,1,3,2,1,1,2,1,3,2,2,4,2,3,2,1,1,2,1,1,3,1,3,2,1,4,4,1,2,2,2,1,3,2,2,2,3,2,1,4,1,4,2,1,2,2,1,2,4,3,2,3,1,2,2,3,2,3,2,1,2,1,1,1,1,1,2,2,1,2,1,4,1,1,2,1,2,1,2,2,1,1,1,1,2,2,2,3,3,2,3,4,1,2,2,2,2,3,2,2,2,2,2,2,4,1,2,1,3,1,2,1,2,3,3,3,2,2,1,3,2,1,1,2,1,1,2,2,2,3,1,1,3,2,1,3,2,3,1,2,2,2,1,2,3,1,3,2,2,1,3,2,1,2,3,1,2,2,1,1,2,1,1,1,2,2,2,1,2,3,1,2,2,1,2,2,3,1,2,1,2,2,2,1,2,1,2,2,3,1,1,1,2,1,1,1,1,3,2,1,2,2,1,2,2,1,1,3,2,3,2,1,1,1,2,2,2,1,1,2,2,2,3,2,1,1,2,2,2,3,3,3,2,1,4,3,2,1,3,2,2,4,2,3,2,1,1,2,2,2,4,3,3,1,2,3,4,1,1,1,1,2,1,1,1,4,1,1,2,1,2,2,1,2,2,2,2,2,4,2,3,2,1,2,2,1,2,1,2,1,2,3,2],\"xaxis\":\"x\",\"yaxis\":\"y\",\"type\":\"histogram\"}],                        {\"template\":{\"data\":{\"histogram2dcontour\":[{\"type\":\"histogram2dcontour\",\"colorbar\":{\"outlinewidth\":0,\"ticks\":\"\"},\"colorscale\":[[0.0,\"#0d0887\"],[0.1111111111111111,\"#46039f\"],[0.2222222222222222,\"#7201a8\"],[0.3333333333333333,\"#9c179e\"],[0.4444444444444444,\"#bd3786\"],[0.5555555555555556,\"#d8576b\"],[0.6666666666666666,\"#ed7953\"],[0.7777777777777778,\"#fb9f3a\"],[0.8888888888888888,\"#fdca26\"],[1.0,\"#f0f921\"]]}],\"choropleth\":[{\"type\":\"choropleth\",\"colorbar\":{\"outlinewidth\":0,\"ticks\":\"\"}}],\"histogram2d\":[{\"type\":\"histogram2d\",\"colorbar\":{\"outlinewidth\":0,\"ticks\":\"\"},\"colorscale\":[[0.0,\"#0d0887\"],[0.1111111111111111,\"#46039f\"],[0.2222222222222222,\"#7201a8\"],[0.3333333333333333,\"#9c179e\"],[0.4444444444444444,\"#bd3786\"],[0.5555555555555556,\"#d8576b\"],[0.6666666666666666,\"#ed7953\"],[0.7777777777777778,\"#fb9f3a\"],[0.8888888888888888,\"#fdca26\"],[1.0,\"#f0f921\"]]}],\"heatmap\":[{\"type\":\"heatmap\",\"colorbar\":{\"outlinewidth\":0,\"ticks\":\"\"},\"colorscale\":[[0.0,\"#0d0887\"],[0.1111111111111111,\"#46039f\"],[0.2222222222222222,\"#7201a8\"],[0.3333333333333333,\"#9c179e\"],[0.4444444444444444,\"#bd3786\"],[0.5555555555555556,\"#d8576b\"],[0.6666666666666666,\"#ed7953\"],[0.7777777777777778,\"#fb9f3a\"],[0.8888888888888888,\"#fdca26\"],[1.0,\"#f0f921\"]]}],\"heatmapgl\":[{\"type\":\"heatmapgl\",\"colorbar\":{\"outlinewidth\":0,\"ticks\":\"\"},\"colorscale\":[[0.0,\"#0d0887\"],[0.1111111111111111,\"#46039f\"],[0.2222222222222222,\"#7201a8\"],[0.3333333333333333,\"#9c179e\"],[0.4444444444444444,\"#bd3786\"],[0.5555555555555556,\"#d8576b\"],[0.6666666666666666,\"#ed7953\"],[0.7777777777777778,\"#fb9f3a\"],[0.8888888888888888,\"#fdca26\"],[1.0,\"#f0f921\"]]}],\"contourcarpet\":[{\"type\":\"contourcarpet\",\"colorbar\":{\"outlinewidth\":0,\"ticks\":\"\"}}],\"contour\":[{\"type\":\"contour\",\"colorbar\":{\"outlinewidth\":0,\"ticks\":\"\"},\"colorscale\":[[0.0,\"#0d0887\"],[0.1111111111111111,\"#46039f\"],[0.2222222222222222,\"#7201a8\"],[0.3333333333333333,\"#9c179e\"],[0.4444444444444444,\"#bd3786\"],[0.5555555555555556,\"#d8576b\"],[0.6666666666666666,\"#ed7953\"],[0.7777777777777778,\"#fb9f3a\"],[0.8888888888888888,\"#fdca26\"],[1.0,\"#f0f921\"]]}],\"surface\":[{\"type\":\"surface\",\"colorbar\":{\"outlinewidth\":0,\"ticks\":\"\"},\"colorscale\":[[0.0,\"#0d0887\"],[0.1111111111111111,\"#46039f\"],[0.2222222222222222,\"#7201a8\"],[0.3333333333333333,\"#9c179e\"],[0.4444444444444444,\"#bd3786\"],[0.5555555555555556,\"#d8576b\"],[0.6666666666666666,\"#ed7953\"],[0.7777777777777778,\"#fb9f3a\"],[0.8888888888888888,\"#fdca26\"],[1.0,\"#f0f921\"]]}],\"mesh3d\":[{\"type\":\"mesh3d\",\"colorbar\":{\"outlinewidth\":0,\"ticks\":\"\"}}],\"scatter\":[{\"fillpattern\":{\"fillmode\":\"overlay\",\"size\":10,\"solidity\":0.2},\"type\":\"scatter\"}],\"parcoords\":[{\"type\":\"parcoords\",\"line\":{\"colorbar\":{\"outlinewidth\":0,\"ticks\":\"\"}}}],\"scatterpolargl\":[{\"type\":\"scatterpolargl\",\"marker\":{\"colorbar\":{\"outlinewidth\":0,\"ticks\":\"\"}}}],\"bar\":[{\"error_x\":{\"color\":\"#2a3f5f\"},\"error_y\":{\"color\":\"#2a3f5f\"},\"marker\":{\"line\":{\"color\":\"#E5ECF6\",\"width\":0.5},\"pattern\":{\"fillmode\":\"overlay\",\"size\":10,\"solidity\":0.2}},\"type\":\"bar\"}],\"scattergeo\":[{\"type\":\"scattergeo\",\"marker\":{\"colorbar\":{\"outlinewidth\":0,\"ticks\":\"\"}}}],\"scatterpolar\":[{\"type\":\"scatterpolar\",\"marker\":{\"colorbar\":{\"outlinewidth\":0,\"ticks\":\"\"}}}],\"histogram\":[{\"marker\":{\"pattern\":{\"fillmode\":\"overlay\",\"size\":10,\"solidity\":0.2}},\"type\":\"histogram\"}],\"scattergl\":[{\"type\":\"scattergl\",\"marker\":{\"colorbar\":{\"outlinewidth\":0,\"ticks\":\"\"}}}],\"scatter3d\":[{\"type\":\"scatter3d\",\"line\":{\"colorbar\":{\"outlinewidth\":0,\"ticks\":\"\"}},\"marker\":{\"colorbar\":{\"outlinewidth\":0,\"ticks\":\"\"}}}],\"scattermapbox\":[{\"type\":\"scattermapbox\",\"marker\":{\"colorbar\":{\"outlinewidth\":0,\"ticks\":\"\"}}}],\"scatterternary\":[{\"type\":\"scatterternary\",\"marker\":{\"colorbar\":{\"outlinewidth\":0,\"ticks\":\"\"}}}],\"scattercarpet\":[{\"type\":\"scattercarpet\",\"marker\":{\"colorbar\":{\"outlinewidth\":0,\"ticks\":\"\"}}}],\"carpet\":[{\"aaxis\":{\"endlinecolor\":\"#2a3f5f\",\"gridcolor\":\"white\",\"linecolor\":\"white\",\"minorgridcolor\":\"white\",\"startlinecolor\":\"#2a3f5f\"},\"baxis\":{\"endlinecolor\":\"#2a3f5f\",\"gridcolor\":\"white\",\"linecolor\":\"white\",\"minorgridcolor\":\"white\",\"startlinecolor\":\"#2a3f5f\"},\"type\":\"carpet\"}],\"table\":[{\"cells\":{\"fill\":{\"color\":\"#EBF0F8\"},\"line\":{\"color\":\"white\"}},\"header\":{\"fill\":{\"color\":\"#C8D4E3\"},\"line\":{\"color\":\"white\"}},\"type\":\"table\"}],\"barpolar\":[{\"marker\":{\"line\":{\"color\":\"#E5ECF6\",\"width\":0.5},\"pattern\":{\"fillmode\":\"overlay\",\"size\":10,\"solidity\":0.2}},\"type\":\"barpolar\"}],\"pie\":[{\"automargin\":true,\"type\":\"pie\"}]},\"layout\":{\"autotypenumbers\":\"strict\",\"colorway\":[\"#636efa\",\"#EF553B\",\"#00cc96\",\"#ab63fa\",\"#FFA15A\",\"#19d3f3\",\"#FF6692\",\"#B6E880\",\"#FF97FF\",\"#FECB52\"],\"font\":{\"color\":\"#2a3f5f\"},\"hovermode\":\"closest\",\"hoverlabel\":{\"align\":\"left\"},\"paper_bgcolor\":\"white\",\"plot_bgcolor\":\"#E5ECF6\",\"polar\":{\"bgcolor\":\"#E5ECF6\",\"angularaxis\":{\"gridcolor\":\"white\",\"linecolor\":\"white\",\"ticks\":\"\"},\"radialaxis\":{\"gridcolor\":\"white\",\"linecolor\":\"white\",\"ticks\":\"\"}},\"ternary\":{\"bgcolor\":\"#E5ECF6\",\"aaxis\":{\"gridcolor\":\"white\",\"linecolor\":\"white\",\"ticks\":\"\"},\"baxis\":{\"gridcolor\":\"white\",\"linecolor\":\"white\",\"ticks\":\"\"},\"caxis\":{\"gridcolor\":\"white\",\"linecolor\":\"white\",\"ticks\":\"\"}},\"coloraxis\":{\"colorbar\":{\"outlinewidth\":0,\"ticks\":\"\"}},\"colorscale\":{\"sequential\":[[0.0,\"#0d0887\"],[0.1111111111111111,\"#46039f\"],[0.2222222222222222,\"#7201a8\"],[0.3333333333333333,\"#9c179e\"],[0.4444444444444444,\"#bd3786\"],[0.5555555555555556,\"#d8576b\"],[0.6666666666666666,\"#ed7953\"],[0.7777777777777778,\"#fb9f3a\"],[0.8888888888888888,\"#fdca26\"],[1.0,\"#f0f921\"]],\"sequentialminus\":[[0.0,\"#0d0887\"],[0.1111111111111111,\"#46039f\"],[0.2222222222222222,\"#7201a8\"],[0.3333333333333333,\"#9c179e\"],[0.4444444444444444,\"#bd3786\"],[0.5555555555555556,\"#d8576b\"],[0.6666666666666666,\"#ed7953\"],[0.7777777777777778,\"#fb9f3a\"],[0.8888888888888888,\"#fdca26\"],[1.0,\"#f0f921\"]],\"diverging\":[[0,\"#8e0152\"],[0.1,\"#c51b7d\"],[0.2,\"#de77ae\"],[0.3,\"#f1b6da\"],[0.4,\"#fde0ef\"],[0.5,\"#f7f7f7\"],[0.6,\"#e6f5d0\"],[0.7,\"#b8e186\"],[0.8,\"#7fbc41\"],[0.9,\"#4d9221\"],[1,\"#276419\"]]},\"xaxis\":{\"gridcolor\":\"white\",\"linecolor\":\"white\",\"ticks\":\"\",\"title\":{\"standoff\":15},\"zerolinecolor\":\"white\",\"automargin\":true,\"zerolinewidth\":2},\"yaxis\":{\"gridcolor\":\"white\",\"linecolor\":\"white\",\"ticks\":\"\",\"title\":{\"standoff\":15},\"zerolinecolor\":\"white\",\"automargin\":true,\"zerolinewidth\":2},\"scene\":{\"xaxis\":{\"backgroundcolor\":\"#E5ECF6\",\"gridcolor\":\"white\",\"linecolor\":\"white\",\"showbackground\":true,\"ticks\":\"\",\"zerolinecolor\":\"white\",\"gridwidth\":2},\"yaxis\":{\"backgroundcolor\":\"#E5ECF6\",\"gridcolor\":\"white\",\"linecolor\":\"white\",\"showbackground\":true,\"ticks\":\"\",\"zerolinecolor\":\"white\",\"gridwidth\":2},\"zaxis\":{\"backgroundcolor\":\"#E5ECF6\",\"gridcolor\":\"white\",\"linecolor\":\"white\",\"showbackground\":true,\"ticks\":\"\",\"zerolinecolor\":\"white\",\"gridwidth\":2}},\"shapedefaults\":{\"line\":{\"color\":\"#2a3f5f\"}},\"annotationdefaults\":{\"arrowcolor\":\"#2a3f5f\",\"arrowhead\":0,\"arrowwidth\":1},\"geo\":{\"bgcolor\":\"white\",\"landcolor\":\"#E5ECF6\",\"subunitcolor\":\"white\",\"showland\":true,\"showlakes\":true,\"lakecolor\":\"white\"},\"title\":{\"x\":0.05},\"mapbox\":{\"style\":\"light\"}}},\"xaxis\":{\"anchor\":\"y\",\"domain\":[0.0,1.0],\"title\":{\"text\":\"Medicinas_tomadas\"}},\"yaxis\":{\"anchor\":\"x\",\"domain\":[0.0,1.0],\"title\":{\"text\":\"count\"}},\"legend\":{\"tracegroupgap\":0},\"title\":{\"text\":\"Distribuci\\u00f3n del n\\u00famero de medicinas tomadas al tiempo\"},\"barmode\":\"relative\"},                        {\"responsive\": true}                    ).then(function(){\n",
              "                            \n",
              "var gd = document.getElementById('939523e2-13fe-4b93-b14e-b803a03c6004');\n",
              "var x = new MutationObserver(function (mutations, observer) {{\n",
              "        var display = window.getComputedStyle(gd).display;\n",
              "        if (!display || display === 'none') {{\n",
              "            console.log([gd, 'removed!']);\n",
              "            Plotly.purge(gd);\n",
              "            observer.disconnect();\n",
              "        }}\n",
              "}});\n",
              "\n",
              "// Listen for the removal of the full notebook cells\n",
              "var notebookContainer = gd.closest('#notebook-container');\n",
              "if (notebookContainer) {{\n",
              "    x.observe(notebookContainer, {childList: true});\n",
              "}}\n",
              "\n",
              "// Listen for the clearing of the current output cell\n",
              "var outputEl = gd.closest('.output');\n",
              "if (outputEl) {{\n",
              "    x.observe(outputEl, {childList: true});\n",
              "}}\n",
              "\n",
              "                        })                };                            </script>        </div>\n",
              "</body>\n",
              "</html>"
            ]
          },
          "metadata": {}
        }
      ]
    },
    {
      "cell_type": "markdown",
      "source": [
        "Ahora vamos a ver cuando es 1 sola cual es. (Esperamos que sea una de las 4 de control) y cuando son 2 y 3 (Cuales están y cuál fue la instrucción).\n",
        "\n",
        "En este punto es importante notar que estamos suponiendo que un Down continúa tomando el medicamento, pero realmente puede ser que le bajaron la dosis a 0. Esto es algo que no tenemos explicitamente pero que podríamos intuir dependiendo del caso"
      ],
      "metadata": {
        "id": "ZIfTgMkgJLWs"
      }
    },
    {
      "cell_type": "code",
      "source": [
        "med_group1_1_1 = med_group1_1[med_group1_1['Medicinas_tomadas'] == 1]\n",
        "def find_column_with_non_no_value(row):\n",
        "  for column in row.index:\n",
        "    if row[column] != 'No':\n",
        "      return column\n",
        "  return None\n",
        "\n",
        "med_group1_1_1['Columna_Medicina'] = med_group1_1_1.apply(find_column_with_non_no_value, axis=1)\n",
        "med_group1_1_1['Columna_Medicina'].value_counts()"
      ],
      "metadata": {
        "colab": {
          "base_uri": "https://localhost:8080/",
          "height": 272
        },
        "id": "7Hf-aIjf5O72",
        "outputId": "9ff28932-f4e8-490d-d3df-5c7b9d42eca1"
      },
      "execution_count": 33,
      "outputs": [
        {
          "output_type": "execute_result",
          "data": {
            "text/plain": [
              "Columna_Medicina\n",
              "insulin        273\n",
              "glyburide       10\n",
              "metformin        9\n",
              "glipizide        6\n",
              "glimepiride      4\n",
              "Name: count, dtype: int64"
            ],
            "text/html": [
              "<div>\n",
              "<style scoped>\n",
              "    .dataframe tbody tr th:only-of-type {\n",
              "        vertical-align: middle;\n",
              "    }\n",
              "\n",
              "    .dataframe tbody tr th {\n",
              "        vertical-align: top;\n",
              "    }\n",
              "\n",
              "    .dataframe thead th {\n",
              "        text-align: right;\n",
              "    }\n",
              "</style>\n",
              "<table border=\"1\" class=\"dataframe\">\n",
              "  <thead>\n",
              "    <tr style=\"text-align: right;\">\n",
              "      <th></th>\n",
              "      <th>count</th>\n",
              "    </tr>\n",
              "    <tr>\n",
              "      <th>Columna_Medicina</th>\n",
              "      <th></th>\n",
              "    </tr>\n",
              "  </thead>\n",
              "  <tbody>\n",
              "    <tr>\n",
              "      <th>insulin</th>\n",
              "      <td>273</td>\n",
              "    </tr>\n",
              "    <tr>\n",
              "      <th>glyburide</th>\n",
              "      <td>10</td>\n",
              "    </tr>\n",
              "    <tr>\n",
              "      <th>metformin</th>\n",
              "      <td>9</td>\n",
              "    </tr>\n",
              "    <tr>\n",
              "      <th>glipizide</th>\n",
              "      <td>6</td>\n",
              "    </tr>\n",
              "    <tr>\n",
              "      <th>glimepiride</th>\n",
              "      <td>4</td>\n",
              "    </tr>\n",
              "  </tbody>\n",
              "</table>\n",
              "</div><br><label><b>dtype:</b> int64</label>"
            ]
          },
          "metadata": {},
          "execution_count": 33
        }
      ]
    },
    {
      "cell_type": "markdown",
      "source": [
        "Dentro de las medicinas que se toman están las 4 que consideramos en el grupo de control. Esto tiene sentido. Vamos a ver si les aumentaron la dosis o si la redujeron"
      ],
      "metadata": {
        "id": "zZlZg37RKe5D"
      }
    },
    {
      "cell_type": "code",
      "source": [
        "med_group1_1_1['insulin'].value_counts()"
      ],
      "metadata": {
        "colab": {
          "base_uri": "https://localhost:8080/",
          "height": 210
        },
        "id": "76578GsU5PBU",
        "outputId": "f70d34d6-4faf-41a7-f451-f2eaad16c92f"
      },
      "execution_count": 34,
      "outputs": [
        {
          "output_type": "execute_result",
          "data": {
            "text/plain": [
              "insulin\n",
              "Down    153\n",
              "Up      120\n",
              "No       29\n",
              "Name: count, dtype: int64"
            ],
            "text/html": [
              "<div>\n",
              "<style scoped>\n",
              "    .dataframe tbody tr th:only-of-type {\n",
              "        vertical-align: middle;\n",
              "    }\n",
              "\n",
              "    .dataframe tbody tr th {\n",
              "        vertical-align: top;\n",
              "    }\n",
              "\n",
              "    .dataframe thead th {\n",
              "        text-align: right;\n",
              "    }\n",
              "</style>\n",
              "<table border=\"1\" class=\"dataframe\">\n",
              "  <thead>\n",
              "    <tr style=\"text-align: right;\">\n",
              "      <th></th>\n",
              "      <th>count</th>\n",
              "    </tr>\n",
              "    <tr>\n",
              "      <th>insulin</th>\n",
              "      <th></th>\n",
              "    </tr>\n",
              "  </thead>\n",
              "  <tbody>\n",
              "    <tr>\n",
              "      <th>Down</th>\n",
              "      <td>153</td>\n",
              "    </tr>\n",
              "    <tr>\n",
              "      <th>Up</th>\n",
              "      <td>120</td>\n",
              "    </tr>\n",
              "    <tr>\n",
              "      <th>No</th>\n",
              "      <td>29</td>\n",
              "    </tr>\n",
              "  </tbody>\n",
              "</table>\n",
              "</div><br><label><b>dtype:</b> int64</label>"
            ]
          },
          "metadata": {},
          "execution_count": 34
        }
      ]
    },
    {
      "cell_type": "code",
      "source": [
        "med_group1_1_1['glyburide'].value_counts()"
      ],
      "metadata": {
        "colab": {
          "base_uri": "https://localhost:8080/",
          "height": 210
        },
        "id": "JOg-pxFJK9GO",
        "outputId": "a528b5bc-e635-4146-e296-6bebdca413df"
      },
      "execution_count": 35,
      "outputs": [
        {
          "output_type": "execute_result",
          "data": {
            "text/plain": [
              "glyburide\n",
              "No      292\n",
              "Up        7\n",
              "Down      3\n",
              "Name: count, dtype: int64"
            ],
            "text/html": [
              "<div>\n",
              "<style scoped>\n",
              "    .dataframe tbody tr th:only-of-type {\n",
              "        vertical-align: middle;\n",
              "    }\n",
              "\n",
              "    .dataframe tbody tr th {\n",
              "        vertical-align: top;\n",
              "    }\n",
              "\n",
              "    .dataframe thead th {\n",
              "        text-align: right;\n",
              "    }\n",
              "</style>\n",
              "<table border=\"1\" class=\"dataframe\">\n",
              "  <thead>\n",
              "    <tr style=\"text-align: right;\">\n",
              "      <th></th>\n",
              "      <th>count</th>\n",
              "    </tr>\n",
              "    <tr>\n",
              "      <th>glyburide</th>\n",
              "      <th></th>\n",
              "    </tr>\n",
              "  </thead>\n",
              "  <tbody>\n",
              "    <tr>\n",
              "      <th>No</th>\n",
              "      <td>292</td>\n",
              "    </tr>\n",
              "    <tr>\n",
              "      <th>Up</th>\n",
              "      <td>7</td>\n",
              "    </tr>\n",
              "    <tr>\n",
              "      <th>Down</th>\n",
              "      <td>3</td>\n",
              "    </tr>\n",
              "  </tbody>\n",
              "</table>\n",
              "</div><br><label><b>dtype:</b> int64</label>"
            ]
          },
          "metadata": {},
          "execution_count": 35
        }
      ]
    },
    {
      "cell_type": "code",
      "source": [
        "med_group1_1_1['metformin'].value_counts()"
      ],
      "metadata": {
        "colab": {
          "base_uri": "https://localhost:8080/",
          "height": 210
        },
        "id": "PzHzchNMK9Yt",
        "outputId": "9824a588-55da-494d-9317-fa283e180363"
      },
      "execution_count": 36,
      "outputs": [
        {
          "output_type": "execute_result",
          "data": {
            "text/plain": [
              "metformin\n",
              "No      293\n",
              "Up        5\n",
              "Down      4\n",
              "Name: count, dtype: int64"
            ],
            "text/html": [
              "<div>\n",
              "<style scoped>\n",
              "    .dataframe tbody tr th:only-of-type {\n",
              "        vertical-align: middle;\n",
              "    }\n",
              "\n",
              "    .dataframe tbody tr th {\n",
              "        vertical-align: top;\n",
              "    }\n",
              "\n",
              "    .dataframe thead th {\n",
              "        text-align: right;\n",
              "    }\n",
              "</style>\n",
              "<table border=\"1\" class=\"dataframe\">\n",
              "  <thead>\n",
              "    <tr style=\"text-align: right;\">\n",
              "      <th></th>\n",
              "      <th>count</th>\n",
              "    </tr>\n",
              "    <tr>\n",
              "      <th>metformin</th>\n",
              "      <th></th>\n",
              "    </tr>\n",
              "  </thead>\n",
              "  <tbody>\n",
              "    <tr>\n",
              "      <th>No</th>\n",
              "      <td>293</td>\n",
              "    </tr>\n",
              "    <tr>\n",
              "      <th>Up</th>\n",
              "      <td>5</td>\n",
              "    </tr>\n",
              "    <tr>\n",
              "      <th>Down</th>\n",
              "      <td>4</td>\n",
              "    </tr>\n",
              "  </tbody>\n",
              "</table>\n",
              "</div><br><label><b>dtype:</b> int64</label>"
            ]
          },
          "metadata": {},
          "execution_count": 36
        }
      ]
    },
    {
      "cell_type": "code",
      "source": [
        "med_group1_1_1['glipizide'].value_counts()"
      ],
      "metadata": {
        "colab": {
          "base_uri": "https://localhost:8080/",
          "height": 210
        },
        "id": "KEarNKRzK9en",
        "outputId": "e86a1aca-01e8-45b2-d682-6ae2b1eb10e3"
      },
      "execution_count": 37,
      "outputs": [
        {
          "output_type": "execute_result",
          "data": {
            "text/plain": [
              "glipizide\n",
              "No      296\n",
              "Up        4\n",
              "Down      2\n",
              "Name: count, dtype: int64"
            ],
            "text/html": [
              "<div>\n",
              "<style scoped>\n",
              "    .dataframe tbody tr th:only-of-type {\n",
              "        vertical-align: middle;\n",
              "    }\n",
              "\n",
              "    .dataframe tbody tr th {\n",
              "        vertical-align: top;\n",
              "    }\n",
              "\n",
              "    .dataframe thead th {\n",
              "        text-align: right;\n",
              "    }\n",
              "</style>\n",
              "<table border=\"1\" class=\"dataframe\">\n",
              "  <thead>\n",
              "    <tr style=\"text-align: right;\">\n",
              "      <th></th>\n",
              "      <th>count</th>\n",
              "    </tr>\n",
              "    <tr>\n",
              "      <th>glipizide</th>\n",
              "      <th></th>\n",
              "    </tr>\n",
              "  </thead>\n",
              "  <tbody>\n",
              "    <tr>\n",
              "      <th>No</th>\n",
              "      <td>296</td>\n",
              "    </tr>\n",
              "    <tr>\n",
              "      <th>Up</th>\n",
              "      <td>4</td>\n",
              "    </tr>\n",
              "    <tr>\n",
              "      <th>Down</th>\n",
              "      <td>2</td>\n",
              "    </tr>\n",
              "  </tbody>\n",
              "</table>\n",
              "</div><br><label><b>dtype:</b> int64</label>"
            ]
          },
          "metadata": {},
          "execution_count": 37
        }
      ]
    },
    {
      "cell_type": "markdown",
      "source": [
        "La conclusión con este grupo es que estaban tomando las medicinas adecuadas pero en dosis inadecuadas"
      ],
      "metadata": {
        "id": "NgLn-C6vLIYn"
      }
    },
    {
      "cell_type": "code",
      "source": [
        "med_group1_1_2 = med_group1_1[med_group1_1['Medicinas_tomadas'] == 2]\n",
        "def find_columns_with_non_no_values(row):\n",
        "  columns_with_non_no_values = []\n",
        "  for column in row.index:\n",
        "    if row[column] != 'No':\n",
        "      columns_with_non_no_values.append(column)\n",
        "  return columns_with_non_no_values\n",
        "\n",
        "med_group1_1_2['Columnas_Medicinas'] = med_group1_1_2.apply(find_columns_with_non_no_values, axis=1)\n",
        "med_group1_1_2['Columnas_Medicinas'] .value_counts()"
      ],
      "metadata": {
        "colab": {
          "base_uri": "https://localhost:8080/",
          "height": 962
        },
        "id": "Hc7S-ENMK9l2",
        "outputId": "7ef01496-f377-4dd0-be00-bc5f8721708e"
      },
      "execution_count": 38,
      "outputs": [
        {
          "output_type": "execute_result",
          "data": {
            "text/plain": [
              "Columnas_Medicinas\n",
              "[metformin, insulin, Medicinas_tomadas]                  117\n",
              "[glipizide, insulin, Medicinas_tomadas]                   60\n",
              "[pioglitazone, insulin, Medicinas_tomadas]                44\n",
              "[glyburide, insulin, Medicinas_tomadas]                   44\n",
              "[metformin, glyburide, Medicinas_tomadas]                 28\n",
              "[glimepiride, insulin, Medicinas_tomadas]                 26\n",
              "[rosiglitazone, insulin, Medicinas_tomadas]               24\n",
              "[metformin, glipizide, Medicinas_tomadas]                 15\n",
              "[metformin, rosiglitazone, Medicinas_tomadas]             10\n",
              "[glipizide, rosiglitazone, Medicinas_tomadas]              8\n",
              "[metformin, glimepiride, Medicinas_tomadas]                6\n",
              "[metformin, pioglitazone, Medicinas_tomadas]               6\n",
              "[glipizide, pioglitazone, Medicinas_tomadas]               6\n",
              "[glyburide, rosiglitazone, Medicinas_tomadas]              6\n",
              "[glyburide, pioglitazone, Medicinas_tomadas]               5\n",
              "[nateglinide, insulin, Medicinas_tomadas]                  5\n",
              "[repaglinide, insulin, Medicinas_tomadas]                  5\n",
              "[metformin, nateglinide, Medicinas_tomadas]                1\n",
              "[repaglinide, glipizide, Medicinas_tomadas]                1\n",
              "[glimepiride, pioglitazone, Medicinas_tomadas]             1\n",
              "[insulin, glyburide-metformin, Medicinas_tomadas]          1\n",
              "[nateglinide, glipizide, Medicinas_tomadas]                1\n",
              "[acarbose, insulin, Medicinas_tomadas]                     1\n",
              "[glimepiride, rosiglitazone, Medicinas_tomadas]            1\n",
              "[repaglinide, nateglinide, Medicinas_tomadas]              1\n",
              "[repaglinide, rosiglitazone, Medicinas_tomadas]            1\n",
              "[glimepiride, glyburide-metformin, Medicinas_tomadas]      1\n",
              "Name: count, dtype: int64"
            ],
            "text/html": [
              "<div>\n",
              "<style scoped>\n",
              "    .dataframe tbody tr th:only-of-type {\n",
              "        vertical-align: middle;\n",
              "    }\n",
              "\n",
              "    .dataframe tbody tr th {\n",
              "        vertical-align: top;\n",
              "    }\n",
              "\n",
              "    .dataframe thead th {\n",
              "        text-align: right;\n",
              "    }\n",
              "</style>\n",
              "<table border=\"1\" class=\"dataframe\">\n",
              "  <thead>\n",
              "    <tr style=\"text-align: right;\">\n",
              "      <th></th>\n",
              "      <th>count</th>\n",
              "    </tr>\n",
              "    <tr>\n",
              "      <th>Columnas_Medicinas</th>\n",
              "      <th></th>\n",
              "    </tr>\n",
              "  </thead>\n",
              "  <tbody>\n",
              "    <tr>\n",
              "      <th>[metformin, insulin, Medicinas_tomadas]</th>\n",
              "      <td>117</td>\n",
              "    </tr>\n",
              "    <tr>\n",
              "      <th>[glipizide, insulin, Medicinas_tomadas]</th>\n",
              "      <td>60</td>\n",
              "    </tr>\n",
              "    <tr>\n",
              "      <th>[pioglitazone, insulin, Medicinas_tomadas]</th>\n",
              "      <td>44</td>\n",
              "    </tr>\n",
              "    <tr>\n",
              "      <th>[glyburide, insulin, Medicinas_tomadas]</th>\n",
              "      <td>44</td>\n",
              "    </tr>\n",
              "    <tr>\n",
              "      <th>[metformin, glyburide, Medicinas_tomadas]</th>\n",
              "      <td>28</td>\n",
              "    </tr>\n",
              "    <tr>\n",
              "      <th>[glimepiride, insulin, Medicinas_tomadas]</th>\n",
              "      <td>26</td>\n",
              "    </tr>\n",
              "    <tr>\n",
              "      <th>[rosiglitazone, insulin, Medicinas_tomadas]</th>\n",
              "      <td>24</td>\n",
              "    </tr>\n",
              "    <tr>\n",
              "      <th>[metformin, glipizide, Medicinas_tomadas]</th>\n",
              "      <td>15</td>\n",
              "    </tr>\n",
              "    <tr>\n",
              "      <th>[metformin, rosiglitazone, Medicinas_tomadas]</th>\n",
              "      <td>10</td>\n",
              "    </tr>\n",
              "    <tr>\n",
              "      <th>[glipizide, rosiglitazone, Medicinas_tomadas]</th>\n",
              "      <td>8</td>\n",
              "    </tr>\n",
              "    <tr>\n",
              "      <th>[metformin, glimepiride, Medicinas_tomadas]</th>\n",
              "      <td>6</td>\n",
              "    </tr>\n",
              "    <tr>\n",
              "      <th>[metformin, pioglitazone, Medicinas_tomadas]</th>\n",
              "      <td>6</td>\n",
              "    </tr>\n",
              "    <tr>\n",
              "      <th>[glipizide, pioglitazone, Medicinas_tomadas]</th>\n",
              "      <td>6</td>\n",
              "    </tr>\n",
              "    <tr>\n",
              "      <th>[glyburide, rosiglitazone, Medicinas_tomadas]</th>\n",
              "      <td>6</td>\n",
              "    </tr>\n",
              "    <tr>\n",
              "      <th>[glyburide, pioglitazone, Medicinas_tomadas]</th>\n",
              "      <td>5</td>\n",
              "    </tr>\n",
              "    <tr>\n",
              "      <th>[nateglinide, insulin, Medicinas_tomadas]</th>\n",
              "      <td>5</td>\n",
              "    </tr>\n",
              "    <tr>\n",
              "      <th>[repaglinide, insulin, Medicinas_tomadas]</th>\n",
              "      <td>5</td>\n",
              "    </tr>\n",
              "    <tr>\n",
              "      <th>[metformin, nateglinide, Medicinas_tomadas]</th>\n",
              "      <td>1</td>\n",
              "    </tr>\n",
              "    <tr>\n",
              "      <th>[repaglinide, glipizide, Medicinas_tomadas]</th>\n",
              "      <td>1</td>\n",
              "    </tr>\n",
              "    <tr>\n",
              "      <th>[glimepiride, pioglitazone, Medicinas_tomadas]</th>\n",
              "      <td>1</td>\n",
              "    </tr>\n",
              "    <tr>\n",
              "      <th>[insulin, glyburide-metformin, Medicinas_tomadas]</th>\n",
              "      <td>1</td>\n",
              "    </tr>\n",
              "    <tr>\n",
              "      <th>[nateglinide, glipizide, Medicinas_tomadas]</th>\n",
              "      <td>1</td>\n",
              "    </tr>\n",
              "    <tr>\n",
              "      <th>[acarbose, insulin, Medicinas_tomadas]</th>\n",
              "      <td>1</td>\n",
              "    </tr>\n",
              "    <tr>\n",
              "      <th>[glimepiride, rosiglitazone, Medicinas_tomadas]</th>\n",
              "      <td>1</td>\n",
              "    </tr>\n",
              "    <tr>\n",
              "      <th>[repaglinide, nateglinide, Medicinas_tomadas]</th>\n",
              "      <td>1</td>\n",
              "    </tr>\n",
              "    <tr>\n",
              "      <th>[repaglinide, rosiglitazone, Medicinas_tomadas]</th>\n",
              "      <td>1</td>\n",
              "    </tr>\n",
              "    <tr>\n",
              "      <th>[glimepiride, glyburide-metformin, Medicinas_tomadas]</th>\n",
              "      <td>1</td>\n",
              "    </tr>\n",
              "  </tbody>\n",
              "</table>\n",
              "</div><br><label><b>dtype:</b> int64</label>"
            ]
          },
          "metadata": {},
          "execution_count": 38
        }
      ]
    },
    {
      "cell_type": "markdown",
      "source": [
        "En los casos más significativos de este grupo que toma 2 medicamentos se tiene que **siempre** está al menos 1 de las 4 medicinas que se identificaron en el grupo de control"
      ],
      "metadata": {
        "id": "63TEbGvqMZmP"
      }
    },
    {
      "cell_type": "code",
      "source": [
        "med_group1_1_3 = med_group1_1[med_group1_1['Medicinas_tomadas'] == 3]\n",
        "\n",
        "med_group1_1_3['Columnas_Medicinas'] = med_group1_1_3.apply(find_columns_with_non_no_values, axis=1)\n",
        "med_group1_1_3['Columnas_Medicinas'] .value_counts()"
      ],
      "metadata": {
        "colab": {
          "base_uri": "https://localhost:8080/",
          "height": 1000
        },
        "id": "uYq01GQ8MnpH",
        "outputId": "3e4b386d-136f-40a9-bd13-d57eb260691a"
      },
      "execution_count": 39,
      "outputs": [
        {
          "output_type": "execute_result",
          "data": {
            "text/plain": [
              "Columnas_Medicinas\n",
              "[metformin, glipizide, insulin, Medicinas_tomadas]                 31\n",
              "[metformin, pioglitazone, insulin, Medicinas_tomadas]              24\n",
              "[metformin, glyburide, insulin, Medicinas_tomadas]                 20\n",
              "[metformin, rosiglitazone, insulin, Medicinas_tomadas]             16\n",
              "[glipizide, pioglitazone, insulin, Medicinas_tomadas]              10\n",
              "[glyburide, rosiglitazone, insulin, Medicinas_tomadas]              8\n",
              "[metformin, glimepiride, insulin, Medicinas_tomadas]                7\n",
              "[glimepiride, rosiglitazone, insulin, Medicinas_tomadas]            5\n",
              "[metformin, repaglinide, insulin, Medicinas_tomadas]                5\n",
              "[glipizide, rosiglitazone, insulin, Medicinas_tomadas]              4\n",
              "[metformin, glyburide, pioglitazone, Medicinas_tomadas]             4\n",
              "[glimepiride, pioglitazone, insulin, Medicinas_tomadas]             3\n",
              "[metformin, glyburide, rosiglitazone, Medicinas_tomadas]            3\n",
              "[glipizide, glyburide, insulin, Medicinas_tomadas]                  3\n",
              "[glyburide, pioglitazone, insulin, Medicinas_tomadas]               3\n",
              "[pioglitazone, insulin, glyburide-metformin, Medicinas_tomadas]     3\n",
              "[nateglinide, rosiglitazone, insulin, Medicinas_tomadas]            2\n",
              "[metformin, glipizide, rosiglitazone, Medicinas_tomadas]            2\n",
              "[metformin, glimepiride, pioglitazone, Medicinas_tomadas]           2\n",
              "[metformin, glipizide, pioglitazone, Medicinas_tomadas]             2\n",
              "[glimepiride, acarbose, insulin, Medicinas_tomadas]                 1\n",
              "[metformin, glyburide, acarbose, Medicinas_tomadas]                 1\n",
              "[repaglinide, glyburide, insulin, Medicinas_tomadas]                1\n",
              "[metformin, glimepiride, glipizide, Medicinas_tomadas]              1\n",
              "[metformin, acarbose, insulin, Medicinas_tomadas]                   1\n",
              "[metformin, pioglitazone, rosiglitazone, Medicinas_tomadas]         1\n",
              "[repaglinide, rosiglitazone, insulin, Medicinas_tomadas]            1\n",
              "[glimepiride, glyburide, rosiglitazone, Medicinas_tomadas]          1\n",
              "[pioglitazone, rosiglitazone, insulin, Medicinas_tomadas]           1\n",
              "[metformin, repaglinide, rosiglitazone, Medicinas_tomadas]          1\n",
              "[metformin, nateglinide, insulin, Medicinas_tomadas]                1\n",
              "[metformin, glimepiride, rosiglitazone, Medicinas_tomadas]          1\n",
              "[glimepiride, glipizide, insulin, Medicinas_tomadas]                1\n",
              "Name: count, dtype: int64"
            ],
            "text/html": [
              "<div>\n",
              "<style scoped>\n",
              "    .dataframe tbody tr th:only-of-type {\n",
              "        vertical-align: middle;\n",
              "    }\n",
              "\n",
              "    .dataframe tbody tr th {\n",
              "        vertical-align: top;\n",
              "    }\n",
              "\n",
              "    .dataframe thead th {\n",
              "        text-align: right;\n",
              "    }\n",
              "</style>\n",
              "<table border=\"1\" class=\"dataframe\">\n",
              "  <thead>\n",
              "    <tr style=\"text-align: right;\">\n",
              "      <th></th>\n",
              "      <th>count</th>\n",
              "    </tr>\n",
              "    <tr>\n",
              "      <th>Columnas_Medicinas</th>\n",
              "      <th></th>\n",
              "    </tr>\n",
              "  </thead>\n",
              "  <tbody>\n",
              "    <tr>\n",
              "      <th>[metformin, glipizide, insulin, Medicinas_tomadas]</th>\n",
              "      <td>31</td>\n",
              "    </tr>\n",
              "    <tr>\n",
              "      <th>[metformin, pioglitazone, insulin, Medicinas_tomadas]</th>\n",
              "      <td>24</td>\n",
              "    </tr>\n",
              "    <tr>\n",
              "      <th>[metformin, glyburide, insulin, Medicinas_tomadas]</th>\n",
              "      <td>20</td>\n",
              "    </tr>\n",
              "    <tr>\n",
              "      <th>[metformin, rosiglitazone, insulin, Medicinas_tomadas]</th>\n",
              "      <td>16</td>\n",
              "    </tr>\n",
              "    <tr>\n",
              "      <th>[glipizide, pioglitazone, insulin, Medicinas_tomadas]</th>\n",
              "      <td>10</td>\n",
              "    </tr>\n",
              "    <tr>\n",
              "      <th>[glyburide, rosiglitazone, insulin, Medicinas_tomadas]</th>\n",
              "      <td>8</td>\n",
              "    </tr>\n",
              "    <tr>\n",
              "      <th>[metformin, glimepiride, insulin, Medicinas_tomadas]</th>\n",
              "      <td>7</td>\n",
              "    </tr>\n",
              "    <tr>\n",
              "      <th>[glimepiride, rosiglitazone, insulin, Medicinas_tomadas]</th>\n",
              "      <td>5</td>\n",
              "    </tr>\n",
              "    <tr>\n",
              "      <th>[metformin, repaglinide, insulin, Medicinas_tomadas]</th>\n",
              "      <td>5</td>\n",
              "    </tr>\n",
              "    <tr>\n",
              "      <th>[glipizide, rosiglitazone, insulin, Medicinas_tomadas]</th>\n",
              "      <td>4</td>\n",
              "    </tr>\n",
              "    <tr>\n",
              "      <th>[metformin, glyburide, pioglitazone, Medicinas_tomadas]</th>\n",
              "      <td>4</td>\n",
              "    </tr>\n",
              "    <tr>\n",
              "      <th>[glimepiride, pioglitazone, insulin, Medicinas_tomadas]</th>\n",
              "      <td>3</td>\n",
              "    </tr>\n",
              "    <tr>\n",
              "      <th>[metformin, glyburide, rosiglitazone, Medicinas_tomadas]</th>\n",
              "      <td>3</td>\n",
              "    </tr>\n",
              "    <tr>\n",
              "      <th>[glipizide, glyburide, insulin, Medicinas_tomadas]</th>\n",
              "      <td>3</td>\n",
              "    </tr>\n",
              "    <tr>\n",
              "      <th>[glyburide, pioglitazone, insulin, Medicinas_tomadas]</th>\n",
              "      <td>3</td>\n",
              "    </tr>\n",
              "    <tr>\n",
              "      <th>[pioglitazone, insulin, glyburide-metformin, Medicinas_tomadas]</th>\n",
              "      <td>3</td>\n",
              "    </tr>\n",
              "    <tr>\n",
              "      <th>[nateglinide, rosiglitazone, insulin, Medicinas_tomadas]</th>\n",
              "      <td>2</td>\n",
              "    </tr>\n",
              "    <tr>\n",
              "      <th>[metformin, glipizide, rosiglitazone, Medicinas_tomadas]</th>\n",
              "      <td>2</td>\n",
              "    </tr>\n",
              "    <tr>\n",
              "      <th>[metformin, glimepiride, pioglitazone, Medicinas_tomadas]</th>\n",
              "      <td>2</td>\n",
              "    </tr>\n",
              "    <tr>\n",
              "      <th>[metformin, glipizide, pioglitazone, Medicinas_tomadas]</th>\n",
              "      <td>2</td>\n",
              "    </tr>\n",
              "    <tr>\n",
              "      <th>[glimepiride, acarbose, insulin, Medicinas_tomadas]</th>\n",
              "      <td>1</td>\n",
              "    </tr>\n",
              "    <tr>\n",
              "      <th>[metformin, glyburide, acarbose, Medicinas_tomadas]</th>\n",
              "      <td>1</td>\n",
              "    </tr>\n",
              "    <tr>\n",
              "      <th>[repaglinide, glyburide, insulin, Medicinas_tomadas]</th>\n",
              "      <td>1</td>\n",
              "    </tr>\n",
              "    <tr>\n",
              "      <th>[metformin, glimepiride, glipizide, Medicinas_tomadas]</th>\n",
              "      <td>1</td>\n",
              "    </tr>\n",
              "    <tr>\n",
              "      <th>[metformin, acarbose, insulin, Medicinas_tomadas]</th>\n",
              "      <td>1</td>\n",
              "    </tr>\n",
              "    <tr>\n",
              "      <th>[metformin, pioglitazone, rosiglitazone, Medicinas_tomadas]</th>\n",
              "      <td>1</td>\n",
              "    </tr>\n",
              "    <tr>\n",
              "      <th>[repaglinide, rosiglitazone, insulin, Medicinas_tomadas]</th>\n",
              "      <td>1</td>\n",
              "    </tr>\n",
              "    <tr>\n",
              "      <th>[glimepiride, glyburide, rosiglitazone, Medicinas_tomadas]</th>\n",
              "      <td>1</td>\n",
              "    </tr>\n",
              "    <tr>\n",
              "      <th>[pioglitazone, rosiglitazone, insulin, Medicinas_tomadas]</th>\n",
              "      <td>1</td>\n",
              "    </tr>\n",
              "    <tr>\n",
              "      <th>[metformin, repaglinide, rosiglitazone, Medicinas_tomadas]</th>\n",
              "      <td>1</td>\n",
              "    </tr>\n",
              "    <tr>\n",
              "      <th>[metformin, nateglinide, insulin, Medicinas_tomadas]</th>\n",
              "      <td>1</td>\n",
              "    </tr>\n",
              "    <tr>\n",
              "      <th>[metformin, glimepiride, rosiglitazone, Medicinas_tomadas]</th>\n",
              "      <td>1</td>\n",
              "    </tr>\n",
              "    <tr>\n",
              "      <th>[glimepiride, glipizide, insulin, Medicinas_tomadas]</th>\n",
              "      <td>1</td>\n",
              "    </tr>\n",
              "  </tbody>\n",
              "</table>\n",
              "</div><br><label><b>dtype:</b> int64</label>"
            ]
          },
          "metadata": {},
          "execution_count": 39
        }
      ]
    },
    {
      "cell_type": "markdown",
      "source": [
        "Al ver los resultados de las personas que toman 3 medicamentos al tiempo podemos concluir que los 4 medicamentos identificados en el grupo de control son fundamentales, especialmente la insulina el metmorfin"
      ],
      "metadata": {
        "id": "59I6_5guM0HG"
      }
    },
    {
      "cell_type": "markdown",
      "source": [
        "##### Grupo 1.2"
      ],
      "metadata": {
        "id": "pp2TTujMNWEv"
      }
    },
    {
      "cell_type": "markdown",
      "source": [
        "En este grupo hubo cambios de medicamento pero fueron readmitidos"
      ],
      "metadata": {
        "id": "vKMbZYipNh-H"
      }
    },
    {
      "cell_type": "code",
      "source": [
        "med_group1_2 = group1_2[['metformin', 'repaglinide', 'nateglinide', 'chlorpropamide',\n",
        "                                   'glimepiride', 'acetohexamide', 'glipizide', 'glyburide',\n",
        "                                   'tolbutamide', 'pioglitazone', 'rosiglitazone', 'acarbose',\n",
        "                                   'miglitol', 'troglitazone', 'tolazamide', 'examide',\n",
        "                                   'citoglipton', 'insulin', 'glyburide-metformin',\n",
        "                                   'glipizide-metformin', 'glimepiride-pioglitazone',\n",
        "                                   'metformin-rosiglitazone', 'metformin-pioglitazone']]\n",
        "\n",
        "med_group1_2 = med_group1_2.loc[:, med_group1_2.nunique() > 1] #Quitamos las columnas que solo tienen un valor constante\n",
        "med_group1_2['Medicinas_tomadas'] = med_group1_2.apply(lambda row: (row != 'No').sum(), axis=1)\n",
        "fig = px.histogram(med_group1_2, x='Medicinas_tomadas', nbins=11, title='Distribución del número de medicinas tomadas al tiempo')\n",
        "fig.show()"
      ],
      "metadata": {
        "colab": {
          "base_uri": "https://localhost:8080/",
          "height": 542
        },
        "id": "XqOsgwUpMnyS",
        "outputId": "6977437d-b118-456d-c7f8-7f48285ff5ef"
      },
      "execution_count": 40,
      "outputs": [
        {
          "output_type": "display_data",
          "data": {
            "text/html": [
              "<html>\n",
              "<head><meta charset=\"utf-8\" /></head>\n",
              "<body>\n",
              "    <div>            <script src=\"https://cdnjs.cloudflare.com/ajax/libs/mathjax/2.7.5/MathJax.js?config=TeX-AMS-MML_SVG\"></script><script type=\"text/javascript\">if (window.MathJax && window.MathJax.Hub && window.MathJax.Hub.Config) {window.MathJax.Hub.Config({SVG: {font: \"STIX-Web\"}});}</script>                <script type=\"text/javascript\">window.PlotlyConfig = {MathJaxConfig: 'local'};</script>\n",
              "        <script charset=\"utf-8\" src=\"https://cdn.plot.ly/plotly-2.35.2.min.js\"></script>                <div id=\"b7007c07-71c7-474e-86e7-bf3a6e06deaf\" class=\"plotly-graph-div\" style=\"height:525px; width:100%;\"></div>            <script type=\"text/javascript\">                                    window.PLOTLYENV=window.PLOTLYENV || {};                                    if (document.getElementById(\"b7007c07-71c7-474e-86e7-bf3a6e06deaf\")) {                    Plotly.newPlot(                        \"b7007c07-71c7-474e-86e7-bf3a6e06deaf\",                        [{\"alignmentgroup\":\"True\",\"bingroup\":\"x\",\"hovertemplate\":\"Medicinas_tomadas=%{x}\\u003cbr\\u003ecount=%{y}\\u003cextra\\u003e\\u003c\\u002fextra\\u003e\",\"legendgroup\":\"\",\"marker\":{\"color\":\"#636efa\",\"pattern\":{\"shape\":\"\"}},\"name\":\"\",\"nbinsx\":11,\"offsetgroup\":\"\",\"orientation\":\"v\",\"showlegend\":false,\"x\":[1,2,1,2,3,3,2,2,3,2,4,2,3,2,2,2,4,2,1,1,3,2,3,1,2,2,3,1,1,2,1,1,1,2,1,3,1,2,3,3,2,2,2,2,2,1,2,2,1,2,2,2,2,2,3,2,1,2,2,2,1,2,1,3,2,2,2,1,2,2,2,2,1,1,2,3,2,2,3,2,2,3,3,2,2,3,2,1,3,2,2,2,1,1,2,1,1,3,1,1,1,2,1,1,2,2,2,1,1,1,1,2,1,3,1,1,2,1,1,3,2,2,2,2,3,3,2,3,3,1,2,2,2,1,2,3,4,2,3,2,1,2,2,2,2,2,2,2,1,2,1,2,2,2,1,2,1,1,2,3,2,2,2,3,1,1,2,2,2,3,2,1,3,1,2,1,1,2,2,1,2,4,3,2,1,1,4,2,2,1,3,2,2,2,2,3,2,1,2,2,2,2,3,1,1,1,3,2,1,1,1,2,1,3,2,3,2,1,3,2,2,2,1,2,3,1,2,3,2,2,2,1,3,3,1,1,2,1,4,2,2,2,1,1,1,1,1,2,1,3,3,3,2,1,1,2,2,2,3,1,3,2,1,1,3,2,3,3,1,3,2,2,1,1,4,2,1,1,3,3,1,1,1,1,1,3,1,1,1,1,1,3,2,3,2,2,1,1,2,2,2,1,2,1,2,1,1,2,1,1,1,1,2,2,2,2,1,1,3,1,2,2,1,1,1,2,1,1,1,2,2,2,1,2,2,3,2,1,1,3,1,2,2,1,1,1,3,2,2,3,1,1,3,1,3,1,2,2,2,1,2,1,1,1,2,2,1,2,1,4,2,2,2,2,3,2,2,2,2,2,3,2,3,3,2,1,3,1,1,2,3,3,2,2,2,3,1,2,2,2,1,3,2,2,4,2,2,1,4,4,1,2,1,1,2,2,2,1,2,1,1,1,3,1,2,2,2,1,2,2,2,3,2,1,2,2,2,2,1,1,2,3,2,1,3,1,2,2,1,2,2,1,2,2,3,2,2,3,1,2,2,2,2,4,2,3,2,1,2,2,1,2,1,1,2,1,2,2,2,1,2,3,2,2,1,1,2,2,1,1,2,1,1,4,1,2,2,1,2,2,1,1,2,2,1,2,2,2,2,4,2,3,2,2,2,4,2,2,1,3,3,3,3,2,2,2,1,1,2,3,2,1,1,3,2,1,1,2,2,2,2,1,1,2,1,1,3,1,2,3,2,2,1,2,2,1,2,1,2,2,3,1,2,3,2,2,1,4,3,1,2,2,1,2,2,2,2,3,1,1,2,2,2,1,2,2,1,1,2,2,1,3,2,1,3,1,3,1,3,1,2,1,2,1,2,2,1,2,1,1,2,2,1,2,2,3,2,4,1,2,1,1,3,3,2,2,1,1,2,1,1,2,3,3,2,2,1,2,1,1,1,1,1,1,1,1,1,1,2,2,1,3,1,3,2,2,3,2,3,1,1,1,2,2],\"xaxis\":\"x\",\"yaxis\":\"y\",\"type\":\"histogram\"}],                        {\"template\":{\"data\":{\"histogram2dcontour\":[{\"type\":\"histogram2dcontour\",\"colorbar\":{\"outlinewidth\":0,\"ticks\":\"\"},\"colorscale\":[[0.0,\"#0d0887\"],[0.1111111111111111,\"#46039f\"],[0.2222222222222222,\"#7201a8\"],[0.3333333333333333,\"#9c179e\"],[0.4444444444444444,\"#bd3786\"],[0.5555555555555556,\"#d8576b\"],[0.6666666666666666,\"#ed7953\"],[0.7777777777777778,\"#fb9f3a\"],[0.8888888888888888,\"#fdca26\"],[1.0,\"#f0f921\"]]}],\"choropleth\":[{\"type\":\"choropleth\",\"colorbar\":{\"outlinewidth\":0,\"ticks\":\"\"}}],\"histogram2d\":[{\"type\":\"histogram2d\",\"colorbar\":{\"outlinewidth\":0,\"ticks\":\"\"},\"colorscale\":[[0.0,\"#0d0887\"],[0.1111111111111111,\"#46039f\"],[0.2222222222222222,\"#7201a8\"],[0.3333333333333333,\"#9c179e\"],[0.4444444444444444,\"#bd3786\"],[0.5555555555555556,\"#d8576b\"],[0.6666666666666666,\"#ed7953\"],[0.7777777777777778,\"#fb9f3a\"],[0.8888888888888888,\"#fdca26\"],[1.0,\"#f0f921\"]]}],\"heatmap\":[{\"type\":\"heatmap\",\"colorbar\":{\"outlinewidth\":0,\"ticks\":\"\"},\"colorscale\":[[0.0,\"#0d0887\"],[0.1111111111111111,\"#46039f\"],[0.2222222222222222,\"#7201a8\"],[0.3333333333333333,\"#9c179e\"],[0.4444444444444444,\"#bd3786\"],[0.5555555555555556,\"#d8576b\"],[0.6666666666666666,\"#ed7953\"],[0.7777777777777778,\"#fb9f3a\"],[0.8888888888888888,\"#fdca26\"],[1.0,\"#f0f921\"]]}],\"heatmapgl\":[{\"type\":\"heatmapgl\",\"colorbar\":{\"outlinewidth\":0,\"ticks\":\"\"},\"colorscale\":[[0.0,\"#0d0887\"],[0.1111111111111111,\"#46039f\"],[0.2222222222222222,\"#7201a8\"],[0.3333333333333333,\"#9c179e\"],[0.4444444444444444,\"#bd3786\"],[0.5555555555555556,\"#d8576b\"],[0.6666666666666666,\"#ed7953\"],[0.7777777777777778,\"#fb9f3a\"],[0.8888888888888888,\"#fdca26\"],[1.0,\"#f0f921\"]]}],\"contourcarpet\":[{\"type\":\"contourcarpet\",\"colorbar\":{\"outlinewidth\":0,\"ticks\":\"\"}}],\"contour\":[{\"type\":\"contour\",\"colorbar\":{\"outlinewidth\":0,\"ticks\":\"\"},\"colorscale\":[[0.0,\"#0d0887\"],[0.1111111111111111,\"#46039f\"],[0.2222222222222222,\"#7201a8\"],[0.3333333333333333,\"#9c179e\"],[0.4444444444444444,\"#bd3786\"],[0.5555555555555556,\"#d8576b\"],[0.6666666666666666,\"#ed7953\"],[0.7777777777777778,\"#fb9f3a\"],[0.8888888888888888,\"#fdca26\"],[1.0,\"#f0f921\"]]}],\"surface\":[{\"type\":\"surface\",\"colorbar\":{\"outlinewidth\":0,\"ticks\":\"\"},\"colorscale\":[[0.0,\"#0d0887\"],[0.1111111111111111,\"#46039f\"],[0.2222222222222222,\"#7201a8\"],[0.3333333333333333,\"#9c179e\"],[0.4444444444444444,\"#bd3786\"],[0.5555555555555556,\"#d8576b\"],[0.6666666666666666,\"#ed7953\"],[0.7777777777777778,\"#fb9f3a\"],[0.8888888888888888,\"#fdca26\"],[1.0,\"#f0f921\"]]}],\"mesh3d\":[{\"type\":\"mesh3d\",\"colorbar\":{\"outlinewidth\":0,\"ticks\":\"\"}}],\"scatter\":[{\"fillpattern\":{\"fillmode\":\"overlay\",\"size\":10,\"solidity\":0.2},\"type\":\"scatter\"}],\"parcoords\":[{\"type\":\"parcoords\",\"line\":{\"colorbar\":{\"outlinewidth\":0,\"ticks\":\"\"}}}],\"scatterpolargl\":[{\"type\":\"scatterpolargl\",\"marker\":{\"colorbar\":{\"outlinewidth\":0,\"ticks\":\"\"}}}],\"bar\":[{\"error_x\":{\"color\":\"#2a3f5f\"},\"error_y\":{\"color\":\"#2a3f5f\"},\"marker\":{\"line\":{\"color\":\"#E5ECF6\",\"width\":0.5},\"pattern\":{\"fillmode\":\"overlay\",\"size\":10,\"solidity\":0.2}},\"type\":\"bar\"}],\"scattergeo\":[{\"type\":\"scattergeo\",\"marker\":{\"colorbar\":{\"outlinewidth\":0,\"ticks\":\"\"}}}],\"scatterpolar\":[{\"type\":\"scatterpolar\",\"marker\":{\"colorbar\":{\"outlinewidth\":0,\"ticks\":\"\"}}}],\"histogram\":[{\"marker\":{\"pattern\":{\"fillmode\":\"overlay\",\"size\":10,\"solidity\":0.2}},\"type\":\"histogram\"}],\"scattergl\":[{\"type\":\"scattergl\",\"marker\":{\"colorbar\":{\"outlinewidth\":0,\"ticks\":\"\"}}}],\"scatter3d\":[{\"type\":\"scatter3d\",\"line\":{\"colorbar\":{\"outlinewidth\":0,\"ticks\":\"\"}},\"marker\":{\"colorbar\":{\"outlinewidth\":0,\"ticks\":\"\"}}}],\"scattermapbox\":[{\"type\":\"scattermapbox\",\"marker\":{\"colorbar\":{\"outlinewidth\":0,\"ticks\":\"\"}}}],\"scatterternary\":[{\"type\":\"scatterternary\",\"marker\":{\"colorbar\":{\"outlinewidth\":0,\"ticks\":\"\"}}}],\"scattercarpet\":[{\"type\":\"scattercarpet\",\"marker\":{\"colorbar\":{\"outlinewidth\":0,\"ticks\":\"\"}}}],\"carpet\":[{\"aaxis\":{\"endlinecolor\":\"#2a3f5f\",\"gridcolor\":\"white\",\"linecolor\":\"white\",\"minorgridcolor\":\"white\",\"startlinecolor\":\"#2a3f5f\"},\"baxis\":{\"endlinecolor\":\"#2a3f5f\",\"gridcolor\":\"white\",\"linecolor\":\"white\",\"minorgridcolor\":\"white\",\"startlinecolor\":\"#2a3f5f\"},\"type\":\"carpet\"}],\"table\":[{\"cells\":{\"fill\":{\"color\":\"#EBF0F8\"},\"line\":{\"color\":\"white\"}},\"header\":{\"fill\":{\"color\":\"#C8D4E3\"},\"line\":{\"color\":\"white\"}},\"type\":\"table\"}],\"barpolar\":[{\"marker\":{\"line\":{\"color\":\"#E5ECF6\",\"width\":0.5},\"pattern\":{\"fillmode\":\"overlay\",\"size\":10,\"solidity\":0.2}},\"type\":\"barpolar\"}],\"pie\":[{\"automargin\":true,\"type\":\"pie\"}]},\"layout\":{\"autotypenumbers\":\"strict\",\"colorway\":[\"#636efa\",\"#EF553B\",\"#00cc96\",\"#ab63fa\",\"#FFA15A\",\"#19d3f3\",\"#FF6692\",\"#B6E880\",\"#FF97FF\",\"#FECB52\"],\"font\":{\"color\":\"#2a3f5f\"},\"hovermode\":\"closest\",\"hoverlabel\":{\"align\":\"left\"},\"paper_bgcolor\":\"white\",\"plot_bgcolor\":\"#E5ECF6\",\"polar\":{\"bgcolor\":\"#E5ECF6\",\"angularaxis\":{\"gridcolor\":\"white\",\"linecolor\":\"white\",\"ticks\":\"\"},\"radialaxis\":{\"gridcolor\":\"white\",\"linecolor\":\"white\",\"ticks\":\"\"}},\"ternary\":{\"bgcolor\":\"#E5ECF6\",\"aaxis\":{\"gridcolor\":\"white\",\"linecolor\":\"white\",\"ticks\":\"\"},\"baxis\":{\"gridcolor\":\"white\",\"linecolor\":\"white\",\"ticks\":\"\"},\"caxis\":{\"gridcolor\":\"white\",\"linecolor\":\"white\",\"ticks\":\"\"}},\"coloraxis\":{\"colorbar\":{\"outlinewidth\":0,\"ticks\":\"\"}},\"colorscale\":{\"sequential\":[[0.0,\"#0d0887\"],[0.1111111111111111,\"#46039f\"],[0.2222222222222222,\"#7201a8\"],[0.3333333333333333,\"#9c179e\"],[0.4444444444444444,\"#bd3786\"],[0.5555555555555556,\"#d8576b\"],[0.6666666666666666,\"#ed7953\"],[0.7777777777777778,\"#fb9f3a\"],[0.8888888888888888,\"#fdca26\"],[1.0,\"#f0f921\"]],\"sequentialminus\":[[0.0,\"#0d0887\"],[0.1111111111111111,\"#46039f\"],[0.2222222222222222,\"#7201a8\"],[0.3333333333333333,\"#9c179e\"],[0.4444444444444444,\"#bd3786\"],[0.5555555555555556,\"#d8576b\"],[0.6666666666666666,\"#ed7953\"],[0.7777777777777778,\"#fb9f3a\"],[0.8888888888888888,\"#fdca26\"],[1.0,\"#f0f921\"]],\"diverging\":[[0,\"#8e0152\"],[0.1,\"#c51b7d\"],[0.2,\"#de77ae\"],[0.3,\"#f1b6da\"],[0.4,\"#fde0ef\"],[0.5,\"#f7f7f7\"],[0.6,\"#e6f5d0\"],[0.7,\"#b8e186\"],[0.8,\"#7fbc41\"],[0.9,\"#4d9221\"],[1,\"#276419\"]]},\"xaxis\":{\"gridcolor\":\"white\",\"linecolor\":\"white\",\"ticks\":\"\",\"title\":{\"standoff\":15},\"zerolinecolor\":\"white\",\"automargin\":true,\"zerolinewidth\":2},\"yaxis\":{\"gridcolor\":\"white\",\"linecolor\":\"white\",\"ticks\":\"\",\"title\":{\"standoff\":15},\"zerolinecolor\":\"white\",\"automargin\":true,\"zerolinewidth\":2},\"scene\":{\"xaxis\":{\"backgroundcolor\":\"#E5ECF6\",\"gridcolor\":\"white\",\"linecolor\":\"white\",\"showbackground\":true,\"ticks\":\"\",\"zerolinecolor\":\"white\",\"gridwidth\":2},\"yaxis\":{\"backgroundcolor\":\"#E5ECF6\",\"gridcolor\":\"white\",\"linecolor\":\"white\",\"showbackground\":true,\"ticks\":\"\",\"zerolinecolor\":\"white\",\"gridwidth\":2},\"zaxis\":{\"backgroundcolor\":\"#E5ECF6\",\"gridcolor\":\"white\",\"linecolor\":\"white\",\"showbackground\":true,\"ticks\":\"\",\"zerolinecolor\":\"white\",\"gridwidth\":2}},\"shapedefaults\":{\"line\":{\"color\":\"#2a3f5f\"}},\"annotationdefaults\":{\"arrowcolor\":\"#2a3f5f\",\"arrowhead\":0,\"arrowwidth\":1},\"geo\":{\"bgcolor\":\"white\",\"landcolor\":\"#E5ECF6\",\"subunitcolor\":\"white\",\"showland\":true,\"showlakes\":true,\"lakecolor\":\"white\"},\"title\":{\"x\":0.05},\"mapbox\":{\"style\":\"light\"}}},\"xaxis\":{\"anchor\":\"y\",\"domain\":[0.0,1.0],\"title\":{\"text\":\"Medicinas_tomadas\"}},\"yaxis\":{\"anchor\":\"x\",\"domain\":[0.0,1.0],\"title\":{\"text\":\"count\"}},\"legend\":{\"tracegroupgap\":0},\"title\":{\"text\":\"Distribuci\\u00f3n del n\\u00famero de medicinas tomadas al tiempo\"},\"barmode\":\"relative\"},                        {\"responsive\": true}                    ).then(function(){\n",
              "                            \n",
              "var gd = document.getElementById('b7007c07-71c7-474e-86e7-bf3a6e06deaf');\n",
              "var x = new MutationObserver(function (mutations, observer) {{\n",
              "        var display = window.getComputedStyle(gd).display;\n",
              "        if (!display || display === 'none') {{\n",
              "            console.log([gd, 'removed!']);\n",
              "            Plotly.purge(gd);\n",
              "            observer.disconnect();\n",
              "        }}\n",
              "}});\n",
              "\n",
              "// Listen for the removal of the full notebook cells\n",
              "var notebookContainer = gd.closest('#notebook-container');\n",
              "if (notebookContainer) {{\n",
              "    x.observe(notebookContainer, {childList: true});\n",
              "}}\n",
              "\n",
              "// Listen for the clearing of the current output cell\n",
              "var outputEl = gd.closest('.output');\n",
              "if (outputEl) {{\n",
              "    x.observe(outputEl, {childList: true});\n",
              "}}\n",
              "\n",
              "                        })                };                            </script>        </div>\n",
              "</body>\n",
              "</html>"
            ]
          },
          "metadata": {}
        }
      ]
    },
    {
      "cell_type": "code",
      "source": [
        "med_group1_2_1 = med_group1_2[med_group1_2['Medicinas_tomadas'] == 1]\n",
        "\n",
        "med_group1_2_1['Columna_Medicina'] = med_group1_2_1.apply(find_column_with_non_no_value, axis=1)\n",
        "med_group1_2_1['Columna_Medicina'].value_counts()"
      ],
      "metadata": {
        "colab": {
          "base_uri": "https://localhost:8080/",
          "height": 304
        },
        "id": "9i8bLXVKNvhk",
        "outputId": "83cdc57e-55b9-42e3-aedd-7453048004a9"
      },
      "execution_count": 41,
      "outputs": [
        {
          "output_type": "execute_result",
          "data": {
            "text/plain": [
              "Columna_Medicina\n",
              "insulin          208\n",
              "glipizide         10\n",
              "glyburide          7\n",
              "glimepiride        4\n",
              "metformin          2\n",
              "rosiglitazone      1\n",
              "Name: count, dtype: int64"
            ],
            "text/html": [
              "<div>\n",
              "<style scoped>\n",
              "    .dataframe tbody tr th:only-of-type {\n",
              "        vertical-align: middle;\n",
              "    }\n",
              "\n",
              "    .dataframe tbody tr th {\n",
              "        vertical-align: top;\n",
              "    }\n",
              "\n",
              "    .dataframe thead th {\n",
              "        text-align: right;\n",
              "    }\n",
              "</style>\n",
              "<table border=\"1\" class=\"dataframe\">\n",
              "  <thead>\n",
              "    <tr style=\"text-align: right;\">\n",
              "      <th></th>\n",
              "      <th>count</th>\n",
              "    </tr>\n",
              "    <tr>\n",
              "      <th>Columna_Medicina</th>\n",
              "      <th></th>\n",
              "    </tr>\n",
              "  </thead>\n",
              "  <tbody>\n",
              "    <tr>\n",
              "      <th>insulin</th>\n",
              "      <td>208</td>\n",
              "    </tr>\n",
              "    <tr>\n",
              "      <th>glipizide</th>\n",
              "      <td>10</td>\n",
              "    </tr>\n",
              "    <tr>\n",
              "      <th>glyburide</th>\n",
              "      <td>7</td>\n",
              "    </tr>\n",
              "    <tr>\n",
              "      <th>glimepiride</th>\n",
              "      <td>4</td>\n",
              "    </tr>\n",
              "    <tr>\n",
              "      <th>metformin</th>\n",
              "      <td>2</td>\n",
              "    </tr>\n",
              "    <tr>\n",
              "      <th>rosiglitazone</th>\n",
              "      <td>1</td>\n",
              "    </tr>\n",
              "  </tbody>\n",
              "</table>\n",
              "</div><br><label><b>dtype:</b> int64</label>"
            ]
          },
          "metadata": {},
          "execution_count": 41
        }
      ]
    },
    {
      "cell_type": "code",
      "source": [
        "med_group1_2_1['insulin'].value_counts()"
      ],
      "metadata": {
        "colab": {
          "base_uri": "https://localhost:8080/",
          "height": 210
        },
        "id": "68wWfdiuNvpK",
        "outputId": "ded7abfc-62b3-4746-9372-3072a445c02f"
      },
      "execution_count": 42,
      "outputs": [
        {
          "output_type": "execute_result",
          "data": {
            "text/plain": [
              "insulin\n",
              "Down    115\n",
              "Up       93\n",
              "No       24\n",
              "Name: count, dtype: int64"
            ],
            "text/html": [
              "<div>\n",
              "<style scoped>\n",
              "    .dataframe tbody tr th:only-of-type {\n",
              "        vertical-align: middle;\n",
              "    }\n",
              "\n",
              "    .dataframe tbody tr th {\n",
              "        vertical-align: top;\n",
              "    }\n",
              "\n",
              "    .dataframe thead th {\n",
              "        text-align: right;\n",
              "    }\n",
              "</style>\n",
              "<table border=\"1\" class=\"dataframe\">\n",
              "  <thead>\n",
              "    <tr style=\"text-align: right;\">\n",
              "      <th></th>\n",
              "      <th>count</th>\n",
              "    </tr>\n",
              "    <tr>\n",
              "      <th>insulin</th>\n",
              "      <th></th>\n",
              "    </tr>\n",
              "  </thead>\n",
              "  <tbody>\n",
              "    <tr>\n",
              "      <th>Down</th>\n",
              "      <td>115</td>\n",
              "    </tr>\n",
              "    <tr>\n",
              "      <th>Up</th>\n",
              "      <td>93</td>\n",
              "    </tr>\n",
              "    <tr>\n",
              "      <th>No</th>\n",
              "      <td>24</td>\n",
              "    </tr>\n",
              "  </tbody>\n",
              "</table>\n",
              "</div><br><label><b>dtype:</b> int64</label>"
            ]
          },
          "metadata": {},
          "execution_count": 42
        }
      ]
    },
    {
      "cell_type": "markdown",
      "source": [
        "Con la insulina vemos un comportamiento muy similar al observado en el grupo anterior"
      ],
      "metadata": {
        "id": "p9IPm6Y2Om7B"
      }
    },
    {
      "cell_type": "code",
      "source": [
        "med_group1_2_1['glyburide'].value_counts()"
      ],
      "metadata": {
        "colab": {
          "base_uri": "https://localhost:8080/",
          "height": 210
        },
        "id": "ikV9ECFWNvrv",
        "outputId": "38b44fc5-66cb-4657-c9e4-2259fa35b589"
      },
      "execution_count": 43,
      "outputs": [
        {
          "output_type": "execute_result",
          "data": {
            "text/plain": [
              "glyburide\n",
              "No      225\n",
              "Up        5\n",
              "Down      2\n",
              "Name: count, dtype: int64"
            ],
            "text/html": [
              "<div>\n",
              "<style scoped>\n",
              "    .dataframe tbody tr th:only-of-type {\n",
              "        vertical-align: middle;\n",
              "    }\n",
              "\n",
              "    .dataframe tbody tr th {\n",
              "        vertical-align: top;\n",
              "    }\n",
              "\n",
              "    .dataframe thead th {\n",
              "        text-align: right;\n",
              "    }\n",
              "</style>\n",
              "<table border=\"1\" class=\"dataframe\">\n",
              "  <thead>\n",
              "    <tr style=\"text-align: right;\">\n",
              "      <th></th>\n",
              "      <th>count</th>\n",
              "    </tr>\n",
              "    <tr>\n",
              "      <th>glyburide</th>\n",
              "      <th></th>\n",
              "    </tr>\n",
              "  </thead>\n",
              "  <tbody>\n",
              "    <tr>\n",
              "      <th>No</th>\n",
              "      <td>225</td>\n",
              "    </tr>\n",
              "    <tr>\n",
              "      <th>Up</th>\n",
              "      <td>5</td>\n",
              "    </tr>\n",
              "    <tr>\n",
              "      <th>Down</th>\n",
              "      <td>2</td>\n",
              "    </tr>\n",
              "  </tbody>\n",
              "</table>\n",
              "</div><br><label><b>dtype:</b> int64</label>"
            ]
          },
          "metadata": {},
          "execution_count": 43
        }
      ]
    },
    {
      "cell_type": "code",
      "source": [
        "med_group1_2_1['metformin'].value_counts()"
      ],
      "metadata": {
        "colab": {
          "base_uri": "https://localhost:8080/",
          "height": 178
        },
        "id": "CCxWIyctNvuP",
        "outputId": "e687e706-d3c3-441c-c619-e164d427452f"
      },
      "execution_count": 44,
      "outputs": [
        {
          "output_type": "execute_result",
          "data": {
            "text/plain": [
              "metformin\n",
              "No      230\n",
              "Down      2\n",
              "Name: count, dtype: int64"
            ],
            "text/html": [
              "<div>\n",
              "<style scoped>\n",
              "    .dataframe tbody tr th:only-of-type {\n",
              "        vertical-align: middle;\n",
              "    }\n",
              "\n",
              "    .dataframe tbody tr th {\n",
              "        vertical-align: top;\n",
              "    }\n",
              "\n",
              "    .dataframe thead th {\n",
              "        text-align: right;\n",
              "    }\n",
              "</style>\n",
              "<table border=\"1\" class=\"dataframe\">\n",
              "  <thead>\n",
              "    <tr style=\"text-align: right;\">\n",
              "      <th></th>\n",
              "      <th>count</th>\n",
              "    </tr>\n",
              "    <tr>\n",
              "      <th>metformin</th>\n",
              "      <th></th>\n",
              "    </tr>\n",
              "  </thead>\n",
              "  <tbody>\n",
              "    <tr>\n",
              "      <th>No</th>\n",
              "      <td>230</td>\n",
              "    </tr>\n",
              "    <tr>\n",
              "      <th>Down</th>\n",
              "      <td>2</td>\n",
              "    </tr>\n",
              "  </tbody>\n",
              "</table>\n",
              "</div><br><label><b>dtype:</b> int64</label>"
            ]
          },
          "metadata": {},
          "execution_count": 44
        }
      ]
    },
    {
      "cell_type": "code",
      "source": [
        "med_group1_2_1['glipizide'].value_counts()"
      ],
      "metadata": {
        "colab": {
          "base_uri": "https://localhost:8080/",
          "height": 210
        },
        "id": "dwtc3u7FNvxD",
        "outputId": "8bcc03ef-f791-44ad-e4d2-302a8e18b07e"
      },
      "execution_count": 45,
      "outputs": [
        {
          "output_type": "execute_result",
          "data": {
            "text/plain": [
              "glipizide\n",
              "No      222\n",
              "Down      7\n",
              "Up        3\n",
              "Name: count, dtype: int64"
            ],
            "text/html": [
              "<div>\n",
              "<style scoped>\n",
              "    .dataframe tbody tr th:only-of-type {\n",
              "        vertical-align: middle;\n",
              "    }\n",
              "\n",
              "    .dataframe tbody tr th {\n",
              "        vertical-align: top;\n",
              "    }\n",
              "\n",
              "    .dataframe thead th {\n",
              "        text-align: right;\n",
              "    }\n",
              "</style>\n",
              "<table border=\"1\" class=\"dataframe\">\n",
              "  <thead>\n",
              "    <tr style=\"text-align: right;\">\n",
              "      <th></th>\n",
              "      <th>count</th>\n",
              "    </tr>\n",
              "    <tr>\n",
              "      <th>glipizide</th>\n",
              "      <th></th>\n",
              "    </tr>\n",
              "  </thead>\n",
              "  <tbody>\n",
              "    <tr>\n",
              "      <th>No</th>\n",
              "      <td>222</td>\n",
              "    </tr>\n",
              "    <tr>\n",
              "      <th>Down</th>\n",
              "      <td>7</td>\n",
              "    </tr>\n",
              "    <tr>\n",
              "      <th>Up</th>\n",
              "      <td>3</td>\n",
              "    </tr>\n",
              "  </tbody>\n",
              "</table>\n",
              "</div><br><label><b>dtype:</b> int64</label>"
            ]
          },
          "metadata": {},
          "execution_count": 45
        }
      ]
    },
    {
      "cell_type": "markdown",
      "source": [
        "Estos resultados muestran que recibir unicamente insulina no siempre lleva a no volver al hospital. Las demás medicinas tienen tan poco información que no son significativas"
      ],
      "metadata": {
        "id": "zu6CgrBZPiGc"
      }
    },
    {
      "cell_type": "code",
      "source": [
        "med_group1_2_2 = med_group1_2[med_group1_2['Medicinas_tomadas'] == 2]\n",
        "\n",
        "med_group1_2_2['Columnas_Medicinas'] = med_group1_2_2.apply(find_columns_with_non_no_values, axis=1)\n",
        "med_group1_2_2['Columnas_Medicinas'] .value_counts()"
      ],
      "metadata": {
        "colab": {
          "base_uri": "https://localhost:8080/",
          "height": 1000
        },
        "id": "Tl3LJ2n2Nvzo",
        "outputId": "ec64e5f8-1d35-48f9-9580-f1e46eefed13"
      },
      "execution_count": 46,
      "outputs": [
        {
          "output_type": "execute_result",
          "data": {
            "text/plain": [
              "Columnas_Medicinas\n",
              "[glipizide, insulin, Medicinas_tomadas]                60\n",
              "[metformin, insulin, Medicinas_tomadas]                59\n",
              "[glyburide, insulin, Medicinas_tomadas]                32\n",
              "[pioglitazone, insulin, Medicinas_tomadas]             30\n",
              "[rosiglitazone, insulin, Medicinas_tomadas]            19\n",
              "[glimepiride, insulin, Medicinas_tomadas]              19\n",
              "[metformin, glyburide, Medicinas_tomadas]              14\n",
              "[metformin, rosiglitazone, Medicinas_tomadas]          12\n",
              "[metformin, glipizide, Medicinas_tomadas]               8\n",
              "[repaglinide, insulin, Medicinas_tomadas]               8\n",
              "[metformin, glimepiride, Medicinas_tomadas]             7\n",
              "[insulin, glyburide-metformin, Medicinas_tomadas]       7\n",
              "[metformin, pioglitazone, Medicinas_tomadas]            4\n",
              "[glipizide, rosiglitazone, Medicinas_tomadas]           3\n",
              "[metformin, repaglinide, Medicinas_tomadas]             3\n",
              "[glimepiride, pioglitazone, Medicinas_tomadas]          3\n",
              "[nateglinide, insulin, Medicinas_tomadas]               3\n",
              "[glyburide, pioglitazone, Medicinas_tomadas]            2\n",
              "[repaglinide, pioglitazone, Medicinas_tomadas]          2\n",
              "[repaglinide, rosiglitazone, Medicinas_tomadas]         2\n",
              "[glyburide, rosiglitazone, Medicinas_tomadas]           2\n",
              "[glipizide, glyburide, Medicinas_tomadas]               1\n",
              "[metformin, glyburide-metformin, Medicinas_tomadas]     1\n",
              "[chlorpropamide, insulin, Medicinas_tomadas]            1\n",
              "[nateglinide, glyburide, Medicinas_tomadas]             1\n",
              "[glimepiride, rosiglitazone, Medicinas_tomadas]         1\n",
              "[repaglinide, glipizide, Medicinas_tomadas]             1\n",
              "[glyburide, acarbose, Medicinas_tomadas]                1\n",
              "[nateglinide, glimepiride, Medicinas_tomadas]           1\n",
              "[glipizide, pioglitazone, Medicinas_tomadas]            1\n",
              "Name: count, dtype: int64"
            ],
            "text/html": [
              "<div>\n",
              "<style scoped>\n",
              "    .dataframe tbody tr th:only-of-type {\n",
              "        vertical-align: middle;\n",
              "    }\n",
              "\n",
              "    .dataframe tbody tr th {\n",
              "        vertical-align: top;\n",
              "    }\n",
              "\n",
              "    .dataframe thead th {\n",
              "        text-align: right;\n",
              "    }\n",
              "</style>\n",
              "<table border=\"1\" class=\"dataframe\">\n",
              "  <thead>\n",
              "    <tr style=\"text-align: right;\">\n",
              "      <th></th>\n",
              "      <th>count</th>\n",
              "    </tr>\n",
              "    <tr>\n",
              "      <th>Columnas_Medicinas</th>\n",
              "      <th></th>\n",
              "    </tr>\n",
              "  </thead>\n",
              "  <tbody>\n",
              "    <tr>\n",
              "      <th>[glipizide, insulin, Medicinas_tomadas]</th>\n",
              "      <td>60</td>\n",
              "    </tr>\n",
              "    <tr>\n",
              "      <th>[metformin, insulin, Medicinas_tomadas]</th>\n",
              "      <td>59</td>\n",
              "    </tr>\n",
              "    <tr>\n",
              "      <th>[glyburide, insulin, Medicinas_tomadas]</th>\n",
              "      <td>32</td>\n",
              "    </tr>\n",
              "    <tr>\n",
              "      <th>[pioglitazone, insulin, Medicinas_tomadas]</th>\n",
              "      <td>30</td>\n",
              "    </tr>\n",
              "    <tr>\n",
              "      <th>[rosiglitazone, insulin, Medicinas_tomadas]</th>\n",
              "      <td>19</td>\n",
              "    </tr>\n",
              "    <tr>\n",
              "      <th>[glimepiride, insulin, Medicinas_tomadas]</th>\n",
              "      <td>19</td>\n",
              "    </tr>\n",
              "    <tr>\n",
              "      <th>[metformin, glyburide, Medicinas_tomadas]</th>\n",
              "      <td>14</td>\n",
              "    </tr>\n",
              "    <tr>\n",
              "      <th>[metformin, rosiglitazone, Medicinas_tomadas]</th>\n",
              "      <td>12</td>\n",
              "    </tr>\n",
              "    <tr>\n",
              "      <th>[metformin, glipizide, Medicinas_tomadas]</th>\n",
              "      <td>8</td>\n",
              "    </tr>\n",
              "    <tr>\n",
              "      <th>[repaglinide, insulin, Medicinas_tomadas]</th>\n",
              "      <td>8</td>\n",
              "    </tr>\n",
              "    <tr>\n",
              "      <th>[metformin, glimepiride, Medicinas_tomadas]</th>\n",
              "      <td>7</td>\n",
              "    </tr>\n",
              "    <tr>\n",
              "      <th>[insulin, glyburide-metformin, Medicinas_tomadas]</th>\n",
              "      <td>7</td>\n",
              "    </tr>\n",
              "    <tr>\n",
              "      <th>[metformin, pioglitazone, Medicinas_tomadas]</th>\n",
              "      <td>4</td>\n",
              "    </tr>\n",
              "    <tr>\n",
              "      <th>[glipizide, rosiglitazone, Medicinas_tomadas]</th>\n",
              "      <td>3</td>\n",
              "    </tr>\n",
              "    <tr>\n",
              "      <th>[metformin, repaglinide, Medicinas_tomadas]</th>\n",
              "      <td>3</td>\n",
              "    </tr>\n",
              "    <tr>\n",
              "      <th>[glimepiride, pioglitazone, Medicinas_tomadas]</th>\n",
              "      <td>3</td>\n",
              "    </tr>\n",
              "    <tr>\n",
              "      <th>[nateglinide, insulin, Medicinas_tomadas]</th>\n",
              "      <td>3</td>\n",
              "    </tr>\n",
              "    <tr>\n",
              "      <th>[glyburide, pioglitazone, Medicinas_tomadas]</th>\n",
              "      <td>2</td>\n",
              "    </tr>\n",
              "    <tr>\n",
              "      <th>[repaglinide, pioglitazone, Medicinas_tomadas]</th>\n",
              "      <td>2</td>\n",
              "    </tr>\n",
              "    <tr>\n",
              "      <th>[repaglinide, rosiglitazone, Medicinas_tomadas]</th>\n",
              "      <td>2</td>\n",
              "    </tr>\n",
              "    <tr>\n",
              "      <th>[glyburide, rosiglitazone, Medicinas_tomadas]</th>\n",
              "      <td>2</td>\n",
              "    </tr>\n",
              "    <tr>\n",
              "      <th>[glipizide, glyburide, Medicinas_tomadas]</th>\n",
              "      <td>1</td>\n",
              "    </tr>\n",
              "    <tr>\n",
              "      <th>[metformin, glyburide-metformin, Medicinas_tomadas]</th>\n",
              "      <td>1</td>\n",
              "    </tr>\n",
              "    <tr>\n",
              "      <th>[chlorpropamide, insulin, Medicinas_tomadas]</th>\n",
              "      <td>1</td>\n",
              "    </tr>\n",
              "    <tr>\n",
              "      <th>[nateglinide, glyburide, Medicinas_tomadas]</th>\n",
              "      <td>1</td>\n",
              "    </tr>\n",
              "    <tr>\n",
              "      <th>[glimepiride, rosiglitazone, Medicinas_tomadas]</th>\n",
              "      <td>1</td>\n",
              "    </tr>\n",
              "    <tr>\n",
              "      <th>[repaglinide, glipizide, Medicinas_tomadas]</th>\n",
              "      <td>1</td>\n",
              "    </tr>\n",
              "    <tr>\n",
              "      <th>[glyburide, acarbose, Medicinas_tomadas]</th>\n",
              "      <td>1</td>\n",
              "    </tr>\n",
              "    <tr>\n",
              "      <th>[nateglinide, glimepiride, Medicinas_tomadas]</th>\n",
              "      <td>1</td>\n",
              "    </tr>\n",
              "    <tr>\n",
              "      <th>[glipizide, pioglitazone, Medicinas_tomadas]</th>\n",
              "      <td>1</td>\n",
              "    </tr>\n",
              "  </tbody>\n",
              "</table>\n",
              "</div><br><label><b>dtype:</b> int64</label>"
            ]
          },
          "metadata": {},
          "execution_count": 46
        }
      ]
    },
    {
      "cell_type": "code",
      "source": [
        "med_group1_2_3 = med_group1_2[med_group1_2['Medicinas_tomadas'] == 3]\n",
        "\n",
        "med_group1_2_3['Columnas_Medicinas'] = med_group1_2_3.apply(find_columns_with_non_no_values, axis=1)\n",
        "med_group1_2_3['Columnas_Medicinas'] .value_counts()"
      ],
      "metadata": {
        "colab": {
          "base_uri": "https://localhost:8080/",
          "height": 837
        },
        "id": "42RsTwcgNv2S",
        "outputId": "5cb57c05-bf53-40c7-a7e2-c45c450eae99"
      },
      "execution_count": 47,
      "outputs": [
        {
          "output_type": "execute_result",
          "data": {
            "text/plain": [
              "Columnas_Medicinas\n",
              "[metformin, glyburide, insulin, Medicinas_tomadas]                  17\n",
              "[metformin, glipizide, insulin, Medicinas_tomadas]                  16\n",
              "[metformin, pioglitazone, insulin, Medicinas_tomadas]               15\n",
              "[metformin, rosiglitazone, insulin, Medicinas_tomadas]              12\n",
              "[glipizide, pioglitazone, insulin, Medicinas_tomadas]                8\n",
              "[glipizide, rosiglitazone, insulin, Medicinas_tomadas]               6\n",
              "[metformin, glimepiride, insulin, Medicinas_tomadas]                 5\n",
              "[glimepiride, pioglitazone, insulin, Medicinas_tomadas]              5\n",
              "[metformin, glyburide, pioglitazone, Medicinas_tomadas]              4\n",
              "[metformin, glipizide, rosiglitazone, Medicinas_tomadas]             3\n",
              "[metformin, glyburide, rosiglitazone, Medicinas_tomadas]             3\n",
              "[glyburide, rosiglitazone, insulin, Medicinas_tomadas]               2\n",
              "[glipizide, acarbose, insulin, Medicinas_tomadas]                    1\n",
              "[glimepiride, rosiglitazone, insulin, Medicinas_tomadas]             1\n",
              "[repaglinide, glipizide, pioglitazone, Medicinas_tomadas]            1\n",
              "[metformin, glipizide, glyburide, Medicinas_tomadas]                 1\n",
              "[glyburide, pioglitazone, insulin, Medicinas_tomadas]                1\n",
              "[glimepiride, glyburide, insulin, Medicinas_tomadas]                 1\n",
              "[metformin, nateglinide, insulin, Medicinas_tomadas]                 1\n",
              "[metformin, glipizide, pioglitazone, Medicinas_tomadas]              1\n",
              "[rosiglitazone, insulin, glyburide-metformin, Medicinas_tomadas]     1\n",
              "[metformin, glyburide, glyburide-metformin, Medicinas_tomadas]       1\n",
              "[nateglinide, glimepiride, insulin, Medicinas_tomadas]               1\n",
              "Name: count, dtype: int64"
            ],
            "text/html": [
              "<div>\n",
              "<style scoped>\n",
              "    .dataframe tbody tr th:only-of-type {\n",
              "        vertical-align: middle;\n",
              "    }\n",
              "\n",
              "    .dataframe tbody tr th {\n",
              "        vertical-align: top;\n",
              "    }\n",
              "\n",
              "    .dataframe thead th {\n",
              "        text-align: right;\n",
              "    }\n",
              "</style>\n",
              "<table border=\"1\" class=\"dataframe\">\n",
              "  <thead>\n",
              "    <tr style=\"text-align: right;\">\n",
              "      <th></th>\n",
              "      <th>count</th>\n",
              "    </tr>\n",
              "    <tr>\n",
              "      <th>Columnas_Medicinas</th>\n",
              "      <th></th>\n",
              "    </tr>\n",
              "  </thead>\n",
              "  <tbody>\n",
              "    <tr>\n",
              "      <th>[metformin, glyburide, insulin, Medicinas_tomadas]</th>\n",
              "      <td>17</td>\n",
              "    </tr>\n",
              "    <tr>\n",
              "      <th>[metformin, glipizide, insulin, Medicinas_tomadas]</th>\n",
              "      <td>16</td>\n",
              "    </tr>\n",
              "    <tr>\n",
              "      <th>[metformin, pioglitazone, insulin, Medicinas_tomadas]</th>\n",
              "      <td>15</td>\n",
              "    </tr>\n",
              "    <tr>\n",
              "      <th>[metformin, rosiglitazone, insulin, Medicinas_tomadas]</th>\n",
              "      <td>12</td>\n",
              "    </tr>\n",
              "    <tr>\n",
              "      <th>[glipizide, pioglitazone, insulin, Medicinas_tomadas]</th>\n",
              "      <td>8</td>\n",
              "    </tr>\n",
              "    <tr>\n",
              "      <th>[glipizide, rosiglitazone, insulin, Medicinas_tomadas]</th>\n",
              "      <td>6</td>\n",
              "    </tr>\n",
              "    <tr>\n",
              "      <th>[metformin, glimepiride, insulin, Medicinas_tomadas]</th>\n",
              "      <td>5</td>\n",
              "    </tr>\n",
              "    <tr>\n",
              "      <th>[glimepiride, pioglitazone, insulin, Medicinas_tomadas]</th>\n",
              "      <td>5</td>\n",
              "    </tr>\n",
              "    <tr>\n",
              "      <th>[metformin, glyburide, pioglitazone, Medicinas_tomadas]</th>\n",
              "      <td>4</td>\n",
              "    </tr>\n",
              "    <tr>\n",
              "      <th>[metformin, glipizide, rosiglitazone, Medicinas_tomadas]</th>\n",
              "      <td>3</td>\n",
              "    </tr>\n",
              "    <tr>\n",
              "      <th>[metformin, glyburide, rosiglitazone, Medicinas_tomadas]</th>\n",
              "      <td>3</td>\n",
              "    </tr>\n",
              "    <tr>\n",
              "      <th>[glyburide, rosiglitazone, insulin, Medicinas_tomadas]</th>\n",
              "      <td>2</td>\n",
              "    </tr>\n",
              "    <tr>\n",
              "      <th>[glipizide, acarbose, insulin, Medicinas_tomadas]</th>\n",
              "      <td>1</td>\n",
              "    </tr>\n",
              "    <tr>\n",
              "      <th>[glimepiride, rosiglitazone, insulin, Medicinas_tomadas]</th>\n",
              "      <td>1</td>\n",
              "    </tr>\n",
              "    <tr>\n",
              "      <th>[repaglinide, glipizide, pioglitazone, Medicinas_tomadas]</th>\n",
              "      <td>1</td>\n",
              "    </tr>\n",
              "    <tr>\n",
              "      <th>[metformin, glipizide, glyburide, Medicinas_tomadas]</th>\n",
              "      <td>1</td>\n",
              "    </tr>\n",
              "    <tr>\n",
              "      <th>[glyburide, pioglitazone, insulin, Medicinas_tomadas]</th>\n",
              "      <td>1</td>\n",
              "    </tr>\n",
              "    <tr>\n",
              "      <th>[glimepiride, glyburide, insulin, Medicinas_tomadas]</th>\n",
              "      <td>1</td>\n",
              "    </tr>\n",
              "    <tr>\n",
              "      <th>[metformin, nateglinide, insulin, Medicinas_tomadas]</th>\n",
              "      <td>1</td>\n",
              "    </tr>\n",
              "    <tr>\n",
              "      <th>[metformin, glipizide, pioglitazone, Medicinas_tomadas]</th>\n",
              "      <td>1</td>\n",
              "    </tr>\n",
              "    <tr>\n",
              "      <th>[rosiglitazone, insulin, glyburide-metformin, Medicinas_tomadas]</th>\n",
              "      <td>1</td>\n",
              "    </tr>\n",
              "    <tr>\n",
              "      <th>[metformin, glyburide, glyburide-metformin, Medicinas_tomadas]</th>\n",
              "      <td>1</td>\n",
              "    </tr>\n",
              "    <tr>\n",
              "      <th>[nateglinide, glimepiride, insulin, Medicinas_tomadas]</th>\n",
              "      <td>1</td>\n",
              "    </tr>\n",
              "  </tbody>\n",
              "</table>\n",
              "</div><br><label><b>dtype:</b> int64</label>"
            ]
          },
          "metadata": {},
          "execution_count": 47
        }
      ]
    },
    {
      "cell_type": "markdown",
      "source": [
        "Al observar los resultados de este grupo encontramos que la combinación de medicamentos no parece ser un indicador extremadamente diciente. Sin embargo, cuando tenemos la presencia de alguno de los 4 medicamentos de control las posibilidades de no reingresar son mayores a las de reingresar. Por lo tanto, seguimos con la hipotesis que tomar las alguna de las 4 medicinas es positivo y es lo ideal."
      ],
      "metadata": {
        "id": "OSf4qRpCQSFT"
      }
    },
    {
      "cell_type": "markdown",
      "source": [
        "##### Grupo 1.3"
      ],
      "metadata": {
        "id": "5R5ut-JrQw0T"
      }
    },
    {
      "cell_type": "code",
      "source": [
        "med_group1_3 = group1_3[['metformin', 'repaglinide', 'nateglinide', 'chlorpropamide',\n",
        "                                   'glimepiride', 'acetohexamide', 'glipizide', 'glyburide',\n",
        "                                   'tolbutamide', 'pioglitazone', 'rosiglitazone', 'acarbose',\n",
        "                                   'miglitol', 'troglitazone', 'tolazamide', 'examide',\n",
        "                                   'citoglipton', 'insulin', 'glyburide-metformin',\n",
        "                                   'glipizide-metformin', 'glimepiride-pioglitazone',\n",
        "                                   'metformin-rosiglitazone', 'metformin-pioglitazone']]\n",
        "\n",
        "med_group1_3 = med_group1_3.loc[:, med_group1_3.nunique() > 1] #Quitamos las columnas que solo tienen un valor constante\n",
        "med_group1_3['Medicinas_tomadas'] = med_group1_3.apply(lambda row: (row != 'No').sum(), axis=1)\n",
        "fig = px.histogram(med_group1_3, x='Medicinas_tomadas', nbins=11, title='Distribución del número de medicinas tomadas al tiempo')\n",
        "fig.show()"
      ],
      "metadata": {
        "colab": {
          "base_uri": "https://localhost:8080/",
          "height": 542
        },
        "id": "tgh8LY-bNv48",
        "outputId": "f8a014b7-db7a-4f6d-f361-e3e73ad768cb"
      },
      "execution_count": 48,
      "outputs": [
        {
          "output_type": "display_data",
          "data": {
            "text/html": [
              "<html>\n",
              "<head><meta charset=\"utf-8\" /></head>\n",
              "<body>\n",
              "    <div>            <script src=\"https://cdnjs.cloudflare.com/ajax/libs/mathjax/2.7.5/MathJax.js?config=TeX-AMS-MML_SVG\"></script><script type=\"text/javascript\">if (window.MathJax && window.MathJax.Hub && window.MathJax.Hub.Config) {window.MathJax.Hub.Config({SVG: {font: \"STIX-Web\"}});}</script>                <script type=\"text/javascript\">window.PlotlyConfig = {MathJaxConfig: 'local'};</script>\n",
              "        <script charset=\"utf-8\" src=\"https://cdn.plot.ly/plotly-2.35.2.min.js\"></script>                <div id=\"5b4ae65c-5f11-4bf6-9ae9-e3ddb2415125\" class=\"plotly-graph-div\" style=\"height:525px; width:100%;\"></div>            <script type=\"text/javascript\">                                    window.PLOTLYENV=window.PLOTLYENV || {};                                    if (document.getElementById(\"5b4ae65c-5f11-4bf6-9ae9-e3ddb2415125\")) {                    Plotly.newPlot(                        \"5b4ae65c-5f11-4bf6-9ae9-e3ddb2415125\",                        [{\"alignmentgroup\":\"True\",\"bingroup\":\"x\",\"hovertemplate\":\"Medicinas_tomadas=%{x}\\u003cbr\\u003ecount=%{y}\\u003cextra\\u003e\\u003c\\u002fextra\\u003e\",\"legendgroup\":\"\",\"marker\":{\"color\":\"#636efa\",\"pattern\":{\"shape\":\"\"}},\"name\":\"\",\"nbinsx\":11,\"offsetgroup\":\"\",\"orientation\":\"v\",\"showlegend\":false,\"x\":[1,1,1,1,1,1,1,1,1,1,1,1,1,1,1,1,1,1,1,1,1,1,1,1,1,1,1,1,1,1,1,1,1,1,1,1,1,1,1,1,1,1,1,1,1,1,1,1,1,1,1,1,1,1,1,1,1,1,1,1,1,1,1,1,1,1,1,1,1,1,1,1,1,1,1,1,1,1,1,1,1,1,1,1,1,1,1,1,1,1,1,1,1,1,1,1,1,1,1,1,1,1,1,1,1,1,1,1,1,1,1,1,1,1,1,1,1,1,1,1,1,1,1,1,1,1,1,1,1,1,1,1,1,1,1,1,1,1,1,1,1,1,1,1,1,1,1,1,1,1,1,1,1,1,1,1,1,1,1,1,1,1,1,1,1,1,1,1,1,1,1,1,1,1,1,1,1,1,1,1,1,1,1,1,1,1,1,1,1,1,1,1,1,1,1,1,1,1,1,1,1,1,1,1,1,1,1,1,1,1,1,1,1,1,1,1,1,1,1,1,1,1,1,1,1,1,1,1,1,1,1,1,1,1,1,1,1,1,1,1,1,1,1,1,1,1,1,1,1,1,1,1,1,1,1,1,1,1,1,1,1,1,1,1,1,1,1,1,1,1,1,1,1,1,1,1,1,1,1,1,1,1,1,1,1,1,1,1,1,1,1,1,1,1,1,1,1,1,1,1,1,1,1,1,1,1,1,1,1,1,1,1,1,1,1,1,1,1,1,1,1,1,1,1,1,1,1,1,1,1,1,1,1,1,1,1,1,1,1,1,1,1,1,1,1,1,1,1,1,1,1,1,1,1,1,1,1,1,1,1,1,1,1,1,1,1,1,1,1,1,1,1,1,1,1,1,1,1,1,1,1,1,1,1,1,1,1,1,1,1,1,1,1,1,1,1,1,1,1,1,1,1,1,1,1,1,1,1,1,1,1,1,1,1,1,1,1],\"xaxis\":\"x\",\"yaxis\":\"y\",\"type\":\"histogram\"}],                        {\"template\":{\"data\":{\"histogram2dcontour\":[{\"type\":\"histogram2dcontour\",\"colorbar\":{\"outlinewidth\":0,\"ticks\":\"\"},\"colorscale\":[[0.0,\"#0d0887\"],[0.1111111111111111,\"#46039f\"],[0.2222222222222222,\"#7201a8\"],[0.3333333333333333,\"#9c179e\"],[0.4444444444444444,\"#bd3786\"],[0.5555555555555556,\"#d8576b\"],[0.6666666666666666,\"#ed7953\"],[0.7777777777777778,\"#fb9f3a\"],[0.8888888888888888,\"#fdca26\"],[1.0,\"#f0f921\"]]}],\"choropleth\":[{\"type\":\"choropleth\",\"colorbar\":{\"outlinewidth\":0,\"ticks\":\"\"}}],\"histogram2d\":[{\"type\":\"histogram2d\",\"colorbar\":{\"outlinewidth\":0,\"ticks\":\"\"},\"colorscale\":[[0.0,\"#0d0887\"],[0.1111111111111111,\"#46039f\"],[0.2222222222222222,\"#7201a8\"],[0.3333333333333333,\"#9c179e\"],[0.4444444444444444,\"#bd3786\"],[0.5555555555555556,\"#d8576b\"],[0.6666666666666666,\"#ed7953\"],[0.7777777777777778,\"#fb9f3a\"],[0.8888888888888888,\"#fdca26\"],[1.0,\"#f0f921\"]]}],\"heatmap\":[{\"type\":\"heatmap\",\"colorbar\":{\"outlinewidth\":0,\"ticks\":\"\"},\"colorscale\":[[0.0,\"#0d0887\"],[0.1111111111111111,\"#46039f\"],[0.2222222222222222,\"#7201a8\"],[0.3333333333333333,\"#9c179e\"],[0.4444444444444444,\"#bd3786\"],[0.5555555555555556,\"#d8576b\"],[0.6666666666666666,\"#ed7953\"],[0.7777777777777778,\"#fb9f3a\"],[0.8888888888888888,\"#fdca26\"],[1.0,\"#f0f921\"]]}],\"heatmapgl\":[{\"type\":\"heatmapgl\",\"colorbar\":{\"outlinewidth\":0,\"ticks\":\"\"},\"colorscale\":[[0.0,\"#0d0887\"],[0.1111111111111111,\"#46039f\"],[0.2222222222222222,\"#7201a8\"],[0.3333333333333333,\"#9c179e\"],[0.4444444444444444,\"#bd3786\"],[0.5555555555555556,\"#d8576b\"],[0.6666666666666666,\"#ed7953\"],[0.7777777777777778,\"#fb9f3a\"],[0.8888888888888888,\"#fdca26\"],[1.0,\"#f0f921\"]]}],\"contourcarpet\":[{\"type\":\"contourcarpet\",\"colorbar\":{\"outlinewidth\":0,\"ticks\":\"\"}}],\"contour\":[{\"type\":\"contour\",\"colorbar\":{\"outlinewidth\":0,\"ticks\":\"\"},\"colorscale\":[[0.0,\"#0d0887\"],[0.1111111111111111,\"#46039f\"],[0.2222222222222222,\"#7201a8\"],[0.3333333333333333,\"#9c179e\"],[0.4444444444444444,\"#bd3786\"],[0.5555555555555556,\"#d8576b\"],[0.6666666666666666,\"#ed7953\"],[0.7777777777777778,\"#fb9f3a\"],[0.8888888888888888,\"#fdca26\"],[1.0,\"#f0f921\"]]}],\"surface\":[{\"type\":\"surface\",\"colorbar\":{\"outlinewidth\":0,\"ticks\":\"\"},\"colorscale\":[[0.0,\"#0d0887\"],[0.1111111111111111,\"#46039f\"],[0.2222222222222222,\"#7201a8\"],[0.3333333333333333,\"#9c179e\"],[0.4444444444444444,\"#bd3786\"],[0.5555555555555556,\"#d8576b\"],[0.6666666666666666,\"#ed7953\"],[0.7777777777777778,\"#fb9f3a\"],[0.8888888888888888,\"#fdca26\"],[1.0,\"#f0f921\"]]}],\"mesh3d\":[{\"type\":\"mesh3d\",\"colorbar\":{\"outlinewidth\":0,\"ticks\":\"\"}}],\"scatter\":[{\"fillpattern\":{\"fillmode\":\"overlay\",\"size\":10,\"solidity\":0.2},\"type\":\"scatter\"}],\"parcoords\":[{\"type\":\"parcoords\",\"line\":{\"colorbar\":{\"outlinewidth\":0,\"ticks\":\"\"}}}],\"scatterpolargl\":[{\"type\":\"scatterpolargl\",\"marker\":{\"colorbar\":{\"outlinewidth\":0,\"ticks\":\"\"}}}],\"bar\":[{\"error_x\":{\"color\":\"#2a3f5f\"},\"error_y\":{\"color\":\"#2a3f5f\"},\"marker\":{\"line\":{\"color\":\"#E5ECF6\",\"width\":0.5},\"pattern\":{\"fillmode\":\"overlay\",\"size\":10,\"solidity\":0.2}},\"type\":\"bar\"}],\"scattergeo\":[{\"type\":\"scattergeo\",\"marker\":{\"colorbar\":{\"outlinewidth\":0,\"ticks\":\"\"}}}],\"scatterpolar\":[{\"type\":\"scatterpolar\",\"marker\":{\"colorbar\":{\"outlinewidth\":0,\"ticks\":\"\"}}}],\"histogram\":[{\"marker\":{\"pattern\":{\"fillmode\":\"overlay\",\"size\":10,\"solidity\":0.2}},\"type\":\"histogram\"}],\"scattergl\":[{\"type\":\"scattergl\",\"marker\":{\"colorbar\":{\"outlinewidth\":0,\"ticks\":\"\"}}}],\"scatter3d\":[{\"type\":\"scatter3d\",\"line\":{\"colorbar\":{\"outlinewidth\":0,\"ticks\":\"\"}},\"marker\":{\"colorbar\":{\"outlinewidth\":0,\"ticks\":\"\"}}}],\"scattermapbox\":[{\"type\":\"scattermapbox\",\"marker\":{\"colorbar\":{\"outlinewidth\":0,\"ticks\":\"\"}}}],\"scatterternary\":[{\"type\":\"scatterternary\",\"marker\":{\"colorbar\":{\"outlinewidth\":0,\"ticks\":\"\"}}}],\"scattercarpet\":[{\"type\":\"scattercarpet\",\"marker\":{\"colorbar\":{\"outlinewidth\":0,\"ticks\":\"\"}}}],\"carpet\":[{\"aaxis\":{\"endlinecolor\":\"#2a3f5f\",\"gridcolor\":\"white\",\"linecolor\":\"white\",\"minorgridcolor\":\"white\",\"startlinecolor\":\"#2a3f5f\"},\"baxis\":{\"endlinecolor\":\"#2a3f5f\",\"gridcolor\":\"white\",\"linecolor\":\"white\",\"minorgridcolor\":\"white\",\"startlinecolor\":\"#2a3f5f\"},\"type\":\"carpet\"}],\"table\":[{\"cells\":{\"fill\":{\"color\":\"#EBF0F8\"},\"line\":{\"color\":\"white\"}},\"header\":{\"fill\":{\"color\":\"#C8D4E3\"},\"line\":{\"color\":\"white\"}},\"type\":\"table\"}],\"barpolar\":[{\"marker\":{\"line\":{\"color\":\"#E5ECF6\",\"width\":0.5},\"pattern\":{\"fillmode\":\"overlay\",\"size\":10,\"solidity\":0.2}},\"type\":\"barpolar\"}],\"pie\":[{\"automargin\":true,\"type\":\"pie\"}]},\"layout\":{\"autotypenumbers\":\"strict\",\"colorway\":[\"#636efa\",\"#EF553B\",\"#00cc96\",\"#ab63fa\",\"#FFA15A\",\"#19d3f3\",\"#FF6692\",\"#B6E880\",\"#FF97FF\",\"#FECB52\"],\"font\":{\"color\":\"#2a3f5f\"},\"hovermode\":\"closest\",\"hoverlabel\":{\"align\":\"left\"},\"paper_bgcolor\":\"white\",\"plot_bgcolor\":\"#E5ECF6\",\"polar\":{\"bgcolor\":\"#E5ECF6\",\"angularaxis\":{\"gridcolor\":\"white\",\"linecolor\":\"white\",\"ticks\":\"\"},\"radialaxis\":{\"gridcolor\":\"white\",\"linecolor\":\"white\",\"ticks\":\"\"}},\"ternary\":{\"bgcolor\":\"#E5ECF6\",\"aaxis\":{\"gridcolor\":\"white\",\"linecolor\":\"white\",\"ticks\":\"\"},\"baxis\":{\"gridcolor\":\"white\",\"linecolor\":\"white\",\"ticks\":\"\"},\"caxis\":{\"gridcolor\":\"white\",\"linecolor\":\"white\",\"ticks\":\"\"}},\"coloraxis\":{\"colorbar\":{\"outlinewidth\":0,\"ticks\":\"\"}},\"colorscale\":{\"sequential\":[[0.0,\"#0d0887\"],[0.1111111111111111,\"#46039f\"],[0.2222222222222222,\"#7201a8\"],[0.3333333333333333,\"#9c179e\"],[0.4444444444444444,\"#bd3786\"],[0.5555555555555556,\"#d8576b\"],[0.6666666666666666,\"#ed7953\"],[0.7777777777777778,\"#fb9f3a\"],[0.8888888888888888,\"#fdca26\"],[1.0,\"#f0f921\"]],\"sequentialminus\":[[0.0,\"#0d0887\"],[0.1111111111111111,\"#46039f\"],[0.2222222222222222,\"#7201a8\"],[0.3333333333333333,\"#9c179e\"],[0.4444444444444444,\"#bd3786\"],[0.5555555555555556,\"#d8576b\"],[0.6666666666666666,\"#ed7953\"],[0.7777777777777778,\"#fb9f3a\"],[0.8888888888888888,\"#fdca26\"],[1.0,\"#f0f921\"]],\"diverging\":[[0,\"#8e0152\"],[0.1,\"#c51b7d\"],[0.2,\"#de77ae\"],[0.3,\"#f1b6da\"],[0.4,\"#fde0ef\"],[0.5,\"#f7f7f7\"],[0.6,\"#e6f5d0\"],[0.7,\"#b8e186\"],[0.8,\"#7fbc41\"],[0.9,\"#4d9221\"],[1,\"#276419\"]]},\"xaxis\":{\"gridcolor\":\"white\",\"linecolor\":\"white\",\"ticks\":\"\",\"title\":{\"standoff\":15},\"zerolinecolor\":\"white\",\"automargin\":true,\"zerolinewidth\":2},\"yaxis\":{\"gridcolor\":\"white\",\"linecolor\":\"white\",\"ticks\":\"\",\"title\":{\"standoff\":15},\"zerolinecolor\":\"white\",\"automargin\":true,\"zerolinewidth\":2},\"scene\":{\"xaxis\":{\"backgroundcolor\":\"#E5ECF6\",\"gridcolor\":\"white\",\"linecolor\":\"white\",\"showbackground\":true,\"ticks\":\"\",\"zerolinecolor\":\"white\",\"gridwidth\":2},\"yaxis\":{\"backgroundcolor\":\"#E5ECF6\",\"gridcolor\":\"white\",\"linecolor\":\"white\",\"showbackground\":true,\"ticks\":\"\",\"zerolinecolor\":\"white\",\"gridwidth\":2},\"zaxis\":{\"backgroundcolor\":\"#E5ECF6\",\"gridcolor\":\"white\",\"linecolor\":\"white\",\"showbackground\":true,\"ticks\":\"\",\"zerolinecolor\":\"white\",\"gridwidth\":2}},\"shapedefaults\":{\"line\":{\"color\":\"#2a3f5f\"}},\"annotationdefaults\":{\"arrowcolor\":\"#2a3f5f\",\"arrowhead\":0,\"arrowwidth\":1},\"geo\":{\"bgcolor\":\"white\",\"landcolor\":\"#E5ECF6\",\"subunitcolor\":\"white\",\"showland\":true,\"showlakes\":true,\"lakecolor\":\"white\"},\"title\":{\"x\":0.05},\"mapbox\":{\"style\":\"light\"}}},\"xaxis\":{\"anchor\":\"y\",\"domain\":[0.0,1.0],\"title\":{\"text\":\"Medicinas_tomadas\"}},\"yaxis\":{\"anchor\":\"x\",\"domain\":[0.0,1.0],\"title\":{\"text\":\"count\"}},\"legend\":{\"tracegroupgap\":0},\"title\":{\"text\":\"Distribuci\\u00f3n del n\\u00famero de medicinas tomadas al tiempo\"},\"barmode\":\"relative\"},                        {\"responsive\": true}                    ).then(function(){\n",
              "                            \n",
              "var gd = document.getElementById('5b4ae65c-5f11-4bf6-9ae9-e3ddb2415125');\n",
              "var x = new MutationObserver(function (mutations, observer) {{\n",
              "        var display = window.getComputedStyle(gd).display;\n",
              "        if (!display || display === 'none') {{\n",
              "            console.log([gd, 'removed!']);\n",
              "            Plotly.purge(gd);\n",
              "            observer.disconnect();\n",
              "        }}\n",
              "}});\n",
              "\n",
              "// Listen for the removal of the full notebook cells\n",
              "var notebookContainer = gd.closest('#notebook-container');\n",
              "if (notebookContainer) {{\n",
              "    x.observe(notebookContainer, {childList: true});\n",
              "}}\n",
              "\n",
              "// Listen for the clearing of the current output cell\n",
              "var outputEl = gd.closest('.output');\n",
              "if (outputEl) {{\n",
              "    x.observe(outputEl, {childList: true});\n",
              "}}\n",
              "\n",
              "                        })                };                            </script>        </div>\n",
              "</body>\n",
              "</html>"
            ]
          },
          "metadata": {}
        }
      ]
    },
    {
      "cell_type": "markdown",
      "source": [
        "Todos en este grupo toman únicamente un solo medicamento. Supongo que es insulina"
      ],
      "metadata": {
        "id": "2XhPDRRKQ_-f"
      }
    },
    {
      "cell_type": "code",
      "source": [
        "med_group1_3_1 = med_group1_3[med_group1_3['Medicinas_tomadas'] == 1]\n",
        "\n",
        "med_group1_3_1['Columna_Medicina'] = med_group1_3_1.apply(find_column_with_non_no_value, axis=1)\n",
        "med_group1_3_1['Columna_Medicina'].value_counts()"
      ],
      "metadata": {
        "colab": {
          "base_uri": "https://localhost:8080/",
          "height": 460
        },
        "id": "irklfo3XNv73",
        "outputId": "952b9687-a379-402b-f943-cce0df645221"
      },
      "execution_count": 49,
      "outputs": [
        {
          "output_type": "execute_result",
          "data": {
            "text/plain": [
              "Columna_Medicina\n",
              "insulin                194\n",
              "metformin               75\n",
              "glipizide               43\n",
              "glyburide               43\n",
              "rosiglitazone           19\n",
              "pioglitazone            18\n",
              "glimepiride             14\n",
              "repaglinide              7\n",
              "glyburide-metformin      2\n",
              "chlorpropamide           1\n",
              "nateglinide              1\n",
              "Name: count, dtype: int64"
            ],
            "text/html": [
              "<div>\n",
              "<style scoped>\n",
              "    .dataframe tbody tr th:only-of-type {\n",
              "        vertical-align: middle;\n",
              "    }\n",
              "\n",
              "    .dataframe tbody tr th {\n",
              "        vertical-align: top;\n",
              "    }\n",
              "\n",
              "    .dataframe thead th {\n",
              "        text-align: right;\n",
              "    }\n",
              "</style>\n",
              "<table border=\"1\" class=\"dataframe\">\n",
              "  <thead>\n",
              "    <tr style=\"text-align: right;\">\n",
              "      <th></th>\n",
              "      <th>count</th>\n",
              "    </tr>\n",
              "    <tr>\n",
              "      <th>Columna_Medicina</th>\n",
              "      <th></th>\n",
              "    </tr>\n",
              "  </thead>\n",
              "  <tbody>\n",
              "    <tr>\n",
              "      <th>insulin</th>\n",
              "      <td>194</td>\n",
              "    </tr>\n",
              "    <tr>\n",
              "      <th>metformin</th>\n",
              "      <td>75</td>\n",
              "    </tr>\n",
              "    <tr>\n",
              "      <th>glipizide</th>\n",
              "      <td>43</td>\n",
              "    </tr>\n",
              "    <tr>\n",
              "      <th>glyburide</th>\n",
              "      <td>43</td>\n",
              "    </tr>\n",
              "    <tr>\n",
              "      <th>rosiglitazone</th>\n",
              "      <td>19</td>\n",
              "    </tr>\n",
              "    <tr>\n",
              "      <th>pioglitazone</th>\n",
              "      <td>18</td>\n",
              "    </tr>\n",
              "    <tr>\n",
              "      <th>glimepiride</th>\n",
              "      <td>14</td>\n",
              "    </tr>\n",
              "    <tr>\n",
              "      <th>repaglinide</th>\n",
              "      <td>7</td>\n",
              "    </tr>\n",
              "    <tr>\n",
              "      <th>glyburide-metformin</th>\n",
              "      <td>2</td>\n",
              "    </tr>\n",
              "    <tr>\n",
              "      <th>chlorpropamide</th>\n",
              "      <td>1</td>\n",
              "    </tr>\n",
              "    <tr>\n",
              "      <th>nateglinide</th>\n",
              "      <td>1</td>\n",
              "    </tr>\n",
              "  </tbody>\n",
              "</table>\n",
              "</div><br><label><b>dtype:</b> int64</label>"
            ]
          },
          "metadata": {},
          "execution_count": 49
        }
      ]
    },
    {
      "cell_type": "markdown",
      "source": [
        "La mayoria es insulina y/o una de las 4 principales. En este caso suponemos que la dosis es incorrecta.\n",
        "\n",
        "Por último vamos a mirar si las personas de este grupo ingresaron por emergencia, urgencia o electiva."
      ],
      "metadata": {
        "id": "3QNYKjscRR-c"
      }
    },
    {
      "cell_type": "code",
      "source": [
        "admin_freq_1_3 = group1_3['admission_type_id'].value_counts().reset_index()\n",
        "admin_freq_1_3.columns = ['admission_type_id', 'Frecuencia']\n",
        "\n",
        "fig = px.bar(admin_freq_1_3, x='admission_type_id', y='Frecuencia', title='admission_type_id', hover_data= 'Frecuencia')\n",
        "fig.show()"
      ],
      "metadata": {
        "colab": {
          "base_uri": "https://localhost:8080/",
          "height": 542
        },
        "id": "uiMduJ7hRnFa",
        "outputId": "dafe7e94-76eb-4830-f1f7-1a41fdfbd3a0"
      },
      "execution_count": 50,
      "outputs": [
        {
          "output_type": "display_data",
          "data": {
            "text/html": [
              "<html>\n",
              "<head><meta charset=\"utf-8\" /></head>\n",
              "<body>\n",
              "    <div>            <script src=\"https://cdnjs.cloudflare.com/ajax/libs/mathjax/2.7.5/MathJax.js?config=TeX-AMS-MML_SVG\"></script><script type=\"text/javascript\">if (window.MathJax && window.MathJax.Hub && window.MathJax.Hub.Config) {window.MathJax.Hub.Config({SVG: {font: \"STIX-Web\"}});}</script>                <script type=\"text/javascript\">window.PlotlyConfig = {MathJaxConfig: 'local'};</script>\n",
              "        <script charset=\"utf-8\" src=\"https://cdn.plot.ly/plotly-2.35.2.min.js\"></script>                <div id=\"188c8301-315c-4844-aaff-85dd127102e8\" class=\"plotly-graph-div\" style=\"height:525px; width:100%;\"></div>            <script type=\"text/javascript\">                                    window.PLOTLYENV=window.PLOTLYENV || {};                                    if (document.getElementById(\"188c8301-315c-4844-aaff-85dd127102e8\")) {                    Plotly.newPlot(                        \"188c8301-315c-4844-aaff-85dd127102e8\",                        [{\"alignmentgroup\":\"True\",\"hovertemplate\":\"admission_type_id=%{x}\\u003cbr\\u003eFrecuencia=%{y}\\u003cextra\\u003e\\u003c\\u002fextra\\u003e\",\"legendgroup\":\"\",\"marker\":{\"color\":\"#636efa\",\"pattern\":{\"shape\":\"\"}},\"name\":\"\",\"offsetgroup\":\"\",\"orientation\":\"v\",\"showlegend\":false,\"textposition\":\"auto\",\"x\":[1,2,3,6,5],\"xaxis\":\"x\",\"y\":[266,66,36,31,18],\"yaxis\":\"y\",\"type\":\"bar\"}],                        {\"template\":{\"data\":{\"histogram2dcontour\":[{\"type\":\"histogram2dcontour\",\"colorbar\":{\"outlinewidth\":0,\"ticks\":\"\"},\"colorscale\":[[0.0,\"#0d0887\"],[0.1111111111111111,\"#46039f\"],[0.2222222222222222,\"#7201a8\"],[0.3333333333333333,\"#9c179e\"],[0.4444444444444444,\"#bd3786\"],[0.5555555555555556,\"#d8576b\"],[0.6666666666666666,\"#ed7953\"],[0.7777777777777778,\"#fb9f3a\"],[0.8888888888888888,\"#fdca26\"],[1.0,\"#f0f921\"]]}],\"choropleth\":[{\"type\":\"choropleth\",\"colorbar\":{\"outlinewidth\":0,\"ticks\":\"\"}}],\"histogram2d\":[{\"type\":\"histogram2d\",\"colorbar\":{\"outlinewidth\":0,\"ticks\":\"\"},\"colorscale\":[[0.0,\"#0d0887\"],[0.1111111111111111,\"#46039f\"],[0.2222222222222222,\"#7201a8\"],[0.3333333333333333,\"#9c179e\"],[0.4444444444444444,\"#bd3786\"],[0.5555555555555556,\"#d8576b\"],[0.6666666666666666,\"#ed7953\"],[0.7777777777777778,\"#fb9f3a\"],[0.8888888888888888,\"#fdca26\"],[1.0,\"#f0f921\"]]}],\"heatmap\":[{\"type\":\"heatmap\",\"colorbar\":{\"outlinewidth\":0,\"ticks\":\"\"},\"colorscale\":[[0.0,\"#0d0887\"],[0.1111111111111111,\"#46039f\"],[0.2222222222222222,\"#7201a8\"],[0.3333333333333333,\"#9c179e\"],[0.4444444444444444,\"#bd3786\"],[0.5555555555555556,\"#d8576b\"],[0.6666666666666666,\"#ed7953\"],[0.7777777777777778,\"#fb9f3a\"],[0.8888888888888888,\"#fdca26\"],[1.0,\"#f0f921\"]]}],\"heatmapgl\":[{\"type\":\"heatmapgl\",\"colorbar\":{\"outlinewidth\":0,\"ticks\":\"\"},\"colorscale\":[[0.0,\"#0d0887\"],[0.1111111111111111,\"#46039f\"],[0.2222222222222222,\"#7201a8\"],[0.3333333333333333,\"#9c179e\"],[0.4444444444444444,\"#bd3786\"],[0.5555555555555556,\"#d8576b\"],[0.6666666666666666,\"#ed7953\"],[0.7777777777777778,\"#fb9f3a\"],[0.8888888888888888,\"#fdca26\"],[1.0,\"#f0f921\"]]}],\"contourcarpet\":[{\"type\":\"contourcarpet\",\"colorbar\":{\"outlinewidth\":0,\"ticks\":\"\"}}],\"contour\":[{\"type\":\"contour\",\"colorbar\":{\"outlinewidth\":0,\"ticks\":\"\"},\"colorscale\":[[0.0,\"#0d0887\"],[0.1111111111111111,\"#46039f\"],[0.2222222222222222,\"#7201a8\"],[0.3333333333333333,\"#9c179e\"],[0.4444444444444444,\"#bd3786\"],[0.5555555555555556,\"#d8576b\"],[0.6666666666666666,\"#ed7953\"],[0.7777777777777778,\"#fb9f3a\"],[0.8888888888888888,\"#fdca26\"],[1.0,\"#f0f921\"]]}],\"surface\":[{\"type\":\"surface\",\"colorbar\":{\"outlinewidth\":0,\"ticks\":\"\"},\"colorscale\":[[0.0,\"#0d0887\"],[0.1111111111111111,\"#46039f\"],[0.2222222222222222,\"#7201a8\"],[0.3333333333333333,\"#9c179e\"],[0.4444444444444444,\"#bd3786\"],[0.5555555555555556,\"#d8576b\"],[0.6666666666666666,\"#ed7953\"],[0.7777777777777778,\"#fb9f3a\"],[0.8888888888888888,\"#fdca26\"],[1.0,\"#f0f921\"]]}],\"mesh3d\":[{\"type\":\"mesh3d\",\"colorbar\":{\"outlinewidth\":0,\"ticks\":\"\"}}],\"scatter\":[{\"fillpattern\":{\"fillmode\":\"overlay\",\"size\":10,\"solidity\":0.2},\"type\":\"scatter\"}],\"parcoords\":[{\"type\":\"parcoords\",\"line\":{\"colorbar\":{\"outlinewidth\":0,\"ticks\":\"\"}}}],\"scatterpolargl\":[{\"type\":\"scatterpolargl\",\"marker\":{\"colorbar\":{\"outlinewidth\":0,\"ticks\":\"\"}}}],\"bar\":[{\"error_x\":{\"color\":\"#2a3f5f\"},\"error_y\":{\"color\":\"#2a3f5f\"},\"marker\":{\"line\":{\"color\":\"#E5ECF6\",\"width\":0.5},\"pattern\":{\"fillmode\":\"overlay\",\"size\":10,\"solidity\":0.2}},\"type\":\"bar\"}],\"scattergeo\":[{\"type\":\"scattergeo\",\"marker\":{\"colorbar\":{\"outlinewidth\":0,\"ticks\":\"\"}}}],\"scatterpolar\":[{\"type\":\"scatterpolar\",\"marker\":{\"colorbar\":{\"outlinewidth\":0,\"ticks\":\"\"}}}],\"histogram\":[{\"marker\":{\"pattern\":{\"fillmode\":\"overlay\",\"size\":10,\"solidity\":0.2}},\"type\":\"histogram\"}],\"scattergl\":[{\"type\":\"scattergl\",\"marker\":{\"colorbar\":{\"outlinewidth\":0,\"ticks\":\"\"}}}],\"scatter3d\":[{\"type\":\"scatter3d\",\"line\":{\"colorbar\":{\"outlinewidth\":0,\"ticks\":\"\"}},\"marker\":{\"colorbar\":{\"outlinewidth\":0,\"ticks\":\"\"}}}],\"scattermapbox\":[{\"type\":\"scattermapbox\",\"marker\":{\"colorbar\":{\"outlinewidth\":0,\"ticks\":\"\"}}}],\"scatterternary\":[{\"type\":\"scatterternary\",\"marker\":{\"colorbar\":{\"outlinewidth\":0,\"ticks\":\"\"}}}],\"scattercarpet\":[{\"type\":\"scattercarpet\",\"marker\":{\"colorbar\":{\"outlinewidth\":0,\"ticks\":\"\"}}}],\"carpet\":[{\"aaxis\":{\"endlinecolor\":\"#2a3f5f\",\"gridcolor\":\"white\",\"linecolor\":\"white\",\"minorgridcolor\":\"white\",\"startlinecolor\":\"#2a3f5f\"},\"baxis\":{\"endlinecolor\":\"#2a3f5f\",\"gridcolor\":\"white\",\"linecolor\":\"white\",\"minorgridcolor\":\"white\",\"startlinecolor\":\"#2a3f5f\"},\"type\":\"carpet\"}],\"table\":[{\"cells\":{\"fill\":{\"color\":\"#EBF0F8\"},\"line\":{\"color\":\"white\"}},\"header\":{\"fill\":{\"color\":\"#C8D4E3\"},\"line\":{\"color\":\"white\"}},\"type\":\"table\"}],\"barpolar\":[{\"marker\":{\"line\":{\"color\":\"#E5ECF6\",\"width\":0.5},\"pattern\":{\"fillmode\":\"overlay\",\"size\":10,\"solidity\":0.2}},\"type\":\"barpolar\"}],\"pie\":[{\"automargin\":true,\"type\":\"pie\"}]},\"layout\":{\"autotypenumbers\":\"strict\",\"colorway\":[\"#636efa\",\"#EF553B\",\"#00cc96\",\"#ab63fa\",\"#FFA15A\",\"#19d3f3\",\"#FF6692\",\"#B6E880\",\"#FF97FF\",\"#FECB52\"],\"font\":{\"color\":\"#2a3f5f\"},\"hovermode\":\"closest\",\"hoverlabel\":{\"align\":\"left\"},\"paper_bgcolor\":\"white\",\"plot_bgcolor\":\"#E5ECF6\",\"polar\":{\"bgcolor\":\"#E5ECF6\",\"angularaxis\":{\"gridcolor\":\"white\",\"linecolor\":\"white\",\"ticks\":\"\"},\"radialaxis\":{\"gridcolor\":\"white\",\"linecolor\":\"white\",\"ticks\":\"\"}},\"ternary\":{\"bgcolor\":\"#E5ECF6\",\"aaxis\":{\"gridcolor\":\"white\",\"linecolor\":\"white\",\"ticks\":\"\"},\"baxis\":{\"gridcolor\":\"white\",\"linecolor\":\"white\",\"ticks\":\"\"},\"caxis\":{\"gridcolor\":\"white\",\"linecolor\":\"white\",\"ticks\":\"\"}},\"coloraxis\":{\"colorbar\":{\"outlinewidth\":0,\"ticks\":\"\"}},\"colorscale\":{\"sequential\":[[0.0,\"#0d0887\"],[0.1111111111111111,\"#46039f\"],[0.2222222222222222,\"#7201a8\"],[0.3333333333333333,\"#9c179e\"],[0.4444444444444444,\"#bd3786\"],[0.5555555555555556,\"#d8576b\"],[0.6666666666666666,\"#ed7953\"],[0.7777777777777778,\"#fb9f3a\"],[0.8888888888888888,\"#fdca26\"],[1.0,\"#f0f921\"]],\"sequentialminus\":[[0.0,\"#0d0887\"],[0.1111111111111111,\"#46039f\"],[0.2222222222222222,\"#7201a8\"],[0.3333333333333333,\"#9c179e\"],[0.4444444444444444,\"#bd3786\"],[0.5555555555555556,\"#d8576b\"],[0.6666666666666666,\"#ed7953\"],[0.7777777777777778,\"#fb9f3a\"],[0.8888888888888888,\"#fdca26\"],[1.0,\"#f0f921\"]],\"diverging\":[[0,\"#8e0152\"],[0.1,\"#c51b7d\"],[0.2,\"#de77ae\"],[0.3,\"#f1b6da\"],[0.4,\"#fde0ef\"],[0.5,\"#f7f7f7\"],[0.6,\"#e6f5d0\"],[0.7,\"#b8e186\"],[0.8,\"#7fbc41\"],[0.9,\"#4d9221\"],[1,\"#276419\"]]},\"xaxis\":{\"gridcolor\":\"white\",\"linecolor\":\"white\",\"ticks\":\"\",\"title\":{\"standoff\":15},\"zerolinecolor\":\"white\",\"automargin\":true,\"zerolinewidth\":2},\"yaxis\":{\"gridcolor\":\"white\",\"linecolor\":\"white\",\"ticks\":\"\",\"title\":{\"standoff\":15},\"zerolinecolor\":\"white\",\"automargin\":true,\"zerolinewidth\":2},\"scene\":{\"xaxis\":{\"backgroundcolor\":\"#E5ECF6\",\"gridcolor\":\"white\",\"linecolor\":\"white\",\"showbackground\":true,\"ticks\":\"\",\"zerolinecolor\":\"white\",\"gridwidth\":2},\"yaxis\":{\"backgroundcolor\":\"#E5ECF6\",\"gridcolor\":\"white\",\"linecolor\":\"white\",\"showbackground\":true,\"ticks\":\"\",\"zerolinecolor\":\"white\",\"gridwidth\":2},\"zaxis\":{\"backgroundcolor\":\"#E5ECF6\",\"gridcolor\":\"white\",\"linecolor\":\"white\",\"showbackground\":true,\"ticks\":\"\",\"zerolinecolor\":\"white\",\"gridwidth\":2}},\"shapedefaults\":{\"line\":{\"color\":\"#2a3f5f\"}},\"annotationdefaults\":{\"arrowcolor\":\"#2a3f5f\",\"arrowhead\":0,\"arrowwidth\":1},\"geo\":{\"bgcolor\":\"white\",\"landcolor\":\"#E5ECF6\",\"subunitcolor\":\"white\",\"showland\":true,\"showlakes\":true,\"lakecolor\":\"white\"},\"title\":{\"x\":0.05},\"mapbox\":{\"style\":\"light\"}}},\"xaxis\":{\"anchor\":\"y\",\"domain\":[0.0,1.0],\"title\":{\"text\":\"admission_type_id\"}},\"yaxis\":{\"anchor\":\"x\",\"domain\":[0.0,1.0],\"title\":{\"text\":\"Frecuencia\"}},\"legend\":{\"tracegroupgap\":0},\"title\":{\"text\":\"admission_type_id\"},\"barmode\":\"relative\"},                        {\"responsive\": true}                    ).then(function(){\n",
              "                            \n",
              "var gd = document.getElementById('188c8301-315c-4844-aaff-85dd127102e8');\n",
              "var x = new MutationObserver(function (mutations, observer) {{\n",
              "        var display = window.getComputedStyle(gd).display;\n",
              "        if (!display || display === 'none') {{\n",
              "            console.log([gd, 'removed!']);\n",
              "            Plotly.purge(gd);\n",
              "            observer.disconnect();\n",
              "        }}\n",
              "}});\n",
              "\n",
              "// Listen for the removal of the full notebook cells\n",
              "var notebookContainer = gd.closest('#notebook-container');\n",
              "if (notebookContainer) {{\n",
              "    x.observe(notebookContainer, {childList: true});\n",
              "}}\n",
              "\n",
              "// Listen for the clearing of the current output cell\n",
              "var outputEl = gd.closest('.output');\n",
              "if (outputEl) {{\n",
              "    x.observe(outputEl, {childList: true});\n",
              "}}\n",
              "\n",
              "                        })                };                            </script>        </div>\n",
              "</body>\n",
              "</html>"
            ]
          },
          "metadata": {}
        }
      ]
    },
    {
      "cell_type": "markdown",
      "source": [
        "A pesar de que existen algunos casos que con las 4 medicinas tenemos readmisión, tambien podemos ver la tendencia a tener examenes en rangos normales gracias a las medicinas.\n",
        "\n",
        "Adicionalmente, se observa que la cantidad de casos que entran por urgencia es muy baja, la mayoría son emergencias.\n",
        "\n",
        "**Conclusión: Las medicinas identificadas en el grupo de control siguen apareciendo cuando los resutlados de los examenes son normales y se observa que reduce la cantidad de casos que reingresan por urgencia.**"
      ],
      "metadata": {
        "id": "pr7Qqao0RvD3"
      }
    },
    {
      "cell_type": "markdown",
      "source": [
        "#### Grupo 2"
      ],
      "metadata": {
        "id": "TaOE-y395OJF"
      }
    },
    {
      "cell_type": "markdown",
      "source": [
        "Este grupo se caracteriza porque toman medicinas y tienen el examen con resultados altos"
      ],
      "metadata": {
        "id": "mES2pkP05RUm"
      }
    },
    {
      "cell_type": "code",
      "source": [
        "group2 = Strack_dataset[(Strack_dataset['diabetesMed'] == 'Yes') &\n",
        "                        (Strack_dataset['A1Cresult']!= 'Norm') &\n",
        "                        (Strack_dataset['A1Cresult']!= 'none')]\n",
        "len(group2)"
      ],
      "metadata": {
        "colab": {
          "base_uri": "https://localhost:8080/"
        },
        "id": "G9NtRy0r5FJM",
        "outputId": "19ac2068-268b-44a0-d117-0692849bab01"
      },
      "execution_count": 51,
      "outputs": [
        {
          "output_type": "execute_result",
          "data": {
            "text/plain": [
              "7916"
            ]
          },
          "metadata": {},
          "execution_count": 51
        }
      ]
    },
    {
      "cell_type": "markdown",
      "source": [
        "La cantidad de data que tiene el grupo se muestra con el fin de controlar la trasabilidad del grupo y verificar que la cantidad de data corresponde a lo previamente visto."
      ],
      "metadata": {
        "id": "_vjOVwqV5zTo"
      }
    },
    {
      "cell_type": "markdown",
      "source": [
        "Vamos a revisar cuántas medicinas toman, qué medicinas toman y qué combinación de medicinas toman"
      ],
      "metadata": {
        "id": "ByH5VAnsGNGa"
      }
    },
    {
      "cell_type": "code",
      "source": [
        "med_group2 = group2[['metformin', 'repaglinide', 'nateglinide', 'chlorpropamide',\n",
        "                                   'glimepiride', 'acetohexamide', 'glipizide', 'glyburide',\n",
        "                                   'tolbutamide', 'pioglitazone', 'rosiglitazone', 'acarbose',\n",
        "                                   'miglitol', 'troglitazone', 'tolazamide', 'examide',\n",
        "                                   'citoglipton', 'insulin', 'glyburide-metformin',\n",
        "                                   'glipizide-metformin', 'glimepiride-pioglitazone',\n",
        "                                   'metformin-rosiglitazone', 'metformin-pioglitazone', 'readmitted']]\n",
        "\n",
        "med_group2 = med_group2.loc[:, med_group2.nunique() > 1] #Quitamos las columnas que solo tienen un valor constante\n",
        "med_group2['Medicinas_tomadas'] = med_group2.apply(lambda row: (row != 'No').sum(), axis=1) - 1 #Porque la columna de readmitted agrega un valor extra\n",
        "fig = px.histogram(med_group2, x='Medicinas_tomadas', nbins=11, title='Distribución del número de medicinas tomadas al tiempo',\n",
        "                   facet_col='readmitted')\n",
        "fig.show()"
      ],
      "metadata": {
        "id": "v5MWQRYS5dK3",
        "colab": {
          "base_uri": "https://localhost:8080/",
          "height": 542
        },
        "outputId": "a1c963fb-82d4-4362-ee7a-0b43ea6390c1"
      },
      "execution_count": 52,
      "outputs": [
        {
          "output_type": "display_data",
          "data": {
            "text/html": [
              "<html>\n",
              "<head><meta charset=\"utf-8\" /></head>\n",
              "<body>\n",
              "    <div>            <script src=\"https://cdnjs.cloudflare.com/ajax/libs/mathjax/2.7.5/MathJax.js?config=TeX-AMS-MML_SVG\"></script><script type=\"text/javascript\">if (window.MathJax && window.MathJax.Hub && window.MathJax.Hub.Config) {window.MathJax.Hub.Config({SVG: {font: \"STIX-Web\"}});}</script>                <script type=\"text/javascript\">window.PlotlyConfig = {MathJaxConfig: 'local'};</script>\n",
              "        <script charset=\"utf-8\" src=\"https://cdn.plot.ly/plotly-2.35.2.min.js\"></script>                <div id=\"3e60c30c-8031-435a-abbb-6191cb0eb221\" class=\"plotly-graph-div\" style=\"height:525px; width:100%;\"></div>            <script type=\"text/javascript\">                                    window.PLOTLYENV=window.PLOTLYENV || {};                                    if (document.getElementById(\"3e60c30c-8031-435a-abbb-6191cb0eb221\")) {                    Plotly.newPlot(                        \"3e60c30c-8031-435a-abbb-6191cb0eb221\",                        [{\"alignmentgroup\":\"True\",\"bingroup\":\"x\",\"hovertemplate\":\"readmitted=NO\\u003cbr\\u003eMedicinas_tomadas=%{x}\\u003cbr\\u003ecount=%{y}\\u003cextra\\u003e\\u003c\\u002fextra\\u003e\",\"legendgroup\":\"\",\"marker\":{\"color\":\"#636efa\",\"pattern\":{\"shape\":\"\"}},\"name\":\"\",\"nbinsx\":11,\"offsetgroup\":\"\",\"orientation\":\"v\",\"showlegend\":false,\"x\":[1,2,1,1,1,2,3,1,2,1,1,1,2,2,2,2,2,1,1,2,1,2,2,1,1,1,2,1,2,1,3,2,2,1,1,1,4,2,2,2,1,2,3,1,2,2,2,3,2,1,1,1,1,1,1,1,1,1,1,2,2,3,1,2,1,1,1,1,2,2,1,1,1,1,1,3,1,2,2,1,3,2,3,1,2,1,2,1,1,2,1,3,1,1,3,3,2,3,4,1,1,2,4,2,1,2,1,4,1,2,1,1,1,2,3,2,3,1,3,2,2,2,2,2,2,3,1,1,2,1,1,1,2,1,2,2,2,1,2,1,3,1,3,4,1,1,1,2,1,4,1,4,1,4,1,1,1,2,2,2,1,1,1,1,1,1,1,1,3,1,1,1,3,2,4,1,1,2,1,2,4,3,2,1,1,1,1,2,3,2,1,1,1,1,3,4,3,1,1,1,3,2,1,1,3,3,1,1,1,1,1,2,2,1,2,2,1,1,2,3,2,1,3,3,1,3,2,4,1,1,2,1,1,1,1,2,1,1,2,1,1,1,1,1,2,1,2,1,1,1,2,1,2,2,1,1,1,1,2,2,1,1,3,1,1,1,3,1,1,3,3,1,2,2,1,1,3,1,3,1,2,3,1,3,1,1,1,1,2,1,1,2,1,1,1,1,1,2,1,1,1,1,1,1,4,1,2,1,1,1,2,2,2,1,1,1,1,1,1,1,1,1,2,1,1,2,1,3,1,3,1,2,1,1,1,2,3,2,3,1,3,2,1,2,1,2,2,1,1,2,1,1,1,2,1,1,4,3,1,2,1,1,3,1,1,1,1,2,1,1,1,2,1,1,2,2,1,1,1,1,3,2,2,2,1,2,2,1,1,2,1,2,1,3,1,1,2,1,2,1,2,1,3,1,1,3,1,2,1,4,1,1,2,1,2,3,4,1,1,1,3,2,1,3,2,1,1,1,3,2,1,1,1,3,1,3,1,2,1,1,1,1,1,1,1,3,2,3,2,3,1,2,1,1,3,2,2,2,1,1,1,2,1,1,1,3,1,1,1,1,2,1,1,2,1,1,2,3,1,2,1,2,1,3,2,2,1,1,1,1,1,2,3,1,3,4,1,1,1,1,3,1,2,1,1,2,2,1,2,2,4,1,1,1,1,1,3,1,3,1,1,2,1,1,4,1,2,1,1,2,1,2,1,3,1,1,1,3,2,2,2,2,1,1,1,1,1,3,2,1,3,3,1,1,1,3,2,1,1,1,4,1,1,2,2,2,2,3,2,2,2,1,1,1,2,3,2,4,2,1,3,1,2,2,2,1,1,1,1,2,1,2,3,1,1,1,2,1,1,2,1,1,1,1,2,1,1,1,1,1,3,2,1,1,1,2,2,1,1,1,1,1,1,2,1,1,2,1,1,2,1,2,3,1,1,1,1,1,2,1,2,2,1,3,2,1,1,2,2,1,1,1,1,2,1,2,1,1,2,1,1,1,2,2,2,2,1,1,1,1,3,3,3,2,1,1,3,1,1,1,2,2,2,2,1,1,1,3,1,1,2,1,2,4,1,1,1,3,1,1,2,1,2,2,3,3,1,2,2,3,1,1,1,2,1,1,1,1,2,1,1,1,1,1,2,1,1,1,1,2,2,1,2,3,5,1,1,2,1,1,1,3,1,3,2,2,1,1,2,2,2,1,1,1,3,1,1,1,1,2,1,1,1,1,1,1,1,1,1,1,2,2,1,1,1,1,2,1,1,1,2,2,1,3,1,1,2,2,1,1,1,1,1,1,1,1,2,2,1,1,3,1,2,2,2,2,1,4,1,1,2,1,2,3,3,3,2,2,2,2,2,1,2,1,1,1,1,2,2,2,3,1,1,2,1,1,4,1,1,1,2,1,2,1,1,3,1,3,1,1,1,2,1,1,1,2,1,1,3,1,2,2,3,3,3,1,2,2,2,1,1,3,2,1,1,1,1,1,2,2,1,1,1,1,3,2,3,4,2,1,2,1,1,2,2,1,1,2,1,1,3,1,1,1,1,2,1,2,1,2,1,1,1,1,4,1,2,1,2,1,1,2,1,2,1,1,1,1,1,1,2,1,2,1,1,1,2,3,1,2,2,2,2,1,1,2,1,1,2,2,1,3,2,1,1,1,1,1,1,2,3,1,1,3,3,2,1,1,1,2,1,2,1,2,1,2,1,1,2,3,1,2,2,1,2,1,2,2,2,1,1,1,3,1,1,1,1,1,3,2,1,3,1,2,1,2,1,2,3,1,3,3,1,2,1,2,3,1,1,1,2,1,3,1,1,1,1,1,1,2,1,2,3,2,1,2,1,1,1,2,2,2,3,3,3,1,1,1,1,1,2,3,2,3,1,4,1,2,2,2,2,1,2,2,2,2,2,1,2,3,1,3,1,1,1,2,2,1,1,3,1,1,2,1,1,1,1,3,1,1,2,1,1,1,1,1,1,1,2,2,1,4,1,1,3,2,3,2,2,1,2,2,1,3,1,1,2,1,3,1,3,2,1,2,3,1,3,1,2,2,1,1,1,1,2,1,1,1,2,3,3,1,2,1,3,1,2,1,2,4,1,1,3,1,3,1,1,1,1,2,1,2,1,1,2,1,2,1,2,3,1,3,1,2,1,3,3,1,1,2,1,1,1,1,1,1,1,2,2,2,3,3,1,2,1,2,4,4,1,1,3,1,1,2,1,1,3,3,2,1,1,3,2,1,1,1,3,2,2,1,1,3,2,1,2,4,1,1,2,1,1,2,1,1,1,1,5,1,2,2,1,2,2,1,1,2,1,1,1,1,4,3,1,1,2,2,1,1,2,2,1,1,2,2,2,1,3,2,1,1,2,1,2,1,1,2,1,1,3,2,1,1,1,2,1,2,2,2,2,3,1,1,1,1,2,1,2,1,1,1,2,1,1,3,1,2,1,1,1,1,2,1,1,1,2,1,2,1,1,1,2,2,1,3,2,2,1,1,2,2,1,1,1,1,3,1,1,1,1,3,1,1,2,2,2,1,3,3,1,1,1,1,1,4,2,1,2,1,1,1,1,1,4,3,1,2,1,1,4,1,2,1,1,1,1,1,1,1,1,1,1,2,3,2,1,2,1,2,3,4,1,1,2,2,2,2,4,1,2,3,1,1,1,1,1,2,1,3,2,1,2,2,1,3,1,1,1,1,2,3,1,4,1,1,3,2,3,1,1,1,1,1,1,4,2,1,1,1,2,2,1,2,1,1,1,1,4,2,1,1,1,3,1,2,1,1,2,1,1,2,2,2,3,2,1,1,2,3,1,2,3,1,3,1,1,1,1,2,1,1,4,1,3,3,2,2,1,1,1,2,1,1,1,3,2,3,1,2,3,1,1,1,1,1,1,1,1,1,2,3,1,2,1,1,1,1,1,1,1,1,3,2,1,1,1,2,1,1,1,1,3,1,3,1,3,3,1,1,1,1,1,2,2,1,1,2,2,1,1,1,3,2,1,1,1,1,1,3,1,3,3,3,1,2,1,2,2,1,2,1,1,1,2,2,1,1,1,1,1,1,1,1,1,1,1,1,3,1,2,2,3,1,1,2,2,1,2,1,1,1,2,3,3,1,3,1,1,2,1,1,1,3,1,1,2,3,1,1,2,1,2,1,1,2,1,3,1,1,1,2,1,1,1,1,1,1,1,3,1,1,1,2,2,1,1,1,1,1,1,2,2,3,2,1,3,1,1,1,1,1,2,1,1,2,1,1,1,1,1,1,1,1,1,1,1,3,2,1,1,1,1,2,2,1,1,1,1,1,2,1,1,2,1,3,1,3,2,2,1,2,1,4,1,1,1,1,1,1,1,1,1,1,1,1,3,1,1,1,1,2,3,2,1,1,4,1,1,3,2,1,1,2,1,1,2,2,1,1,1,2,3,1,3,1,1,1,1,2,1,2,1,2,2,1,2,1,3,1,1,3,1,4,1,1,1,2,2,1,2,1,1,3,4,2,1,2,1,3,2,3,1,1,1,1,1,1,2,4,1,2,2,1,1,1,1,2,1,1,2,1,1,2,3,1,1,2,1,1,1,2,1,1,3,1,1,2,1,1,1,1,2,1,3,1,3,1,1,3,2,1,1,1,1,2,3,1,1,1,2,3,1,3,1,1,2,2,1,1,2,1,1,1,1,1,2,1,1,2,1,2,2,1,3,1,3,1,4,1,3,1,3,2,2,1,1,1,1,2,1,1,1,1,1,1,1,1,1,2,2,2,2,1,1,1,1,3,1,2,1,1,2,2,1,3,1,1,2,2,1,2,1,3,1,2,3,1,1,1,2,2,3,2,2,1,1,1,1,3,1,1,1,1,3,3,1,3,3,4,1,2,1,3,1,1,2,2,1,1,1,2,3,3,2,4,2,1,1,1,2,3,1,2,1,2,3,2,1,3,2,2,2,2,1,3,1,2,1,1,1,4,1,3,1,4,1,3,1,4,3,1,3,2,3,2,1,1,2,2,1,3,1,2,1,1,2,1,2,1,1,2,1,1,1,2,2,2,1,3,2,1,2,2,3,4,1,3,3,1,3,2,1,3,4,2,1,1,2,3,3,2,2,1,2,2,2,4,2,3,3,2,2,1,1,1,3,2,1,1,1,1,2,3,3,3,3,1,2,1,2,2,2,1,2,1,3,3,1,2,2,2,1,3,2,2,1,1,1,3,1,1,2,3,1,3,2,3,2,1,3,1,4,1,2,1,3,2,2,3,1,1,1,2,2,5,3,2,1,3,4,2,5,1,1,1,1,4,1,1,4,3,1,1,1,1,1,1,1,1,2,1,1,1,2,1,1,3,1,2,1,2,1,1,3,3,2,1,1,1,1,2,1,1,3,3,2,1,3,1,1,1,3,1,1,1,1,2,2,2,1,2,3,4,2,1,2,1,1,2,1,1,3,1,1,1,2,1,1,1,1,2,1,1,1,1,4,1,4,1,1,1,1,1,4,1,2,2,2,1,1,1,1,2,1,3,1,1,1,1,1,2,1,2,2,1,1,1,1,1,2,2,1,1,2,1,2,2,1,3,1,2,1,3,1,2,2,1,2,2,1,1,3,3,1,1,2,2,2,4,1,1,1,3,2,2,3,1,3,1,1,1,1,3,1,2,3,1,2,1,1,3,1,1,4,2,1,1,1,3,1,1,1,3,2,1,1,2,3,2,2,2,3,1,2,2,2,3,1,1,2,2,1,1,3,2,1,2,2,1,1,2,1,1,1,1,1,2,1,2,1,2,3,2,1,1,1,1,1,1,2,3,1,4,1,1,3,3,1,1,3,1,2,1,1,1,1,2,1,1,1,1,1,3,3,1,4,3,1,1,1,1,1,1,1,3,1,2,2,2,1,2,3,3,2,1,1,1,3,2,2,2,3,1,5,2,1,1,1,2,2,2,2,2,1,1,1,2,1,2,3,1,2,3,3,1,1,2,4,3,1,2,1,4,2,2,1,1,2,1,1,2,1,1,1,1,1,2,2,2,2,2,2,1,1,2,2,2,3,5,3,1,1,2,1,2,1,2,3,3,2,1,2,2,4,1,1,1,2,1,1,2,2,2,2,2,3,1,2,1,2,1,2,2,1,2,2,2,3,1,1,3,3,3,2,1,1,1,1,3,1,1,1,1,3,3,3,3,2,2,2,3,1,3,2,2,1,4,1,1,1,1,3,2,1,2,2,1,3,3,2,1,1,1,2,1,1,4,3,1,2,1,2,1,1,1,1,1,2,2,1,1,1,3,1,1,2,1,1,3,1,1,1,2,3,1,1,1,2,2,2,3,2,1,2,4,2,2,1,3,1,1,3,3,1,1,2,3,3,3,1,1,2,1,3,2,1,1,1,1,2,1,3,3,1,4,3,2,3,3,4,1,2,2,2,2,1,4,1,2,2,3,3,3,2,3,2,1,1,2,2,1,1,2,1,1,2,1,2,2,2,2,1,2,2,2,1,2,1,4,1,1,1,2,1,3,3,1,1,2,1,2,2,1,3,1,1,3,1,1,1,1,1,1,4,4,1,2,2,2,3,2,1,2,1,1,1,2,1,2,2,2,2,1,1,1,3,3,1,2,2,1,4,5,1,1,2,4,2,2,1,1,3,2,2,2,3,3,1,2,1,3,1,2,2,3,2,2,2,2,2,1,3,3,1,1,1,1,1,4,1,2,3,2,1,1,2,1,3,1,2,2,1,2,1,2,2,1,1,3,1,1,3,1,1,2,1,1,1,1,2,1,2,1,2,1,1,2,1,3,3,2,1,3,2,1,3,1,1,1,1,1,1,1,2,3,1,2,2,2,1,1,3,3,2,2,2,1,2,1,1,2,2,1,1,2,3,1,2,2,3,1,3,2,1,1,1,1,1,1,1,1,2,1,1,2,1,1,1,1,1,2,3,1,1,1,1,1,2,1,2,2,1,1,2,2,2,3,1,3,1,1,2,1,1,2,2,1,1,1,1,1,2,1,1,1,2,1,2,1,2,1,1,1,3,1,3,1,1,1,1,1,1,1,1,1,1,1,2,1,3,2,1,2,1,1,2,1,2,1,1,1,1,1,1,3,4,1,1,4,2,1,1,2,1,1,2,1,3,1,1,1,2,2,1,2,1,1,2,2,1,1,1,1,2,2,1,1,1,1,3,2,2,1,1,1,3,1,1,1,1,2,1,1,1,3,3,1,2,2,3,2,3,1,1,1,2,2,1,1,3,2,2,1,2,1,2,3,1,1,3,3,3,1,1,2,1,1,2,1,2,1,1,1,2,3,1,1,1,2,2,3,1,3,1,1,1,1,1,3,1,1,2,2,2,2,1,2,2,1,2,1,1,1,1,2,1,3,1,3,3,3,2,1,3,2,1,2,1,2,3,1,2,2,2,1,1,4,1,1,1,2,1,1,1,3,1,1,2,1,2,1,1,2,2,3,1,1,3,1,3,1,1,2,3,1,1,1,1,3,1,2,1,1,2,1,4,1,1,1,2,2,1,1,2,1,3,2,1,2,2,1,1,3,2,1,1,2,3,1,1,1,1,2,1,1,1,3,1,1,3,2,2,2,1,2,2,2,1,2,1,3,1,1,2,2,1,2,1,1,1,2,1,1,2,1,2,1,2,3,1,1,1,1,1,1,1,2,1,1,1,1,2,1,3,2,1,2,1,1,1,2,1,1,2,1,1,1,1,1,1,2,2,1,1,3,1,1,3,2,1,1,2,2,2,1,1,3,1,1,2,4,1,2,1,1,1,1,1,2,3,1,1,1,1,3,1,1,2,1,3,2,2,3,4,1,3,4,3,1,2,2,1,1,2,3,2,3,2,1,3,2,2,1,2,3,2,1,2,1,1,1,3,3,1,1,1,3,1,1,1,4,1,2,1,2,2,2,2,4,3,2,2,1,2,3,1,2,3,1,3,1,1,2,2,1,1,3,1,1,1,3,1,1,1,2,1,1,1,1,1,1,1,1,1,1,2,1,1,2,3,2,1,1,2,1,2,3,3,3,2,3,4,3,2,1,1,3,1,2,2,2,1,3,1,3,1,1,1,3,1,1,1,1,1,1,3,1,2,1,1,3,1,1,3,4,3,1,1,3,1,2,1,3,1,1,1,1,3,3,3,2,4,1,2,3,2,2,1,2,1,3,1,1,1,4,3,1,3,2,2,1,2,1,3,1,3,3,1,4,1,1,1,2,3,3,2,3,2,1,3,3,3,2,2,2,3,1,1,2,1,1,3,3,3,1,1,1,2,1,2,1,1,3,1,2,1,2,1,1,1,1,1,1,1,1,1,2,2,1,1,1,1,1,1,2,2,1,1,1,1,1,2,2,3,2,1,1,1,1,2,2,1,1,1,1,2,2,1,2,1,1,1,2,1,2,3,1,1,1,2,3,2,1,1,1,2,1,2,3,3,2,2,2,3,1,1,1,2,2,2,2,3,1,1,1,3,2,4,2,4,1,2,4,1,4,2,1,1,1,2,4,2,1,1,1,1,1,1,1,1,1,2,4,2,1,2,2,3,1,3,2,1,2,3,1,2,1,2,1,2,1,1,3,1,2,2,2,3,3,1,1,1,1,3,2,1,1,3,1,3,3,1,1,1,1,1,1,1,2,1,3,1,2,1,3,2,2,1,2,3,3,1,4,1,1,1,1,1,1,3,2,1,2,1,4,1,1,3,2,1,2,3,1,2,1,2,3,1,2,2,1,1,1,2,4,1,1,1,1,1,2,1,1,3,2,1,1,2,2,3,1,1,2,1,1,1,3,3,1,3,3,1,1,1,2,1,2,2,3,2,1,1,1,1,2,1,1,2,2,1,1,3,3,1,2,2,4,4,1,2,2,2,2,1,1,1,2,2,2,1,1,1,2,2,1,3,2,1,1,1,1,1,1,1,3,1,2,1,2,3,2,2,2,2,2,1,1,1,2,1,1,1,1,1,3,1,1,2,2,1,3,1,1,3,1,3,3,2,2,1,2,1,3,1,1,2,1,1,1,1,2,2,1,1,1,4,2,3,1,1,1,2,1,3,1,1,2,1,2,3,1,1,1,1,3,1,1,3,2,1,1,2,1,3,2,1,1,1,1,1,1,1,1,3,2,1,1,1,2,1,1,1,1,2,1,1,3,1,3,2,1,1,3,3,1,1,1,1,2,1,1,1,2,3,1,1,1,1,1,4,1,2,1,2,2,1,2,1,3,2,3,2,1,3,1,1,3,4,1,1,2,3,2,2,1,2,4,1,2,1,3,1,3,2,1,2,2,1,3,1,1,1,2,1,2,1,3,1,1,2,4,2,1,2,1,1,1,2,3,3,2,2,3,2,1,2,1,3,2,2,2,3,1,1,1,3,1,2,1,4,1,4,3,1,1,1,4,1,1,3,2,2,1,2,2,1,3,5,1,3,1,1,3,1,2,2,1,2,3,1,3,1,1,1,2,1,2,3,5,1,3,2,2,4,1,2,2,1,1,1,1,3,3,2,1,3,1,1,1,1,2,2,3,2,4,3,1,2,2,3,1,1,2,2,1,3,2,3,2,1,1,1,4,2,1,1,1,1,1,1,1,2,3,1,2,2,4,3,2,1,2,1,3,3,1,2,1,3,1,1,1,1,2,3,2,3,2,2,1,2,2,1,1,2,1,3,2,1,1,3,3,1,1,2,2,1,3,1,1,3,1,1,3,1,2,4,2,1,1,3,2,1,1,1,2,3,2,1,2,1,1,1,2,2,2,1,3,1,1,2,1,1,1,1,1,2,2,2,3,1,1,4,3,1,2,1,1,1,3,3,2,3,2,3,1,1,3,3,2,2,2,2,1,1,2,4,1,1,4,1,2,3,2,1,2,1,3,3,1,2,1,1,1,3,1,1,1,3,1,1,1,3,1,4,2,1,4,1,1,2,3,4,1,2,3,3,2,1,1,1,2,1,1,2,1,4,3,1,2,2,1,1,1,1,4,1,1,1,3,2,1,1,1,2,1,1,1,2,2,3,3,2,3,1,3,3,2,2,2,1,3,3,1,1,1,1,2,1,1,1,2,3,1,1,4,3,1,1,2,3,1,1,1,1,1,2,1,1,1,2,1,1,3,2,3,1,3,3,3,1,2,3,2,1,1,1,1,1,1,1,4,2,2,2,3,1,2,1,2,1,1,2,1,2,3,1,3,2,1,1,1,1,1,1,1,1,1,1,2,3,2,1,4,3,1,1,3,1,1,4,3,2,1,3,3,2,2,1,1,2,1,3,1,1,2,3,1,1,2,3,1,1,2,4,2,2,1,3,1,2,1,2,3,1,1,1,1,1,1,2,2,1,1,2,2,1,2,2,1,1,2,1,1,3,1,1,2,1,1,2,1,3,2,2,1,3,1,2,1,1,1,2,2,4,4,3,1,1,1,2,1,2,1,1,2,1,1,4,1,1,2,1,1,1,1,1,1,2,2,1,2,2,4,1,1,2,2,2,3,1,2,3,1,1,3,1,1,3,2,1,2,1,4,3,1,1,2,2,1,1,2,2,1,2,2,1,1,2,4,1,1,1,1,1,3,3,4,1,3,1,3,2,1,2,1,1,2,2,1,1,1,2,1,2,1,3,1,1,3,3,1,2,1,1,1,1,2,1,1,1,1,1,2,2,1,3,1,1,1,1,1,1,2,1,1,1,3,3,1,1,1,1,3,3,3,2,1,2,2,1,1,2,3,3,1,1,2,1,1,1,3,2,1,1,1,2,3,1,2,3,1,2,3,1,2,1,2,1,3,2,2,3,2,1,1,1,1,1,1,3,2,1,2,1,1,1,2,2,4,1,2,3,1,3,2,1,1,2,1,1,1,1,2,1,1,1,2,1,1,1,1,1,1,1,1,1,3,3,1,1,1,1,1,2,2,2,1,2,2,2,2,1,2,5,1,1,2,2,3,3,2,1,3,2,2,2,1,1,3,2,2,3,1,3,1,3,2,2,2,1,1,4,5,2,3,2,2,2,1,1,1,1,1,2,1,2,1,1,5,1,1,1,1,1,1,1,1,1,1,3,1,2,2,1,1,1,1,1,3,1,1,2,1,1,1,1,1,1,1,2,1,1,2,1,2,1,1,1,2,3,1,2,2,2,1,3,2,2,1,2,3,1,1,1,1,1,1,4,1,2,3,3,3,3,3,1,2,2,2,2,2,3,2,2,3,2,1,1,1,1,1,1,1,1,1,2,1,1,2,1,2,1,1,3,1,2,1,3,1,1,3,2,1,3,2,1,1,2,1,1,1,1,1,1,1,2,2],\"xaxis\":\"x\",\"yaxis\":\"y\",\"type\":\"histogram\"},{\"alignmentgroup\":\"True\",\"bingroup\":\"x\",\"hovertemplate\":\"readmitted=\\u003e30\\u003cbr\\u003eMedicinas_tomadas=%{x}\\u003cbr\\u003ecount=%{y}\\u003cextra\\u003e\\u003c\\u002fextra\\u003e\",\"legendgroup\":\"\",\"marker\":{\"color\":\"#636efa\",\"pattern\":{\"shape\":\"\"}},\"name\":\"\",\"nbinsx\":11,\"offsetgroup\":\"\",\"orientation\":\"v\",\"showlegend\":false,\"x\":[4,2,1,1,1,1,1,1,2,2,1,1,1,1,3,2,2,1,2,2,1,1,1,2,2,1,1,4,1,2,3,2,1,2,1,2,1,2,2,2,2,1,1,2,1,1,1,1,3,1,2,1,1,2,1,2,2,1,1,1,2,3,3,1,2,3,3,2,1,2,1,2,1,1,1,2,1,1,2,1,1,1,2,1,1,1,3,1,1,1,1,2,1,1,2,1,1,1,2,2,1,1,2,2,1,1,3,1,2,1,1,1,1,2,4,3,1,1,1,2,2,3,2,1,2,2,2,1,1,1,1,1,3,3,1,1,1,1,1,2,2,3,3,1,1,1,1,1,1,1,2,1,3,1,2,1,1,1,1,2,1,2,1,1,1,1,1,3,1,1,2,2,2,2,1,1,1,1,1,1,1,3,2,2,1,1,1,1,1,2,2,2,1,1,1,1,1,2,2,1,2,1,3,1,1,1,2,1,1,1,3,1,1,2,2,2,1,2,1,1,1,1,2,3,3,1,2,1,1,1,1,1,1,1,2,1,3,2,1,1,1,1,1,2,2,2,3,3,1,1,1,1,1,2,1,1,1,3,1,1,3,1,1,1,2,1,2,1,1,3,2,2,2,1,4,3,3,3,2,2,2,1,3,1,1,1,2,2,1,2,1,3,1,1,1,1,1,1,2,1,2,1,1,3,1,1,2,3,2,1,2,2,1,1,1,1,1,1,2,2,1,1,1,1,1,1,2,1,2,1,2,1,1,1,1,1,1,1,2,3,2,3,1,3,1,2,1,1,1,1,1,2,1,3,4,1,1,3,1,1,1,1,2,2,1,2,2,1,1,2,1,1,1,1,1,1,2,1,1,1,2,1,1,2,2,1,2,2,2,1,1,1,1,1,1,1,2,1,2,2,1,3,3,1,1,2,1,3,1,1,2,4,1,1,1,4,2,3,2,1,3,2,1,1,1,1,1,2,1,1,1,1,1,1,2,1,1,1,1,1,1,1,1,2,1,1,1,3,1,2,2,1,2,2,2,1,1,2,1,2,1,1,3,3,2,3,1,1,1,1,4,2,1,2,1,1,3,1,2,1,1,2,1,1,2,1,1,1,1,1,3,3,1,1,2,1,1,1,1,1,1,1,1,1,2,1,1,1,1,4,1,2,1,2,3,3,2,3,2,1,3,2,1,2,1,3,1,1,3,1,1,2,1,1,1,1,1,1,1,2,1,1,1,3,1,3,2,1,2,1,1,2,2,1,1,1,3,1,1,2,2,1,1,3,2,2,1,2,2,1,1,1,2,1,1,1,1,2,1,1,1,3,1,2,1,1,1,1,4,2,1,1,1,1,1,2,2,2,2,2,3,1,1,1,2,2,3,2,1,1,1,1,1,1,2,1,1,3,1,1,3,1,1,3,2,1,1,4,2,2,1,2,2,1,2,4,1,1,3,3,1,2,2,1,2,2,1,2,4,1,1,1,1,2,1,1,1,2,1,2,1,2,1,1,2,3,1,3,2,3,3,1,2,1,4,3,2,1,2,1,4,4,2,1,2,2,4,4,3,3,1,2,1,1,1,2,1,2,3,3,2,1,1,2,1,2,1,3,1,1,2,2,3,2,3,2,1,3,1,2,1,3,1,2,1,3,1,2,3,1,1,2,2,2,1,4,3,1,3,1,1,1,2,1,1,3,3,3,4,1,2,3,1,2,1,2,1,2,1,3,2,1,1,1,2,1,2,2,2,2,1,1,2,1,2,2,1,3,3,3,1,1,1,1,3,1,1,1,1,1,1,2,1,2,2,1,3,2,1,2,2,1,2,1,1,2,1,3,1,1,1,4,1,3,1,2,3,1,4,4,3,1,2,2,4,3,1,1,1,1,3,2,2,1,1,1,1,1,2,4,1,2,1,3,1,1,2,2,5,2,1,2,3,3,2,1,1,3,4,1,1,1,2,3,2,2,2,1,1,1,3,1,2,1,2,1,1,1,1,1,2,3,2,1,1,1,3,3,1,2,3,1,1,1,1,2,1,3,1,2,2,1,2,4,1,2,2,2,2,3,2,1,2,2,1,2,1,1,3,1,2,2,1,2,1,1,1,1,3,1,2,3,1,3,1,2,1,2,2,2,3,1,2,1,2,1,3,1,3,3,1,1,1,1,2,1,2,3,2,1,1,4,1,2,1,3,4,1,1,3,3,2,1,1,3,1,1,4,2,1,2,1,1,3,1,2,1,1,2,1,1,1,3,1,2,2,1,2,1,1,1,2,1,2,2,3,1,2,1,1,1,2,1,3,2,2,1,2,3,2,2,3,2,2,1,1,3,1,1,1,5,1,1,1,1,1,1,3,1,3,1,2,2,1,1,1,1,1,1,2,3,2,2,1,2,3,1,1,3,2,2,2,4,1,2,4,1,3,4,1,1,2,1,1,1,1,1,1,1,2,1,1,1,1,1,1,1,2,3,1,1,2,2,1,2,1,2,1,3,3,2,1,1,2,2,1,2,1,1,1,2,2,1,2,2,1,3,2,2,3,1,2,2,3,1,1,1,1,2,1,3,1,3,1,1,1,1,1,1,2,3,1,2,1,2,2,2,1,1,2,1,2,1,1,1,1,1,3,1,1,1,1,1,4,2,1,1,2,1,1,2,3,3,4,1,1,1,1,2,1,3,1,1,2,2,4,1,3,1,1,1,1,1,1,1,3,1,4,1,1,1,2,1,1,1,2,1,3,2,1,2,1,1,4,1,1,1,1,1,3,1,1,2,2,2,1,2,3,1,1,2,2,1,3,2,1,1,2,1,2,1,1,1,1,3,2,3,1,3,1,2,3,1,2,1,3,3,3,2,2,3,1,1,2,1,1,2,3,1,2,1,1,4,2,1,1,2,2,1,2,1,2,3,1,1,1,2,4,1,1,2,2,2,1,2,1,2,1,2,2,2,2,2,2,3,4,1,1,1,2,1,2,3,1,1,1,3,4,1,1,2,2,1,1,1,1,3,3,1,1,2,1,4,1,1,2,1,1,1,1,1,1,1,2,1,3,1,1,1,1,3,1,1,1,2,1,1,1,2,2,1,2,1,1,1,2,4,1,1,1,1,3,2,1,1,1,3,1,1,3,2,3,3,2,1,2,1,1,3,1,2,1,1,4,2,1,1,2,1,1,2,1,2,1,2,2,3,1,1,3,1,1,1,3,1,1,1,3,1,2,2,2,3,4,2,1,3,1,1,2,1,3,2,3,1,3,1,2,2,2,1,2,2,2,3,1,1,2,1,2,4,1,1,1,1,1,3,3,2,1,1,4,2,2,2,2,2,1,1,3,2,2,2,2,1,1,2,1,1,4,2,1,1,1,1,1,3,3,3,1,1,2,2,2,3,2,1,2,1,1,2,1,1,1,1,2,3,2,1,1,1,1,1,1,2,1,3,2,3,2,3,1,1,1,1,3,1,1,2,1,1,1,1,1,1,1,1,1,1,1,2,1,1,2,2,2,1,1,1,2,3,1,1,1,1,3,2,2,1,1,1,2,3,3,1,1,2,2,2,1,1,2,1,2,1,2,1,1,1,1,2,1,2,2,1,2,1,3,2,2,1,3,1,1,1,1,1,1,2,3,1,3,1,1,2,1,2,1,1,1,1,2,1,2,1,1,1,1,1,1,1,1,1,1,1,2,3,3,2,2,3,4,2,1,2,2,2,1,1,3,2,2,1,1,2,2,1,1,1,1,1,1,2,1,2,2,3,2,3,2,1,1,1,1,1,1,1,4,1,2,1,2,1,1,1,3,1,2,2,1,2,2,1,1,1,2,1,2,2,1,3,1,1,1,1,2,1,1,1,4,3,6,1,1,2,1,2,2,1,2,2,2,1,2,1,2,1,1,1,3,1,3,2,1,4,3,1,1,4,1,2,2,1,1,3,1,1,1,1,3,2,1,3,1,2,2,1,4,3,1,1,1,1,4,1,2,1,1,1,2,2,1,1,3,2,2,2,4,1,2,2,1,3,1,3,1,3,1,1,2,1,1,1,3,1,5,1,1,2,1,1,1,2,2,2,1,1,1,1,1,1,1,1,1,2,2,1,2,2,1,1,2,3,2,3,3,3,1,2,2,3,1,1,2,2,3,4,1,3,2,4,1,1,2,3,1,1,1,3,3,1,2,1,3,2,2,1,2,2,3,2,2,1,3,1,3,1,1,2,1,1,1,3,1,3,1,1,2,1,1,2,1,3,1,2,1,3,1,2,1,1,2,2,1,1,1,4,1,1,1,1,1,2,2,1,1,2,1,1,1,3,1,2,1,1,2,1,2,4,1,1,1,2,1,2,1,2,2,4,2,4,2,2,2,2,3,1,1,1,2,3,1,3,2,1,1,3,4,3,2,3,2,2,1,1,3,1,2,1,1,1,1,1,3,3,3,3,1,2,1,1,3,1,2,4,2,2,3,2,2,1,1,2,2,1,1,2,1,2,1,2,1,1,1,2,1,3,1,1,5,2,2,2,1,2,3,4,1,1,1,3,1,1,5,2,1,2,1,4,1,2,3,2,1,1,3,3,1,3,2,3,2,2,1,1,2,2,2,1,1,1,2,1,1,1,3,1,2,1,2,1,1,1,1,3,1,3,2,1,2,3,2,2,1,1,2,1,2,2,4,3,1,1,1,2,2,1,1,1,3,2,2,3,3,1,1,1,3,1,1,3,1,1,1,1,3,3,2,1,2,1,2,1,2,3,1,1,1,3,2,1,2,2,1,1,1,1,3,2,1,3,3,2,3,2,2,3,1,2,1,2,1,1,2,2,2,1,3,3,1,1,1,2,2,1,2,1,2,3,1,1,2,2,1,2,1,2,2,1,1,2,1,4,1,2,2,2,1,2,1,2,2,3,1,1,1,2,2,2,2,2,1,1,1,1,1,1,2,2,2,1,1,1,2,1,1,2,3,2,2,1,1,4,1,2,1,4,1,1,3,1,1,3,3,2,2,1,2,2,1,1,1,2,2,1,3,2,1,2,1,1,1,2,1,2,1,3,1,3,2,2,1,1,3,1,1,2,2,3,3,1,3,1,2,1,3,1,2,3,1,2,1,2,2,1,1,1,2,1,1,2,1,2,2,1,1,1,3,3,2,2,1,2,1,1,1,3,2,2,1,2,3,1,1,2,1,3,2,2,2,2,1,1,1,1,3,1,2,2,1,1,1,2,1,2,1,1,1,2,1,2,1,1,2,1,3,3,1,4,3,1,1,1,1,4,2,1,2,1,2,2,1,1,2,1,1,2,2,2,1,2,1,4,2,2,3,1,2,1,1,1,1,1,1,1,1,1,3,3,2,1,1,1,1,1,3,1,4,1,1,1,1,2,1,1,2,1,2,1,2,1,1,1,2,3,1,1,2,1,2,1,1,1,2,2,4,1,1,3,1,2,1,1,1,2,2,1,2,1,1,2,2,2,1,2,1,1,1,3,2,1,1,2,1,1,1,1,4,2,1,1,2,1,2,1,2,1,1,1,2,1,2,2,1,3,2,1,3,1,1,2,2,2,1,5,2,1,2,1,1,3],\"xaxis\":\"x2\",\"yaxis\":\"y2\",\"type\":\"histogram\"},{\"alignmentgroup\":\"True\",\"bingroup\":\"x\",\"hovertemplate\":\"readmitted=\\u003c30\\u003cbr\\u003eMedicinas_tomadas=%{x}\\u003cbr\\u003ecount=%{y}\\u003cextra\\u003e\\u003c\\u002fextra\\u003e\",\"legendgroup\":\"\",\"marker\":{\"color\":\"#636efa\",\"pattern\":{\"shape\":\"\"}},\"name\":\"\",\"nbinsx\":11,\"offsetgroup\":\"\",\"orientation\":\"v\",\"showlegend\":false,\"x\":[1,1,2,3,1,1,2,1,1,1,1,1,1,2,1,3,1,1,2,1,2,1,1,1,2,1,3,2,1,4,1,1,1,1,3,1,2,1,1,2,4,2,3,1,1,1,1,1,3,2,1,2,1,1,1,2,1,2,1,2,1,1,1,3,1,2,2,3,3,2,2,2,1,3,1,1,1,1,2,2,2,1,1,2,1,1,3,2,3,2,1,1,4,1,2,3,1,1,1,4,3,1,1,1,4,2,1,1,1,1,3,2,1,3,1,1,2,1,3,1,1,1,1,1,2,2,1,2,4,1,1,1,1,2,1,1,1,2,1,1,1,1,1,1,6,1,2,3,1,1,2,1,1,1,1,2,2,1,1,1,1,1,1,1,1,3,2,1,1,1,2,1,2,3,3,2,3,1,1,1,1,2,1,3,3,2,1,2,2,2,2,1,1,3,1,1,1,1,2,2,2,4,1,3,2,1,1,1,1,1,2,2,1,1,2,4,4,1,3,3,1,1,1,1,1,1,1,2,1,1,1,1,1,1,1,3,1,1,3,2,1,1,2,1,1,3,1,1,1,2,1,1,1,2,1,2,3,2,2,1,2,2,1,1,3,4,4,2,1,2,1,1,2,2,1,2,2,1,1,3,1,2,2,3,1,2,1,2,2,3,2,1,1,2,2,3,1,1,1,2,2,1,2,1,2,3,2,1,2,1,2,1,1,2,2,1,2,3,3,2,2,1,2,1,1,2,3,1,2,2,2,1,1,2,3,1,1,3,2,1,1,2,2,1,2,1,1,1,2,3,1,1,1,2,1,3,3,1,4,4,1,2,2,1,2,1,2,1,2,2,1,3,1,4,2,3,1,2,1,3,1,1,2,1,1,2,4,2,1,2,3,4,1,3,2,2,1,3,1,3,1,2,2,1,1,1,2,2,2,2,1,1,1,2,1,3,1,3,1,2,1,2,3,1,2,1,1,2,1,3,1,1,1,2,1,1,3,3,3,1,1,4,3,1,3,1,1,2,3,1,2,2,1,2,1,1,1,3,1,2,1,1,1,1,1,2,2,1,2,1,2,2,1,2,1,4,1,1,1,1,1,1,1,1,1,3,1,2,2,1,3,2,1,1,3,2,1,1,3,1,1,2,2,1,3,1,3,2,2,1,1,2,3,1,2,2,3,1,2,4,1,2,2,1,1,2,1,3,1,2,2,1,1,2,2,1,1,2,2,3,3,1,3,1,2,1,3,1,4,1,3,1,1,3,1,1,1,1,4,1,2,1,1,2,1,4,1,1,2,1,2,3,1,1,3,3,2,1,1,1,2,1,2,1,2,2,1,2,3,1,1,4,1,2,1,1,2,3,1,1,1,1,2,1,2,2,1,2,2,2,2,2,2,2,2,2,1,1,2,1,2,1,1,1,2,1,3,3,1,1,2,2,3,1,1,1,3,1,1,1,1,2,1,1,3,1,1,3,1,3,2,2,1,1,1,3,1,2,1,3,3,2,3,1,1,2,1,1,1],\"xaxis\":\"x3\",\"yaxis\":\"y3\",\"type\":\"histogram\"}],                        {\"template\":{\"data\":{\"histogram2dcontour\":[{\"type\":\"histogram2dcontour\",\"colorbar\":{\"outlinewidth\":0,\"ticks\":\"\"},\"colorscale\":[[0.0,\"#0d0887\"],[0.1111111111111111,\"#46039f\"],[0.2222222222222222,\"#7201a8\"],[0.3333333333333333,\"#9c179e\"],[0.4444444444444444,\"#bd3786\"],[0.5555555555555556,\"#d8576b\"],[0.6666666666666666,\"#ed7953\"],[0.7777777777777778,\"#fb9f3a\"],[0.8888888888888888,\"#fdca26\"],[1.0,\"#f0f921\"]]}],\"choropleth\":[{\"type\":\"choropleth\",\"colorbar\":{\"outlinewidth\":0,\"ticks\":\"\"}}],\"histogram2d\":[{\"type\":\"histogram2d\",\"colorbar\":{\"outlinewidth\":0,\"ticks\":\"\"},\"colorscale\":[[0.0,\"#0d0887\"],[0.1111111111111111,\"#46039f\"],[0.2222222222222222,\"#7201a8\"],[0.3333333333333333,\"#9c179e\"],[0.4444444444444444,\"#bd3786\"],[0.5555555555555556,\"#d8576b\"],[0.6666666666666666,\"#ed7953\"],[0.7777777777777778,\"#fb9f3a\"],[0.8888888888888888,\"#fdca26\"],[1.0,\"#f0f921\"]]}],\"heatmap\":[{\"type\":\"heatmap\",\"colorbar\":{\"outlinewidth\":0,\"ticks\":\"\"},\"colorscale\":[[0.0,\"#0d0887\"],[0.1111111111111111,\"#46039f\"],[0.2222222222222222,\"#7201a8\"],[0.3333333333333333,\"#9c179e\"],[0.4444444444444444,\"#bd3786\"],[0.5555555555555556,\"#d8576b\"],[0.6666666666666666,\"#ed7953\"],[0.7777777777777778,\"#fb9f3a\"],[0.8888888888888888,\"#fdca26\"],[1.0,\"#f0f921\"]]}],\"heatmapgl\":[{\"type\":\"heatmapgl\",\"colorbar\":{\"outlinewidth\":0,\"ticks\":\"\"},\"colorscale\":[[0.0,\"#0d0887\"],[0.1111111111111111,\"#46039f\"],[0.2222222222222222,\"#7201a8\"],[0.3333333333333333,\"#9c179e\"],[0.4444444444444444,\"#bd3786\"],[0.5555555555555556,\"#d8576b\"],[0.6666666666666666,\"#ed7953\"],[0.7777777777777778,\"#fb9f3a\"],[0.8888888888888888,\"#fdca26\"],[1.0,\"#f0f921\"]]}],\"contourcarpet\":[{\"type\":\"contourcarpet\",\"colorbar\":{\"outlinewidth\":0,\"ticks\":\"\"}}],\"contour\":[{\"type\":\"contour\",\"colorbar\":{\"outlinewidth\":0,\"ticks\":\"\"},\"colorscale\":[[0.0,\"#0d0887\"],[0.1111111111111111,\"#46039f\"],[0.2222222222222222,\"#7201a8\"],[0.3333333333333333,\"#9c179e\"],[0.4444444444444444,\"#bd3786\"],[0.5555555555555556,\"#d8576b\"],[0.6666666666666666,\"#ed7953\"],[0.7777777777777778,\"#fb9f3a\"],[0.8888888888888888,\"#fdca26\"],[1.0,\"#f0f921\"]]}],\"surface\":[{\"type\":\"surface\",\"colorbar\":{\"outlinewidth\":0,\"ticks\":\"\"},\"colorscale\":[[0.0,\"#0d0887\"],[0.1111111111111111,\"#46039f\"],[0.2222222222222222,\"#7201a8\"],[0.3333333333333333,\"#9c179e\"],[0.4444444444444444,\"#bd3786\"],[0.5555555555555556,\"#d8576b\"],[0.6666666666666666,\"#ed7953\"],[0.7777777777777778,\"#fb9f3a\"],[0.8888888888888888,\"#fdca26\"],[1.0,\"#f0f921\"]]}],\"mesh3d\":[{\"type\":\"mesh3d\",\"colorbar\":{\"outlinewidth\":0,\"ticks\":\"\"}}],\"scatter\":[{\"fillpattern\":{\"fillmode\":\"overlay\",\"size\":10,\"solidity\":0.2},\"type\":\"scatter\"}],\"parcoords\":[{\"type\":\"parcoords\",\"line\":{\"colorbar\":{\"outlinewidth\":0,\"ticks\":\"\"}}}],\"scatterpolargl\":[{\"type\":\"scatterpolargl\",\"marker\":{\"colorbar\":{\"outlinewidth\":0,\"ticks\":\"\"}}}],\"bar\":[{\"error_x\":{\"color\":\"#2a3f5f\"},\"error_y\":{\"color\":\"#2a3f5f\"},\"marker\":{\"line\":{\"color\":\"#E5ECF6\",\"width\":0.5},\"pattern\":{\"fillmode\":\"overlay\",\"size\":10,\"solidity\":0.2}},\"type\":\"bar\"}],\"scattergeo\":[{\"type\":\"scattergeo\",\"marker\":{\"colorbar\":{\"outlinewidth\":0,\"ticks\":\"\"}}}],\"scatterpolar\":[{\"type\":\"scatterpolar\",\"marker\":{\"colorbar\":{\"outlinewidth\":0,\"ticks\":\"\"}}}],\"histogram\":[{\"marker\":{\"pattern\":{\"fillmode\":\"overlay\",\"size\":10,\"solidity\":0.2}},\"type\":\"histogram\"}],\"scattergl\":[{\"type\":\"scattergl\",\"marker\":{\"colorbar\":{\"outlinewidth\":0,\"ticks\":\"\"}}}],\"scatter3d\":[{\"type\":\"scatter3d\",\"line\":{\"colorbar\":{\"outlinewidth\":0,\"ticks\":\"\"}},\"marker\":{\"colorbar\":{\"outlinewidth\":0,\"ticks\":\"\"}}}],\"scattermapbox\":[{\"type\":\"scattermapbox\",\"marker\":{\"colorbar\":{\"outlinewidth\":0,\"ticks\":\"\"}}}],\"scatterternary\":[{\"type\":\"scatterternary\",\"marker\":{\"colorbar\":{\"outlinewidth\":0,\"ticks\":\"\"}}}],\"scattercarpet\":[{\"type\":\"scattercarpet\",\"marker\":{\"colorbar\":{\"outlinewidth\":0,\"ticks\":\"\"}}}],\"carpet\":[{\"aaxis\":{\"endlinecolor\":\"#2a3f5f\",\"gridcolor\":\"white\",\"linecolor\":\"white\",\"minorgridcolor\":\"white\",\"startlinecolor\":\"#2a3f5f\"},\"baxis\":{\"endlinecolor\":\"#2a3f5f\",\"gridcolor\":\"white\",\"linecolor\":\"white\",\"minorgridcolor\":\"white\",\"startlinecolor\":\"#2a3f5f\"},\"type\":\"carpet\"}],\"table\":[{\"cells\":{\"fill\":{\"color\":\"#EBF0F8\"},\"line\":{\"color\":\"white\"}},\"header\":{\"fill\":{\"color\":\"#C8D4E3\"},\"line\":{\"color\":\"white\"}},\"type\":\"table\"}],\"barpolar\":[{\"marker\":{\"line\":{\"color\":\"#E5ECF6\",\"width\":0.5},\"pattern\":{\"fillmode\":\"overlay\",\"size\":10,\"solidity\":0.2}},\"type\":\"barpolar\"}],\"pie\":[{\"automargin\":true,\"type\":\"pie\"}]},\"layout\":{\"autotypenumbers\":\"strict\",\"colorway\":[\"#636efa\",\"#EF553B\",\"#00cc96\",\"#ab63fa\",\"#FFA15A\",\"#19d3f3\",\"#FF6692\",\"#B6E880\",\"#FF97FF\",\"#FECB52\"],\"font\":{\"color\":\"#2a3f5f\"},\"hovermode\":\"closest\",\"hoverlabel\":{\"align\":\"left\"},\"paper_bgcolor\":\"white\",\"plot_bgcolor\":\"#E5ECF6\",\"polar\":{\"bgcolor\":\"#E5ECF6\",\"angularaxis\":{\"gridcolor\":\"white\",\"linecolor\":\"white\",\"ticks\":\"\"},\"radialaxis\":{\"gridcolor\":\"white\",\"linecolor\":\"white\",\"ticks\":\"\"}},\"ternary\":{\"bgcolor\":\"#E5ECF6\",\"aaxis\":{\"gridcolor\":\"white\",\"linecolor\":\"white\",\"ticks\":\"\"},\"baxis\":{\"gridcolor\":\"white\",\"linecolor\":\"white\",\"ticks\":\"\"},\"caxis\":{\"gridcolor\":\"white\",\"linecolor\":\"white\",\"ticks\":\"\"}},\"coloraxis\":{\"colorbar\":{\"outlinewidth\":0,\"ticks\":\"\"}},\"colorscale\":{\"sequential\":[[0.0,\"#0d0887\"],[0.1111111111111111,\"#46039f\"],[0.2222222222222222,\"#7201a8\"],[0.3333333333333333,\"#9c179e\"],[0.4444444444444444,\"#bd3786\"],[0.5555555555555556,\"#d8576b\"],[0.6666666666666666,\"#ed7953\"],[0.7777777777777778,\"#fb9f3a\"],[0.8888888888888888,\"#fdca26\"],[1.0,\"#f0f921\"]],\"sequentialminus\":[[0.0,\"#0d0887\"],[0.1111111111111111,\"#46039f\"],[0.2222222222222222,\"#7201a8\"],[0.3333333333333333,\"#9c179e\"],[0.4444444444444444,\"#bd3786\"],[0.5555555555555556,\"#d8576b\"],[0.6666666666666666,\"#ed7953\"],[0.7777777777777778,\"#fb9f3a\"],[0.8888888888888888,\"#fdca26\"],[1.0,\"#f0f921\"]],\"diverging\":[[0,\"#8e0152\"],[0.1,\"#c51b7d\"],[0.2,\"#de77ae\"],[0.3,\"#f1b6da\"],[0.4,\"#fde0ef\"],[0.5,\"#f7f7f7\"],[0.6,\"#e6f5d0\"],[0.7,\"#b8e186\"],[0.8,\"#7fbc41\"],[0.9,\"#4d9221\"],[1,\"#276419\"]]},\"xaxis\":{\"gridcolor\":\"white\",\"linecolor\":\"white\",\"ticks\":\"\",\"title\":{\"standoff\":15},\"zerolinecolor\":\"white\",\"automargin\":true,\"zerolinewidth\":2},\"yaxis\":{\"gridcolor\":\"white\",\"linecolor\":\"white\",\"ticks\":\"\",\"title\":{\"standoff\":15},\"zerolinecolor\":\"white\",\"automargin\":true,\"zerolinewidth\":2},\"scene\":{\"xaxis\":{\"backgroundcolor\":\"#E5ECF6\",\"gridcolor\":\"white\",\"linecolor\":\"white\",\"showbackground\":true,\"ticks\":\"\",\"zerolinecolor\":\"white\",\"gridwidth\":2},\"yaxis\":{\"backgroundcolor\":\"#E5ECF6\",\"gridcolor\":\"white\",\"linecolor\":\"white\",\"showbackground\":true,\"ticks\":\"\",\"zerolinecolor\":\"white\",\"gridwidth\":2},\"zaxis\":{\"backgroundcolor\":\"#E5ECF6\",\"gridcolor\":\"white\",\"linecolor\":\"white\",\"showbackground\":true,\"ticks\":\"\",\"zerolinecolor\":\"white\",\"gridwidth\":2}},\"shapedefaults\":{\"line\":{\"color\":\"#2a3f5f\"}},\"annotationdefaults\":{\"arrowcolor\":\"#2a3f5f\",\"arrowhead\":0,\"arrowwidth\":1},\"geo\":{\"bgcolor\":\"white\",\"landcolor\":\"#E5ECF6\",\"subunitcolor\":\"white\",\"showland\":true,\"showlakes\":true,\"lakecolor\":\"white\"},\"title\":{\"x\":0.05},\"mapbox\":{\"style\":\"light\"}}},\"xaxis\":{\"anchor\":\"y\",\"domain\":[0.0,0.31999999999999995],\"title\":{\"text\":\"Medicinas_tomadas\"}},\"yaxis\":{\"anchor\":\"x\",\"domain\":[0.0,1.0],\"title\":{\"text\":\"count\"}},\"xaxis2\":{\"anchor\":\"y2\",\"domain\":[0.33999999999999997,0.6599999999999999],\"matches\":\"x\",\"title\":{\"text\":\"Medicinas_tomadas\"}},\"yaxis2\":{\"anchor\":\"x2\",\"domain\":[0.0,1.0],\"matches\":\"y\",\"showticklabels\":false},\"xaxis3\":{\"anchor\":\"y3\",\"domain\":[0.6799999999999999,0.9999999999999999],\"matches\":\"x\",\"title\":{\"text\":\"Medicinas_tomadas\"}},\"yaxis3\":{\"anchor\":\"x3\",\"domain\":[0.0,1.0],\"matches\":\"y\",\"showticklabels\":false},\"annotations\":[{\"font\":{},\"showarrow\":false,\"text\":\"readmitted=NO\",\"x\":0.15999999999999998,\"xanchor\":\"center\",\"xref\":\"paper\",\"y\":1.0,\"yanchor\":\"bottom\",\"yref\":\"paper\"},{\"font\":{},\"showarrow\":false,\"text\":\"readmitted=\\u003e30\",\"x\":0.49999999999999994,\"xanchor\":\"center\",\"xref\":\"paper\",\"y\":1.0,\"yanchor\":\"bottom\",\"yref\":\"paper\"},{\"font\":{},\"showarrow\":false,\"text\":\"readmitted=\\u003c30\",\"x\":0.8399999999999999,\"xanchor\":\"center\",\"xref\":\"paper\",\"y\":1.0,\"yanchor\":\"bottom\",\"yref\":\"paper\"}],\"legend\":{\"tracegroupgap\":0},\"title\":{\"text\":\"Distribuci\\u00f3n del n\\u00famero de medicinas tomadas al tiempo\"},\"barmode\":\"relative\"},                        {\"responsive\": true}                    ).then(function(){\n",
              "                            \n",
              "var gd = document.getElementById('3e60c30c-8031-435a-abbb-6191cb0eb221');\n",
              "var x = new MutationObserver(function (mutations, observer) {{\n",
              "        var display = window.getComputedStyle(gd).display;\n",
              "        if (!display || display === 'none') {{\n",
              "            console.log([gd, 'removed!']);\n",
              "            Plotly.purge(gd);\n",
              "            observer.disconnect();\n",
              "        }}\n",
              "}});\n",
              "\n",
              "// Listen for the removal of the full notebook cells\n",
              "var notebookContainer = gd.closest('#notebook-container');\n",
              "if (notebookContainer) {{\n",
              "    x.observe(notebookContainer, {childList: true});\n",
              "}}\n",
              "\n",
              "// Listen for the clearing of the current output cell\n",
              "var outputEl = gd.closest('.output');\n",
              "if (outputEl) {{\n",
              "    x.observe(outputEl, {childList: true});\n",
              "}}\n",
              "\n",
              "                        })                };                            </script>        </div>\n",
              "</body>\n",
              "</html>"
            ]
          },
          "metadata": {}
        }
      ]
    },
    {
      "cell_type": "markdown",
      "source": [
        "##### Grupo 2.1"
      ],
      "metadata": {
        "id": "ZEW404smKJEJ"
      }
    },
    {
      "cell_type": "code",
      "source": [
        "med_group2_1 = med_group2[(med_group2['Medicinas_tomadas'] == 1) &\n",
        "                              (med_group2['readmitted'] == 'NO')]\n",
        "\n",
        "med_group2_1['Columna_Medicina'] = med_group2_1.apply(find_columns_with_non_no_values, axis=1)\n",
        "med_group2_1['Columna_Medicina'].value_counts()"
      ],
      "metadata": {
        "id": "suypDjWv51sH",
        "colab": {
          "base_uri": "https://localhost:8080/",
          "height": 492
        },
        "outputId": "fecfa612-3119-4dca-eed7-fc4ff2a933dc"
      },
      "execution_count": 53,
      "outputs": [
        {
          "output_type": "execute_result",
          "data": {
            "text/plain": [
              "Columna_Medicina\n",
              "[insulin, readmitted, Medicinas_tomadas]                1888\n",
              "[metformin, readmitted, Medicinas_tomadas]               226\n",
              "[glipizide, readmitted, Medicinas_tomadas]               148\n",
              "[glyburide, readmitted, Medicinas_tomadas]               146\n",
              "[glimepiride, readmitted, Medicinas_tomadas]              55\n",
              "[pioglitazone, readmitted, Medicinas_tomadas]             42\n",
              "[rosiglitazone, readmitted, Medicinas_tomadas]            35\n",
              "[repaglinide, readmitted, Medicinas_tomadas]               9\n",
              "[glyburide-metformin, readmitted, Medicinas_tomadas]       7\n",
              "[nateglinide, readmitted, Medicinas_tomadas]               4\n",
              "[chlorpropamide, readmitted, Medicinas_tomadas]            2\n",
              "[tolazamide, readmitted, Medicinas_tomadas]                2\n",
              "Name: count, dtype: int64"
            ],
            "text/html": [
              "<div>\n",
              "<style scoped>\n",
              "    .dataframe tbody tr th:only-of-type {\n",
              "        vertical-align: middle;\n",
              "    }\n",
              "\n",
              "    .dataframe tbody tr th {\n",
              "        vertical-align: top;\n",
              "    }\n",
              "\n",
              "    .dataframe thead th {\n",
              "        text-align: right;\n",
              "    }\n",
              "</style>\n",
              "<table border=\"1\" class=\"dataframe\">\n",
              "  <thead>\n",
              "    <tr style=\"text-align: right;\">\n",
              "      <th></th>\n",
              "      <th>count</th>\n",
              "    </tr>\n",
              "    <tr>\n",
              "      <th>Columna_Medicina</th>\n",
              "      <th></th>\n",
              "    </tr>\n",
              "  </thead>\n",
              "  <tbody>\n",
              "    <tr>\n",
              "      <th>[insulin, readmitted, Medicinas_tomadas]</th>\n",
              "      <td>1888</td>\n",
              "    </tr>\n",
              "    <tr>\n",
              "      <th>[metformin, readmitted, Medicinas_tomadas]</th>\n",
              "      <td>226</td>\n",
              "    </tr>\n",
              "    <tr>\n",
              "      <th>[glipizide, readmitted, Medicinas_tomadas]</th>\n",
              "      <td>148</td>\n",
              "    </tr>\n",
              "    <tr>\n",
              "      <th>[glyburide, readmitted, Medicinas_tomadas]</th>\n",
              "      <td>146</td>\n",
              "    </tr>\n",
              "    <tr>\n",
              "      <th>[glimepiride, readmitted, Medicinas_tomadas]</th>\n",
              "      <td>55</td>\n",
              "    </tr>\n",
              "    <tr>\n",
              "      <th>[pioglitazone, readmitted, Medicinas_tomadas]</th>\n",
              "      <td>42</td>\n",
              "    </tr>\n",
              "    <tr>\n",
              "      <th>[rosiglitazone, readmitted, Medicinas_tomadas]</th>\n",
              "      <td>35</td>\n",
              "    </tr>\n",
              "    <tr>\n",
              "      <th>[repaglinide, readmitted, Medicinas_tomadas]</th>\n",
              "      <td>9</td>\n",
              "    </tr>\n",
              "    <tr>\n",
              "      <th>[glyburide-metformin, readmitted, Medicinas_tomadas]</th>\n",
              "      <td>7</td>\n",
              "    </tr>\n",
              "    <tr>\n",
              "      <th>[nateglinide, readmitted, Medicinas_tomadas]</th>\n",
              "      <td>4</td>\n",
              "    </tr>\n",
              "    <tr>\n",
              "      <th>[chlorpropamide, readmitted, Medicinas_tomadas]</th>\n",
              "      <td>2</td>\n",
              "    </tr>\n",
              "    <tr>\n",
              "      <th>[tolazamide, readmitted, Medicinas_tomadas]</th>\n",
              "      <td>2</td>\n",
              "    </tr>\n",
              "  </tbody>\n",
              "</table>\n",
              "</div><br><label><b>dtype:</b> int64</label>"
            ]
          },
          "metadata": {},
          "execution_count": 53
        }
      ]
    },
    {
      "cell_type": "markdown",
      "source": [
        "A pesar de tener el examen alto, los pacientes que toman una sola medicina y no fueron readmitidos tienen en común que la mayoría toma una de las 4 drogas del grupo de control. Es probable que su examen no normal porque la medicina estaba comenzando a hacer el efecto."
      ],
      "metadata": {
        "id": "7i2yxM1HJP9t"
      }
    },
    {
      "cell_type": "code",
      "source": [
        "group2_1 = group2[(group2['readmitted'] == 'NO')]\n",
        "\n",
        "admin_freq_2_1 = group2_1['admission_type_id'].value_counts().reset_index()\n",
        "admin_freq_2_1.columns = ['admission_type_id', 'Frecuencia']\n",
        "\n",
        "fig = px.bar(admin_freq_2_1, x='admission_type_id', y='Frecuencia', title='admission_type_id', hover_data= 'Frecuencia')\n",
        "fig.show()"
      ],
      "metadata": {
        "colab": {
          "base_uri": "https://localhost:8080/",
          "height": 542
        },
        "id": "HnweJmCNKl7p",
        "outputId": "2db226cf-63c1-4c38-c750-468ab5a8142a"
      },
      "execution_count": 54,
      "outputs": [
        {
          "output_type": "display_data",
          "data": {
            "text/html": [
              "<html>\n",
              "<head><meta charset=\"utf-8\" /></head>\n",
              "<body>\n",
              "    <div>            <script src=\"https://cdnjs.cloudflare.com/ajax/libs/mathjax/2.7.5/MathJax.js?config=TeX-AMS-MML_SVG\"></script><script type=\"text/javascript\">if (window.MathJax && window.MathJax.Hub && window.MathJax.Hub.Config) {window.MathJax.Hub.Config({SVG: {font: \"STIX-Web\"}});}</script>                <script type=\"text/javascript\">window.PlotlyConfig = {MathJaxConfig: 'local'};</script>\n",
              "        <script charset=\"utf-8\" src=\"https://cdn.plot.ly/plotly-2.35.2.min.js\"></script>                <div id=\"2b3e10dd-7b8a-4936-bcab-70ea9e7e9a45\" class=\"plotly-graph-div\" style=\"height:525px; width:100%;\"></div>            <script type=\"text/javascript\">                                    window.PLOTLYENV=window.PLOTLYENV || {};                                    if (document.getElementById(\"2b3e10dd-7b8a-4936-bcab-70ea9e7e9a45\")) {                    Plotly.newPlot(                        \"2b3e10dd-7b8a-4936-bcab-70ea9e7e9a45\",                        [{\"alignmentgroup\":\"True\",\"hovertemplate\":\"admission_type_id=%{x}\\u003cbr\\u003eFrecuencia=%{y}\\u003cextra\\u003e\\u003c\\u002fextra\\u003e\",\"legendgroup\":\"\",\"marker\":{\"color\":\"#636efa\",\"pattern\":{\"shape\":\"\"}},\"name\":\"\",\"offsetgroup\":\"\",\"orientation\":\"v\",\"showlegend\":false,\"textposition\":\"auto\",\"x\":[1,2,3,6,5,8,4],\"xaxis\":\"x\",\"y\":[2864,911,587,280,114,28,2],\"yaxis\":\"y\",\"type\":\"bar\"}],                        {\"template\":{\"data\":{\"histogram2dcontour\":[{\"type\":\"histogram2dcontour\",\"colorbar\":{\"outlinewidth\":0,\"ticks\":\"\"},\"colorscale\":[[0.0,\"#0d0887\"],[0.1111111111111111,\"#46039f\"],[0.2222222222222222,\"#7201a8\"],[0.3333333333333333,\"#9c179e\"],[0.4444444444444444,\"#bd3786\"],[0.5555555555555556,\"#d8576b\"],[0.6666666666666666,\"#ed7953\"],[0.7777777777777778,\"#fb9f3a\"],[0.8888888888888888,\"#fdca26\"],[1.0,\"#f0f921\"]]}],\"choropleth\":[{\"type\":\"choropleth\",\"colorbar\":{\"outlinewidth\":0,\"ticks\":\"\"}}],\"histogram2d\":[{\"type\":\"histogram2d\",\"colorbar\":{\"outlinewidth\":0,\"ticks\":\"\"},\"colorscale\":[[0.0,\"#0d0887\"],[0.1111111111111111,\"#46039f\"],[0.2222222222222222,\"#7201a8\"],[0.3333333333333333,\"#9c179e\"],[0.4444444444444444,\"#bd3786\"],[0.5555555555555556,\"#d8576b\"],[0.6666666666666666,\"#ed7953\"],[0.7777777777777778,\"#fb9f3a\"],[0.8888888888888888,\"#fdca26\"],[1.0,\"#f0f921\"]]}],\"heatmap\":[{\"type\":\"heatmap\",\"colorbar\":{\"outlinewidth\":0,\"ticks\":\"\"},\"colorscale\":[[0.0,\"#0d0887\"],[0.1111111111111111,\"#46039f\"],[0.2222222222222222,\"#7201a8\"],[0.3333333333333333,\"#9c179e\"],[0.4444444444444444,\"#bd3786\"],[0.5555555555555556,\"#d8576b\"],[0.6666666666666666,\"#ed7953\"],[0.7777777777777778,\"#fb9f3a\"],[0.8888888888888888,\"#fdca26\"],[1.0,\"#f0f921\"]]}],\"heatmapgl\":[{\"type\":\"heatmapgl\",\"colorbar\":{\"outlinewidth\":0,\"ticks\":\"\"},\"colorscale\":[[0.0,\"#0d0887\"],[0.1111111111111111,\"#46039f\"],[0.2222222222222222,\"#7201a8\"],[0.3333333333333333,\"#9c179e\"],[0.4444444444444444,\"#bd3786\"],[0.5555555555555556,\"#d8576b\"],[0.6666666666666666,\"#ed7953\"],[0.7777777777777778,\"#fb9f3a\"],[0.8888888888888888,\"#fdca26\"],[1.0,\"#f0f921\"]]}],\"contourcarpet\":[{\"type\":\"contourcarpet\",\"colorbar\":{\"outlinewidth\":0,\"ticks\":\"\"}}],\"contour\":[{\"type\":\"contour\",\"colorbar\":{\"outlinewidth\":0,\"ticks\":\"\"},\"colorscale\":[[0.0,\"#0d0887\"],[0.1111111111111111,\"#46039f\"],[0.2222222222222222,\"#7201a8\"],[0.3333333333333333,\"#9c179e\"],[0.4444444444444444,\"#bd3786\"],[0.5555555555555556,\"#d8576b\"],[0.6666666666666666,\"#ed7953\"],[0.7777777777777778,\"#fb9f3a\"],[0.8888888888888888,\"#fdca26\"],[1.0,\"#f0f921\"]]}],\"surface\":[{\"type\":\"surface\",\"colorbar\":{\"outlinewidth\":0,\"ticks\":\"\"},\"colorscale\":[[0.0,\"#0d0887\"],[0.1111111111111111,\"#46039f\"],[0.2222222222222222,\"#7201a8\"],[0.3333333333333333,\"#9c179e\"],[0.4444444444444444,\"#bd3786\"],[0.5555555555555556,\"#d8576b\"],[0.6666666666666666,\"#ed7953\"],[0.7777777777777778,\"#fb9f3a\"],[0.8888888888888888,\"#fdca26\"],[1.0,\"#f0f921\"]]}],\"mesh3d\":[{\"type\":\"mesh3d\",\"colorbar\":{\"outlinewidth\":0,\"ticks\":\"\"}}],\"scatter\":[{\"fillpattern\":{\"fillmode\":\"overlay\",\"size\":10,\"solidity\":0.2},\"type\":\"scatter\"}],\"parcoords\":[{\"type\":\"parcoords\",\"line\":{\"colorbar\":{\"outlinewidth\":0,\"ticks\":\"\"}}}],\"scatterpolargl\":[{\"type\":\"scatterpolargl\",\"marker\":{\"colorbar\":{\"outlinewidth\":0,\"ticks\":\"\"}}}],\"bar\":[{\"error_x\":{\"color\":\"#2a3f5f\"},\"error_y\":{\"color\":\"#2a3f5f\"},\"marker\":{\"line\":{\"color\":\"#E5ECF6\",\"width\":0.5},\"pattern\":{\"fillmode\":\"overlay\",\"size\":10,\"solidity\":0.2}},\"type\":\"bar\"}],\"scattergeo\":[{\"type\":\"scattergeo\",\"marker\":{\"colorbar\":{\"outlinewidth\":0,\"ticks\":\"\"}}}],\"scatterpolar\":[{\"type\":\"scatterpolar\",\"marker\":{\"colorbar\":{\"outlinewidth\":0,\"ticks\":\"\"}}}],\"histogram\":[{\"marker\":{\"pattern\":{\"fillmode\":\"overlay\",\"size\":10,\"solidity\":0.2}},\"type\":\"histogram\"}],\"scattergl\":[{\"type\":\"scattergl\",\"marker\":{\"colorbar\":{\"outlinewidth\":0,\"ticks\":\"\"}}}],\"scatter3d\":[{\"type\":\"scatter3d\",\"line\":{\"colorbar\":{\"outlinewidth\":0,\"ticks\":\"\"}},\"marker\":{\"colorbar\":{\"outlinewidth\":0,\"ticks\":\"\"}}}],\"scattermapbox\":[{\"type\":\"scattermapbox\",\"marker\":{\"colorbar\":{\"outlinewidth\":0,\"ticks\":\"\"}}}],\"scatterternary\":[{\"type\":\"scatterternary\",\"marker\":{\"colorbar\":{\"outlinewidth\":0,\"ticks\":\"\"}}}],\"scattercarpet\":[{\"type\":\"scattercarpet\",\"marker\":{\"colorbar\":{\"outlinewidth\":0,\"ticks\":\"\"}}}],\"carpet\":[{\"aaxis\":{\"endlinecolor\":\"#2a3f5f\",\"gridcolor\":\"white\",\"linecolor\":\"white\",\"minorgridcolor\":\"white\",\"startlinecolor\":\"#2a3f5f\"},\"baxis\":{\"endlinecolor\":\"#2a3f5f\",\"gridcolor\":\"white\",\"linecolor\":\"white\",\"minorgridcolor\":\"white\",\"startlinecolor\":\"#2a3f5f\"},\"type\":\"carpet\"}],\"table\":[{\"cells\":{\"fill\":{\"color\":\"#EBF0F8\"},\"line\":{\"color\":\"white\"}},\"header\":{\"fill\":{\"color\":\"#C8D4E3\"},\"line\":{\"color\":\"white\"}},\"type\":\"table\"}],\"barpolar\":[{\"marker\":{\"line\":{\"color\":\"#E5ECF6\",\"width\":0.5},\"pattern\":{\"fillmode\":\"overlay\",\"size\":10,\"solidity\":0.2}},\"type\":\"barpolar\"}],\"pie\":[{\"automargin\":true,\"type\":\"pie\"}]},\"layout\":{\"autotypenumbers\":\"strict\",\"colorway\":[\"#636efa\",\"#EF553B\",\"#00cc96\",\"#ab63fa\",\"#FFA15A\",\"#19d3f3\",\"#FF6692\",\"#B6E880\",\"#FF97FF\",\"#FECB52\"],\"font\":{\"color\":\"#2a3f5f\"},\"hovermode\":\"closest\",\"hoverlabel\":{\"align\":\"left\"},\"paper_bgcolor\":\"white\",\"plot_bgcolor\":\"#E5ECF6\",\"polar\":{\"bgcolor\":\"#E5ECF6\",\"angularaxis\":{\"gridcolor\":\"white\",\"linecolor\":\"white\",\"ticks\":\"\"},\"radialaxis\":{\"gridcolor\":\"white\",\"linecolor\":\"white\",\"ticks\":\"\"}},\"ternary\":{\"bgcolor\":\"#E5ECF6\",\"aaxis\":{\"gridcolor\":\"white\",\"linecolor\":\"white\",\"ticks\":\"\"},\"baxis\":{\"gridcolor\":\"white\",\"linecolor\":\"white\",\"ticks\":\"\"},\"caxis\":{\"gridcolor\":\"white\",\"linecolor\":\"white\",\"ticks\":\"\"}},\"coloraxis\":{\"colorbar\":{\"outlinewidth\":0,\"ticks\":\"\"}},\"colorscale\":{\"sequential\":[[0.0,\"#0d0887\"],[0.1111111111111111,\"#46039f\"],[0.2222222222222222,\"#7201a8\"],[0.3333333333333333,\"#9c179e\"],[0.4444444444444444,\"#bd3786\"],[0.5555555555555556,\"#d8576b\"],[0.6666666666666666,\"#ed7953\"],[0.7777777777777778,\"#fb9f3a\"],[0.8888888888888888,\"#fdca26\"],[1.0,\"#f0f921\"]],\"sequentialminus\":[[0.0,\"#0d0887\"],[0.1111111111111111,\"#46039f\"],[0.2222222222222222,\"#7201a8\"],[0.3333333333333333,\"#9c179e\"],[0.4444444444444444,\"#bd3786\"],[0.5555555555555556,\"#d8576b\"],[0.6666666666666666,\"#ed7953\"],[0.7777777777777778,\"#fb9f3a\"],[0.8888888888888888,\"#fdca26\"],[1.0,\"#f0f921\"]],\"diverging\":[[0,\"#8e0152\"],[0.1,\"#c51b7d\"],[0.2,\"#de77ae\"],[0.3,\"#f1b6da\"],[0.4,\"#fde0ef\"],[0.5,\"#f7f7f7\"],[0.6,\"#e6f5d0\"],[0.7,\"#b8e186\"],[0.8,\"#7fbc41\"],[0.9,\"#4d9221\"],[1,\"#276419\"]]},\"xaxis\":{\"gridcolor\":\"white\",\"linecolor\":\"white\",\"ticks\":\"\",\"title\":{\"standoff\":15},\"zerolinecolor\":\"white\",\"automargin\":true,\"zerolinewidth\":2},\"yaxis\":{\"gridcolor\":\"white\",\"linecolor\":\"white\",\"ticks\":\"\",\"title\":{\"standoff\":15},\"zerolinecolor\":\"white\",\"automargin\":true,\"zerolinewidth\":2},\"scene\":{\"xaxis\":{\"backgroundcolor\":\"#E5ECF6\",\"gridcolor\":\"white\",\"linecolor\":\"white\",\"showbackground\":true,\"ticks\":\"\",\"zerolinecolor\":\"white\",\"gridwidth\":2},\"yaxis\":{\"backgroundcolor\":\"#E5ECF6\",\"gridcolor\":\"white\",\"linecolor\":\"white\",\"showbackground\":true,\"ticks\":\"\",\"zerolinecolor\":\"white\",\"gridwidth\":2},\"zaxis\":{\"backgroundcolor\":\"#E5ECF6\",\"gridcolor\":\"white\",\"linecolor\":\"white\",\"showbackground\":true,\"ticks\":\"\",\"zerolinecolor\":\"white\",\"gridwidth\":2}},\"shapedefaults\":{\"line\":{\"color\":\"#2a3f5f\"}},\"annotationdefaults\":{\"arrowcolor\":\"#2a3f5f\",\"arrowhead\":0,\"arrowwidth\":1},\"geo\":{\"bgcolor\":\"white\",\"landcolor\":\"#E5ECF6\",\"subunitcolor\":\"white\",\"showland\":true,\"showlakes\":true,\"lakecolor\":\"white\"},\"title\":{\"x\":0.05},\"mapbox\":{\"style\":\"light\"}}},\"xaxis\":{\"anchor\":\"y\",\"domain\":[0.0,1.0],\"title\":{\"text\":\"admission_type_id\"}},\"yaxis\":{\"anchor\":\"x\",\"domain\":[0.0,1.0],\"title\":{\"text\":\"Frecuencia\"}},\"legend\":{\"tracegroupgap\":0},\"title\":{\"text\":\"admission_type_id\"},\"barmode\":\"relative\"},                        {\"responsive\": true}                    ).then(function(){\n",
              "                            \n",
              "var gd = document.getElementById('2b3e10dd-7b8a-4936-bcab-70ea9e7e9a45');\n",
              "var x = new MutationObserver(function (mutations, observer) {{\n",
              "        var display = window.getComputedStyle(gd).display;\n",
              "        if (!display || display === 'none') {{\n",
              "            console.log([gd, 'removed!']);\n",
              "            Plotly.purge(gd);\n",
              "            observer.disconnect();\n",
              "        }}\n",
              "}});\n",
              "\n",
              "// Listen for the removal of the full notebook cells\n",
              "var notebookContainer = gd.closest('#notebook-container');\n",
              "if (notebookContainer) {{\n",
              "    x.observe(notebookContainer, {childList: true});\n",
              "}}\n",
              "\n",
              "// Listen for the clearing of the current output cell\n",
              "var outputEl = gd.closest('.output');\n",
              "if (outputEl) {{\n",
              "    x.observe(outputEl, {childList: true});\n",
              "}}\n",
              "\n",
              "                        })                };                            </script>        </div>\n",
              "</body>\n",
              "</html>"
            ]
          },
          "metadata": {}
        }
      ]
    },
    {
      "cell_type": "markdown",
      "source": [
        "Volvemos a ver una tendencia a que la mayoría de pacientes vienen por emergencia."
      ],
      "metadata": {
        "id": "ljNnvgaQKzeP"
      }
    },
    {
      "cell_type": "markdown",
      "source": [
        "##### Grupo 2.2"
      ],
      "metadata": {
        "id": "5pT3hGZzKG49"
      }
    },
    {
      "cell_type": "code",
      "source": [
        "med_group2_2 = med_group2[(med_group2['Medicinas_tomadas'] == 1) &\n",
        "                              (med_group2['readmitted'] != 'NO')]\n",
        "\n",
        "med_group2_2['Columna_Medicina'] = med_group2_2.apply(find_columns_with_non_no_values, axis=1)\n",
        "med_group2_2['Columna_Medicina'].value_counts()"
      ],
      "metadata": {
        "id": "Euki1ut151uW",
        "colab": {
          "base_uri": "https://localhost:8080/",
          "height": 523
        },
        "outputId": "976f662d-e4f1-430b-bca9-991567b04164"
      },
      "execution_count": 55,
      "outputs": [
        {
          "output_type": "execute_result",
          "data": {
            "text/plain": [
              "Columna_Medicina\n",
              "[insulin, readmitted, Medicinas_tomadas]                1218\n",
              "[metformin, readmitted, Medicinas_tomadas]               120\n",
              "[glipizide, readmitted, Medicinas_tomadas]               113\n",
              "[glyburide, readmitted, Medicinas_tomadas]                91\n",
              "[pioglitazone, readmitted, Medicinas_tomadas]             37\n",
              "[glimepiride, readmitted, Medicinas_tomadas]              35\n",
              "[rosiglitazone, readmitted, Medicinas_tomadas]            29\n",
              "[repaglinide, readmitted, Medicinas_tomadas]               8\n",
              "[chlorpropamide, readmitted, Medicinas_tomadas]            3\n",
              "[nateglinide, readmitted, Medicinas_tomadas]               3\n",
              "[glyburide-metformin, readmitted, Medicinas_tomadas]       3\n",
              "[acarbose, readmitted, Medicinas_tomadas]                  2\n",
              "[glipizide-metformin, readmitted, Medicinas_tomadas]       1\n",
              "Name: count, dtype: int64"
            ],
            "text/html": [
              "<div>\n",
              "<style scoped>\n",
              "    .dataframe tbody tr th:only-of-type {\n",
              "        vertical-align: middle;\n",
              "    }\n",
              "\n",
              "    .dataframe tbody tr th {\n",
              "        vertical-align: top;\n",
              "    }\n",
              "\n",
              "    .dataframe thead th {\n",
              "        text-align: right;\n",
              "    }\n",
              "</style>\n",
              "<table border=\"1\" class=\"dataframe\">\n",
              "  <thead>\n",
              "    <tr style=\"text-align: right;\">\n",
              "      <th></th>\n",
              "      <th>count</th>\n",
              "    </tr>\n",
              "    <tr>\n",
              "      <th>Columna_Medicina</th>\n",
              "      <th></th>\n",
              "    </tr>\n",
              "  </thead>\n",
              "  <tbody>\n",
              "    <tr>\n",
              "      <th>[insulin, readmitted, Medicinas_tomadas]</th>\n",
              "      <td>1218</td>\n",
              "    </tr>\n",
              "    <tr>\n",
              "      <th>[metformin, readmitted, Medicinas_tomadas]</th>\n",
              "      <td>120</td>\n",
              "    </tr>\n",
              "    <tr>\n",
              "      <th>[glipizide, readmitted, Medicinas_tomadas]</th>\n",
              "      <td>113</td>\n",
              "    </tr>\n",
              "    <tr>\n",
              "      <th>[glyburide, readmitted, Medicinas_tomadas]</th>\n",
              "      <td>91</td>\n",
              "    </tr>\n",
              "    <tr>\n",
              "      <th>[pioglitazone, readmitted, Medicinas_tomadas]</th>\n",
              "      <td>37</td>\n",
              "    </tr>\n",
              "    <tr>\n",
              "      <th>[glimepiride, readmitted, Medicinas_tomadas]</th>\n",
              "      <td>35</td>\n",
              "    </tr>\n",
              "    <tr>\n",
              "      <th>[rosiglitazone, readmitted, Medicinas_tomadas]</th>\n",
              "      <td>29</td>\n",
              "    </tr>\n",
              "    <tr>\n",
              "      <th>[repaglinide, readmitted, Medicinas_tomadas]</th>\n",
              "      <td>8</td>\n",
              "    </tr>\n",
              "    <tr>\n",
              "      <th>[chlorpropamide, readmitted, Medicinas_tomadas]</th>\n",
              "      <td>3</td>\n",
              "    </tr>\n",
              "    <tr>\n",
              "      <th>[nateglinide, readmitted, Medicinas_tomadas]</th>\n",
              "      <td>3</td>\n",
              "    </tr>\n",
              "    <tr>\n",
              "      <th>[glyburide-metformin, readmitted, Medicinas_tomadas]</th>\n",
              "      <td>3</td>\n",
              "    </tr>\n",
              "    <tr>\n",
              "      <th>[acarbose, readmitted, Medicinas_tomadas]</th>\n",
              "      <td>2</td>\n",
              "    </tr>\n",
              "    <tr>\n",
              "      <th>[glipizide-metformin, readmitted, Medicinas_tomadas]</th>\n",
              "      <td>1</td>\n",
              "    </tr>\n",
              "  </tbody>\n",
              "</table>\n",
              "</div><br><label><b>dtype:</b> int64</label>"
            ]
          },
          "metadata": {},
          "execution_count": 55
        }
      ]
    },
    {
      "cell_type": "markdown",
      "source": [
        "Los pacientes que toman una medicina y si fueron readmitidos tambien tienen en su mayoria las 4 medicinas. Sin embargo la frecuencia de cada medicina es menor al grupo opuesto. En cantidad se continúa pensando que estás medicinas aumentan la probabilidad de no ser readmitido.\n",
        "\n",
        "Ahora vamos a ver si llegan por emergencia o urgencia."
      ],
      "metadata": {
        "id": "NpVcBeEpJp-h"
      }
    },
    {
      "cell_type": "code",
      "source": [
        "group2_2 = group2[(group2['readmitted'] != 'NO')]\n",
        "\n",
        "admin_freq_2_2 = group2_2['admission_type_id'].value_counts().reset_index()\n",
        "admin_freq_2_2.columns = ['admission_type_id', 'Frecuencia']\n",
        "\n",
        "fig = px.bar(admin_freq_2_2, x='admission_type_id', y='Frecuencia', title='admission_type_id', hover_data= 'Frecuencia')\n",
        "fig.show()"
      ],
      "metadata": {
        "id": "qcCSbkHj51xe",
        "colab": {
          "base_uri": "https://localhost:8080/",
          "height": 542
        },
        "outputId": "34bfa849-f1ed-4b5e-ba3d-2b04e2db8817"
      },
      "execution_count": 56,
      "outputs": [
        {
          "output_type": "display_data",
          "data": {
            "text/html": [
              "<html>\n",
              "<head><meta charset=\"utf-8\" /></head>\n",
              "<body>\n",
              "    <div>            <script src=\"https://cdnjs.cloudflare.com/ajax/libs/mathjax/2.7.5/MathJax.js?config=TeX-AMS-MML_SVG\"></script><script type=\"text/javascript\">if (window.MathJax && window.MathJax.Hub && window.MathJax.Hub.Config) {window.MathJax.Hub.Config({SVG: {font: \"STIX-Web\"}});}</script>                <script type=\"text/javascript\">window.PlotlyConfig = {MathJaxConfig: 'local'};</script>\n",
              "        <script charset=\"utf-8\" src=\"https://cdn.plot.ly/plotly-2.35.2.min.js\"></script>                <div id=\"4fe3f14b-09b6-4edd-acb1-b49e774e665c\" class=\"plotly-graph-div\" style=\"height:525px; width:100%;\"></div>            <script type=\"text/javascript\">                                    window.PLOTLYENV=window.PLOTLYENV || {};                                    if (document.getElementById(\"4fe3f14b-09b6-4edd-acb1-b49e774e665c\")) {                    Plotly.newPlot(                        \"4fe3f14b-09b6-4edd-acb1-b49e774e665c\",                        [{\"alignmentgroup\":\"True\",\"hovertemplate\":\"admission_type_id=%{x}\\u003cbr\\u003eFrecuencia=%{y}\\u003cextra\\u003e\\u003c\\u002fextra\\u003e\",\"legendgroup\":\"\",\"marker\":{\"color\":\"#636efa\",\"pattern\":{\"shape\":\"\"}},\"name\":\"\",\"offsetgroup\":\"\",\"orientation\":\"v\",\"showlegend\":false,\"textposition\":\"auto\",\"x\":[1,2,6,3,5,8],\"xaxis\":\"x\",\"y\":[1778,561,345,303,133,10],\"yaxis\":\"y\",\"type\":\"bar\"}],                        {\"template\":{\"data\":{\"histogram2dcontour\":[{\"type\":\"histogram2dcontour\",\"colorbar\":{\"outlinewidth\":0,\"ticks\":\"\"},\"colorscale\":[[0.0,\"#0d0887\"],[0.1111111111111111,\"#46039f\"],[0.2222222222222222,\"#7201a8\"],[0.3333333333333333,\"#9c179e\"],[0.4444444444444444,\"#bd3786\"],[0.5555555555555556,\"#d8576b\"],[0.6666666666666666,\"#ed7953\"],[0.7777777777777778,\"#fb9f3a\"],[0.8888888888888888,\"#fdca26\"],[1.0,\"#f0f921\"]]}],\"choropleth\":[{\"type\":\"choropleth\",\"colorbar\":{\"outlinewidth\":0,\"ticks\":\"\"}}],\"histogram2d\":[{\"type\":\"histogram2d\",\"colorbar\":{\"outlinewidth\":0,\"ticks\":\"\"},\"colorscale\":[[0.0,\"#0d0887\"],[0.1111111111111111,\"#46039f\"],[0.2222222222222222,\"#7201a8\"],[0.3333333333333333,\"#9c179e\"],[0.4444444444444444,\"#bd3786\"],[0.5555555555555556,\"#d8576b\"],[0.6666666666666666,\"#ed7953\"],[0.7777777777777778,\"#fb9f3a\"],[0.8888888888888888,\"#fdca26\"],[1.0,\"#f0f921\"]]}],\"heatmap\":[{\"type\":\"heatmap\",\"colorbar\":{\"outlinewidth\":0,\"ticks\":\"\"},\"colorscale\":[[0.0,\"#0d0887\"],[0.1111111111111111,\"#46039f\"],[0.2222222222222222,\"#7201a8\"],[0.3333333333333333,\"#9c179e\"],[0.4444444444444444,\"#bd3786\"],[0.5555555555555556,\"#d8576b\"],[0.6666666666666666,\"#ed7953\"],[0.7777777777777778,\"#fb9f3a\"],[0.8888888888888888,\"#fdca26\"],[1.0,\"#f0f921\"]]}],\"heatmapgl\":[{\"type\":\"heatmapgl\",\"colorbar\":{\"outlinewidth\":0,\"ticks\":\"\"},\"colorscale\":[[0.0,\"#0d0887\"],[0.1111111111111111,\"#46039f\"],[0.2222222222222222,\"#7201a8\"],[0.3333333333333333,\"#9c179e\"],[0.4444444444444444,\"#bd3786\"],[0.5555555555555556,\"#d8576b\"],[0.6666666666666666,\"#ed7953\"],[0.7777777777777778,\"#fb9f3a\"],[0.8888888888888888,\"#fdca26\"],[1.0,\"#f0f921\"]]}],\"contourcarpet\":[{\"type\":\"contourcarpet\",\"colorbar\":{\"outlinewidth\":0,\"ticks\":\"\"}}],\"contour\":[{\"type\":\"contour\",\"colorbar\":{\"outlinewidth\":0,\"ticks\":\"\"},\"colorscale\":[[0.0,\"#0d0887\"],[0.1111111111111111,\"#46039f\"],[0.2222222222222222,\"#7201a8\"],[0.3333333333333333,\"#9c179e\"],[0.4444444444444444,\"#bd3786\"],[0.5555555555555556,\"#d8576b\"],[0.6666666666666666,\"#ed7953\"],[0.7777777777777778,\"#fb9f3a\"],[0.8888888888888888,\"#fdca26\"],[1.0,\"#f0f921\"]]}],\"surface\":[{\"type\":\"surface\",\"colorbar\":{\"outlinewidth\":0,\"ticks\":\"\"},\"colorscale\":[[0.0,\"#0d0887\"],[0.1111111111111111,\"#46039f\"],[0.2222222222222222,\"#7201a8\"],[0.3333333333333333,\"#9c179e\"],[0.4444444444444444,\"#bd3786\"],[0.5555555555555556,\"#d8576b\"],[0.6666666666666666,\"#ed7953\"],[0.7777777777777778,\"#fb9f3a\"],[0.8888888888888888,\"#fdca26\"],[1.0,\"#f0f921\"]]}],\"mesh3d\":[{\"type\":\"mesh3d\",\"colorbar\":{\"outlinewidth\":0,\"ticks\":\"\"}}],\"scatter\":[{\"fillpattern\":{\"fillmode\":\"overlay\",\"size\":10,\"solidity\":0.2},\"type\":\"scatter\"}],\"parcoords\":[{\"type\":\"parcoords\",\"line\":{\"colorbar\":{\"outlinewidth\":0,\"ticks\":\"\"}}}],\"scatterpolargl\":[{\"type\":\"scatterpolargl\",\"marker\":{\"colorbar\":{\"outlinewidth\":0,\"ticks\":\"\"}}}],\"bar\":[{\"error_x\":{\"color\":\"#2a3f5f\"},\"error_y\":{\"color\":\"#2a3f5f\"},\"marker\":{\"line\":{\"color\":\"#E5ECF6\",\"width\":0.5},\"pattern\":{\"fillmode\":\"overlay\",\"size\":10,\"solidity\":0.2}},\"type\":\"bar\"}],\"scattergeo\":[{\"type\":\"scattergeo\",\"marker\":{\"colorbar\":{\"outlinewidth\":0,\"ticks\":\"\"}}}],\"scatterpolar\":[{\"type\":\"scatterpolar\",\"marker\":{\"colorbar\":{\"outlinewidth\":0,\"ticks\":\"\"}}}],\"histogram\":[{\"marker\":{\"pattern\":{\"fillmode\":\"overlay\",\"size\":10,\"solidity\":0.2}},\"type\":\"histogram\"}],\"scattergl\":[{\"type\":\"scattergl\",\"marker\":{\"colorbar\":{\"outlinewidth\":0,\"ticks\":\"\"}}}],\"scatter3d\":[{\"type\":\"scatter3d\",\"line\":{\"colorbar\":{\"outlinewidth\":0,\"ticks\":\"\"}},\"marker\":{\"colorbar\":{\"outlinewidth\":0,\"ticks\":\"\"}}}],\"scattermapbox\":[{\"type\":\"scattermapbox\",\"marker\":{\"colorbar\":{\"outlinewidth\":0,\"ticks\":\"\"}}}],\"scatterternary\":[{\"type\":\"scatterternary\",\"marker\":{\"colorbar\":{\"outlinewidth\":0,\"ticks\":\"\"}}}],\"scattercarpet\":[{\"type\":\"scattercarpet\",\"marker\":{\"colorbar\":{\"outlinewidth\":0,\"ticks\":\"\"}}}],\"carpet\":[{\"aaxis\":{\"endlinecolor\":\"#2a3f5f\",\"gridcolor\":\"white\",\"linecolor\":\"white\",\"minorgridcolor\":\"white\",\"startlinecolor\":\"#2a3f5f\"},\"baxis\":{\"endlinecolor\":\"#2a3f5f\",\"gridcolor\":\"white\",\"linecolor\":\"white\",\"minorgridcolor\":\"white\",\"startlinecolor\":\"#2a3f5f\"},\"type\":\"carpet\"}],\"table\":[{\"cells\":{\"fill\":{\"color\":\"#EBF0F8\"},\"line\":{\"color\":\"white\"}},\"header\":{\"fill\":{\"color\":\"#C8D4E3\"},\"line\":{\"color\":\"white\"}},\"type\":\"table\"}],\"barpolar\":[{\"marker\":{\"line\":{\"color\":\"#E5ECF6\",\"width\":0.5},\"pattern\":{\"fillmode\":\"overlay\",\"size\":10,\"solidity\":0.2}},\"type\":\"barpolar\"}],\"pie\":[{\"automargin\":true,\"type\":\"pie\"}]},\"layout\":{\"autotypenumbers\":\"strict\",\"colorway\":[\"#636efa\",\"#EF553B\",\"#00cc96\",\"#ab63fa\",\"#FFA15A\",\"#19d3f3\",\"#FF6692\",\"#B6E880\",\"#FF97FF\",\"#FECB52\"],\"font\":{\"color\":\"#2a3f5f\"},\"hovermode\":\"closest\",\"hoverlabel\":{\"align\":\"left\"},\"paper_bgcolor\":\"white\",\"plot_bgcolor\":\"#E5ECF6\",\"polar\":{\"bgcolor\":\"#E5ECF6\",\"angularaxis\":{\"gridcolor\":\"white\",\"linecolor\":\"white\",\"ticks\":\"\"},\"radialaxis\":{\"gridcolor\":\"white\",\"linecolor\":\"white\",\"ticks\":\"\"}},\"ternary\":{\"bgcolor\":\"#E5ECF6\",\"aaxis\":{\"gridcolor\":\"white\",\"linecolor\":\"white\",\"ticks\":\"\"},\"baxis\":{\"gridcolor\":\"white\",\"linecolor\":\"white\",\"ticks\":\"\"},\"caxis\":{\"gridcolor\":\"white\",\"linecolor\":\"white\",\"ticks\":\"\"}},\"coloraxis\":{\"colorbar\":{\"outlinewidth\":0,\"ticks\":\"\"}},\"colorscale\":{\"sequential\":[[0.0,\"#0d0887\"],[0.1111111111111111,\"#46039f\"],[0.2222222222222222,\"#7201a8\"],[0.3333333333333333,\"#9c179e\"],[0.4444444444444444,\"#bd3786\"],[0.5555555555555556,\"#d8576b\"],[0.6666666666666666,\"#ed7953\"],[0.7777777777777778,\"#fb9f3a\"],[0.8888888888888888,\"#fdca26\"],[1.0,\"#f0f921\"]],\"sequentialminus\":[[0.0,\"#0d0887\"],[0.1111111111111111,\"#46039f\"],[0.2222222222222222,\"#7201a8\"],[0.3333333333333333,\"#9c179e\"],[0.4444444444444444,\"#bd3786\"],[0.5555555555555556,\"#d8576b\"],[0.6666666666666666,\"#ed7953\"],[0.7777777777777778,\"#fb9f3a\"],[0.8888888888888888,\"#fdca26\"],[1.0,\"#f0f921\"]],\"diverging\":[[0,\"#8e0152\"],[0.1,\"#c51b7d\"],[0.2,\"#de77ae\"],[0.3,\"#f1b6da\"],[0.4,\"#fde0ef\"],[0.5,\"#f7f7f7\"],[0.6,\"#e6f5d0\"],[0.7,\"#b8e186\"],[0.8,\"#7fbc41\"],[0.9,\"#4d9221\"],[1,\"#276419\"]]},\"xaxis\":{\"gridcolor\":\"white\",\"linecolor\":\"white\",\"ticks\":\"\",\"title\":{\"standoff\":15},\"zerolinecolor\":\"white\",\"automargin\":true,\"zerolinewidth\":2},\"yaxis\":{\"gridcolor\":\"white\",\"linecolor\":\"white\",\"ticks\":\"\",\"title\":{\"standoff\":15},\"zerolinecolor\":\"white\",\"automargin\":true,\"zerolinewidth\":2},\"scene\":{\"xaxis\":{\"backgroundcolor\":\"#E5ECF6\",\"gridcolor\":\"white\",\"linecolor\":\"white\",\"showbackground\":true,\"ticks\":\"\",\"zerolinecolor\":\"white\",\"gridwidth\":2},\"yaxis\":{\"backgroundcolor\":\"#E5ECF6\",\"gridcolor\":\"white\",\"linecolor\":\"white\",\"showbackground\":true,\"ticks\":\"\",\"zerolinecolor\":\"white\",\"gridwidth\":2},\"zaxis\":{\"backgroundcolor\":\"#E5ECF6\",\"gridcolor\":\"white\",\"linecolor\":\"white\",\"showbackground\":true,\"ticks\":\"\",\"zerolinecolor\":\"white\",\"gridwidth\":2}},\"shapedefaults\":{\"line\":{\"color\":\"#2a3f5f\"}},\"annotationdefaults\":{\"arrowcolor\":\"#2a3f5f\",\"arrowhead\":0,\"arrowwidth\":1},\"geo\":{\"bgcolor\":\"white\",\"landcolor\":\"#E5ECF6\",\"subunitcolor\":\"white\",\"showland\":true,\"showlakes\":true,\"lakecolor\":\"white\"},\"title\":{\"x\":0.05},\"mapbox\":{\"style\":\"light\"}}},\"xaxis\":{\"anchor\":\"y\",\"domain\":[0.0,1.0],\"title\":{\"text\":\"admission_type_id\"}},\"yaxis\":{\"anchor\":\"x\",\"domain\":[0.0,1.0],\"title\":{\"text\":\"Frecuencia\"}},\"legend\":{\"tracegroupgap\":0},\"title\":{\"text\":\"admission_type_id\"},\"barmode\":\"relative\"},                        {\"responsive\": true}                    ).then(function(){\n",
              "                            \n",
              "var gd = document.getElementById('4fe3f14b-09b6-4edd-acb1-b49e774e665c');\n",
              "var x = new MutationObserver(function (mutations, observer) {{\n",
              "        var display = window.getComputedStyle(gd).display;\n",
              "        if (!display || display === 'none') {{\n",
              "            console.log([gd, 'removed!']);\n",
              "            Plotly.purge(gd);\n",
              "            observer.disconnect();\n",
              "        }}\n",
              "}});\n",
              "\n",
              "// Listen for the removal of the full notebook cells\n",
              "var notebookContainer = gd.closest('#notebook-container');\n",
              "if (notebookContainer) {{\n",
              "    x.observe(notebookContainer, {childList: true});\n",
              "}}\n",
              "\n",
              "// Listen for the clearing of the current output cell\n",
              "var outputEl = gd.closest('.output');\n",
              "if (outputEl) {{\n",
              "    x.observe(outputEl, {childList: true});\n",
              "}}\n",
              "\n",
              "                        })                };                            </script>        </div>\n",
              "</body>\n",
              "</html>"
            ]
          },
          "metadata": {}
        }
      ]
    },
    {
      "cell_type": "markdown",
      "source": [
        "Tenemos la misma tendencia de que la mayoria de pacientes vienen por emergencia. Está variable pierde importancia por el momento"
      ],
      "metadata": {
        "id": "egtbCjn6Kx0W"
      }
    },
    {
      "cell_type": "markdown",
      "source": [
        "En este punto tenemos caracterizado 4 grupos, el grupo de control, grupo 1, grupo 2 y el grupo de los pacientes que no tomaban medicina. Este análisis corresponde al 18.4% de la data total del dataset de Strack. Ahora vamos a mirar si encontramos relaciones significativas para el resto de datos a los cuales no les hicieron el examen de HbA1c."
      ],
      "metadata": {
        "id": "kOLdlJRL52AL"
      }
    },
    {
      "cell_type": "markdown",
      "source": [
        "### Sin HbA1c"
      ],
      "metadata": {
        "id": "NdPWX6U16PMw"
      }
    },
    {
      "cell_type": "markdown",
      "source": [
        "En su paper Strack encuentra una relacion entre la aplicacion del examen y la readmision. Ya que la probabilidad de readmision es menor si se aplico el examen.\n",
        "\n",
        "En nuestro estudio hemos visto que sin importar los resultados del examen existe una tendencia a que la mayoria no presente readmision. Adicionalmente, observamos unas medicinas que se cree van a presentar el mismo comportamiento. Donde su presencia reduce la probabilidad de readmision.\n",
        "\n",
        "Ahora vamos a hacer un estudio corto para verificar del 80% restante de paciente cuantos presentan readmision, cual es su motivo de ingreso y si en este grupo hay cambios de medicamento y si esta relacionado con la readmision"
      ],
      "metadata": {
        "id": "AfCxKxxvURWC"
      }
    },
    {
      "cell_type": "code",
      "source": [
        "A1c_no = Strack_dataset[(Strack_dataset['A1Cresult'] == 'none')]\n",
        "len(A1c_no)"
      ],
      "metadata": {
        "id": "AmMazOZt6LyZ",
        "colab": {
          "base_uri": "https://localhost:8080/"
        },
        "outputId": "e4e13e2e-f9b0-43fc-8d5b-18cff182527e"
      },
      "execution_count": 57,
      "outputs": [
        {
          "output_type": "execute_result",
          "data": {
            "text/plain": [
              "57134"
            ]
          },
          "metadata": {},
          "execution_count": 57
        }
      ]
    },
    {
      "cell_type": "markdown",
      "source": [
        "Primero vamos a mirar la distribucion de readmitidos de los pacientes a los que no se les hizo el examen"
      ],
      "metadata": {
        "id": "OHYYYpv7XeV6"
      }
    },
    {
      "cell_type": "code",
      "source": [
        "A1C_no_freq = A1c_no.groupby(['change'])['readmitted'].value_counts().reset_index()\n",
        "fig = px.histogram(A1C_no_freq, x=\"readmitted\", y=\"count\",\n",
        "                   barmode='group', height=400)\n",
        "fig.show()"
      ],
      "metadata": {
        "id": "hices1Fh6TVZ",
        "colab": {
          "base_uri": "https://localhost:8080/",
          "height": 417
        },
        "outputId": "f4d8b11d-04f1-4fc4-9204-df8db5eaee95"
      },
      "execution_count": 58,
      "outputs": [
        {
          "output_type": "display_data",
          "data": {
            "text/html": [
              "<html>\n",
              "<head><meta charset=\"utf-8\" /></head>\n",
              "<body>\n",
              "    <div>            <script src=\"https://cdnjs.cloudflare.com/ajax/libs/mathjax/2.7.5/MathJax.js?config=TeX-AMS-MML_SVG\"></script><script type=\"text/javascript\">if (window.MathJax && window.MathJax.Hub && window.MathJax.Hub.Config) {window.MathJax.Hub.Config({SVG: {font: \"STIX-Web\"}});}</script>                <script type=\"text/javascript\">window.PlotlyConfig = {MathJaxConfig: 'local'};</script>\n",
              "        <script charset=\"utf-8\" src=\"https://cdn.plot.ly/plotly-2.35.2.min.js\"></script>                <div id=\"feff2087-56cc-458e-aa75-97eb80435078\" class=\"plotly-graph-div\" style=\"height:400px; width:100%;\"></div>            <script type=\"text/javascript\">                                    window.PLOTLYENV=window.PLOTLYENV || {};                                    if (document.getElementById(\"feff2087-56cc-458e-aa75-97eb80435078\")) {                    Plotly.newPlot(                        \"feff2087-56cc-458e-aa75-97eb80435078\",                        [{\"alignmentgroup\":\"True\",\"bingroup\":\"x\",\"histfunc\":\"sum\",\"hovertemplate\":\"readmitted=%{x}\\u003cbr\\u003esum of count=%{y}\\u003cextra\\u003e\\u003c\\u002fextra\\u003e\",\"legendgroup\":\"\",\"marker\":{\"color\":\"#636efa\",\"pattern\":{\"shape\":\"\"}},\"name\":\"\",\"offsetgroup\":\"\",\"orientation\":\"v\",\"showlegend\":false,\"x\":[\"NO\",\"\\u003e30\",\"\\u003c30\",\"NO\",\"\\u003e30\",\"\\u003c30\"],\"xaxis\":\"x\",\"y\":[13857,8195,2359,19717,10166,2840],\"yaxis\":\"y\",\"type\":\"histogram\"}],                        {\"template\":{\"data\":{\"histogram2dcontour\":[{\"type\":\"histogram2dcontour\",\"colorbar\":{\"outlinewidth\":0,\"ticks\":\"\"},\"colorscale\":[[0.0,\"#0d0887\"],[0.1111111111111111,\"#46039f\"],[0.2222222222222222,\"#7201a8\"],[0.3333333333333333,\"#9c179e\"],[0.4444444444444444,\"#bd3786\"],[0.5555555555555556,\"#d8576b\"],[0.6666666666666666,\"#ed7953\"],[0.7777777777777778,\"#fb9f3a\"],[0.8888888888888888,\"#fdca26\"],[1.0,\"#f0f921\"]]}],\"choropleth\":[{\"type\":\"choropleth\",\"colorbar\":{\"outlinewidth\":0,\"ticks\":\"\"}}],\"histogram2d\":[{\"type\":\"histogram2d\",\"colorbar\":{\"outlinewidth\":0,\"ticks\":\"\"},\"colorscale\":[[0.0,\"#0d0887\"],[0.1111111111111111,\"#46039f\"],[0.2222222222222222,\"#7201a8\"],[0.3333333333333333,\"#9c179e\"],[0.4444444444444444,\"#bd3786\"],[0.5555555555555556,\"#d8576b\"],[0.6666666666666666,\"#ed7953\"],[0.7777777777777778,\"#fb9f3a\"],[0.8888888888888888,\"#fdca26\"],[1.0,\"#f0f921\"]]}],\"heatmap\":[{\"type\":\"heatmap\",\"colorbar\":{\"outlinewidth\":0,\"ticks\":\"\"},\"colorscale\":[[0.0,\"#0d0887\"],[0.1111111111111111,\"#46039f\"],[0.2222222222222222,\"#7201a8\"],[0.3333333333333333,\"#9c179e\"],[0.4444444444444444,\"#bd3786\"],[0.5555555555555556,\"#d8576b\"],[0.6666666666666666,\"#ed7953\"],[0.7777777777777778,\"#fb9f3a\"],[0.8888888888888888,\"#fdca26\"],[1.0,\"#f0f921\"]]}],\"heatmapgl\":[{\"type\":\"heatmapgl\",\"colorbar\":{\"outlinewidth\":0,\"ticks\":\"\"},\"colorscale\":[[0.0,\"#0d0887\"],[0.1111111111111111,\"#46039f\"],[0.2222222222222222,\"#7201a8\"],[0.3333333333333333,\"#9c179e\"],[0.4444444444444444,\"#bd3786\"],[0.5555555555555556,\"#d8576b\"],[0.6666666666666666,\"#ed7953\"],[0.7777777777777778,\"#fb9f3a\"],[0.8888888888888888,\"#fdca26\"],[1.0,\"#f0f921\"]]}],\"contourcarpet\":[{\"type\":\"contourcarpet\",\"colorbar\":{\"outlinewidth\":0,\"ticks\":\"\"}}],\"contour\":[{\"type\":\"contour\",\"colorbar\":{\"outlinewidth\":0,\"ticks\":\"\"},\"colorscale\":[[0.0,\"#0d0887\"],[0.1111111111111111,\"#46039f\"],[0.2222222222222222,\"#7201a8\"],[0.3333333333333333,\"#9c179e\"],[0.4444444444444444,\"#bd3786\"],[0.5555555555555556,\"#d8576b\"],[0.6666666666666666,\"#ed7953\"],[0.7777777777777778,\"#fb9f3a\"],[0.8888888888888888,\"#fdca26\"],[1.0,\"#f0f921\"]]}],\"surface\":[{\"type\":\"surface\",\"colorbar\":{\"outlinewidth\":0,\"ticks\":\"\"},\"colorscale\":[[0.0,\"#0d0887\"],[0.1111111111111111,\"#46039f\"],[0.2222222222222222,\"#7201a8\"],[0.3333333333333333,\"#9c179e\"],[0.4444444444444444,\"#bd3786\"],[0.5555555555555556,\"#d8576b\"],[0.6666666666666666,\"#ed7953\"],[0.7777777777777778,\"#fb9f3a\"],[0.8888888888888888,\"#fdca26\"],[1.0,\"#f0f921\"]]}],\"mesh3d\":[{\"type\":\"mesh3d\",\"colorbar\":{\"outlinewidth\":0,\"ticks\":\"\"}}],\"scatter\":[{\"fillpattern\":{\"fillmode\":\"overlay\",\"size\":10,\"solidity\":0.2},\"type\":\"scatter\"}],\"parcoords\":[{\"type\":\"parcoords\",\"line\":{\"colorbar\":{\"outlinewidth\":0,\"ticks\":\"\"}}}],\"scatterpolargl\":[{\"type\":\"scatterpolargl\",\"marker\":{\"colorbar\":{\"outlinewidth\":0,\"ticks\":\"\"}}}],\"bar\":[{\"error_x\":{\"color\":\"#2a3f5f\"},\"error_y\":{\"color\":\"#2a3f5f\"},\"marker\":{\"line\":{\"color\":\"#E5ECF6\",\"width\":0.5},\"pattern\":{\"fillmode\":\"overlay\",\"size\":10,\"solidity\":0.2}},\"type\":\"bar\"}],\"scattergeo\":[{\"type\":\"scattergeo\",\"marker\":{\"colorbar\":{\"outlinewidth\":0,\"ticks\":\"\"}}}],\"scatterpolar\":[{\"type\":\"scatterpolar\",\"marker\":{\"colorbar\":{\"outlinewidth\":0,\"ticks\":\"\"}}}],\"histogram\":[{\"marker\":{\"pattern\":{\"fillmode\":\"overlay\",\"size\":10,\"solidity\":0.2}},\"type\":\"histogram\"}],\"scattergl\":[{\"type\":\"scattergl\",\"marker\":{\"colorbar\":{\"outlinewidth\":0,\"ticks\":\"\"}}}],\"scatter3d\":[{\"type\":\"scatter3d\",\"line\":{\"colorbar\":{\"outlinewidth\":0,\"ticks\":\"\"}},\"marker\":{\"colorbar\":{\"outlinewidth\":0,\"ticks\":\"\"}}}],\"scattermapbox\":[{\"type\":\"scattermapbox\",\"marker\":{\"colorbar\":{\"outlinewidth\":0,\"ticks\":\"\"}}}],\"scatterternary\":[{\"type\":\"scatterternary\",\"marker\":{\"colorbar\":{\"outlinewidth\":0,\"ticks\":\"\"}}}],\"scattercarpet\":[{\"type\":\"scattercarpet\",\"marker\":{\"colorbar\":{\"outlinewidth\":0,\"ticks\":\"\"}}}],\"carpet\":[{\"aaxis\":{\"endlinecolor\":\"#2a3f5f\",\"gridcolor\":\"white\",\"linecolor\":\"white\",\"minorgridcolor\":\"white\",\"startlinecolor\":\"#2a3f5f\"},\"baxis\":{\"endlinecolor\":\"#2a3f5f\",\"gridcolor\":\"white\",\"linecolor\":\"white\",\"minorgridcolor\":\"white\",\"startlinecolor\":\"#2a3f5f\"},\"type\":\"carpet\"}],\"table\":[{\"cells\":{\"fill\":{\"color\":\"#EBF0F8\"},\"line\":{\"color\":\"white\"}},\"header\":{\"fill\":{\"color\":\"#C8D4E3\"},\"line\":{\"color\":\"white\"}},\"type\":\"table\"}],\"barpolar\":[{\"marker\":{\"line\":{\"color\":\"#E5ECF6\",\"width\":0.5},\"pattern\":{\"fillmode\":\"overlay\",\"size\":10,\"solidity\":0.2}},\"type\":\"barpolar\"}],\"pie\":[{\"automargin\":true,\"type\":\"pie\"}]},\"layout\":{\"autotypenumbers\":\"strict\",\"colorway\":[\"#636efa\",\"#EF553B\",\"#00cc96\",\"#ab63fa\",\"#FFA15A\",\"#19d3f3\",\"#FF6692\",\"#B6E880\",\"#FF97FF\",\"#FECB52\"],\"font\":{\"color\":\"#2a3f5f\"},\"hovermode\":\"closest\",\"hoverlabel\":{\"align\":\"left\"},\"paper_bgcolor\":\"white\",\"plot_bgcolor\":\"#E5ECF6\",\"polar\":{\"bgcolor\":\"#E5ECF6\",\"angularaxis\":{\"gridcolor\":\"white\",\"linecolor\":\"white\",\"ticks\":\"\"},\"radialaxis\":{\"gridcolor\":\"white\",\"linecolor\":\"white\",\"ticks\":\"\"}},\"ternary\":{\"bgcolor\":\"#E5ECF6\",\"aaxis\":{\"gridcolor\":\"white\",\"linecolor\":\"white\",\"ticks\":\"\"},\"baxis\":{\"gridcolor\":\"white\",\"linecolor\":\"white\",\"ticks\":\"\"},\"caxis\":{\"gridcolor\":\"white\",\"linecolor\":\"white\",\"ticks\":\"\"}},\"coloraxis\":{\"colorbar\":{\"outlinewidth\":0,\"ticks\":\"\"}},\"colorscale\":{\"sequential\":[[0.0,\"#0d0887\"],[0.1111111111111111,\"#46039f\"],[0.2222222222222222,\"#7201a8\"],[0.3333333333333333,\"#9c179e\"],[0.4444444444444444,\"#bd3786\"],[0.5555555555555556,\"#d8576b\"],[0.6666666666666666,\"#ed7953\"],[0.7777777777777778,\"#fb9f3a\"],[0.8888888888888888,\"#fdca26\"],[1.0,\"#f0f921\"]],\"sequentialminus\":[[0.0,\"#0d0887\"],[0.1111111111111111,\"#46039f\"],[0.2222222222222222,\"#7201a8\"],[0.3333333333333333,\"#9c179e\"],[0.4444444444444444,\"#bd3786\"],[0.5555555555555556,\"#d8576b\"],[0.6666666666666666,\"#ed7953\"],[0.7777777777777778,\"#fb9f3a\"],[0.8888888888888888,\"#fdca26\"],[1.0,\"#f0f921\"]],\"diverging\":[[0,\"#8e0152\"],[0.1,\"#c51b7d\"],[0.2,\"#de77ae\"],[0.3,\"#f1b6da\"],[0.4,\"#fde0ef\"],[0.5,\"#f7f7f7\"],[0.6,\"#e6f5d0\"],[0.7,\"#b8e186\"],[0.8,\"#7fbc41\"],[0.9,\"#4d9221\"],[1,\"#276419\"]]},\"xaxis\":{\"gridcolor\":\"white\",\"linecolor\":\"white\",\"ticks\":\"\",\"title\":{\"standoff\":15},\"zerolinecolor\":\"white\",\"automargin\":true,\"zerolinewidth\":2},\"yaxis\":{\"gridcolor\":\"white\",\"linecolor\":\"white\",\"ticks\":\"\",\"title\":{\"standoff\":15},\"zerolinecolor\":\"white\",\"automargin\":true,\"zerolinewidth\":2},\"scene\":{\"xaxis\":{\"backgroundcolor\":\"#E5ECF6\",\"gridcolor\":\"white\",\"linecolor\":\"white\",\"showbackground\":true,\"ticks\":\"\",\"zerolinecolor\":\"white\",\"gridwidth\":2},\"yaxis\":{\"backgroundcolor\":\"#E5ECF6\",\"gridcolor\":\"white\",\"linecolor\":\"white\",\"showbackground\":true,\"ticks\":\"\",\"zerolinecolor\":\"white\",\"gridwidth\":2},\"zaxis\":{\"backgroundcolor\":\"#E5ECF6\",\"gridcolor\":\"white\",\"linecolor\":\"white\",\"showbackground\":true,\"ticks\":\"\",\"zerolinecolor\":\"white\",\"gridwidth\":2}},\"shapedefaults\":{\"line\":{\"color\":\"#2a3f5f\"}},\"annotationdefaults\":{\"arrowcolor\":\"#2a3f5f\",\"arrowhead\":0,\"arrowwidth\":1},\"geo\":{\"bgcolor\":\"white\",\"landcolor\":\"#E5ECF6\",\"subunitcolor\":\"white\",\"showland\":true,\"showlakes\":true,\"lakecolor\":\"white\"},\"title\":{\"x\":0.05},\"mapbox\":{\"style\":\"light\"}}},\"xaxis\":{\"anchor\":\"y\",\"domain\":[0.0,1.0],\"title\":{\"text\":\"readmitted\"}},\"yaxis\":{\"anchor\":\"x\",\"domain\":[0.0,1.0],\"title\":{\"text\":\"sum of count\"}},\"legend\":{\"tracegroupgap\":0},\"margin\":{\"t\":60},\"barmode\":\"group\",\"height\":400},                        {\"responsive\": true}                    ).then(function(){\n",
              "                            \n",
              "var gd = document.getElementById('feff2087-56cc-458e-aa75-97eb80435078');\n",
              "var x = new MutationObserver(function (mutations, observer) {{\n",
              "        var display = window.getComputedStyle(gd).display;\n",
              "        if (!display || display === 'none') {{\n",
              "            console.log([gd, 'removed!']);\n",
              "            Plotly.purge(gd);\n",
              "            observer.disconnect();\n",
              "        }}\n",
              "}});\n",
              "\n",
              "// Listen for the removal of the full notebook cells\n",
              "var notebookContainer = gd.closest('#notebook-container');\n",
              "if (notebookContainer) {{\n",
              "    x.observe(notebookContainer, {childList: true});\n",
              "}}\n",
              "\n",
              "// Listen for the clearing of the current output cell\n",
              "var outputEl = gd.closest('.output');\n",
              "if (outputEl) {{\n",
              "    x.observe(outputEl, {childList: true});\n",
              "}}\n",
              "\n",
              "                        })                };                            </script>        </div>\n",
              "</body>\n",
              "</html>"
            ]
          },
          "metadata": {}
        }
      ]
    },
    {
      "cell_type": "markdown",
      "source": [
        "En est emomento vamos a realizar unos calculos rapidos\n",
        "\n",
        "*  El porcentaje de readmitidos cuando no les hicieron la prueba es del 58,7%\n",
        "*  El porcentaje de readmitidos cuando si les hacen la prueba es del 61,5%\n",
        "\n",
        "Esta pequeña, pero sutil diferencia es a la que hace referencia Strack y la cual acabamos de confirmar.\n",
        "\n",
        "En este dataset vale la pena revisar las medicinas que estan tomando los de readmision, sin embargo, vamos a pasar a los siguientes dataset en aras de cubrir terreno nuevo"
      ],
      "metadata": {
        "id": "kjkU2yB7Z12k"
      }
    },
    {
      "cell_type": "markdown",
      "source": [
        "Finalizado este análisis, vamos a continuar con los dataset pendientes. El dataset Hernandez tiene como diferencia que los pacientes pueden tener reingreso. Por esto, el análisis en este dataset se va a enfocar en los clientes que tienen más de 1 reingreso"
      ],
      "metadata": {
        "id": "Cn7TFhRV6UI-"
      }
    },
    {
      "cell_type": "markdown",
      "source": [
        "## Hernandez Dataset"
      ],
      "metadata": {
        "id": "X0YSYdgW6nd4"
      }
    },
    {
      "cell_type": "markdown",
      "source": [
        "En el dataset Hernandez tenemos la informacion de todos los pacientes y sus reingresos, menos de los muertos. Este dataset lo vamos a modificar un poco y solo vamos a estudiar a los pacientes que tuvieron reingresos"
      ],
      "metadata": {
        "id": "AY0k9qi3dW5a"
      }
    },
    {
      "cell_type": "code",
      "source": [
        "Hernandez = pd.read_csv('/content/drive/MyDrive/Diabetes Globant Challenge/data/Hernandez_Diabetes.csv')\n",
        "Hernandez.head(2)"
      ],
      "metadata": {
        "id": "uNk8_5r-6mpU",
        "colab": {
          "base_uri": "https://localhost:8080/",
          "height": 184
        },
        "outputId": "8f99d0d1-bf90-4173-d516-d692d3c2ab71"
      },
      "execution_count": 121,
      "outputs": [
        {
          "output_type": "execute_result",
          "data": {
            "text/plain": [
              "   Unnamed: 0  encounter_id  patient_nbr       race  gender      age  \\\n",
              "0        4267      24437208          135  Caucasian  Female  [50-60)   \n",
              "1        4780      26264286          135  Caucasian  Female  [50-60)   \n",
              "\n",
              "   admission_type_id  discharge_disposition_id  admission_source_id  \\\n",
              "0                  2                         1                    1   \n",
              "1                  1                         1                    7   \n",
              "\n",
              "   time_in_hospital                medical_specialty  num_lab_procedures  \\\n",
              "0                 8                       Cardiology                  77   \n",
              "1                 3  Surgery-Cardiovascular/Thoracic                  31   \n",
              "\n",
              "   num_procedures  num_medications  number_outpatient  number_emergency  \\\n",
              "0               6               33                  0                 0   \n",
              "1               1               14                  0                 0   \n",
              "\n",
              "   number_inpatient diag_1 diag_2 diag_3  number_diagnoses max_glu_serum  \\\n",
              "0                 0    401    997    560                 8          none   \n",
              "1                 1    998     41    250                 5          none   \n",
              "\n",
              "  A1Cresult metformin repaglinide nateglinide chlorpropamide glimepiride  \\\n",
              "0      none    Steady          No          No             No          No   \n",
              "1      none    Steady          No          No             No          No   \n",
              "\n",
              "  acetohexamide glipizide glyburide tolbutamide pioglitazone rosiglitazone  \\\n",
              "0            No        No      Down          No           No            No   \n",
              "1            No        No    Steady          No           No            No   \n",
              "\n",
              "  acarbose miglitol troglitazone tolazamide examide citoglipton insulin  \\\n",
              "0       No       No           No         No      No          No  Steady   \n",
              "1       No       No           No         No      No          No      No   \n",
              "\n",
              "  glyburide-metformin glipizide-metformin glimepiride-pioglitazone  \\\n",
              "0                  No                  No                       No   \n",
              "1                  No                  No                       No   \n",
              "\n",
              "  metformin-rosiglitazone metformin-pioglitazone change diabetesMed  \\\n",
              "0                      No                     No     Ch         Yes   \n",
              "1                      No                     No     Ch         Yes   \n",
              "\n",
              "  readmitted  all_time_number_inpatient  \n",
              "0        <30                          1  \n",
              "1        >30                          2  "
            ],
            "text/html": [
              "\n",
              "  <div id=\"df-6a86dfd2-5ea5-4085-a284-40f9b15e2daa\" class=\"colab-df-container\">\n",
              "    <div>\n",
              "<style scoped>\n",
              "    .dataframe tbody tr th:only-of-type {\n",
              "        vertical-align: middle;\n",
              "    }\n",
              "\n",
              "    .dataframe tbody tr th {\n",
              "        vertical-align: top;\n",
              "    }\n",
              "\n",
              "    .dataframe thead th {\n",
              "        text-align: right;\n",
              "    }\n",
              "</style>\n",
              "<table border=\"1\" class=\"dataframe\">\n",
              "  <thead>\n",
              "    <tr style=\"text-align: right;\">\n",
              "      <th></th>\n",
              "      <th>Unnamed: 0</th>\n",
              "      <th>encounter_id</th>\n",
              "      <th>patient_nbr</th>\n",
              "      <th>race</th>\n",
              "      <th>gender</th>\n",
              "      <th>age</th>\n",
              "      <th>admission_type_id</th>\n",
              "      <th>discharge_disposition_id</th>\n",
              "      <th>admission_source_id</th>\n",
              "      <th>time_in_hospital</th>\n",
              "      <th>medical_specialty</th>\n",
              "      <th>num_lab_procedures</th>\n",
              "      <th>num_procedures</th>\n",
              "      <th>num_medications</th>\n",
              "      <th>number_outpatient</th>\n",
              "      <th>number_emergency</th>\n",
              "      <th>number_inpatient</th>\n",
              "      <th>diag_1</th>\n",
              "      <th>diag_2</th>\n",
              "      <th>diag_3</th>\n",
              "      <th>number_diagnoses</th>\n",
              "      <th>max_glu_serum</th>\n",
              "      <th>A1Cresult</th>\n",
              "      <th>metformin</th>\n",
              "      <th>repaglinide</th>\n",
              "      <th>nateglinide</th>\n",
              "      <th>chlorpropamide</th>\n",
              "      <th>glimepiride</th>\n",
              "      <th>acetohexamide</th>\n",
              "      <th>glipizide</th>\n",
              "      <th>glyburide</th>\n",
              "      <th>tolbutamide</th>\n",
              "      <th>pioglitazone</th>\n",
              "      <th>rosiglitazone</th>\n",
              "      <th>acarbose</th>\n",
              "      <th>miglitol</th>\n",
              "      <th>troglitazone</th>\n",
              "      <th>tolazamide</th>\n",
              "      <th>examide</th>\n",
              "      <th>citoglipton</th>\n",
              "      <th>insulin</th>\n",
              "      <th>glyburide-metformin</th>\n",
              "      <th>glipizide-metformin</th>\n",
              "      <th>glimepiride-pioglitazone</th>\n",
              "      <th>metformin-rosiglitazone</th>\n",
              "      <th>metformin-pioglitazone</th>\n",
              "      <th>change</th>\n",
              "      <th>diabetesMed</th>\n",
              "      <th>readmitted</th>\n",
              "      <th>all_time_number_inpatient</th>\n",
              "    </tr>\n",
              "  </thead>\n",
              "  <tbody>\n",
              "    <tr>\n",
              "      <th>0</th>\n",
              "      <td>4267</td>\n",
              "      <td>24437208</td>\n",
              "      <td>135</td>\n",
              "      <td>Caucasian</td>\n",
              "      <td>Female</td>\n",
              "      <td>[50-60)</td>\n",
              "      <td>2</td>\n",
              "      <td>1</td>\n",
              "      <td>1</td>\n",
              "      <td>8</td>\n",
              "      <td>Cardiology</td>\n",
              "      <td>77</td>\n",
              "      <td>6</td>\n",
              "      <td>33</td>\n",
              "      <td>0</td>\n",
              "      <td>0</td>\n",
              "      <td>0</td>\n",
              "      <td>401</td>\n",
              "      <td>997</td>\n",
              "      <td>560</td>\n",
              "      <td>8</td>\n",
              "      <td>none</td>\n",
              "      <td>none</td>\n",
              "      <td>Steady</td>\n",
              "      <td>No</td>\n",
              "      <td>No</td>\n",
              "      <td>No</td>\n",
              "      <td>No</td>\n",
              "      <td>No</td>\n",
              "      <td>No</td>\n",
              "      <td>Down</td>\n",
              "      <td>No</td>\n",
              "      <td>No</td>\n",
              "      <td>No</td>\n",
              "      <td>No</td>\n",
              "      <td>No</td>\n",
              "      <td>No</td>\n",
              "      <td>No</td>\n",
              "      <td>No</td>\n",
              "      <td>No</td>\n",
              "      <td>Steady</td>\n",
              "      <td>No</td>\n",
              "      <td>No</td>\n",
              "      <td>No</td>\n",
              "      <td>No</td>\n",
              "      <td>No</td>\n",
              "      <td>Ch</td>\n",
              "      <td>Yes</td>\n",
              "      <td>&lt;30</td>\n",
              "      <td>1</td>\n",
              "    </tr>\n",
              "    <tr>\n",
              "      <th>1</th>\n",
              "      <td>4780</td>\n",
              "      <td>26264286</td>\n",
              "      <td>135</td>\n",
              "      <td>Caucasian</td>\n",
              "      <td>Female</td>\n",
              "      <td>[50-60)</td>\n",
              "      <td>1</td>\n",
              "      <td>1</td>\n",
              "      <td>7</td>\n",
              "      <td>3</td>\n",
              "      <td>Surgery-Cardiovascular/Thoracic</td>\n",
              "      <td>31</td>\n",
              "      <td>1</td>\n",
              "      <td>14</td>\n",
              "      <td>0</td>\n",
              "      <td>0</td>\n",
              "      <td>1</td>\n",
              "      <td>998</td>\n",
              "      <td>41</td>\n",
              "      <td>250</td>\n",
              "      <td>5</td>\n",
              "      <td>none</td>\n",
              "      <td>none</td>\n",
              "      <td>Steady</td>\n",
              "      <td>No</td>\n",
              "      <td>No</td>\n",
              "      <td>No</td>\n",
              "      <td>No</td>\n",
              "      <td>No</td>\n",
              "      <td>No</td>\n",
              "      <td>Steady</td>\n",
              "      <td>No</td>\n",
              "      <td>No</td>\n",
              "      <td>No</td>\n",
              "      <td>No</td>\n",
              "      <td>No</td>\n",
              "      <td>No</td>\n",
              "      <td>No</td>\n",
              "      <td>No</td>\n",
              "      <td>No</td>\n",
              "      <td>No</td>\n",
              "      <td>No</td>\n",
              "      <td>No</td>\n",
              "      <td>No</td>\n",
              "      <td>No</td>\n",
              "      <td>No</td>\n",
              "      <td>Ch</td>\n",
              "      <td>Yes</td>\n",
              "      <td>&gt;30</td>\n",
              "      <td>2</td>\n",
              "    </tr>\n",
              "  </tbody>\n",
              "</table>\n",
              "</div>\n",
              "    <div class=\"colab-df-buttons\">\n",
              "\n",
              "  <div class=\"colab-df-container\">\n",
              "    <button class=\"colab-df-convert\" onclick=\"convertToInteractive('df-6a86dfd2-5ea5-4085-a284-40f9b15e2daa')\"\n",
              "            title=\"Convert this dataframe to an interactive table.\"\n",
              "            style=\"display:none;\">\n",
              "\n",
              "  <svg xmlns=\"http://www.w3.org/2000/svg\" height=\"24px\" viewBox=\"0 -960 960 960\">\n",
              "    <path d=\"M120-120v-720h720v720H120Zm60-500h600v-160H180v160Zm220 220h160v-160H400v160Zm0 220h160v-160H400v160ZM180-400h160v-160H180v160Zm440 0h160v-160H620v160ZM180-180h160v-160H180v160Zm440 0h160v-160H620v160Z\"/>\n",
              "  </svg>\n",
              "    </button>\n",
              "\n",
              "  <style>\n",
              "    .colab-df-container {\n",
              "      display:flex;\n",
              "      gap: 12px;\n",
              "    }\n",
              "\n",
              "    .colab-df-convert {\n",
              "      background-color: #E8F0FE;\n",
              "      border: none;\n",
              "      border-radius: 50%;\n",
              "      cursor: pointer;\n",
              "      display: none;\n",
              "      fill: #1967D2;\n",
              "      height: 32px;\n",
              "      padding: 0 0 0 0;\n",
              "      width: 32px;\n",
              "    }\n",
              "\n",
              "    .colab-df-convert:hover {\n",
              "      background-color: #E2EBFA;\n",
              "      box-shadow: 0px 1px 2px rgba(60, 64, 67, 0.3), 0px 1px 3px 1px rgba(60, 64, 67, 0.15);\n",
              "      fill: #174EA6;\n",
              "    }\n",
              "\n",
              "    .colab-df-buttons div {\n",
              "      margin-bottom: 4px;\n",
              "    }\n",
              "\n",
              "    [theme=dark] .colab-df-convert {\n",
              "      background-color: #3B4455;\n",
              "      fill: #D2E3FC;\n",
              "    }\n",
              "\n",
              "    [theme=dark] .colab-df-convert:hover {\n",
              "      background-color: #434B5C;\n",
              "      box-shadow: 0px 1px 3px 1px rgba(0, 0, 0, 0.15);\n",
              "      filter: drop-shadow(0px 1px 2px rgba(0, 0, 0, 0.3));\n",
              "      fill: #FFFFFF;\n",
              "    }\n",
              "  </style>\n",
              "\n",
              "    <script>\n",
              "      const buttonEl =\n",
              "        document.querySelector('#df-6a86dfd2-5ea5-4085-a284-40f9b15e2daa button.colab-df-convert');\n",
              "      buttonEl.style.display =\n",
              "        google.colab.kernel.accessAllowed ? 'block' : 'none';\n",
              "\n",
              "      async function convertToInteractive(key) {\n",
              "        const element = document.querySelector('#df-6a86dfd2-5ea5-4085-a284-40f9b15e2daa');\n",
              "        const dataTable =\n",
              "          await google.colab.kernel.invokeFunction('convertToInteractive',\n",
              "                                                    [key], {});\n",
              "        if (!dataTable) return;\n",
              "\n",
              "        const docLinkHtml = 'Like what you see? Visit the ' +\n",
              "          '<a target=\"_blank\" href=https://colab.research.google.com/notebooks/data_table.ipynb>data table notebook</a>'\n",
              "          + ' to learn more about interactive tables.';\n",
              "        element.innerHTML = '';\n",
              "        dataTable['output_type'] = 'display_data';\n",
              "        await google.colab.output.renderOutput(dataTable, element);\n",
              "        const docLink = document.createElement('div');\n",
              "        docLink.innerHTML = docLinkHtml;\n",
              "        element.appendChild(docLink);\n",
              "      }\n",
              "    </script>\n",
              "  </div>\n",
              "\n",
              "\n",
              "<div id=\"df-3021b291-b7cd-4673-907d-dcbacb1f9a0d\">\n",
              "  <button class=\"colab-df-quickchart\" onclick=\"quickchart('df-3021b291-b7cd-4673-907d-dcbacb1f9a0d')\"\n",
              "            title=\"Suggest charts\"\n",
              "            style=\"display:none;\">\n",
              "\n",
              "<svg xmlns=\"http://www.w3.org/2000/svg\" height=\"24px\"viewBox=\"0 0 24 24\"\n",
              "     width=\"24px\">\n",
              "    <g>\n",
              "        <path d=\"M19 3H5c-1.1 0-2 .9-2 2v14c0 1.1.9 2 2 2h14c1.1 0 2-.9 2-2V5c0-1.1-.9-2-2-2zM9 17H7v-7h2v7zm4 0h-2V7h2v10zm4 0h-2v-4h2v4z\"/>\n",
              "    </g>\n",
              "</svg>\n",
              "  </button>\n",
              "\n",
              "<style>\n",
              "  .colab-df-quickchart {\n",
              "      --bg-color: #E8F0FE;\n",
              "      --fill-color: #1967D2;\n",
              "      --hover-bg-color: #E2EBFA;\n",
              "      --hover-fill-color: #174EA6;\n",
              "      --disabled-fill-color: #AAA;\n",
              "      --disabled-bg-color: #DDD;\n",
              "  }\n",
              "\n",
              "  [theme=dark] .colab-df-quickchart {\n",
              "      --bg-color: #3B4455;\n",
              "      --fill-color: #D2E3FC;\n",
              "      --hover-bg-color: #434B5C;\n",
              "      --hover-fill-color: #FFFFFF;\n",
              "      --disabled-bg-color: #3B4455;\n",
              "      --disabled-fill-color: #666;\n",
              "  }\n",
              "\n",
              "  .colab-df-quickchart {\n",
              "    background-color: var(--bg-color);\n",
              "    border: none;\n",
              "    border-radius: 50%;\n",
              "    cursor: pointer;\n",
              "    display: none;\n",
              "    fill: var(--fill-color);\n",
              "    height: 32px;\n",
              "    padding: 0;\n",
              "    width: 32px;\n",
              "  }\n",
              "\n",
              "  .colab-df-quickchart:hover {\n",
              "    background-color: var(--hover-bg-color);\n",
              "    box-shadow: 0 1px 2px rgba(60, 64, 67, 0.3), 0 1px 3px 1px rgba(60, 64, 67, 0.15);\n",
              "    fill: var(--button-hover-fill-color);\n",
              "  }\n",
              "\n",
              "  .colab-df-quickchart-complete:disabled,\n",
              "  .colab-df-quickchart-complete:disabled:hover {\n",
              "    background-color: var(--disabled-bg-color);\n",
              "    fill: var(--disabled-fill-color);\n",
              "    box-shadow: none;\n",
              "  }\n",
              "\n",
              "  .colab-df-spinner {\n",
              "    border: 2px solid var(--fill-color);\n",
              "    border-color: transparent;\n",
              "    border-bottom-color: var(--fill-color);\n",
              "    animation:\n",
              "      spin 1s steps(1) infinite;\n",
              "  }\n",
              "\n",
              "  @keyframes spin {\n",
              "    0% {\n",
              "      border-color: transparent;\n",
              "      border-bottom-color: var(--fill-color);\n",
              "      border-left-color: var(--fill-color);\n",
              "    }\n",
              "    20% {\n",
              "      border-color: transparent;\n",
              "      border-left-color: var(--fill-color);\n",
              "      border-top-color: var(--fill-color);\n",
              "    }\n",
              "    30% {\n",
              "      border-color: transparent;\n",
              "      border-left-color: var(--fill-color);\n",
              "      border-top-color: var(--fill-color);\n",
              "      border-right-color: var(--fill-color);\n",
              "    }\n",
              "    40% {\n",
              "      border-color: transparent;\n",
              "      border-right-color: var(--fill-color);\n",
              "      border-top-color: var(--fill-color);\n",
              "    }\n",
              "    60% {\n",
              "      border-color: transparent;\n",
              "      border-right-color: var(--fill-color);\n",
              "    }\n",
              "    80% {\n",
              "      border-color: transparent;\n",
              "      border-right-color: var(--fill-color);\n",
              "      border-bottom-color: var(--fill-color);\n",
              "    }\n",
              "    90% {\n",
              "      border-color: transparent;\n",
              "      border-bottom-color: var(--fill-color);\n",
              "    }\n",
              "  }\n",
              "</style>\n",
              "\n",
              "  <script>\n",
              "    async function quickchart(key) {\n",
              "      const quickchartButtonEl =\n",
              "        document.querySelector('#' + key + ' button');\n",
              "      quickchartButtonEl.disabled = true;  // To prevent multiple clicks.\n",
              "      quickchartButtonEl.classList.add('colab-df-spinner');\n",
              "      try {\n",
              "        const charts = await google.colab.kernel.invokeFunction(\n",
              "            'suggestCharts', [key], {});\n",
              "      } catch (error) {\n",
              "        console.error('Error during call to suggestCharts:', error);\n",
              "      }\n",
              "      quickchartButtonEl.classList.remove('colab-df-spinner');\n",
              "      quickchartButtonEl.classList.add('colab-df-quickchart-complete');\n",
              "    }\n",
              "    (() => {\n",
              "      let quickchartButtonEl =\n",
              "        document.querySelector('#df-3021b291-b7cd-4673-907d-dcbacb1f9a0d button');\n",
              "      quickchartButtonEl.style.display =\n",
              "        google.colab.kernel.accessAllowed ? 'block' : 'none';\n",
              "    })();\n",
              "  </script>\n",
              "</div>\n",
              "\n",
              "    </div>\n",
              "  </div>\n"
            ],
            "application/vnd.google.colaboratory.intrinsic+json": {
              "type": "dataframe",
              "variable_name": "Hernandez"
            }
          },
          "metadata": {},
          "execution_count": 121
        }
      ]
    },
    {
      "cell_type": "code",
      "source": [
        "Hernandez = Hernandez[Hernandez['patient_nbr'].duplicated(keep=False)]\n",
        "len(Hernandez)"
      ],
      "metadata": {
        "id": "7RHQUcr86p27",
        "colab": {
          "base_uri": "https://localhost:8080/"
        },
        "outputId": "178f76de-e2e1-4983-e343-ef5e2be652f8"
      },
      "execution_count": 122,
      "outputs": [
        {
          "output_type": "execute_result",
          "data": {
            "text/plain": [
              "46158"
            ]
          },
          "metadata": {},
          "execution_count": 122
        }
      ]
    },
    {
      "cell_type": "markdown",
      "source": [
        "Hasta aquí quitamos los duplicados y en teoria nos deberíamos quedar solo con las personas que fueron mas de una vez al hospital. Sin embargo, en aras de limpiar la data vamos a remover un caso que no debería pasar que se ha encontrado que ocurre. El caso donde el paciente en su primera visita no fue readmitido."
      ],
      "metadata": {
        "id": "YHtbFrEeMsoZ"
      }
    },
    {
      "cell_type": "code",
      "source": [
        "patients_with_no_readmitted_first_encounter = Hernandez.sort_values(['patient_nbr', 'encounter_id']).groupby('patient_nbr').first()[\n",
        "Hernandez.sort_values(['patient_nbr', 'encounter_id']).groupby('patient_nbr').first()['readmitted'] == 'NO'].index.tolist()\n",
        "\n",
        "Hernandez = Hernandez[~Hernandez['patient_nbr'].isin(patients_with_no_readmitted_first_encounter)]\n",
        "len(Hernandez)"
      ],
      "metadata": {
        "colab": {
          "base_uri": "https://localhost:8080/"
        },
        "id": "oAbei2etN2SZ",
        "outputId": "ae8b2597-9f72-40b2-cbfa-4566e45e4e3f"
      },
      "execution_count": 123,
      "outputs": [
        {
          "output_type": "execute_result",
          "data": {
            "text/plain": [
              "45574"
            ]
          },
          "metadata": {},
          "execution_count": 123
        }
      ]
    },
    {
      "cell_type": "markdown",
      "source": [
        "Inicialmente vamos a mirar cual es el tipo de admision mas comun de reingreso"
      ],
      "metadata": {
        "id": "UhAOdY2Sf0HW"
      }
    },
    {
      "cell_type": "code",
      "source": [
        "admin_type = Hernandez.groupby(['admission_type_id'])['readmitted'].value_counts().reset_index()\n",
        "fig = px.bar(admin_type, x=\"admission_type_id\", y=\"count\", color = \"readmitted\",\n",
        "                   barmode='group', height=400)\n",
        "fig.show()"
      ],
      "metadata": {
        "id": "YpZSgc_P6p71",
        "colab": {
          "base_uri": "https://localhost:8080/",
          "height": 417
        },
        "outputId": "26394bc3-73e7-4527-eae2-347d2719ecd6"
      },
      "execution_count": 124,
      "outputs": [
        {
          "output_type": "display_data",
          "data": {
            "text/html": [
              "<html>\n",
              "<head><meta charset=\"utf-8\" /></head>\n",
              "<body>\n",
              "    <div>            <script src=\"https://cdnjs.cloudflare.com/ajax/libs/mathjax/2.7.5/MathJax.js?config=TeX-AMS-MML_SVG\"></script><script type=\"text/javascript\">if (window.MathJax && window.MathJax.Hub && window.MathJax.Hub.Config) {window.MathJax.Hub.Config({SVG: {font: \"STIX-Web\"}});}</script>                <script type=\"text/javascript\">window.PlotlyConfig = {MathJaxConfig: 'local'};</script>\n",
              "        <script charset=\"utf-8\" src=\"https://cdn.plot.ly/plotly-2.35.2.min.js\"></script>                <div id=\"c8a2e9ff-2f7c-4c82-bdc9-e07bf11dbee6\" class=\"plotly-graph-div\" style=\"height:400px; width:100%;\"></div>            <script type=\"text/javascript\">                                    window.PLOTLYENV=window.PLOTLYENV || {};                                    if (document.getElementById(\"c8a2e9ff-2f7c-4c82-bdc9-e07bf11dbee6\")) {                    Plotly.newPlot(                        \"c8a2e9ff-2f7c-4c82-bdc9-e07bf11dbee6\",                        [{\"alignmentgroup\":\"True\",\"hovertemplate\":\"readmitted=\\u003e30\\u003cbr\\u003eadmission_type_id=%{x}\\u003cbr\\u003ecount=%{y}\\u003cextra\\u003e\\u003c\\u002fextra\\u003e\",\"legendgroup\":\"\\u003e30\",\"marker\":{\"color\":\"#636efa\",\"pattern\":{\"shape\":\"\"}},\"name\":\"\\u003e30\",\"offsetgroup\":\"\\u003e30\",\"orientation\":\"v\",\"showlegend\":true,\"textposition\":\"auto\",\"x\":[1,2,3,4,5,6,8],\"xaxis\":\"x\",\"y\":[14196,4559,4041,1,1540,982,23],\"yaxis\":\"y\",\"type\":\"bar\"},{\"alignmentgroup\":\"True\",\"hovertemplate\":\"readmitted=NO\\u003cbr\\u003eadmission_type_id=%{x}\\u003cbr\\u003ecount=%{y}\\u003cextra\\u003e\\u003c\\u002fextra\\u003e\",\"legendgroup\":\"NO\",\"marker\":{\"color\":\"#EF553B\",\"pattern\":{\"shape\":\"\"}},\"name\":\"NO\",\"offsetgroup\":\"NO\",\"orientation\":\"v\",\"showlegend\":true,\"textposition\":\"auto\",\"x\":[1,2,3,4,5,6,8],\"xaxis\":\"x\",\"y\":[6298,2058,2051,1,656,207,8],\"yaxis\":\"y\",\"type\":\"bar\"},{\"alignmentgroup\":\"True\",\"hovertemplate\":\"readmitted=\\u003c30\\u003cbr\\u003eadmission_type_id=%{x}\\u003cbr\\u003ecount=%{y}\\u003cextra\\u003e\\u003c\\u002fextra\\u003e\",\"legendgroup\":\"\\u003c30\",\"marker\":{\"color\":\"#00cc96\",\"pattern\":{\"shape\":\"\"}},\"name\":\"\\u003c30\",\"offsetgroup\":\"\\u003c30\",\"orientation\":\"v\",\"showlegend\":true,\"textposition\":\"auto\",\"x\":[1,2,3,5,6,8],\"xaxis\":\"x\",\"y\":[4987,1646,1560,470,280,10],\"yaxis\":\"y\",\"type\":\"bar\"}],                        {\"template\":{\"data\":{\"histogram2dcontour\":[{\"type\":\"histogram2dcontour\",\"colorbar\":{\"outlinewidth\":0,\"ticks\":\"\"},\"colorscale\":[[0.0,\"#0d0887\"],[0.1111111111111111,\"#46039f\"],[0.2222222222222222,\"#7201a8\"],[0.3333333333333333,\"#9c179e\"],[0.4444444444444444,\"#bd3786\"],[0.5555555555555556,\"#d8576b\"],[0.6666666666666666,\"#ed7953\"],[0.7777777777777778,\"#fb9f3a\"],[0.8888888888888888,\"#fdca26\"],[1.0,\"#f0f921\"]]}],\"choropleth\":[{\"type\":\"choropleth\",\"colorbar\":{\"outlinewidth\":0,\"ticks\":\"\"}}],\"histogram2d\":[{\"type\":\"histogram2d\",\"colorbar\":{\"outlinewidth\":0,\"ticks\":\"\"},\"colorscale\":[[0.0,\"#0d0887\"],[0.1111111111111111,\"#46039f\"],[0.2222222222222222,\"#7201a8\"],[0.3333333333333333,\"#9c179e\"],[0.4444444444444444,\"#bd3786\"],[0.5555555555555556,\"#d8576b\"],[0.6666666666666666,\"#ed7953\"],[0.7777777777777778,\"#fb9f3a\"],[0.8888888888888888,\"#fdca26\"],[1.0,\"#f0f921\"]]}],\"heatmap\":[{\"type\":\"heatmap\",\"colorbar\":{\"outlinewidth\":0,\"ticks\":\"\"},\"colorscale\":[[0.0,\"#0d0887\"],[0.1111111111111111,\"#46039f\"],[0.2222222222222222,\"#7201a8\"],[0.3333333333333333,\"#9c179e\"],[0.4444444444444444,\"#bd3786\"],[0.5555555555555556,\"#d8576b\"],[0.6666666666666666,\"#ed7953\"],[0.7777777777777778,\"#fb9f3a\"],[0.8888888888888888,\"#fdca26\"],[1.0,\"#f0f921\"]]}],\"heatmapgl\":[{\"type\":\"heatmapgl\",\"colorbar\":{\"outlinewidth\":0,\"ticks\":\"\"},\"colorscale\":[[0.0,\"#0d0887\"],[0.1111111111111111,\"#46039f\"],[0.2222222222222222,\"#7201a8\"],[0.3333333333333333,\"#9c179e\"],[0.4444444444444444,\"#bd3786\"],[0.5555555555555556,\"#d8576b\"],[0.6666666666666666,\"#ed7953\"],[0.7777777777777778,\"#fb9f3a\"],[0.8888888888888888,\"#fdca26\"],[1.0,\"#f0f921\"]]}],\"contourcarpet\":[{\"type\":\"contourcarpet\",\"colorbar\":{\"outlinewidth\":0,\"ticks\":\"\"}}],\"contour\":[{\"type\":\"contour\",\"colorbar\":{\"outlinewidth\":0,\"ticks\":\"\"},\"colorscale\":[[0.0,\"#0d0887\"],[0.1111111111111111,\"#46039f\"],[0.2222222222222222,\"#7201a8\"],[0.3333333333333333,\"#9c179e\"],[0.4444444444444444,\"#bd3786\"],[0.5555555555555556,\"#d8576b\"],[0.6666666666666666,\"#ed7953\"],[0.7777777777777778,\"#fb9f3a\"],[0.8888888888888888,\"#fdca26\"],[1.0,\"#f0f921\"]]}],\"surface\":[{\"type\":\"surface\",\"colorbar\":{\"outlinewidth\":0,\"ticks\":\"\"},\"colorscale\":[[0.0,\"#0d0887\"],[0.1111111111111111,\"#46039f\"],[0.2222222222222222,\"#7201a8\"],[0.3333333333333333,\"#9c179e\"],[0.4444444444444444,\"#bd3786\"],[0.5555555555555556,\"#d8576b\"],[0.6666666666666666,\"#ed7953\"],[0.7777777777777778,\"#fb9f3a\"],[0.8888888888888888,\"#fdca26\"],[1.0,\"#f0f921\"]]}],\"mesh3d\":[{\"type\":\"mesh3d\",\"colorbar\":{\"outlinewidth\":0,\"ticks\":\"\"}}],\"scatter\":[{\"fillpattern\":{\"fillmode\":\"overlay\",\"size\":10,\"solidity\":0.2},\"type\":\"scatter\"}],\"parcoords\":[{\"type\":\"parcoords\",\"line\":{\"colorbar\":{\"outlinewidth\":0,\"ticks\":\"\"}}}],\"scatterpolargl\":[{\"type\":\"scatterpolargl\",\"marker\":{\"colorbar\":{\"outlinewidth\":0,\"ticks\":\"\"}}}],\"bar\":[{\"error_x\":{\"color\":\"#2a3f5f\"},\"error_y\":{\"color\":\"#2a3f5f\"},\"marker\":{\"line\":{\"color\":\"#E5ECF6\",\"width\":0.5},\"pattern\":{\"fillmode\":\"overlay\",\"size\":10,\"solidity\":0.2}},\"type\":\"bar\"}],\"scattergeo\":[{\"type\":\"scattergeo\",\"marker\":{\"colorbar\":{\"outlinewidth\":0,\"ticks\":\"\"}}}],\"scatterpolar\":[{\"type\":\"scatterpolar\",\"marker\":{\"colorbar\":{\"outlinewidth\":0,\"ticks\":\"\"}}}],\"histogram\":[{\"marker\":{\"pattern\":{\"fillmode\":\"overlay\",\"size\":10,\"solidity\":0.2}},\"type\":\"histogram\"}],\"scattergl\":[{\"type\":\"scattergl\",\"marker\":{\"colorbar\":{\"outlinewidth\":0,\"ticks\":\"\"}}}],\"scatter3d\":[{\"type\":\"scatter3d\",\"line\":{\"colorbar\":{\"outlinewidth\":0,\"ticks\":\"\"}},\"marker\":{\"colorbar\":{\"outlinewidth\":0,\"ticks\":\"\"}}}],\"scattermapbox\":[{\"type\":\"scattermapbox\",\"marker\":{\"colorbar\":{\"outlinewidth\":0,\"ticks\":\"\"}}}],\"scatterternary\":[{\"type\":\"scatterternary\",\"marker\":{\"colorbar\":{\"outlinewidth\":0,\"ticks\":\"\"}}}],\"scattercarpet\":[{\"type\":\"scattercarpet\",\"marker\":{\"colorbar\":{\"outlinewidth\":0,\"ticks\":\"\"}}}],\"carpet\":[{\"aaxis\":{\"endlinecolor\":\"#2a3f5f\",\"gridcolor\":\"white\",\"linecolor\":\"white\",\"minorgridcolor\":\"white\",\"startlinecolor\":\"#2a3f5f\"},\"baxis\":{\"endlinecolor\":\"#2a3f5f\",\"gridcolor\":\"white\",\"linecolor\":\"white\",\"minorgridcolor\":\"white\",\"startlinecolor\":\"#2a3f5f\"},\"type\":\"carpet\"}],\"table\":[{\"cells\":{\"fill\":{\"color\":\"#EBF0F8\"},\"line\":{\"color\":\"white\"}},\"header\":{\"fill\":{\"color\":\"#C8D4E3\"},\"line\":{\"color\":\"white\"}},\"type\":\"table\"}],\"barpolar\":[{\"marker\":{\"line\":{\"color\":\"#E5ECF6\",\"width\":0.5},\"pattern\":{\"fillmode\":\"overlay\",\"size\":10,\"solidity\":0.2}},\"type\":\"barpolar\"}],\"pie\":[{\"automargin\":true,\"type\":\"pie\"}]},\"layout\":{\"autotypenumbers\":\"strict\",\"colorway\":[\"#636efa\",\"#EF553B\",\"#00cc96\",\"#ab63fa\",\"#FFA15A\",\"#19d3f3\",\"#FF6692\",\"#B6E880\",\"#FF97FF\",\"#FECB52\"],\"font\":{\"color\":\"#2a3f5f\"},\"hovermode\":\"closest\",\"hoverlabel\":{\"align\":\"left\"},\"paper_bgcolor\":\"white\",\"plot_bgcolor\":\"#E5ECF6\",\"polar\":{\"bgcolor\":\"#E5ECF6\",\"angularaxis\":{\"gridcolor\":\"white\",\"linecolor\":\"white\",\"ticks\":\"\"},\"radialaxis\":{\"gridcolor\":\"white\",\"linecolor\":\"white\",\"ticks\":\"\"}},\"ternary\":{\"bgcolor\":\"#E5ECF6\",\"aaxis\":{\"gridcolor\":\"white\",\"linecolor\":\"white\",\"ticks\":\"\"},\"baxis\":{\"gridcolor\":\"white\",\"linecolor\":\"white\",\"ticks\":\"\"},\"caxis\":{\"gridcolor\":\"white\",\"linecolor\":\"white\",\"ticks\":\"\"}},\"coloraxis\":{\"colorbar\":{\"outlinewidth\":0,\"ticks\":\"\"}},\"colorscale\":{\"sequential\":[[0.0,\"#0d0887\"],[0.1111111111111111,\"#46039f\"],[0.2222222222222222,\"#7201a8\"],[0.3333333333333333,\"#9c179e\"],[0.4444444444444444,\"#bd3786\"],[0.5555555555555556,\"#d8576b\"],[0.6666666666666666,\"#ed7953\"],[0.7777777777777778,\"#fb9f3a\"],[0.8888888888888888,\"#fdca26\"],[1.0,\"#f0f921\"]],\"sequentialminus\":[[0.0,\"#0d0887\"],[0.1111111111111111,\"#46039f\"],[0.2222222222222222,\"#7201a8\"],[0.3333333333333333,\"#9c179e\"],[0.4444444444444444,\"#bd3786\"],[0.5555555555555556,\"#d8576b\"],[0.6666666666666666,\"#ed7953\"],[0.7777777777777778,\"#fb9f3a\"],[0.8888888888888888,\"#fdca26\"],[1.0,\"#f0f921\"]],\"diverging\":[[0,\"#8e0152\"],[0.1,\"#c51b7d\"],[0.2,\"#de77ae\"],[0.3,\"#f1b6da\"],[0.4,\"#fde0ef\"],[0.5,\"#f7f7f7\"],[0.6,\"#e6f5d0\"],[0.7,\"#b8e186\"],[0.8,\"#7fbc41\"],[0.9,\"#4d9221\"],[1,\"#276419\"]]},\"xaxis\":{\"gridcolor\":\"white\",\"linecolor\":\"white\",\"ticks\":\"\",\"title\":{\"standoff\":15},\"zerolinecolor\":\"white\",\"automargin\":true,\"zerolinewidth\":2},\"yaxis\":{\"gridcolor\":\"white\",\"linecolor\":\"white\",\"ticks\":\"\",\"title\":{\"standoff\":15},\"zerolinecolor\":\"white\",\"automargin\":true,\"zerolinewidth\":2},\"scene\":{\"xaxis\":{\"backgroundcolor\":\"#E5ECF6\",\"gridcolor\":\"white\",\"linecolor\":\"white\",\"showbackground\":true,\"ticks\":\"\",\"zerolinecolor\":\"white\",\"gridwidth\":2},\"yaxis\":{\"backgroundcolor\":\"#E5ECF6\",\"gridcolor\":\"white\",\"linecolor\":\"white\",\"showbackground\":true,\"ticks\":\"\",\"zerolinecolor\":\"white\",\"gridwidth\":2},\"zaxis\":{\"backgroundcolor\":\"#E5ECF6\",\"gridcolor\":\"white\",\"linecolor\":\"white\",\"showbackground\":true,\"ticks\":\"\",\"zerolinecolor\":\"white\",\"gridwidth\":2}},\"shapedefaults\":{\"line\":{\"color\":\"#2a3f5f\"}},\"annotationdefaults\":{\"arrowcolor\":\"#2a3f5f\",\"arrowhead\":0,\"arrowwidth\":1},\"geo\":{\"bgcolor\":\"white\",\"landcolor\":\"#E5ECF6\",\"subunitcolor\":\"white\",\"showland\":true,\"showlakes\":true,\"lakecolor\":\"white\"},\"title\":{\"x\":0.05},\"mapbox\":{\"style\":\"light\"}}},\"xaxis\":{\"anchor\":\"y\",\"domain\":[0.0,1.0],\"title\":{\"text\":\"admission_type_id\"}},\"yaxis\":{\"anchor\":\"x\",\"domain\":[0.0,1.0],\"title\":{\"text\":\"count\"}},\"legend\":{\"title\":{\"text\":\"readmitted\"},\"tracegroupgap\":0},\"margin\":{\"t\":60},\"barmode\":\"group\",\"height\":400},                        {\"responsive\": true}                    ).then(function(){\n",
              "                            \n",
              "var gd = document.getElementById('c8a2e9ff-2f7c-4c82-bdc9-e07bf11dbee6');\n",
              "var x = new MutationObserver(function (mutations, observer) {{\n",
              "        var display = window.getComputedStyle(gd).display;\n",
              "        if (!display || display === 'none') {{\n",
              "            console.log([gd, 'removed!']);\n",
              "            Plotly.purge(gd);\n",
              "            observer.disconnect();\n",
              "        }}\n",
              "}});\n",
              "\n",
              "// Listen for the removal of the full notebook cells\n",
              "var notebookContainer = gd.closest('#notebook-container');\n",
              "if (notebookContainer) {{\n",
              "    x.observe(notebookContainer, {childList: true});\n",
              "}}\n",
              "\n",
              "// Listen for the clearing of the current output cell\n",
              "var outputEl = gd.closest('.output');\n",
              "if (outputEl) {{\n",
              "    x.observe(outputEl, {childList: true});\n",
              "}}\n",
              "\n",
              "                        })                };                            </script>        </div>\n",
              "</body>\n",
              "</html>"
            ]
          },
          "metadata": {}
        }
      ]
    },
    {
      "cell_type": "markdown",
      "source": [
        "La proporcion es similar segun los 3 principales tipos de ingreso.\n",
        "\n",
        "Vamos a ver la cantidad de dias en promedio que se quedan por reingreso"
      ],
      "metadata": {
        "id": "vQlyeMBciNxC"
      }
    },
    {
      "cell_type": "code",
      "source": [
        "time_hosp_read = Hernandez.groupby(['readmitted'])['time_in_hospital'].mean().reset_index()\n",
        "fig = px.bar(time_hosp_read, x=\"readmitted\", y=\"time_in_hospital\",\n",
        "                   barmode='group', height=400)\n",
        "fig.show()"
      ],
      "metadata": {
        "id": "3h1TMQQz6p-I",
        "colab": {
          "base_uri": "https://localhost:8080/",
          "height": 417
        },
        "outputId": "10c4f47f-001a-4245-9996-d3238a9006a8"
      },
      "execution_count": 125,
      "outputs": [
        {
          "output_type": "display_data",
          "data": {
            "text/html": [
              "<html>\n",
              "<head><meta charset=\"utf-8\" /></head>\n",
              "<body>\n",
              "    <div>            <script src=\"https://cdnjs.cloudflare.com/ajax/libs/mathjax/2.7.5/MathJax.js?config=TeX-AMS-MML_SVG\"></script><script type=\"text/javascript\">if (window.MathJax && window.MathJax.Hub && window.MathJax.Hub.Config) {window.MathJax.Hub.Config({SVG: {font: \"STIX-Web\"}});}</script>                <script type=\"text/javascript\">window.PlotlyConfig = {MathJaxConfig: 'local'};</script>\n",
              "        <script charset=\"utf-8\" src=\"https://cdn.plot.ly/plotly-2.35.2.min.js\"></script>                <div id=\"998df577-3dac-41e8-8da8-71ca8f272689\" class=\"plotly-graph-div\" style=\"height:400px; width:100%;\"></div>            <script type=\"text/javascript\">                                    window.PLOTLYENV=window.PLOTLYENV || {};                                    if (document.getElementById(\"998df577-3dac-41e8-8da8-71ca8f272689\")) {                    Plotly.newPlot(                        \"998df577-3dac-41e8-8da8-71ca8f272689\",                        [{\"alignmentgroup\":\"True\",\"hovertemplate\":\"readmitted=%{x}\\u003cbr\\u003etime_in_hospital=%{y}\\u003cextra\\u003e\\u003c\\u002fextra\\u003e\",\"legendgroup\":\"\",\"marker\":{\"color\":\"#636efa\",\"pattern\":{\"shape\":\"\"}},\"name\":\"\",\"offsetgroup\":\"\",\"orientation\":\"v\",\"showlegend\":false,\"textposition\":\"auto\",\"x\":[\"\\u003c30\",\"\\u003e30\",\"NO\"],\"xaxis\":\"x\",\"y\":[4.73182173573104,4.534764422697498,4.609628513166061],\"yaxis\":\"y\",\"type\":\"bar\"}],                        {\"template\":{\"data\":{\"histogram2dcontour\":[{\"type\":\"histogram2dcontour\",\"colorbar\":{\"outlinewidth\":0,\"ticks\":\"\"},\"colorscale\":[[0.0,\"#0d0887\"],[0.1111111111111111,\"#46039f\"],[0.2222222222222222,\"#7201a8\"],[0.3333333333333333,\"#9c179e\"],[0.4444444444444444,\"#bd3786\"],[0.5555555555555556,\"#d8576b\"],[0.6666666666666666,\"#ed7953\"],[0.7777777777777778,\"#fb9f3a\"],[0.8888888888888888,\"#fdca26\"],[1.0,\"#f0f921\"]]}],\"choropleth\":[{\"type\":\"choropleth\",\"colorbar\":{\"outlinewidth\":0,\"ticks\":\"\"}}],\"histogram2d\":[{\"type\":\"histogram2d\",\"colorbar\":{\"outlinewidth\":0,\"ticks\":\"\"},\"colorscale\":[[0.0,\"#0d0887\"],[0.1111111111111111,\"#46039f\"],[0.2222222222222222,\"#7201a8\"],[0.3333333333333333,\"#9c179e\"],[0.4444444444444444,\"#bd3786\"],[0.5555555555555556,\"#d8576b\"],[0.6666666666666666,\"#ed7953\"],[0.7777777777777778,\"#fb9f3a\"],[0.8888888888888888,\"#fdca26\"],[1.0,\"#f0f921\"]]}],\"heatmap\":[{\"type\":\"heatmap\",\"colorbar\":{\"outlinewidth\":0,\"ticks\":\"\"},\"colorscale\":[[0.0,\"#0d0887\"],[0.1111111111111111,\"#46039f\"],[0.2222222222222222,\"#7201a8\"],[0.3333333333333333,\"#9c179e\"],[0.4444444444444444,\"#bd3786\"],[0.5555555555555556,\"#d8576b\"],[0.6666666666666666,\"#ed7953\"],[0.7777777777777778,\"#fb9f3a\"],[0.8888888888888888,\"#fdca26\"],[1.0,\"#f0f921\"]]}],\"heatmapgl\":[{\"type\":\"heatmapgl\",\"colorbar\":{\"outlinewidth\":0,\"ticks\":\"\"},\"colorscale\":[[0.0,\"#0d0887\"],[0.1111111111111111,\"#46039f\"],[0.2222222222222222,\"#7201a8\"],[0.3333333333333333,\"#9c179e\"],[0.4444444444444444,\"#bd3786\"],[0.5555555555555556,\"#d8576b\"],[0.6666666666666666,\"#ed7953\"],[0.7777777777777778,\"#fb9f3a\"],[0.8888888888888888,\"#fdca26\"],[1.0,\"#f0f921\"]]}],\"contourcarpet\":[{\"type\":\"contourcarpet\",\"colorbar\":{\"outlinewidth\":0,\"ticks\":\"\"}}],\"contour\":[{\"type\":\"contour\",\"colorbar\":{\"outlinewidth\":0,\"ticks\":\"\"},\"colorscale\":[[0.0,\"#0d0887\"],[0.1111111111111111,\"#46039f\"],[0.2222222222222222,\"#7201a8\"],[0.3333333333333333,\"#9c179e\"],[0.4444444444444444,\"#bd3786\"],[0.5555555555555556,\"#d8576b\"],[0.6666666666666666,\"#ed7953\"],[0.7777777777777778,\"#fb9f3a\"],[0.8888888888888888,\"#fdca26\"],[1.0,\"#f0f921\"]]}],\"surface\":[{\"type\":\"surface\",\"colorbar\":{\"outlinewidth\":0,\"ticks\":\"\"},\"colorscale\":[[0.0,\"#0d0887\"],[0.1111111111111111,\"#46039f\"],[0.2222222222222222,\"#7201a8\"],[0.3333333333333333,\"#9c179e\"],[0.4444444444444444,\"#bd3786\"],[0.5555555555555556,\"#d8576b\"],[0.6666666666666666,\"#ed7953\"],[0.7777777777777778,\"#fb9f3a\"],[0.8888888888888888,\"#fdca26\"],[1.0,\"#f0f921\"]]}],\"mesh3d\":[{\"type\":\"mesh3d\",\"colorbar\":{\"outlinewidth\":0,\"ticks\":\"\"}}],\"scatter\":[{\"fillpattern\":{\"fillmode\":\"overlay\",\"size\":10,\"solidity\":0.2},\"type\":\"scatter\"}],\"parcoords\":[{\"type\":\"parcoords\",\"line\":{\"colorbar\":{\"outlinewidth\":0,\"ticks\":\"\"}}}],\"scatterpolargl\":[{\"type\":\"scatterpolargl\",\"marker\":{\"colorbar\":{\"outlinewidth\":0,\"ticks\":\"\"}}}],\"bar\":[{\"error_x\":{\"color\":\"#2a3f5f\"},\"error_y\":{\"color\":\"#2a3f5f\"},\"marker\":{\"line\":{\"color\":\"#E5ECF6\",\"width\":0.5},\"pattern\":{\"fillmode\":\"overlay\",\"size\":10,\"solidity\":0.2}},\"type\":\"bar\"}],\"scattergeo\":[{\"type\":\"scattergeo\",\"marker\":{\"colorbar\":{\"outlinewidth\":0,\"ticks\":\"\"}}}],\"scatterpolar\":[{\"type\":\"scatterpolar\",\"marker\":{\"colorbar\":{\"outlinewidth\":0,\"ticks\":\"\"}}}],\"histogram\":[{\"marker\":{\"pattern\":{\"fillmode\":\"overlay\",\"size\":10,\"solidity\":0.2}},\"type\":\"histogram\"}],\"scattergl\":[{\"type\":\"scattergl\",\"marker\":{\"colorbar\":{\"outlinewidth\":0,\"ticks\":\"\"}}}],\"scatter3d\":[{\"type\":\"scatter3d\",\"line\":{\"colorbar\":{\"outlinewidth\":0,\"ticks\":\"\"}},\"marker\":{\"colorbar\":{\"outlinewidth\":0,\"ticks\":\"\"}}}],\"scattermapbox\":[{\"type\":\"scattermapbox\",\"marker\":{\"colorbar\":{\"outlinewidth\":0,\"ticks\":\"\"}}}],\"scatterternary\":[{\"type\":\"scatterternary\",\"marker\":{\"colorbar\":{\"outlinewidth\":0,\"ticks\":\"\"}}}],\"scattercarpet\":[{\"type\":\"scattercarpet\",\"marker\":{\"colorbar\":{\"outlinewidth\":0,\"ticks\":\"\"}}}],\"carpet\":[{\"aaxis\":{\"endlinecolor\":\"#2a3f5f\",\"gridcolor\":\"white\",\"linecolor\":\"white\",\"minorgridcolor\":\"white\",\"startlinecolor\":\"#2a3f5f\"},\"baxis\":{\"endlinecolor\":\"#2a3f5f\",\"gridcolor\":\"white\",\"linecolor\":\"white\",\"minorgridcolor\":\"white\",\"startlinecolor\":\"#2a3f5f\"},\"type\":\"carpet\"}],\"table\":[{\"cells\":{\"fill\":{\"color\":\"#EBF0F8\"},\"line\":{\"color\":\"white\"}},\"header\":{\"fill\":{\"color\":\"#C8D4E3\"},\"line\":{\"color\":\"white\"}},\"type\":\"table\"}],\"barpolar\":[{\"marker\":{\"line\":{\"color\":\"#E5ECF6\",\"width\":0.5},\"pattern\":{\"fillmode\":\"overlay\",\"size\":10,\"solidity\":0.2}},\"type\":\"barpolar\"}],\"pie\":[{\"automargin\":true,\"type\":\"pie\"}]},\"layout\":{\"autotypenumbers\":\"strict\",\"colorway\":[\"#636efa\",\"#EF553B\",\"#00cc96\",\"#ab63fa\",\"#FFA15A\",\"#19d3f3\",\"#FF6692\",\"#B6E880\",\"#FF97FF\",\"#FECB52\"],\"font\":{\"color\":\"#2a3f5f\"},\"hovermode\":\"closest\",\"hoverlabel\":{\"align\":\"left\"},\"paper_bgcolor\":\"white\",\"plot_bgcolor\":\"#E5ECF6\",\"polar\":{\"bgcolor\":\"#E5ECF6\",\"angularaxis\":{\"gridcolor\":\"white\",\"linecolor\":\"white\",\"ticks\":\"\"},\"radialaxis\":{\"gridcolor\":\"white\",\"linecolor\":\"white\",\"ticks\":\"\"}},\"ternary\":{\"bgcolor\":\"#E5ECF6\",\"aaxis\":{\"gridcolor\":\"white\",\"linecolor\":\"white\",\"ticks\":\"\"},\"baxis\":{\"gridcolor\":\"white\",\"linecolor\":\"white\",\"ticks\":\"\"},\"caxis\":{\"gridcolor\":\"white\",\"linecolor\":\"white\",\"ticks\":\"\"}},\"coloraxis\":{\"colorbar\":{\"outlinewidth\":0,\"ticks\":\"\"}},\"colorscale\":{\"sequential\":[[0.0,\"#0d0887\"],[0.1111111111111111,\"#46039f\"],[0.2222222222222222,\"#7201a8\"],[0.3333333333333333,\"#9c179e\"],[0.4444444444444444,\"#bd3786\"],[0.5555555555555556,\"#d8576b\"],[0.6666666666666666,\"#ed7953\"],[0.7777777777777778,\"#fb9f3a\"],[0.8888888888888888,\"#fdca26\"],[1.0,\"#f0f921\"]],\"sequentialminus\":[[0.0,\"#0d0887\"],[0.1111111111111111,\"#46039f\"],[0.2222222222222222,\"#7201a8\"],[0.3333333333333333,\"#9c179e\"],[0.4444444444444444,\"#bd3786\"],[0.5555555555555556,\"#d8576b\"],[0.6666666666666666,\"#ed7953\"],[0.7777777777777778,\"#fb9f3a\"],[0.8888888888888888,\"#fdca26\"],[1.0,\"#f0f921\"]],\"diverging\":[[0,\"#8e0152\"],[0.1,\"#c51b7d\"],[0.2,\"#de77ae\"],[0.3,\"#f1b6da\"],[0.4,\"#fde0ef\"],[0.5,\"#f7f7f7\"],[0.6,\"#e6f5d0\"],[0.7,\"#b8e186\"],[0.8,\"#7fbc41\"],[0.9,\"#4d9221\"],[1,\"#276419\"]]},\"xaxis\":{\"gridcolor\":\"white\",\"linecolor\":\"white\",\"ticks\":\"\",\"title\":{\"standoff\":15},\"zerolinecolor\":\"white\",\"automargin\":true,\"zerolinewidth\":2},\"yaxis\":{\"gridcolor\":\"white\",\"linecolor\":\"white\",\"ticks\":\"\",\"title\":{\"standoff\":15},\"zerolinecolor\":\"white\",\"automargin\":true,\"zerolinewidth\":2},\"scene\":{\"xaxis\":{\"backgroundcolor\":\"#E5ECF6\",\"gridcolor\":\"white\",\"linecolor\":\"white\",\"showbackground\":true,\"ticks\":\"\",\"zerolinecolor\":\"white\",\"gridwidth\":2},\"yaxis\":{\"backgroundcolor\":\"#E5ECF6\",\"gridcolor\":\"white\",\"linecolor\":\"white\",\"showbackground\":true,\"ticks\":\"\",\"zerolinecolor\":\"white\",\"gridwidth\":2},\"zaxis\":{\"backgroundcolor\":\"#E5ECF6\",\"gridcolor\":\"white\",\"linecolor\":\"white\",\"showbackground\":true,\"ticks\":\"\",\"zerolinecolor\":\"white\",\"gridwidth\":2}},\"shapedefaults\":{\"line\":{\"color\":\"#2a3f5f\"}},\"annotationdefaults\":{\"arrowcolor\":\"#2a3f5f\",\"arrowhead\":0,\"arrowwidth\":1},\"geo\":{\"bgcolor\":\"white\",\"landcolor\":\"#E5ECF6\",\"subunitcolor\":\"white\",\"showland\":true,\"showlakes\":true,\"lakecolor\":\"white\"},\"title\":{\"x\":0.05},\"mapbox\":{\"style\":\"light\"}}},\"xaxis\":{\"anchor\":\"y\",\"domain\":[0.0,1.0],\"title\":{\"text\":\"readmitted\"}},\"yaxis\":{\"anchor\":\"x\",\"domain\":[0.0,1.0],\"title\":{\"text\":\"time_in_hospital\"}},\"legend\":{\"tracegroupgap\":0},\"margin\":{\"t\":60},\"barmode\":\"group\",\"height\":400},                        {\"responsive\": true}                    ).then(function(){\n",
              "                            \n",
              "var gd = document.getElementById('998df577-3dac-41e8-8da8-71ca8f272689');\n",
              "var x = new MutationObserver(function (mutations, observer) {{\n",
              "        var display = window.getComputedStyle(gd).display;\n",
              "        if (!display || display === 'none') {{\n",
              "            console.log([gd, 'removed!']);\n",
              "            Plotly.purge(gd);\n",
              "            observer.disconnect();\n",
              "        }}\n",
              "}});\n",
              "\n",
              "// Listen for the removal of the full notebook cells\n",
              "var notebookContainer = gd.closest('#notebook-container');\n",
              "if (notebookContainer) {{\n",
              "    x.observe(notebookContainer, {childList: true});\n",
              "}}\n",
              "\n",
              "// Listen for the clearing of the current output cell\n",
              "var outputEl = gd.closest('.output');\n",
              "if (outputEl) {{\n",
              "    x.observe(outputEl, {childList: true});\n",
              "}}\n",
              "\n",
              "                        })                };                            </script>        </div>\n",
              "</body>\n",
              "</html>"
            ]
          },
          "metadata": {}
        }
      ]
    },
    {
      "cell_type": "markdown",
      "source": [
        "Aqui no encontramos ninguna diferencia entre el tiempo promedio en el hospital\n",
        "\n",
        "Vamos a finalizar este analisis mirando 3 cosas. La cantidad promedio de reingresos, la cantidad de medicinas que tomaban y el diagnostico"
      ],
      "metadata": {
        "id": "h3jVrRaijfX4"
      }
    },
    {
      "cell_type": "code",
      "source": [
        "max_readmitted = Hernandez.groupby(['patient_nbr'])['all_time_number_inpatient'].max().reset_index()\n",
        "fig = px.histogram(max_readmitted, x='all_time_number_inpatient', nbins=40, title='Distribución del tiempo en el hospital')\n",
        "fig.show()"
      ],
      "metadata": {
        "id": "pg7Fyfc96qAw",
        "colab": {
          "base_uri": "https://localhost:8080/",
          "height": 542
        },
        "outputId": "d1953e7b-94dd-44fe-bf96-2813a2dac2ce"
      },
      "execution_count": 126,
      "outputs": [
        {
          "output_type": "display_data",
          "data": {
            "text/html": [
              "<html>\n",
              "<head><meta charset=\"utf-8\" /></head>\n",
              "<body>\n",
              "    <div>            <script src=\"https://cdnjs.cloudflare.com/ajax/libs/mathjax/2.7.5/MathJax.js?config=TeX-AMS-MML_SVG\"></script><script type=\"text/javascript\">if (window.MathJax && window.MathJax.Hub && window.MathJax.Hub.Config) {window.MathJax.Hub.Config({SVG: {font: \"STIX-Web\"}});}</script>                <script type=\"text/javascript\">window.PlotlyConfig = {MathJaxConfig: 'local'};</script>\n",
              "        <script charset=\"utf-8\" src=\"https://cdn.plot.ly/plotly-2.35.2.min.js\"></script>                <div id=\"6ab6a918-dbcb-4568-8414-816a34f92adc\" class=\"plotly-graph-div\" style=\"height:525px; width:100%;\"></div>            <script type=\"text/javascript\">                                    window.PLOTLYENV=window.PLOTLYENV || {};                                    if (document.getElementById(\"6ab6a918-dbcb-4568-8414-816a34f92adc\")) {                    Plotly.newPlot(                        \"6ab6a918-dbcb-4568-8414-816a34f92adc\",                        [{\"alignmentgroup\":\"True\",\"bingroup\":\"x\",\"hovertemplate\":\"all_time_number_inpatient=%{x}\\u003cbr\\u003ecount=%{y}\\u003cextra\\u003e\\u003c\\u002fextra\\u003e\",\"legendgroup\":\"\",\"marker\":{\"color\":\"#636efa\",\"pattern\":{\"shape\":\"\"}},\"name\":\"\",\"nbinsx\":40,\"offsetgroup\":\"\",\"orientation\":\"v\",\"showlegend\":false,\"x\":[2,5,3,4,2,2,2,3,4,4,8,2,4,2,2,2,2,3,2,2,3,10,4,2,2,2,2,7,3,3,3,2,2,2,3,2,6,3,2,2,9,5,2,4,2,2,5,2,3,2,2,2,2,2,2,3,2,2,2,2,7,2,2,7,6,2,2,2,2,3,3,4,5,3,2,2,4,2,2,3,2,2,3,4,2,2,2,5,13,3,4,2,2,3,3,2,8,2,2,4,2,3,2,2,3,2,3,3,4,2,3,3,3,2,2,2,4,5,3,8,4,5,2,2,2,2,2,2,2,2,3,2,5,2,2,2,2,2,2,3,2,3,2,3,3,2,2,4,2,2,2,2,2,2,2,3,2,2,2,4,2,2,3,2,3,3,6,2,2,3,2,2,2,2,2,2,6,3,4,2,2,2,2,2,2,2,2,4,2,3,6,2,2,2,2,6,2,2,2,2,10,3,5,2,3,2,2,3,2,3,3,2,2,7,6,2,2,3,2,5,3,2,2,4,4,3,3,2,3,3,3,3,2,4,2,2,3,3,2,4,3,2,2,3,7,2,2,6,3,2,2,4,2,2,2,2,2,2,2,2,6,4,2,2,3,8,2,4,2,3,2,3,2,3,2,2,5,4,2,4,3,7,4,3,3,2,3,2,7,15,2,2,5,2,3,5,2,2,2,3,2,4,2,4,5,3,3,2,2,4,2,16,2,2,2,5,5,6,5,2,2,2,4,3,3,6,6,2,2,4,3,2,4,2,2,2,4,10,4,2,5,2,5,2,6,2,4,2,4,2,7,2,5,4,2,3,5,2,3,3,3,2,5,2,2,3,2,2,2,2,2,2,3,2,2,3,2,5,2,3,3,5,3,2,2,3,3,3,2,2,5,4,2,2,3,2,2,2,2,4,2,4,2,2,2,2,2,4,2,2,2,2,6,2,2,2,4,7,2,2,2,5,2,2,2,2,3,10,4,2,4,3,2,2,2,2,3,4,4,3,3,8,2,5,2,2,2,2,2,2,3,3,3,3,2,2,2,2,2,6,3,3,2,2,2,4,5,2,2,3,2,2,2,3,2,2,2,2,2,3,2,4,2,5,5,2,2,3,5,3,3,4,2,4,5,2,3,3,2,2,12,2,2,2,3,6,3,4,2,4,3,2,2,4,2,4,2,3,2,2,2,7,4,2,2,3,2,6,2,2,6,2,2,2,2,2,3,5,2,2,2,2,3,2,2,2,3,3,2,2,2,3,2,4,2,2,2,2,4,3,3,8,4,4,3,2,2,4,7,2,3,2,2,3,3,6,3,2,2,2,2,2,2,2,2,3,2,2,2,2,3,3,3,8,3,4,3,2,7,3,3,2,2,2,2,2,2,3,3,2,3,5,5,7,2,3,6,3,4,2,2,2,3,2,3,2,3,3,6,2,6,2,2,2,2,2,2,4,5,2,4,2,2,2,3,6,2,2,4,2,2,2,2,5,2,2,2,7,2,5,3,2,2,6,2,3,2,2,7,6,2,2,2,2,2,2,2,4,4,2,2,2,3,2,2,4,3,2,4,2,3,2,3,3,4,2,3,9,2,2,2,3,2,3,5,5,2,2,2,4,2,6,2,2,2,2,2,2,2,2,2,3,3,2,2,3,2,4,2,2,2,2,3,4,2,2,3,4,2,2,3,2,2,5,2,3,2,6,2,3,2,2,5,4,2,2,2,2,2,4,2,3,4,3,2,3,2,2,2,4,5,2,3,8,2,2,3,2,2,2,2,2,2,2,3,4,2,6,4,3,2,2,2,4,3,3,3,2,7,2,4,2,3,5,2,2,2,2,2,3,2,2,9,10,5,4,2,3,2,2,2,2,2,2,2,2,2,2,4,2,3,4,4,2,2,2,2,2,2,2,2,6,3,3,4,2,2,2,3,3,6,2,2,8,3,2,2,2,3,3,4,2,3,5,3,2,6,3,2,3,2,2,4,2,2,2,2,2,3,2,2,2,2,3,5,2,2,2,2,4,3,2,2,2,2,2,7,2,2,2,4,2,2,2,2,2,2,3,2,2,2,5,2,2,2,2,2,2,3,2,2,5,2,3,2,3,3,2,3,4,3,3,2,2,2,2,4,3,2,2,2,5,2,2,2,2,3,2,2,2,3,2,2,2,4,2,2,2,2,8,4,5,2,3,4,2,2,2,2,2,2,2,3,2,3,3,2,2,3,2,2,5,12,7,2,2,2,2,4,2,2,2,2,2,2,4,2,2,2,2,2,3,2,3,2,2,6,2,2,2,2,3,3,3,2,2,2,4,3,2,4,2,2,2,2,4,5,2,3,2,5,2,2,2,2,2,2,2,7,2,2,23,7,2,8,2,2,2,3,2,3,2,2,2,2,2,2,5,3,2,2,3,2,2,2,2,3,2,4,2,2,2,2,3,2,6,2,3,4,6,5,2,3,12,2,2,3,2,2,2,2,2,2,2,2,7,3,3,2,3,3,2,2,3,4,3,4,3,2,2,2,2,2,3,2,3,3,4,2,5,3,2,2,3,2,2,2,8,2,2,2,2,2,2,2,2,2,3,3,2,2,2,2,2,2,2,2,2,2,4,2,2,2,6,2,3,2,2,2,2,2,5,2,2,2,2,2,2,2,2,3,3,4,6,4,2,3,2,2,2,2,2,4,2,3,2,2,4,2,2,8,2,2,2,2,3,4,4,2,2,2,3,3,3,3,2,3,2,3,2,4,2,2,2,3,2,5,2,2,2,2,3,2,2,3,2,4,3,2,2,2,2,3,3,5,6,2,2,2,2,2,2,2,2,2,2,3,2,10,3,2,2,2,2,2,4,2,2,2,2,8,15,2,5,2,4,2,2,2,4,3,8,2,7,2,2,2,2,4,2,6,2,3,2,2,2,5,2,2,3,4,2,2,2,3,2,2,2,3,2,2,2,2,4,2,4,3,2,2,2,2,9,2,2,2,4,6,2,3,2,2,2,2,2,2,2,3,2,2,2,3,7,4,2,2,3,2,2,2,3,5,2,5,4,2,2,2,2,2,2,3,2,3,2,2,2,3,2,2,2,2,3,3,3,2,2,3,3,3,2,3,5,4,2,3,2,2,2,2,2,3,2,3,2,3,2,2,2,2,2,4,2,2,2,2,2,2,3,2,2,2,2,3,2,2,5,2,2,2,3,3,2,5,3,3,4,2,2,5,2,2,3,3,2,2,4,2,3,3,6,2,3,2,3,2,3,3,2,4,2,2,2,2,3,2,2,2,2,2,2,2,2,2,2,2,3,2,2,4,2,5,2,2,3,2,2,2,2,2,2,4,3,2,2,3,2,2,2,2,2,2,4,2,2,2,2,2,2,3,3,2,3,7,3,3,2,2,2,2,5,5,3,2,3,2,2,4,2,2,4,2,3,2,2,2,6,2,3,2,3,3,2,5,2,3,2,2,2,5,2,2,3,2,2,2,2,2,2,2,4,2,3,2,2,2,2,2,2,2,4,3,4,2,2,2,11,2,3,3,2,3,4,3,3,2,3,2,2,2,3,2,2,3,4,2,2,2,2,3,2,2,2,2,3,2,2,2,4,3,2,4,3,4,2,3,2,2,3,2,2,2,2,2,5,6,2,2,2,4,2,3,4,2,2,2,3,2,3,3,3,2,2,2,7,4,2,2,2,18,2,2,2,5,2,4,2,2,2,2,3,2,3,4,2,2,2,2,3,2,2,6,4,2,2,2,2,2,3,5,2,18,2,2,3,2,2,3,3,2,6,2,2,2,3,4,3,2,2,5,2,3,2,2,3,2,2,3,2,2,10,2,3,4,3,4,2,4,2,2,5,3,2,4,2,3,2,2,2,2,3,2,3,5,2,2,2,9,4,2,2,2,3,5,2,4,5,2,6,3,4,2,3,2,3,3,7,3,2,2,4,2,2,2,2,3,8,2,2,2,2,3,2,4,4,2,2,3,5,2,2,3,2,2,6,2,3,5,3,2,3,2,3,2,5,2,2,2,3,2,6,2,2,2,2,2,3,5,2,3,3,2,2,2,2,5,2,2,5,6,2,3,4,2,2,2,2,2,3,4,2,2,2,2,2,2,2,3,3,2,2,2,3,2,3,4,2,2,3,2,3,5,2,2,2,2,2,5,2,3,2,4,4,2,2,3,2,2,9,7,2,2,2,3,4,2,5,3,3,2,4,5,3,2,4,3,3,8,2,4,3,2,4,2,2,2,2,2,3,2,2,2,2,2,3,2,2,2,2,2,3,5,2,2,2,2,3,2,2,2,2,2,2,3,2,2,2,2,3,2,4,2,2,4,4,2,4,2,4,2,2,3,7,2,2,2,2,3,4,2,3,4,2,4,2,2,2,2,2,2,2,3,4,3,2,2,2,2,3,2,5,2,2,3,2,4,2,2,2,3,2,4,2,2,2,4,2,2,2,3,3,2,2,6,5,2,2,2,4,6,2,4,2,2,3,4,2,2,2,2,2,2,6,2,2,3,2,4,2,2,2,2,2,3,4,2,2,2,3,5,2,7,2,3,3,2,2,4,3,2,2,2,2,5,8,2,5,2,3,2,2,2,2,5,3,4,3,5,2,2,4,2,2,2,2,4,4,2,2,2,2,2,4,4,4,2,2,3,2,5,2,4,2,3,2,2,2,3,3,2,4,3,2,2,2,2,3,2,2,3,2,2,4,2,2,3,3,4,3,3,2,4,2,2,2,4,3,2,2,2,2,2,2,3,2,2,2,2,4,2,2,2,2,2,2,2,2,2,2,9,2,2,2,3,5,5,2,2,3,2,3,2,2,2,2,2,2,3,4,13,5,3,2,2,2,2,3,2,2,2,2,2,3,2,2,5,5,2,2,2,2,2,7,2,2,2,2,8,2,2,2,4,2,2,2,2,5,3,2,2,2,2,3,2,3,4,2,2,3,5,4,2,2,3,3,5,2,2,3,2,2,6,3,2,2,2,2,2,3,2,3,2,3,3,2,4,2,3,2,2,3,2,3,2,2,4,2,2,4,2,2,2,4,2,2,3,2,2,2,2,4,2,2,2,2,2,2,2,2,2,8,2,2,2,2,3,4,2,2,2,4,2,2,3,5,2,2,2,4,4,2,2,4,2,2,2,2,2,2,4,3,2,2,2,2,6,2,3,2,3,3,2,2,2,2,4,2,3,4,2,3,3,2,2,2,8,2,2,2,5,2,2,3,2,2,2,2,2,3,5,2,4,2,3,2,2,2,2,3,3,2,2,2,2,2,2,2,2,2,2,2,2,3,2,2,2,2,2,3,3,2,2,2,2,6,5,2,2,3,2,5,2,2,3,7,2,3,3,2,2,2,3,2,2,2,2,2,2,4,3,4,3,2,3,5,2,4,2,4,2,2,2,3,2,2,2,2,2,2,2,3,2,5,4,2,2,2,2,2,2,2,2,2,5,2,2,5,2,2,2,2,2,2,3,2,2,4,4,3,6,2,2,3,2,3,2,4,4,2,3,2,2,3,4,3,2,4,6,2,5,3,2,2,3,2,3,6,4,2,3,3,2,2,2,2,3,2,2,4,2,3,2,2,2,2,3,2,3,2,2,4,2,10,4,2,2,2,2,4,3,2,2,2,2,2,2,2,2,2,2,2,3,2,2,2,3,2,4,2,2,2,2,5,2,2,2,2,2,2,2,2,5,3,2,2,2,2,2,3,7,2,3,3,3,3,2,2,3,2,2,2,2,3,2,3,2,4,2,2,2,3,8,5,2,2,2,2,2,2,2,2,4,2,2,3,2,4,2,2,2,2,2,3,2,10,2,2,2,2,2,2,2,2,5,2,2,2,2,3,2,2,3,3,2,2,4,5,2,2,2,3,2,2,3,2,2,2,2,2,3,2,2,3,2,5,2,2,2,2,3,3,5,3,2,3,2,2,5,2,3,3,2,2,2,2,2,2,2,2,6,2,6,2,2,2,2,2,2,3,3,2,2,4,2,2,3,3,2,2,2,2,3,5,2,2,3,2,4,3,2,3,2,2,2,2,2,2,2,2,3,4,2,4,2,3,4,2,2,3,3,4,2,2,2,3,2,3,2,2,2,3,4,2,2,2,2,2,2,4,2,2,2,3,2,2,3,2,2,3,2,4,3,2,2,3,3,3,2,2,4,2,2,2,2,2,2,2,2,2,3,3,2,2,2,5,2,2,5,2,3,2,2,2,2,2,2,2,2,4,2,2,2,2,2,4,2,3,2,2,2,2,3,3,2,2,2,2,3,3,2,2,2,2,3,3,2,3,2,2,3,3,2,2,4,3,2,2,3,2,2,6,3,2,2,2,2,2,2,3,2,2,3,10,2,2,2,2,2,2,2,2,2,3,2,2,2,2,2,2,2,2,2,2,3,2,3,5,2,3,2,2,2,6,2,2,3,2,3,2,2,2,4,2,2,2,2,2,5,2,2,2,3,2,3,2,3,2,2,2,3,2,2,2,2,2,2,3,4,3,2,2,2,2,2,2,2,2,2,2,2,2,4,3,2,2,2,4,2,2,2,2,2,2,2,2,2,2,2,2,3,2,3,2,2,3,4,2,3,3,2,2,2,2,2,2,2,4,2,3,2,2,2,2,3,2,2,3,2,7,2,2,2,5,2,2,2,2,2,2,3,2,2,3,2,2,4,2,2,2,2,2,2,2,2,3,3,2,3,2,2,3,2,2,4,3,2,3,2,3,2,2,2,2,2,2,8,2,4,2,5,2,2,7,2,2,2,9,3,5,2,2,2,2,3,2,3,4,3,3,4,2,2,3,2,4,3,2,2,6,3,2,2,3,2,2,2,2,2,2,6,3,3,4,2,2,4,2,4,2,6,7,7,2,2,2,2,2,4,2,3,2,6,2,2,4,2,4,2,2,2,2,2,2,2,3,2,2,2,2,2,3,2,3,2,2,3,2,2,2,2,3,3,2,10,3,3,3,2,2,5,2,2,3,2,2,2,2,2,2,3,2,2,3,2,7,15,2,2,2,2,6,3,3,5,5,2,2,3,2,2,2,2,3,2,2,2,2,2,3,9,3,3,2,2,2,2,2,2,6,2,2,2,2,2,2,2,2,2,4,2,4,2,3,2,2,2,2,2,2,2,2,2,2,2,2,2,3,3,3,2,3,4,2,2,2,2,3,3,2,3,2,2,2,2,4,2,2,3,3,2,2,2,2,2,3,3,3,2,2,4,2,2,2,5,2,3,2,2,2,2,2,2,2,3,4,2,2,2,2,2,2,2,2,2,4,2,2,3,2,3,2,3,2,2,2,2,2,2,2,2,2,4,3,6,4,2,2,4,2,2,2,2,2,2,2,3,2,2,3,2,2,2,2,2,2,2,2,3,2,2,3,2,2,2,2,2,2,4,2,2,4,2,2,2,2,2,4,2,2,2,3,3,2,2,2,5,2,3,2,3,2,2,2,2,2,3,2,2,2,2,2,4,2,2,2,2,2,3,2,2,3,2,2,2,4,6,2,3,2,2,2,2,3,3,2,2,3,2,2,2,2,2,2,2,2,2,2,2,2,2,4,2,2,2,5,4,3,3,2,2,2,2,2,2,2,2,2,3,2,2,2,2,4,3,2,2,2,2,2,2,2,2,2,2,2,2,2,2,2,2,2,2,2,3,2,2,2,2,2,2,2,3,3,2,2,3,4,2,2,2,2,2,2,5,2,2,2,2,2,2,2,2,3,5,2,2,2,3,2,3,2,2,2,5,3,2,3,2,2,2,2,5,2,2,3,2,4,2,6,2,3,3,4,2,2,2,4,2,2,2,2,2,3,2,2,2,2,2,2,2,3,2,3,2,2,2,2,2,2,2,2,2,2,6,2,2,3,2,2,3,2,5,2,3,2,2,2,2,3,2,2,3,2,2,2,2,2,2,2,3,2,7,2,2,3,3,2,5,2,2,2,3,2,2,2,2,2,2,2,2,2,2,2,3,2,2,2,3,2,4,2,6,2,2,2,2,3,4,2,2,2,2,2,2,2,4,2,2,4,2,2,2,2,2,2,2,3,2,2,2,2,2,3,2,3,2,2,5,2,2,2,2,2,2,2,2,2,2,2,2,3,2,2,2,2,2,3,2,2,2,2,3,2,2,2,2,2,2,3,2,2,2,2,2,2,2,2,2,2,4,2,2,2,2,2,2,2,2,2,2,2,2,2,2,2,2,2,2,2,2,2,2,2,2,2,2,2,2,2,2,2,2,2,2,2,2,2,3,2,2,2,2,2,2,2,2,2,2,2,2,2,2,2,2,2,3,3,2,2,2,2,2,2,2,2,2,2,3,2,4,2,2,3,10,2,2,2,2,6,2,2,5,4,3,11,4,5,3,6,4,2,2,2,2,23,3,3,3,2,2,5,2,2,3,2,2,2,3,2,2,2,2,2,4,2,2,2,2,6,3,2,8,2,3,2,4,2,4,2,4,2,2,2,2,3,7,4,3,4,2,3,2,2,2,2,4,6,2,6,2,2,2,2,2,2,2,5,2,2,5,3,3,2,2,2,7,3,2,2,2,3,3,2,5,3,3,2,10,9,3,3,2,2,3,2,2,2,2,4,9,2,2,4,3,5,3,7,2,3,2,2,2,2,2,2,2,5,2,3,3,5,3,2,6,2,5,3,2,3,2,2,2,2,2,2,2,6,6,3,3,2,2,3,5,2,2,2,2,2,4,3,2,7,3,4,3,2,2,2,4,3,4,2,2,3,2,2,2,2,2,7,2,3,3,4,3,2,4,3,2,3,2,2,4,2,3,2,2,2,3,2,4,3,2,2,3,3,4,4,4,4,3,4,3,2,2,3,2,2,2,3,2,7,2,5,2,2,2,2,3,3,3,6,2,2,3,5,4,4,2,7,2,2,3,4,2,2,5,2,2,2,3,4,3,2,2,2,3,2,6,2,2,3,2,2,3,2,3,2,3,3,2,2,2,3,2,4,3,4,5,2,2,2,2,2,4,2,2,2,10,3,4,2,3,2,4,3,2,3,2,3,2,7,2,2,5,2,2,2,2,2,2,6,3,2,3,2,2,2,2,9,2,8,4,2,3,3,2,2,2,2,4,4,2,4,3,5,4,2,2,2,3,2,3,3,9,2,2,2,2,2,2,8,2,2,2,3,3,2,4,2,2,4,2,3,2,2,2,3,3,3,4,2,2,8,2,2,3,6,2,6,3,2,2,2,2,3,2,2,2,6,20,4,5,5,2,3,2,2,2,3,3,4,3,2,2,2,3,2,2,2,2,2,4,2,3,2,2,3,2,2,2,2,2,3,12,2,4,4,2,6,2,4,3,3,2,2,3,2,2,2,2,2,2,4,3,2,2,2,3,2,5,3,5,2,2,4,2,3,3,4,2,2,2,2,3,2,7,2,4,3,2,2,2,3,3,2,3,2,4,2,4,2,4,3,2,2,3,4,2,2,2,3,3,3,6,2,4,4,2,2,2,2,8,2,3,3,4,2,2,2,2,3,3,4,3,2,2,3,2,2,6,2,12,2,2,5,3,7,2,2,3,2,2,2,5,3,5,2,3,4,5,4,5,4,2,2,2,2,3,4,4,2,2,4,2,4,4,5,2,2,2,3,2,3,7,6,2,2,3,4,3,2,2,2,6,6,2,4,3,3,2,2,2,2,3,3,2,2,2,2,2,3,3,2,2,2,2,2,2,5,2,3,2,3,3,2,2,3,2,2,2,8,8,3,3,2,4,2,5,2,2,2,6,3,2,3,2,2,2,6,7,2,3,2,3,5,2,2,2,3,2,9,5,5,2,2,2,3,2,5,4,3,3,2,3,2,2,4,2,2,3,2,2,5,4,2,7,4,3,2,2,3,5,2,2,3,2,3,2,2,2,5,2,2,3,2,2,5,2,5,2,2,4,4,2,2,2,4,2,2,2,2,2,3,2,3,2,2,2,2,3,2,3,2,2,2,2,2,5,2,4,2,2,2,4,5,3,2,2,2,2,3,2,3,2,2,2,2,2,2,22,3,7,2,3,2,5,2,3,3,2,2,4,2,3,2,2,4,3,3,4,3,2,2,3,2,2,2,2,2,2,2,2,2,2,2,2,2,3,3,2,2,2,2,3,2,3,3,2,3,3,3,4,2,4,2,2,2,2,2,2,2,2,6,10,3,2,3,2,2,2,2,2,2,2,3,8,4,8,2,3,4,2,5,3,2,7,3,4,3,3,2,2,5,2,2,2,3,3,2,5,3,2,3,5,2,2,2,2,3,2,2,3,2,3,2,2,4,2,2,3,3,2,2,2,2,2,2,2,2,2,2,3,3,2,3,2,3,2,2,2,2,2,2,5,4,5,2,2,4,2,2,8,5,2,2,4,7,2,2,3,2,9,7,2,3,2,3,3,2,2,7,2,3,7,3,3,2,3,3,6,2,4,4,2,6,2,2,3,2,2,2,2,2,4,2,2,3,2,2,2,2,3,2,12,3,3,2,2,2,2,2,2,3,4,4,3,6,2,3,2,4,2,9,3,5,11,2,2,7,2,5,2,2,2,2,2,2,2,2,4,4,4,2,2,3,2,5,2,5,3,2,3,2,4,2,2,2,2,2,2,3,4,2,6,2,2,2,2,2,2,4,3,4,6,2,2,2,2,2,3,3,2,2,2,2,3,2,3,3,2,4,3,2,2,3,2,2,3,2,2,2,5,2,2,3,2,2,2,3,2,18,2,3,2,2,2,2,3,2,3,2,2,2,2,5,2,2,2,5,3,2,3,2,2,2,2,5,3,4,3,2,5,2,2,2,2,2,2,4,2,2,2,4,2,3,2,4,2,2,2,6,2,3,4,3,2,2,2,4,2,2,2,2,2,3,2,3,4,3,2,2,2,2,4,3,2,2,2,5,2,4,2,2,2,3,2,3,2,2,2,2,3,9,5,2,2,3,4,2,2,2,2,2,2,2,3,2,3,2,3,2,2,2,3,2,2,6,2,2,2,2,2,5,4,3,3,2,2,3,2,4,3,2,2,3,3,2,2,2,5,4,2,3,2,8,2,2,3,2,2,3,2,2,2,3,5,4,2,3,2,9,3,5,3,2,4,2,3,2,3,2,2,2,2,2,7,2,3,4,3,2,4,2,3,2,7,2,2,5,2,2,2,2,2,2,2,2,2,2,2,3,5,2,2,2,2,2,2,2,2,2,3,5,2,2,2,2,3,2,2,3,5,2,3,2,4,3,6,6,2,2,2,4,2,2,4,2,2,3,3,5,4,2,2,2,3,6,5,2,2,2,2,2,2,2,3,2,2,2,2,2,2,2,3,2,3,2,3,3,2,4,2,4,2,2,3,2,10,2,2,2,2,2,6,4,5,4,2,2,2,3,2,3,5,2,3,2,2,2,2,2,5,3,2,4,3,4,2,2,8,3,4,2,2,4,3,2,2,2,3,2,2,2,2,2,3,3,2,2,2,2,3,2,3,2,2,3,2,3,2,3,2,2,2,3,2,2,2,2,2,2,2,2,2,2,8,2,2,2,2,2,2,2,4,5,2,2,2,4,2,2,3,3,2,2,2,2,2,2,2,3,3,4,2,3,2,3,3,2,5,2,7,2,2,3,3,2,2,3,2,5,2,2,2,2,2,2,2,2,2,2,2,2,4,2,2,2,2,2,2,2,2,3,2,2,2,4,3,5,3,2,2,2,3,2,3,3,2,2,2,3,2,2,2,2,3,8,3,2,4,2,2,2,2,2,2,2,2,3,2,2,4,2,2,8,2,2,2,3,2,2,2,2,3,2,2,2,2,2,2,2,2,2,2,3,2,3,2,2,3,12,2,2,2,3,5,2,2,2,2,2,3,3,3,2,2,2,2,2,2,2,3,2,2,4,2,6,2,2,5,2,3,2,2,4,2,2,2,3,2,3,3,2,2,4,2,2,4,4,6,2,2,2,2,2,2,2,2,2,2,2,2,3,2,2,3,2,3,3,4,2,2,2,2,2,2,2,2,2,2,5,2,2,2,3,2,2,5,2,2,6,2,3,3,2,3,3,2,3,2,2,2,2,2,2,5,2,3,2,3,3,2,2,3,2,2,3,2,2,4,2,2,2,2,3,2,2,2,2,2,2,2,4,5,2,2,2,2,3,2,2,2,2,2,2,2,3,5,3,10,2,3,4,2,2,2,2,2,2,2,2,3,2,2,2,2,3,3,2,2,2,3,3,2,2,2,6,2,4,2,12,4,2,4,2,6,2,2,2,3,2,2,2,4,2,3,2,3,5,2,2,3,2,2,2,2,2,3,3,2,2,2,2,2,2,2,2,2,2,3,2,2,2,2,2,2,3,2,2,2,2,2,3,3,2,2,3,3,2,2,2,3,2,2,2,2,2,2,2,2,2,2,2,2,2,2,3,3,2,2,3,4,5,2,3,2,2,3,2,2,2,2,2,5,2,2,2,3,3,3,7,2,4,3,2,5,2,2,2,2,2,5,2,2,2,3,4,2,2,2,2,2,2,2,2,2,2,2,3,2,5,2,2,3,2,2,3,2,3,4,2,2,3,2,2,2,2,2,3,3,6,2,2,4,2,2,2,2,2,3,2,2,3,2,2,2,3,2,7,2,3,3,3,2,2,2,2,3,2,3,3,3,3,3,2,2,2,2,2,2,2,2,2,5,3,2,5,2,2,4,4,2,2,2,3,3,2,2,4,3,3,2,4,2,2,2,2,2,2,5,2,3,4,2,2,3,2,2,2,2,2,3,3,2,2,2,2,6,2,3,2,2,3,3,2,4,2,2,2,2,4,8,2,3,2,3,2,2,2,3,2,3,2,5,2,4,2,2,3,2,2,4,2,2,2,3,3,2,5,2,4,10,3,2,2,2,2,2,4,2,4,2,2,4,3,2,2,2,2,2,4,6,3,4,2,2,2,8,2,2,3,2,2,2,2,4,2,4,2,2,2,3,2,3,3,5,2,2,2,2,2,2,2,2,2,3,3,2,2,2,2,7,2,2,3,2,3,4,2,2,2,2,5,3,2,7,2,2,2,2,2,3,2,7,4,2,5,2,2,2,4,2,9,4,3,3,2,2,8,2,2,3,2,4,2,3,2,2,2,2,4,2,2,2,3,2,3,5,3,3,2,3,4,2,20,4,2,2,2,3,3,2,2,3,2,3,2,2,2,3,2,4,2,2,2,2,2,12,2,3,2,2,2,3,4,5,2,2,2,2,2,2,3,2,2,5,3,5,2,2,4,2,2,2,2,3,2,2,2,2,5,2,2,2,2,5,3,2,4,4,3,4,2,2,2,5,2,2,7,2,2,10,2,2,2,2,4,2,4,2,2,3,2,2,4,3,3,2,2,2,2,2,2,2,2,4,3,5,3,3,3,3,2,2,4,2,3,4,2,4,2,3,2,2,3,3,3,3,2,2,2,4,2,2,3,2,2,3,2,3,2,3,2,2,2,2,3,3,5,2,2,2,2,2,2,3,2,2,2,2,2,2,2,2,4,2,2,2,4,2,3,3,2,2,2,3,2,2,2,2,2,2,2,3,3,2,2,2,2,2,2,2,5,2,2,2,2,2,3,2,3,2,4,2,2,2,2,2,2,5,2,2,2,2,3,4,7,2,2,3,3,2,3,2,2,2,3,2,5,3,2,2,2,2,2,4,2,2,2,2,2,2,2,2,2,2,2,2,2,5,2,2,2,2,2,2,2,4,2,2,2,2,7,3,2,3,2,2,2,2,2,2,2,4,3,2,2,2,2,2,3,2,2,6,3,3,2,2,3,2,2,6,3,2,2,2,2,2,2,2,3,3,2,3,2,3,2,2,2,2,2,2,2,2,4,2,2,2,2,3,2,3,2,3,2,2,4,2,3,2,3,12,2,2,4,3,2,2,2,2,2,2,6,2,3,3,3,3,2,2,2,2,2,4,2,2,2,6,2,2,2,2,2,2,2,2,2,2,2,3,2,4,3,2,2,2,2,3,2,2,2,2,2,4,2,2,2,6,3,3,2,2,6,2,6,2,5,2,2,2,2,2,4,2,2,2,2,2,3,3,2,2,2,2,2,3,3,2,3,2,3,3,15,2,2,3,2,2,4,5,2,2,2,2,6,2,2,2,2,2,2,2,2,2,2,2,2,2,2,2,2,2,2,2,2,2,2,2,2,5,3,2,2,2,2,2,2,4,2,8,2,2,3,2,3,2,4,2,2,3,2,2,2,2,2,4,2,4,3,2,2,2,2,2,2,3,2,2,2,3,5,2,2,2,6,2,2,2,2,6,2,2,6,2,4,3,2,5,2,2,2,2,2,2,3,2,4,2,2,3,3,3,5,2,6,2,2,2,2,2,3,2,2,2,2,4,2,2,2,3,3,2,6,3,2,4,2,2,3,2,3,3,4,4,3,2,2,2,2,2,2,2,3,2,2,2,2,7,4,2,2,3,6,4,3,3,2,2,2,3,2,2,2,2,2,2,2,2,6,2,2,3,2,2,2,2,2,2,2,3,2,3,7,3,2,3,7,3,2,2,2,2,2,2,3,3,3,2,3,10,3,2,2,2,2,3,2,3,2,3,2,4,2,2,10,2,2,20,2,4,2,2,2,2,2,4,2,2,2,4,2,2,3,2,2,2,3,3,2,2,3,2,3,2,2,2,2,5,2,2,2,3,4,6,3,3,2,3,2,5,2,4,3,2,3,2,2,2,3,2,2,5,2,2,3,2,6,2,2,3,3,3,2,2,3,2,2,2,2,2,2,2,2,2,6,3,2,3,6,3,3,4,6,3,2,2,2,2,2,4,2,4,2,2,3,2,6,2,2,2,4,5,4,2,2,3,2,4,3,3,2,2,2,3,3,4,3,2,5,2,2,2,6,3,2,5,2,2,4,2,4,2,2,4,8,6,2,2,2,2,3,6,2,2,2,3,2,4,3,2,2,2,2,2,2,2,4,5,2,2,4,2,2,3,2,2,2,4,2,2,3,2,5,2,2,2,2,2,2,2,3,2,2,2,3,2,2,2,2,6,2,3,2,3,4,2,2,3,2,2,2,3,2,5,3,2,2,3,4,3,2,2,2,2,3,4,2,2,2,2,2,4,2,2,3,4,3,2,2,2,2,2,2,2,2,3,6,2,2,4,4,6,4,3,3,2,2,4,3,6,2,2,2,5,2,2,2,2,2,2,3,2,2,2,2,3,3,3,2,4,2,2,8,2,2,2,2,2,3,2,2,2,4,2,3,2,2,3,3,2,2,2,2,3,2,2,2,5,2,2,4,3,4,2,2,2,4,2,2,2,2,2,2,4,2,2,2,2,2,2,4,3,2,4,3,2,2,3,2,2,2,2,2,11,3,2,2,2,2,3,3,3,2,2,2,2,4,2,3,4,8,2,2,3,3,3,3,2,2,2,3,2,2,3,3,2,2,3,6,5,3,2,2,2,2,3,3,2,5,2,3,2,2,2,3,2,4,2,9,2,2,3,2,6,5,2,2,2,2,2,3,2,2,3,2,3,3,2,2,2,2,2,2,2,2,2,3,3,2,2,2,2,2,2,2,2,2,3,2,2,3,2,2,3,13,3,2,6,3,5,2,4,2,2,4,2,7,2,7,4,6,3,2,5,5,4,2,2,2,4,2,8,3,3,2,2,2,4,2,2,2,3,2,2,3,3,3,4,2,4,5,2,2,2,2,2,2,5,4,2,2,2,3,3,2,3,2,3,2,2,2,3,2,2,2,2,4,14,2,3,2,2,2,3,7,3,3,6,5,5,3,2,3,2,2,3,2,3,4,2,4,6,5,3,2,2,2,2,2,2,3,3,5,8,2,2,3,2,2,3,2,2,6,4,2,4,2,2,2,6,3,4,6,2,2,2,2,6,8,6,2,5,4,8,5,2,4,2,2,3,2,2,3,2,2,6,2,4,2,3,2,4,2,2,8,2,3,5,4,2,6,3,2,2,3,2,4,2,2,3,2,5,4,2,2,3,3,2,2,5,2,3,2,3,2,3,2,4,2,2,2,2,4,4,3,3,4,2,4,2,5,2,4,3,6,5,3,3,8,5,2,2,4,2,3,3,2,2,3,2,2,3,4,4,5,4,8,5,2,4,6,2,2,2,5,11,3,3,3,4,2,2,3,2,2,2,2,2,5,3,2,2,3,4,2,4,6,2,2,2,3,2,6,3,2,2,8,3,2,6,4,6,3,2,2,4,2,2,2,4,4,4,2,3,4,4,5,2,2,2,5,2,12,7,4,4,2,2,3,3,2,2,3,2,9,2,2,7,2,3,2,2,3,3,2,2,11,4,3,2,2,2,2,3,3,4,2,2,4,2,2,3,2,2,3,2,3,5,2,2,2,3,4,2,7,2,2,6,3,4,2,2,2,2,2,3,2,3,10,3,5,2,2,2,2,4,2,2,3,12,2,2,6,2,3,2,10,2,5,2,4,5,2,2,2,2,2,4,2,2,2,5,6,2,2,4,3,3,5,2,2,2,3,2,2,3,2,2,3,2,3,4,2,12,3,3,3,5,4,2,2,3,2,2,2,2,3,3,2,4,2,5,3,3,2,3,4,3,3,2,2,2,2,2,2,2,2,3,4,2,4,3,2,2,6,3,2,2,5,5,7,2,3,2,2,2,2,4,5,2,4,2,9,9,2,4,2,2,3,6,2,2,2,3,3,9,2,2,5,7,3,11,3,4,2,4,4,2,4,2,2,2,5,4,2,5,4,3,5,3,2,2,2,2,5,6,2,2,2,2,3,6,3,2,8,2,3,5,3,2,3,3,2,3,2,4,2,2,4,3,2,2,2,4,4,2,3,2,2,3,2,3,2,2,2,2,3,2,3,2,3,2,5,6,2,2,5,4,3,2,4,2,2,2,5,6,2,2,7,2,6,2,2,2,3,4,3,2,2,5,2,3,2,3,2,5,2,3,4,2,4,2,5,2,5,2,2,4,2,2,4,2,2,2,2,2,2,6,2,2,3,2,2,2,3,3,4,3,4,2,2,3,9,16,2,2,2,2,3,3,2,2,3,3,2,3,2,3,3,2,2,2,2,4,5,8,3,7,4,2,4,2,2,6,2,2,3,6,2,4,2,2,2,3,17,5,3,5,2,2,2,6,5,2,15,2,2,2,4,3,3,2,2,2,3,2,13,3,3,2,2,2,2,3,2,2,2,2,8,9,2,2,2,2,5,3,3,7,2,2,5,2,2,2,2,3,3,4,2,6,4,2,2,3,3,6,2,3,10,2,2,2,3,2,5,5,4,2,2,2,4,3,4,3,3,3,3,2,3,6,3,2,5,4,3,2,3,2,2,2,2,3,2,3,2,3,2,2,2,3,2,2,2,2,3,2,3,5,2,5,2,3,2,2,2,4,4,2,12,3,2,3,3,2,2,2,3,9,3,2,2,8,3,3,3,2,3,4,6,4,3,5,4,2,3,4,2,2,2,2,4,2,2,2,3,2,2,2,5,2,7,3,3,2,2,4,4,2,3,3,3,2,2,2,2,3,2,2,2,2,2,4,2,2,4,4,2,2,2,2,10,2,7,2,2,2,2,2,2,2,2,2,2,2,3,2,2,2,7,3,3,3,4,2,4,2,2,6,4,2,3,3,3,2,2,5,3,6,4,2,2,2,2,4,3,3,3,2,3,2,2,2,2,4,2,2,3,3,2,5,2,2,5,2,2,2,2,2,2,2,2,3,5,2,2,10,2,3,3,2,2,3,2,4,3,3,2,6,2,5,2,3,2,2,2,3,2,2,6,5,3,5,3,2,2,3,2,12,2,4,2,2,2,3,2,2,2,3,4,2,3,3,2,3,4,3,2,3,4,2,4,2,4,2,2,3,3,4,2,2,2,2,4,2,2,5,2,2,2,2,3,2,2,2,4,4,3,2,2,3,3,5,4,2,2,4,2,5,2,2,2,2,2,2,4,4,2,2,2,2,3,2,2,2,3,2,7,3,2,3,3,10,2,5,2,6,2,2,3,2,2,2,2,2,2,2,2,2,2,8,2,2,2,6,2,2,2,3,2,2,3,3,3,2,2,2,3,5,3,2,13,2,3,2,3,2,2,3,2,2,11,2,2,2,2,3,2,2,2,4,3,2,2,2,3,5,2,3,6,3,7,2,3,3,2,5,2,3,4,3,2,4,7,2,4,3,4,3,4,2,8,3,5,2,2,4,6,2,5,2,2,4,2,2,2,4,2,2,3,2,2,2,2,2,2,2,2,28,2,3,2,2,4,4,4,2,2,2,4,2,2,5,2,3,2,4,2,2,2,2,2,3,3,2,3,2,3,2,2,4,2,2,2,2,2,3,9,2,2,2,3,4,6,2,2,2,2,5,4,2,2,2,4,2,4,2,3,2,2,2,2,5,3,3,5,2,9,2,2,2,2,2,2,3,2,2,2,2,3,3,2,5,2,2,2,6,2,3,2,4,2,3,3,2,4,3,4,2,4,4,5,2,3,2,2,3,2,2,2,3,2,5,4,2,2,2,2,2,3,2,3,3,5,3,3,3,3,2,2,4,2,2,2,3,3,2,3,2,4,3,2,2,3,2,2,2,2,2,2,4,3,2,2,5,2,2,5,2,3,2,3,2,4,3,3,6,4,3,4,2,2,2,2,3,3,3,3,3,3,2,2,7,2,5,3,2,4,4,3,2,7,3,4,2,2,3,2,2,5,2,2,2,2,4,2,3,2,2,3,2,5,2,2,2,2,3,4,2,4,4,2,4,5,2,3,4,2,2,2,2,2,2,2,2,2,3,4,2,6,6,2,3,3,3,2,5,2,2,2,2,2,2,2,2,3,4,3,2,3,2,5,5,3,2,2,2,2,2,3,2,2,2,2,3,2,2,2,2,2,2,3,3,2,2,2,2,2,3,6,2,3,2,2,2,2,2,4,2,2,2,2,3,3,2,2,2,2,2,2,2,4,3,4,3,2,3,4,3,2,4,4,2,2,4,2,2,4,3,2,2,2,2,2,3,2,2,3,4,2,4,2,2,2,2,3,10,2,2,2,3,4,4,2,2,3,3,2,2,2,3,2,3,3,3,2,2,3,2,3,2,2,4,2,2,3,2,8,3,2,3,2,4,2,2,3,3,2,4,3,5,3,3,2,2,3,2,2,3,6,2,4,2,2,4,4,2,2,2,2,2,2,2,2,2,2,2,4,2,2,2,3,3,2,3,3,2,3,3,2,4,3,2,3,2,3,2,2,2,2,2,2,2,4,5,2,3,4,2,2,2,3,2,2,3,2,2,2,4,3,2,2,2,4,3,2,2,2,13,5,2,6,2,3,2,2,2,2,4,2,2,2,3,2,2,3,3,2,2,6,2,2,3,2,2,2,2,3,3,2,2,2,2,3,3,3,6,4,2,4,2,3,2,3,3,2,2,2,2,2,3,2,2,2,2,5,2,3,2,2,3,5,2,2,2,2,2,3,2,2,3,3,6,2,2,2,2,4,4,2,3,3,2,2,3,4,2,3,2,2,4,3,3,2,2,2,3,2,2,2,4,4,2,3,4,2,4,3,2,3,2,2,4,2,2,2,2,6,2,2,4,2,2,2,3,2,3,2,2,2,2,2,2,5,2,2,5,2,2,3,2,3,2,2,3,2,3,2,2,2,2,2,2,4,3,2,2,2,2,4,3,3,2,2,6,2,2,2,4,3,2,8,2,2,2,2,2,2,2,2,2,3,2,2,4,2,2,2,2,2,2,3,7,2,2,2,2,2,5,2,2,2,2,2,3,2,4,2,2,2,2,2,2,3,2,2,2,2,2,2,2,2,2,2,2,2,2,2,2,3,2,7,3,2,4,3,2,4,2,2,5,2,2,3,3,3,5,2,2,2,3,2,2,2,2,2,3,2,4,2,2,2,2,2,2,2,2,3,3,4,2,2,3,2,3,2,6,2,5,2,2,2,2,2,3,4,2,6,2,2,2,4,2,2,2,2,2,11,3,2,3,2,2,3,2,2,7,2,2,2,2,2,2,2,3,2,2,2,3,2,2,4,3,2,2,2,2,2,2,2,2,2,2,5,2,4,7,4,2,2,2,2,2,2,2,2,2,3,2,2,2,2,3,3,2,2,3,2,2,2,3,3,3,2,3,2,3,2,2,2,3,2,2,3,2,3,2,2,7,3,7,3,2,2,3,2,2,2,2,2,6,3,3,2,2,2,2,4,2,3,3,2,7,2,4,3,2,3,2,2,2,2,7,2,4,3,4,2,3,3,2,3,3,3,3,3,2,2,3,2,3,2,2,2,2,3,2,3,3,5,5,2,3,2,4,2,5,3,2,2,2,2,2,2,2,2,2,4,2,2,4,2,4,2,3,2,2,4,3,2,4,2,3,3,2,5,2,2,2,2,2,2,3,2,2,2,2,4,2,2,4,4,2,2,2,2,2,2,2,3,2,2,2,2,2,2,2,2,4,3,3,2,5,2,2,2,3,2,4,2,2,2,3,2,2,2,2,3,2,2,4,2,2,2,2,2,2,3,3,2,2,2,4,4,3,2,4,3,2,2,2,2,2,2,3,2,2,2,2,2,2,2,3,2,2,3,2,2,2,2,3,2,5,2,2,4,2,2,2,2,2,2,2,2,2,2,2,2,2,4,4,2,2,3,2,2,2,2,2,2,2,2,3,3,2,4,4,2,2,2,3,2,2,2,2,2,2,2,2,2,3,2,2,2,6,2,2,2,4,2,3,2,2,2,2,2,2,4,2,2,2,3,2,3,2,2,2,2,2,2,2,3,2,2,2,2,2,2,3,2,2,2,2,3,4,2,2,2,2,3,3,2,3,2,3,2,2,4,2,2,4,2,2,2,2,2,2,6,3,2,2,3,2,2,3,2,2,2,5,2,2,2,2,4,2,2,3,3,4,2,2,2,3,3,2,2,2,2,2,2,2,2,2,3,2,2,3,2,2,2,2,3,3,2,2,2,2,5,2,3,2,3,2,5,3,3,3,2,2,3,2,3,2,2,3,2,6,6,2,2,2,2,3,2,2,2,3,3,2,7,2,2,5,2,3,2,2,2,2,4,2,2,2,5,2,4,7,2,2,2,3,2,2,2,2,6,2,2,3,2,5,2,3,2,2,2,2,2,2,2,4,3,2,2,2,3,5,2,3,2,2,2,2,3,2,4,2,2,2,2,3,2,2,9,2,2,2,2,6,2,3,2,4,2,4,2,2,2,3,2,2,2,2,4,2,2,3,3,2,2,4,2,4,2,2,2,2,3,2,4,2,2,3,3,3,2,2,3,3,3,3,3,2,2,3,2,2,3,2,2,9,5,2,2,3,2,4,2,7,3,4,4,2,2,2,2,3,5,3,2,2,2,2,5,2,4,2,2,2,3,2,7,2,2,3,3,2,2,2,2,2,3,2,2,2,3,2,3,2,3,2,2,2,2,2,2,2,2,6,2,2,2,2,7,3,2,2,4,2,2,2,3,4,2,2,2,2,9,2,2,2,5,4,2,2,2,2,3,2,2,2,2,2,2,3,2,2,5,2,9,2,2,3,3,2,2,3,2,2,2,2,2,2,2,3,2,3,3,4,3,2,3,3,2,2,2,2,2,2,2,2,4,2,2,2,3,2,2,2,2,2,2,2,3,2,2,4,3,2,2,2,3,2,4,3,2,3,2,4,2,2,4,2,2,2,2,3,3,6,3,4,2,2,7,2,2,2,2,2,3,2,2,3,2,6,2,2,3,3,2,2,2,6,2,2,3,2,2,5,2,2,2,5,2,3,2,2,2,3,2,2,2,2,2,2,2,2,3,2,2,6,2,4,2,4,2,2,4,3,2,2,3,2,3,2,5,2,3,7,3,2,2,2,2,2,2,2,2,2,2,2,2,2,2,3,2,2,3,3,2,2,2,2,2,2,2,2,2,2,2,2,2,2,4,2,2,2,3,4,2,5,2,2,2,2,2,3,2,4,2,2,2,2,2,2,3,2,2,3,2,2,4,2,2,2,2,2,2,2,2,2,2,2,2,2,5,2,2,2,2,2,2,2,2,2,2,2,2,6,2,2,4,3,5,4,2,2,3,2,2,2,4,2,2,2,2,2,3,4,2,2,2,2,3,2,2,2,2,2,2,2,4,2,2,2,5,2,3,2,4,2,2,2,2,2,3,2,3,2,2,2,2,2,2,2,2,2,2,2,2,2,2,4,7,2,2,5,2,2,3,2,4,2,2,3,3,2,2,4,2,2,2,2,5,2,2,2,2,2,3,2,2,4,2,2,2,2,2,2,4,2,2,2,2,2,2,2,2,3,2,2,2,2,2,2,3,4,3,2,3,2,2,2,3,2,2,3,2,3,2,3,2,2,4,3,4,2,2,2,3,2,2,2,4,3,3,3,2,2,2,2,3,2,2,2,2,2,2,2,3,4,2,2,2,4,2,2,14,3,2,3,2,4,3,2,3,3,2,3,2,2,2,6,2,3,2,4,2,2,2,2,2,2,2,2,2,2,2,2,2,2,3,2,2,2,2,2,2,2,2,2,2,2,3,2,6,4,2,2,2,2,7,3,2,2,2,3,2,3,2,2,2,2,3,2,2,3,2,2,3,3,2,2,5,2,4,2,2,2,2,3,2,2,2,3,2,2,3,2,3,3,2,2,2,2,2,2,4,3,2,5,2,2,3,2,2,2,2,2,2,2,2,2,2,2,2,3,2,3,7,2,4,5,3,2,2,2,3,3,3,3,3,4,2,5,2,2,2,2,3,2,2,5,2,2,2,2,2,3,2,3,4,5,3,2,2,2,2,2,2,2,2,2,2,2,2,2,2,2,2,3,2,2,4,3,2,2,2,3,2,3,2,2,3,3,2,2,2,2,2,2,2,3,4,2,2,2,2,2,2,2,2,2,2,2,2,2,3,2,4,3,4,4,3,2,2,2,2,2,2,2,2,2,2,2,2,2,2,3,2,3,3,2,2,2,2,2,2,3,2,2,2,2,2,2,3,2,4,3,2,2,4,2,3,2,2,2,3,2,2,3,3,4,3,3,4,5,2,2,3,2,2,2,3,3,2,2,2,3,2,2,2,4,2,2,2,2,3,2,2,2,2,2,3,3,2,3,2,2,4,2,2,2,3,2,3,2,4,3,3,8,3,3,3,2,2,2,2,2,2,5,3,2,2,2,2,4,7,2,2,2,3,2,3,2,2,2,2,2,2,2,2,2,2,5,3,2,2,2,2,2,2,3,4,2,2,2,2,3,4,2,4,3,2,2,7,2,2,4,2,4,2,2,3,3,2,3,2,2,2,2,4,2,2,2,2,2,3,2,4,2,2,2,2,2,5,3,2,11,2,4,2,5,2,2,2,2,4,3,2,2,2,2,3,2,2,2,6,2,2,2,2,2,2,4,2,2,2,2,3,2,2,4,5,2,9,2,3,2,2,2,4,2,2,2,4,2,2,2,2,2,2,3,3,2,3,4,2,3,3,4,2,2,2,2,2,3,5,2,2,5,3,2,2,3,2,2,3,3,3,2,2,2,3,2,2,2,2,2,6,3,2,3,2,3,2,2,4,4,2,2,2,2,2,2,2,4,2,2,2,2,2,3,3,3,2,3,3,2,3,2,3,2,2,2,2,2,7,2,3,2,2,3,2,2,2,2,4,2,4,2,2,4,3,3,2,3,2,2,3,2,4,2,2,5,2,4,2,2,2,2,2,2,2,3,2,2,2,3,2,2,4,2,2,2,2,2,5,3,2,2,2,2,2,4,2,2,2,2,2,2,3,2,2,3,2,6,3,2,2,2,2,8,3,2,2,3,3,2,2,5,3,2,2,3,4,2,5,2,3,2,6,2,3,2,2,2,2,5,2,2,3,2,2,4,2,2,2,6,2,2,2,2,2,2,3,2,2,2,2,2,2,2,2,2,2,2,2,6,2,2,2,3,4,2,2,2,2,2,2,2,3,4,3,2,2,2,2,3,3,2,3,2,3,2,2,2,4,2,2,3,2,2,2,2,2,2,4,3,5,2,2,2,3,2,2,4,2,3,2,2,2,2,2,2,2,2,2,4,2,2,3,2,2,2,2,2,2,2,2,2,2,3,4,2,2,2,2,2,2,3,5,2,2,2,3,2,2,2,3,2,2,2,2,2,2,2,2,3,2,3,3,2,5,3,3,2,3,2,2,3,2,2,2,2,2,2,2,3,3,3,2,8,3,2,2,2,3,2,2,2,2,5,2,2,2,2,3,2,2,2,2,2,2,3,2,3,2,2,2,2,2,2,2,2,2,2,2,5,3,2,2,6,2,2,2,2,2,2,2,2,2,2,2,2,3,3,5,2,2,3,2,2,2,3,2,2,2,2,2,2,2,2,2,2,2,2,2,2,2,2,4,2,2,4,2,2,2,2,2,2,3,2,2,2,2,2,3,2,2,2,2,2,2,3,3,2,2,2,2,3,2,3,2,2,2,2,2,2,2,2,2,2,2,2,2,2,2,2,3,2,2,2,2,4,2,5,3,2,2,2,2,2,2,2,2,2,9,2,2,2,3,3,2,2,2,3,5,2,3,2,2,2,2,2,2,2,2,2,2,3,2,2,3,2,3,3,3,2,3,2,3,2,2,2,2,2,2,4,2,2,2,2,3,2,5,2,2,2,3,4,5,2,2,2,2,2,2,2,2,2,2,3,3,2,2,2,3,2,3,2,2,4,2,2,2,2,2,3,5,3,2,2,3,2,6,7,3,2,2,2,3,2,2,2,2,3,2,3,2,2,2,2,3,2,3,2,2,2,2,3,2,2,5,4,2,2,2,2,2,3,2,2,2,3,2,3,2,2,2,2,2,2,2,2,2,2,2,4,2,2,2,2,3,3,2,3,2,2,2,2,2,3,2,3,2,2,3,2,2,3,2,2,2,2,2,2,2,2,2,3,5,2,4,2,2,2,2,2,3,2,2,4,12,3,2,2,2,2,3,2,2,2,2,2,3,3,3,2,2,2,2,2,2,2,2,7,2,2,3,2,4,3,2,5,4,6,2,2,2,3,3,2,3,2,2,3,2,2,2,3,2,5,2,3,4,2,3,2,3,2,2,2,3,2,2,2,2,2,2,2,3,2,4,2,2,2,2,2,6,3,2,2,6,2,2,2,2,2,2,2,2,2,2,3,5,2,2,3,2,3,2,2,2,2,4,4,3,2,2,3,2,2,2,2,2,2,2,3,5,4,3,2,2,2,2,2,2,3,2,2,2,3,2,2,2,2,2,2,2,2,3,2,2,3,2,3,2,3,4,2,2,2,2,2,2,2,2,2,5,3,3,2,2,2,5,2,2,3,2,2,3,3,2,2,3,2,3,4,2,2,2,2,2,4,4,2,2,6,2,2,2,2,2,2,2,4,3,2,3,4,2,4,2,2,2,2,6,4,5,5,5,3,7,2,3,6,8,3,2,6,6,6,3,3,8,3,3,2,3,4,2,2,2,2,4,2,3,3,3,7,2,6,18,3,2,3,2,3,2,2,7,5,2,3,3,2,3,5,3,2,5,3,2,5,3,2,5,2,2,6,4,2,6,3,2,2,6,5,2,3,4,4,3,8,2,3,6,4,7,2,3,8,15,2,2,3,7,2,2,2,6,2,2,2,8,2,2,2,2,3,2,2,2,2,2,2,22,11,2,7,3,2,3,2,4,3,2,2,2,3,2,2,2,3,3,5,7,8,10,3,2,2,2,4,3,2,3,9,3,2,5,4,5,3,4,2,2,2,2,7,6,5,2,5,7,2,2,2,4,3,4,2,3,3,2,2,4,5,7,7,2,2,9,3,3,2,6,3,7,5,4,2,8,2,3,3,2,3,2,9,2,2,3,6,2,8,3,2,4,3,2,2,2,6,2,3,7,3,4,2,2,2,3,2,2,2,16,2,3,2,3,10,4,4,2,5,2,2,5,3,5,2,5,2,2,4,3,2,3,2,3,2,2,2,2,3,2,2,2,3,2,6,2,4,3,2,3,2,2,2,2,2,3,2,2,3,2,2,3,2,4,2,2,5,2,2,5,3,4,3,5,5,3,7,3,4,5,2,2,2,2,4,3,2,3,2,2,3,3,2,4,2,2,2,5,2,3,4,2,5,6,2,3,2,2,3,3,3,8,2,3,5,5,3,2,3,2,3,3,2,7,2,9,6,2,2,2,2,2,9,3,2,6,4,2,2,2,3,2,3,4,2,2,2,5,6,5,2,4,3,3,2,2,3,2,2,2,2,5,3,5,3,2,2,2,4,2,3,4,6,2,4,2,2,7,3,3,2,4,4,4,2,3,7,4,2,4,3,5,2,2,2,2,3,2,2,3,2,3,2,2,2,2,8,2,2,2,2,3,5,3,3,5,2,3,3,6,2,2,2,2,2,5,2,3,2,3,6,15,3,2,2,2,2,2,2,2,2,3,2,3,4,4,5,4,2,2,3,4,2,3,2,2,5,2,3,2,9,2,6,3,3,3,2,2,2,2,2,2,3,2,2,3,3,2,5,7,7,7,2,3,2,5,3,4,2,3,2,4,3,2,5,3,2,3,2,2,2,2,5,2,2,2,4,2,2,7,2,2,2,2,2,2,2,2,2,2,3,2,2,4,3,2,2,4,3,2,4,2,2,2,3,2,2,2,4,2,2,2,3,5,3,2,2,2,5,5,2,3,2,2,2,2,9,3,3,2,2,2,8,2,8,2,6,2,3,3,3,2,3,2,2,2,5,4,3,2,3,2,2,10,2,2,2,3,2,2,2,2,4,2,2,4,2,2,5,2,4,2,2,2,9,2,2,3,2,3,3,5,3,2,2,2,2,4,3,2,3,2,2,4,2,4,2,2,2,6,3,6,2,2,2,2,4,2,3,3,3,2,7,2,2,3,6,2,2,2,2,2,2,3,2,2,2,2,2,2,2,3,2,2,2,3,2,4,2,2,2,3,4,2,2,2,2,4,4,3,2,2,3,4,6,4,3,2,2,3,2,4,5,2,2,2,2,2,3,2,5,2,3,3,11,3,2,2,2,6,2,3,3,2,2,3,3,2,2,2,2,2,2,2,2,2,2,4,2,2,2,3,3,2,2,2,3,2,2,2,2,5,3,2,3,3,2,2,2,2,2,2,3,6,2,5,2,3,4,2,2,3,2,2,2,2,2,3,8,3,7,3,2,3,5,10,2,3,3,2,2,2,2,2,2,3,2,3,7,2,2,5,3,3,2,2,2,2,8,2,2,2,2,2,2,3,2,2,2,3,2,3,10,2,2,8,2,3,2,2,3,3,2,2,2,2,2,3,2,2,5,2,3,4,3,2,2,2,4,3,2,3,5,3,2,2,2,8,2,3,2,2,3,4,2,3,4,2,3,3,3,2,2,3,4,3,3,4,2,3,3,3,4,2,2,2,2,3,2,2,3,3,2,2,2,2,2,2,2,2,2,2,2,2,2,6,2,2,3,6,4,2,2,3,2,2,2,3,2,2,3,2,5,8,2,5,6,2,7,2,4,4,2,3,4,2,2,2,2,2,3,2,3,3,2,2,2,2,2,3,2,2,2,2,3,4,3,7,3,3,2,2,2,2,2,3,4,2,3,2,2,4,3,2,4,2,3,2,2,2,2,2,2,2,2,2,2,5,2,3,2,2,2,5,4,4,2,2,2,2,9,2,2,3,2,3,2,9,2,2,2,2,2,2,3,5,3,2,2,3,15,2,2,2,2,2,2,2,3,6,3,5,2,2,2,2,2,2,2,2,2,6,3,8,2,2,3,8,4,2,2,4,2,5,2,3,4,3,2,3,3,4,2,2,3,4,2,3,3,2,2,2,3,5,2,5,2,6,3,3,4,2,2,2,3,4,2,2,4,7,2,3,2,7,2,4,2,2,2,2,5,4,2,2,2,2,2,3,5,2,2,4,2,6,4,3,2,2,2,5,6,5,2,3,4,2,6,2,2,4,2,4,2,2,2,2,2,2,3,3,4,3,2,4,2,6,2,2,5,2,2,2,2,2,2,2,2,3,2,2,2,2,2,2,6,2,2,2,2,2,3,2,2,2,2,2,4,3,2,2,2,2,2,2,2,2,2,4,2,2,5,2,2,4,2,2,2,6,2,2,2,2,2,3,2,2,2,2,2,2,2,5,3,2,2,23,2,2,2,2,4,2,2,2,4,3,3,2,2,2,2,2,7,4,3,2,4,2,14,7,3,5,2,2,2,4,2,2,5,2,2,3,3,3,3,2,4,3,18,3,2,2,2,5,2,2,3,2,2,3,2,2,3,2,3,2,2,13,2,2,6,3,3,5,3,2,3,5,4,3,2,2,2,3,2,2,2,4,2,2,2,7,3,2,2,2,2,2,3,5,2,2,3,3,2,7,3,3,2,2,6,2,2,2,19,2,2,5,11,3,2,4,5,3,2,2,5,2,2,2,2,3,5,2,3,2,8,2,6,4,4,2,9,40,20,4,2,2,2,2,3,2,5,2,2,7,9,4,13,4,3,5,4,3,2,2,2,2,9,3,2,5,2,2,5,3,4,3,2,2,3,8,2,2,2,2,3,5,2,2,2,2,8,4,3,4,3,2,4,5,3,2,3,2,4,2,3,5,2,2,2,4,5,4,3,2,2,6,8,5,2,3,2,3,3,2,3,2,3,2,5,2,3,4,3,2,3,2,4,4,2,2,2,3,2,2,2,2,2,2,3,2,3,3,2,2,3,4,4,4,5,2,12,3,2,2,2,2,3,2,3,2,2,3,3,9,3,2,2,2,4,2,2,2,4,2,2,3,2,2,2,3,4,2,2,8,2,3,5,20,2,5,4,2,2,2,2,5,2,2,3,2,3,2,2,3,2,2,2,5,2,2,2,2,2,3,3,2,5,2,2,3,2,12,2,2,3,2,4,6,2,2,2,2,6,2,2,4,2,2,2,3,2,11,2,2,2,2,2,6,2,2,4,2,2,2,3,2,2,3,2,6,2,4,3,3,2,3,2,2,3,2,3,2,2,2,3,2,3,4,5,3,2,2,2,6,3,3,11,2,2,3,2,2,2,3,4,8,8,5,2,4,5,3,2,2,3,4,4,5,2,2,2,3,3,2,2,4,2,3,2,7,3,8,2,13,8,2,3,7,2,2,2,2,4,4,4,5,2,3,2,3,4,2,2,3,4,2,2,3,3,4,16,2,3,3,2,2,6,3,2,2,5,2,3,3,2,3,3,2,2,7,3,2,6,2,2,2,2,3,2,3,3,6,3,2,3,2,5,7,4,3,5,2,2,3,3,2,2,3,2,3,3,5,7,6,2,2,2,2,2,4,3,2,3,2,3,3,3,2,4,2,3,2,2,3,2,5,2,3,17,6,3,2,3,2,2,2,3,2,3,5,2,3,2,2,2,5,3,4,7,2,2,2,2,2,2,2,2,2,2,2,2,2,2,2,2,5,3,2,5,20,2,2,3,2,2,7,3,2,7,3,3,4,2,2,3,7,2,2,5,2,5,2,2,3,2,2,2,2,2,3,2,3,5,3,9,2,3,2,2,2,2,2,2,2,2,3,2,6,2,4,2,2,2,5,2,2,2,4,3,2,5,2,7,2,2,2,2,2,2,2,3,2,2,2,3,2,2,2,6,4,3,3,4,2,2,2,2,2,7,2,2,3,3,9,2,2,3,2,2,2,3,2,3,2,3,2,3,2,3,2,5,2,2,5,2,9,4,3,2,2,2,2,2,6,4,3,2,18,5,4,2,2,7,2,3,2,3,2,2,2,10,2,2,2,2,3,2,2,2,5,2,9,3,3,3,2,3,4,3,2,8,5,2,5,5,4,2,2,2,3,4,2,2,2,2,2,2,9,2,2,2,4,2,2,2,2,2,2,4,3,3,2,4,2,2,2,4,6,2,3,3,4,2,3,4,2,4,5,2,5,2,2,3,2,10,3,2,2,4,9,2,2,2,2,2,4,3,4,2,2,4,2,2,2,3,2,2,5,3,4,3,8,2,2,3,3,2,4,2,2,2,3,2,18,3,3,4,3,14,3,2,4,2,3,2,4,10,2,2,2,8,5,4,3,2,2,8,2,2,3,2,2,2,9,2,3,3,2,2,2,7,4,2,2,2,2,3,2,2,5,2,2,5,2,2,2,2,3,2,4,2,3,4,4,2,2,2,3,2,3,5,4,2,3,2,2,2,2,3,7,2,8,4,2,2,2,2,2,2,2,3,2,3,2,4,3,2,2,2,2,2,3,2,2,3,2,4,2,4,4,3,2,2,3,2,8,4,2,3,2,2,2,3,4,2,2,6,2,5,2,2,6,7,4,3,3,2,2,2,2,6,3,4,2,3,3,3,3,2,3,7,7,3,2,4,2,2,2,2,2,3,2,2,2,2,3,2,2,2,2,2,2,2,2,3,3,4,3,2,2,2,2,5,2,2,5,2,2,4,6,2,2,2,2,5,6,2,2,2,2,6,4,21,2,2,3,2,3,2,2,2,5,3,2,4,2,2,4,3,6,2,3,2,2,4,2,3,2,2,8,3,4,2,2,2,2,2,2,2,6,2,3,3,2,2,4,5,2,2,4,2,2,2,3,2,2,6,8,2,2,2,2,2,2,2,3,2,2,2,3,2,2,2,2,2,9,2,2,2,2,3,2,2,4,2,3,2,3,2,2,4,2,2,3,5,2,2,3,2,12,5,3,4,2,2,3,2,3,2,5,3,5,2,4,2,8,2,9,2,2,2,2,3,2,2,2,5,3,2,2,3,2,2,2,3,3,2,3,2,2,3,2,3,3,7,2,2,2,2,2,3,2,2,3,2,3,2,2,6,2,2,2,2,2,2,2,2,2,3,2,3,3,2,7,2,2,2,2,2,2,4,2,4,2,2,7,4,2,2,2,3,10,3,2,4,3,2,4,3,2,5,3,4,2,3,3,2,2,3,2,2,6,4,2,2,4,2,2,2,2,2,2,4,2,2,3,2,2,2,4,3,2,3,2,2,2,6,2,5,3,2,2,5,2,2,2,2,3,2,10,2,11,4,2,4,8,2,3,2,2,2,3,2,2,4,2,2,2,2,2,3,7,3,4,4,2,2,2,2,3,2,4,2,2,4,2,3,2,2,2,4,2,3,2,2,2,2,3,3,4,2,2,3,2,2,2,2,2,2,3,2,4,3,4,3,2,5,3,2,2,3,3,4,3,4,2,2,2,4,6,4,2,2,2,2,6,3,5,2,3,2,6,2,3,4,2,2,2,2,3,2,2,3,2,4,4,3,2,2,4,2,2,3,3,2,3,2,2,3,8,2,2,3,2,2,2,2,2,2,4,3,3,2,2,2,2,2,2,2,2,3,3,2,2,2,3,2,2,4,2,2,2,2,2,3,3,3,4,2,3,3,2,2,2,4,3,3,2,3,2,3,2,2,2,2,6,5,4,5,2,2,2,3,2,2,2,2,4,4,2,2,3,4,2,2,5,5,2,3,3,2,3,4,2,6,2,4,2,2,2,2,3,2,3,3,2,3,2,2,7,2,6,2,2,2,4,2,2,2,4,2,2,10,2,2,2,3,2,2,2,2,3,4,2,4,12,3,2,2,3,2,2,4,2,2,5,3,2,5,2,2,2,5,2,2,3,4,2,2,5,3,2,2,3,2,2,4,2,2,2,2,2,2,2,3,2,2,2,2,4,2,2,3,2,3,2,2,2,2,2,2,2,2,7,2,2,2,2,2,2,3,2,2,2,2,2,3,2,3,4,2,2,2,2,8,4,2,2,2,2,4,3,3,2,2,5,3,2,2,2,3,4,7,3,4,2,2,2,2,2,2,2,3,2,4,2,6,3,2,3,2,2,2,2,3,4,2,2,2,2,2,7,4,2,2,2,2,2,2,2,3,3,3,2,2,2,2,2,2,3,2,4,2,2,4,2,2,4,3,3,3,4,3,3,3,2,3,3,2,2,2,2,2,2,2,7,2,2,5,3,2,3,3,6,3,5,2,5,2,2,13,2,2,5,7,2,2,3,5,2,4,5,3,6,2,3,7,2,2,2,2,2,3,2,4,4,3,2,3,2,3,3,2,2,3,2,2,3,2,4,3,4,3,7,4,3,8,2,3,2,2,5,2,2,4,7,2,2,2,3,2,2,2,19,4,4,2,2,2,2,2,2,2,2,3,4,2,2,4,2,2,6,2,4,2,7,2,2,2,2,6,2,2,2,2,2,2,2,2,2,2,2,3,2,3,2,2,2,6,2,5,2,2,5,4,3,2,2,2,3,2,3,3,2,3,2,9,2,2,2,2,5,2,5,4,3,2,2,2,4,2,2,5,4,2,2,2,2,2,2,2,2,2,2,3,2,2,2,2,4,3,2,2,3,2,2,2,2,2,2,3,2,5,2,2,2,2,2,2,4,3,4,2,4,2,2,4,2,2,4,2,2,2,2,4,2,3,2,4,4,2,2,5,2,2,2,4,2,2,2,2,2,2,4,4,2,2,3,4,8,2,8,2,2,2,2,2,2,6,4,5,4,2,2,2,4,5,2,2,2,2,4,5,4,4,2,5,2,2,2,2,4,2,3,2,3,2,2,2,2,2,3,2,2,2,2,4,3,4,4,5,3,5,2,5,2,2,2,2,2,2,2,3,4,2,2,2,2,4,2,2,2,6,2,4,3,2,2,2,3,2,2,2,2,3,2,2,2,7,2,2,3,4,4,2,2,6,3,5,3,3,2,2,2,3,3,2,2,2,2,3,2,2,2,2,5,2,3,2,2,3,2,2,2,6,2,2,3,2,6,2,2,3,4,2,4,2,2,2,2,2,5,2,2,2,2,2,4,2,3,3,3,3,5,2,3,2,2,4,3,7,3,2,2,3,2,3,3,8,3,2,2,2,3,3,2,3,2,2,2,3,2,3,2,2,2,2,3,2,2,2,3,2,4,2,2,3,2,2,2,2,2,2,4,4,3,6,4,2,2,2,7,2,4,2,3,2,2,5,2,5,5,3,2,2,2,2,2,7,3,4,2,3,3,2,2,2,3,2,5,2,2,2,2,2,2,2,2,3,3,3,3,5,2,2,2,2,2,2,2,2,2,2,2,4,3,2,2,5,2,2,11,2,3,2,2,8,3,2,5,2,2,2,2,2,2,2,2,2,2,2,2,4,2,2,2,2,2,3,3,7,4,5,3,2,2,2,2,2,2,4,2,2,2,3,2,3,2,2,2,3,2,6,5,2,5,4,2,4,2,4,2,2,2,7,2,3,2,4,6,2,4,2,4,2,2,2,3,5,2,2,2,2,2,3,2,3,2,2,2,2,6,3,4,2,2,2,3,2,2,3,4,2,2,5,2,2,2,2,4,2,3,2,2,2,5,2,2,2,2,2,5,3,2,4,2,3,5,2,6,4,2,2,4,2,3,2,2,3,2,4,6,2,2,9,5,2,2,3,2,2,4,2,2,3,4,2,3,2,4,2,2,6,2,2,2,2,2,2,2,2,3,2,2,2,3,2,2,2,2,5,2,10,2,3,3,2,2,3,3,2,2,3,2,4,2,2,2,2,3,5,2,2,3,3,2,2,2,2,10,3,3,11,2,2,3,3,2,3,3,2,3,2,2,2,4,2,5,2,2,2,4,2,2,3,2,4,2,2,3,9,2,2,2,6,4,3,7,3,3,3,6,2,5,2,3,3,2,2,2,5,2,2,2,2,2,2,2,2,2,2,2,2,3,2,2,2,2,6,5,3,2,2,2,4,4,3,2,2,2,2,3,2,2,2,3,3,2,3,5,3,2,2,2,10,3,3,2,3,5,2,2,3,2,3,2,3,5,2,2,7,4,3,2,2,5,2,2,3,2,2,2,4,2,4,2,3,4,3,2,3,5,2,2,3,2,2,2,2,2,3,5,2,3,2,2,2,2,7,4,3,2,2,3,2,2,7,3,2,3,2,2,3,3,10,14,2,2,2,2,2,2,2,2,2,2,2,2,5,2,4,2,2,2,3,2,2,2,2,6,2,3,2,3,2,3,2,2,2,2,6,2,2,4,2,6,2,2,3,3,2,2,3,2,2,2,4,2,2,3,2,3,4,2,2,2,2,2,3,2,2,2,2,2,2,2,4,2,2,2,4,2,2,3,4,3,2,2,2,2,2,3,2,3,2,4,3,2,2,2,5,2,2,5,2,2,2,2,3,3,4,2,4,2,2,3,2,2,2,3,2,2,3,2,2,3,3,2,2,2,2,2,2,2,2,9,2,2,2,2,2,2,2,2,6,2,2,2,2,2,4,2,3,2,2,4,3,2,2,2,2,2,2,2,2,3,2,3,3,4,2,2,2,3,2,2,2,9,2,4,2,2,2,3,2,2,4,2,2,2,4,2,2,2,3,3,2,5,3,2,8,2,2,2,2,2,2,4,4,3,5,2,2,9,2,2,2,2,2,2,2,2,2,2,2,4,2,2,2,2,3,2,2,2,3,2,2,2,2,5,2,2,3,2,2,2,3,4,2,2,3,2,2,2,2,2,3,2,3,2,3,2,2,7,2,2,2,2,2,3,2,2,2,2,3,2,5,5,2,2,2,3,2,13,2,3,2,5,2,4,3,3,3,2,3,2,2,3,3,4,4,2,6,2,2,2,17,4,3,2,3,2,2,2,2,2,5,2,2,2,6,3,6,2,3,2,2,3,2,4,4,3,3,6,4,2,2,2,4,2,2,2,2,3,2,2,2,3,3,2,3,2,2,3,3,4,3,4,3,3,6,2,2,2,2,5,4,3,3,2,2,4,2,2,4,2,2,2,2,2,2,2,3,4,2,4,2,2,5,2,2,2,2,2,4,3,2,2,2,2,3,3,6,2,3,2,5,3,8,3,2,2,5,2,2,2,4,3,3,2,2,2,2,2,3,2,2,2,2,2,3,2,2,2,4,2,3,2,2,2,3,4,2,2,3,4,2,3,2,2,2,2,3,3,3,2,3,4,3,2,2,2,2,2,4,2,3,2,5,4,2,5,5,2,2,2,3,4,4,4,2,2,2,2,2,3,2,2,6,4,2,2,3,2,2,2,2,2,2,2,2,3,9,5,2,3,2,2,2,3,2,2,4,2,5,3,2,3,2,3,2,2,2,2,2,2,3,2,2,2,2,2,2,2,2,3,3,8,2,2,2,2,3,3,2,2,2,4,2,4,2,2,2,4,5,13,2,3,4,2,3,2,2,2,2,3,2,2,2,3,2,2,2,4,2,3,2,2,3,2,2,3,4,2,2,2,2,5,7,2,4,2,2,2,5,2,2,2,2,2,2,4,2,3,2,2,2,2,2,2,3,2,2,2,2,2,2,5,3,5,2,4,2,2,3,15,2,2,3,2,2,2,2,2,2,3,2,4,2,3,2,2,2,3,4,2,3,6,2,2,2,2,2,2,2,3,3,2,3,3,2,3,2,3,3,3,3,6,2,4,3,2,3,2,3,2,3,2,4,3,2,4,3,9,2,3,5,2,4,3,2,3,3,4,3,3,2,2,2,6,2,2,2,2,2,3,2,2,5,2,2,4,3,2,2,2,2,5,3,3,2,2,6,3,2,2,2,2,2,2,2,2,2,2,2,3,3,2,3,3,2,2,3,2,3,2,2,2,2,5,2,2,3,2,2,2,2,2,2,4,3,5,2,2,4,3,2,2,2,2,2,2,2,3,3,2,6,2,6,4,2,2,2,2,3,8,3,2,3,3,6,3,3,3,2,2,2,2,3,3,2,2,3,2,2,2,2,2,2,3,9,2,4,2,5,6,2,2,2,2,2,2,4,2,2,2,2,4,3,2,2,2,2,4,4,3,4,2,3,2,2,2,3,2,3,2,4,2,2,2,2,2,3,2,2,2,2,2,5,2,2,2,2,2,2,2,2,5,2,2,2,2,2,2,2,2,2,2,2,3,4,5,6,2,3,2,2,3,2,4,2,2,2,2,3,3,3,2,2,2,2,2,3,5,2,2,2,2,2,2,2,2,2,2,11,3,2,2,2,2,2,2,2,2,5,2,2,4,7,5,2,2,2,3,2,2,2,3,2,3,7,2,2,2,3,5,2,5,2,2,2,2,2,3,3,3,2,7,2,2,2,2,3,3,2,2,2,2,3,2,2,2,3,2,2,4,5,2,2,3,2,2,2,3,2,2,2,2,2,3,2,2,2,2,2,2,2,2,2,2,2,2,2,2,2,2,2,3,3,3,2,2,2,2,2,2,2,2,2,2,2,2,2,2,2,2,3,2,2,2,3,3,2,2,2,2,2,2,2,2,2,2,2,2,2,2,2,2,3,2,4,2,2,2,2,2,2,2,2,2,3,2,2,4,2,2,3,2,2,2,2,2,3,2,2,3,2,2,2,2,2,3,2,2,3,2,2,3,2,2,2,2,2,2,3,2,3,3,4,2,2,2,2,2,2,2,2,2,2,2,2,2,4,3,2,2,2,2,2,4,2,4,2,2,3,2,2,2,3,2,4,2,2,2,2,2,2,3,2,2,2,2,3,2,2,2,2,2,2,3,2,5,2,2,2],\"xaxis\":\"x\",\"yaxis\":\"y\",\"type\":\"histogram\"}],                        {\"template\":{\"data\":{\"histogram2dcontour\":[{\"type\":\"histogram2dcontour\",\"colorbar\":{\"outlinewidth\":0,\"ticks\":\"\"},\"colorscale\":[[0.0,\"#0d0887\"],[0.1111111111111111,\"#46039f\"],[0.2222222222222222,\"#7201a8\"],[0.3333333333333333,\"#9c179e\"],[0.4444444444444444,\"#bd3786\"],[0.5555555555555556,\"#d8576b\"],[0.6666666666666666,\"#ed7953\"],[0.7777777777777778,\"#fb9f3a\"],[0.8888888888888888,\"#fdca26\"],[1.0,\"#f0f921\"]]}],\"choropleth\":[{\"type\":\"choropleth\",\"colorbar\":{\"outlinewidth\":0,\"ticks\":\"\"}}],\"histogram2d\":[{\"type\":\"histogram2d\",\"colorbar\":{\"outlinewidth\":0,\"ticks\":\"\"},\"colorscale\":[[0.0,\"#0d0887\"],[0.1111111111111111,\"#46039f\"],[0.2222222222222222,\"#7201a8\"],[0.3333333333333333,\"#9c179e\"],[0.4444444444444444,\"#bd3786\"],[0.5555555555555556,\"#d8576b\"],[0.6666666666666666,\"#ed7953\"],[0.7777777777777778,\"#fb9f3a\"],[0.8888888888888888,\"#fdca26\"],[1.0,\"#f0f921\"]]}],\"heatmap\":[{\"type\":\"heatmap\",\"colorbar\":{\"outlinewidth\":0,\"ticks\":\"\"},\"colorscale\":[[0.0,\"#0d0887\"],[0.1111111111111111,\"#46039f\"],[0.2222222222222222,\"#7201a8\"],[0.3333333333333333,\"#9c179e\"],[0.4444444444444444,\"#bd3786\"],[0.5555555555555556,\"#d8576b\"],[0.6666666666666666,\"#ed7953\"],[0.7777777777777778,\"#fb9f3a\"],[0.8888888888888888,\"#fdca26\"],[1.0,\"#f0f921\"]]}],\"heatmapgl\":[{\"type\":\"heatmapgl\",\"colorbar\":{\"outlinewidth\":0,\"ticks\":\"\"},\"colorscale\":[[0.0,\"#0d0887\"],[0.1111111111111111,\"#46039f\"],[0.2222222222222222,\"#7201a8\"],[0.3333333333333333,\"#9c179e\"],[0.4444444444444444,\"#bd3786\"],[0.5555555555555556,\"#d8576b\"],[0.6666666666666666,\"#ed7953\"],[0.7777777777777778,\"#fb9f3a\"],[0.8888888888888888,\"#fdca26\"],[1.0,\"#f0f921\"]]}],\"contourcarpet\":[{\"type\":\"contourcarpet\",\"colorbar\":{\"outlinewidth\":0,\"ticks\":\"\"}}],\"contour\":[{\"type\":\"contour\",\"colorbar\":{\"outlinewidth\":0,\"ticks\":\"\"},\"colorscale\":[[0.0,\"#0d0887\"],[0.1111111111111111,\"#46039f\"],[0.2222222222222222,\"#7201a8\"],[0.3333333333333333,\"#9c179e\"],[0.4444444444444444,\"#bd3786\"],[0.5555555555555556,\"#d8576b\"],[0.6666666666666666,\"#ed7953\"],[0.7777777777777778,\"#fb9f3a\"],[0.8888888888888888,\"#fdca26\"],[1.0,\"#f0f921\"]]}],\"surface\":[{\"type\":\"surface\",\"colorbar\":{\"outlinewidth\":0,\"ticks\":\"\"},\"colorscale\":[[0.0,\"#0d0887\"],[0.1111111111111111,\"#46039f\"],[0.2222222222222222,\"#7201a8\"],[0.3333333333333333,\"#9c179e\"],[0.4444444444444444,\"#bd3786\"],[0.5555555555555556,\"#d8576b\"],[0.6666666666666666,\"#ed7953\"],[0.7777777777777778,\"#fb9f3a\"],[0.8888888888888888,\"#fdca26\"],[1.0,\"#f0f921\"]]}],\"mesh3d\":[{\"type\":\"mesh3d\",\"colorbar\":{\"outlinewidth\":0,\"ticks\":\"\"}}],\"scatter\":[{\"fillpattern\":{\"fillmode\":\"overlay\",\"size\":10,\"solidity\":0.2},\"type\":\"scatter\"}],\"parcoords\":[{\"type\":\"parcoords\",\"line\":{\"colorbar\":{\"outlinewidth\":0,\"ticks\":\"\"}}}],\"scatterpolargl\":[{\"type\":\"scatterpolargl\",\"marker\":{\"colorbar\":{\"outlinewidth\":0,\"ticks\":\"\"}}}],\"bar\":[{\"error_x\":{\"color\":\"#2a3f5f\"},\"error_y\":{\"color\":\"#2a3f5f\"},\"marker\":{\"line\":{\"color\":\"#E5ECF6\",\"width\":0.5},\"pattern\":{\"fillmode\":\"overlay\",\"size\":10,\"solidity\":0.2}},\"type\":\"bar\"}],\"scattergeo\":[{\"type\":\"scattergeo\",\"marker\":{\"colorbar\":{\"outlinewidth\":0,\"ticks\":\"\"}}}],\"scatterpolar\":[{\"type\":\"scatterpolar\",\"marker\":{\"colorbar\":{\"outlinewidth\":0,\"ticks\":\"\"}}}],\"histogram\":[{\"marker\":{\"pattern\":{\"fillmode\":\"overlay\",\"size\":10,\"solidity\":0.2}},\"type\":\"histogram\"}],\"scattergl\":[{\"type\":\"scattergl\",\"marker\":{\"colorbar\":{\"outlinewidth\":0,\"ticks\":\"\"}}}],\"scatter3d\":[{\"type\":\"scatter3d\",\"line\":{\"colorbar\":{\"outlinewidth\":0,\"ticks\":\"\"}},\"marker\":{\"colorbar\":{\"outlinewidth\":0,\"ticks\":\"\"}}}],\"scattermapbox\":[{\"type\":\"scattermapbox\",\"marker\":{\"colorbar\":{\"outlinewidth\":0,\"ticks\":\"\"}}}],\"scatterternary\":[{\"type\":\"scatterternary\",\"marker\":{\"colorbar\":{\"outlinewidth\":0,\"ticks\":\"\"}}}],\"scattercarpet\":[{\"type\":\"scattercarpet\",\"marker\":{\"colorbar\":{\"outlinewidth\":0,\"ticks\":\"\"}}}],\"carpet\":[{\"aaxis\":{\"endlinecolor\":\"#2a3f5f\",\"gridcolor\":\"white\",\"linecolor\":\"white\",\"minorgridcolor\":\"white\",\"startlinecolor\":\"#2a3f5f\"},\"baxis\":{\"endlinecolor\":\"#2a3f5f\",\"gridcolor\":\"white\",\"linecolor\":\"white\",\"minorgridcolor\":\"white\",\"startlinecolor\":\"#2a3f5f\"},\"type\":\"carpet\"}],\"table\":[{\"cells\":{\"fill\":{\"color\":\"#EBF0F8\"},\"line\":{\"color\":\"white\"}},\"header\":{\"fill\":{\"color\":\"#C8D4E3\"},\"line\":{\"color\":\"white\"}},\"type\":\"table\"}],\"barpolar\":[{\"marker\":{\"line\":{\"color\":\"#E5ECF6\",\"width\":0.5},\"pattern\":{\"fillmode\":\"overlay\",\"size\":10,\"solidity\":0.2}},\"type\":\"barpolar\"}],\"pie\":[{\"automargin\":true,\"type\":\"pie\"}]},\"layout\":{\"autotypenumbers\":\"strict\",\"colorway\":[\"#636efa\",\"#EF553B\",\"#00cc96\",\"#ab63fa\",\"#FFA15A\",\"#19d3f3\",\"#FF6692\",\"#B6E880\",\"#FF97FF\",\"#FECB52\"],\"font\":{\"color\":\"#2a3f5f\"},\"hovermode\":\"closest\",\"hoverlabel\":{\"align\":\"left\"},\"paper_bgcolor\":\"white\",\"plot_bgcolor\":\"#E5ECF6\",\"polar\":{\"bgcolor\":\"#E5ECF6\",\"angularaxis\":{\"gridcolor\":\"white\",\"linecolor\":\"white\",\"ticks\":\"\"},\"radialaxis\":{\"gridcolor\":\"white\",\"linecolor\":\"white\",\"ticks\":\"\"}},\"ternary\":{\"bgcolor\":\"#E5ECF6\",\"aaxis\":{\"gridcolor\":\"white\",\"linecolor\":\"white\",\"ticks\":\"\"},\"baxis\":{\"gridcolor\":\"white\",\"linecolor\":\"white\",\"ticks\":\"\"},\"caxis\":{\"gridcolor\":\"white\",\"linecolor\":\"white\",\"ticks\":\"\"}},\"coloraxis\":{\"colorbar\":{\"outlinewidth\":0,\"ticks\":\"\"}},\"colorscale\":{\"sequential\":[[0.0,\"#0d0887\"],[0.1111111111111111,\"#46039f\"],[0.2222222222222222,\"#7201a8\"],[0.3333333333333333,\"#9c179e\"],[0.4444444444444444,\"#bd3786\"],[0.5555555555555556,\"#d8576b\"],[0.6666666666666666,\"#ed7953\"],[0.7777777777777778,\"#fb9f3a\"],[0.8888888888888888,\"#fdca26\"],[1.0,\"#f0f921\"]],\"sequentialminus\":[[0.0,\"#0d0887\"],[0.1111111111111111,\"#46039f\"],[0.2222222222222222,\"#7201a8\"],[0.3333333333333333,\"#9c179e\"],[0.4444444444444444,\"#bd3786\"],[0.5555555555555556,\"#d8576b\"],[0.6666666666666666,\"#ed7953\"],[0.7777777777777778,\"#fb9f3a\"],[0.8888888888888888,\"#fdca26\"],[1.0,\"#f0f921\"]],\"diverging\":[[0,\"#8e0152\"],[0.1,\"#c51b7d\"],[0.2,\"#de77ae\"],[0.3,\"#f1b6da\"],[0.4,\"#fde0ef\"],[0.5,\"#f7f7f7\"],[0.6,\"#e6f5d0\"],[0.7,\"#b8e186\"],[0.8,\"#7fbc41\"],[0.9,\"#4d9221\"],[1,\"#276419\"]]},\"xaxis\":{\"gridcolor\":\"white\",\"linecolor\":\"white\",\"ticks\":\"\",\"title\":{\"standoff\":15},\"zerolinecolor\":\"white\",\"automargin\":true,\"zerolinewidth\":2},\"yaxis\":{\"gridcolor\":\"white\",\"linecolor\":\"white\",\"ticks\":\"\",\"title\":{\"standoff\":15},\"zerolinecolor\":\"white\",\"automargin\":true,\"zerolinewidth\":2},\"scene\":{\"xaxis\":{\"backgroundcolor\":\"#E5ECF6\",\"gridcolor\":\"white\",\"linecolor\":\"white\",\"showbackground\":true,\"ticks\":\"\",\"zerolinecolor\":\"white\",\"gridwidth\":2},\"yaxis\":{\"backgroundcolor\":\"#E5ECF6\",\"gridcolor\":\"white\",\"linecolor\":\"white\",\"showbackground\":true,\"ticks\":\"\",\"zerolinecolor\":\"white\",\"gridwidth\":2},\"zaxis\":{\"backgroundcolor\":\"#E5ECF6\",\"gridcolor\":\"white\",\"linecolor\":\"white\",\"showbackground\":true,\"ticks\":\"\",\"zerolinecolor\":\"white\",\"gridwidth\":2}},\"shapedefaults\":{\"line\":{\"color\":\"#2a3f5f\"}},\"annotationdefaults\":{\"arrowcolor\":\"#2a3f5f\",\"arrowhead\":0,\"arrowwidth\":1},\"geo\":{\"bgcolor\":\"white\",\"landcolor\":\"#E5ECF6\",\"subunitcolor\":\"white\",\"showland\":true,\"showlakes\":true,\"lakecolor\":\"white\"},\"title\":{\"x\":0.05},\"mapbox\":{\"style\":\"light\"}}},\"xaxis\":{\"anchor\":\"y\",\"domain\":[0.0,1.0],\"title\":{\"text\":\"all_time_number_inpatient\"}},\"yaxis\":{\"anchor\":\"x\",\"domain\":[0.0,1.0],\"title\":{\"text\":\"count\"}},\"legend\":{\"tracegroupgap\":0},\"title\":{\"text\":\"Distribuci\\u00f3n del tiempo en el hospital\"},\"barmode\":\"relative\"},                        {\"responsive\": true}                    ).then(function(){\n",
              "                            \n",
              "var gd = document.getElementById('6ab6a918-dbcb-4568-8414-816a34f92adc');\n",
              "var x = new MutationObserver(function (mutations, observer) {{\n",
              "        var display = window.getComputedStyle(gd).display;\n",
              "        if (!display || display === 'none') {{\n",
              "            console.log([gd, 'removed!']);\n",
              "            Plotly.purge(gd);\n",
              "            observer.disconnect();\n",
              "        }}\n",
              "}});\n",
              "\n",
              "// Listen for the removal of the full notebook cells\n",
              "var notebookContainer = gd.closest('#notebook-container');\n",
              "if (notebookContainer) {{\n",
              "    x.observe(notebookContainer, {childList: true});\n",
              "}}\n",
              "\n",
              "// Listen for the clearing of the current output cell\n",
              "var outputEl = gd.closest('.output');\n",
              "if (outputEl) {{\n",
              "    x.observe(outputEl, {childList: true});\n",
              "}}\n",
              "\n",
              "                        })                };                            </script>        </div>\n",
              "</body>\n",
              "</html>"
            ]
          },
          "metadata": {}
        }
      ]
    },
    {
      "cell_type": "code",
      "source": [
        "max_readmitted['all_time_number_inpatient'].mean()"
      ],
      "metadata": {
        "colab": {
          "base_uri": "https://localhost:8080/"
        },
        "id": "urDYj5tNH9Zq",
        "outputId": "c9235b2d-5ecc-4c43-ad9d-9cec3779d051"
      },
      "execution_count": 127,
      "outputs": [
        {
          "output_type": "execute_result",
          "data": {
            "text/plain": [
              "2.812835544585005"
            ]
          },
          "metadata": {},
          "execution_count": 127
        }
      ]
    },
    {
      "cell_type": "markdown",
      "source": [
        "En promedio los pacientes que visitan el hospital mas de una vez lo hacen 3 veces. Despues de la segunda visita no vuelven a ser readmitidos."
      ],
      "metadata": {
        "id": "knWstEoslC_n"
      }
    },
    {
      "cell_type": "code",
      "source": [
        "Hernandez_med = Hernandez[['metformin', 'repaglinide', 'nateglinide', 'chlorpropamide',\n",
        "                                   'glimepiride', 'acetohexamide', 'glipizide', 'glyburide',\n",
        "                                   'tolbutamide', 'pioglitazone', 'rosiglitazone', 'acarbose',\n",
        "                                   'miglitol', 'troglitazone', 'tolazamide', 'examide',\n",
        "                                   'citoglipton', 'insulin', 'glyburide-metformin',\n",
        "                                   'glipizide-metformin', 'glimepiride-pioglitazone',\n",
        "                                   'metformin-rosiglitazone', 'metformin-pioglitazone']]\n",
        "\n",
        "Hernandez_med = Hernandez_med.loc[:, Hernandez_med.nunique() > 1] #Quitamos las columnas que solo tienen un valor constante\n",
        "Hernandez_med['Medicinas_tomadas'] = Hernandez_med.apply(lambda row: (row != 'No').sum(), axis=1) #Porque la columna de readmitted agrega un valor\n",
        "Hernandez_med['readmitted'] = Hernandez['readmitted']\n",
        "fig = px.histogram(Hernandez_med, x='Medicinas_tomadas', nbins=11, title='Distribución del número de medicinas tomadas al tiempo',\n",
        "                   facet_col='readmitted')\n",
        "fig.show()"
      ],
      "metadata": {
        "colab": {
          "base_uri": "https://localhost:8080/",
          "height": 542
        },
        "id": "D2dVwJnWkJEX",
        "outputId": "7e1f38ab-3976-48ff-bf66-d92b5f2999cd"
      },
      "execution_count": 128,
      "outputs": [
        {
          "output_type": "display_data",
          "data": {
            "text/html": [
              "<html>\n",
              "<head><meta charset=\"utf-8\" /></head>\n",
              "<body>\n",
              "    <div>            <script src=\"https://cdnjs.cloudflare.com/ajax/libs/mathjax/2.7.5/MathJax.js?config=TeX-AMS-MML_SVG\"></script><script type=\"text/javascript\">if (window.MathJax && window.MathJax.Hub && window.MathJax.Hub.Config) {window.MathJax.Hub.Config({SVG: {font: \"STIX-Web\"}});}</script>                <script type=\"text/javascript\">window.PlotlyConfig = {MathJaxConfig: 'local'};</script>\n",
              "        <script charset=\"utf-8\" src=\"https://cdn.plot.ly/plotly-2.35.2.min.js\"></script>                <div id=\"fd484b1c-af6a-42ca-862b-e094fab07362\" class=\"plotly-graph-div\" style=\"height:525px; width:100%;\"></div>            <script type=\"text/javascript\">                                    window.PLOTLYENV=window.PLOTLYENV || {};                                    if (document.getElementById(\"fd484b1c-af6a-42ca-862b-e094fab07362\")) {                    Plotly.newPlot(                        \"fd484b1c-af6a-42ca-862b-e094fab07362\",                        [{\"alignmentgroup\":\"True\",\"bingroup\":\"x\",\"hovertemplate\":\"readmitted=\\u003c30\\u003cbr\\u003eMedicinas_tomadas=%{x}\\u003cbr\\u003ecount=%{y}\\u003cextra\\u003e\\u003c\\u002fextra\\u003e\",\"legendgroup\":\"\",\"marker\":{\"color\":\"#636efa\",\"pattern\":{\"shape\":\"\"}},\"name\":\"\",\"nbinsx\":11,\"offsetgroup\":\"\",\"orientation\":\"v\",\"showlegend\":false,\"x\":[3,1,2,1,0,1,1,1,0,1,0,1,0,1,1,2,0,1,0,0,1,1,1,2,0,0,0,0,1,1,2,2,1,1,1,1,2,1,1,1,1,2,1,0,2,2,0,1,1,1,0,0,1,1,0,0,1,3,0,1,3,1,1,1,0,1,0,1,1,1,2,1,1,0,1,1,1,1,0,1,1,1,0,3,1,1,0,1,1,1,2,0,1,1,2,1,1,0,0,1,0,0,0,1,1,1,1,0,1,0,2,2,2,1,2,1,1,0,1,1,0,1,2,2,0,0,1,1,1,1,1,0,2,1,0,2,1,1,2,1,0,1,1,2,1,0,0,1,0,1,3,1,2,1,1,3,1,2,2,0,0,1,0,1,0,0,0,1,2,1,1,3,2,1,1,1,1,0,0,1,2,1,1,1,1,2,0,2,3,0,0,0,1,1,1,1,1,2,0,3,2,1,1,0,1,2,1,1,1,1,1,1,1,1,3,1,0,1,2,1,0,1,0,1,1,1,1,0,2,1,1,0,0,0,0,2,1,1,1,0,0,1,1,2,1,2,1,0,1,1,2,1,1,1,0,1,1,1,1,0,0,1,1,2,1,1,1,1,1,1,0,2,2,2,1,1,1,1,0,1,0,0,0,1,2,2,1,1,2,1,0,3,1,1,0,2,2,1,0,1,1,1,1,1,1,1,1,4,1,0,0,1,0,2,2,2,1,1,1,1,1,1,1,0,1,1,1,0,0,0,0,1,3,1,0,0,0,0,1,0,1,1,1,1,2,0,1,0,1,2,3,1,0,1,0,1,1,1,0,1,1,1,1,1,0,1,3,1,1,1,1,0,1,1,1,2,1,1,1,1,2,0,0,0,0,1,1,1,2,2,1,1,1,1,1,1,0,0,0,0,4,0,0,1,2,2,1,1,1,1,2,3,4,3,1,1,0,0,0,0,0,0,1,1,0,2,1,0,1,1,1,0,1,2,0,1,1,1,2,1,0,1,2,1,1,1,1,2,1,0,1,3,1,2,0,0,1,1,0,0,0,0,0,3,3,1,0,1,1,1,1,3,3,0,3,1,2,1,2,2,1,1,1,2,1,0,1,1,1,1,2,2,2,2,1,1,1,1,1,2,0,1,1,1,2,1,1,0,0,1,2,1,1,0,2,1,1,1,1,2,1,1,0,1,2,1,1,1,1,2,1,1,2,1,2,4,0,1,2,0,1,0,0,1,1,3,2,2,2,1,1,1,1,1,1,1,1,1,1,1,1,0,2,3,1,1,2,1,1,1,0,1,2,1,2,2,2,3,1,0,2,2,1,1,1,0,1,1,1,2,1,0,1,0,0,0,0,0,1,0,1,2,1,3,2,1,1,0,0,1,2,0,1,1,1,1,0,3,0,2,0,1,2,0,0,1,1,0,1,2,3,1,2,1,3,1,0,0,3,0,1,1,1,3,3,0,0,1,1,0,1,1,1,2,2,2,1,2,1,0,3,3,3,1,1,1,1,1,3,1,1,1,0,2,1,1,0,1,1,1,0,1,3,3,0,1,2,1,1,0,0,0,1,0,3,1,0,1,1,0,1,2,1,2,3,2,1,3,0,2,2,1,1,1,1,1,2,1,2,0,2,2,2,3,2,2,1,1,1,0,1,2,1,1,3,2,1,1,0,1,1,2,1,1,1,3,3,2,0,0,0,2,1,2,1,1,1,0,3,1,2,1,1,2,2,1,1,0,1,0,0,1,1,1,2,3,1,0,2,0,0,0,0,1,1,1,2,1,1,3,1,1,0,0,0,0,0,3,4,1,2,1,2,0,2,3,0,1,2,1,1,4,1,2,1,1,1,0,0,1,1,0,1,1,2,0,1,1,2,3,1,2,2,2,2,1,2,1,1,2,1,1,1,1,1,0,1,2,1,1,0,1,1,1,1,1,0,1,1,1,1,1,0,2,0,0,1,0,1,0,0,2,0,0,1,1,1,1,1,1,1,2,0,0,1,3,0,0,1,3,1,1,1,1,0,0,1,3,1,1,2,2,0,1,0,3,0,1,1,0,0,1,1,2,1,1,1,1,1,1,0,1,1,2,2,1,1,1,1,1,1,1,0,0,0,0,1,2,2,1,0,2,0,3,2,1,1,1,0,0,4,1,0,0,1,1,0,0,2,1,2,0,2,1,3,1,2,0,1,2,0,2,0,0,2,1,0,2,1,2,1,0,1,3,0,0,1,0,1,1,1,1,0,1,1,1,1,2,1,1,2,0,0,0,1,1,3,0,0,0,1,0,1,0,2,1,0,1,0,1,0,0,1,0,0,1,1,0,2,0,1,1,0,1,0,1,0,1,0,0,1,1,1,1,0,1,0,1,1,2,1,0,3,1,1,1,1,0,0,1,0,2,0,1,0,0,0,1,0,1,0,1,1,2,0,0,1,4,2,2,1,1,1,3,3,2,1,3,0,0,1,1,1,1,1,1,0,1,0,1,1,1,2,2,2,1,0,0,2,1,1,1,0,0,1,1,3,2,2,0,0,1,1,1,1,1,0,0,0,0,3,0,2,1,1,1,2,2,3,1,1,0,2,1,1,1,1,1,0,1,1,0,0,0,1,0,1,1,1,0,1,0,2,1,1,1,0,1,1,0,1,1,0,1,0,0,1,0,0,3,3,1,2,1,1,1,1,1,0,1,1,1,1,1,1,2,4,0,1,1,1,0,1,1,3,2,0,1,1,0,2,3,2,0,2,1,1,1,0,1,1,0,0,1,3,1,1,0,1,1,1,1,2,2,1,1,0,1,1,2,1,1,1,1,2,1,1,1,0,2,3,0,1,1,3,0,0,0,1,1,0,1,1,0,1,1,0,1,1,0,0,1,0,0,1,1,0,0,2,2,1,3,1,1,3,1,1,1,1,3,1,1,2,1,2,1,1,0,1,0,1,1,3,1,0,0,1,2,1,0,1,1,1,1,1,3,1,1,1,1,2,1,0,1,1,0,2,1,1,0,0,1,1,4,0,1,2,0,1,3,1,2,2,3,0,2,2,1,1,0,2,2,1,1,1,1,1,1,0,0,0,1,0,1,1,1,1,1,1,0,1,2,1,2,0,2,1,0,1,1,0,0,1,1,1,2,2,2,2,1,0,1,2,1,1,0,0,1,0,1,1,2,1,1,1,1,2,1,1,1,1,2,1,2,3,2,2,1,1,1,1,0,0,1,0,1,1,0,2,1,1,1,1,1,1,1,3,1,1,0,0,0,2,3,1,1,2,0,0,1,2,2,1,1,1,1,0,0,0,0,0,1,1,1,2,0,1,0,0,1,1,0,1,0,0,0,0,1,1,2,2,2,0,1,2,1,0,1,0,3,0,1,1,2,0,0,1,1,1,1,6,1,1,2,1,1,0,4,3,0,0,0,0,1,2,3,1,1,2,1,1,1,2,1,1,1,2,1,2,3,1,1,1,1,2,1,1,2,0,1,1,0,1,1,1,1,1,1,1,2,1,2,1,1,3,1,1,1,3,1,2,1,1,1,1,1,0,0,0,1,1,1,1,0,3,0,1,1,2,0,0,2,2,2,2,0,1,2,2,2,1,1,1,1,0,1,3,1,1,2,2,2,1,1,1,1,1,0,2,1,2,1,1,1,0,0,1,0,2,1,4,1,2,0,0,1,3,1,2,0,2,1,1,1,0,0,0,0,3,1,2,1,0,1,0,0,1,1,1,1,1,0,0,0,0,1,0,1,1,2,2,0,1,0,2,3,2,0,1,2,0,2,2,2,1,1,0,0,0,0,1,0,1,2,1,1,1,1,1,1,0,0,0,0,1,0,2,3,3,1,0,0,0,0,1,3,2,1,1,2,2,1,2,2,1,2,1,1,2,3,1,1,1,1,2,1,1,1,1,0,2,1,1,0,2,1,1,1,1,1,1,0,1,1,2,1,1,1,1,1,2,1,1,1,2,1,2,1,0,1,1,0,1,1,0,0,1,1,2,3,1,1,1,1,1,0,2,0,2,1,3,3,2,1,1,2,1,0,0,1,2,0,1,0,2,2,0,1,1,2,2,0,0,1,1,2,1,1,0,0,1,1,1,0,1,0,0,1,1,0,1,2,3,1,1,1,1,2,1,1,2,1,0,1,1,1,1,1,2,2,1,1,2,0,0,2,0,1,3,0,0,1,0,1,1,1,2,1,2,0,1,2,2,2,1,2,2,2,2,1,1,1,2,1,1,4,0,2,1,1,3,2,1,0,0,1,0,0,0,1,2,2,1,1,2,4,1,1,1,1,1,1,1,1,2,2,1,1,2,2,1,1,1,0,0,1,2,0,0,1,1,1,0,2,1,3,1,1,1,1,2,1,0,1,1,1,2,1,0,1,0,1,2,0,2,1,2,1,1,1,0,0,1,1,1,1,2,0,2,2,2,2,1,0,0,1,1,1,0,1,0,0,1,1,2,3,0,0,0,2,2,1,0,2,0,0,2,3,0,1,1,1,1,1,0,1,0,1,1,1,2,1,1,0,1,0,0,0,3,1,1,2,0,1,2,2,3,1,1,0,0,0,0,0,1,1,1,1,1,0,1,1,1,1,1,1,1,1,1,3,1,2,2,1,1,0,1,0,1,3,3,1,2,1,0,2,2,2,1,2,2,0,2,0,4,1,0,1,1,0,0,1,1,1,1,1,1,2,1,1,1,1,1,0,4,2,1,3,2,0,0,1,1,1,1,1,1,2,1,1,2,2,1,0,2,2,2,2,2,3,1,0,1,1,1,3,1,1,0,1,2,1,1,1,1,1,1,1,1,2,0,0,3,1,0,0,1,1,0,2,1,2,3,3,1,2,1,1,1,3,2,1,2,1,1,1,0,1,1,1,1,1,1,1,1,1,1,4,1,3,1,1,1,0,2,1,1,0,3,1,1,1,1,1,1,0,2,1,1,1,0,1,1,3,1,2,2,1,2,1,1,1,1,1,2,2,1,0,2,1,1,1,1,0,1,1,1,2,0,1,0,0,2,1,1,3,0,3,1,1,0,1,1,2,1,2,1,1,0,1,3,1,3,1,3,1,1,2,0,1,2,1,3,1,1,4,1,1,1,1,0,1,1,1,1,1,1,1,1,1,1,1,1,1,2,1,1,2,1,3,2,0,2,0,1,1,1,2,1,0,1,1,1,3,2,1,1,1,1,1,1,1,1,1,1,1,1,1,1,1,0,0,0,1,1,1,0,1,1,1,0,1,1,1,1,1,1,1,4,1,2,2,2,2,1,1,1,1,1,1,1,2,1,0,0,2,1,1,1,2,1,1,1,2,1,0,0,1,3,3,1,2,0,2,1,1,0,0,1,1,2,3,1,1,2,2,3,2,2,1,3,2,1,1,1,1,1,1,0,1,1,1,0,1,2,1,1,1,1,4,4,1,1,2,1,1,1,2,2,1,2,1,1,1,1,1,1,3,2,1,0,1,1,1,0,1,2,1,1,1,1,1,1,1,1,1,2,1,1,1,1,1,1,0,0,0,4,2,1,2,0,1,1,0,1,1,0,2,1,1,1,2,1,1,3,3,1,1,1,1,1,1,1,1,1,1,1,1,1,1,1,1,1,1,1,2,3,2,1,1,0,1,4,1,0,1,2,1,1,0,1,1,1,1,2,1,1,1,1,1,1,1,1,2,2,2,0,1,1,0,1,2,1,0,0,1,1,3,3,1,3,2,0,0,1,2,2,2,2,0,1,1,1,1,2,1,3,1,2,2,0,1,1,1,2,1,1,1,1,1,1,1,1,1,0,1,1,1,0,1,2,2,1,1,0,1,1,2,2,1,2,2,1,1,1,1,0,1,1,0,1,1,1,1,2,1,1,0,0,3,0,3,3,1,2,0,1,1,1,1,1,2,3,1,1,0,1,1,4,1,2,0,0,0,2,0,1,1,1,2,2,1,1,1,0,1,1,4,0,2,1,0,1,1,1,1,1,1,0,2,1,1,4,0,1,0,1,1,1,1,1,1,0,2,1,0,2,0,0,0,1,0,1,1,0,1,1,1,0,1,2,1,1,1,2,2,2,2,1,2,2,1,1,1,0,1,2,1,2,2,0,2,1,2,1,1,0,1,1,1,0,3,2,0,1,0,3,0,2,1,1,0,3,0,1,1,3,1,1,1,1,2,1,1,2,1,2,0,0,1,0,3,1,1,1,0,1,3,1,1,2,2,1,1,0,2,0,1,1,0,1,1,0,1,1,2,1,1,1,1,3,3,2,1,2,0,0,1,1,1,3,2,1,0,1,2,1,1,1,1,2,2,1,1,1,1,1,1,3,1,2,1,1,2,2,1,2,1,1,2,4,2,2,1,1,0,2,1,1,1,2,2,0,0,0,0,3,0,1,1,2,1,0,3,1,0,0,2,1,1,0,2,1,1,2,0,1,1,1,1,1,1,1,2,1,1,1,1,1,2,1,1,0,3,1,1,1,1,1,1,1,0,0,2,1,3,2,3,2,1,1,1,1,1,1,0,3,3,1,2,1,3,1,1,3,0,1,1,2,1,0,2,1,2,1,0,1,2,0,1,1,0,3,3,2,1,1,2,0,1,1,2,1,2,1,2,2,1,1,1,2,2,1,1,1,1,1,1,1,0,1,2,2,1,1,1,1,0,0,1,2,2,1,1,1,2,1,1,1,1,3,1,1,2,2,2,3,0,1,2,4,3,2,1,0,1,1,1,2,1,1,2,2,2,1,0,1,2,1,1,0,2,0,0,3,2,1,2,1,1,1,2,2,2,1,1,1,0,1,2,2,1,1,0,2,1,1,1,2,1,1,1,1,2,1,1,1,1,1,2,1,1,1,2,1,2,1,1,1,1,1,2,1,2,1,1,1,1,1,0,1,1,1,2,1,1,2,1,1,1,1,1,1,2,1,0,1,1,1,1,1,1,0,1,1,2,1,1,1,1,3,1,1,1,1,3,0,1,1,1,1,1,1,1,0,1,1,0,2,1,1,1,0,1,0,0,2,4,0,1,1,1,1,1,1,3,1,1,2,1,0,3,1,4,3,3,2,1,1,3,1,1,0,0,3,1,2,1,1,0,3,1,2,2,2,1,0,1,2,2,1,2,2,3,1,3,0,3,1,0,1,2,0,2,2,2,0,1,1,1,1,1,1,1,2,0,3,1,0,1,1,1,1,2,1,1,0,1,0,0,0,1,2,1,1,1,3,1,1,1,1,0,1,1,1,1,1,2,2,2,2,2,2,2,3,1,1,0,2,1,2,1,2,1,3,1,2,1,1,4,0,2,4,4,1,0,1,1,1,1,2,2,2,2,2,1,1,3,1,2,2,2,2,3,1,1,0,3,1,0,0,1,1,1,3,2,1,0,1,1,1,1,3,3,1,2,2,1,1,2,2,1,1,2,2,1,2,2,2,0,1,2,2,1,1,3,0,1,1,0,1,0,1,3,4,1,1,1,3,1,0,0,2,0,0,2,1,1,1,1,0,0,0,0,1,0,1,1,1,3,2,3,2,1,1,1,1,1,1,1,1,0,0,0,2,0,1,1,1,2,2,1,1,1,1,1,1,2,0,1,2,1,1,0,0,1,1,1,0,1,1,1,2,2,0,0,1,2,0,1,3,1,1,1,2,1,0,1,1,2,1,1,1,1,1,1,1,3,1,1,1,2,1,1,1,1,1,2,3,0,0,1,2,1,1,1,0,1,0,1,1,2,2,1,1,1,1,2,1,1,1,1,2,1,2,1,1,3,2,0,1,1,1,1,2,1,1,3,1,3,1,0,0,2,3,3,2,1,1,1,1,2,2,0,1,1,1,3,1,1,3,3,1,3,0,2,1,3,0,0,0,0,1,2,2,0,0,1,1,1,0,3,1,1,1,1,1,2,4,3,2,2,2,1,1,1,1,0,1,1,1,0,1,1,2,1,1,1,2,0,1,1,2,1,2,1,2,2,1,0,1,2,1,0,1,2,1,1,1,1,1,1,2,2,1,1,3,2,2,2,2,1,1,1,1,2,2,1,1,2,1,1,1,1,0,0,1,0,2,1,1,0,0,2,0,1,1,1,1,1,0,1,1,3,1,1,0,1,0,0,1,1,3,2,3,2,2,2,2,2,1,1,1,1,3,3,1,1,1,1,1,1,1,2,1,1,1,1,2,2,2,2,1,1,1,4,2,0,4,2,1,1,1,1,1,0,0,0,4,1,0,1,1,1,1,1,2,1,1,0,0,0,0,0,0,0,2,0,0,0,1,1,1,1,0,1,2,2,1,0,0,1,2,0,2,1,1,2,1,2,1,0,1,1,1,2,2,1,1,2,0,2,2,2,1,2,1,1,1,1,1,1,1,1,1,2,2,1,2,1,1,1,3,1,1,1,2,2,2,1,2,1,3,1,1,1,1,0,1,1,2,2,1,1,1,1,1,1,0,1,1,2,2,0,2,1,1,1,1,3,1,3,1,1,1,1,1,1,2,1,1,1,1,1,1,1,2,2,2,1,1,1,1,0,1,1,0,1,1,2,2,1,1,1,1,3,0,0,2,2,3,2,1,1,1,1,1,1,1,1,1,1,0,2,1,1,2,1,1,2,1,1,2,1,1,1,1,3,1,1,1,1,1,0,2,3,3,1,0,0,0,1,2,2,3,1,1,3,0,0,2,2,3,2,1,1,1,1,1,0,1,0,0,0,0,1,2,2,1,1,2,1,1,1,1,3,2,2,1,2,2,1,1,1,3,2,1,2,1,1,2,1,1,2,1,1,1,1,2,0,3,2,3,1,2,0,3,0,1,2,1,1,1,1,1,1,1,1,0,3,1,2,3,2,1,1,2,2,1,2,2,1,1,1,1,1,1,1,0,0,1,1,2,2,1,0,1,0,1,1,2,1,2,0,2,0,1,2,3,3,2,1,1,1,2,2,1,1,1,1,0,3,2,1,2,2,1,1,1,1,1,1,2,1,3,0,1,2,2,2,1,1,1,1,1,1,1,1,0,2,1,1,1,1,1,1,1,0,1,1,2,1,2,2,2,1,1,1,2,2,2,1,1,2,4,3,3,1,1,1,1,0,2,3,0,2,1,2,1,1,1,1,2,1,0,0,1,1,1,3,3,1,1,3,1,0,0,0,2,2,3,1,0,1,2,2,1,1,2,3,2,4,0,1,1,1,1,1,1,1,1,1,0,0,1,0,3,0,0,2,1,1,2,0,1,0,1,1,1,3,2,3,2,1,3,1,1,1,1,1,1,1,2,2,2,1,4,2,1,3,0,0,0,2,3,1,1,1,0,1,1,0,3,2,2,1,0,1,1,0,0,0,2,2,2,1,1,1,1,1,1,1,1,2,0,1,2,2,2,2,1,1,1,1,1,1,2,2,2,3,0,1,2,2,1,1,1,1,1,1,1,1,1,2,1,2,2,2,2,1,1,1,2,1,1,1,3,3,3,2,2,2,3,1,1,2,1,2,3,2,1,1,2,3,2,0,1,0,2,1,2,1,2,1,2,0,2,2,1,4,2,1,1,1,1,2,3,1,1,2,3,3,1,0,3,2,1,0,1,1,1,2,1,1,0,1,1,1,1,3,2,2,0,1,0,2,2,1,1,1,1,1,1,1,1,2,2,2,1,2,1,4,1,1,2,1,1,1,3,1,1,1,0,2,0,3,3,1,1,0,0,1,1,1,1,1,1,1,2,1,1,1,1,1,0,0,0,1,0,1,1,1,1,1,0,1,1,3,1,1,1,2,2,1,1,1,3,1,3,0,1,2,2,1,1,2,1,3,4,1,1,0,1,1,1,1,1,1,1,2,1,2,2,2,2,1,1,2,2,1,1,2,2,2,2,2,1,2,3,2,0,1,2,1,0,1,1,1,2,3,1,2,2,1,0,1,3,1,1,1,1,1,2,1,2,1,3,2,1,2,0,0,2,1,1,1,2,2,1,2,3,2,1,2,1,1,1,1,2,1,1,1,1,1,1,1,1,0,0,0,1,1,2,3,1,2,1,3,1,3,1,2,0,1,0,2,1,1,1,1,1,1,1,1,1,1,2,2,2,0,1,0,2,1,1,1,1,3,0,2,1,1,1,1,0,1,2,0,1,1,2,1,3,2,2,2,1,3,1,1,1,1,3,1,2,2,1,1,1,1,1,2,1,3,2,1,1,1,1,1,1,1,1,1,1,1,2,2,1,2,1,2,1,1,1,1,1,1,2,1,2,1,1,1,2,0,1,2,3,1,1,0,0,2,1,1,1,1,4,2,1,0,2,1,2,1,1,1,2,0,0,0,1,1,1,1,2,3,1,1,1,2,1,1,1,1,1,2,1,1,1,0,0,1,1,1,1,2,2,1,2,1,0,0,2,2,0,0,1,3,2,1,1,2,1,2,1,0,1,1,2,3,1,2,1,3,1,1,2,2,2,1,0,2,2,2,1,1,2,2,2,1,2,2,1,1,1,0,2,1,1,1,1,2,0,1,1,0,3,1,1,0,0,4,1,1,2,1,2,0,2,0,2,2,1,0,2,3,0,1,2,1,3,0,1,1,1,1,1,3,3,2,1,2,3,1,1,2,0,1,3,2,2,1,0,2,1,1,1,1,2,0,1,2,3,1,2,4,1,0,0,0,0,3,4,2,1,1,1,2,1,1,1,1,1,2,1,2,2,1,2,2,1,1,0,1,1,1,2,3,1,1,2,1,1,1,1,1,1,2,3,2,3,3,2,3,2,1,1,1,0,2,1,1,1,2,1,2,2,3,1,2,2,1,4,1,1,1,1,2,1,1,0,1,3,1,1,2,2,1,1,1,1,1,0,1,1,2,2,2,2,2,2,1,1,1,1,1,1,1,0,2,1,1,2,0,1,2,4,2,0,1,1,1,3,1,1,1,1,1,1,1,1,1,2,2,0,0,1,3,2,2,1,2,1,4,1,2,1,1,1,2,1,2,1,3,0,3,0,0,0,0,0,2,1,4,1,3,2,0,2,1,2,0,2,1,2,4,1,4,1,1,1,2,1,0,0,1,2,1,0,1,1,1,1,2,4,0,3,2,1,1,2,3,0,0,1,1,2,1,0,2,1,1,1,2,1,0,0,0,2,1,0,1,1,1,1,2,1,0,0,1,1,1,1,2,0,2,1,2,0,3,2,2,1,1,1,1,2,1,1,1,1,1,1,2,0,1,1,0,4,2,1,2,2,2,2,1,1,1,0,0,1,0,1,4,2,0,1,1,2,1,1,1,1,1,1,1,1,0,1,2,2,1,1,3,1,2,2,0,1,1,2,1,0,3,3,1,1,0,1,2,0,1,1,3,3,2,2,1,1,0,0,0,0,1,2,1,1,1,2,3,2,2,0,0,1,0,0,0,0,1,0,1,1,1,1,1,1,0,1,3,1,0,2,0,2,2,0,2,1,2,2,0,1,1,1,2,1,2,2,2,2,1,1,1,2,1,2,0,0,0,1,1,1,0,1,0,1,1,2,1,2,1,2,1,1,1,3,2,1,1,0,3,1,1,0,2,1,3,1,2,2,1,1,1,1,0,1,1,2,1,1,1,2,1,1,1,1,2,1,1,1,0,3,1,1,1,1,1,0,2,1,1,0,1,1,1,1,0,0,1,3,1,2,1,0,2,0,1,2,0,1,0,1,1,1,1,0,1,2,3,1,1,1,0,2,2,1,2,1,1,2,1,1,2,1,1,2,1,1,1,2,2,1,1,0,0,2,3,1,2,3,2,2,2,0,0,2,2,1,1,1,1,1,3,2,1,2,2,2,1,1,1,2,1,1,1,2,0,1,2,3,1,2,1,1,2,3,1,2,2,1,1,1,1,1,1,1,3,3,0,0,0,1,2,1,1,1,2,0,1,0,1,2,3,1,0,1,1,4,0,1,1,1,0,1,3,2,2,2,1,1,1,1,1,1,1,0,0,1,2,3,0,1,1,1,1,2,1,1,1,1,3,2,0,1,0,1,1,2,3,3,1,1,2,3,1,1,1,0,2,2,1,0,1,1,3,0,2,2,0,1,1,1,1,0,2,3,3,2,3,0,2,1,2,2,1,1,1,2,2,0,0,1,0,2,2,1,0,3,1,1,2,1,1,2,1,1,4,4,4,2,1,1,2,0,1,1,2,1,1,1,1,1,3,1,1,2,2,3,1,1,1,0,0,0,1,1,1,1,1,1,0,1,3,3,3,4,0,2,1,1,2,2,2,1,1,1,2,0,1,2,2,1,1,2,0,3,1,0,2,3,0,0,1,1,0,1,2,0,1,4,1,1,1,1,1,1,1,2,1,1,1,1,1,1,0,0,1,1,1,2,2,1,0,1,0,1,1,2,0,2,1,2,1,1,1,0,1,1,1,1,1,1,2,2,1,1,1,1,0,3,1,3,3,0,1,1,2,1,3,1,1,1,2,1,1,1,0,3,4,2,4,4,3,4,2,2,2,2,2,1,1,1,1,0,0,0,0,1,3,2,0,2,0,0,1,2,3,2,0,1,4,1,2,0,1,1,0,1,1,3,1,3,0,0,1,1,1,3,1,1,2,2,0,1,3,1,1,1,3,2,2,1,1,1,1,1,1,3,1,1,2,1,0,0,2,1,2,1,1,0,1,0,0,0,0,0,0,1,0,1,1,1,2,2,2,1,0,0,1,3,1,1,1,1,4,0,1,3,1,2,1,1,2,0,1,0,1,1,0,1,2,1,1,1,2,0,2,0,0,1,1,0,4,3,3,1,0,0,1,1,1,2,2,0,1,1,2,1,1,0,1,1,2,1,1,0,1,1,1,1,2,1,1,2,1,2,0,1,1,2,1,1,3,1,1,2,2,2,2,2,1,1,1,1,1,1,1,3,2,3,1,0,1,1,1,1,2,2,1,1,1,1,1,1,1,2,3,3,1,2,0,1,1,1,1,1,1,1,1,0,1,1,1,1,1,0,1,1,1,2,2,1,1,0,4,1,2,1,1,1,0,2,2,1,1,1,1,1,1,1,1,1,1,0,1,2,1,3,2,2,1,0,3,1,1,1,1,3,0,1,1,1,1,0,0,0,2,1,2,0,2,2,3,1,1,1,3,2,2,1,2,1,1,1,1,1,2,1,1,1,1,0,2,1,2,1,0,1,2,1,0,2,1,1,1,1,1,1,1,1,0,0,1,1,0,2,1,1,1,2,3,2,2,1,1,0,2,1,3,2,2,2,0,3,1,1,1,1,2,2,2,1,0,1,3,0,0,1,2,2,1,1,1,0,1,2,2,2,1,1,3,1,0,1,1,3,3,3,1,2,1,2,0,3,2,1,1,1,0,2,1,1,1,1,1,1,1,1,2,2,0,3,2,1,1,0,1,1,1,0,1,1,1,0,0,2,1,3,1,2,1,3,2,1,3,1,1,1,2,1,1,4,2,1,1,2,0,1,2,1,1,2,2,0,1,1,1,3,1,1,1,1,0,1,0,0,0,1,1,1,0,0,1,1,0,1,1,1,2,0,1,2,1,1,0,0,1,0,1,2,2,3,1,0,0,0,0,1,1,1,1,0,1,2,1,1,1,3,2,0,1,2,3,1,1,1,1,1,3,1,3,2,1,1,1,1,1,2,3,0,1,0,0,2,2,1,2,1,2,2,1,1,1,0,1,1,1,2,1,2,2,0,0,1,2,1,1,1,0,1,1,1,0,3,1,2,1,2,1,3,1,1,1,2,1,0,1,2,1,1,1,1,2,2,2,2,0,0,0,0,0,1,0,1,1,1,1,0,1,1,0,3,2,0,0,1,2,2,1,1,4,2,2,2,1,0,2,1,2,1,2,2,1,1,1,2,0,0,0,2,2,2,3,0,0,2,1,1,4,1,1,1,1,1,1,1,1,2,1,0,0,1,1,0,1,1,1,1,1,3,2,0,2,1,1,1,0,1,1,1,1,1,1,3,2,2,1,1,0,3,1,1,1,3,1,2,1,1,0,2,0,3,0,2,1,0,0,1,1,2,2,1,2,1,4,1,0,0,1,0,1,2,2,0,0,0,0,0,1,1,1,1,1,1,1,0,0,0,0,1,0,2,0,0,0,0,2,0,0,0,0,0,0,0,0,0,1,2,1,0,2,2,1,0,0,1,1,0,1,1,2,2,1,0,0,0,2,0,0,2,0,1,0,3,2,2,2,2,1,2,3,3,1,2,2,1,0,1,0,0,0,0,0,0,0,0,0,1,0,0,0,1,1,1,2,1,1,1,1,0,0,1,0,0,0,0,1,1,2,0,0,1,0,0,0,0,0,0,0,0,2,0,0,0,1,0,0,1,1,1,0,0,0,2,1,2,2,1,0,0,0,1,1,1,1,0,0,1,1,1,0,0,0,1,1,0,0,0,0,0,2,1,0,0,1,1,1,1,1,1,1,0,0,0,1,2,2,1,1,1,1,1,0,4,1,1,1,0,0,0,1,1,1,1,2,0,0,1,1,2,1,0,1,0,1,0,1,2,1,1,1,0,0,0,0,0,3,1,0,0,0,0,0,0,0,1,1,2,1,3,2,0,0,0,1,1,1,1,3,1,2,0,1,0,0,0,2,1,1,1,1,2,1,1,0,0,0,1,0,1,1,1,1,2,0,2,1,1,1,1,0,0,0,0,2,3,1,1,1,1,1,1,1,0,2,0,0,1,0,1,1,1,1,2,1,1,1,1,2,2,0,0,1,0,1,0,0,1,0,2,2,1,1,0,0,1,2,0,0,0,2,2,0,1,0,1,2,2,2,1,1,0,0,0,2,0,2,0,0,0,2,3,1,1,1,1,0,1,1,1,1,0,1,1,1,1,1,2,2,1,0,1,2,2,1,3,3,1,1,1,1,1,1,2,2,0,0,0,2,1,1,0,2,0,1,2,2,3,1,1,0,1,3,0,1,3,1,1,0,0,0,1,1,0,0,0,1,2,1,1,0,2,1,2,2,2,2,0,2,2,2,1,1,1,0,0,1,1,0,0,3,1,1,1,1,1,3,1,1,1,0,1,0,1,0,0,2,0,2,1,0,0,1,1,1,2,1,1,2,1,1,1,0,2,3,0,2,2,0,0,1,0,0,1,1,1,1,1,0,1,2,0,0,1,1,1,2,2,1,1,0,1,2,1,2,0,1,0,2,0,0,2,3,1,0,1,4,0,2,2,0,0,0,0,0,0,0,0,1,1,2,1,2,3,1,2,0,1,1,1,2,2,0,2,0,1,1,0,2,1,2,1,0,2,0,1,1,1,0,1,1,1,0,1,0,1,1,1,1,2,1,2,2,1,2,1,0,0,2,1,1,1,1,1,1,2,1,1,1,0,2,1,3,3,1,1,1,1,3,1,1,1,0,1,1,1,1,0,3,0,1,1,2,2,1,1,1,1,1,1,2,1,0,0,2,2,1,0,0,2,0,1,1,1,1,2,2,0,1,0,1,1,1,1,2,2,2,0,1,3,1,1,1,1,1,1,3,0,3,1,2,0,1,1,1,1,1,2,3,1,0,0,2,2,1,1,1,1,1,1,1,1,1,1,1,1,1,1,1,1,1,3,0,1,0,1,2,0,3,3,1,0,1,2,0,1,3,1,2,0,0,1,1,1,1,0,0,2,1,1,2,1,1,1,1,1,1,1,1,0,1,0,1,2,2,1,1,1,1,0,2,1,1,1,1,1,1,2,0,3,1,1,1,2,0,1,1,0,1,1,1,1,1,0,0,0,0,0,2,1,1,1,1,2,2,1,4,2,1,1,0,1,0,1,1,1,1,1,1,1,1,1,1,1,1,1,1,1,1,1,1,1,1,1,1,0,1,1,2,2,3,1,3,0,3,1,2,3,0,0,1,1,1,1,1,1,1,2,2,4,2,1,2,1,0,1,0,0,1,1,0,0,1,0,0,3,2,1,2,1,1,1,1,1,2,2,1,2,1,1,1,1,1,1,4,1,1,3,1,1,1,1,1,2,1,2,0,1,1,1,1,2,0,1,2,0,1,2,2,2,3,3,2,4,3,3,3,3,3,3,2,1,2,1,1,1,1,1,1,2,1,1,1,0,2,1,0,1,1,3,0,1,2,1,0,1,1,1,1,1,1,2,0,0,1,1,1,1,1,2,1,1,2,2,3,0,0,1,2,1,0,3,0,1,1,1,1,4,1,2,0,0,1,1,2,1,1,2,1,1,1,1,2,2,1,1,1,1,1,1,1,0,0,0,0,0,1,1,1,4,2,2,1,1,1,1,1,1,3,3,3,1,2,1,1,2,2,0,1,1,1,1,0,3,1,2,2,3,0,1,2,2,1,1,1,2,1,0,1,1,2,2,1,1,1,1,1,1,1,1,1,1,1,1,1,1,1,1,1,1,1,1,3,2,0,2,2,1,1,1,3,1,2,1,0,2,0,0,2,0,0,2,1,1,2,4,3,3,2,1,2,2,1,1,1,1,1,1,1,1,1,1,1,1,0,2,0,3,1,1,1,1,0,1,2,1,1,1,2,3,3,1,3,0,0,1,3,1,3,3,0,2,1,0,4,2,2,2,2,2,2,1,1,1,1,2,1,0,0,1,1,1,1,1,1,1,1,2,2,3,2,1,1,1,0,1,1,1,1,2,1,2,1,1,1,2,1,2,1,2,2,0,1,2,2,2,0,2,1,1,1,2,2,2,2,2,0,0,3,1,0,0,1,1,1,1,0,1,1,2,2,2,0,0,1,1,2,1,1,0,3,3,1,3,3,3,4,3,2,2,3,4,0,0,1,1,1,2,3,0,0,0,0,2,1,1,2,1,1,2,2,1,1,1,1,2,0,1,1,2,2,0,1,2,3,2,3,1,1,0,1,1,1,0,4,3,3,3,1,1,1,0,2,4,0,0,1,3,1,1,2,3,0,1,1,0,2,1,2,2,1,1,1,0,1,1,1,2,1,3,1,2,2,2,1,1,3,1,1,1,3,0,0,0,1,0,2,3,1,1,1,3,2,4,1,2,1,2,1,2,3,0,0,1,1,1,1,1,1,1,1,1,1,1,1,3,2,0,1,1,2,3,4,0,1,2,1,1,1,1,1,1,2,1,0,0,0,0,0,0,0,2,2,0,2,3,1,1,0,0,0,1,1,1,1,1,1,2,1,1,2,1,1,1,1,1,4,3,1,2,0,0,1,2,1,3,2,1,1,1,1,2,1,1,4,2,1,2,0,1,1,1,1,2,0,1,1,1,1,0,1,1,0,1,1,0,0,0,0,0,3,4,1,1,2,1,1,1,1,4,3,0,1,1,1,1,3,3,0,2,1,0,2,0,2,1,1,1,1,1,0,2,0,1,1,1,2,1,3,3,2,1,0,1,1,1,1,0,1,1,1,1,1,0,1,1,1,3,3,3,1,2,1,1,1,3,3,2,2,1,1,3,3,2,1,1,1,1,3,1,2,3,3,3,4,2,3,1,0,1,0,1,1,1,3,1,2,0,0,1,1,2,1,2,1,0,1,0,1,2,1,1,1,2,0,3,0,1,0,0,1,1,1,1,1,0,1,1,0,1,1,2,2,1,1,1,1,1,1,1,2,1,1,1,1,1,1,3,1,1,2,1,1,4,0,1,1,1,2,1,1,3,0,2,2,0,1,2,1,1,0,2,2,0,1,3,1,1,2,2,1,2,1,3,0,1,2,1,1,1,2,1,1,1,1,1,2,3,3,1,1,1,1,2,4,0,1,1,0,2,2,1,1,1,1,0,0,0,0,1,1,2,0,1,1,1,1,1,1,1,1,1,1,2,1,2,1,1,1,1,1,3,3,2,1,1,1,3,2,3,0,2,0,1,3,1,1,0,0,0,0,1,0,0,1,3,2,1,1,0,0,1,1,3,2,1,1,0,1,2,2,2,0,1,1,2,1,0,2,2,1,0,4,1,3,1,1,0,1,1,1,1,1,1,1,1,1,1,0,3,1,1,1,1,1,2,1,1,1,2,1,0,0,1,1,1,2,1,0,1,0,2,1,0,0,2,0,2,1,1,0,0,0,0,0,1,1,2,2,1,0,1,2,1,0,1,3,0,1,1,3,2,3,1,3,0,1,1,1,1,1,1,3,2,0,1,1,1,1,3,1,0,1,2,1,2,2,0,1,1,1,1,1,2,2,1,2,1,1,2,1,1,1,1,1,1,1,1,2,1,2,1,0,1,3,2,0,2,1,0,0,2,0,1,3,1,1,1,1,1,1,1,1,0,2,1,0,0,2,1,2,1,0,0,3,1,2,1,2,1,2,0,1,1,0,1,1,1,2,1,2,1,2,0,2,1,0,1,1,1,1,0,1,0,2,2,2,1,1,2,1,2,0,0,2,0,1,0,1,0,2,2,1,0,1,0,1,1,1,2,1,1,1,1,2,1,1,0,0,0,3,2,1,1,1,0,1,1,1,1,0,1,1,1,1,1,1,1,1,2,0,1,1,1,0,1,2,1,1,4,1,1,1,2,1,2,1,3,2,2,0,3,3,1,2,1,1,2,3,1,1,1,0,2,2,2,2,1,1,1,1,0,1,1,1,2,0,2,4,2,1,1,1,1,1,1,1,2,1,2,1,2,2,4,1,1,3,1,1,2,2,2,1,1,2,1,2,2,0,1,1,2,1,0,1,1,0,0,1,3,2,1,0,1,1,1,1,1,1,1,2,0,1,3,1,0,2,2,1,1,0,2,1,1,1,1,2,0,3,1,2,2,2,2,2,1,1,3,4,3,1,1,4,1,3,0,0,2,0,1,1,1,1,1,1,1,1,3,0,0,2,1,1,0,0,0,1,2,1,1,1,1,2,2,1,1,1,1,1,1,0,0,1,2,2,2,2,1,1,2,0,1,2,2,2,1,0,0,1,2,2,2,2,0,0,1,1,1,1,1,1,1,2,1,0,1,1,1,1,1,0,1,2,1,2,1,0,1,1,1,1,1,0,2,1,1,2,1,0,0,2,1,3,0,2,1,2,1,1,0,0,0,2,1,3,2,2,1,2,0,1,1,1,1,2,1,2,1,1,1,1,0,1,1,1,2,4,1,0,1,2,1,1,4,1,0,4,1,1,1,1,1,0,0,0,0,1,1,1,0,2,2,1,1,2,1,1,2,2,1,2,1,1,0,1,2,2,1,0,0,0,0,4,2,1,0,0,2,2,0,1,2,2,1,2,0,1,0,1,1,2,1,2,2,0,1,1,2,1,0,0,0,1,0,2,2,1,0,1,3,2,1,2,1,3,3,1,1,0,1,1,2,1,2,2,2,1,2,1,1,1,1,0,1,3,1,3,2,0,0,1,4,4,1,1,3,3,1,1,0,0,0,1,2,1,2,1,1,1,1,3,2,2,1,0,1,1,3,2,2,1,1,1,2,1,4,1,1,4,1,0,2,1,1,1,1,1,0,0,1,1,0,1,1,1,1,1,2,1,1,1,1,0,3,1,1,3,1,0,0,0,2,1,2,4,3,1,0,2,0,2,1,2,3,3,1,1,1,1,2,1,1,1,2,3,2,0,4,4,1,1,0,1,1,1,0,2,2,1,2,2,1,0,0,2,2,1,0,1,0,1,1,1,0,0,1,0,0,1,2,1,1,2,3,2,2,0,0,1,0,2,1,1,0,3,0,2,1,1,2,1,1,2,1,2,3,1,2,2,1,1,0,1,1,1,2,2,3,1,1,2,2,1,1,0,1,1,0,1,1,1,1,2,1,0,1,1,1,1,1,1,1,1,2,3,2,1,0,1,1,1,1,0,3,2,2,2,1,0,1,1,1,1,1,1,1,2,2,1,1,0,0,1,1,1,0,0,0,3,3,1,1,1,4,1,2,1,1,2,1,1,2,3,2,0,1,0,0,1,0,3,1,1,1,1,0,1,3,1,1,1,1,1,0,0,2,3,3,1,1,1,1,1,2,1,2,1,1,1,3,2,0,1,2,1,3,0,1,1,0,1,0,1,1,1,1,1,2,1,1,2,1,0,0,1,1,1,2,2,1,1,1,2,2,2,1,2,3,1,1,1,1,2,2,2,1,1,1,2,1,2,3,3,0,1,1,2,1,2,0,0,2,1,1,3,1,2,1,3,3,1,1,1,1,0,4,2,2,1,1,1,1,3,3,2,3,1,1,0,0,1,1,1,0,0,1,0,1,1,1,1,1,1,1,2,2,1,2,1,1,1,1,1,1,1,2,1,2,2,2],\"xaxis\":\"x\",\"yaxis\":\"y\",\"type\":\"histogram\"},{\"alignmentgroup\":\"True\",\"bingroup\":\"x\",\"hovertemplate\":\"readmitted=\\u003e30\\u003cbr\\u003eMedicinas_tomadas=%{x}\\u003cbr\\u003ecount=%{y}\\u003cextra\\u003e\\u003c\\u002fextra\\u003e\",\"legendgroup\":\"\",\"marker\":{\"color\":\"#636efa\",\"pattern\":{\"shape\":\"\"}},\"name\":\"\",\"nbinsx\":11,\"offsetgroup\":\"\",\"orientation\":\"v\",\"showlegend\":false,\"x\":[2,1,1,1,1,1,1,1,1,4,1,0,2,1,2,2,0,1,1,0,1,1,1,0,0,0,1,1,2,1,0,1,1,2,0,1,1,1,1,0,1,1,1,1,1,1,0,1,0,1,0,0,2,0,2,2,2,2,0,1,3,2,0,1,1,1,1,1,0,0,1,1,0,1,1,1,1,1,1,1,0,1,2,2,1,0,0,0,1,0,3,1,2,2,1,1,1,1,2,0,0,1,1,1,0,1,0,1,0,2,1,1,3,0,1,1,0,1,0,0,0,1,0,1,1,1,2,1,1,3,2,1,2,3,2,1,0,1,0,2,1,0,0,0,1,1,1,0,1,0,0,0,0,0,3,2,1,1,1,1,0,1,1,1,3,1,0,2,0,2,1,1,0,0,2,1,1,2,1,2,2,0,1,1,2,2,0,1,1,1,1,1,0,0,1,1,1,0,1,0,2,1,1,1,1,1,0,1,1,0,1,1,1,0,0,2,2,1,1,2,1,0,1,1,2,1,1,0,1,2,1,1,0,1,1,0,1,2,1,0,1,0,0,1,1,1,1,0,4,1,1,1,1,1,0,0,0,1,0,1,1,1,1,1,0,0,0,1,1,2,2,0,3,1,2,2,2,0,1,0,1,2,1,0,0,0,0,0,2,1,1,1,2,1,0,0,0,1,1,1,2,2,2,0,0,0,0,0,3,0,1,0,2,2,0,0,0,2,1,2,0,1,1,1,1,1,1,1,2,1,1,0,2,1,0,2,2,1,1,3,2,1,1,1,2,2,1,0,1,2,3,2,5,2,1,1,1,1,1,2,2,0,1,1,0,0,2,0,0,1,1,2,0,0,1,1,1,1,1,1,1,0,0,1,1,1,1,1,1,1,0,0,1,0,0,1,1,1,0,2,1,1,2,0,1,1,1,3,2,0,0,0,0,1,1,1,0,1,1,1,1,1,2,2,1,2,0,0,0,0,0,0,0,1,1,0,3,1,1,1,1,1,1,1,0,0,1,2,1,1,1,1,1,1,0,1,0,0,1,0,1,0,1,1,1,0,0,0,0,1,1,1,1,1,1,1,0,0,0,1,1,3,1,0,1,2,2,1,1,1,1,1,1,1,1,2,2,1,1,3,0,1,2,3,2,2,1,2,1,1,1,1,1,1,1,0,0,0,1,1,0,0,0,1,2,2,2,1,1,2,1,2,0,0,0,0,0,2,1,2,2,0,0,0,1,0,2,1,1,2,4,0,3,1,2,1,1,1,1,3,1,1,2,1,2,2,2,2,2,2,0,1,0,0,0,0,1,2,1,1,1,0,2,1,1,1,3,1,2,1,2,3,3,1,2,3,0,1,1,1,0,0,2,2,1,1,0,1,2,1,1,1,1,1,2,2,2,2,2,1,1,1,1,1,2,2,0,1,1,0,1,2,1,3,3,0,2,2,2,2,0,1,1,1,0,0,0,0,0,2,1,3,1,3,1,1,1,0,0,1,1,1,1,1,1,0,1,1,0,1,1,2,2,1,3,2,1,1,1,0,1,0,1,1,0,0,1,1,0,2,1,1,1,1,0,1,2,3,1,1,1,1,1,1,0,0,0,1,0,1,1,1,1,0,1,1,1,2,2,1,2,1,1,0,1,0,1,1,1,2,1,0,0,1,1,1,2,2,1,0,3,2,0,1,1,2,1,1,1,1,1,2,1,2,1,3,0,0,0,1,1,0,0,0,0,1,1,1,2,1,3,1,0,1,1,1,2,0,1,2,1,1,1,0,1,1,3,1,0,0,0,0,0,2,0,1,3,0,0,1,1,1,0,2,0,1,0,0,1,0,2,0,1,2,1,1,1,1,0,3,1,0,0,1,1,1,1,1,1,2,1,1,1,0,0,1,1,1,0,2,0,1,1,1,0,0,1,1,1,1,1,2,1,1,1,1,0,1,0,0,1,1,1,0,0,0,2,1,2,1,1,0,1,0,0,0,0,1,1,0,1,1,1,1,1,1,0,1,0,0,0,1,1,1,1,1,0,0,1,1,1,0,0,2,1,0,0,0,0,0,1,1,3,0,1,0,1,1,0,0,1,1,1,0,1,1,1,1,2,2,1,1,1,2,0,3,2,1,1,1,0,1,0,0,2,1,1,2,0,3,1,1,0,0,1,2,2,1,2,2,1,4,3,2,0,1,1,1,1,1,1,1,1,1,1,0,0,3,0,1,2,2,1,1,2,1,1,0,0,0,0,0,0,2,2,1,1,2,3,1,1,1,1,1,1,1,1,0,0,2,1,2,1,0,1,1,0,0,0,1,0,3,3,1,1,1,0,1,0,1,1,1,1,1,1,1,2,1,2,1,3,0,1,1,2,0,3,0,0,0,0,1,0,0,0,4,1,1,2,0,0,1,1,0,1,0,1,2,1,1,0,1,0,2,1,1,2,1,1,0,3,0,0,0,0,0,1,3,2,0,1,1,2,0,0,2,1,1,0,3,2,1,0,1,0,0,2,2,0,0,0,2,2,0,1,0,0,2,3,1,3,2,1,0,1,1,1,2,1,2,1,0,2,3,3,3,1,1,1,3,3,1,1,0,1,1,1,1,1,0,0,0,1,0,2,1,1,1,1,2,1,0,1,0,2,0,0,0,2,1,1,0,2,1,3,2,2,1,1,1,1,1,1,0,0,0,0,1,1,1,1,1,1,0,1,1,2,2,1,4,2,1,1,1,1,3,2,1,1,1,1,1,2,2,0,1,2,1,1,2,2,2,2,1,1,2,1,1,1,1,1,1,1,1,0,1,0,1,1,1,1,1,1,1,0,1,1,1,0,2,1,0,1,1,1,1,2,3,1,3,1,1,4,1,1,1,1,1,3,0,0,0,0,1,1,2,1,0,1,0,2,0,0,0,0,0,0,1,0,0,1,1,2,2,2,1,1,3,3,0,1,1,1,0,1,1,1,1,1,1,1,1,0,1,2,1,1,0,2,2,0,0,0,1,2,1,1,1,0,1,2,1,1,0,2,1,1,1,1,1,1,0,0,0,0,1,2,2,0,1,1,1,1,2,0,2,1,3,0,0,0,2,1,0,2,0,0,1,0,3,1,1,2,0,2,1,1,0,2,1,2,1,1,1,0,1,0,1,2,2,1,2,2,1,1,1,1,1,0,1,0,0,0,0,1,1,1,1,0,1,0,0,0,2,2,2,1,3,2,2,1,1,1,1,1,2,3,3,2,1,1,1,1,0,1,1,1,0,2,0,1,3,1,0,2,1,1,1,2,1,0,1,1,1,2,2,3,1,1,1,2,3,1,1,1,1,1,1,1,3,1,0,2,1,3,2,2,1,1,2,0,1,1,2,3,3,1,1,1,1,1,1,1,1,2,1,1,1,0,1,1,1,1,1,2,2,2,1,0,1,0,1,3,1,0,1,1,1,1,1,1,0,1,1,1,2,1,1,1,1,1,1,1,1,0,1,2,1,1,0,0,0,0,3,0,1,0,0,0,2,3,1,2,0,0,0,1,1,1,1,1,1,1,1,1,1,1,1,1,1,1,1,2,1,1,1,2,1,0,1,1,1,1,2,2,0,0,1,0,2,2,0,2,1,1,1,1,1,1,1,0,0,1,1,2,2,2,1,1,3,1,0,2,1,2,2,1,2,0,0,2,1,1,1,0,1,1,0,1,1,2,2,1,0,0,1,0,2,2,0,0,1,1,1,1,1,1,1,1,1,1,1,1,1,1,1,0,1,0,2,0,2,1,1,2,2,1,0,2,1,0,1,0,0,1,0,0,0,1,0,0,1,1,2,1,3,1,1,0,1,2,1,0,2,1,1,2,1,3,2,2,1,1,1,1,2,1,1,1,0,1,1,2,2,0,0,1,2,1,1,1,2,1,1,1,1,1,1,1,1,3,1,1,0,1,1,3,2,1,2,1,2,2,1,4,2,0,2,1,1,1,0,1,1,1,0,2,2,4,3,2,2,1,1,1,1,1,1,2,0,1,1,1,1,2,1,3,1,1,0,1,1,1,2,0,2,2,1,1,2,1,0,0,1,1,2,0,1,4,4,0,0,2,1,1,2,2,0,1,1,1,1,1,1,2,1,2,1,1,1,0,1,3,1,2,1,0,2,2,1,1,1,1,1,1,0,2,2,1,0,1,1,1,1,0,2,2,3,1,1,2,1,2,2,1,1,2,0,3,3,1,0,0,0,1,1,1,1,2,1,1,2,1,1,1,1,1,1,1,0,1,1,0,0,1,0,1,1,1,2,0,1,1,0,0,1,1,1,1,0,0,1,1,0,3,2,2,1,3,3,1,1,1,2,1,2,2,1,0,1,0,1,2,1,1,2,1,1,1,1,0,0,1,2,3,2,2,1,1,1,1,0,0,1,3,3,3,2,1,1,2,2,1,2,2,2,1,1,1,4,1,1,1,1,1,1,0,0,0,1,1,0,1,0,2,0,1,1,1,1,1,1,0,1,1,1,1,1,1,1,1,2,0,0,0,3,0,1,1,0,0,0,0,0,3,2,1,1,2,2,1,1,1,1,1,1,0,0,1,1,1,0,1,0,0,1,0,2,1,0,0,0,2,2,2,1,1,1,1,3,1,2,1,1,1,0,2,1,2,1,1,1,2,0,1,0,1,1,2,2,1,1,1,1,1,0,1,3,0,1,1,0,2,0,2,1,0,1,1,3,2,1,1,3,1,0,1,1,3,3,1,1,1,2,1,3,1,1,1,1,0,2,1,2,1,0,2,2,2,2,1,0,0,0,0,1,0,3,0,0,1,1,2,1,3,3,2,1,1,1,1,0,2,3,2,1,1,1,1,0,2,2,2,0,2,1,1,3,1,0,2,0,2,2,1,0,1,1,1,0,0,0,0,0,0,2,2,0,2,1,1,1,0,0,0,1,2,1,1,1,0,1,0,2,1,1,1,2,1,2,2,1,0,0,1,2,2,2,1,0,0,0,0,2,1,0,0,3,1,3,1,1,1,1,1,1,1,1,1,1,3,3,0,0,1,1,2,1,0,0,1,1,1,1,2,1,0,1,2,2,1,2,1,1,1,1,1,0,0,0,1,1,4,3,1,1,3,1,2,0,0,0,0,2,1,2,1,1,0,0,1,1,3,2,0,1,1,1,0,1,1,2,2,2,2,0,0,0,0,0,0,0,0,1,1,2,2,2,0,1,0,0,0,1,2,0,0,1,0,1,2,0,0,0,1,2,1,0,1,1,1,2,2,2,4,1,3,0,2,1,1,1,0,1,1,0,2,3,2,1,3,2,1,1,1,1,3,1,0,0,1,0,0,2,1,1,1,2,1,1,1,2,0,1,0,1,1,2,2,3,3,2,1,3,0,0,0,0,0,0,1,1,1,1,1,0,0,3,1,1,0,1,1,0,1,2,0,2,0,1,1,1,1,0,0,0,1,3,1,0,0,1,0,1,2,1,1,1,1,1,1,2,3,1,1,1,1,1,2,1,2,0,1,1,0,2,1,2,2,0,0,2,1,1,0,0,0,0,0,1,1,1,0,0,1,1,0,0,2,2,2,1,1,1,3,1,1,2,1,1,1,1,1,1,1,1,3,0,1,1,0,1,0,1,1,1,1,2,0,0,0,2,2,0,0,1,1,1,0,1,1,0,0,2,3,0,1,1,2,1,0,1,0,0,2,1,0,1,1,2,1,1,0,1,2,0,1,1,1,1,1,3,1,0,2,2,2,1,0,1,1,2,0,0,0,0,0,1,0,0,4,4,0,2,1,1,1,1,1,1,2,1,1,0,1,0,0,2,3,2,1,1,1,1,1,1,1,1,3,1,0,2,2,1,1,1,1,1,1,3,2,1,2,1,0,1,0,1,1,1,1,1,1,1,0,1,1,1,1,0,1,1,0,1,1,2,2,1,1,1,1,2,1,0,1,1,1,1,1,2,1,1,1,0,2,2,1,1,1,1,1,1,2,1,2,1,2,1,0,0,1,1,1,0,1,0,2,1,2,2,1,1,1,0,0,1,1,0,0,1,0,1,0,0,2,1,1,1,0,0,2,1,1,1,1,0,1,2,1,1,1,1,1,1,2,2,0,0,1,1,1,1,1,1,1,0,1,0,1,1,0,1,1,0,1,1,0,0,0,1,1,1,1,1,1,1,0,1,1,0,0,0,2,1,1,1,1,1,2,2,0,0,0,1,0,2,2,3,2,1,0,1,0,1,1,1,0,1,1,2,2,3,0,1,1,2,1,2,1,2,2,1,3,1,1,2,1,2,2,3,1,0,0,0,0,0,0,3,3,1,1,0,1,1,0,1,0,0,0,0,0,2,1,2,1,1,0,1,0,0,0,0,0,0,0,1,2,2,1,1,1,1,0,2,0,1,1,1,0,1,1,1,1,1,1,1,1,2,0,1,1,1,1,1,3,1,1,1,0,1,1,1,1,0,1,1,1,1,0,1,0,1,3,0,1,0,4,3,1,1,0,1,1,1,1,1,2,1,2,1,2,0,0,1,2,0,0,1,1,1,2,1,1,0,1,1,2,1,2,2,3,2,2,1,1,2,1,3,0,1,0,1,1,0,1,0,0,1,1,1,2,1,0,0,2,0,0,0,1,2,1,2,1,1,1,1,0,0,3,1,1,3,2,1,0,1,0,1,1,1,2,2,2,2,1,2,3,1,1,2,2,0,1,1,1,1,1,2,0,0,1,1,0,0,0,1,1,1,1,2,1,0,1,1,0,1,1,1,1,1,0,0,0,1,1,2,1,1,1,1,0,1,1,1,1,1,2,3,0,2,2,1,2,2,0,1,1,2,0,0,2,1,1,1,1,0,1,0,0,1,0,1,0,2,0,2,0,3,1,1,1,1,1,1,0,1,1,1,1,0,1,2,2,0,0,2,1,2,1,1,1,1,1,1,0,1,1,1,1,1,1,1,2,2,0,1,1,0,1,1,1,1,0,1,1,2,1,1,0,2,1,3,2,0,2,0,1,1,1,1,1,1,2,1,0,1,0,3,1,0,0,0,1,1,0,0,1,0,2,1,1,1,1,2,1,0,2,0,2,1,1,0,0,2,1,1,1,1,1,0,1,1,0,2,0,1,1,1,1,1,1,1,2,2,1,1,1,1,2,1,1,1,0,0,0,0,1,2,1,1,1,1,0,1,0,2,1,1,0,0,1,1,1,1,0,1,1,2,3,1,2,2,2,1,1,1,1,1,1,1,1,0,0,0,0,0,0,1,2,2,1,0,1,1,1,1,0,0,0,0,0,0,4,3,0,1,2,2,2,0,2,2,2,0,1,2,1,1,1,1,1,1,1,3,4,4,1,1,0,0,2,1,1,0,0,0,1,0,0,3,1,2,1,1,1,2,1,0,0,2,0,0,3,1,0,1,2,3,0,1,0,1,0,0,0,0,2,0,1,1,1,0,3,2,0,0,0,1,2,1,1,0,1,0,0,1,1,1,2,1,1,1,2,0,2,1,1,2,2,0,2,0,0,0,0,1,0,0,1,1,2,1,1,1,1,1,1,0,0,1,0,0,0,2,1,3,1,1,1,0,0,4,0,1,1,1,1,2,2,0,0,1,2,2,1,1,1,0,1,1,1,3,0,0,1,2,2,2,1,1,0,3,2,2,2,1,1,1,1,3,1,0,1,0,2,0,3,1,1,1,2,0,0,2,1,0,0,1,1,1,3,1,1,1,1,1,1,1,0,1,0,1,1,2,0,1,1,0,1,1,1,1,2,2,1,1,1,1,1,1,1,1,1,2,0,2,3,2,1,0,0,3,2,0,0,1,1,0,1,2,1,2,1,1,2,1,1,1,0,2,3,1,1,1,0,1,1,0,1,1,1,1,1,1,1,2,0,2,1,2,1,1,0,1,0,1,1,2,0,2,2,1,2,1,1,3,1,2,2,1,1,0,1,2,1,2,0,0,0,2,1,1,0,1,1,0,0,1,1,1,1,0,2,2,2,1,1,1,1,2,1,0,0,0,0,1,0,0,1,1,0,1,1,0,0,0,1,0,0,0,0,0,0,0,0,0,0,1,1,0,3,1,1,1,1,1,3,3,1,0,0,2,0,1,1,2,2,2,0,1,1,1,1,0,1,1,2,0,3,1,0,1,1,1,2,1,1,2,1,1,1,2,2,1,0,0,1,0,0,1,2,0,1,1,0,2,2,1,0,1,2,2,3,0,1,0,1,1,1,1,1,1,1,1,1,1,1,0,2,1,1,1,3,0,1,2,3,1,2,1,1,0,2,2,0,1,1,2,0,3,1,1,1,1,1,2,1,0,1,0,1,1,1,1,0,1,1,1,1,1,1,1,1,1,2,0,0,0,0,0,0,1,4,1,0,1,0,1,0,1,0,0,1,0,2,1,1,1,1,1,1,1,0,1,1,0,1,2,1,1,2,1,1,1,1,1,1,1,4,1,1,0,2,2,1,1,1,0,0,1,1,1,2,1,1,0,1,2,0,2,1,1,2,1,1,1,1,1,1,1,2,1,2,0,0,1,1,1,1,1,2,1,1,0,0,1,1,1,2,1,0,0,0,0,1,3,0,1,1,1,1,1,3,2,2,1,0,0,0,0,0,0,0,2,2,1,1,1,2,1,0,1,0,1,1,3,0,0,0,0,0,1,0,0,2,0,1,0,0,1,0,0,1,2,0,1,1,0,1,1,0,0,1,0,0,1,1,1,1,1,1,0,0,1,0,2,2,1,1,1,0,1,1,1,1,1,0,2,3,1,0,1,1,3,2,3,3,2,0,2,2,2,2,0,2,2,0,0,2,1,1,0,0,0,0,1,2,2,1,2,1,0,0,0,1,1,0,1,1,3,2,1,0,1,1,3,3,1,1,0,1,1,3,0,0,0,0,2,1,1,1,1,0,0,0,0,2,0,0,0,0,1,3,3,0,0,0,3,2,0,1,1,2,1,1,1,1,1,1,1,1,1,0,0,1,1,0,1,1,1,0,2,1,2,0,0,1,0,2,1,2,2,2,0,0,1,1,1,1,1,0,0,0,1,2,1,0,1,0,1,2,2,0,1,2,0,0,1,0,0,0,1,1,1,1,1,1,1,2,2,2,1,2,6,0,1,1,0,0,1,1,1,1,0,1,1,2,0,1,0,0,1,2,2,1,1,3,1,1,0,1,0,2,0,1,2,3,0,1,1,1,2,1,1,2,2,2,0,0,1,2,0,0,0,1,3,2,0,3,3,1,1,1,2,1,0,0,2,2,0,2,1,1,1,1,0,1,0,3,1,2,0,2,1,1,1,1,2,1,1,0,0,1,1,1,1,1,0,0,0,1,2,1,0,2,1,1,1,0,2,2,3,0,0,0,1,1,1,1,1,1,2,1,3,0,1,1,1,1,1,1,2,1,0,2,0,2,1,1,1,1,0,2,1,1,3,2,0,0,2,1,1,1,1,0,0,1,1,2,2,1,1,1,1,3,1,1,1,2,1,1,1,1,1,0,0,1,1,1,1,1,1,1,0,1,1,0,1,0,1,0,0,0,0,0,1,2,0,0,0,1,1,2,1,1,0,1,1,2,2,1,0,2,1,1,1,1,2,1,1,1,2,1,0,1,1,1,1,1,1,0,1,0,0,0,0,2,0,0,4,3,0,0,0,0,1,1,0,1,0,1,1,0,1,1,1,1,1,2,3,0,0,0,0,1,2,0,0,2,1,1,2,1,2,1,1,3,1,0,0,1,2,1,1,1,0,1,0,0,1,1,1,0,1,1,1,1,2,2,0,1,2,2,1,2,0,0,1,3,2,1,1,0,1,1,0,2,2,0,1,1,1,1,1,1,1,1,1,1,1,2,2,1,2,0,2,1,1,1,1,0,1,1,1,2,2,1,1,1,3,1,1,1,1,2,2,1,1,0,0,1,2,3,0,2,2,2,1,1,1,0,2,3,2,2,0,1,0,1,3,1,0,2,1,1,1,1,1,0,1,0,0,1,3,1,1,0,0,1,3,2,1,1,2,1,1,1,1,0,2,1,1,0,0,2,2,1,0,1,1,1,1,1,2,2,1,1,1,1,1,2,2,1,1,0,2,1,1,1,1,1,0,2,0,2,1,0,1,1,1,3,2,0,0,0,1,1,0,1,0,0,1,1,1,1,2,0,1,1,2,1,1,1,1,1,2,3,1,1,1,1,1,0,1,0,0,1,3,1,1,1,1,1,2,2,1,1,1,0,1,0,1,0,2,2,0,4,2,2,4,0,2,1,1,1,0,1,1,1,2,0,1,1,1,1,1,2,1,1,0,1,1,1,2,0,1,1,2,3,1,2,0,1,3,0,0,1,0,0,0,0,2,1,1,1,1,2,1,0,2,2,1,1,1,2,2,1,0,1,0,1,0,0,1,2,1,2,1,1,1,1,2,2,3,2,1,1,1,2,2,1,0,0,0,2,1,1,1,0,1,1,0,2,0,2,1,0,2,0,1,1,0,1,2,2,1,1,1,1,1,1,0,2,0,1,1,0,2,2,1,2,1,2,3,0,1,0,0,3,1,1,1,1,1,1,3,1,1,0,1,1,0,1,1,1,1,2,0,2,1,1,0,1,0,0,0,0,2,0,0,0,1,1,1,0,1,1,1,2,0,0,2,0,1,3,1,1,1,1,1,1,1,1,0,1,1,2,2,0,1,1,0,0,0,0,0,0,1,2,1,3,1,2,0,0,0,2,1,0,3,2,2,1,1,0,1,1,2,2,0,1,1,0,0,3,0,2,0,0,1,0,1,0,1,0,1,1,1,1,1,0,0,0,1,1,1,3,0,1,1,1,1,1,1,1,2,1,1,1,1,1,0,1,1,0,2,0,2,2,1,1,0,1,1,1,1,2,1,0,3,1,0,3,2,0,0,1,0,1,1,1,2,2,0,0,1,2,2,2,1,2,1,2,1,1,1,0,1,0,0,0,0,0,2,1,3,2,2,1,1,1,1,1,2,2,1,1,0,1,0,1,2,1,1,2,1,1,1,4,1,1,1,2,2,0,1,2,2,2,2,2,0,4,4,1,0,1,2,1,0,1,1,0,1,1,0,0,1,0,1,2,3,1,1,1,2,1,1,0,1,1,3,1,1,1,0,1,3,2,2,0,1,1,1,0,0,1,1,1,1,1,0,2,1,0,0,2,2,0,0,0,0,1,0,1,1,2,0,0,2,1,1,1,2,2,1,1,0,1,1,2,2,0,0,1,4,3,3,1,1,0,0,1,1,1,1,2,2,2,1,2,1,1,2,0,2,1,1,1,1,1,3,2,1,3,2,3,2,1,1,1,1,1,1,2,1,0,0,0,1,0,1,1,1,1,1,0,1,1,1,2,1,2,1,0,0,1,2,0,0,0,0,1,1,2,1,1,0,1,0,1,1,2,0,1,1,1,1,2,0,1,1,1,1,1,1,2,3,2,0,1,1,1,1,1,1,1,1,1,0,1,2,3,1,1,1,1,1,1,0,1,3,3,2,3,3,3,3,3,1,1,1,1,1,1,1,2,2,1,2,4,2,2,2,1,2,2,1,2,2,0,1,2,0,2,2,0,1,1,1,2,1,1,0,0,0,1,0,2,3,1,1,2,1,1,2,1,2,1,2,1,1,1,1,1,2,1,0,2,2,1,1,2,1,1,1,1,1,1,2,2,2,1,0,0,1,1,1,1,3,3,1,0,2,2,3,1,1,2,2,2,0,0,1,1,1,1,1,1,2,0,2,0,0,2,1,2,3,0,1,2,2,1,2,2,1,1,1,1,1,1,2,2,1,3,1,1,1,1,1,1,0,0,2,4,1,1,0,2,2,2,2,2,1,0,1,3,1,1,2,2,2,1,0,0,1,1,2,1,1,4,3,0,1,0,1,3,2,1,1,1,0,0,2,1,1,0,1,1,0,2,2,3,4,4,1,1,4,0,0,1,2,1,2,2,3,2,1,1,0,1,1,0,2,1,1,0,1,0,0,1,1,0,1,1,0,2,2,2,3,2,1,1,2,2,1,1,1,1,0,2,0,2,2,3,1,2,2,1,0,1,1,1,1,0,1,1,3,0,1,2,1,1,2,2,2,1,0,0,0,0,1,2,0,0,1,3,3,3,2,2,2,1,1,3,1,1,1,0,1,1,1,4,3,2,1,1,3,2,0,0,1,3,1,3,1,3,0,0,3,1,2,0,0,1,1,1,1,1,2,1,0,1,1,3,1,1,0,0,1,1,1,1,1,1,1,1,3,0,0,2,3,2,1,1,2,3,3,1,1,1,1,1,0,1,2,1,3,3,0,3,4,4,0,1,1,1,0,1,1,1,1,1,0,3,2,2,0,1,3,1,1,1,1,1,1,1,0,2,2,1,1,0,0,1,1,2,3,3,1,3,2,2,1,1,1,1,0,2,1,1,1,2,1,1,2,1,2,1,3,1,1,1,1,3,3,0,1,1,1,1,1,2,2,1,0,1,0,2,2,2,3,2,0,2,2,1,2,1,1,2,1,1,1,1,1,1,1,1,0,3,2,1,1,0,0,2,2,1,1,1,1,0,1,1,1,1,1,1,1,1,2,2,1,1,2,1,2,2,1,1,1,1,0,2,1,3,1,1,1,1,1,1,1,1,1,1,3,1,1,0,3,2,1,1,1,1,1,1,0,0,2,2,3,0,0,1,1,0,2,1,1,1,1,1,1,1,1,0,1,1,0,1,1,1,1,1,1,1,1,1,1,1,1,1,1,1,1,1,1,1,1,1,1,0,2,1,2,1,1,1,1,1,1,1,1,1,1,3,2,1,1,1,0,2,0,0,1,1,2,1,3,2,1,1,3,3,1,2,1,1,3,1,1,1,2,1,1,1,1,0,0,0,1,0,0,1,1,0,1,1,0,3,2,0,2,1,1,1,1,1,0,2,3,1,3,4,2,2,0,0,0,1,3,3,3,1,2,2,3,2,0,2,0,0,3,1,1,1,1,1,3,2,3,2,0,1,1,1,0,0,0,1,1,1,1,3,0,0,3,1,1,1,1,1,0,0,2,1,2,1,1,1,1,2,2,3,2,2,2,1,3,1,1,1,2,2,1,2,2,1,2,0,0,2,0,1,2,0,3,3,3,2,1,2,1,1,1,3,2,1,1,1,1,0,1,1,0,2,1,1,1,3,2,1,0,1,1,1,0,1,0,0,0,0,0,1,1,2,0,1,2,1,1,0,1,0,2,0,2,1,1,1,1,2,2,0,0,1,1,1,1,0,3,2,3,2,1,0,0,0,1,1,1,1,1,1,1,1,1,0,0,4,1,1,2,0,0,4,2,0,1,1,1,3,2,2,2,1,1,0,0,1,1,4,2,1,2,1,2,2,1,2,1,1,1,2,0,1,0,1,1,1,1,2,1,0,1,0,1,2,0,1,2,2,3,2,1,1,0,1,1,1,2,3,1,1,1,1,1,1,1,2,1,1,1,3,2,2,1,1,1,1,1,0,1,3,0,1,0,3,1,1,0,1,1,1,1,1,1,1,2,2,1,0,0,0,0,0,1,1,0,2,1,1,0,1,2,1,1,1,1,1,1,1,2,1,1,1,1,1,2,1,0,1,2,2,1,1,1,1,0,2,0,3,3,1,2,1,2,1,1,1,0,0,2,2,1,1,0,0,0,1,0,0,1,0,1,2,3,2,1,1,1,1,2,3,3,2,0,2,1,0,1,1,0,0,1,1,1,0,2,3,2,2,2,1,1,0,1,1,2,1,1,1,2,2,2,2,1,1,0,3,2,0,1,2,1,1,3,2,0,2,0,1,1,1,1,1,2,0,3,2,1,2,0,1,1,1,1,1,3,2,1,0,1,1,1,1,2,1,2,2,2,1,1,2,2,3,1,2,2,0,5,1,1,1,1,1,1,1,1,1,1,1,2,3,2,2,2,2,0,1,1,1,0,1,0,0,0,1,1,2,2,2,2,3,0,2,1,1,2,1,1,4,1,1,1,1,1,2,1,2,2,1,1,1,1,1,0,2,1,0,1,0,2,1,4,1,0,1,0,1,1,3,3,2,1,2,2,1,1,0,2,2,1,0,1,2,1,1,3,0,0,1,1,0,2,1,1,1,1,1,0,0,2,2,1,1,2,1,1,1,3,1,0,0,1,1,1,1,3,2,2,1,0,1,1,1,2,2,0,2,2,2,0,1,2,2,2,1,2,1,1,1,1,1,1,2,3,1,2,1,1,1,1,2,2,0,1,0,0,1,1,2,0,2,0,0,1,2,3,2,1,1,4,1,1,0,0,1,1,1,0,1,1,1,1,1,1,1,2,2,3,3,0,1,1,3,1,2,1,1,1,2,1,0,1,1,1,1,3,1,3,2,1,1,2,2,1,1,1,4,4,4,1,1,1,0,1,1,1,1,2,1,1,1,1,1,1,1,1,0,1,1,1,0,1,3,2,2,2,2,0,1,2,2,2,1,3,3,2,2,0,1,1,1,1,0,2,2,2,1,1,1,0,0,0,1,1,1,2,2,1,1,1,1,2,2,2,2,1,1,1,1,2,2,2,1,0,1,0,2,1,3,1,2,2,0,1,1,1,1,2,2,1,0,3,1,1,0,1,1,1,1,3,1,1,1,1,1,1,1,1,1,1,1,1,0,1,1,2,1,1,1,1,1,1,0,2,1,2,1,1,1,0,1,1,1,1,1,1,1,2,3,3,0,3,1,1,1,0,1,0,1,1,0,0,0,1,2,1,0,0,2,1,1,2,0,0,2,1,1,2,1,3,3,3,1,1,2,2,2,1,3,0,0,0,0,0,1,2,3,1,1,1,1,2,0,3,0,3,3,3,2,1,1,1,3,3,2,0,1,1,3,1,0,0,0,0,1,2,2,1,0,2,2,3,3,2,0,0,1,1,2,1,2,2,2,1,1,2,2,2,1,2,1,2,2,0,1,0,0,0,1,1,0,0,0,1,4,3,1,3,0,1,1,1,1,0,1,1,0,1,1,1,1,2,3,1,3,0,1,1,2,2,2,1,1,1,1,4,0,1,0,0,0,3,2,1,1,0,1,1,1,3,4,4,4,2,1,0,1,1,1,2,2,4,1,1,1,1,1,1,0,1,1,1,1,1,1,1,0,1,1,2,1,0,1,1,2,2,1,2,2,1,1,1,0,1,3,2,1,2,3,3,3,0,1,4,1,2,1,1,1,2,0,0,0,1,1,2,1,2,1,0,1,1,1,1,1,0,2,1,2,1,1,1,1,1,1,1,1,0,0,0,0,2,1,2,2,2,2,1,1,2,2,0,1,1,3,1,2,3,1,1,0,0,2,0,0,1,1,0,3,3,1,0,0,1,1,0,2,2,1,1,1,1,1,2,1,1,0,1,2,0,0,1,2,1,0,0,2,3,1,2,2,1,1,1,1,1,1,0,4,2,2,0,2,0,1,1,1,0,0,0,0,2,0,2,2,1,1,1,0,1,1,1,1,3,1,1,1,2,1,1,1,0,3,3,3,1,3,2,2,1,0,1,3,0,1,3,3,1,2,2,2,2,0,1,0,3,2,2,2,0,1,1,3,2,1,2,3,1,1,1,1,1,1,1,1,2,2,1,1,0,1,1,1,1,1,0,2,2,4,1,1,0,2,4,1,1,1,2,0,0,1,2,1,2,3,1,3,0,0,0,1,3,2,1,1,1,1,1,1,3,0,0,0,1,2,0,1,2,2,2,1,4,1,0,2,1,1,1,0,0,1,1,2,1,2,2,1,0,1,1,1,3,2,0,0,0,2,1,1,1,0,0,2,2,2,2,1,2,0,1,1,1,1,0,2,2,1,1,1,2,1,2,0,2,0,1,1,1,4,2,3,4,4,1,1,1,1,1,2,2,1,1,1,1,2,0,0,0,2,1,2,2,2,2,1,0,0,0,1,1,4,3,1,1,1,1,1,2,1,1,0,0,1,1,3,1,1,1,2,0,2,3,1,2,0,0,2,4,4,1,1,1,1,2,1,2,2,3,0,1,1,1,1,0,1,1,1,3,0,1,1,2,1,1,1,3,2,1,2,1,1,1,1,1,3,1,0,1,2,2,2,3,2,2,1,1,2,2,1,2,2,4,3,3,1,0,1,0,0,2,1,1,2,1,1,1,2,2,2,4,1,1,2,0,2,1,1,0,1,1,1,1,1,1,2,2,1,1,1,1,1,1,1,1,2,2,1,1,1,0,2,4,1,1,2,0,1,3,2,1,1,1,0,0,0,2,0,0,2,3,1,0,1,0,2,0,0,1,1,2,2,0,1,0,1,0,2,2,0,1,2,2,3,3,0,2,2,1,2,1,1,1,1,1,0,2,1,1,0,1,1,2,0,1,1,2,1,1,1,0,1,1,2,0,1,0,1,1,1,1,1,1,1,1,2,1,3,2,1,1,1,1,1,0,0,0,3,0,1,2,1,1,1,0,1,1,0,1,2,2,2,3,1,2,0,2,1,2,0,0,1,1,2,1,1,2,4,1,1,3,3,0,2,2,1,1,1,1,1,1,1,1,1,1,1,2,2,3,1,1,2,2,0,1,2,2,1,2,3,1,1,1,2,3,4,1,1,1,1,1,2,1,1,1,1,1,2,1,0,2,1,2,1,2,1,1,3,1,1,1,0,1,3,3,0,2,2,2,0,1,1,2,1,1,2,1,2,2,1,1,2,1,0,2,2,0,2,1,2,3,1,1,2,3,1,1,1,1,1,1,1,1,2,1,3,3,1,1,0,0,0,1,1,3,1,3,1,0,1,1,1,1,1,0,1,1,1,1,2,1,1,1,2,0,2,1,2,1,2,3,4,2,2,3,1,4,4,2,1,2,1,2,2,2,2,1,1,1,1,1,1,2,2,2,1,1,1,0,2,3,1,1,1,1,1,1,1,1,0,2,2,2,2,1,1,1,2,1,2,0,1,2,1,3,1,1,1,0,2,2,1,2,0,3,2,2,1,1,1,2,2,1,2,1,1,1,2,2,2,2,2,2,1,1,1,1,1,1,1,2,3,1,1,1,1,1,1,1,1,1,1,0,0,1,0,2,3,0,2,1,1,1,1,1,0,0,2,1,1,2,2,2,2,1,1,1,1,1,1,1,0,0,3,1,2,1,4,2,1,1,1,3,4,4,1,1,1,3,1,1,2,3,1,1,1,2,1,1,2,1,1,1,1,1,0,0,2,1,1,1,2,2,1,2,3,1,1,1,0,1,1,2,2,2,2,3,3,2,3,2,1,1,1,1,1,1,1,1,2,1,1,2,0,1,1,1,2,2,1,2,2,1,0,0,1,3,2,2,3,1,0,2,1,1,0,1,1,1,0,2,0,0,0,1,2,3,3,2,1,2,1,0,1,0,1,1,1,2,1,2,3,1,1,1,0,1,1,4,1,1,2,1,1,1,2,2,0,1,2,1,0,3,1,2,1,0,1,2,1,2,2,3,0,1,0,0,2,1,1,3,4,0,1,0,1,3,0,0,0,0,1,2,2,0,0,0,1,0,0,2,1,0,0,0,2,0,1,1,1,1,2,1,1,1,2,1,0,1,1,0,1,1,3,3,0,0,0,1,1,1,0,2,4,2,1,4,0,1,1,1,1,1,2,2,1,1,2,0,1,0,1,0,1,1,2,1,0,0,3,1,1,2,0,1,1,1,1,0,0,2,0,3,1,2,1,2,0,1,1,1,0,1,2,1,2,1,1,0,0,1,3,3,1,1,0,0,0,0,2,1,3,1,3,1,2,1,1,0,1,1,1,1,0,1,1,0,1,1,1,2,1,0,0,0,1,1,1,1,1,1,1,1,2,1,1,1,1,2,1,1,3,3,3,3,3,1,1,2,0,0,2,1,1,1,2,2,2,1,3,1,1,1,1,1,1,2,2,0,0,0,0,2,0,0,3,2,0,1,1,2,2,2,1,1,1,1,1,1,0,0,1,1,2,3,2,2,2,0,1,2,2,1,3,2,1,1,1,1,3,2,3,2,2,1,0,1,1,1,1,1,2,1,1,1,3,1,2,4,2,2,2,1,1,3,3,0,1,1,2,2,1,1,1,0,1,1,1,1,1,1,1,2,1,1,2,2,2,2,0,0,1,2,2,0,2,1,1,1,0,1,1,1,0,1,1,2,1,3,2,3,2,2,1,2,1,2,2,2,2,2,1,1,1,2,2,1,2,2,2,1,0,1,0,1,0,1,1,2,2,3,0,1,2,1,2,3,2,1,1,1,1,0,1,2,3,2,3,2,1,1,1,1,0,2,2,2,3,3,3,3,3,3,2,2,2,2,1,1,1,1,1,0,3,2,1,3,2,2,1,1,2,1,1,1,0,0,1,0,0,1,1,1,1,1,1,2,1,1,1,1,1,1,1,2,2,2,1,0,1,1,2,3,1,3,1,3,3,1,1,1,0,1,1,1,1,1,0,2,1,3,1,1,2,3,3,1,1,1,1,1,1,1,2,3,2,1,1,1,0,1,2,3,3,0,0,0,0,3,1,0,3,1,2,2,1,0,0,1,0,1,2,1,0,1,1,1,1,1,3,1,1,0,2,3,2,1,2,1,0,0,2,2,3,1,1,2,1,2,2,2,2,2,2,2,1,1,3,3,1,2,1,1,1,2,1,1,1,4,1,1,1,0,0,1,1,2,2,3,3,2,1,0,0,2,0,1,0,3,1,3,0,0,0,1,1,2,0,1,0,2,1,0,0,1,1,3,3,3,1,0,0,1,3,1,3,2,2,2,0,1,1,1,2,1,3,2,3,1,2,4,0,0,2,2,2,1,1,1,1,2,3,0,0,2,2,3,2,2,1,2,1,3,1,1,2,1,1,1,1,1,2,1,3,2,0,0,0,1,1,2,1,1,1,0,2,3,2,3,1,3,2,4,1,1,1,1,2,1,2,2,1,0,0,1,1,2,1,0,3,0,1,1,1,0,1,1,0,2,1,2,1,2,1,0,1,3,0,1,0,1,1,1,1,1,1,1,2,2,1,1,1,2,1,1,1,1,2,1,0,1,0,1,1,1,1,1,2,1,1,1,0,2,1,0,2,1,1,2,2,3,1,2,1,0,3,2,1,1,2,3,2,1,1,2,0,2,1,1,1,0,0,0,1,1,1,0,1,0,1,1,1,1,1,1,2,2,2,1,1,0,2,1,1,1,0,1,2,3,1,0,1,1,4,2,2,1,1,1,0,0,2,0,1,1,1,2,2,2,2,4,1,1,1,0,4,2,1,1,1,1,1,1,0,1,1,1,1,3,1,1,2,3,2,2,1,1,1,1,1,1,0,0,1,1,1,2,2,3,3,0,1,1,1,2,3,2,1,3,2,3,1,2,1,1,1,0,1,0,2,1,2,1,2,1,2,2,2,2,1,1,1,2,2,1,1,2,1,1,2,1,1,2,1,1,1,1,1,3,1,1,3,2,3,1,4,3,1,1,1,1,1,1,2,1,0,3,1,1,0,1,2,1,1,1,1,1,1,3,1,2,1,2,1,1,1,1,2,0,0,3,2,3,2,1,0,0,2,1,0,1,3,2,3,3,0,0,1,1,1,1,3,3,1,2,1,0,2,2,2,3,0,2,0,1,1,1,1,1,1,1,1,1,1,1,2,1,2,1,1,0,1,2,1,1,1,1,1,1,1,2,2,1,2,1,1,1,1,1,1,1,3,1,2,1,1,0,1,0,2,2,3,0,0,0,1,1,1,2,3,1,2,2,1,1,2,2,3,1,2,2,2,1,1,1,1,1,2,3,1,1,0,0,0,3,1,1,1,0,1,1,2,0,0,0,2,1,0,1,0,1,1,1,2,1,1,1,1,2,1,1,1,0,1,2,1,1,1,1,2,2,1,1,0,1,1,1,2,0,0,0,0,2,1,1,1,1,2,1,1,1,3,0,0,1,0,0,1,3,1,1,1,1,1,2,1,2,2,1,1,0,1,2,2,1,1,1,1,0,2,1,1,1,3,3,1,2,2,3,2,1,2,1,1,1,1,1,1,2,1,2,2,2,0,1,1,1,1,1,1,1,1,1,3,0,2,2,1,1,0,1,2,1,1,2,2,1,1,2,2,1,0,0,0,0,1,1,1,1,2,2,1,0,1,2,2,1,1,3,2,1,0,0,1,1,0,1,1,3,3,1,1,1,1,1,1,2,4,2,2,1,2,2,1,1,1,0,0,1,1,2,1,1,1,0,2,1,2,2,0,0,1,2,1,1,3,2,1,1,1,0,1,1,2,1,0,1,1,0,0,0,1,1,0,0,2,1,2,1,1,1,1,3,0,1,0,0,2,1,2,1,1,1,0,1,0,2,2,0,2,2,1,0,1,1,1,0,0,3,2,0,2,3,0,1,3,0,0,0,3,1,1,2,2,3,3,3,1,1,1,0,0,0,3,2,2,3,1,1,1,1,1,1,1,1,0,1,1,3,1,0,4,4,4,1,0,1,2,1,2,1,1,1,1,2,4,1,1,4,2,2,1,1,2,1,0,2,2,1,0,1,1,1,1,1,2,1,2,0,1,1,2,1,1,1,2,1,3,3,0,1,1,1,3,3,0,2,2,1,0,0,2,4,3,1,1,3,1,1,0,1,2,1,2,1,2,0,2,0,0,1,1,1,1,1,0,1,0,0,1,0,2,2,2,2,3,2,2,1,1,3,2,1,2,4,3,1,2,3,1,1,0,1,1,0,1,1,1,1,2,1,2,1,3,2,1,1,1,1,1,0,1,1,1,2,2,2,1,2,2,1,0,2,1,1,2,1,2,1,0,2,1,1,2,3,3,0,1,1,1,1,1,2,4,2,1,1,2,3,2,3,1,2,2,0,1,1,1,1,1,3,1,2,0,1,1,1,1,1,1,2,0,1,1,1,1,1,1,1,1,1,1,1,1,1,1,0,0,1,2,1,1,2,2,2,2,1,2,1,2,3,1,1,1,1,1,1,2,1,1,1,0,1,2,1,1,1,1,1,1,1,1,1,1,1,1,1,1,1,0,1,0,1,2,1,1,2,1,0,2,0,3,2,2,1,1,1,2,4,1,0,2,2,2,2,2,3,1,1,1,1,1,1,2,2,1,2,1,2,1,1,1,3,1,1,2,2,0,1,1,1,1,1,1,1,1,2,1,0,1,1,0,3,2,1,1,1,3,1,1,1,0,0,1,0,2,1,2,0,2,1,2,1,3,1,1,0,1,3,2,1,0,1,1,0,0,2,1,1,1,1,1,2,1,0,0,1,1,0,0,1,2,3,3,0,1,1,2,1,1,1,1,0,1,1,1,2,2,1,1,2,2,1,1,1,1,2,3,1,3,1,1,1,1,2,3,0,1,2,2,1,1,1,1,1,1,1,2,1,0,3,2,0,1,0,0,2,3,1,2,2,1,2,2,3,1,0,3,2,3,2,2,3,2,3,3,1,1,1,1,1,1,1,3,4,1,1,3,2,3,1,3,2,0,1,1,3,2,3,2,2,1,1,1,0,0,0,2,2,1,2,2,1,2,2,1,1,3,3,1,1,2,1,1,1,1,1,1,1,2,5,2,2,2,2,1,2,1,1,1,1,2,1,1,1,1,1,1,1,2,3,1,1,1,2,3,3,1,2,2,2,1,0,3,1,1,1,4,1,1,1,1,1,1,3,1,0,0,4,1,1,1,1,1,1,1,1,0,0,3,0,0,1,0,0,2,2,1,1,1,1,1,4,0,1,0,0,0,0,0,1,1,1,1,1,1,2,2,1,1,2,2,1,2,0,0,1,1,1,1,1,3,3,1,1,0,1,1,1,1,1,1,1,3,1,1,1,0,1,1,1,1,0,2,0,1,1,1,1,1,1,1,1,1,2,0,3,2,2,1,1,1,1,1,2,1,2,1,3,3,1,3,3,2,2,1,2,1,1,1,0,0,1,2,1,1,1,1,2,1,2,0,2,0,1,1,1,2,1,1,1,3,1,0,2,2,1,3,0,2,1,1,2,2,1,1,1,2,1,1,0,2,1,2,1,2,2,2,3,1,0,1,1,0,0,3,3,1,3,2,2,3,1,1,1,1,1,1,1,1,1,0,2,1,2,2,2,1,2,1,0,1,2,1,0,1,1,1,1,3,1,1,3,2,1,1,1,1,1,2,2,2,1,1,1,0,1,0,1,2,2,1,2,2,2,1,1,1,1,1,2,3,0,2,0,1,1,1,1,1,0,3,2,1,0,1,0,2,0,0,2,1,1,2,3,2,2,2,2,1,2,1,1,0,1,1,1,1,1,0,1,2,2,1,1,1,1,1,1,1,2,1,3,1,1,1,0,1,2,1,1,2,1,1,1,1,1,1,3,3,2,1,1,1,1,1,2,2,1,1,1,1,1,1,1,1,2,1,2,0,0,1,0,1,2,1,2,2,1,1,1,1,1,1,2,2,0,1,1,0,0,0,2,2,1,1,1,1,1,0,1,1,1,0,0,2,2,1,1,3,1,1,1,1,1,1,2,1,0,0,3,3,1,1,3,2,2,2,1,1,1,1,0,2,2,1,1,1,1,0,1,0,1,0,0,0,0,1,1,1,0,2,1,1,1,1,0,0,1,1,1,1,1,2,1,2,1,2,1,1,1,1,2,1,1,1,1,1,1,1,1,1,1,1,1,2,2,1,2,3,3,1,1,2,1,1,2,1,0,0,1,1,1,1,1,2,2,3,1,3,1,1,1,3,1,3,2,1,1,2,2,1,2,0,3,1,1,1,0,0,1,3,1,3,2,1,1,1,2,1,2,1,2,1,1,2,2,2,2,1,2,1,0,0,0,0,1,1,1,0,1,1,1,2,2,1,1,1,1,1,2,0,2,0,3,1,1,1,2,2,3,2,0,1,1,1,4,2,1,1,1,2,1,1,1,1,1,1,2,1,1,2,1,1,1,1,1,1,1,1,3,1,2,1,2,2,1,1,1,0,1,0,1,1,1,1,0,1,1,1,3,1,1,2,2,2,2,1,1,2,2,1,2,1,1,1,1,0,2,3,2,1,1,1,1,2,1,1,1,1,1,2,1,3,1,1,1,2,3,2,3,1,2,1,1,1,1,1,3,3,1,1,1,1,1,2,2,2,1,1,1,2,3,3,1,3,4,3,1,2,2,2,2,3,2,1,2,1,2,2,2,2,0,1,2,2,2,2,1,1,0,2,2,0,0,3,0,1,3,1,1,1,2,2,1,1,2,1,2,2,2,2,1,0,0,0,1,1,0,1,1,1,2,0,2,2,2,2,1,0,1,1,0,1,1,0,0,0,0,0,2,1,1,1,3,2,3,0,2,1,1,2,2,2,0,0,0,1,2,4,0,1,2,3,0,0,1,3,0,3,0,1,1,2,2,2,1,1,0,1,1,2,1,3,1,1,1,1,1,1,1,2,3,1,3,2,2,1,2,2,2,2,1,1,0,1,1,3,2,1,2,1,0,1,2,1,1,0,2,3,0,2,0,3,2,2,2,3,1,1,1,1,1,4,1,0,1,1,1,1,1,0,2,2,2,2,2,1,1,1,2,1,2,1,0,2,1,2,2,2,0,1,1,1,1,1,1,0,1,1,1,1,1,1,2,0,3,1,1,1,1,1,0,1,2,1,0,1,1,1,1,0,3,1,1,0,0,0,2,1,2,1,2,1,2,1,2,3,3,1,3,3,3,3,2,2,2,1,1,2,3,1,1,1,1,2,3,2,1,1,1,2,2,1,1,2,1,1,2,0,1,1,4,3,2,3,1,1,0,2,1,1,0,1,1,1,1,1,1,1,1,1,1,1,2,1,2,0,1,1,1,1,1,0,1,1,1,1,1,2,1,1,1,1,1,1,1,1,0,0,0,1,1,1,1,2,2,3,2,1,0,0,0,0,1,2,0,1,2,1,1,1,1,0,1,0,1,1,1,4,1,2,0,2,1,1,1,1,2,1,1,1,2,0,3,2,2,1,0,0,1,1,1,1,1,2,1,1,1,2,2,3,2,2,1,1,3,0,0,0,3,2,1,2,2,0,0,0,1,1,3,2,0,2,3,0,2,1,1,3,1,3,2,1,1,1,1,2,2,1,1,1,2,2,2,1,0,1,1,2,1,1,2,3,3,2,2,2,0,0,0,1,2,0,0,1,2,1,2,2,2,2,2,1,2,2,1,2,2,0,0,0,0,1,2,2,2,2,0,1,1,1,1,1,0,0,1,0,0,2,1,1,1,1,1,1,3,1,0,1,1,0,0,1,1,2,0,0,0,0,0,1,2,3,1,1,0,0,1,0,0,1,2,0,2,2,2,1,1,2,3,2,0,1,0,2,1,1,1,0,1,0,2,1,1,2,2,1,2,2,0,1,2,2,1,0,1,1,0,0,2,0,1,1,1,0,1,1,1,2,1,1,1,1,1,1,2,3,3,1,2,1,1,1,1,1,1,3,2,1,0,0,1,0,1,1,0,3,2,1,2,2,3,1,1,1,1,0,1,1,1,1,1,2,1,1,1,1,1,0,2,3,1,1,1,1,0,1,1,1,1,0,1,2,2,1,2,2,1,2,0,2,2,1,2,2,2,3,1,1,1,1,1,0,1,0,1,0,1,1,1,2,1,1,1,2,1,1,1,1,0,0,1,2,0,0,2,1,1,1,1,1,1,1,4,1,2,2,2,1,1,2,3,1,4,1,2,1,1,1,1,2,2,2,1,1,1,1,1,4,2,2,1,1,0,2,1,2,2,2,1,2,1,2,1,2,0,1,1,2,2,1,1,1,1,1,1,1,1,1,1,2,0,1,0,1,1,0,2,0,1,1,0,1,1,1,1,1,1,1,3,3,2,3,1,1,1,1,1,0,2,2,2,1,1,1,1,1,1,0,1,2,1,1,1,1,1,1,1,1,1,1,3,3,1,1,1,2,2,1,2,1,0,0,1,1,1,4,1,1,1,0,1,0,0,0,1,1,1,2,1,2,2,1,1,1,1,1,1,1,1,1,1,1,1,1,1,2,2,2,1,2,3,1,0,1,0,1,2,1,2,2,2,1,2,3,2,3,0,2,0,0,0,2,3,3,1,1,1,0,0,1,3,3,2,2,1,0,1,1,1,1,1,1,3,1,3,1,1,1,3,3,1,3,0,1,2,1,2,2,1,2,1,2,2,3,3,3,2,0,1,0,2,1,1,1,1,1,0,0,0,0,2,3,3,2,1,1,1,0,1,2,1,2,2,0,2,1,1,0,0,2,0,1,1,1,2,3,2,0,0,2,2,1,1,2,1,2,1,1,1,1,1,1,2,2,2,2,2,1,2,3,1,1,4,2,0,1,1,1,1,1,1,1,1,3,2,2,0,0,0,0,2,1,2,2,0,1,1,0,0,0,0,1,3,4,3,1,1,1,1,1,1,1,1,2,1,1,3,2,2,1,1,1,1,1,1,2,2,0,1,1,1,2,1,2,1,1,2,3,2,2,3,1,1,1,1,0,1,0,0,1,2,1,1,3,3,2,2,1,1,1,1,3,1,1,3,2,4,2,1,1,1,1,1,1,1,1,1,1,1,3,3,2,1,1,2,0,1,2,1,2,2,1,3,1,0,0,1,1,1,1,1,2,1,1,1,1,2,1,1,1,0,0,0,0,2,1,2,2,2,1,1,1,2,2,2,1,1,1,1,4,0,0,2,2,1,2,2,1,2,2,3,1,2,0,0,0,1,1,2,0,2,0,0,2,2,1,0,1,1,1,1,3,2,0,0,3,2,2,2,0,0,1,0,0,2,2,2,1,2,1,1,1,2,2,1,1,1,1,0,1,1,1,1,1,1,2,1,2,3,1,1,2,1,1,1,1,0,1,1,1,2,1,0,0,1,1,1,1,3,3,0,1,1,1,2,0,2,0,1,0,0,2,2,2,0,1,1,1,1,1,2,2,3,1,1,1,1,3,1,1,1,1,2,1,0,0,0,0,0,0,0,1,1,1,2,1,4,1,2,1,0,1,3,2,2,0,0,1,3,2,1,1,1,3,1,1,0,0,3,2,2,2,1,1,1,4,1,2,1,0,0,2,2,2,2,2,1,3,3,3,1,1,1,3,1,2,2,2,1,2,3,2,1,1,1,2,1,2,2,1,2,2,2,0,1,1,1,2,2,1,3,1,3,2,3,4,1,0,0,2,2,1,2,2,2,3,3,1,1,1,1,2,3,4,1,1,1,1,1,2,0,2,1,2,1,2,2,1,1,3,3,1,1,3,1,1,0,2,0,1,0,3,3,4,3,2,0,3,1,1,1,1,0,1,1,1,2,2,2,1,2,1,1,2,2,1,1,1,1,1,0,1,2,2,2,2,0,1,2,1,1,1,1,1,1,1,1,1,1,1,0,1,2,2,1,1,2,1,3,0,0,2,1,1,0,0,0,1,1,0,1,1,1,2,2,2,2,3,3,2,2,2,2,1,2,2,1,1,2,1,2,3,3,0,1,1,1,1,3,2,1,1,1,1,2,1,0,1,1,1,1,1,3,3,2,3,4,2,0,0,1,1,2,1,2,1,1,2,1,1,1,3,2,3,1,0,1,1,2,2,2,0,1,1,1,1,0,1,1,0,0,1,2,3,2,2,3,2,1,2,1,2,1,1,1,1,1,0,1,1,1,1,1,1,1,1,1,1,2,1,1,1,1,1,2,1,1,1,1,1,1,1,1,1,2,3,3,0,2,0,1,3,1,0,1,1,1,1,1,3,1,0,1,2,1,1,1,1,1,3,2,2,2,2,3,3,2,1,1,1,1,1,1,0,1,3,2,1,1,1,1,1,1,1,1,3,3,3,3,1,1,1,1,1,2,1,1,1,1,2,1,1,1,1,1,1,0,0,2,2,2,2,2,3,1,2,1,1,1,3,2,1,1,1,0,2,2,2,1,2,3,2,2,2,1,1,2,2,1,1,2,1,2,1,3,2,1,0,1,1,2,1,0,3,2,2,1,1,0,1,0,2,0,1,1,1,1,0,0,1,0,2,2,1,0,2,1,1,1,1,2,2,1,1,1,1,3,2,1,1,2,2,0,1,3,1,2,2,1,1,2,2,1,1,1,0,1,1,1,1,2,1,1,2,2,2,2,2,2,1,2,3,2,2,1,0,1,2,2,2,1,0,1,1,1,3,3,3,0,1,1,3,1,1,1,2,2,0,1,1,1,1,1,3,1,2,2,2,2,2,2,1,1,1,1,1,0,2,1,1,1,1,1,2,1,4,2,1,0,1,2,2,2,0,2,2,1,1,1,0,0,1,1,3,2,1,2,1,1,1,1,2,2,2,1,1,1,0,1,2,2,2,1,2,1,0,0,2,3,1,1,0,2,3,3,3,1,3,3,4,1,1,2,3,1,1,2,2,0,0,1,1,0,2,0,1,1,1,0,1,1,2,2,1,1,2,3,1,0,0,1,0,0,2,2,2,1,1,1,1,0,0,0,1,1,1,2,1,2,1,0,1,1,1,4,1,0,0,0,0,2,1,1,1,0,1,2,1,3,0,0,1,1,1,1,2,2,1,2,0,0,1,1,2,2,1,2,1,2,2,2,1,1,1,1,1,2,2,2,2,2,2,1,1,2,2,2,1,0,1,1,2,2,1,1,1,1,3,1,1,2,0,1,4,1,1,0,0,2,1,1,2,3,2,1,0,4,4,2,0,0,1,0,0,0,1,2,1,3,4,0,0,0,3,1,2,2,2,0,1,1,3,1,1,1,0,2,3,2,4,2,2,1,2,1,1,1,1,1,1,1,2,3,3,4,2,2,0,1,2,4,0,1,1,2,1,1,2,2,0,3,1,2,3,2,1,2,3,0,2,1,1,1,2,2,1,1,1,1,0,1,1,2,1,0,2,3,0,2,2,1,1,2,2,1,2,1,3,2,1,2,1,0,2,0,0,0,3,2,2,1,2,1,1,2,0,2,1,2,1,3,1,2,2,1,1,2,2,0,1,1,1,2,3,1,2,1,1,1,1,1,1,2,2,1,1,1,1,1,3,1,2,1,2,2,1,0,0,1,1,2,2,1,2,1,1,1,3,2,2,3,3,2,1,1,3,1,2,1,1,1,3,2,2,1,1,1,1,1,2,2,3,1,3,3,1,2,1,0,0,2,0,0,1,0,1,2,1,1,1,1,1,0,1,2,1,1,3,1,2,2,1,2,1,2,2,1,1,0,2,2,3,3,2,2,1,1,2,2,1,2,2,0,1,1,1,1,0,1,1,2,2,2,2,2,1,2,1,2,1,1,2,0,3,1,1,0,1,1,1,1,1,0,0,2,2,1,3,3,1,1,2,1,1,4,0,0,1,1,2,1,3,1,0,1,1,2,2,0,1,1,1,1,0,2,1,1,3,3,1,1,1,1,1,2,0,1,2,2,2,1,1,3,2,1,1,1,1,0,1,1,1,1,1,3,2,2,2,2,0,3,2,2,1,0,2,0,0,1,0,0,0,1,1,0,1,1,1,2,1,0,0,0,1,3,2,2,2,2,1,2,2,3,4,1,2,1,1,2,2,1,1,0,2,2,1,2,1,3,1,1,2,1,1,1,0,1,1,1,1,2,1,1,2,1,2,2,2,1,2,1,1,1,0,1,1,2,1,4,1,1,1,1,0,2,1,1,2,2,2,0,0,0,0,0,0,0,1,0,1,2,1,1,1,2,2,2,1,1,2,2,0,3,1,2,2,2,2,1,2,2,1,3,2,1,0,2,1,2,1,2,3,1,1,1,1,1,1,1,0,2,2,2,2,2,1,1,3,2,1,1,2,1,1,0,0,1,1,0,1,1,1,1,1,1,1,1,1,1,0,0,0,1,2,1,1,1,2,3,0,5,1,4,1,0,1,2,0,1,1,2,2,1,2,1,1,0,1,2,1,1,2,2,2,0,3,4,2,1,2,1,1,1,1,1,1,2,1,1,1,2,2,3,3,1,1,1,1,1,2,2,3,3,3,3,1,1,3,1,2,2,2,2,1,0,1,1,2,2,3,1,0,1,1,1,1,1,1,1,1,1,3,1,1,1,1,1,2,1,1,1,1,4,1,1,1,1,0,0,1,2,1,1,1,1,2,2,0,1,3,2,0,1,1,1,1,1,1,1,1,3,2,1,1,3,1,0,2,1,1,1,1,1,1,1,1,1,1,1,0,1,1,1,3,0,0,1,2,1,3,2,0,2,0,3,1,1,1,3,1,2,3,1,1,2,2,2,1,0,1,0,1,3,2,1,0,1,3,1,1,2,2,0,1,2,1,0,1,1,1,1,1,0,1,1,1,1,1,1,0,0,1,1,1,3,2,3,1,1,2,2,3,2,0,1,2,0,1,1,1,0,0,0,0,0,1,1,2,2,1,1,4,1,1,2,0,1,3,3,3,0,0,0,2,1,2,1,1,0,2,0,0,0,2,1,1,2,2,3,1,1,1,1,1,0,1,2,2,0,1,0,1,1,0,0,0,3,3,1,0,1,1,1,1,1,2,0,0,3,3,2,3,1,0,1,4,3,3,2,2,2,1,1,1,1,3,3,2,2,1,2,2,2,0,1,1,2,1,2,2,1,0,1,1,0,0,1,1,0,1,1,1,1,1,3,2,2,1,2,1,1,3,1,0,2,0,0,1,1,1,1,2,2,3,1,2,2,2,2,1,2,1,2,1,1,3,2,1,1,3,3,2,2,3,3,2,1,1,1,1,3,3,0,0,2,1,1,2,1,1,1,1,2,0,1,1,1,0,1,1,2,0,0,1,1,1,2,1,3,1,2,1,2,1,1,1,2,2,2,0,1,1,1,0,1,1,1,1,1,3,1,1,1,2,1,3,2,2,1,1,1,0,2,1,1,1,2,0,1,0,0,2,1,2,0,0,0,0,1,0,1,0,1,1,1,3,0,1,1,2,0,1,1,2,1,2,1,2,1,3,3,1,2,2,2,1,1,1,1,1,1,2,1,0,0,2,0,1,3,1,0,0,2,1,1,1,0,1,1,1,1,1,2,1,2,1,1,2,1,1,1,0,1,0,2,1,3,2,0,1,0,0,1,1,1,2,1,1,1,0,1,0,0,2,0,2,2,1,0,0,2,3,1,2,0,2,1,1,3,2,2,1,3,2,2,3,0,2,2,1,1,1,1,3,1,2,1,0,1,1,2,1,3,0,2,1,2,2,2,2,1,0,0,2,0,1,0,1,1,1,2,1,0,1,1,1,1,1,2,1,1,3,1,2,4,4,0,0,0,1,0,1,1,2,1,1,0,1,0,2,1,1,1,1,0,1,2,0,0,2,2,2,1,1,1,1,2,1,1,0,2,1,4,1,1,3,1,1,1,1,1,1,1,1,1,2,2,1,2,2,2,2,1,0,1,1,3,1,2,3,1,0,0,0,1,1,1,2,2,2,2,1,2,0,0,1,1,3,2,2,2,1,1,2,1,0,2,1,1,1,2,1,1,2,1,2,1,1,1,1,1,1,1,1,2,3,1,0,1,1,3,2,2,1,1,3,2,2,0,0,2,0,1,1,2,2,1,0,1,1,3,3,2,1,0,0,1,1,1,1,1,1,1,1,0,1,1,1,0,0,0,2,3,1,2,2,1,1,1,1,0,2,2,1,1,3,0,1,2,1,1,0,2,1,1,1,2,1,1,1,1,1,0,2,1,1,0,0,1,1,1,2,2,0,3,2,1,0,0,3,1,1,0,1,1,2,2,1,2,0,1,1,1,1,0,2,1,2,2,1,3,2,0,0,3,3,2,1,1,2,1,2,1,1,1,0,1,1,0,1,2,1,2,0,2,0,0,0,1,2,2,1,1,1,1,1,1,0,2,2,0,1,1,1,3,2,1,2,1,1,0,1,2,3,1,2,2,2,1,1,1,0,0,1,1,0,2,0,2,2,1,1,0,2,2,3,2,1,1,2,0,1,1,0,2,1,1,1,2,1,2,1,3,2,3,2,1,1,2,1,1,1,3,1,1,1,1,2,2,1,1,2,2,2,2,2,1,1,0,1,3,1,2,1,1,3,2,2,0,1,1,1,2,2,1,1,2,1,1,3,2,3,2,1,1,1,1,1,1,1,1,1,2,2,2,1,1,2,1,2,2,1,1,0,2,2,2,1,0,1,1,1,0,1,1,1,1,1,1,1,1,1,2,2,2,1,2,0,2,2,1,2,2,2,0,1,1,1,2,1,2,2,1,3,1,1,2,1,2,3,4,1,2,2,2,1,1,1,0,3,3,2,2,2,1,2,3,3,1,1,0,0,0,0,0,0,0,1,2,1,2,1,1,1,1,1,3,1,3,3,2,3,1,2,2,1,1,0,0,2,3,0,1,1,1,1,1,2,2,1,1,0,2,1,1,1,1,1,2,1,2,1,1,1,0,1,1,1,1,1,1,2,1,3,1,1,4,1,1,1,1,1,0,1,1,1,2,2,2,1,0,0,1,0,1,1,2,4,2,2,2,2,2,2,2,2,2,1,1,1,2,0,1,1,1,1,0,1,1,4,0,1,1,1,1,0,2,1,0,1,1,1,1,2,3,0,0,1,1,2,2,1,1,1,1,1,3,2,2,0,0,1,1,2,3,3,0,1,1,1,1,3,1,2,0,3,1,1,4,3,3,3,1,1,0,2,1,0,1,0,0,2,2,3,1,2,1,2,0,0,2,2,1,1,2,2,3,1,2,3,2,2,1,1,3,1,0,1,0,0,2,2,0,1,0,1,1,1,1,2,1,1,1,1,1,1,1,1,1,0,1,1,2,2,2,1,1,2,1,2,0,0,2,1,1,1,0,1,3,4,1,1,1,0,2,1,1,1,1,2,1,1,0,2,1,1,1,1,2,1,0,1,0,1,3,0,0,0,1,1,0,3,1,0,1,1,1,1,0,3,0,1,1,1,0,0,0,1,1,2,2,0,0,1,1,3,1,2,2,0,1,0,1,1,1,1,3,1,1,1,0,0,1,2,0,1,1,1,3,2,3,2,1,2,1,1,4,2,1,2,2,3,1,3,3,3,3,0,3,3,3,1,1,3,1,2,1,1,2,1,2,1,2,1,3,2,2,2,3,3,0,0,1,1,1,1,1,0,1,2,4,2,3,1,1,2,1,1,3,1,1,1,1,1,1,1,1,1,1,2,2,2,1,1,1,2,1,3,1,1,1,1,4,2,3,1,4,2,2,2,1,1,2,2,1,1,1,1,1,1,1,3,2,1,1,1,1,2,3,2,1,2,1,1,2,1,1,1,1,1,1,1,0,2,2,0,1,1,1,2,0,1,2,2,2,1,1,2,2,2,0,3,1,1,2,1,1,2,3,0,4,1,1,1,1,0,2,2,0,2,2,3,1,2,2,1,2,4,3,2,2,3,2,1,2,1,2,2,2,2,2,1,1,1,1,0,0,0,1,3,3,4,1,1,1,2,3,1,0,2,1,1,0,1,0,0,3,2,2,1,1,1,1,1,0,1,3,3,2,1,2,2,1,2,2,1,0,3,3,3,2,1,1,0,1,1,3,5,1,3,2,2,0,1,2,1,1,4,1,1,1,3,1,1,1,0,1,1,1,1,1,2,2,1,1,1,1,1,1,1,1,1,1,1,0,1,2,2,1,1,2,2,2,1,1,1,1,3,1,2,1,1,1,1,2,0,2,1,1,1,1,2,0,0,1,0,1,0,0,1,0,1,3,1,1,1,1,2,1,2,1,1,0,2,2,2,2,1,2,0,2,2,2,1,2,2,2,0,1,2,1,1,1,0,1,1,2,1,1,1,2,3,2,1,2,2,2,1,1,2,2,1,2,2,1,1,1,2,1,1,1,0,0,0,1,3,0,1,1,1,2,0,3,0,2,1,1,0,2,1,1,2,2,1,1,1,1,0,2,0,1,1,1,2,1,0,1,2,1,1,1,2,2,1,1,0,1,1,1,1,1,1,0,1,0,1,1,1,3,2,2,2,1,1,2,1,1,1,2,1,1,1,1,1,1,1,1,1,1,1,3,1,0,1,1,4,5,3,4,3,3,3,0,0,1,2,2,1,0,2,1,1,0,1,0,1,1,0,1,1,1,0,1,1,1,0,2,2,1,0,1,1,1,0,1,1,1,1,1,2,2,1,0,1,2,3,1,0,1,2,2,1,2,0,2,0,0,2,1,1,3,1,1,0,0,0,1,2,2,1,1,1,2,2,3,1,1,1,2,2,1,4,1,2,3,3,1,3,2,2,0,1,1,3,2,1,0,1,0,1,1,1,1,2,2,1,1,0,1,1,2,1,3,1,1,1,0,1,0,1,1,1,3,0,1,1,1,0,0,2,1,1,1,1,2,2,3,1,1,2,0,1,1,0,1,1,1,2,3,1,0,3,4,1,1,1,2,2,2,3,0,1,1,1,1,1,3,1,2,2,1,1,1,1,0,1,3,1,2,1,0,1,1,1,1,2,1,1,1,1,1,1,2,0,2,1,1,1,1,1,0,1,1,0,0,0,1,1,2,2,2,3,3,1,1,1,2,0,0,3,1,1,1,2,0,1,2,2,2,2,1,1,1,1,1,1,1,0,0,2,1,3,2,1,2,1,2,0,1,2,0,1,2,1,1,1,2,1,1,0,2,1,1,1,1,1,0,1,3,1,3,1,2,0,0,0,2,3,1,1,3,1,1,1,2,3,2,3,0,0,0,1,1,2,2,1,3,2,0,1,1,1,1,1,1,1,1,2,1,2,2,0,0,3,2,2,1,0,0,0,0,2,3,0,1,2,0,1,1,1,1,2,1,1,2,2,1,1,1,1,1,0,1,2,1,1,2,1,3,1,2,1,2,1,2,2,2,1,2,1,3,2,1,1,3,3,2,3,1,1,3,2,2,2,3,0,0,1,1,1,1,0,0,2,1,2,2,1,2,0,0,1,0,2,4,3,0,1,0,1,3,0,2,1,1,3,2,0,2,2,1,1,3,1,1,1,1,0,2,4,1,0,2,2,1,3,2,1,1,1,2,2,1,1,1,1,1,1,3,1,2,3,3,2,1,0,3,4,0,0,1,3,2,2,1,1,3,1,1,2,1,0,0,1,1,1,3,1,2,1,2,1,2,1,1,0,2,1,2,1,1,1,1,0,1,1,1,0,0,1,1,0,1,2,2,1,1,1,1,1,1,1,3,1,2,2,2,0,0,1,1,1,1,0,3,3,2,4,2,1,1,1,1,1,1,2,1,1,1,1,2,1,1,1,1,1,0,1,1,1,1,1,3,1,1,1,1,2,4,1,1,1,1,1,1,2,2,2,2,1,1,1,0,1,1,0,1,2,1,1,1,1,1,1,1,1,2,3,1,1,1,1,0,2,1,1,1,1,1,2,3,2,1,1,2,2,2,2,2,1,2,2,1,0,1,4,2,1,2,2,1,0,2,3,2,4,1,1,1,1,2,2,2,2,1,2,1,2,2,1,1,1,1,1,1,1,1,0,1,1,3,1,1,1,2,1,1,0,1,2,1,2,2,3,1,0,1,0,1,1,1,1,1,0,1,1,0,0,1,1,0,1,1,1,1,1,1,1,1,3,3,0,2,2,0,1,1,0,1,1,1,4,4,4,1,1,1,1,1,1,1,0,1,1,1,2,2,1,1,1,0,0,3,1,1,1,2,1,0,1,2,1,1,1,1,3,1,2,1,1,1,2,0,0,3,4,2,1,2,0,1,1,1,1,1,0,1,0,1,2,1,1,2,1,1,2,3,1,1,0,0,0,0,2,1,1,2,1,1,2,1,1,3,1,1,1,2,1,1,1,1,2,2,0,3,1,2,1,1,0,0,1,3,2,3,1,1,1,2,0,1,1,1,1,1,3,1,0,1,1,1,3,1,1,1,1,0,0,1,1,1,3,4,2,1,1,1,2,1,3,1,0,2,1,2,2,1,2,2,3,3,3,1,1,1,1,1,1,2,2,2,0,0,2,1,0,2,2,2,2,1,0,2,0,2,2,2,3,1,0,1,2,0,2,1,1,3,2,1,1,2,2,1,1,2,1,0,1,1,0,3,1,0,1,1,2,4,2,1,2,1,0,0,1,1,0,1,0,1,2,2,3,0,2,0,1,2,2,4,2,1,3,1,2,1,3,1,1,2,1,1,2,1,0,2,1,2,1,1,1,2,2,3,3,2,1,2,2,3,1,1,1,1,2,1,1,0,1,1,1,1,0,0,1,3,0,0,1,2,3,1,2,1,1,2,2,1,2,1,0,1,3,1,1,2,1,2,0,1,1,0,1,2,1,0,0,2,1,4,2,1,3,1,0,1,3,1,2,0,1,1,1,1,1,4,4,1,1,1,0,2,1,2,0,1,1,0,1,2,2,2,1,1,1,1,0,0,0,2,1,0,0,4,1,1,1,1,1,1,1,1,1,1,4,2,1,1,0,0,1,3,0,2,2,2,0,3,1,1,1,1,3,3,4,1,1,1,1,1,3,2,3,1,0,0,1,1,0,3,3,2,3,1,1,0,0,2,1,0,2,1,3,2,1,1,2,2,0,2,1,3,2,2,1,1,0,3,1,1,1,0,2,1,1,2,1,1,1,1,1,2,0,0,2,2,1,0,1,1,0,1,1,1,2,0,1,3,2,1,2,0,0,1,0,3,0,0,0,1,1,1,1,1,2,3,1,1,0,1,0,2,2,2,2,0,1,1,1,0,0,1,1,2,1,2,1,2,3,1,0,1,0,0,1,3,1,1,1,2,1,1,1,1,1,1,1,2,2,1,1,0,1,0,1,1,1,2,1,1,2,0,1,1,1,1,1,3,1,1,1,3,2,2,1,1,0,0,1,1,1,1,1,0,0,3,0,1,1,1,1,1,3,2,1,2,1,0,1,1,0,0,0,1,1,1,1,1,1,2,2,1,0,2,0,1,0,2,1,1,1,0,1,1,1,0,1,1,1,1,1,1,1,1,2,2,2,0,0,1,1,1,2,3,2,1,0,1,2,2,1,2,1,1,1,2,0,4,0,2,0,2,2,3,2,1,1,2,2,2,1,1,1,2,3,1,0,0,1,1,1,1,1,1,1,0,1,1,2,1,1,1,1,0,1,1,1,0,0,0,1,1,1,2,2,1,2,1,1,0,0,3,1,2,1,1,1,1,0,4,4,2,2,1,1,1,0,2,1,3,3,1,1,2,1,2,1,3,3,3,1,1,2,1,1,2,2,2,1,4,1,3,2,2,1,0,1,0,2,1,1,1,1,1,2,1,2,1,0,1,3,1,2,0,0,0,3,2,1,1,1,1,1,2,2,2,1,1,1,2,3,1,1,3,3,2,0,1,1,2,2,0,1,3,3,1,1,1,1,1,1,1,1,1,0,0,2,1,2,1,1,2,1,0,0,2,1,2,0,1,1,1,1,1,1,1,3,3,0,1,1,0,0,3,0,1,2,3,0,1,3,2,2,2,1,1,0,1,1,1,2,2,1,1,1,1,2,1,3,1,0,1,1,2,1,0,0,1,1,1,2,2,2,3,2,1,1,0,2,1,0,3,3,1,3,0,0,2,2,0,2,1,2,1,3,3,1,2,2,0,0,1,1,0,2,1,1,3,0,1,1,1,2,0,2,2,0,1,0,0,1,0,0,1,1,0,1,0,1,0,0,4,1,3,0,0,1,1,1,2,0,1,1,1,2,0,1,1,1,0,0,0,0,2,1,0,1,1,3,1,1,1,1,1,2,0,2,0,2,1,1,1,2,1,1,1,0,0,1,2,0,1,3,2,1,1,1,2,1,1,1,1,1,2,0,1,1,1,2,0,2,1,1,1,1,2,1,1,1,3,1,2,1,1,2,2,0,1,1,1,1,1,2,1,1,1,1,0,0,0,0,0,1,1,1,0,1,1,1,1,1,3,0,2,1,3,3,1,1,2,2,2,0,1,1,1,1,2,2,1,0,1,1,2,2,2,0,2,1,1,1,1,1,1,0,3,1,2,2,0,0,1,1,0,0,1,1,2,1,1,1,1,2,3,1,0,0,1,1,0,1,2,1,1,3,1,2,1,1,1,1,1,1,1,0,2,1,1,3,0,0,1,1,3,1,2,1,1,1,1,1,1,1,1,1,1,1,1,4,0,0,1,1,2,2,2,1,0,0,0,0,1,1,2,2,1,1,1,0,1,1,1,1,1,1,0,3,1,1,2,3,3,0,1,2,1,0,0,1,1,1,2,0,0,0,2,1,1,2,2,3,2,1,2,2,2,1,1,1,1,1,1,1,2,1,1,2,1,1,1,1,1,2,2,2,2,1,0,0,1,1,1,0,0,0,0,2,3,0,1,0,1,1,1,1,1,1,0,1,0,1,1,0,0,0,0,0,0,1,1,1,1,1,1,0,0,3,1,1,0,0,1,0,0,1,1,1,1,1,1,1,1,0,0,1,1,1,1,1,2,3,2,2,1,1,1,1,1,1,1,0,1,2,1,0,0,1,1,1,1,1,0,0,0,0,0,0,1,1,1,0,0,0,0,0,0,0,0,1,0,1,0,0,0,0,0,0,1,0,0,0,0,0,1,1,1,2,0,0,0,0,0,0,0,0,0,0,0,1,1,1,0,1,1,0,1,1,0,0,0,1,1,2,2,1,1,1,1,1,1,0,0,2,1,1,1,1,1,1,0,1,1,1,1,1,1,1,1,2,2,1,0,0,0,0,1,0,0,1,0,1,1,1,2,2,3,3,2,2,0,1,0,0,0,0,0,2,2,0,0,3,2,1,0,0,0,0,0,0,0,1,0,0,1,1,1,1,0,0,1,1,2,2,1,0,1,2,1,1,0,0,1,1,1,0,0,0,2,3,3,3,3,3,3,3,3,3,2,3,2,0,1,3,3,2,3,3,1,1,1,1,1,1,1,1,1,1,2,2,1,3,2,2,3,3,3,1,1,0,0,1,2,1,1,1,2,0,0,0,0,0,1,1,0,0,0,0,0,0,0,1,1,0,1,1,1,0,1,1,1,0,0,0,0,1,1,1,1,0,0,0,1,2,1,2,1,1,1,2,0,1,1,1,2,1,1,0,0,0,1,2,1,1,1,1,0,0,0,0,0,0,1,0,0,1,0,1,3,1,1,1,1,1,1,1,1,0,1,1,1,2,1,1,3,1,0,0,0,1,0,1,1,0,0,1,1,1,2,1,0,1,1,0,1,2,1,0,0,0,0,1,2,2,2,1,0,0,0,0,0,0,1,2,1,0,1,0,0,0,0,0,0,0,2,0,1,1,2,0,1,1,1,1,0,0,0,0,1,2,0,0,0,0,0,1,1,1,0,0,0,1,1,1,1,0,0,2,1,0,0,0,0,0,1,2,2,2,3,1,2,0,1,1,1,1,1,1,1,0,0,0,0,2,1,0,1,2,1,1,1,1,1,1,1,1,0,0,1,1,1,1,0,0,2,1,2,0,0,0,0,0,0,0,3,1,0,0,1,1,0,0,2,0,0,0,0,0,0,1,1,1,1,1,1,0,0,1,1,2,1,1,0,0,0,0,0,0,0,0,0,0,0,0,2,1,1,1,1,1,1,1,1,1,0,1,1,1,1,1,1,1,2,0,0,2,1,0,3,2,1,1,0,2,1,1,2,1,1,1,2,2,0,0,1,0,1,1,1,1,3,3,0,0,0,0,1,1,0,1,1,3,3,1,2,1,1,1,2,1,1,0,1,1,2,2,2,2,1,3,1,1,1,1,1,1,0,1,1,2,2,3,3,0,0,1,1,0,0,1,0,1,0,0,1,2,0,0,0,0,1,1,0,0,0,0,1,1,2,1,2,1,0,2,2,3,2,3,0,0,2,0,1,2,0,1,1,2,2,2,2,1,0,1,1,0,1,0,1,1,2,2,1,2,0,1,0,1,3,0,2,2,2,0,0,0,0,0,0,1,1,1,0,1,1,0,0,1,1,1,1,0,0,1,0,0,1,1,0,1,1,0,2,3,2,2,2,0,1,1,1,1,1,0,1,1,1,1,1,1,0,0,1,0,0,0,0,0,0,1,1,2,2,2,1,3,2,1,1,1,1,3,2,1,0,2,2,0,1,0,0,1,1,0,0,0,0,0,0,0,0,0,0,2,1,2,1,0,1,3,0,0,1,0,1,1,1,1,1,1,1,1,1,0,0,1,1,0,1,1,1,0,0,1,0,2,1,1,1,1,1,0,2,1,2,3,0,0,0,0,2,1,2,1,2,0,0,1,0,2,0,0,1,0,1,2,0,1,1,1,0,1,0,0,0,1,2,2,2,1,1,1,1,1,1,1,1,0,1,1,2,0,1,2,1,2,2,0,0,0,3,0,1,1,0,1,0,0,1,1,1,1,2,1,1,2,0,1,1,1,0,1,2,2,1,1,0,0,0,2,2,2,2,0,0,0,0,2,2,1,0,1,1,1,0,1,1,1,0,0,0,0,1,0,1,1,1,0,2,0,2,1,1,0,2,4,4,3,0,1,3,3,2,4,4,2,1,0,1,0,0,2,0,1,0,0,2,2,2,2,1,1,0,0,1,1,2,2,0,0,1,0,1,0,3,2,1,2,2,2,2,3,2,3,2,0,0,3,2,3,3,3,3,3,1,1,1,1,1,1,1,1,1,2,2,3,2,1,1,0,2,1,1,2,1,0,0,0,0,0,2,2,2,1,0,0,0,1,0,1,0,0,1,1,1,1,1,1,0,1,0,0,1,2,3,1,1,1,1,1,1,1,1,1,1,1,0,0,0,0,0,0,1,3,0,0,1,1,2,1,0,2,1,2,2,1,2,2,2,1,2,0,2,2,2,0,0,1,1,1,1,1,1,1,1,1,0,0,0,0,1,0,0,2,1,2,1,1,0,2,3,1,1,0,0,0,0,0,1,2,0,2,1,0,0,0,0,0,0,1,0,0,2,2,0,1,0,0,3,1,1,2,0,1,3,3,2,2,2,1,1,2,1,0,0,0,0,1,0,2,3,1,2,1,1,1,0,0,1,0,1,1,1,2,2,1,1,1,1,0,1,1,1,3,3,1,1,1,1,0,0,1,3,0,1,1,1,1,0,1,1,1,2,1,0,0,0,2,1,1,0,0,0,1,4,0,1,0,2,0,1,1,2,0,3,2,1,0,0,0,0,0,2,2,0,0,2,1,2,0,1,1,1,0,1,1,1,1,1,1,2,4,3,3,3,1,3,1,1,0,2,0,0,1,0,1,1,1,1,1,1,0,2,1,1,1,1,2,1,1,1,1,1,2,0,0,1,1,1,1,1,1,1,1,0,1,0,1,1,0,0,2,2,2,0,1,1,0,1,1,1,0,0,0,0,2,2,0,1,2,2,3,3,3,3,1,1,2,2,1,1,2,1,1,1,1,1,1,2,2,2,1,1,2,2,0,0,0,0,1,1,1,0,1,1,1,2,1,1,1,0,0,0,1,1,1,1,2,0,1,0,0,0,0,0,1,2,1,2,1,1,1,1,0,0,1,2,1,1,1,1,2,2,1,1,2,2,2,2,1,0,0,0,0,0,0,1,1,1,1,1,0,1,1,1,0,0,1,1,0,0,1,0,1,2,1,1,1,0,2,2,3,3,1,2,2,1,1,0,1,0,0,0,1,0,1,0,0,1,1,0,0,1,1,1,1,1,0,1,2,0,0,1,1,1,1,1,1,1,1,1,1,0,1,1,0,1,1,1,1,0,2,1,2,1,1,2,2,2,1,1,1,1,1,1,1,0,0,1,1,1,2,1,2,1,1,0,1,1,2,1,1,1,1,0,1,0,0,1,1,1,0,1,1,2,2,1,1,1,0,2,3,1,2,3,2,1,2,1,0,1,0,0,0,0,1,0,2,1,1,0,0,1,0,0,1,2,2,2,2,0,2,2,2,1,2,0,1,1,1,0,0,1,2,1,0,1,1,1,1,1,0,1,1,1,1,1,2,0,0,0,0,0,0,1,1,0,1,0,0,0,0,0,0,0,0,0,2,0,0,2,1,0,1,2,2,3,0,1,1,1,1,1,0,0,3,3,2,2,1,2,1,0,1,1,1,1,1,2,1,2,1,0,0,0,0,0,1,1,1,0,1,1,0,1,0,1,2,4,2,1,1,1,1,1,0,1,1,0,0,0,0,0,0,0,1,0,2,0,0,0,0,0,1,1,0,2,0,2,1,1,1,2,2,1,2,1,1,1,1,1,1,1,2,2,0,3,1,1,0,0,1,0,1,0,1,2,2,1,1,1,0,0,0,1,4,3,0,0,1,3,3,1,1,1,0,2,3,0,0,0,0,0,2,0,1,3,2,0,0,1,2,0,1,0,1,1,1,1,1,1,1,0,1,1,2,1,0,0,1,0,3,3,3,2,0,0,0,0,0,0,1,2,2,1,2,1,0,0,2,1,1,2,0,1,0,1,1,0,0,2,0,1,1,0,0,0,1,1,1,1,3,0,1,1,1,0,1,1,0,1,1,2,1,0,1,0,2,1,3,3,1,2,2,1,2,2,1,0,1,1,1,2,2,2,1,1,1,0,0,1,2,2,2,1,1,2,2,0,1,1,3,2,1,1,1,1,2,1,1,0,0,1,0,2,2,1,1,1,2,2,1,1,1,2,2,1,2,1,1,1,0,2,1,2,2,1,2,1,1,2,2,0,0,0,1,1,2,1,2,1,2,3,2,2,2,1,3,1,2,1,2,0,0,0,0,1,1,0,1,2,3,1,1,0,0,1,0,1,1,1,1,1,1,2,0,1,2,1,0,2,1,2,2,0,2,1,1,1,1,2,1,1,1,1,1,1,2,1,0,1,0,2,1,0,1,2,2,2,2,1,2,1,1,1,0,1,1,2,2,0,2,2,1,2,1,2,3,3,2,0,1,3,1,2,1,2,1,3,2,3,2,4,4,2,2,0,2,1,1,2,2,2,3,1,2,2,2,2,1,2,2,3,1,2,2,1,1,0,1,1,1,1,1,1,1,1,1,1,0,0,1,1,2,2,1,1,1,1,1,1,0,1,1,0,1,1,0,1,2,1,0,1,1,2,1,1,1,1,1,1,2,2,1,1,1,1,1,2,3,1,1,1,1,1,3,1,0,0,0,0,3,1,1,0,0,0,3,1,0,0,0,0,1,1,1,2,1,2,1,3,2,1,1,0,1,0,0,1,2,1,2,1,2,1,2,1,1,1,1,2,1,1,2,2,0,2,1,1,1,2,1,1,2,1,1,2,1,1,0,2,2,0,1,1,1,1,0,1,1,2,1,2,1,1,1,0,1,1,2,1,1,2,0,1,0,3,2,3,2,1,2,2,0,1,2,1,1,1,1,1,1,1,1,1,1,2,2,3,2,0,0,0,0,1,2,2,0,0,1,1,0,1,1,0,1,1,2,0,1,1,1,1,1,2,3,1,1,0,1,3,1,2,2,1,4,2,3,1,1,0,1,1,2,2,1,1,1,2,2,2,1,1,1,3,0,3,3,2,1,1,2,2,1,1,1,1,1,1,1,1,1,1,1,1,1,1,0,2,1,1,1,2,0,0,1,1,2,1,1,0,1,0,1,1,1,1,2,1,3,2,2,1,0,2,2,1,1,1,1,1,1,2,1,0,1,1,0,1,1,2,2,2,2,1,1,1,1,1,1,1,1,1,1,1,1,0,1,3,2,1,2,1,1,1,1,1,2,2,1,1,0,0,1,1,1,1,1,1,1,1,1,2,1,2,2,1,0,2,4,0,0,0,0,0,1,1,1,3,1,1,0,1,1,1,1,3,2,1,3,0,2,3,1,1,0,2,0,0,0,2,1,2,2,1,1,0,2,2,2,1,1,2,1,1,3,3,3,1,0,0,1,2,1,1,1,2,0,1,0,0,0,0,1,1,0,0,1,0,1,2,0,1,1,3,3,3,1,2,1,1,0,1,1,2,1,1,0,1,0,0,1,0,3,3,2,2,2,0,1,0,2,1,2,2,1,2,0,0,0,1,1,1,1,1,1,1,1,2,2,1,0,2,0,0,1,3,2,3,0,0,3,1,3,1,2,2,1,1,1,1,0,1,1,0,1,1,2,1,1,1,1,0,0,1,4,2,2,0,1,0,0,1,0,0,0,2,1,1,1,2,1,1,2,2,1,1,0,1,1,1,1,0,1,0,1,0,1,1,1,1,1,1,1,1,2,3,0,0,2,1,3,0,0,1,2,2,2,3,2,0,1,1,1,1,1,1,0,0,0,0,1,1,1,1,1,1,1,1,1,1,1,1,1,1,2,2,2,2,1,0,0,1,1,1,2,1,1,0,1,3,1,1,1,2,1,1,1,0,0,1,1,2,0,1,1,1,1,0,1,0,1,0,0,0,1,1,1,1,1,3,2,2,1,0,0,1,2,1,1,1,1,1,1,1,1,1,1,1,1,1,1,1,1,1,1,1,1,2,2,1,3,3,0,0,0,0,0,0,0,0,4,2,2,0,1,1,3,3,3,1,2,1,1,3,3,0,0,1,1,1,1,1,0,1,1,0,0,2,2,1,1,1,2,1,1,1,1,1,1,0,0,0,1,1,1,2,3,3,0,1,1,0,1,2,2,0,0,1,2,1,1,2,2,1,1,2,2,1,3,3,3,1,2,3,2,3,1,0,2,0,2,0,3,2,2,1,1,1,1,3,2,2,2,0,2,2,2,1,1,2,2,3,2,0,1,1,1,1,1,1,1,1,2,0,0,0,1,1,1,1,1,1,1,1,2,2,2,1,1,1,1,1,2,1,3,1,1,1,1,1,1,1,2,2,1,1,1,0,1,2,1,0,0,0,1,3,1,1,1,2,1,1,0,1,1,2,1,2,1,3,3,3,2,3,2,0,3,3,2,0,1,1,2,3,0,0,2,1,1,1,1,0,2,0,2,2,2,0,1,1,1,1,2,1,1,1,1,1,1,1,1,1,0,1,1,0,0,1,4,3,0,1,1,1,3,1,0,3,2,1,0,0,1,2,1,2,4,2,3,1,1,2,1,1,1,1,1,1,1,4,2,1,1,1,1,1,0,0,1,4,3,3,1,2,2,1,3,2,1,2,2,2,1,1,0,0,1,2,1,2,2,1,2,1,1,1,1,2,1,1,2,0,1,1,1,4,3,3,1,1,0,2,2,2,2,2,2,1,2,2,1,2,2,1,1,2,3,3,3,3,0,0,0,1,1,2,2,2,2,1,2,2,0,2,2,0,2,0,1,1,1,1,1,1,2,1,2,0,2,3,0,1,2,1,0,0,1,1,1,2,1,2,2,0,2,1,2,0,1,1,1,1,1,1,1,1,1,1,1,3,1,0,2,1,0,2,2,1,1,1,3,3,1,1,1,1,2,1,1,1,1,0,2,2,1,1,0,2,2,1,0,1,1,3,2,1,1,1,1,2,3,1,1,1,1,2,1,2,1,1,1,1,3,0,2,1,1,1,1,1,2,2,1,1,1,1,1,2,0,1,1,1,2,2,1,1,2,2,1,0,2,0,0,0,0,0,1,1,1,2,2,1,2,2,2,1,3,0,4,2,2,3,3,2,2,3,1,2,2,0,0,0,0,0,0,0,3,1,0,0,1,2,2,0,2,1,0,0,0,0,0,2,1,1,2,2,3,2,1,1,1,1,1,1,3,2,1,1,1,1,1,1,1,1,1,1,1,1,0,0,0,2,1,0,1,1,1,1,2,0,0,0,2,1,0,0,1,2,0,2,1,2,1,0,3,2,2,2,0,4,2,1,0,1,1,1,0,1,1,1,1,1,1,1,1,0,0,0,0,1,1,1,1,0,0,0,0,0,0,1,1,3,0,2,1,1,4,3,2,2,2,2,1,2,0,1,3,3,1,0,1,1,1,1,1,1,1,1,1,1,1,3,2,3,3,3,2,3,3,1,3,2,2,2,2,1,1,1,3,1,2,4,2,1,1,1,1,1,1,2,0,3,3,3,1,0,1,1,1,2,0,2,2,0,0,1,0,1,0,1,0,0,0,5,3,0,0,0,0,1,1,2,0,1,1,3,1,2,2,1,0,2,2,3,1,0,0,1,0,2,2,3,3,2,3,2,2,3,1,2,1,2,3,1,2,2,2,2,2,0,0,2,1,2,1,2,1,1,2,1,1,1,1,1,1,3,3,1,1,1,3,1,2,2,4,3,1,1,4,2,2,1,1,2,1,0,3,2,2,1,1,1,1,1,0,0,0,1,1,2,2,1,1,0,0,0,0,1,1,1,1,1,1,1,1,1,1,4,2,2,2,3,0,2,0,0,0,3,0,0,0,2,1,1,0,3,0,3,1,1,1,1,0,1,3,1,3,2,2,1,1,1,1,1,1,0,1,1,1,0,1,1,1,2,1,2,1,1,2,2,0,0,0,0,1,4,1,2,3,4,3,2,3,3,3,3,3,0,1,1,1,1,1,2,0,1,0,1,0,1,0,1,0,0,0,0,0,1,1,0,2,1,1,1,1,0,4,2,2,2,2,3,3,0,2,1,0,1,1,1,0,0,0,1,2,1,2,1,1,1,0,2,2,1,2,3,1,3,1,1,0,1,1,1,1,1,1,1,0,4,1,1,1,2,0,1,0,1,1,1,1,1,1,1,1,0,0,0,0,2,1,2,3,3,3,1,3,0,3,1,1,1,2,2,1,1,0,0,0,0,1,4,3,3,1,3,3,2,1,0,1,2,1,1,1,1,3,1,3,1,4,4,2,0,1,0,1,2,1,1,2,3,0,0,3,3,4,2,2,2,3,1,1,2,2,0,1,3,2,2,3,3,2,0,1,0,0,1,1,1,1,0,0,0,4,2,1,1,2,0,3,2,3,1,2,2,0,0,1,0,0,1,2,3,2,1,1,1,0,1,1,1,2,1,1,2,1,1,1,2,2,3,2,1,3,0,3,2,1,1,1,0,0,0,0,0,2,2,0,1,1,3,2,1,1,1,1,1,1,1,1,1,1,1,1,1,1,1,1,2,2,2,1,1,2,3,3,1,1,1,1,1,1,1,1,2,0,2,3,3,3,2,2,0,2,1,2,2,1,1,0,0,1,2,2,2,1,2,2,2,1,1,0,1,1,0,1,2,3,2,0,0,0,0,1,1,2,3,2,1,1,1,1,1,1,1,1,1,1,3,3,2,2,3,1,1,1,1,2,2,0,1,2,3,3,0,0,0,0,1,1,2,2,1,1,1,1,1,1,1,1,1,1,1,0,0,0,0,2,1,0,0,3,2,1,0,2,1,3,3,2,0,1,1,1,2,0,4,1,2,0,1,0,1,2,2,2,1,3,2,3,4,1,3,1,1,1,2,1,2,0,1,0,0,1,1,2,3,3,4,1,3,2,0,1,1,1,1,2,2,3,1,0,2,2,1,1,2,2,0,2,2,0,0,3,1,1,1,1,1,0,2,1,2,2,2,3,2,1,2,0,0,4,2,1,1,1,1,1,1,1,1,1,1,1,1,1,2,1,1,0,1,1,1,1,0,0,1,1,4,1,3,1,2,2,0,1,1,2,2,3,3,3,3,3,3,1,3,3,3,2,2,1,3,4,2,3,0,0,0,0,0,0,1,0,0,0,0,1,3,0,1,1,1,0,1,2,2,1,1,2,3,2,2,3,2,3,0,0,0,0,2,1,2,0,2,0,0,1,1,1,2,0,1,1,1,1,1,1,1,1,2,0,1,1,2,2,2,2,2,3,1,1,1,1,1,0,3,2,1,1,1,1,1,2,1,2,2,0,0,0,2,1,3,1,1,0,0,0,0,0,1,2,1,2,3,1,3,3,2,2,1,1,0,3,3,1,1,1,1,1,2,2,0,0,2,1,4,3,1,1,1,1,2,1,1,1,1,2,1,2,2,2,3,1,2,2,3,1,1,0,3,2,3,0,0,0,3,0,1,0,1,2,3,3,2,3,2,3,1,1,1,2,1,1,1,2,3,1,2,3,1,3,0,2,1,1,0,0,2,1,3,1,0,1,0,0,0,1,0,1,1,1,1,1,1,0,1,1,0,0,1,2,1,1,1,2,2,2,3,0,0,0,1,2,1,1,2,2,2,2,1,1,1,3,1,1,2,1,1,1,3,2,3,3,4,1,2,2,1,1,2,1,1,1,0,1,0,0,0,0,1,0,0,3,1,1,1,2,2,2,1,1,1,1,3,1,3,2,1,1,0,0,0,1,3,2,1,1,3,0,0,1,3,1,0,2,2,1,1,1,1,1,2,2,3,0,1,1,1,2,2,1,1,1,1,0,3,2,2,2,0,1,3,3,4,4,4,4,4,2,1,0,1,1,3,2,3,1,1,1,0,1,1,0,0,0,3,3,3,3,1,1,1,1,1,1,1,1,1,1,1,2,1,2,2,1,1,1,0,4,1,1,1,1,2,1,1,1,2,2,2,1,2,3,0,2,1,2,2,1,1,3,2,1,1,1,0,2,2,2,3,1,1,1,1,1,1,1,0,3,1,3,1,0,1,2,0,0,2,2,1,2,1,2,2,1,1,1,2,1,2,1,1,2,2,1,3,1,5,4,1,2,1,0,0,3,1,1,1,0,0,1,0,0,0,0,0,0,0,0,1,0,0,2,1,0,1,2,1,0,2,0,0,0,2,1,2,2,1,2,0,1,0,0,0,0,0,0,0,0,0,3,1,1,3,1,1,1,1,1,1,1,1,1,1,1,2,2,1,0,0,0,0,3,1,3,3,1,1,2,3,1,1,1,3,2,2,1,1,0,1,1,1,1,0,1,0,1,1,1,4,1,1,1,1,1,2,2,1,2,1,1,1,2,1,1,2,2,2,1,0,1,1,1,2,1,1,1,0,1,0,1,1,3,3,3,3,2,2,3,2,0,0,1,1,2,3,2,3,3,1,2,3,4,1,0,1,2,2,1,2,1,1,0,2,1,2,1,0,0,1,1,0,0,1,2,2,0,0,3,2,1,1,1,3,1,2,0,2,2,1,1,0,1,2,1,1,0,1,0,2,1,1,1,2,1,0,0,2,0,1,3,1,1,1,1,3,2,2,1,1,1,1,1,1,2,2,1,1,0,1,1,2,2,1,2,0,0,1,1,1,1,1,1,1,3,0,0,3,1,1,1,1,1,1,1,0,1,1,2,1,2,1,1,3,2,2,2,2,0,0,1,1,2,2,1,1,2,2,1,2,1,2,1,1,0,1,1,3,3,1,2,0,2,1,1,1,3,1,4,4,4,2,1,1,1,2,0,1,1,1,2,2,1,1,2,2,1,4,1,2,1,1,1,2,1,2,2,1,2,1,0,1,2,5,3,3,0,0,1,1,1,2,2,2,2,2,0,1,1,1,1,0,2,1,1,1,1,2,2,2,2,1,2,1,0,1,0,1,2,0,1,1,3,0,1,1,1,1,1,0,0,0,1,1,2,3,1,0,2,3,2,1,2,1,1,1,1,1,1,3,1,0,1,2,0,3,2,3,0,0,0,2,1,1,2,2,2,2,2,4,1,1,2,1,1,0,1,1,1,0,1,2,2,2,1,1,1,1,2,2,1,1,0,3,3,1,2,0,3,3,2,3,2,1,1,0,1,1,2,2,1,1,1,0,1,2,1,3,1,0,0,2,2,1,0,2,1,1,1,1,1,0,1,1,1,3,2,2,2,1,0,2,1,1,1,3,3,3,2,2,3,2,1,1,1,1,2,3,1,1,1,2,1,0,1,1,1,2,3,2,2,0,1,3,3,0,0,2,1,1,0,3,1,1,1,1,1,1,0,2,1,1,1,1,1,2,1,1,1,3,2,2,2,1,4,1,1,3,2,2,2,3,2,1,1,1,1,1,2,1,0,1,4,2,1,1,0,1,0,2,1,2,4,3,1,3,2,2,0,0,1,2,4,1,1,2,0,2,3,2,2,2,0,1,0,1,2,3,4,2,2,2,2,1,1,0,1,1,1,0,0,1,3,1,1,1,1,1,1,2,1,1,1,2,1,2,2,3,0,0,0,2,2,0,2,0,1,1,1,2,1,2,1,3,3,0,0,0,0,0,3,1,2,1,2,2,1,1,1,2,1,1,1,1,1,1,2,4,1,0,1,1,1,1,1,1,0,1,1,1,3,0,3,3,0,1,1,1,0,0,0,1,2,2,0,2,1,1,1,2,1,2,2,3,2,2,2,0,0,0,0,3,2,1,2,1,1,1,2,1,0,1,3,3,3,1,1,2,1,1,1,2,2,1,1,1,2,1,1,1,2,3,3,3,0,0,1,1,1,1,2,2,2,2,2,2,3,3,2,2,2,0,0,2,2,3,2,1,1,0,1,0,0,3,1,2,4,2,2,1,1,1,1,0,2,3,0,1,3,3,3,1,2,2,1,1,1,1,4,2,0,1,1,1,2,3,1,1,1,1,3,1,2,1,1,0,2,1,0,0,1,1,0,2,2,3,1,1,0,1,2,0,2,3,0,2,0,1,1,2,1,1,0,1,3,3,1,1,2,1,2,1,1,1,1,1,0,1,1,1,1,0,0,2,2,2,1,1,1,1,1,3,3,1,1,3,2,1,2,2,1,1,2,1,1,1,1,2,2,0,1,1,2,1,1,3,2,3,2,1,1,1,0,0,1,2,1,1,1,1,2,2,1,1,1,1,0,1,1,1,4,1,2,4,0,2,2,1,2,2,1,1,1,1,0,1,1,1,1,1,2,2,2,2,1,2,2,2,1,1,1,1,0,1,1,1,2,0,2,2,0,3,2,0,0,1,1,4,3,2,1,1,2,3,3,0,0,4,3,2,1,3,4,0,0,2,2,2,2,1,1,1,1,1,1,1,0,1,0,1,1,2,0,0,1,2,2,0,2,1,0,0,2,3,1,1,2,1,1,1,3,2,2,1,1,1,0,1,0,2,1,1,1,1,1,1,0,1,0,2,2,1,1,1,2,1,1,1,2,2,1,1,1,1,1,1,1,1,1,0,1,1,2,1,1,1,1,1,1,0,1,1,1,1,1,0,1,1,1,1,0,2,1,2,2,0,1,1,2,1,1,3,2,4,1,1,1,0,0,0,1,1,0,0,0,1,3,2,1,1,1,2,1,0,0,3,1,1,1,1,0,0,2,2,1,1,0,1,1,1,0,1,1,0,0,0,2,3,2,2,3,1,2,1,1,2,3,3,1,1,0,0,1,1,1,1,1,2,3,3,3,1,1,0,0,0,1,3,2,0,3,3,3,4,1,1,2,3,0,1,0,1,0,2,1,0,1,1,0,0,0,1,1,0,0,0,0,1,1,1,3,2,3,0,1,2,5,2,0,0,1,1,1,1,2,0,1,2,3,1,3,3,1,1,0,0,0,1,0,1,1,1,1,4,1,0,1,1,1,1,1,1,0,0,1,0,0,2,1,3,2,1,2,1,1,0,2,2,1,1,1,0,1,2,1,2,1,0,1,1,2,4,0,0,3,3,1,2,0,1,2,1,1,0,1,1,1,1,1,1,1,1,2,2,2,1,1,2,2,2,1,2,2,0,1,1,2,0,2,0,0,1,1,0,0,0,1,1,1,1,3,3,1,1,1,0,2,2,0,1,1,1,1,3,1,1,1,0,0,4,1,0,3,0,0,1,2,1,3,2,2,2,1,1,0,1,2,0,1,0,0,2,1,1,1,4,0,0,3,2,2,2,0,1,1,4,2,2,0,1,0,3,1,1,1,1,2,3,4,0,1,1,1,3,1,3,2,1,1,0,0,0,1,2,1,2,1,0,3,3,1,3,3,0,1,2,1,2,1,1,1,1,2,2,1,1,3,2,2,2,1,1,0,0,3,1,2,1,4,1,4,2,1,0,1,3,0,4,1,1,2,1,1,0,0,1,2,1,1,2,2,2,1,1,3,0,0,1,2,1,1,3,3,1,2,1,1,1,3,1,1,1,2,2,3,1,2,0,3,3,1,1,1,1,0,3,0,0,0,2,3,1,1,1,3,2,0,0,3,0,0,2,2,4,1,1,2,2,1,1,1,3,2,2,2,1,1,3,1,2,1,1,1,1,1,1,1,2,2,1,2,1,1,1,3,2,0,0,1,2,1,1,1,1,1,0,2,0,0,0,1,0,0,2,2,0,1,1,0,0,1,2,2,1,2,2,2,2,2,1,1,1,0,1,1,1,1,0,1,1,2,1,1,2,1,0,0,1,0,1,1,0,0,0,2,2,1,2,1,3,4,1,2,1,1,0,0,4,5,2,1,1,2,0,1,1,2,1,1,1,2,1,1,1,1,2,1,1,3,2,1,2,4,1,1,0,0,3,3,1,1,1,1,3,3,1,1,0,1,1,0,2,2,2,0,0,0,1,1,3,2,2,1,1,1,3,0,0,3,3,2,1,3,2,3,3,3,3,2,0,1,1,3,3,2,3,0,2,0,0,0,0,2,2,1,1,2,2,1,1,0,1,1,1,0,1,2,0,3,2,2,1,1,1,1,3,0,0,1,1,1,1,1,1,1,1,1,2,1,2,2,1,2,2,1,2,1,1,1,1,0,1,1,1,1,3,2,0,1,1,2,0,3,0,1,0,1,0,1,1,1,1,2,2,2,1,1,3,2,2,0,1,2,2,1,2,1,2,2,1,0,1,1,1,0,0,0,0,0,2,1,0,1,0,1,1,2,0,0,2,0,2,1,2,2,1,2,3,0,0,2,1,1,0,2,3,3,4,1,1,1,1,1,1,2,2,1,1,1,1,2,4,2,2,2,1,1,0,0,3,1,2,2,0,2,1,1,0,0,0,0,0,0,1,0,0,1,0,1,1,0,0,0,1,1,0,0,1,1,1,0,2,0,0,0,0,0,0,0,0,0,1,0,0,3,3,1,1,0,0,1,0,0,0,0,0,2,1,0,0,0,0,2,1,2,1,0,2,1,0,1,1,2,3,1,2,2,1,1,1,1,1,2,2,1,1,1,1,1,1,2,1,1,0,1,0,0,2,3,0,1,3,3,3,3,0,1,1,2,3,2,2,2,1,1,1,2,0,0,2,2,1,0,1,3,0,0,2,2,2,1,3,2,2,2,3,1,0,0,0,1,0,1,1,1,0,0,0,0,0,0,0,1,0,1,2,1,1,1,1,1,1,0,3,2,2,3,0,1,1,0,0,0,0,1,3,1,1,1,1,0,1,1,3,0,3,1,1,2,1,0,0,0,2,0,1,0,1,1,0,0,1,2,2,0,1,0,1,1,1,0,1,3,3,1,0,2,0,1,1,1,1,1,2,2,2,0,1,1,0,2,1,3,3,2,2,2,2,1,2,1,0,0,0,3,0,1,1,0,1,1,1,1,3,2,1,1,1,2,1,2,0,2,1,1,1,2,1,0,0,0,0,1,2,1,1,2,3,2,2,1,2,1,0,1,1,1,1,1,2,2,3,0,0,1,2,1,2,0,0,0,1,2,3,2,1,1,1,0,0,3,3,1,1,1,0,1,1,1,2,3,2,1,1,2,0,3,2,1,1,1,2,2,1,1,1,1,0,1,1,1,1,0,1,2,1,1,1,1,1,1,0,2,1,2,1,1,2,1,0,1,0,1,2,2,2,1,0,1,1,2,0,3,1,1,0,0,2,3,3,1,1,2,1,0,2,1,2,0,1,2,2,1,1,1,0,0,0,0,1,1,0,0,0,1,1,2,1,1,2,3,1,2,0,1,1,0,0,0,0,0,1,2,2,1,1,2,2,2,1,2,2,2,1,1,1,1,3,1,0,1,1,1,1,1,1,1,0,1,0,0,2,0,1,1,1,1,1,1,1,1,1,1,1,1,1,2,2,1,1,1,2,0,0,2,2,2,3,3,3,2,2,0,1,0,1,1,1,0,0,3,3,2,3,0,1,1,0,1,1,1,1,1,0,1,0,0,0,0,1,1,1,1,1,1,3,1,1,1,1,1,1,1,2,1,1,1,1,1,1,0,2,0,2,2,2,1,3,0,0,1,0,2,2,0,0,1,1,0,2,1,1,1,1,2,1,2,2,2,0,1,1,2,0,1,1,1,1,3,1,1,1,2,0,0,2,2,2,3,1,1,1,1,0,0,1,0,0,1,1,1,1,1,1,1,1,0,1,2,1,0,1,1,1,2,2,2,1,1,1,1,0,0,0,1,1,1,1,1,1,2,1,1,1,0,1,1,3,3,3,3,1,1,1,2,0,0,1,1,0,1,2,1,1,2,0,1,2,0,2,1,1,1,0,1,2,1,1,1,2,3,2,2,3,3,3,1,2,2,1,1,1,1,1,1,1,1,1,0,1,1,1,0,4,1,1,0,1,1,2,3,2,1,0,1,1,2,1,2,1,2,4,2,2,2,2,0,1,1,1,1,1,2,2,1,2,1,2,0,4,4,1,1,2,2,2,2,1,1,0,1,1,1,2,2,2,2,1,1,1,0,0,3,1,0,2,1,1,1,2,2,0,0,1,3,2,3,1,0,1,1,1,1,0,2,1,2,1,1,1,1,0,2,2,1,0,0,1,2,0,0,0,1,0,3,1,0,1,2,1,1,0,1,2,3,1,1,1,0,3,1,1,1,2,0,1,1,1,3,2,3,2,1,0,1,2,0,0,1,1,1,1,1,2,0,2,3,2,0,2,1,1,1,1,1,4,2,2,0,0,1,0,0,0,2,1,0,0,3,1,2,3,1,2,1,1,2,1,0,1,0,1,1,1,1,3,2,0,1,0,0,1,0,1,2,1,1,1,1,1,1,0,1,1,3,2,1,2,3,2,2,2,2,2,2,0,2,1,3,3,2,1,0,0,0,3,1,1,1,1,0,0,1,1,1,2,2,1,1,2,1,1,0,1,1,2,2,4,1,0,1,1,0,0,0,0,0,1,1,1,1,3,3,2,1,1,1,1,3,2,4,4,3,3,2,0,2,0,1,1,1,1,1,1,3,1,1,1,2,2,1,1,1,0,0,2,2,1,1,1,1,2,2,2,2,2,0,2,0,2,2,2,2,2,1,1,1,1,1,2,0,0,2,2,1,2,2,3,1,2,1,1,1,1,1,2,1,1,2,2,3,1,2,1,0,0,2,2,3,3,2,0,1,1,1,3,0,1,1,1,2,3,0,2,2,1,1,1,0,2,2,1,1,1,1,1,2,2,2,1,1,1,0,0,1,0,2,0,1,0,1,2,0,1,0,1,2,2,0,2,3,4,4,4,4,3,1,1,1,1,2,2,0,1,3,4,3,1,2,4,1,1,0,0,3,1,1,1,2,1,3,3,0,1,2,1,1,1,0,1,1,0,1,1,1,0,0,1,1,2,2,3,2,1,1,1,4,0,0,0,0,0,0,0,0,0,1,1,1,3,3,2,1,1,1,1,2,1,0,2,2,1,2,2,1,2,2,1,1,2,3,3,1,1,1,1,1,1,1,1,1,0,1,0,1,1,1,3,0,1,1,2,1,1,1,1,1,1,1,1,2,2,1,1,1,1,1,1,2,2,2,3,2,1,1,1,1,1,2,1,1,0,1,2,0,2,2,1,2,1,1,1,2,2,3,0,0,2,2,1,1,2,1,1,1,1,1,1,3,2,2,2,3,3,1,2,2,0,3,2,3,1,2,2,1,2,2,1,1,3,1,2,1,2,1,3,4,3,2,2,1,1,1,1,1,1,1,2,3,2,2,2,2,1,1,1,1,1,1,0,1,2,0,1,0,3,1,1,3,1,1,1,2,0,1,3,1,1,1,1,1,1,1,1,1,1,1,2,2,2,0,2,3,1,3,1,3,3,0,1,1,1,2,2,1,1,2,1,2,4,4,1,1,1,1,0,0,1,2,1,1,1,2,2,0,1,0,1,3,1,1,1,1,0,2,0,1,2,0,0,0,1,0,0,2,1,1,3,1,1,2,1,1,1,3,1,1,1,0,2,2,1,1,1,1,0,1,1,1,2,1,1,3,1,3,1,0,1,0,0,1,2,2,1,3,2,2,1,1,1,1,3,3,3,0,1,2,1,1,1,1,1,1,1,0,0,1,1,1,1,1,1,3,0,1,1,0,3,2,1,1,2,4,3,3,0,1,1,0,1,1,1,1,1,1,1,1,1,2,2,1,3,2,1,1,2,1,1,1,1,1,0,1,0,3,3,2,1,2,2,1,1,1,1,1,1,1,1,1,1,2,1,2,1,3,1,2,1,0,0,2,3,1,0,0,3,1,0,1,0,4,1,1,1,1,1,1,0,1,2,3,3,3,1,0,2,1,2,2,2,2,1,0,1,2,2,2,1,2,2,2,1,0,1,1,1,1,2,3,1,1,1,1,1,1,1,1,1,1,0,0,1,1,1,1,1,0,1,1,2,1,1,1,0,1,1,0,3,1,0,1,3,3,3,1,1,2,2,2,2,1,1,1,1,1,1,1,1,1,1,2,3,3,3,1,2,2,2,2,1,4,1,2,2,2,2,1,1,1,1,1,0,0,2,2,1,1,0,3,2,1,1,1,2,1,1,2,1,1,1,2,2,3,3,3,1,0,1,2,1,1,1,0,0,0,1,1,3,3,1,0,1,1,1,0,1,2,3,1,1,1,3,3,3,2,1,0,0,1,3,1,1,1,1,1,1,2,0,4,3,3,3,1,2,1,1,0,1,1,1,0,2,3,3,1,2,0,0,1,1,2,4,2,1,1,1,2,1,1,1,1,1,2,1,0,3,2,0,1,3,2,0,0,1,0,1,2,2,0,1,1,3,1,1,0,1,0,3,2,1,2,1,1,1,2,1,0,2,0,1,0,1,0,0,1,2,2,1,1,1,1,1,1,1,1,2,2,1,1,0,2,0,2,2,2,5,0,3,0,1,1,1,1,3,2,2,2,1,1,2,2,0,1,0,1,1,2,2,1,1,1,1,2,1,1,1,2,1,1,1,0,1,0,1,3,1,1,0,2,1,0,1,1,1,1,0,3,3,1,1,3,0,1,3,3,2,2,0,2,2,1,1,1,1,2,0,1,1,1,1,4,0,0,1,1,1,2,2,1,1,3,3,1,1,1,1,1,1,0,1,2,1,1,0,1,1,4,1,0,1,3,2,0,0,1,0,1,1,1,1,0,1,1,0,0,1,3,3,3,3,2,2,1,0,0,2,2,1,1,2,1,1,2,2,2,1,1,1,2,3,3,1,2,1,1,1,3,0,3,3,2,3,1,0,1,1,1,1,1,0,1,0,0,1,1,1,1,1,0,1,1,0,1,1,2,1,1,1,2,1,1,1,0,1,1,4,4,4,0,1,1,1,1,2,1,1,1,2,3,1,1,1,2,0,0,1,1,2,0,1,2,0,2,1,1,1,1,2,1,1,0,2,0,0,1,2,3,1,1,1,2,0,0,3,4,2,3,1,1,2,1,0,2,3,1,0,0,0,0,1,2,1,2,1,0,1,1,1,0,1,0,1,1,1,2,0,1,1,1,2,1,0,3,3,3,1,1,1,1,1,1,1,1,3,1,0,2,1,1,0,2,2,1,2,0,2,1,1,1,1,1,2,2,0,1,1,1,1,2,1,0,1,2,1,0,2,1,1,1,1,0,2,2,0,1,1,1,1,1,1,0,0,1,1,0,0,1,1,1,4,1,1,1,2,2,2,1,0,1,0,1,1,0,1,1,2,1,1,1,1,1,0,3,1,0,4,3,2,3,2,1,1,2,2,2,2,1,0,3,1,0,0,1,2,1,1,1,1,1,2,2,2,2,2,1,1,1,1,1,0,0,2,2,0,1,1,0,2,3,0,3,3,1,2,1,2,3,1,1,1,1,1,1,2,1,3,1,2,1,1,2,2,0,0,2,2,2,2,1,2,1,1,2,1,1,1,0,1,1,0,1,1,0,1,1,1,1,0,1,1,1,1,2,1,1,1,1,1,1,1,1,3,2,1,0,0,1,1,1,1,1,1,1,1,1,1,1,0,1,2,2,2,1,4,1,1,2,2,1,1,1,1,1,2,1,1,2,1,0,2,1,2,1,2,1,2,0,1,5,1,1,3,2,1,1,2,1,1,2,0,1,2,1,1,2,2,3,1,2,1,1,2,1,3,1,4,1,1,1,1,1,0,0,3,1,1,1,0,2,3,1,1,0,0,1,1,1,2,0,0,1,1,1,1,1,1,1,1,2,1,2,2,1,1,1,1,0,2,1,1,1,1,0,1,1,0,1,2,2,1,2,3,3,1],\"xaxis\":\"x2\",\"yaxis\":\"y2\",\"type\":\"histogram\"},{\"alignmentgroup\":\"True\",\"bingroup\":\"x\",\"hovertemplate\":\"readmitted=NO\\u003cbr\\u003eMedicinas_tomadas=%{x}\\u003cbr\\u003ecount=%{y}\\u003cextra\\u003e\\u003c\\u002fextra\\u003e\",\"legendgroup\":\"\",\"marker\":{\"color\":\"#636efa\",\"pattern\":{\"shape\":\"\"}},\"name\":\"\",\"nbinsx\":11,\"offsetgroup\":\"\",\"orientation\":\"v\",\"showlegend\":false,\"x\":[1,2,1,2,2,0,0,1,1,1,1,0,1,0,0,2,0,1,0,1,0,1,0,0,2,4,1,0,1,1,1,0,1,1,0,1,0,2,2,2,1,3,3,2,1,1,0,2,0,0,1,2,1,0,2,0,0,1,1,1,1,1,1,2,2,1,1,0,2,1,1,1,2,0,0,1,1,1,2,0,2,1,2,2,1,1,0,1,0,0,0,0,1,1,2,1,1,1,0,1,1,1,1,0,1,2,1,1,2,1,1,0,1,2,0,1,1,2,1,0,0,1,0,1,1,0,2,5,2,2,1,1,2,0,2,3,0,0,2,1,0,0,2,1,0,0,1,0,0,0,2,0,3,1,0,0,2,1,1,1,1,0,0,0,0,1,0,1,0,0,1,1,2,0,2,2,0,1,0,1,2,0,1,1,0,1,0,0,1,1,2,1,1,2,1,2,2,1,1,1,2,1,2,1,1,0,0,0,2,1,0,1,1,1,0,3,1,0,0,1,0,1,0,1,2,2,1,2,0,1,2,1,2,2,0,0,2,1,1,2,1,1,1,1,2,0,1,3,1,1,0,2,1,2,1,0,2,2,2,3,1,1,2,1,1,0,0,1,1,1,2,0,3,2,1,3,0,1,2,0,1,0,2,1,1,2,1,1,2,1,3,1,3,0,2,2,2,1,1,0,0,2,2,2,0,1,0,0,1,1,1,0,2,1,0,0,1,0,1,0,1,1,0,1,1,1,1,2,1,1,1,1,0,0,3,2,1,0,1,1,1,1,0,2,2,1,1,1,1,1,1,1,1,0,1,0,1,2,1,1,1,2,0,0,1,1,1,3,3,2,2,2,1,1,0,1,4,1,1,0,1,2,0,1,1,1,2,2,1,0,1,0,0,2,1,1,1,1,0,2,1,0,1,1,0,0,1,2,0,1,1,1,2,0,1,2,0,0,1,1,2,1,0,1,0,0,1,1,1,0,0,0,1,0,1,2,1,0,0,2,1,2,0,0,1,1,1,2,1,0,1,0,1,3,0,1,0,2,2,1,2,1,1,1,0,3,0,2,2,1,3,0,2,2,2,4,0,1,1,1,1,1,0,1,2,0,1,1,2,1,0,1,0,1,0,1,1,1,2,2,2,2,0,1,0,1,1,1,0,0,0,1,3,1,2,1,2,1,1,2,1,2,0,0,0,3,0,1,1,2,3,2,0,1,1,1,1,2,1,0,2,0,1,0,0,0,1,1,1,0,1,2,1,2,0,2,2,1,1,2,2,1,0,0,1,1,1,0,0,2,1,2,2,2,2,1,1,1,1,0,0,0,1,1,1,1,1,2,1,0,1,1,0,1,1,0,1,0,2,1,1,2,1,0,0,1,1,2,2,3,1,0,1,2,1,3,2,0,1,2,2,1,1,2,0,1,1,3,0,1,0,1,0,1,1,4,0,1,1,1,2,0,1,1,1,2,3,1,3,2,1,2,0,1,0,1,0,1,1,2,1,1,2,0,1,0,1,1,1,1,2,1,2,0,1,0,2,0,1,1,2,3,1,1,1,1,3,2,0,2,1,1,0,1,2,0,0,2,0,1,2,1,0,3,2,1,3,3,1,0,1,1,1,0,1,0,1,1,0,1,0,1,2,0,0,2,1,3,1,6,1,1,1,0,2,0,0,1,2,3,1,1,0,1,1,3,0,3,1,0,1,1,1,1,2,1,1,3,2,1,2,0,0,2,1,1,2,1,1,1,1,1,0,1,1,1,0,1,1,2,1,1,2,1,0,0,3,3,0,1,0,2,1,0,2,1,2,1,0,1,1,0,1,0,0,1,1,2,0,1,1,1,0,2,1,0,0,1,3,1,1,0,1,1,1,3,0,1,0,1,1,1,0,0,3,1,0,0,1,1,1,1,0,1,0,2,0,3,2,0,1,2,0,2,1,1,1,0,4,1,1,0,2,1,1,0,0,1,1,1,1,0,1,1,1,3,2,1,2,1,0,1,2,0,0,0,1,1,1,1,1,1,1,0,1,1,1,1,1,1,0,0,1,0,2,2,0,0,1,2,2,0,1,0,1,2,0,1,0,1,1,1,1,1,1,3,0,1,1,1,1,0,0,1,1,0,2,0,1,1,1,0,3,1,0,0,1,2,1,0,1,1,3,1,0,2,1,0,1,2,0,2,1,2,1,2,0,1,0,2,1,3,2,0,2,1,1,0,1,0,4,0,1,1,0,1,2,0,1,0,1,1,2,0,2,1,1,0,0,1,0,2,1,2,0,2,1,0,1,1,2,1,1,1,2,2,2,1,1,1,1,0,1,0,1,2,2,2,1,2,1,0,1,1,1,0,1,1,0,1,1,1,1,2,1,1,0,2,1,1,1,1,1,1,0,1,4,0,1,1,2,1,2,1,2,0,1,2,0,1,1,1,1,0,3,0,1,1,1,2,2,2,1,0,2,2,2,2,1,2,0,1,1,1,1,0,2,2,1,2,0,2,0,2,1,1,0,1,1,2,1,1,2,1,1,0,2,1,1,1,1,1,3,1,0,1,1,2,0,2,0,0,1,0,0,0,1,0,0,1,0,3,1,1,2,0,1,1,0,1,0,2,0,2,1,2,2,2,1,1,0,1,1,0,2,1,1,1,2,1,0,1,3,0,1,0,2,1,1,2,0,1,1,2,1,1,1,1,3,1,2,1,2,1,1,1,0,0,1,1,3,0,0,2,2,2,2,1,2,2,1,2,1,2,3,1,3,0,1,1,1,1,2,4,0,1,1,1,1,0,0,1,1,1,1,3,1,0,1,1,1,2,1,2,0,1,1,0,0,1,1,0,1,1,1,2,0,2,3,1,1,2,1,1,0,0,1,1,2,1,1,2,2,0,0,3,0,2,2,0,0,1,1,2,1,1,0,1,3,1,1,0,1,1,0,1,1,1,0,2,1,1,0,1,1,1,1,2,0,0,1,1,1,1,1,1,0,0,1,1,0,1,0,1,2,1,1,3,1,4,1,1,0,1,0,0,1,2,1,2,1,2,1,0,1,0,0,1,0,0,0,1,3,1,1,1,2,1,0,0,1,0,1,0,1,1,1,0,1,1,2,2,1,1,2,1,0,0,2,1,1,2,1,1,0,1,2,2,3,1,0,3,1,1,3,1,0,1,0,1,1,0,2,0,1,1,1,1,2,1,1,1,1,2,0,1,0,1,1,2,1,1,2,0,0,1,1,0,0,2,2,1,0,2,1,0,1,1,0,1,1,2,0,1,1,0,1,2,1,0,1,0,1,1,1,0,0,3,2,1,1,1,0,1,0,0,0,2,1,1,2,0,2,0,1,0,3,0,1,2,2,1,1,1,0,2,2,1,0,3,0,1,1,0,2,1,2,1,1,2,0,2,1,0,2,3,0,1,0,3,0,1,1,1,1,1,1,0,0,1,2,3,1,2,1,0,2,1,1,1,1,2,0,0,1,1,1,1,0,0,1,1,1,1,3,1,1,1,2,2,0,2,0,1,1,1,2,0,1,2,1,2,2,0,1,0,1,1,0,1,1,2,2,1,1,1,1,2,0,1,2,2,1,1,0,1,0,1,1,1,0,0,0,1,0,1,0,2,0,1,0,1,0,1,0,0,1,1,2,1,1,0,1,0,0,1,0,0,1,0,1,2,0,1,0,1,1,2,1,1,1,1,1,1,0,0,1,0,0,1,0,0,1,1,0,3,1,3,3,2,2,1,3,0,1,1,1,1,1,3,0,1,1,0,3,0,1,4,0,1,1,0,0,1,1,1,1,0,1,3,1,1,2,2,1,1,3,1,1,1,1,1,4,1,1,2,1,3,0,1,0,0,1,0,3,1,0,0,0,1,1,2,1,1,1,1,0,2,0,1,2,0,1,1,2,3,2,2,1,2,2,1,1,1,0,1,1,2,1,0,1,2,1,0,0,0,0,2,0,1,3,0,3,0,0,1,1,3,0,1,0,1,3,0,1,0,0,2,1,0,0,1,1,0,0,1,4,0,1,2,1,2,1,4,3,1,0,3,2,0,1,1,1,1,1,1,2,1,1,2,0,1,0,2,0,1,1,1,0,1,1,2,0,0,3,1,1,1,0,0,1,1,1,1,1,0,1,1,0,2,1,0,1,2,1,1,0,2,1,0,2,1,0,3,3,1,0,0,1,2,0,1,1,1,1,1,0,1,1,0,1,2,0,2,1,1,2,2,1,1,0,1,2,1,1,0,0,1,2,2,0,1,1,1,2,0,0,2,1,0,1,1,1,1,1,0,1,1,0,1,1,0,0,2,0,2,1,2,1,1,2,4,1,1,0,4,0,3,1,1,0,1,1,1,2,3,2,1,0,1,1,1,0,1,1,2,1,1,1,1,1,0,1,2,1,1,0,1,2,1,1,3,1,1,0,2,1,2,0,1,0,0,1,2,2,0,1,0,1,0,1,1,2,1,2,1,0,0,2,1,0,0,1,1,1,4,0,1,1,1,1,1,0,1,0,2,0,0,1,1,1,2,0,1,0,1,1,0,1,1,2,3,1,0,0,0,2,1,2,1,0,0,1,1,1,0,0,1,1,2,2,1,1,1,0,1,1,1,0,0,1,1,1,0,0,2,0,2,0,0,1,0,1,3,1,1,1,0,1,1,0,1,1,1,1,0,2,0,1,1,1,1,1,1,1,0,1,2,1,0,1,1,1,2,1,2,0,1,1,2,1,1,1,1,0,2,1,3,0,3,1,1,2,1,0,1,1,0,3,1,2,1,1,0,1,0,2,1,2,3,1,3,0,2,1,2,0,1,0,1,1,1,1,0,1,1,0,1,0,2,1,1,1,1,1,0,1,1,1,0,1,1,2,1,0,0,0,1,0,4,3,1,1,1,0,1,0,1,1,2,1,2,0,1,0,0,0,2,1,0,1,2,1,1,1,1,1,0,0,0,1,3,1,2,1,0,0,1,1,1,1,0,0,0,0,0,1,2,1,1,1,1,0,1,3,1,2,1,4,1,2,0,0,1,2,0,1,1,3,1,0,1,2,2,0,0,1,0,1,0,1,4,1,0,1,3,2,2,1,1,1,1,1,0,0,1,2,1,0,1,2,1,2,1,1,1,1,0,3,1,0,1,1,2,1,1,2,0,1,2,2,0,1,1,1,2,1,1,1,0,1,3,1,2,2,2,1,1,1,2,1,0,3,0,2,1,0,1,1,2,2,2,1,0,0,0,1,1,2,2,2,1,1,1,1,0,1,1,2,0,2,2,0,2,1,2,0,1,1,0,1,2,1,2,1,0,1,1,1,0,1,2,3,0,1,2,0,0,1,0,1,0,1,1,2,0,2,3,4,1,0,2,0,0,0,1,2,3,2,1,0,3,1,0,0,1,2,1,1,2,1,2,0,1,2,0,1,2,4,1,1,1,1,2,1,1,0,1,1,1,3,2,0,0,1,0,1,2,2,2,1,1,0,0,1,0,0,1,0,1,2,1,1,1,2,0,2,1,1,1,0,2,2,1,2,2,1,1,0,1,2,1,1,2,1,0,0,2,1,2,3,1,0,1,3,0,0,2,1,1,1,1,0,0,1,0,0,0,0,0,2,0,1,1,1,3,0,0,2,1,0,1,1,1,0,1,0,0,0,2,0,1,1,1,1,0,2,2,0,1,1,1,1,1,1,0,2,3,0,2,0,1,1,0,1,0,0,1,1,2,0,2,1,1,2,1,1,1,1,3,0,2,2,1,0,1,1,1,2,2,2,1,0,1,0,0,0,1,4,2,1,1,0,0,0,0,1,2,0,3,0,0,1,1,2,2,1,1,2,1,2,1,1,1,2,0,1,3,1,2,0,2,2,1,2,1,1,1,2,1,2,1,0,2,1,1,1,0,0,1,1,1,2,1,0,1,0,1,3,1,3,1,0,0,1,1,1,1,2,1,2,0,1,3,0,1,1,1,1,2,1,1,0,1,3,1,1,2,1,0,1,2,0,0,1,1,1,0,2,0,0,0,1,1,2,0,1,0,1,0,0,1,0,1,1,1,3,0,1,1,1,0,1,2,2,2,1,0,1,2,1,0,2,2,1,1,1,3,3,0,0,2,1,2,3,1,1,1,1,0,1,0,1,1,1,0,1,2,1,1,0,3,3,0,0,2,2,1,1,0,1,0,1,2,2,0,2,1,2,1,1,3,0,0,0,1,1,1,0,0,0,1,0,2,0,3,0,1,0,0,2,1,2,2,1,1,1,1,0,1,1,0,1,1,1,0,0,0,1,2,1,1,0,1,0,3,1,4,2,1,0,3,0,3,1,0,1,1,1,0,0,1,3,1,2,1,2,2,1,1,2,2,1,3,2,2,0,0,1,0,1,1,1,2,1,0,1,1,1,2,2,3,1,1,0,1,2,1,0,0,1,1,0,1,3,1,2,1,1,1,1,0,1,1,0,1,2,2,1,0,1,1,1,2,1,0,0,1,2,2,2,1,1,1,0,1,0,0,1,0,1,1,0,0,0,0,1,0,2,1,2,1,0,1,1,1,1,1,0,1,0,1,1,2,2,4,1,1,1,0,1,1,0,0,0,2,0,2,0,0,2,0,0,2,3,0,1,0,0,1,1,2,1,2,1,0,0,1,1,1,0,0,1,1,1,1,1,1,1,3,0,0,2,1,1,1,2,1,0,1,0,0,0,1,0,1,0,1,0,2,1,1,2,0,0,1,1,0,0,0,1,0,3,1,3,3,2,1,2,1,1,2,2,2,3,1,0,3,2,2,0,3,0,1,0,1,0,1,0,1,1,1,2,0,1,1,2,1,1,0,0,1,1,2,2,1,1,1,3,1,2,1,1,2,2,1,0,3,4,2,0,1,1,0,1,1,0,1,3,3,1,0,1,2,1,0,3,2,0,2,2,1,3,1,1,1,0,1,1,2,2,1,1,2,1,1,4,3,3,2,0,1,1,2,2,1,2,2,1,2,3,0,1,0,1,2,1,1,3,0,1,2,2,2,3,2,0,2,1,1,1,1,1,1,0,0,1,3,0,1,2,1,2,2,1,1,1,2,0,0,3,1,1,1,1,2,2,0,2,2,4,1,2,1,1,2,2,2,0,1,0,0,1,3,3,1,1,3,1,1,1,0,2,1,1,3,1,0,1,0,2,1,1,0,2,3,1,0,1,2,2,2,2,1,2,2,1,1,2,2,1,0,0,3,1,1,0,1,1,1,1,1,1,1,1,3,2,1,1,1,2,1,1,2,1,1,0,2,0,1,1,1,4,1,0,2,1,3,1,1,2,1,1,1,3,2,1,2,1,1,0,1,1,1,0,1,3,1,2,1,2,4,1,2,1,1,1,2,0,1,2,2,1,1,0,2,1,1,2,1,1,2,3,0,1,1,2,2,1,1,3,1,1,2,2,1,1,4,1,1,2,1,0,0,0,2,2,1,1,1,0,2,0,3,1,4,0,2,1,2,0,3,1,1,1,2,2,1,3,0,3,1,0,2,1,0,0,3,1,2,1,2,1,0,2,1,0,0,1,0,2,1,1,1,2,2,1,1,2,1,3,1,2,1,1,1,2,2,1,1,2,2,0,2,1,2,2,2,2,1,0,2,1,2,1,1,0,1,4,1,1,1,2,2,2,1,1,1,1,1,2,1,1,0,1,1,1,0,0,0,1,1,0,1,0,1,3,2,1,1,1,0,1,1,1,1,1,1,1,1,1,2,0,1,1,1,1,1,1,0,3,2,1,1,0,5,1,1,1,0,1,3,0,2,2,2,1,2,1,4,2,2,0,1,1,1,1,1,0,1,1,2,0,1,2,0,1,1,3,1,0,2,1,2,2,1,2,1,0,2,0,0,1,3,1,0,1,1,3,0,1,1,3,1,2,2,1,1,2,1,3,2,2,1,2,0,0,0,1,2,0,2,2,1,1,1,1,1,1,0,2,1,1,2,1,1,1,1,1,1,2,1,2,0,1,2,1,1,0,1,3,2,0,2,2,0,2,3,1,0,1,1,2,2,0,2,1,0,3,2,1,1,1,2,1,0,0,2,1,2,1,2,1,2,3,1,0,1,0,1,1,1,1,1,1,0,1,1,1,1,1,2,1,1,1,2,1,1,1,1,1,2,3,1,1,2,0,2,0,1,2,2,3,1,1,1,0,1,3,0,1,1,2,1,0,1,0,2,1,2,4,2,3,1,1,1,1,0,1,2,0,0,1,2,1,1,1,0,0,1,1,2,1,3,0,3,1,1,1,3,0,1,1,1,1,1,1,2,0,0,2,1,1,0,1,1,4,1,1,1,0,3,0,2,1,1,3,1,0,2,2,1,1,1,2,1,1,1,1,1,1,1,2,2,0,1,0,1,1,0,1,2,1,2,2,2,3,1,1,1,1,0,2,4,0,0,0,2,0,1,0,1,1,0,1,1,2,1,1,1,1,3,0,1,0,0,3,0,1,0,0,2,0,1,0,1,1,1,0,3,1,0,2,0,2,3,0,0,1,3,1,3,1,1,2,0,3,2,1,1,1,0,1,2,3,0,0,1,1,1,0,1,1,3,2,1,1,1,0,2,1,1,2,1,1,1,0,1,3,1,1,3,2,3,3,1,1,2,1,2,2,1,0,2,0,1,0,1,0,0,1,1,2,2,1,0,1,1,1,1,1,1,2,1,1,1,0,1,3,1,1,2,1,1,2,2,1,1,2,1,1,1,1,0,1,1,1,2,1,0,0,0,0,2,0,2,3,1,1,2,1,1,1,1,1,1,1,1,1,3,0,0,1,0,0,1,1,0,1,2,1,1,3,1,1,1,0,0,1,1,2,3,1,1,2,4,1,3,2,0,2,2,2,1,1,1,0,2,0,2,0,1,2,2,1,3,0,1,1,2,3,1,1,1,2,1,3,3,2,1,2,2,3,1,2,0,3,1,1,0,1,1,1,1,1,3,0,1,1,3,1,3,2,1,2,1,1,1,1,0,2,1,1,2,1,2,4,1,1,0,1,2,1,1,2,0,0,1,2,1,3,0,1,2,0,2,1,1,1,0,3,1,2,1,1,2,0,1,2,1,1,1,0,2,3,1,1,1,1,0,3,1,2,1,1,0,1,1,0,2,1,0,1,2,1,1,0,2,1,1,1,1,1,1,1,4,2,0,2,1,1,0,2,2,1,2,2,1,1,2,0,1,1,4,0,1,2,1,1,1,0,1,3,2,1,3,1,1,2,3,1,2,2,1,1,3,3,1,1,1,3,3,1,2,1,0,1,1,3,1,2,2,0,0,2,1,2,0,2,1,0,2,1,1,0,1,0,0,3,1,2,1,2,1,2,3,3,0,1,1,2,3,1,0,1,2,1,1,1,1,1,1,1,1,2,1,1,1,1,1,1,2,1,2,0,2,1,1,1,2,1,3,0,1,1,1,0,1,1,0,1,0,1,1,1,1,1,1,1,0,0,1,0,2,1,0,1,2,1,2,3,0,3,3,0,1,4,1,2,1,1,3,0,0,2,1,2,1,2,2,2,1,0,1,0,0,1,2,1,1,0,1,1,2,2,1,2,1,3,3,1,1,1,1,2,1,2,1,1,1,1,1,3,2,3,1,0,1,1,1,0,1,2,1,2,0,1,2,0,0,1,0,0,1,2,1,1,1,2,3,4,1,1,1,2,1,1,4,1,1,1,1,0,0,1,1,1,0,1,1,1,0,2,1,1,2,1,1,1,1,2,2,1,2,3,1,1,2,1,0,0,1,0,1,1,2,1,0,3,1,3,2,0,1,1,1,0,2,1,1,1,1,1,1,1,2,1,1,1,1,1,1,2,1,0,3,3,1,2,2,2,1,0,1,1,2,1,1,1,1,1,1,0,0,3,1,0,1,2,0,2,1,1,0,1,1,1,3,1,0,0,2,2,3,2,0,3,0,1,1,1,2,1,2,1,2,0,3,1,2,1,1,3,1,2,2,1,1,1,1,2,1,1,1,2,1,0,3,0,0,2,2,1,0,1,2,1,2,3,1,2,0,1,2,1,1,1,0,0,1,1,1,3,1,1,2,1,1,2,2,1,1,2,1,1,1,3,1,1,1,0,3,1,0,0,3,2,1,2,0,1,2,1,1,1,3,1,1,0,0,1,0,3,1,0,0,0,3,1,1,1,1,1,1,2,2,2,2,3,0,1,0,1,3,1,1,2,2,1,1,1,1,2,1,1,1,1,3,2,2,1,1,0,1,1,0,1,1,3,2,1,1,2,1,2,1,1,1,1,3,0,1,2,0,2,2,1,1,1,1,0,1,2,2,1,1,1,1,4,1,1,3,1,1,1,0,1,2,1,1,1,0,1,3,1,1,0,2,2,1,1,1,1,1,1,2,2,1,0,1,2,1,1,0,1,0,2,2,3,1,1,1,2,1,1,1,2,1,2,0,2,1,3,1,2,0,1,1,2,0,0,1,1,1,2,1,0,1,1,0,1,3,0,1,1,2,1,2,1,0,1,1,1,1,2,2,0,1,3,2,1,1,3,1,0,2,1,1,1,0,1,0,3,4,1,2,0,0,1,3,1,1,2,1,1,2,1,2,1,1,2,2,1,1,2,2,2,3,1,1,1,2,1,1,0,1,0,0,0,1,1,1,2,1,1,1,1,0,1,0,2,1,0,0,0,1,1,2,1,1,1,0,1,1,1,1,2,2,1,2,3,1,0,1,1,1,1,1,2,2,1,1,2,2,1,1,1,1,0,1,1,0,2,2,0,1,1,1,2,1,2,1,1,1,2,0,2,1,3,0,3,1,1,1,0,1,1,1,3,1,0,1,2,0,2,3,1,1,1,1,1,0,0,2,2,1,1,0,0,1,2,1,1,0,3,1,1,1,1,2,1,0,1,0,1,0,1,1,2,2,1,1,1,0,2,1,2,1,0,1,3,2,1,2,0,1,2,1,1,1,0,0,1,1,1,2,0,3,1,1,2,0,0,1,3,1,0,4,3,2,1,1,0,0,1,1,2,1,1,1,1,1,0,1,1,0,2,1,1,1,2,1,1,0,1,2,2,0,2,1,3,1,1,2,1,2,2,0,1,3,1,3,2,2,3,2,1,1,0,3,1,1,1,0,1,2,0,1,1,2,1,3,0,0,1,0,2,1,2,1,3,2,1,1,3,1,2,2,1,0,1,3,2,1,1,1,1,1,1,4,3,0,2,3,1,2,3,3,0,2,1,1,1,2,3,3,2,2,1,1,1,1,1,4,1,0,2,0,2,2,1,1,2,3,0,1,0,1,1,2,1,1,1,1,0,1,2,2,3,0,3,2,1,0,0,1,2,2,1,3,2,2,2,1,1,1,3,1,2,1,1,0,0,2,0,1,2,1,2,1,2,4,1,1,1,1,2,1,2,2,1,1,1,1,2,3,1,1,1,2,1,2,1,1,1,1,1,0,1,1,4,1,1,2,1,2,1,3,0,1,1,2,1,0,2,2,2,2,2,0,1,1,2,1,1,1,1,1,1,0,2,1,0,0,2,1,2,2,3,1,2,3,0,1,1,2,2,2,1,2,2,3,2,2,0,3,3,0,1,2,1,1,3,0,2,1,3,2,2,2,1,0,1,0,1,2,1,1,2,2,3,1,2,1,1,1,0,2,2,1,0,0,2,2,2,0,1,1,1,0,2,1,2,1,2,1,1,0,0,2,1,3,1,1,3,1,3,1,4,2,1,1,2,1,4,0,3,2,1,0,1,0,1,1,1,1,1,1,0,1,1,0,3,0,1,2,2,0,0,1,2,1,1,0,1,1,1,0,1,0,0,0,3,2,0,0,2,2,0,1,1,1,1,1,1,1,3,1,1,3,2,1,1,4,1,2,2,0,3,1,0,0,2,0,2,0,2,1,1,3,2,0,1,0,1,0,4,1,1,2,1,2,0,1,1,1,2,1,3,2,2,0,1,1,1,2,2,1,0,0,1,1,0,2,2,2,1,0,1,2,2,2,1,2,1,1,1,3,0,1,1,1,1,1,0,0,2,1,2,1,2,1,1,1,1,1,2,0,1,1,1,1,1,1,3,1,1,0,1,1,1,1,2,1,1,2,0,1,0,0,2,0,1,1,1,0,1,0,2,0,1,0,0,1,1,1,0,1,0,1,3,1,1,1,1,0,1,1,3,1,0,2,1,2,1,1,1,1,1,0,0,1,2,2,1,1,1,0,3,2,1,3,0,1,3,0,0,1,1,2,2,1,1,1,1,1,3,0,0,1,0,1,2,1,2,1,2,1,4,2,2,1,1,1,2,1,1,1,1,3,1,1,4,2,2,1,1,0,3,1,3,1,1,0,2,0,2,1,1,0,2,1,1,1,3,0,0,1,3,1,1,1,2,1,0,0,1,0,3,3,1,2,1,1,2,4,1,3,1,1,1,1,0,1,1,1,1,0,0,1,1,1,3,2,1,0,1,2,1,2,1,3,1,0,1,2,1,0,1,0,1,1,2,2,1,1,0,2,1,1,0,0,1,1,0,1,0,2,1,2,1,4,1,1,0,0,1,1,1,1,1,2,1,1,2,1,1,0,1,1,1,1,1,1,2,0,2,2,1,2,1,1,1,1,0,0,2,0,2,1,1,1,1,1,1,1,1,0,3,2,1,1,3,1,1,1,1,1,1,2,1,0,2,1,1,1,1,1,0,1,1,1,1,0,1,1,0,1,2,2,0,0,1,1,1,1,3,2,1,1,0,1,3,1,3,0,2,2,2,0,0,2,2,1,3,0,4,1,1,1,0,0,1,2,2,0,2,1,2,3,2,3,0,1,0,2,2,1,2,2,1,1,2,3,1,0,1,0,2,0,1,3,0,1,1,1,1,2,1,2,3,1,3,1,1,1,0,0,2,2,0,1,1,1,1,1,1,2,0,3,1,0,2,0,2,0,2,1,0,2,2,1,1,1,1,0,0,1,3,2,1,2,1,2,2,1,0,1,1,1,1,1,1,1,1,2,1,1,0,0,2,2,2,2,0,1,0,0,2,1,1,0,2,1,0,1,1,1,3,1,2,1,1,3,1,1,1,0,1,0,1,1,2,1,2,1,1,1,1,2,2,3,2,2,1,1,1,0,2,1,1,0,2,1,1,2,1,0,2,1,1,1,1,1,1,1,1,1,0,1,2,1,2,0,2,1,0,1,1,2,3,1,1,3,1,1,0,2,1,3,1,1,1,1,2,1,1,2,0,1,1,0,2,2,0,1,2,1,0,2,1,1,2,1,2,1,1,1,1,1,3,1,0,1,1,1,1,1,1,1,1,1,1,1,0,1,1,1,1,2,3,1,1,1,1,2,1,1,1,1,3,1,0,1,0,1,3,1,1,1,0,3,1,2,2,1,2,1,1,1,1,1,0,2,0,1,0,1,0,1,1,0,2,2,2,2,3,0,1,0,1,2,0,1,1,2,1,4,3,2,2,1,1,2,2,1,1,2,1,1,2,3,1,1,2,0,3,2,2,2,0,1,3,1,1,1,2,1,1,2,2,0,0,2,1,2,1,1,0,1,2,0,1,0,1,1,2,1,1,4,0,0,2,2,0,2,1,2,2,0,1,2,2,1,3,0,0,2,1,1,3,1,0,3,2,1,1,0,2,1,2,3,1,1,3,1,1,1,1,1,1,0,3,3,1,1,1,1,1,1,3,3,2,1,2,0,2,1,2,1,1,1,1,1,1,1,2,1,2,0,2,2,1,1,1,1,1,1,0,1,2,1,0,1,1,2,2,1,5,1,1,1,2,1,1,1,2,1,3,1,1,1,1,1,0,2,1,0,1,1,1,3,1,1,0,1,0,1,0,1,2,1,1,0,3,2,1,1,2,1,3,1,0,2,4,1,2,1,0,1,1,2,1,0,4,2,1,0,2,2,1,0,1,2,1,2,2,1,1,1,2,1,3,1,2,1,3,1,2,1,3,1,2,3,1,2,3,2,0,0,0,1,3,1,1,1,1,0,2,3,2,1,1,2,1,1,1,1,1,2,4,0,2,1,3,0,2,1,1,1,0,2,3,1,1,1,0,0,1,1,3,3,1,1,1,1,1,1,1,0,1,0,2,1,3,1,1,1,0,1,0,3,1,1,3,0,0,0,4,0,1,1,1,1,0,1,1,1,2,2,0,1,1,0,2,3,1,0,1,3,2,1,1,0,1,1,1,0,2,1,1,1,2,1,0,1,2,2,2,1,1,1,0,2,0,1,2,2,2,2,1,2,2,1,2,2,1,0,2,0,2,1,2,1,1,1,1,1,1,0,2,1,0,1,2,1,2,3,0,0,3,2,0,1,0,1,1,1,1,2,2,0,1,1,3,4,1,1,0,0,2,1,2,2,1,1,2,1,2,2,1,0,1,1,2,1,1,0,2,1,1,1,0,0,1,3,1,0,2,1,1,3,2,1,1,1,2,0,1,2,1,3,2,0,1,0,0,1,1,1,1,1,0,0,3,2,1,0,2,0,1,0,2,0,1,2,1,1,0,2,0,2,2,1,1,2,1,2,0,1,1,1,1,1,1,1,3,1,3,1,2,0,3,1,1,1,3,2,3,0,1,0,3,2,0,3,1,3,1,2,3,0,1,1,1,1,2,1,1,2,0,1,3,2,1,1,3,0,1,2,1,3,2,2,2,1,1,2,1,2,1,1,2,1,1,2,1,4,1,2,1,4,1,2,2,1,1,2,1,0,1,2,0,1,0,4,1,1,1,2,1,1,1,1,1,1,1,1,1,2,1,1,0,2,3,1,1,2,1,2,2,1,2,0,2,1,2,2,2,2,0,1,1,1,1,1,1,1,1,2,0,1,2,1,1,1,3,0,1,0,2,2,2,2,2,3,0,2,0,1,1,1,1,1,1,1,1,1,1,0,3,1,1,2,2,2,1,2,0,1,1,3,1,0,2,1,1,2,1,0,0,0,1,3,2,2,1,0,2,1,1,2,3,2,1,1,1,1,2,1,1,2,2,1,1,1,2,1,1,2,3,2,0,3,0,2,2,2,2,2,1,2,1,1,0,1,1,1,2,1,2,3,0,3,0,1,3,2,1,0,1,2,1,0,1,2,3,1,4,4,3,2,0,2,1,0,1,3,2,1,2,1,1,2,3,0,2,2,1,1,2,1,1,2,1,1,1,3,1,0,0,2,2,1,2,1,1,1,1,2,1,1,1,0,0,2,1,1,2,2,1,2,1,2,1,2,2,0,1,1,1,1,1,2,1,2,0,1,1,2,1,1,2,2,2,1,1,1,3,2,1,3,1,1,1,2,1,0,1,1,0,2,2,2,1,0,0,1,3,2,1,2,1,1,1,1,3,2,1,1,0,0,1,0,1,2,1,1,1,2,0,2,0,1,1,1,2,0,2,2,1,2,1,1,0,2,3,2,2,1,2,1,1,1,0,3,2,1,1,0,0,2,2,1,1,2,1,3,1,0,0,1,1,1,1,2,1,0,1,1,1,2,0,1,0,2,1,0,2,1,1,1,1,0,2,2,2,1,0,1,1,2,1,2,1,0,2,1,0,0,2,1,0,0,1,2,1,1,0,0,2,1,1,2,0,0,1,0,2,0,1,2,1,2,0,0,1,4,1,2,1,2,1,2,0,0,1,2,1,1,1,0,2,1,2,1,1,1,2,1,0,1,2,2,0,1,2,1,1,1,2,3,1,2,1,0,4,1,1,4,1,1,4,0,2,1,2,2,1,1,2,1,1,1,1,1,0,1,0,2,2,3,1,1,2,3,1,1,2,2,1,1,1,1,1,0,2,0,1,1,2,0,2,2,0,2,1,2,1,2,3,0,1,1,3,2,1,1,1,1,0,2,1,1,1,1,0,1,0,2,1,1,2,1,1,2,2,1,2,1,1,2,0,2,1,2,1,0,1,0,0,0,2,1,1,1,3,3,1,0,1,1,0,0,4,0,1,0,2,1,1,2,1,2,0,1,2,1,3,1,3,3,1,1,1,1,2,2,1,2,1,1,1,1,0,1,3,3,2,1,2,1,1,1,1,1,2,1,2,1,1,0,1,4,1,1,1,0,3,2,2,0,2,1,2,2,0,1,4,1,1,1,1,0,1,3,1,2,2,1,0,3,0,2,0,1,2,1,1,1,1,0,1,0,1,2,2,1,1,1,2,2,1,1,1,1,1,1,3,0,1,1,0,2,2,2,1,1,0,3,1,1,1,1,1,1,2,1,2,2,0,0,1,1,2,1,2,1,1,1,1,1,2,2,1,2,1,1,1,1,1,1,1,0,3,0,1,0,3,0,1,1,2,2,1,0,1,1,2,1,2,1,1,3,2,1,2,1,1,1,3,2,2,2,2,3,1,1,2,0,3,2,0,1,1,0,1,2,3,1,2,2,4,2,0,2,1,1,0,3,1,0,1,1,1,3,2,2,1,1,2,1,1,1,2,1,2,2,1,0,0,1,1,1,0,1,1,1,2,3,1,1,1,2,2,0,3,1,1,1,1,1,2,3,1,1,2,3,3,1,1,2,2,2,4,1,1,2,1,0,1,1,2,1,1,1,0,1,1,0,1,2,1,1,1,2,2,3,2,3,1,1,1,1,3,2,3,2,0,2,2,2,0,3,2,2,1,1,3,4,1,2,2,1,1,1,1,0,1,3,1,2,3,1,2,3,2,1,3,0,2,1,1,1,1,2,0,3,2,2,1,3,0,1,0,0,3,0,0,3,2,1,2,2,1,2,3,1,1,2,2,2,4,2,3,1,1,2,1,1,2,1,1,1,1,1,1,3,1,1,1,0,1,1,1,1,2,2,1,0,3,0,1,2,0,0,0,3,1,1,1,1,0,2,0,2,1,0,2,2,2,1,1,1,0,1,1,1,1,1,2,2,1,1,1,2,0,2,3,2,1,1,0,1,1,1,1,1,1,2,2,1,2,1,3,0,1,1,1,0,0,3,0,3,1,1,0,1,2,0,0,1,1,1,1,0,1,1,1,1,0,1,2,0,2,1,1,4,2,0,1,1,2,1,1,2,1,1,0,2,2,1,3,2,0,1,0,1,2,1,2,3,1,1,1,2,1,1,1,1,1,0,1,2,3,2,2,1,1,0,2,1,1,1,2,0,0,2,3,1,0,2,0,1,1,1,0,1,2,1,1,0,0,1,2,2,1,2,1,1,0,3,0,1,2,2,1,2,0,0,3,1,2,0,2,2,1,0,1,4,2,0,1,2,2,1,1,1,2,1,4,1,3,1,1,1,1,2,0,1,2,1,1,1,1,1,0,0,2,2,1,2,3,2,1,2,1,1,1,1,2,1,1,0,1,0,0,1,3,1,3,2,1,1,3,2,2,0,1,3,2,2,0,2,1,3,3,1,0,1,1,1,1,2,1,1,2,2,1,1,2,1,2,1,2,1,0,1,1,1,1,1,1,2,3,1,1,1,1,1,0,0,1,0,0,2,1,4,2,1,1,1,3,1,2,2,2,1,2,0,1,4,2,2,1,3,2,1,2,1,2,2,2,3,0,0,1,1,1,1,1,1,0,0,1,1,1,1,1,2,1,1,1,1,2,1,2,2,3,1,1,0,2,1,1,1,1,1,0,1,3,2,0,1,1,2,3,2,3,0,0,1,1,0,1,1,3,2,0,1,3,2,1,2,1,3,1,1,2,1,0,1,2,0,1,0,1,0,2,0,2,1,2,1,1,0,2,1,1,1,1,1,2,2,3,1,0,3,2,1,2,1,1,2,2,0,1,0,1,2,1,1,1,1,2,1,2,1,1,0,1,1,1,2,1,0,0,1,1,1,1,1,1,2,1,3,1,2,1,0,2,1,1,1,1,1,3,1,3,2,1,1,0,1,1,0,1,1,0,3,1,1,0,3,1,1,2,3,1,1,0,1,1,1,1,2,2,1,1,4,2,1,1,2,1,3,4,0,3,0,1,1,0,1,3,3,1,1,2,1,0,2,1,4,0,1,1,2,0,1,0,0,1,1,1,0,0,0,1,1,1,1,0,0,2,2,1,3,0,1,0,1,1,0,2,1,1,1,2,1,1,2,2,2,0,3,1,1,1,0,2,1,2,1,1,2,1,0,1,3,1,2,2,0,0,1,1,1,1,1,1,1,2,3,1,1,2,2,2,0,1,1,4,1,1,1,2,0,0,1,0,3,1,1,1,0,1,1,1,2,2,1,4,1,1,2,2,1,1,2,1,1,1,2,1,0,1,0,1,1,2,1,1,1,1,1,1,2,0,0,1,1,0,2,1,3,1,1,0,1,1,2,1,2,1,1,1,3,3,0,0,2,0,2,1,0,1,1,1,0,0,1,1,2,0,3,3,1,2,1,3,2,1,2,0,1,1,1,0,1,1,1,1,0,1,0,2,0,1,2,1,1,1,1,0,2,1,1,2,1,0,1,1,1,1,3,3,1,1,1,1,0,0,1,1,2,2,3,0,1,2,1,1,1,0,1,1,1,0,1,0,1,1,1,4,1,1,1,0,1,3,3,1,0,3,1,1,0,1,1,2,1,1,0,2,2,2,2,2,1,4,1,1,1,1,0,2,0,1,0,1,0,0,1,0,1,1,1,0,2,0,0,0,2,0,1,1,0,0,1,0,0,1,0,1,1,1,0,0,2,0,1,0,0,0,1,0,0,0,0,1,3,2,1,1,2,0,1,0,0,0,1,0,0,1,1,1,1,2,1,1,1,1,1,2,2,2,1,1,1,0,1,2,0,0,1,1,1,2,0,2,0,0,1,1,0,0,2,0,0,1,0,2,2,1,1,0,1,1,1,1,0,3,1,1,1,1,1,0,1,1,2,0,0,1,0,2,1,2,1,2,1,1,1,2,1,2,1,2,1,0,1,2,4,1,1,0,0,1,0,0,1,1,0,0,0,1,0,2,1,0,2,3,1,2,1,0,1,0,2,0,1,0,1,0,0,1,0,0,3,1,3,1,2,1,0,2,1,1,1,2,0,1,1,1,0,1,1,2,0,0,1,1,1,1,0,0,1,1,1,0,1,0,1,0,0,1,0,1,0,1,0,1,1,1,1,0,2,0,0,2,2,1,0,0,2,0,3,1,0,2,1,0,3,1,1,1,0,2,1,3,0,1,0,1,0,1,2,1,0,0,2,3,0,1,1,2,1,0,3,0,2,1,1,0,0,1,1,0,2,1,0,2,1,1,0,1,0,2,1,1,2,2,2,2,1,2,2,4,1,1,1,2,0,0,0,0,2,3,1,2,1,1,2,1,1,1,1,0,0,0,2,0,1,1,0,2,1,2,1,1,3,1,2,1,1,1,0,1,1,0,1,2,0,1,0,2,0,1,0,1,2,1,1,0,1,3,1,2,1,1,2,0,1,1,0,1,0,0,2,2,0,0,1,2,2,1,0,0,0,1,1,0,1,0,0,0,1,1,2,0,0,1,1,1,2,1,1,0,1,1,0,1,0,0,2,2,0,1,2,1,1,1,1,0,2,2,1,0,0,1,0,0,1,1,2,2,3,0,1,0,2,1,1,1,1,1,2,1,0,1,2,0,1,1,1,0,1,0,1,3,0,1,2,0,1,2,2,0,0,1,1,1,1,1,0,0,0,2,0,2,1,2,0,1,0,1,2,2,2,1,0,0,1,1,1,2,2,1,1,0,0,0,0,1,1,2,1,2,1,1,1,0,2,1,1,0,1,2,2,0,0,3,0,1,1,1,0,1,0,1,0,0,2,0,0,1,2,0,0,1,0,0,0,0,0,1,1,1,2,2,2,0,1,0,2,1,2,0,0,3,2,2,2,2,2,1,0,1,1,2,1,1,0,1,1,2,0,0,1,1,0,0,1,2,1,1,1,0,1,0,1,1,0,2,0,1,0,1,1,1,1,1,0,1,2,1,1,3,2,3,1,2,2,1,1,0,1,1,1,1,1,0,2,1,0,2,0,0,1,3,1,2,1,1,0,1,2,3,0,0,1,2,2,1,1,1,1,1,1,2,0,1,1,1,1,2,0,1,2,1,0,0,0,1,1,2,1,1,1,2,2,1,2,0,0,0,0,1,1,1,2,0,0,0,0,1,2,2,1,1,1,0,1,2,2,2,1,1,1,0,0,3,1,1,2,1,0,0,1,1,1,2,1,2,0,1,1,0,0,0,0,0,2,1,1,2,3,0,0,3,1,0,0,1,0,2,0,0,3,1,0,1,1,2,1,2,2,3,0,2,2,1,1,1,1,2,1,1,2,2,0,1,0,3,1,2,0,1,1,1,1,0,0,0,0,2,1,2,0,1,1,0,2,0,1,0,1,1,2,1,1,0,1,4,0,2,0,0,1,1,0,0,2,3,2,1,0,1,2,1,2,1,0,1,1,1,2,2,1,0,3,2,2,0,3,2,1,4,1,1,1,0,1,1,1,1,1,1,1,2,2,1,1,2,1,1,1,3,2,1,3,1,2,0,1,1,1,3,2,2,1,3,2,1,2,2,3,1,1,1,1,0,1,3,3,2,1,0,3,2,0,0,1,1,2,1,1,0,1,0,2,2,1,1,1,0,2,1,1,2,1,0,0,2,0,0,0,1,2,0,1,1,1,2,0,3,1,0,0,2,2,1,1,2,0,1,1,2,2,2,2,1,0,1,1,3,1,0,3,0,2,1,1,3,1,1,2,1,2,1,0,1,1,3,1,3,1,0,2,0,0,0,1,1,3,3,2,0,3,2,1,4,1,0,3,2,0,0,1,0,1,1,1,0,2,0,1,0,2,2,1,2,2,1,2,0,1,1,2,0,2,1,1,1,1,1,1,2,0,1,1,0,0,1,0,1,1,1,0,1,0,1,2,2,2,0,3,1,0,0,1,1,1,2,0,1,2,2,3,1,1,1,1,1,1,3,1,3,1,1,1,2,0,2,1,1,3,1,2,0,4,0,1,0,1,2,0,3,2,1,2,2,1,0,0,3,3,2,1,0,3,2,2,0,1,1,1,1,2,3,1,0,0,3,1,1,0,2,0,3,0,3,2,2,4,4,0,2,1,2,0,1,2,1,3,1,1,0,2,0,2,1,0,1,3,0,3,2,0,3,1,1,1,2,2,0,3,2,2,3,0,2,1,3,2,1,0,1,3,0,2,1,0,1,2,2,0,1,0,0,1,1,1,1,2,1,1,2,3,1,3,1,2,0,2,1,1,1,1,1,2,2,2,1,2,1,1,2,0,1,2,1,2,1,1,2,1,1,2,0,0,1,1,1,3,1,0,1,1,2,3,2,0,0,2,1,4,3,2,0,2,0,3,1,0,2,0,1,1,0,1,3,3,0,2,3,2,1,2,1,1,4,3,2,4,1,2,0,1,1,2,1,0,0,1,0,2,2,1,1,1,3,3,3,0,0,1,1,1,3,2,0,2,0,2,1,2,2,1,2,2,2,1,2,3,2,0,2,2,1,1,0,0,0,3,1,2,0,2,2,1,4,0,1,3,0,0,0,2,3,2,1,1,2,1,1,1,0,0,2,3,1,1,2,1,1,0,1,3,1,1,1,1,1,1,2,1,1,3,0,2,2,1,2,1,1,0,2,1,2,1,2,1,2,1,0,0,1,1,0,2,2,1,1,2,2,3,0,1,0,1,3,2,4,1,3,1,1,2,0,1,1,0,0,1,2,1,1,1,2,2,1,2,0,2,2,1,0,4,0,1,1,1,1,2,0,2,1,1,4,1,1,3,2,0,0,1,0,1,2,1,0,0,1,2,0,2,2,2,2,1,2,2,1,1,0,2,1,2,2,2,1,2,2,0,2,1,1,0,1,0,2,3,0,2,1,1,0,3,3,2,1,1,0,1,1,0,1,3,1,1,1,0,0,2,0,2,1,1,0,2,0,1,2,1,2,1,2,2,1,2,1,2,0,0,2,1,0,3,2,0,1,1,2,1,1,2,0,1,1,1,3,2,2,1,2,2,1,0,0,0,3,1,2,2,1,1,1,1,1,1,2,1,1,1,1,2,0,2,1,2,2,0,2,1,2,0,2,0,1,1,1,1,1,2,1,1,2,1,2,3,1,1,1,1,1,2,0,0,0,1,1,1,1,1,3,0,3,2,1,1,1,0,0,1,1,2,1,3,2,1,3,0,2,1,0,1,1,2,0,2,3,0,1,0,2,1,1,1,1,2,1,1,1,2,1,1,1,2,1,1,3,0,3,2,2,2,1,1,0,1,1,0,2,1,1,0,1,1,1,3,1,2,2,2,2,2,1,0,0,1,0,1,2,2,2,1,0,0,3,2,2,2,1,1,1,4,0,1,0,4,0,0,2,0,2,1,1,1,0,0,2,1,1,1,0,2,1,0,0,1,2,1,1,2,1,1,1,3,1,3,2,2,0,1,2,1,1,0,0,2,3,1,0,1,2,1,1,3,2,1,2,0,2,2,2,1,1,0,2,1,1,2,2,1,2,1,1,2,2,0,0,0,1,1,1,0,0,1,0,0,1,1,1,1,3,2,1,1,2,3,1,1,1,1,1,0,1,1,2,0,0,3,2,0,1,2,2,1,1,1,0,1,0,2,1,2,1,2,0,1,2,1,0,1,0,2,1,1,3,1,1,2,0,0,0,0,0,1,1,0,1,1,1,2,4,1,1,2,0,0,0,1,1,1,0,2,2,0,1,1,1,0,1,1,1,0,1,1,2,1,3,1,1,2,1,1,1,1,1,0,1,3,2,1,0,2,1,0,1,1,3,1,3,1,2,1,1,1,2,1,1,0,1,2,0,2,1,0,3,2,1,4,0,0,1,1,1,1,3,2,2,1,1,2,2,0,1,2,1,0,2,1,1,1,2,3,1,1,1,1,2,1,1,3,2,0,1,2,1,1,0,1,1,0,2,4,1,1,3,2,1,1,1,1,2,0,2,0,2,1,0,1,1,3,0,1,0,3,2,0,2,1,1,1,2,1,0,1,1,0,1,0,1,2,3,2,2,1,1,3,0,2,1,1,1,1,2,2,2,1,1,1,1,1,2,0,0,2,1,2,2,1,1,3,1,2,1,1,0,1,0,1,1,4,1,3,1,1,1,1,1,1,1,1,1,0,0,1,2,2,1,1,0,0,1,2,2,1,1,0,1,1,1,1,1,3,3,4,3,2,1,2,2,1,1,3,1,4,0,0,2,1,1,1,2,0,1,1,2,2,3,1,1,0,2,1,3,0,0,3,1,2,2,3,0,2,1,2,1,0,2,0,0,2,1,0,1,3,1,0,1,1,2,1,0,1,0,1,2,1,1,2,2,2,1,2,1,1,1,2,2,2,2,1,2,0,0,1,0,1,2,0,0,2,2,0,0,1,1,0,1,0,0,0,2,0,2,1,0,1,2,1,1,1,2,1,1,1,2,1,1,1,2,2,1,2,0,1,2,1,0,2,1,0,1,1,1,0,1,0,0,2,3,1,1,0,0,0,0,2,1,1,1,2,1,1,3,0,1,3,1,2,2,1,2,0,3,2,1,1,2,2,2,0,1,2,1,3,2,0,3,3,1,1,0,1,2,1,2,3,2,3,0,3,1,2,0,1,3,4,0,2,0,1,1,2,1,1,1,2,1,4,1,2,0,1,1,1,1,1,0,1,0,1,1,0,4,1,1,0,2,1,2,2,2,1,1,1,2,1,0,1,0,2,1,2,2,1,1,1,3,3,0,0,3,2,0,0,0,0,3,2,1,1,1,2,0,1,1,1,2,2,4,1,1,0,0,0,2,0,0,1,1,0,2,1,3,2,2,1,1,1,1,0,0,1,1,1,0,0,1,2,3,1,2,1,0,1,3,0,1,1,0,4,2,1,1,1,1,1,1,4,1,1,1,2,2,3,1,1,3,0,0,1,1,1,2,1,0,2,0,1,1,1,3,2,1,0,1,0,4,1,1,1,2,1,0,3,3,0,1,0,1,1,2,3,2,2,2,2,2,1,2,0,2,1,1,1,1,1,2,1,1,1,1,1,2,1,1,1,1,1,1,1,0,4,2,0,2,1,2,1,2,2,2,2,1,2,3,1,1,1,2,0,2,1,1,1,2,1,1,2,2,1,0,0,2,3,2,1,0,1,3,1,1,0,1,2,1,3,1,0,1,2,1,1,1,2,3,0,1,1,3,1,1,2,2,2,3,1,2,2,2,1,1,2,0,1,0,1,1,0,0,2,1,2,1,0,1,1,1,0,1,2,1,3,1,2,2,3,1,2,1,1,1,2,3,2,1,3,5,1,1,1,0,1,1,1,0,2,1,1,2,1,0,0,2,1,1,1,3,1,0,1,1,0,1,1,2,1,1,2,1,1,1,2,2,1,2,3,1,1,2,1,0,0,2,1,1,0,3,1,0,2,2,1,2,1,0,2,2,1,2,0,3,2,1,0,2,3,2,2,1,1,1,1,2,0,2,1,0,1,0,1,1,0,3,1,1,1,1,2,2,0,1,2,1,2,0,3,0,0,1,2,1,2,2,0,2,2,3,1,0,1,1,2,1,1,2,1,1,1,1,3,1,2,2,2,0,0,0,1,1,2,2,1,1,2,1,0,1,1,1,3,1,3,0,1,2,1,1,1,1,2,1,1,1,2,1,2,2,0,3,2,1,1,0,1,1,1,2,1,0,1,1,1,4,0,1,2,2,1,2,1,1,1,2,1,1,1,1,1,0,3,1,1,1,0,2,1,0,1,0,1,3,1,3,3,1,0,0,1,0,3,2,3,2,0,1,0,3,1,2,1,1,2,2,2,0,0,1,3,1,3,1,1,1,1,0,0,2,1,2,3,1,1,0,2,1,0,0,3,3,0,1,2,2,0,2,2,0,0,1,1,1,1,2,0,2,1,0,1,0,0,2,0,1,0,1,0,1,0,1,1,3,1,2,0,1,1,1,0,1,1,1,2,0,0,0,3,0,1,2,1,0,1,1,3,1,1,2,1,3,1,1,3,3,0,1,1,1,2,1,1,3,0,0,1,1,0,1,1,2,1,2,1,1,1,2,2,1,3,3,0,1,2,1,1,2,1,1,1,1,1,1,0,2,3,0,1,1,2,1,1,1,1,2,0,1,1,0,1,1,1,2,4,1,1,1,1,2,2,1,1,1,1,1,0,0,2,1,3,1,1,1,1,0,1,1,2,0,1,1,1,1,1,0,1,1,2,2,3,0,1,1,1,1,2,0,1,0,1,1,0,1,3,0,1,1,1,2,1,1,1,1,1,1,1,1,0,1,2,0,1,1,1,1,1,1,1,1,2,1,1,0,1,0,1,1,1,1,0,1,1,0,1,1,2,2,1,1,2,1,0,1,1,0,1,2,1,1,1,1,2,2,2,1,2,2,1,1,2,1,1,3,1,2,1,1,3,1,1,2,3,1,4,1,1,0,2,1,3,2,2,0,2,1,2,1,1,1,0,0,3,1,1,1,1,1,1,0,1,1,2,3,1,1],\"xaxis\":\"x3\",\"yaxis\":\"y3\",\"type\":\"histogram\"}],                        {\"template\":{\"data\":{\"histogram2dcontour\":[{\"type\":\"histogram2dcontour\",\"colorbar\":{\"outlinewidth\":0,\"ticks\":\"\"},\"colorscale\":[[0.0,\"#0d0887\"],[0.1111111111111111,\"#46039f\"],[0.2222222222222222,\"#7201a8\"],[0.3333333333333333,\"#9c179e\"],[0.4444444444444444,\"#bd3786\"],[0.5555555555555556,\"#d8576b\"],[0.6666666666666666,\"#ed7953\"],[0.7777777777777778,\"#fb9f3a\"],[0.8888888888888888,\"#fdca26\"],[1.0,\"#f0f921\"]]}],\"choropleth\":[{\"type\":\"choropleth\",\"colorbar\":{\"outlinewidth\":0,\"ticks\":\"\"}}],\"histogram2d\":[{\"type\":\"histogram2d\",\"colorbar\":{\"outlinewidth\":0,\"ticks\":\"\"},\"colorscale\":[[0.0,\"#0d0887\"],[0.1111111111111111,\"#46039f\"],[0.2222222222222222,\"#7201a8\"],[0.3333333333333333,\"#9c179e\"],[0.4444444444444444,\"#bd3786\"],[0.5555555555555556,\"#d8576b\"],[0.6666666666666666,\"#ed7953\"],[0.7777777777777778,\"#fb9f3a\"],[0.8888888888888888,\"#fdca26\"],[1.0,\"#f0f921\"]]}],\"heatmap\":[{\"type\":\"heatmap\",\"colorbar\":{\"outlinewidth\":0,\"ticks\":\"\"},\"colorscale\":[[0.0,\"#0d0887\"],[0.1111111111111111,\"#46039f\"],[0.2222222222222222,\"#7201a8\"],[0.3333333333333333,\"#9c179e\"],[0.4444444444444444,\"#bd3786\"],[0.5555555555555556,\"#d8576b\"],[0.6666666666666666,\"#ed7953\"],[0.7777777777777778,\"#fb9f3a\"],[0.8888888888888888,\"#fdca26\"],[1.0,\"#f0f921\"]]}],\"heatmapgl\":[{\"type\":\"heatmapgl\",\"colorbar\":{\"outlinewidth\":0,\"ticks\":\"\"},\"colorscale\":[[0.0,\"#0d0887\"],[0.1111111111111111,\"#46039f\"],[0.2222222222222222,\"#7201a8\"],[0.3333333333333333,\"#9c179e\"],[0.4444444444444444,\"#bd3786\"],[0.5555555555555556,\"#d8576b\"],[0.6666666666666666,\"#ed7953\"],[0.7777777777777778,\"#fb9f3a\"],[0.8888888888888888,\"#fdca26\"],[1.0,\"#f0f921\"]]}],\"contourcarpet\":[{\"type\":\"contourcarpet\",\"colorbar\":{\"outlinewidth\":0,\"ticks\":\"\"}}],\"contour\":[{\"type\":\"contour\",\"colorbar\":{\"outlinewidth\":0,\"ticks\":\"\"},\"colorscale\":[[0.0,\"#0d0887\"],[0.1111111111111111,\"#46039f\"],[0.2222222222222222,\"#7201a8\"],[0.3333333333333333,\"#9c179e\"],[0.4444444444444444,\"#bd3786\"],[0.5555555555555556,\"#d8576b\"],[0.6666666666666666,\"#ed7953\"],[0.7777777777777778,\"#fb9f3a\"],[0.8888888888888888,\"#fdca26\"],[1.0,\"#f0f921\"]]}],\"surface\":[{\"type\":\"surface\",\"colorbar\":{\"outlinewidth\":0,\"ticks\":\"\"},\"colorscale\":[[0.0,\"#0d0887\"],[0.1111111111111111,\"#46039f\"],[0.2222222222222222,\"#7201a8\"],[0.3333333333333333,\"#9c179e\"],[0.4444444444444444,\"#bd3786\"],[0.5555555555555556,\"#d8576b\"],[0.6666666666666666,\"#ed7953\"],[0.7777777777777778,\"#fb9f3a\"],[0.8888888888888888,\"#fdca26\"],[1.0,\"#f0f921\"]]}],\"mesh3d\":[{\"type\":\"mesh3d\",\"colorbar\":{\"outlinewidth\":0,\"ticks\":\"\"}}],\"scatter\":[{\"fillpattern\":{\"fillmode\":\"overlay\",\"size\":10,\"solidity\":0.2},\"type\":\"scatter\"}],\"parcoords\":[{\"type\":\"parcoords\",\"line\":{\"colorbar\":{\"outlinewidth\":0,\"ticks\":\"\"}}}],\"scatterpolargl\":[{\"type\":\"scatterpolargl\",\"marker\":{\"colorbar\":{\"outlinewidth\":0,\"ticks\":\"\"}}}],\"bar\":[{\"error_x\":{\"color\":\"#2a3f5f\"},\"error_y\":{\"color\":\"#2a3f5f\"},\"marker\":{\"line\":{\"color\":\"#E5ECF6\",\"width\":0.5},\"pattern\":{\"fillmode\":\"overlay\",\"size\":10,\"solidity\":0.2}},\"type\":\"bar\"}],\"scattergeo\":[{\"type\":\"scattergeo\",\"marker\":{\"colorbar\":{\"outlinewidth\":0,\"ticks\":\"\"}}}],\"scatterpolar\":[{\"type\":\"scatterpolar\",\"marker\":{\"colorbar\":{\"outlinewidth\":0,\"ticks\":\"\"}}}],\"histogram\":[{\"marker\":{\"pattern\":{\"fillmode\":\"overlay\",\"size\":10,\"solidity\":0.2}},\"type\":\"histogram\"}],\"scattergl\":[{\"type\":\"scattergl\",\"marker\":{\"colorbar\":{\"outlinewidth\":0,\"ticks\":\"\"}}}],\"scatter3d\":[{\"type\":\"scatter3d\",\"line\":{\"colorbar\":{\"outlinewidth\":0,\"ticks\":\"\"}},\"marker\":{\"colorbar\":{\"outlinewidth\":0,\"ticks\":\"\"}}}],\"scattermapbox\":[{\"type\":\"scattermapbox\",\"marker\":{\"colorbar\":{\"outlinewidth\":0,\"ticks\":\"\"}}}],\"scatterternary\":[{\"type\":\"scatterternary\",\"marker\":{\"colorbar\":{\"outlinewidth\":0,\"ticks\":\"\"}}}],\"scattercarpet\":[{\"type\":\"scattercarpet\",\"marker\":{\"colorbar\":{\"outlinewidth\":0,\"ticks\":\"\"}}}],\"carpet\":[{\"aaxis\":{\"endlinecolor\":\"#2a3f5f\",\"gridcolor\":\"white\",\"linecolor\":\"white\",\"minorgridcolor\":\"white\",\"startlinecolor\":\"#2a3f5f\"},\"baxis\":{\"endlinecolor\":\"#2a3f5f\",\"gridcolor\":\"white\",\"linecolor\":\"white\",\"minorgridcolor\":\"white\",\"startlinecolor\":\"#2a3f5f\"},\"type\":\"carpet\"}],\"table\":[{\"cells\":{\"fill\":{\"color\":\"#EBF0F8\"},\"line\":{\"color\":\"white\"}},\"header\":{\"fill\":{\"color\":\"#C8D4E3\"},\"line\":{\"color\":\"white\"}},\"type\":\"table\"}],\"barpolar\":[{\"marker\":{\"line\":{\"color\":\"#E5ECF6\",\"width\":0.5},\"pattern\":{\"fillmode\":\"overlay\",\"size\":10,\"solidity\":0.2}},\"type\":\"barpolar\"}],\"pie\":[{\"automargin\":true,\"type\":\"pie\"}]},\"layout\":{\"autotypenumbers\":\"strict\",\"colorway\":[\"#636efa\",\"#EF553B\",\"#00cc96\",\"#ab63fa\",\"#FFA15A\",\"#19d3f3\",\"#FF6692\",\"#B6E880\",\"#FF97FF\",\"#FECB52\"],\"font\":{\"color\":\"#2a3f5f\"},\"hovermode\":\"closest\",\"hoverlabel\":{\"align\":\"left\"},\"paper_bgcolor\":\"white\",\"plot_bgcolor\":\"#E5ECF6\",\"polar\":{\"bgcolor\":\"#E5ECF6\",\"angularaxis\":{\"gridcolor\":\"white\",\"linecolor\":\"white\",\"ticks\":\"\"},\"radialaxis\":{\"gridcolor\":\"white\",\"linecolor\":\"white\",\"ticks\":\"\"}},\"ternary\":{\"bgcolor\":\"#E5ECF6\",\"aaxis\":{\"gridcolor\":\"white\",\"linecolor\":\"white\",\"ticks\":\"\"},\"baxis\":{\"gridcolor\":\"white\",\"linecolor\":\"white\",\"ticks\":\"\"},\"caxis\":{\"gridcolor\":\"white\",\"linecolor\":\"white\",\"ticks\":\"\"}},\"coloraxis\":{\"colorbar\":{\"outlinewidth\":0,\"ticks\":\"\"}},\"colorscale\":{\"sequential\":[[0.0,\"#0d0887\"],[0.1111111111111111,\"#46039f\"],[0.2222222222222222,\"#7201a8\"],[0.3333333333333333,\"#9c179e\"],[0.4444444444444444,\"#bd3786\"],[0.5555555555555556,\"#d8576b\"],[0.6666666666666666,\"#ed7953\"],[0.7777777777777778,\"#fb9f3a\"],[0.8888888888888888,\"#fdca26\"],[1.0,\"#f0f921\"]],\"sequentialminus\":[[0.0,\"#0d0887\"],[0.1111111111111111,\"#46039f\"],[0.2222222222222222,\"#7201a8\"],[0.3333333333333333,\"#9c179e\"],[0.4444444444444444,\"#bd3786\"],[0.5555555555555556,\"#d8576b\"],[0.6666666666666666,\"#ed7953\"],[0.7777777777777778,\"#fb9f3a\"],[0.8888888888888888,\"#fdca26\"],[1.0,\"#f0f921\"]],\"diverging\":[[0,\"#8e0152\"],[0.1,\"#c51b7d\"],[0.2,\"#de77ae\"],[0.3,\"#f1b6da\"],[0.4,\"#fde0ef\"],[0.5,\"#f7f7f7\"],[0.6,\"#e6f5d0\"],[0.7,\"#b8e186\"],[0.8,\"#7fbc41\"],[0.9,\"#4d9221\"],[1,\"#276419\"]]},\"xaxis\":{\"gridcolor\":\"white\",\"linecolor\":\"white\",\"ticks\":\"\",\"title\":{\"standoff\":15},\"zerolinecolor\":\"white\",\"automargin\":true,\"zerolinewidth\":2},\"yaxis\":{\"gridcolor\":\"white\",\"linecolor\":\"white\",\"ticks\":\"\",\"title\":{\"standoff\":15},\"zerolinecolor\":\"white\",\"automargin\":true,\"zerolinewidth\":2},\"scene\":{\"xaxis\":{\"backgroundcolor\":\"#E5ECF6\",\"gridcolor\":\"white\",\"linecolor\":\"white\",\"showbackground\":true,\"ticks\":\"\",\"zerolinecolor\":\"white\",\"gridwidth\":2},\"yaxis\":{\"backgroundcolor\":\"#E5ECF6\",\"gridcolor\":\"white\",\"linecolor\":\"white\",\"showbackground\":true,\"ticks\":\"\",\"zerolinecolor\":\"white\",\"gridwidth\":2},\"zaxis\":{\"backgroundcolor\":\"#E5ECF6\",\"gridcolor\":\"white\",\"linecolor\":\"white\",\"showbackground\":true,\"ticks\":\"\",\"zerolinecolor\":\"white\",\"gridwidth\":2}},\"shapedefaults\":{\"line\":{\"color\":\"#2a3f5f\"}},\"annotationdefaults\":{\"arrowcolor\":\"#2a3f5f\",\"arrowhead\":0,\"arrowwidth\":1},\"geo\":{\"bgcolor\":\"white\",\"landcolor\":\"#E5ECF6\",\"subunitcolor\":\"white\",\"showland\":true,\"showlakes\":true,\"lakecolor\":\"white\"},\"title\":{\"x\":0.05},\"mapbox\":{\"style\":\"light\"}}},\"xaxis\":{\"anchor\":\"y\",\"domain\":[0.0,0.31999999999999995],\"title\":{\"text\":\"Medicinas_tomadas\"}},\"yaxis\":{\"anchor\":\"x\",\"domain\":[0.0,1.0],\"title\":{\"text\":\"count\"}},\"xaxis2\":{\"anchor\":\"y2\",\"domain\":[0.33999999999999997,0.6599999999999999],\"matches\":\"x\",\"title\":{\"text\":\"Medicinas_tomadas\"}},\"yaxis2\":{\"anchor\":\"x2\",\"domain\":[0.0,1.0],\"matches\":\"y\",\"showticklabels\":false},\"xaxis3\":{\"anchor\":\"y3\",\"domain\":[0.6799999999999999,0.9999999999999999],\"matches\":\"x\",\"title\":{\"text\":\"Medicinas_tomadas\"}},\"yaxis3\":{\"anchor\":\"x3\",\"domain\":[0.0,1.0],\"matches\":\"y\",\"showticklabels\":false},\"annotations\":[{\"font\":{},\"showarrow\":false,\"text\":\"readmitted=\\u003c30\",\"x\":0.15999999999999998,\"xanchor\":\"center\",\"xref\":\"paper\",\"y\":1.0,\"yanchor\":\"bottom\",\"yref\":\"paper\"},{\"font\":{},\"showarrow\":false,\"text\":\"readmitted=\\u003e30\",\"x\":0.49999999999999994,\"xanchor\":\"center\",\"xref\":\"paper\",\"y\":1.0,\"yanchor\":\"bottom\",\"yref\":\"paper\"},{\"font\":{},\"showarrow\":false,\"text\":\"readmitted=NO\",\"x\":0.8399999999999999,\"xanchor\":\"center\",\"xref\":\"paper\",\"y\":1.0,\"yanchor\":\"bottom\",\"yref\":\"paper\"}],\"legend\":{\"tracegroupgap\":0},\"title\":{\"text\":\"Distribuci\\u00f3n del n\\u00famero de medicinas tomadas al tiempo\"},\"barmode\":\"relative\"},                        {\"responsive\": true}                    ).then(function(){\n",
              "                            \n",
              "var gd = document.getElementById('fd484b1c-af6a-42ca-862b-e094fab07362');\n",
              "var x = new MutationObserver(function (mutations, observer) {{\n",
              "        var display = window.getComputedStyle(gd).display;\n",
              "        if (!display || display === 'none') {{\n",
              "            console.log([gd, 'removed!']);\n",
              "            Plotly.purge(gd);\n",
              "            observer.disconnect();\n",
              "        }}\n",
              "}});\n",
              "\n",
              "// Listen for the removal of the full notebook cells\n",
              "var notebookContainer = gd.closest('#notebook-container');\n",
              "if (notebookContainer) {{\n",
              "    x.observe(notebookContainer, {childList: true});\n",
              "}}\n",
              "\n",
              "// Listen for the clearing of the current output cell\n",
              "var outputEl = gd.closest('.output');\n",
              "if (outputEl) {{\n",
              "    x.observe(outputEl, {childList: true});\n",
              "}}\n",
              "\n",
              "                        })                };                            </script>        </div>\n",
              "</body>\n",
              "</html>"
            ]
          },
          "metadata": {}
        }
      ]
    },
    {
      "cell_type": "markdown",
      "source": [
        "Se observa la misma tendencia en los 3 casos de readmición y la cantidad de medicinas tomadas. Un posible approach interesante sería ver esta distribución cuando en su primera consulta y su segunda consulta"
      ],
      "metadata": {
        "id": "4FHU9IT2ItwD"
      }
    },
    {
      "cell_type": "code",
      "source": [
        "first_add = Hernandez[Hernandez['all_time_number_inpatient']==1]\n",
        "first_add_med = first_add[['metformin', 'repaglinide', 'nateglinide', 'chlorpropamide',\n",
        "                                   'glimepiride', 'acetohexamide', 'glipizide', 'glyburide',\n",
        "                                   'tolbutamide', 'pioglitazone', 'rosiglitazone', 'acarbose',\n",
        "                                   'miglitol', 'troglitazone', 'tolazamide', 'examide',\n",
        "                                   'citoglipton', 'insulin', 'glyburide-metformin',\n",
        "                                   'glipizide-metformin', 'glimepiride-pioglitazone',\n",
        "                                   'metformin-rosiglitazone', 'metformin-pioglitazone']]\n",
        "\n",
        "first_add_med = first_add_med.loc[:, first_add_med.nunique() > 1] #Quitamos las columnas que solo tienen un valor constante\n",
        "first_add_med['Medicinas_tomadas'] = first_add_med.apply(lambda row: (row != 'No').sum(), axis=1) #Porque la columna de readmitted agrega un valor\n",
        "first_add_med['readmitted'] = Hernandez['readmitted']\n",
        "fig = px.histogram(first_add_med, x='Medicinas_tomadas', nbins=11, title='Distribución del número de medicinas tomadas al tiempo',\n",
        "                   facet_col='readmitted')\n",
        "fig.show()"
      ],
      "metadata": {
        "colab": {
          "base_uri": "https://localhost:8080/",
          "height": 542
        },
        "id": "dDUJ1OINoLnX",
        "outputId": "3606b897-ef50-4147-bf0a-576e3e78d8a6"
      },
      "execution_count": 129,
      "outputs": [
        {
          "output_type": "display_data",
          "data": {
            "text/html": [
              "<html>\n",
              "<head><meta charset=\"utf-8\" /></head>\n",
              "<body>\n",
              "    <div>            <script src=\"https://cdnjs.cloudflare.com/ajax/libs/mathjax/2.7.5/MathJax.js?config=TeX-AMS-MML_SVG\"></script><script type=\"text/javascript\">if (window.MathJax && window.MathJax.Hub && window.MathJax.Hub.Config) {window.MathJax.Hub.Config({SVG: {font: \"STIX-Web\"}});}</script>                <script type=\"text/javascript\">window.PlotlyConfig = {MathJaxConfig: 'local'};</script>\n",
              "        <script charset=\"utf-8\" src=\"https://cdn.plot.ly/plotly-2.35.2.min.js\"></script>                <div id=\"e25f2702-f227-4e73-8d58-0d6a3bed08c4\" class=\"plotly-graph-div\" style=\"height:525px; width:100%;\"></div>            <script type=\"text/javascript\">                                    window.PLOTLYENV=window.PLOTLYENV || {};                                    if (document.getElementById(\"e25f2702-f227-4e73-8d58-0d6a3bed08c4\")) {                    Plotly.newPlot(                        \"e25f2702-f227-4e73-8d58-0d6a3bed08c4\",                        [{\"alignmentgroup\":\"True\",\"bingroup\":\"x\",\"hovertemplate\":\"readmitted=\\u003c30\\u003cbr\\u003eMedicinas_tomadas=%{x}\\u003cbr\\u003ecount=%{y}\\u003cextra\\u003e\\u003c\\u002fextra\\u003e\",\"legendgroup\":\"\",\"marker\":{\"color\":\"#636efa\",\"pattern\":{\"shape\":\"\"}},\"name\":\"\",\"nbinsx\":11,\"offsetgroup\":\"\",\"orientation\":\"v\",\"showlegend\":false,\"x\":[3,1,1,0,1,2,0,0,1,0,0,0,1,1,2,0,2,1,1,3,1,1,1,0,1,1,1,1,1,1,0,1,1,0,3,1,1,0,1,1,2,1,1,2,1,0,0,1,0,1,0,1,1,2,0,1,2,2,1,1,1,1,2,0,2,1,1,1,2,1,2,3,2,2,0,0,1,3,0,1,2,1,2,0,1,0,0,1,1,1,1,1,0,2,1,1,1,1,2,1,0,1,2,2,1,0,1,1,2,1,1,1,0,1,0,1,2,1,0,2,2,1,1,1,0,2,1,1,0,3,2,2,0,1,1,4,2,2,1,1,1,1,1,0,1,3,1,0,0,0,1,1,1,2,1,1,1,0,0,1,3,1,1,1,0,2,1,1,1,1,2,0,0,0,1,2,1,1,1,0,0,0,4,1,2,2,1,2,3,0,0,2,1,1,1,0,1,2,1,0,1,1,2,0,1,1,0,3,1,0,1,1,3,0,3,1,1,1,1,1,1,1,2,2,2,2,1,2,1,1,2,1,0,1,2,1,2,1,1,1,1,1,2,1,1,1,1,2,1,2,0,0,3,2,1,2,1,1,1,2,1,0,1,0,0,0,0,1,0,1,1,3,1,0,0,0,3,0,0,2,0,0,1,0,1,2,2,1,3,0,1,3,3,0,1,2,1,2,1,0,3,3,1,0,1,3,1,2,0,1,0,1,2,3,2,0,2,2,2,0,2,0,1,1,3,2,1,1,1,1,2,0,1,2,1,1,1,3,1,1,2,0,1,0,1,1,2,3,1,0,2,0,0,1,1,2,1,1,3,1,1,0,3,1,2,2,3,1,1,1,1,0,1,1,0,1,2,1,2,3,2,2,2,1,2,1,1,2,1,1,1,1,1,0,2,1,0,0,2,2,0,0,3,3,1,1,3,1,2,3,1,2,1,1,0,1,2,1,1,1,1,2,2,0,3,2,1,1,4,1,1,0,2,1,3,1,2,0,0,2,0,0,2,1,0,1,1,1,1,2,0,0,1,1,0,1,0,1,0,2,1,0,0,1,1,0,2,1,0,0,1,0,1,0,3,1,1,0,1,0,1,0,1,0,1,1,1,0,0,1,4,2,1,1,3,3,1,1,1,1,0,2,2,2,1,0,1,2,0,0,0,3,2,1,2,3,1,1,2,1,1,1,0,1,1,0,1,0,2,1,1,0,1,0,3,1,2,0,2,1,1,0,1,1,2,0,2,1,0,1,0,0,1,3,1,1,1,1,2,1,1,0,1,2,1,2,1,0,2,3,0,0,1,1,0,0,1,0,1,2,2,1,3,1,3,1,1,1,1,3,1,2,0,3,1,0,1,0,1,1,1,1,1,1,0,2,1,2,0,2,0,2,2,1,1,1,0,0,1,1,0,2,2,0,2,1,0,1,1,0,0,1,2,2,0,2,1,0,0,1,2,1,1,2,1,3,2,1,1,1,1,0,2,1,1,1,1,0,2,1,2,0,1,2,2,1,0,0,1,1,2,0,1,0,1,0,0,0,0,1,0,1,2,1,0,1,0,3,0,1,2,0,1,1,6,1,2,0,0,1,2,3,1,1,2,1,2,1,2,3,1,1,1,2,1,2,0,1,0,1,1,1,2,1,2,1,1,3,1,3,1,2,1,1,1,1,1,3,1,1,2,0,2,2,0,1,2,2,2,1,1,0,1,3,1,1,2,2,1,1,1,0,2,1,2,0,0,1,0,2,1,4,0,3,1,2,0,1,1,0,1,2,1,0,1,2,1,2,0,1,2,0,2,2,1,0,0,0,1,0,1,0,2,0,0,1,3,2,2,2,1,2,3,1,2,1,0,1,0,1,1,2,2,1,2,1,1,0,1,1,2,3,1,1,1,0,2,3,3,1,1,1,0,0,2,0,1,0,2,2,0,2,0,1,1,2,1,0,0,1,1,1,0,1,2,3,1,1,1,1,2,2,1,0,1,1,1,1,2,2,2,2,1,3,0,0,1,0,1,1,2,1,2,1,2,2,1,2,2,1,1,1,2,1,4,2,3,2,1,0,0,1,2,2,1,1,2,4,1,1,1,1,1,1,1,2,2,1,2,1,1,1,0,1,2,0,2,1,3,1,2,1,0,1,2,0,1,0,2,2,1,0,1,1,2,0,2,2,2,1,1,1,0,1,0,0,1,1,2,3,0,2,0,2,0,2,0,1,1,1,1,1,0,1,0,2,1,1,0,0,0,3,1,1,2,2,2,1,0,0,1,1,1,1,1,1,1,1,1,1,3,2,2,1,1,0,3,1,2,1,2,2,2,2,0,2,0,4,0,1,0,1,1,1,1,1,1,1,1,1,0,4,3,0,1,1,2,2,1,0,2,2,2,1,1,2,1,1,3,1,1,0,1,1,1,1,1,1,4,1,1,2,0,1,1,1,1,1,1,0,3,2,1,1,1,0,2,1,1,0,1,0,1,0,2,1,0,1,0,0,3,1,3,0,1,1,3,4,1,1,1,1,1,1,1,2,1,2,0,2,0,1,1,1,1,1,1,0,1,0,1,1,1,2,2,2,1,1,1,0,2,1,1,2,2,1,0,1,3,1,2,0,1,0,2,3,1,1,2,1,0,1,0,2,1,4,2,2,2,1,2,1,1,3,2,1,1,1,1,2,1,1,1,1,1,1,0,4,2,0,1,1,2,1,2,1,3,3,1,1,1,1,2,2,4,2,1,1,1,1,2,2,2,1,3,2,2,2,2,0,1,1,2,1,3,1,2,1,1,1,2,2,0,1,0,0,0,1,1,1,1,2,1,1,4,0,0,0,2,1,1,2,2,1,1,1,1,4,2,1,4,0,1,1,1,0,1,0,1,1,0,1,1,1,0,2,1,2,1,1,0,1,0,2,0,0,2,1,0,3,1,1,1,2,2,1,0,0,3,1,0,2,1,0,1,1,0,1,2,1,3,3,0,0,3,1,1,1,1,2,1,1,3,1,1,1,2,2,1,2,1,4,2,1,0,1,1,2,0,0,0,2,1,0,3,1,0,2,2,1,0,1,1,2,1,2,1,3,1,1,0,0,2,3,3,2,1,1,3,2,3,1,1,3,0,1,2,2,2,1,0,2,1,3,3,1,1,0,1,2,1,2,1,1,0,1,2,1,1,1,2,1,1,2,1,1,1,2,2,2,1,2,3,2,1,0,1,1,1,2,1,2,2,2,1,0,1,2,1,1,0,2,1,1,1,1,1,2,1,1,0,2,1,1,1,2,1,1,2,1,1,1,1,1,1,1,1,1,1,1,0,1,1,1,2,1,1,1,2,1,1,1,1,1,0,1,1,2,1,3,1,1,1,3,0,1,1,0,1,0,1,2,0,1,1,1,3,1,0,3,1,2,1,3,1,0,1,2,1,1,2,2,3,1,0,1,1,1,2,3,1,1,0,1,0,1,2,3,0,1,1,1,3,0,2,1,2,1,1,4,2,4,1,0,1,1,1,2,1,1,2,2,1,3,1,1,3,2,0,1,1,2,1,2,1,2,0,1,2,2,1,1,3,0,1,1,0,3,1,3,1,0,0,0,1,1,1,2,1,1,1,1,1,1,0,0,0,2,0,1,1,1,1,0,1,1,2,2,0,2,0,1,3,1,2,1,1,1,1,3,1,2,1,1,1,2,1,1,1,0,2,1,2,1,1,2,1,1,0,1,1,2,1,3,3,1,2,3,1,1,1,1,0,0,2,3,0,0,2,0,1,0,1,1,4,3,2,2,2,1,1,1,1,1,2,1,1,2,1,2,2,1,2,1,1,2,1,2,1,2,1,1,1,0,0,1,2,1,0,2,1,1,1,0,1,3,1,0,0,0,3,2,2,2,2,3,1,1,1,1,2,1,1,2,2,2,1,1,4,2,0,4,2,1,0,0,0,4,1,0,1,1,1,1,1,0,2,0,0,0,2,1,0,2,2,1,1,0,1,1,0,2,2,1,2,1,1,1,2,1,2,1,1,2,1,1,1,0,1,0,2,1,1,1,1,2,1,1,1,2,1,0,1,1,1,1,3,2,1,1,1,1,0,1,1,2,1,1,0,2,1,0,0,1,2,2,1,0,1,1,1,0,2,1,1,3,1,1,1,2,1,2,1,0,1,2,1,1,3,1,2,1,2,0,1,1,2,1,0,1,0,1,2,2,1,2,2,0,3,2,2,1,1,1,1,2,3,0,2,2,0,2,1,1,1,0,1,2,1,1,1,1,4,1,0,2,3,1,1,2,0,3,3,1,2,3,0,1,2,1,0,3,0,1,1,2,0,1,3,1,3,1,1,1,2,2,1,0,1,1,1,0,1,1,1,2,0,2,1,1,2,3,0,2,1,1,1,2,1,2,2,3,2,2,3,2,0,2,1,2,2,0,1,2,3,1,2,1,0,3,2,1,1,2,0,1,1,2,4,1,1,1,1,1,1,3,3,1,0,1,1,1,0,0,0,0,1,1,1,1,3,2,1,3,1,3,0,1,2,1,3,4,1,1,2,1,1,2,1,3,0,1,2,1,2,2,2,1,3,1,1,1,2,1,2,1,0,1,1,1,2,2,2,3,2,1,1,2,0,0,1,2,3,1,1,3,3,1,1,1,1,2,2,1,1,0,2,1,1,0,2,1,2,1,1,3,1,1,1,2,1,1,2,1,1,1,2,0,3,1,1,0,2,1,1,1,4,2,1,1,0,1,1,2,3,1,1,1,2,1,1,1,0,1,1,1,0,2,0,3,2,1,1,2,1,1,1,2,3,1,3,1,1,1,0,2,2,2,2,1,1,0,1,1,2,0,3,0,4,1,1,0,2,2,0,2,0,1,1,1,1,1,2,0,1,3,2,2,0,2,1,1,2,1,2,3,1,2,1,0,0,4,2,1,1,2,1,1,2,1,1,2,1,0,1,1,2,1,2,1,2,3,3,3,2,1,1,0,2,1,1,1,2,2,2,4,1,1,0,1,1,2,1,1,1,1,1,2,2,1,1,1,1,2,1,1,0,1,3,1,1,1,1,1,2,0,1,3,2,1,1,1,1,2,1,2,3,3,0,2,1,2,2,1,2,2,1,4,1,1,2,1,0,1,2,1,0,1,1,2,2,2,0,1,2,1,0,2,2,1,0,1,0,1,1,2,1,2,2,2,3,2,1,1,1,1,1,1,1,2,1,2,1,0,0,1,0,4,2,0,2,1,1,1,1,1,0,1,2,3,1,2,3,3,1,1,0,1,2,2,1,2,1,2,0,0,0,1,1,1,1,1,3,1,0,2,2,0,2,2,1,1,2,1,1,2,2,1,1,1,2,1,2,1,3,1,0,3,1,0,2,3,1,2,1,1,1,2,1,2,1,2,1,1,3,1,1,1,1,0,2,1,1,1,0,1,1,2,1,0,2,2,0,1,1,0,1,2,1,1,0,2,1,2,1,1,1,2,1,2,1,1,2,2,2,2,0,2,1,3,1,1,1,0,1,2,1,2,1,1,3,1,1,1,1,1,3,3,1,1,1,0,1,0,1,2,3,1,0,1,4,0,1,0,3,2,1,1,1,0,2,0,1,2,1,3,0,1,0,1,1,1,2,3,0,2,0,1,1,3,0,2,2,1,0,2,3,3,2,0,2,1,2,2,0,0,1,0,2,2,0,1,1,1,2,1,2,1,1,2,2,1,1,1,1,3,1,1,2,3,1,0,0,1,1,1,0,3,3,3,4,0,2,1,1,2,2,1,1,2,0,2,1,2,0,3,1,0,1,1,2,0,1,4,1,1,1,1,1,1,1,1,0,0,1,1,1,0,1,0,1,2,2,1,1,3,3,3,1,2,1,3,1,2,1,4,2,2,1,0,0,0,2,0,0,0,4,2,1,0,1,1,0,1,1,3,1,2,0,1,1,1,1,3,2,1,1,1,1,1,1,0,0,0,1,2,2,2,0,1,3,1,1,4,0,3,1,2,1,1,1,1,0,1,2,1,1,2,0,0,0,4,3,1,0,0,0,1,1,2,1,1,0,1,1,1,2,2,1,2,0,2,2,2,2,1,3,2,3,1,0,1,1,1,1,2,1,2,3,3,1,2,0,1,1,0,1,1,0,1,1,2,2,0,4,1,1,1,1,1,1,0,2,2,2,3,1,1,3,0,1,0,0,2,2,2,1,1,3,2,1,2,1,1,2,2,1,0,2,0,2,1,1,1,1,0,0,2,1,1,1,2,3,2,2,1,3,3,1,2,2,1,0,3,0,1,1,1,0,2,1,3,1,0,1,3,3,2,1,2,3,2,0,1,1,1,2,2,0,3,2,1,1,1,0,1,1,0,1,3,2,3,1,1,4,2,1,0,1,2,1,2,0,1,1,0,0,0,1,0,1,1,2,0,2,1,0,1,0,2,3,1,0,0,0,1,1,0,1,1,1,1,2,1,1,1,3,3,2,1,2,3,0,1,0,1,2,2,1,1,1,1,1,2,2,2,1,2,1,1,1,0,3,1,1,3,1,1,0,1,2,1,1,2,2,2,0,1,1,1,1,0,2,1,2,1,1,2,2,2,2,0,0,0,2,4,1,1,1,1,0,1,1,1,1,3,2,0,1,0,1,1,2,0,3,1,1,0,0,3,0,2,1,0,1,2,1,4,0,1,0,0,0,0,0,1,2,0,2,0,1,1,2,0,1,0,1,0,0,0,2,1,3,1,2,2,1,0,1,0,0,1,0,2,0,0,0,1,1,1,0,0,0,2,1,1,0,1,1,1,1,0,4,1,1,0,0,1,2,0,0,1,1,1,1,0,2,1,1,0,0,0,3,0,0,0,1,2,0,0,1,1,3,2,1,1,2,1,0,1,1,2,0,1,1,0,3,0,1,1,1,2,2,0,2,1,0,0,2,2,0,1,0,1,0,0,3,1,1,1,1,2,1,1,1,1,0,0,2,1,0,2,2,3,1,1,0,0,1,1,1,1,2,1,1,1,1,1,0,3,1,1,1,1,1,0,1,1,2,1,2,1,1,1,2,0,2,0,0,1,1,1,0,1,2,1,2,1,0,0,2,1,0,0,2,0,0,0,0,2,2,2,1,0,1,0,1,1,0,1,0,1,1,1,0,0,2,1,1,2,1,3,3,1,1,3,1,0,1,0,1,2,2,0,2,1,1,2,0,0,1,1,2,2,0,1,3,1,1,3,3,1,2,0,1,1,1,1,2,0,2,1,1,1,1,3,0,0,0,0,1,0,1,1,1,0,2,2,1,1,1,1,2,0,1,1,1,1,2,1,0,2,0,1,0,0,3,2,1,1,1,4,3,0,2,0,2,2,2,1,1,1,1,1,1,1,0,2,1,0,3,0,2,0,1,1,0,1,1,1,2,1,2,0,2,0,1,4,1,1,0,1,1,2,1,1,2,2,0,3,0,2,1,2,0,1,1,1,1,1,1,1,2,1,3,1,2,2,0,0,2,1,1,1,1,2,3,1,1,1,1,1,1,2,3,0,0,1,3,3,0,4,2,1,1,2,1,1,1,1,2,2,1,1,1,1,2,2,0,1,2,1,1,2,2,2,3,1,0,1,1,2,2,0,1,2,1,0,3,1,2,2,1,1,1,0,1,2,0,2,3,3,4,3,1,1,4,1,1,3,1,1,1,0,1,2,2,2,3,1,1,1,3,0,0,1,0,3,1,3,1,2,1,1,0,1,1,2,1,1,1,1,1,1,0,0,2,3,1,0,2,1,1,1,3,1,2,0,0,3,2,2,1,1,4,2,2,0,1,1,1,0,1,1,0,3,4,1,2,1,1,3,0,1,1,0,2,0,1,0,1,1,1,1,1,1,1,3,3,1,1,3,1,3,1,1,1,2,3,2,3,1,0,1,3,1,0,0,1,1,1,2,0,3,0,0,1,1,1,1,1,1,1,1,1,1,3,2,1,4,0,1,2,1,3,0,2,0,1,0,2,2,0,1,1,1,2,3,0,1,2,1,1,1,1,2,3,1,4,1,2,2,1,1,0,2,0,1,1,1,1,1,3,2,3,2,1,1,2,1,1,2,1,2,2,0,2,1,1,0,1,1,1,3,1,1,1,2,1,1,2,0,0,1,1,0,1,0,0,0,1,1,0,0,1,0,1,3,1,1,1,1,3,2,1,3,1,0,1,2,1,1,1,2,2,1,1,1,1,1,2,1,2,0,0,0,2,3,1,0,0,0,2,2,2,0,1,0,1,2,2,2,0,2,1,0,1,1,1,2,0,1,1,2,2,0,0,1,2,1,1,1,1,1,0,3,1,1,1,1,1,1,1,2,0,1,1,1,1,4,1,1,2,1,2,1,3,3,2,1,0,2,2,1,1,1,2,0,2,4,1,2,2,4,1,3,1,1,1,1,1,0,1,3,2,1,1,1,0,1,3,1,0,2,2,1,2,1,2,1,2,1,3,1,3,0,1,1,1,1,1,3,1,0,0,1,1,1,0,1,2,2,2,1,0,1,0,2,2,2,0,1,1,1,2,0,1,1,1,1,2,1,1,1,2,1,0,0,2,3,2,2,0,2,1,2,2,2,0,0,1,1,2,0,1,2,1,1,4,1,1,1,0,0,2,1,1,1,2,1,4,2,2,1,1,2,0,1,2,0,2,0,1,0,0,1,0,1,2,1,2,2,1,1,0,1,3,2,0,1,1,0,1,2,2,1,1,1,3,1,1,2,1,1,2,4,0,1,0,0,1,1,1,2,1,3,1,0,2,3,0,1,3,1,1,2,2,1,1,0,1,0,2,2,2,2,1,1,1,0,1,2,3,0,1,1,2,2,1,1,2,3,1,2,1,1,0,1,2,1,1,1,1,1,2,1,0,1,1,1,2,1,0,1,1,3,2,2,1,0,1,1,1,1,1,1,0,1,0,3,2,1,2,3,1,0,1,1,0,1,1,1,3,1,1,2,1,2,1,1,1,2,0,1,2,1,0,1,1,0,1,0,1,1,1,1,1,0,1,1,2,2,1,1,1,1,3,1,1,1,2,1,1,2,1,2,3,0,1,2,1,0,3,1,3,1,1,1,0,4,2,2,1,1,3,0,0,1,1,0,1,1,2,2,2,1,1,1,1,1,2,2],\"xaxis\":\"x\",\"yaxis\":\"y\",\"type\":\"histogram\"},{\"alignmentgroup\":\"True\",\"bingroup\":\"x\",\"hovertemplate\":\"readmitted=\\u003e30\\u003cbr\\u003eMedicinas_tomadas=%{x}\\u003cbr\\u003ecount=%{y}\\u003cextra\\u003e\\u003c\\u002fextra\\u003e\",\"legendgroup\":\"\",\"marker\":{\"color\":\"#636efa\",\"pattern\":{\"shape\":\"\"}},\"name\":\"\",\"nbinsx\":11,\"offsetgroup\":\"\",\"orientation\":\"v\",\"showlegend\":false,\"x\":[1,1,1,4,1,0,2,2,1,1,0,1,2,1,0,2,0,1,1,1,0,1,0,0,2,0,1,3,0,1,0,1,0,1,1,2,1,0,3,1,2,1,1,1,1,0,0,1,1,1,0,2,1,0,1,0,0,1,0,1,1,3,2,2,0,1,0,0,0,0,0,3,1,0,1,1,2,1,2,1,2,1,2,1,0,1,1,0,1,1,0,1,1,1,0,0,2,2,1,2,0,1,2,1,2,1,1,0,1,2,1,1,1,1,4,1,1,1,0,1,1,0,1,0,3,1,2,0,1,1,2,1,0,1,2,1,0,0,1,1,2,0,0,3,0,1,2,0,0,2,1,2,1,1,1,2,1,1,3,1,1,2,2,2,1,1,1,0,1,0,0,1,0,1,1,1,1,0,1,1,1,1,1,0,1,1,0,1,3,0,1,1,0,1,1,1,2,2,1,2,0,0,0,0,1,0,1,2,1,1,0,1,0,1,0,1,1,0,1,3,2,2,2,1,0,2,1,2,1,1,1,1,0,1,0,1,1,2,1,2,2,0,3,1,2,1,3,1,1,2,2,0,0,0,2,1,3,1,1,0,1,0,2,2,0,1,1,2,2,1,1,2,0,0,2,1,0,2,2,2,0,1,1,0,0,0,2,3,1,0,1,1,0,1,1,1,2,2,1,1,0,1,0,1,1,0,0,0,2,1,1,0,2,1,1,1,0,0,1,1,1,1,2,1,1,1,1,2,1,0,1,1,2,0,2,1,1,1,1,1,1,0,1,0,1,1,2,1,3,1,1,1,2,0,1,1,3,1,0,1,3,0,1,1,0,2,0,1,0,1,0,0,3,1,0,1,1,1,0,0,2,1,1,0,1,2,1,1,1,0,2,1,1,1,0,0,0,1,1,0,0,0,1,0,0,1,1,0,0,2,1,0,0,1,1,3,0,1,1,0,0,1,0,1,1,2,2,1,1,2,0,1,1,2,1,2,2,2,1,4,2,1,1,1,1,1,1,0,0,3,0,1,2,2,1,1,1,0,2,1,3,1,1,1,0,2,1,1,0,0,0,0,1,0,1,1,1,0,2,0,3,0,0,1,0,4,2,1,1,0,1,2,2,1,1,0,3,1,3,0,1,2,0,2,3,2,0,0,0,2,0,2,3,1,3,2,1,0,2,3,3,1,1,3,1,1,1,1,1,0,0,0,2,1,1,1,0,0,0,2,2,1,2,2,0,0,1,1,1,1,0,1,2,1,4,1,1,1,3,1,1,2,2,1,1,1,2,2,1,2,1,1,1,1,0,1,1,1,1,0,0,1,0,1,2,3,1,1,1,1,3,0,0,1,1,1,1,2,0,0,1,0,0,1,2,2,1,0,1,1,0,1,2,1,0,2,2,2,1,1,1,0,0,0,2,2,0,1,1,1,0,3,0,0,2,1,0,2,0,3,1,0,1,1,0,1,1,0,1,2,1,1,1,0,1,0,0,1,0,2,2,3,2,1,1,1,3,2,1,1,1,0,1,1,1,0,2,1,1,0,1,3,1,1,3,1,1,1,1,1,1,3,1,3,2,2,1,1,2,0,1,2,1,1,1,1,1,1,1,1,2,2,2,1,0,1,3,1,0,1,1,1,1,1,1,1,2,1,1,1,0,3,0,1,0,0,2,3,2,0,0,0,1,1,1,2,1,0,1,1,2,0,0,0,2,1,1,1,1,1,0,1,2,2,2,1,3,0,2,1,1,2,0,2,1,1,0,1,1,2,0,0,1,0,2,1,1,1,1,0,2,1,2,2,0,1,0,1,0,0,0,1,0,1,2,1,3,1,0,2,2,1,2,3,2,1,1,1,0,1,2,1,1,2,1,1,1,3,0,1,2,1,2,2,1,0,1,1,0,2,2,2,1,1,1,2,1,1,1,2,3,1,1,1,1,2,2,1,1,0,1,1,0,4,0,0,2,2,2,0,1,2,2,1,0,3,2,0,2,1,1,1,1,1,2,0,0,2,2,1,2,1,2,1,2,0,0,1,1,2,1,1,1,1,1,1,1,0,0,1,1,0,1,0,1,1,0,0,1,0,3,3,1,1,2,2,0,0,2,1,1,0,1,3,1,1,3,2,1,2,2,1,2,2,1,1,4,1,1,0,0,0,1,0,1,0,2,1,1,0,3,0,1,3,1,1,1,1,1,0,1,1,0,0,2,1,0,2,2,1,1,1,1,2,1,0,1,2,1,1,0,1,1,2,1,1,1,3,0,2,0,2,1,1,1,3,2,3,1,0,1,1,1,1,2,3,1,1,1,0,2,2,2,1,0,0,1,3,0,0,1,1,2,3,2,1,1,1,0,3,2,1,2,2,0,2,1,1,3,0,0,2,1,0,1,1,1,0,0,0,0,0,2,2,0,2,1,1,0,0,1,2,0,1,2,1,2,1,0,2,1,0,0,0,0,3,3,1,1,3,3,0,1,2,0,1,1,2,0,1,2,2,1,2,1,1,0,0,1,1,4,3,1,1,2,0,2,2,1,0,0,1,3,2,1,0,1,1,2,2,0,0,0,1,1,2,0,1,2,0,1,2,0,1,2,0,1,1,1,3,2,1,0,1,0,2,2,1,1,3,1,0,0,1,0,0,1,1,1,1,1,2,0,1,0,2,3,1,3,0,1,0,1,1,1,1,0,2,1,1,1,0,0,3,0,0,1,0,2,1,1,1,1,1,2,0,1,0,2,2,0,2,1,1,0,0,0,0,1,0,0,2,1,1,3,1,2,1,1,1,1,3,0,1,1,1,2,0,1,1,1,0,2,0,1,2,0,1,0,2,1,0,1,2,1,1,1,1,1,3,2,0,0,1,0,4,0,1,1,2,1,0,0,2,2,1,1,1,1,3,0,2,1,1,1,1,0,1,1,1,1,1,1,1,1,1,0,1,1,0,1,1,1,2,2,1,1,1,2,1,1,1,1,1,1,0,0,1,1,0,1,0,0,1,0,2,1,1,1,2,1,1,1,2,1,1,2,2,0,0,1,0,1,1,1,0,0,1,1,1,1,1,0,2,1,1,1,1,2,0,0,1,0,3,2,1,0,0,1,2,0,1,2,1,2,2,1,3,1,1,2,1,3,1,0,0,3,1,1,1,0,0,0,2,1,2,1,1,0,0,0,0,1,2,1,1,0,2,1,1,1,1,2,1,1,1,1,0,1,1,0,0,3,0,4,3,1,1,0,1,1,1,1,1,1,2,0,1,2,0,1,1,2,1,1,0,1,2,1,2,2,3,1,0,1,1,0,2,1,0,2,0,1,2,1,1,0,0,1,1,3,1,0,1,1,1,2,2,1,2,1,1,0,1,1,2,0,1,1,0,0,1,0,1,1,0,0,1,1,1,0,1,2,3,0,1,2,2,0,1,0,2,1,1,0,1,1,2,0,0,3,1,1,1,1,2,0,0,2,2,1,1,1,1,1,1,2,2,1,1,1,0,1,1,2,2,3,2,0,2,0,1,1,1,2,1,0,1,0,3,1,1,0,0,1,0,1,1,2,1,2,2,1,2,1,1,0,1,1,0,1,1,1,1,2,1,1,1,1,1,1,0,0,0,1,2,1,1,0,2,1,1,1,1,1,1,3,1,2,0,0,1,2,2,1,0,1,1,1,0,0,0,1,2,2,0,2,2,2,1,2,1,1,1,1,1,3,1,0,0,2,1,0,1,0,3,1,1,2,0,0,0,3,1,0,0,1,0,0,0,0,1,0,0,2,1,1,0,1,2,1,2,0,2,1,2,2,0,2,0,1,0,0,1,1,2,1,0,0,1,0,0,3,1,1,0,0,4,1,2,2,0,1,0,1,3,0,1,2,2,0,2,2,1,1,3,1,1,0,2,0,1,2,0,1,0,1,1,3,1,1,1,0,1,0,1,1,0,1,1,1,2,1,1,1,1,1,1,1,0,3,2,1,0,0,2,0,1,1,0,1,2,1,1,0,2,1,1,0,1,1,1,1,2,0,2,1,1,1,0,1,1,2,0,2,1,2,1,1,2,0,1,2,2,0,0,0,1,0,1,0,1,1,1,0,2,2,1,1,1,0,0,0,1,1,0,1,1,0,0,0,0,0,1,1,0,3,1,1,1,3,0,2,0,1,2,1,0,3,1,2,1,1,2,1,1,2,1,0,0,1,2,1,0,2,1,0,1,2,0,1,0,1,1,1,0,1,1,3,0,1,2,3,1,2,0,2,2,2,0,3,1,1,1,1,2,1,0,1,1,1,1,1,2,0,0,1,1,1,0,1,0,1,0,1,0,2,1,1,1,1,1,0,1,2,1,1,1,1,1,4,1,0,2,1,2,1,1,1,2,0,2,1,1,1,1,1,1,2,2,0,1,1,2,1,1,0,0,1,1,2,1,0,0,1,3,1,1,3,2,1,0,0,0,2,2,1,0,1,0,1,1,3,0,0,1,0,0,0,1,1,0,1,2,0,1,1,0,1,1,1,1,1,0,0,1,0,2,2,1,1,1,0,2,0,3,3,3,2,0,2,0,2,0,1,1,1,2,2,1,0,0,1,1,0,1,3,2,0,1,3,1,0,1,0,0,0,2,1,1,1,1,0,0,0,2,0,1,3,0,0,3,2,0,1,1,1,1,1,1,0,0,1,1,0,2,1,2,0,0,0,2,1,2,2,0,1,1,1,1,1,0,0,1,2,0,0,0,0,1,1,2,2,2,1,6,0,1,0,1,1,1,0,1,1,0,0,1,1,3,1,2,0,1,2,0,1,1,2,1,2,2,0,1,2,0,0,1,3,2,0,3,3,1,1,0,2,2,0,2,1,1,1,1,3,1,2,1,1,1,1,2,1,1,1,1,0,0,2,1,2,1,1,0,2,3,0,1,1,1,1,2,3,1,1,2,1,2,0,2,1,1,1,0,2,1,1,3,0,2,1,1,1,0,0,1,2,2,1,1,1,3,1,1,0,1,1,1,1,1,0,1,0,0,0,1,0,0,1,1,1,1,2,0,1,2,1,1,1,1,1,1,1,1,0,2,0,1,1,0,0,1,0,1,1,3,0,1,2,0,0,2,1,1,2,1,2,1,1,3,1,0,0,2,1,1,0,0,1,1,2,0,2,1,2,0,0,1,3,2,1,0,1,1,2,2,2,1,2,0,1,1,0,1,2,2,1,1,3,1,1,1,2,2,1,1,0,2,1,1,2,3,2,1,0,1,3,1,0,2,1,1,1,0,1,0,1,1,1,0,0,1,3,1,1,1,1,0,2,1,1,0,2,2,1,0,1,1,1,2,1,1,1,2,1,0,2,1,1,0,2,1,1,3,0,1,1,0,1,0,0,1,1,1,2,1,2,1,1,1,1,2,3,1,1,0,0,1,3,1,1,1,1,2,1,1,1,0,0,1,0,0,4,2,2,1,1,1,0,1,1,2,0,1,1,2,1,0,1,1,2,0,1,3,0,1,3,0,1,0,0,2,1,1,1,2,2,1,0,0,1,0,0,1,2,1,2,1,1,2,1,1,1,2,2,1,0,0,0,2,1,0,1,0,2,0,2,1,0,2,1,0,1,2,2,1,1,1,0,2,0,2,1,2,1,2,3,0,1,0,0,1,1,1,0,1,0,1,1,1,0,0,0,2,0,0,0,1,1,1,1,1,1,2,0,0,1,3,1,1,1,1,1,1,2,0,0,0,0,1,3,1,0,0,2,1,0,3,2,1,1,0,1,1,0,0,2,0,1,0,0,1,0,1,1,0,1,1,3,0,1,1,1,1,1,1,2,1,1,1,1,1,0,2,0,2,1,1,1,2,0,3,1,0,3,2,0,0,1,1,1,2,0,0,1,2,2,2,2,1,0,1,0,0,0,2,1,3,2,2,1,1,2,2,1,1,0,0,2,1,2,1,1,1,4,1,2,1,2,2,2,0,4,4,0,1,1,0,1,0,1,2,3,1,2,1,1,0,3,0,1,0,1,1,1,1,0,0,2,1,1,1,2,1,1,1,1,2,0,1,4,3,3,1,1,1,1,1,1,2,2,1,0,1,3,2,2,1,1,1,1,1,1,1,1,1,1,2,1,1,0,0,1,2,0,1,1,1,0,1,2,0,1,1,2,2,0,1,1,1,1,0,2,1,1,1,1,3,2,2,4,2,2,1,2,2,1,0,1,1,2,1,2,1,1,1,2,1,2,1,1,1,2,1,2,1,1,2,1,0,1,1,1,3,1,0,2,0,0,1,1,2,0,2,0,0,2,2,0,2,1,1,2,1,3,1,1,1,0,2,4,1,1,0,2,1,0,3,1,2,0,1,2,1,3,0,0,1,3,2,1,0,2,1,0,0,3,1,0,2,2,3,1,1,1,0,2,1,1,1,0,2,2,3,2,1,1,2,0,2,2,0,1,0,2,1,1,2,1,0,1,2,0,0,3,2,2,2,1,3,0,1,1,3,2,1,3,2,0,0,1,1,3,3,0,3,1,0,1,1,1,0,1,1,3,1,0,0,1,0,3,2,1,2,1,1,1,1,2,3,0,1,0,1,1,1,1,1,0,0,3,1,1,0,0,1,2,3,3,1,3,1,0,1,2,2,2,1,3,1,1,3,2,2,0,1,0,2,0,2,2,2,2,1,1,1,1,3,2,1,2,1,1,0,1,1,2,1,2,1,1,1,2,1,3,1,1,3,3,1,1,1,1,1,0,2,0,0,1,1,0,2,1,1,1,1,1,1,0,1,1,1,1,1,1,1,1,1,0,1,1,1,1,1,3,2,1,1,0,0,1,1,1,1,3,1,3,1,1,0,0,1,0,1,0,0,0,2,1,1,0,3,3,2,0,1,3,1,3,2,2,0,3,1,3,1,1,0,0,3,0,3,1,1,1,0,2,1,1,1,2,2,2,3,0,0,2,2,3,1,2,1,3,1,1,1,2,1,3,1,0,0,0,2,0,2,1,0,0,2,1,1,2,0,0,3,2,3,1,0,1,1,0,1,0,4,2,0,1,2,1,0,1,1,4,2,2,2,2,1,2,1,2,1,0,1,1,1,2,0,1,0,1,2,2,1,0,1,1,2,1,3,2,1,1,1,0,1,1,1,1,1,1,1,0,0,1,2,1,1,2,1,2,1,0,2,1,2,3,1,2,2,1,0,0,2,2,0,0,1,2,1,1,1,2,0,2,1,1,0,0,1,1,0,3,2,2,0,1,2,2,2,1,1,2,0,2,1,3,0,2,0,1,1,1,2,0,3,2,1,1,1,1,3,2,0,1,2,1,2,2,2,1,2,1,2,0,5,1,2,2,0,1,0,1,0,0,1,2,2,0,2,1,1,4,1,1,1,1,2,2,2,1,1,1,1,0,2,1,0,1,2,4,1,0,1,0,1,3,2,2,1,0,2,0,2,1,3,0,0,1,1,0,1,0,2,1,1,2,1,1,1,3,1,0,1,0,1,2,2,0,1,1,1,1,3,1,2,1,2,2,0,0,0,1,2,0,2,1,4,1,0,1,1,0,1,1,1,1,2,2,3,0,1,3,1,2,1,1,2,0,1,3,1,3,2,1,1,1,4,1,1,0,1,1,1,1,1,0,0,1,3,2,0,2,3,3,2,0,1,1,0,1,1,0,2,1,1,1,2,1,2,2,2,1,0,3,1,2,0,1,1,1,2,2,0,3,0,1,1,1,3,1,1,1,1,0,1,1,2,1,1,2,1,2,1,1,0,1,2,0,0,1,0,2,2,1,0,2,1,3,3,1,1,2,2,0,0,1,2,1,1,2,0,3,0,3,2,1,1,0,1,3,1,1,2,3,3,0,1,2,1,2,1,2,1,2,2,1,0,0,1,1,0,0,4,1,3,0,1,1,1,2,3,1,3,0,1,1,2,2,1,1,1,4,0,0,3,1,0,1,3,4,1,1,2,4,1,1,1,1,1,1,1,1,1,0,1,2,0,1,1,2,1,0,3,1,2,3,0,1,4,2,1,0,0,0,1,2,1,1,1,1,0,2,2,1,1,1,1,1,1,0,0,2,1,2,0,3,1,2,1,1,0,0,2,0,1,0,3,1,0,0,1,0,2,1,2,1,1,0,1,2,0,2,1,2,1,1,1,4,2,2,1,1,1,0,0,0,2,2,1,0,1,1,3,1,1,2,1,1,3,3,2,1,1,3,2,2,0,2,0,1,3,1,2,1,1,1,2,1,0,1,1,2,1,4,1,1,1,2,0,0,1,2,1,1,3,0,0,1,3,2,1,1,1,1,3,0,0,1,2,1,4,1,0,1,0,1,2,1,0,1,3,2,0,2,1,1,2,0,1,1,0,1,2,1,2,0,2,0,1,4,2,3,4,1,1,1,1,2,1,1,1,0,0,2,1,0,0,0,1,1,0,0,1,1,3,2,2,3,1,0,0,2,1,1,2,2,3,0,1,3,0,1,1,1,1,3,1,2,1,1,1,3,1,0,2,2,2,1,1,2,2,2,4,3,1,0,1,0,0,2,1,2,1,2,4,1,1,2,0,1,1,1,1,2,1,1,1,1,1,2,2,1,1,4,1,2,0,3,1,1,0,2,3,0,0,2,0,1,2,0,1,0,1,0,2,0,1,2,2,0,2,2,1,2,1,1,1,1,1,0,1,2,0,1,1,1,0,1,2,0,1,0,1,1,1,1,3,2,1,1,1,1,0,0,3,0,2,1,1,0,1,2,3,1,0,2,1,0,1,1,2,1,1,2,4,1,1,3,0,2,1,1,1,2,3,2,2,0,2,2,3,1,1,2,3,1,1,1,2,1,2,2,1,1,2,3,1,1,1,1,3,3,0,2,0,1,2,1,1,2,1,0,2,2,0,2,2,3,2,3,1,1,1,1,1,2,1,3,1,1,0,1,1,3,1,1,0,1,1,2,1,1,2,0,2,2,1,2,3,2,3,4,2,1,2,2,2,1,1,1,1,2,2,1,1,0,2,3,1,1,1,1,0,2,2,1,1,1,2,1,2,1,3,1,1,0,2,2,0,3,2,2,1,1,2,2,1,2,1,1,2,2,2,1,1,1,1,1,1,1,2,2,0,2,1,1,2,2,1,1,1,1,0,0,3,1,2,1,1,1,3,4,1,1,1,3,1,1,2,1,1,2,1,2,1,0,0,1,1,1,2,1,2,3,1,0,1,2,2,3,2,2,1,1,1,1,1,1,2,1,2,0,1,2,2,1,1,2,0,2,1,1,0,0,2,0,1,2,2,1,0,1,0,1,3,1,1,0,1,4,1,2,1,2,0,1,2,1,3,1,2,1,2,0,1,0,0,2,1,3,4,0,0,3,0,2,0,1,0,2,0,2,0,1,1,1,2,1,0,1,1,0,1,1,3,0,0,1,4,1,4,0,1,1,2,2,1,0,1,0,3,1,1,2,1,1,1,2,0,3,1,2,0,1,1,1,2,1,2,0,1,3,1,0,2,3,0,1,1,1,1,1,2,0,1,1,1,1,2,1,1,1,3,1,0,1,2,2,1,3,1,1,2,0,0,0,0,3,2,0,1,2,1,1,0,1,2,2,3,2,1,1,3,2,2,1,0,1,1,1,1,1,1,1,1,2,2,2,1,0,1,2,1,0,1,1,1,2,1,2,0,0,1,2,0,0,1,1,2,3,2,3,2,2,1,1,2,1,0,1,0,1,1,3,0,1,1,1,1,1,0,1,3,2,1,2,3,1,3,2,1,2,1,2,1,1,0,0,0,1,1,1,2,1,1,1,0,2,1,1,3,1,1,1,0,2,3,2,1,1,1,2,2,1,1,1,0,1,2,3,0,3,3,0,1,0,1,1,1,1,0,2,1,1,0,2,1,2,2,1,3,3,1,1,2,1,1,4,1,1,2,3,3,1,0,2,0,1,0,0,1,2,0,1,0,1,0,3,3,2,2,1,1,2,1,3,1,2,0,2,2,1,1,2,0,2,3,2,1,1,3,1,2,1,1,1,2,1,2,0,0,2,1,0,2,1,2,1,1,1,2,2,1,0,0,1,2,0,1,1,0,1,1,0,2,2,2,1,3,0,1,1,1,1,2,2,1,1,2,1,2,0,1,1,1,2,1,0,2,1,2,2,1,1,3,2,2,2,1,2,2,1,0,0,1,1,0,1,0,1,1,1,1,2,1,0,2,1,1,0,2,1,0,1,4,1,0,2,1,1,2,2,2,2,1,4,1,1,1,0,1,3,2,1,1,0,0,1,1,1,2,2,3,0,1,1,2,2,3,2,3,1,1,0,2,2,2,2,2,1,1,1,2,2,2,1,1,3,1,3,2,1,4,1,2,1,0,3,1,2,1,1,3,2,1,2,1,1,0,0,3,2,1,2,0,3,2,3,0,1,1,3,3,2,0,2,3,2,1,1,1,1,2,1,0,1,1,1,1,1,1,1,2,1,1,1,1,1,3,2,1,0,1,2,3,1,1,2,2,1,1,2,2,1,1,2,1,0,0,3,1,1,0,1,1,0,2,1,0,1,0,1,1,1,1,2,1,0,1,1,2,0,1,1,0,0,2,1,1,1,1,1,0,0,1,1,1,2,2,1,1,0,1,1,1,1,1,3,2,1,2,1,1,2,2,0,1,1,1,3,0,2,1,0,1,2,1,2,1,2,0,1,2,2,0,2,3,1,0,0,1,0,1,3,1,1,2,2,2,1,0,1,1,0,1,0,1,2,1,3,1,1,1,1,2,0,1,0,2,3,0,0,0,2,2,1,1,1,0,0,2,2,0,0,0,3,0,0,1,0,0,0,3,1,3,0,0,1,1,1,1,1,1,1,4,1,1,4,1,1,4,2,1,1,0,2,0,1,1,2,1,2,1,0,2,3,1,1,0,2,2,2,1,1,1,0,1,0,0,2,2,2,1,3,1,2,4,3,1,1,1,2,2,3,1,1,0,1,2,1,2,0,2,1,1,2,0,1,2,3,0,1,2,4,1,3,1,2,1,1,1,2,0,1,2,0,1,1,1,1,0,0,1,2,2,2,1,1,1,2,0,1,1,1,1,1,1,1,1,0,1,1,2,1,0,2,0,1,1,1,0,2,2,3,1,1,2,1,1,2,0,1,1,1,2,0,1,0,1,1,3,1,2,2,0,2,1,3,1,0,1,0,1,1,0,2,1,1,1,1,2,1,0,1,1,0,0,0,1,1,1,1,0,1,2,1,2,1,2,1,1,1,0,1,2,1,1,1,1,2,1,0,0,1,2,1,2,2,2,3,1,0,2,3,1,1,3,1,3,2,1,0,3,2,3,2,1,1,0,0,2,1,2,1,2,3,1,2,2,5,2,2,2,1,1,1,1,1,1,1,1,1,2,2,1,3,1,4,1,1,3,1,0,1,1,1,0,0,1,0,2,1,1,1,4,0,1,1,1,1,2,1,2,2,0,0,1,1,1,1,1,1,1,1,1,3,1,0,1,1,0,2,0,1,1,2,0,2,1,1,1,2,2,1,3,1,3,3,1,0,0,2,2,2,0,1,1,2,1,3,1,0,1,0,1,1,2,1,1,2,1,2,1,2,2,2,3,0,1,0,0,1,2,2,3,1,0,2,1,1,0,1,1,1,1,2,1,2,1,1,1,1,1,3,0,2,1,1,1,0,2,0,0,0,0,1,2,2,1,1,1,1,0,1,2,2,1,1,1,1,1,1,1,2,1,1,1,1,1,3,2,1,1,0,1,0,1,2,1,1,2,1,2,1,0,1,1,0,2,3,1,1,0,3,1,3,2,1,2,1,1,1,0,0,1,1,0,2,0,2,2,2,1,1,2,2,1,1,1,2,1,1,1,3,2,1,2,1,2,0,0,3,1,3,1,1,2,1,2,1,1,1,0,1,1,2,1,1,2,2,1,2,3,1,1,1,2,1,1,2,1,1,1,1,1,3,1,1,1,1,1,1,1,3,1,2,2,2,0,1,1,1,1,1,1,1,2,3,1,2,1,1,3,2,2,2,3,4,3,2,2,0,1,2,1,1,2,2,0,0,0,3,1,2,2,2,2,1,0,1,1,2,2,1,1,0,2,3,0,1,2,0,2,4,1,1,0,3,1,0,1,2,3,2,2,1,0,1,3,1,2,0,2,1,0,3,1,1,4,1,1,1,2,2,2,2,1,2,0,1,2,0,1,1,1,2,3,1,1,0,1,1,1,1,0,0,2,1,2,1,2,2,1,2,1,1,2,1,1,2,1,2,2,1,1,1,1,2,2,0,1,1,0,1,2,1,1,1,0,1,3,2,1,0,0,2,0,1,1,1,0,1,4,1,2,1,0,3,2,1,1,1,1,2,1,2,3,1,0,0,3,1,2,2,0,0,1,3,0,2,1,1,3,1,2,1,0,1,1,1,2,0,0,1,2,1,2,2,0,2,2,0,1,0,1,1,1,0,0,1,1,0,1,2,2,2,0,0,1,0,2,1,2,1,2,1,2,2,1,1,0,1,0,1,2,1,1,3,1,1,1,1,3,1,0,0,1,0,2,2,3,1,0,1,1,2,1,1,1,1,3,1,1,1,0,1,1,1,0,2,1,2,1,0,1,2,2,1,1,0,2,1,1,1,2,2,1,3,1,2,1,2,2,1,1,4,2,1,0,2,1,2,2,1,1,0,1,2,1,1,1,1,1,1,0,1,0,1,3,3,2,3,1,1,0,2,2,1,1,1,0,2,1,1,1,3,2,1,0,1,1,1,1,2,1,2,1,2,1,0,1,0,1,2,0,2,0,2,1,1,1,0,1,1,3,1,1,1,3,1,0,1,3,0,1,0,1,0,2,1,0,2,2,0,1,1,2,2,0,0,2,1,1,1,1,3,1,1,4,2,0,1,1,2,2,0,2,1,1,0,0,3,1,1,3,1,1,1,1,2,0,1,2,1,2,1,1,3,2,3,1,1,1,0,1,0,2,1,3,2,1,1,3,1,3,1,1,3,2,1,1,2,2,1,1,1,1,2,1,1,2,0,2,2,1,2,2,1,0,0,2,2,2,1,2,1,0,2,2,0,1,3,0,3,2,0,0,1,0,2,2,1,1,2,1,1,1,1,1,1,2,1,2,1,1,0,1,1,1,3,0,2,0,1,0,2,1,1,2,1,3,1,1,2,0,0,1,2,1,4,1,0,3,0,1,3,2,3,1,0,3,2,1,1,1,0,2,2,1,3,3,3,2,1,2,2,1,1,1,2,1,0,1,2,1,3,3,3,1,0,0,2,1,3,1,1,2,0,3,3,1,2,1,3,3,2,1,1,1,0,1,1,2,2,1,1,0,2,0,2,1,1,1,1,1,2,1,1,2,1,0,2,1,0,1,1,1,2,3,2,2,2,2,3,0,1,1,3,1,2,0,1,1,3,1,1,2,1,1,2,1,3,2,2,1,1,0,1,0,0,1,2,2,2,2,1,2,1,0,1,1,1,1,1,1,1,2,3,2,0,3,0,1,1,1,3,1,0,1,1,3,2,2,0,3,1,1,1,3,1,2,1,1,1,2,2,3,1,3,1,1,0,2,1,2,2,1,2,1,2,2,1,3,2,1,3,2,1,0,2,1,1,0,0,2,1,1,2,1,3,2,1,1,0,3,2,1,1,0,1,1,2,2,2,2,1,1,2,2,1,1,1,3,3,0,1,3,2,1,3,1,1,1,2,1,1,2,1,2,1,2,2,0,2,1,0,3,1,2,2,1,1,2,1,0,2,3,1,1,0,1,1,1,2,0,1,2,1,1,1,2,1,3,0,1,0,2,1,1,0,0,1,1,2,2,1,0,1,4,1,0,2,1,0,1,0,1,2,0,0,1,1,2,1,2,1,1,2,1,1,0,1,1,1,2,0,1,0,0,2,1,3,2,0,4,0,0,0,1,2,1,3,0,3,0,1,1,2,4,2,2,1,1,1,1,2,2,0,1,4,1,1,2,2,0,1,1,1,1,1,1,1,2,0,2,3,0,2,1,2,2,1,3,2,1,2,1,2,3,2,2,1,0,2,2,1,3,2,1,1,1,2,1,1,1,1,3,1,2,1,0,2,1,1,1,3,2,3,1,2,1,3,2,1,2,2,3,2,0,2,0,1,1,0,1,2,3,1,2,2,1,2,1,1,1,0,1,1,0,2,1,1,2,2,3,1,1,0,1,1,2,1,4,0,0,1,1,2,1,1,1,2,2,1,1,0,2,1,3,1,1,0,2,2,1,1,3,1,1,0,1,1,3,2,0,3,1,0,2,0,0,0,0,1,1,1,0,1,3,1,2,2,0,2,2,3,1,2,1,1,1,1,2,1,2,1,1,1,0,1,2,1,4,1,1,0,2,1,0,1,1,1,2,1,2,2,0,1,2,2,1,2,1,1,1,3,1,1,1,0,2,2,1,3,2,1,1,0,1,1,0,1,1,1,1,0,1,1,3,0,5,4,1,1,1,1,1,0,1,1,2,2,0,3,1,2,1,2,1,1,3,3,1,1,3,3,3,3,1,3,1,1,2,2,1,1,1,1,1,3,1,1,1,1,1,4,1,0,1,1,1,2,0,1,2,1,3,1,1,3,0,2,1,1,1,1,1,1,0,1,1,3,1,3,2,0,2,0,3,1,2,1,2,2,1,0,1,0,1,3,2,1,3,1,2,2,1,2,1,0,1,1,1,0,0,1,3,3,1,3,2,0,2,0,1,0,0,1,2,2,1,1,4,1,0,3,3,0,0,2,2,1,0,2,1,2,3,1,1,0,1,1,0,3,1,1,2,0,3,3,2,1,0,4,1,1,3,2,2,2,0,1,0,1,1,0,1,1,1,1,1,3,2,3,1,0,2,0,1,1,1,2,2,1,3,1,1,3,2,3,3,1,1,3,0,0,1,2,1,2,0,1,1,1,0,1,1,2,1,3,2,1,1,1,0,1,1,1,1,1,1,1,1,3,0,1,1,0,0,2,0,0,1,1,3,0,1,2,1,1,2,1,1,1,2,1,1,1,1,0,0,3,1,0,1,0,1,1,1,2,2,1,1,0,2,1,2,0,2,1,0,1,0,0,2,2,1,0,2,1,2,3,0,2,1,1,3,0,1,2,1,3,0,2,2,2,1,0,0,2,0,0,1,1,2,1,0,1,1,2,1,4,0,1,0,1,2,1,0,1,0,2,1,1,0,2,0,2,1,1,2,1,1,1,1,3,1,1,1,2,2,1,2,2,0,1,3,2,3,0,0,1,2,2,2,2,0,1,1,3,2,2,1,2,0,2,1,2,1,2,1,1,1,1,1,1,3,1,1,2,0,0,1,2,1,0,1,3,2,0,1,1,1,0,1,0,0,2,1,1,1,1,0,1,1,0,2,1,1,0,1,2,1,1,0,2,1,1,0,1,2,0,3,1,0,3,1,1,2,2,0,1,2,2,3,0,3,2,2,1,1,1,2,2,0,0,0,1,2,1,1,0,0,1,3,2,1,0,1,3,1,2,1,1,0,1,1,2,0,2,1,2,2,3,1,2,0,1,2,2,3,2,1,1,2,1,2,1,2,2,2,1,1,1,3,1,2,0,1,1,2,1,3,2,3,1,1,1,1,2,2,2,1,0,1,1,1,2,2,2,1,2,2,0,1,2,2,3,2,1,2,2,2,1,1,0,3,2,2,2,1,1,0,0,1,2,1,2,1,1,3,1,1,0,0,0,1,1,2,2,1,1,1,2,1,0,1,1,1,3,1,1,1,0,1,1,2,1,0,0,1,1,4,2,1,1,1,1,0,1,0,1,1,2,1,2,1,1,1,3,0,0,1,2,3,1,1,1,1,0,1,4,3,1,0,2,1,0,0,2,3,1,2,2,0,0,1,2,3,1,2,3,1,0,2,1,1,1,1,1,1,1,0,2,2,1,0,1,1,0,1,1,0,2,2,1,1,1,2,1,0,1,0,3,0,0,1,3,1,1,1,1,0,3,0,1,1,0,0,0,1,2,0,0,1,3,1,2,0,1,1,3,1,0,1,3,3,2,1,1,4,2,3,3,0,3,1,3,1,1,1,2,1,3,2,3,0,1,1,1,4,3,1,3,1,1,1,1,2,2,1,1,1,3,1,1,1,4,2,1,1,2,1,1,1,3,1,1,1,3,1,2,1,1,0,2,2,0,1,1,1,2,0,2,2,1,1,2,2,1,1,2,1,1,3,0,4,1,2,1,2,4,2,2,3,2,1,2,2,1,1,1,0,0,0,1,3,4,1,2,3,1,0,2,1,1,0,3,2,2,1,1,0,1,3,3,2,1,2,0,3,3,1,0,3,5,3,2,2,0,1,2,1,1,3,1,1,0,1,1,1,2,2,1,1,1,1,0,2,1,2,2,2,1,1,1,3,1,2,1,1,2,0,2,1,0,0,1,0,1,1,1,2,1,2,1,2,2,2,0,2,2,1,2,2,1,1,1,1,2,1,2,2,2,2,1,1,2,1,2,1,1,2,1,1,0,1,0,1,1,1,2,3,0,2,1,0,2,1,1,1,0,0,1,1,1,1,2,1,1,1,1,1,1,1,3,2,2,1,1,1,2,1,1,1,1,1,1,1,4,0,1,2,1,0,1,1,1,1,1,1,2,2,0,1,0,1,1,1,2,1,1,2,1,0,2,1,2,0,2,0,2,1,3,1,0,0,2,1,1,2,1,1,2,2,1,1,3,2,1,1,1,1,2,1,1,1,2,1,1,1,1,1,3,1,0,2,1,1,2,2,3,1,2,0,1,2,3,0,3,2,3,1,1,1,3,2,1,1,1,2,1,1,2,2,1,1,0,1,0,1,2,2,1,1,1,2,0,3,1,2,0,1,2,2,2,1,1,2,1,3,2,2,1,2,0,2,0,2,1,2,1,1,2,0,3,1,3,2,0,2,1,1,2,3,2,0,1,2,1,3,2,1,1,1,2,2,0,3,3,0,1,0,1,1,2,2,2,1,1,1,1,0,1,2,1,2,1,3,2,1,2,2,2,1,1,1,3,3,2,1,3,2,0,1,1,1,2,1,2,1,0,2,0,1,3,2,1,3,2,0,2,2,1,3,1,0,4,2,1,3,1,1,2,1,1,3,2,3,4,0,0,3,2,1,2,1,0,1,3,1,1,1,1,1,2,2,1,1,0,1,0,2,1,1,1,1,3,1,2,2,1,1,0,2,4,1,1,2,1,2,1,1,0,1,1,1,1,1,1,2,1,1,1,2,1,1,0,1,1,2,2,1,2,1,1,1,2,3,1,2,2,2,2,1,1,4,2,1,0,3,4,1,1,1,2,2,2,1,1,1,1,1,0,1,3,1,2,1,1,0,1,2,1,1,0,1,0,1,0,1,1,1,1,1,3,0,2,0,1,1,1,4,1,1,1,1,1,1,2,1,1,3,1,0,1,2,1,1,3,2,1,2,0,3,2,0,1,1,1,1,1,1,1,2,1,2,3,1,0,0,1,1,2,3,1,1,1,0,3,1,1,0,3,3,1,0,1,1,1,1,1,1,3,1,1,0,1,1,1,1,1,3,1,0,2,1,2,1,2,3,1,2,2,0,2,2,1,0,2,2,1,1,0,1,3,1,2,0,0,3,1,1,4,1,1,0,0,1,0,2,0,0,2,4,2,1,3,1,2,1,1,2,1,2,0,1,1,2,1,2,1,1,1,1,1,1,1,3,0,1,3,2,1,2,2,1,0,3,1,2,2,1,1,1,0,2,4,1,3,1,1,2,1,1,1,4,1,1,0,1,0,1,2,2,1,1,0,0,2,1,0,4,1,1,1,1,4,1,3,2,3,1,1,1,3,4,1,1,1,3,2,1,1,0,3,2,0,2,0,2,2,1,2,0,1,0,1,0,2,1,2,1,1,0,2,0,1,1,1,2,3,1,2,0,1,0,3,0,0,1,1,3,1,0,2,2,0,1,1,0,0,1,2,1,2,0,1,0,1,3,1,1,2,1,1,1,1,1,2,2,1,0,0,1,1,2,0,1,1,1,1,1,1,3,1,0,1,1,1,0,3,1,1,3,2,1,1,0,1,1,1,1,2,1,0,2,1,0,2,1,0,1,0,1,1,1,1,0,1,1,3,2,1,0,1,2,2,4,0,2,3,2,1,2,1,2,0,1,1,1,1,0,1,2,1,1,1,1,1,0,1,1,1,1,0,0,3,2,1,1,0,4,2,0,2,1,3,1,2,1,3,1,2,1,1,2,1,3,2,1,0,2,1,1,2,1,0,3,2,0,3,1,1,1,2,2,0,1,2,3,1,1,1,1,0,2,1,2,1,1,0,0,2,2,1,1,1,3,0,1,0,3,1,0,3,2,2,1,1,1,2,2,1,1,3,1,0,1,1,1,1,1,2,2,3,1,0,1,1,0,2,0,2,2,1,3,1,0,2,1,3,0,1,0,1,0,0,0,0,4,3,0,1,2,0,1,1,0,1,1,0,3,1,1,0,0,2,1,1,1,1,1,1,0,3,1,1,1,1,0,1,2,0,1,1,1,2,1,1,1,2,0,1,1,1,2,1,0,0,0,1,0,1,1,1,1,3,0,1,3,2,2,1,1,1,0,1,1,1,0,3,1,2,0,1,0,1,1,2,3,1,0,1,1,2,1,1,1,1,1,0,2,1,3,0,1,3,1,1,1,1,1,1,1,4,0,0,1,2,0,0,1,1,2,0,1,1,0,1,3,1,0,2,0,0,1,2,2,2,1,1,1,1,1,2,1,1,1,2,1,1,1,1,0,0,1,1,1,1,1,1,3,0,0,1,1,1,2,2,1,2,1,0,0,0,1,1,0,0,1,1,1,0,0,0,0,1,1,1,0,1,2,1,1,0,0,1,0,1,1,1,2,1,1,0,3,0,0,0,2,3,1,1,0,2,1,0,0,1,3,2,1,1,1,1,2,1,3,2,1,0,0,1,2,0,0,0,1,0,1,1,0,1,2,1,1,2,0,1,1,2,1,0,1,1,0,0,1,1,1,1,1,1,0,1,1,0,1,1,1,1,2,1,0,1,0,1,1,0,0,2,1,1,0,0,1,2,0,0,1,0,2,0,1,2,2,3,0,1,0,2,2,1,0,0,1,0,2,2,0,3,1,2,0,1,1,1,1,0,1,1,0,0,0,1,1,1,1,1,2,0,2,2,2,1,2,0,1,0,3,0,0,1,3,2,2,1,0,1,2,2,1,1,1,1,2,0,1,0,1,0,1,1,2,0,0,0,1,0,1,1,2,0,0,2,0,0,2,2,1,0,2,2,0,1,1,1,0,1,0,1,0,0,1,3,2,1,1,1,1,1,1,2,3,1,3,2,1,2,1,0,1,3,0,0,0,1,0,1,0,0,2,1,1,0,3,0,0,0,2,0,1,0,1,0,0,0,0,1,2,2,1,1,1,2,0,1,2,0,0,3,0,1,1,1,2,2,1,0,2,0,2,1,1,1,0,1,1,2,0,2,1,1,2,4,4,0,1,2,4,2,0,1,2,1,0,2,1,1,0,3,1,2,2,3,3,0,3,3,1,2,2,1,0,2,1,1,2,1,0,0,2,1,0,1,0,1,1,0,0,1,3,1,1,1,0,1,0,1,2,1,0,1,1,2,0,2,0,1,1,0,1,2,2,0,1,0,0,2,2,0,1,0,2,0,1,0,3,1,2,0,1,3,2,1,2,0,1,2,3,1,1,1,0,1,1,2,1,1,0,1,3,1,1,1,0,3,0,1,1,0,1,1,1,0,2,1,0,1,0,0,2,0,3,1,2,0,2,2,0,1,2,4,1,0,0,1,1,1,0,1,2,1,1,2,0,1,1,1,0,1,0,1,0,0,2,0,1,1,0,2,0,2,2,2,1,1,2,1,1,2,2,2,1,1,2,0,0,1,1,1,1,1,0,2,0,1,1,2,1,0,2,1,1,2,2,2,0,0,1,1,1,0,1,0,0,1,0,0,1,0,2,1,1,2,3,3,1,1,0,1,0,1,1,0,0,0,1,1,0,1,2,0,0,1,1,1,1,0,1,1,0,1,0,2,1,2,1,1,1,1,1,2,2,1,0,2,1,1,1,0,1,0,0,1,0,2,1,1,1,2,2,2,2,0,1,0,1,0,0,1,0,2,2,2,2,1,0,0,2,0,1,1,1,0,0,1,0,1,0,0,2,0,2,1,2,3,1,1,0,3,1,1,1,2,2,0,0,0,1,1,1,1,0,0,2,2,0,0,0,2,0,0,1,0,2,0,2,1,1,2,1,1,2,0,3,1,1,0,1,2,0,0,4,0,1,2,3,0,0,1,3,0,0,1,1,1,1,0,1,0,1,3,0,1,2,2,2,1,0,2,2,1,0,1,0,0,2,0,1,1,0,1,1,3,1,1,2,1,1,0,1,3,1,2,2,1,1,0,1,1,2,1,3,1,2,1,0,0,2,1,1,2,2,1,2,2,1,1,0,1,2,1,2,1,2,1,1,3,2,2,1,3,1,2,0,0,0,1,2,1,0,1,1,1,1,0,2,0,1,2,0,2,1,2,1,1,1,0,1,0,2,1,2,1,0,1,0,2,3,3,0,1,3,2,2,3,4,2,0,2,2,3,1,2,1,1,1,1,1,0,0,1,2,2,1,1,0,2,0,1,1,1,3,1,3,1,0,3,1,0,3,1,0,0,1,1,2,2,1,0,1,1,1,2,1,2,2,2,1,1,2,2,1,0,2,0,1,2,1,2,1,1,2,0,1,3,3,2,1,2,1,1,1,2,2,0,0,0,0,1,0,1,0,1,1,2,0,3,2,4,2,1,0,2,1,2,1,3,1,2,1,1,1,1,1,1,1,2,1,1,0,1,1,1,1,0,0,1,2,3,1,0,2,2,1,1,1,1,1,2,1,1,1,1,1,1,0,3,1,1,1,1,1,1,1,2,2,1,2,4,0,3,1,1,1,3,2,2,0,2,0,1,3,1,1,0,0,1,1,0,0,1,0,3,1,2,0,0,1,2,1,1,2,1,2,0,0,1,2,1,2,3,3,2,2,1,1,1,1,1,1,1,0,0,4,0,1,0,0,2,1,2,1,1,2,1,1,1,0,1,1,1,2,0,1,0,2,3,2,0,1,1,1,1,1,2,2,1,1,1,2,1,0,1,3,1,0,0,2,0,1,0,1,1,3,2,1,1,4,2,0,1,3,1,1,0,0,1,1,2,1,0,1,1,0,1,2,0,0,1,2,1,3,1,2,3,2,2,2,3,2,1,3,2,2,2,1,3,2,0,1,1,0,1,1,1,2,1,1,1,1,3,1,1,1,2,2,1,1,0,1,3,1,1,1,1,3,2,3,2,1,2,0,2,1,1,0,2,1,1,1,2,1,1,1,1,1,0,1,0,1,4,0,1,3,0,3,2,0,2,3,1,1,4,1,1,1,1,0,4,1,2,1,3,1,0,1,2,1,2,1,1,1,2,1,1,0,1,1,4,1,1,1,2,1,2,2,2,0,0,1,1,1,1,2,2,0,1,2,1,0,1,1,2,2,1,1,3,1,2,1,1,1,1,1,1,2,0,1,3,1,3,1,1,1,1,2,3,1,1,1,2,1,1,1,1,1,2,1,2,2,1,0,2,0,0,1,1,2,2,1,3,4,2,1,0,3,1,1,2,2,0,2,1,1,1,1,1,1,1,1,0,2,1,2,0,0,2,0,1,2,0,2,1,3,0,1,0,1,0,1,0,1,1,3,0,4,2,2,0,1,3,0,1,1,1,1,1,3,3,1,1,3,4,1,1,0,3,3,1,0,2,2,0,1,0,1,0,5,1,1,2,0,1,2,2,1,3,1,0,1,3,3,1,1,2,2,2,0,2,1,1,1,1,1,3,1,2,4,4,2,1,1,1,3,1,0,1,2,1,0,1,1,2,0,2,0,0,3,0,0,2,3,1,0,3,2,1,1,1,1,0,1,1,0,1,1,2,2,2,2,0,1,0,1,1,0,1,0,0,1,0,1,2,1,1,4,0,2,1,1,0,1,2,2,1,0,2,1,1,4,1,1,2,0,1,0,1,1,1,1,1,0,2,2,1,0,1,2,1,1,0,4,2,1,0,1,2,1,3,1,1,4,2,1,2,0,3,4,2,2,1,2,2,3,2,1,1,4,2,1,2,0,3,1,2,0,0,0,1,2,3,2,1,0,2,2,3,1,1,1,0,2,0,1,3,1,1,2,1,1,1,2,3,2,2,0,2,1,1,1,2,1,1,0,3,0,1,3,1,1,3,2,1,2,0,1,2,0,1,2,2,1,1,1,0,0,2,0,0,3,1,0,2,3,0,1,4,1,0,0,2,3,1,3,2,0,1,1,1,2,2,3,0,1,2,0,3,1,1,1,2,3,2,0,4,2,1,1,1,1,1,0,1,1,3,0,1,2,3,3,2,3,3,0,1,0,1,0,1,2,1,0,0,0,2,0,1,0,1,1,1,2,0,1,1,1,1,0,3,2,1,2,0,0,0,2,3,1,0,1,2,1,3,1,3,3,2,0,3,1,1,2,0,1,4,1,2,1,2,2,2,1,1,0,3,0,0,0,0,1,1,2,3,2,1,1,2,1,2,1,2,3,1,3,2,0,2,1,3,1,0,1,1,0,1,0,2,1,1,3,2,1,2,1,3,1,2,1,1,3,4,2,2,1,1,0,1,2,3,2,1,0,2,1,3,0,3,1,0,2,1,1,1,3,1,1,2,2,1,0,3,0,3,4,2,1,1,1,0,1,0,3,1,1,1,1,1,2,1,1,4,1,1,2,2,1,0,2,1,2,0,2,3,1,3,0,1,0,2,2,2,1,2,1,2,2,1,4,1,2,0,3,1,1,0,0,0,1,0,2,1,0,1,1,2,0,0,2,2,1,2,0,0,0,3,1,3,1,1,1,1,1,1,2,0,0,3,1,1,2,1,3,2,1,0,1,4,1,2,2,1,1,2,2,1,1,1,1,0,1,2,2,3,1,2,1,1,2,1,0,2,1,1,1,0,2,0,3,1,3,0,2,1,1,0,2,1,0,1,0,2,1,2,1,0,0,2,1,3,1,3,1,1,2,1,1,1,1,2,1,1,1,1,0,3,1,1,2,1,3,0,1,2,1,1,1,2,0,3,1,2,2,1,3,1,4,2,1,2,1,2,1,2,1,4,1,2,2,0,1,2,5,3,0,0,1,2,0,1,2,1,1,2,0,1,0,1,3,1,1,0,0,0,1,2,1,0,2,2,1,1,3,1,2,3,0,0,2,2,2,2,4,1,1,0,1,1,1,0,2,1,1,2,1,0,3,1,2,0,3,3,1,2,1,0,2,1,3,0,2,1,1,0,3,1,0,2,1,3,3,1,1,1,2,0,1,1,2,2,2,1,3,2,0,1,1,1,2,1,1,1,2,1,1,1,1,1,2,2,3,1,1,2,0,1,2,1,1,1,2,4,3,1,2,0,1,4,1,2,3,2,2,1,1,2,3,2,2,2,1,0,1,0,0,1,1,1,2,1,3,0,2,2,0,1,1,1,1,0,0,3,1,2,2,1,1,1,2,0,1,0,1,3,0,3,0,1,0,1,0,1,2,1,2,0,3,1,1,2,1,0,1,1,2,1,2,2,1,2,1,1,2,3,0,1,2,0,0,2,3,1,1,0,0,2,2,1,1,1,0,0,3,1,2,4,0,1,3,1,3,1,2,1,1,2,0,1,1,0,2,1,0,2,0,3,0,0,1,2,1,3,1,2,2,1,1,0,1,1,2,1,1,1,1,3,2,2,1,1,2,0,1,1,3,3,1,1,0,1,1,2,1,0,1,1,4,2,0,2,2,1,1,1,2,1,2,2,2,1,1,2,0,2,0,3,2,0,0,1,4,3,1,2,3,0,4,1,0,2,2,1,1,1,1,0,0,1,0,1,2,2,0,2,3,1,2,1,1,0,2,1,1,1,0,2,1,2,2,1,1,1,2,1,1,1,0,1,1,2,1,0,0,1,0,0,3,2,1,2,0,1,1,1,0,2,1,0,1,0,1,0,3,2,2,1,0,2,3,1,0,1,3,3,2,3,0,0,1,0,1,1,1,3,0,1,2,5,2,0,1,1,2,0,2,3,1,1,1,4,1,0,1,1,1,0,1,0,2,1,3,1,2,1,0,1,1,0,1,2,4,0,3,2,0,2,1,1,1,1,1,1,2,2,2,1,2,2,1,0,2,0,1,1,1,3,1,1,1,2,0,1,1,1,3,0,4,1,3,0,1,2,3,1,1,1,0,2,1,4,0,3,2,1,4,2,0,3,1,2,0,1,3,1,1,0,1,2,1,1,0,3,1,3,0,2,1,2,1,3,0,3,1,1,4,1,1,0,1,2,2,1,3,0,2,3,1,1,1,3,1,0,3,1,0,0,0,2,1,1,2,0,0,3,0,2,4,1,2,1,3,2,3,1,1,1,1,1,1,2,0,1,2,1,0,2,0,1,0,0,1,0,0,2,2,1,2,2,1,1,0,1,1,2,1,1,0,1,0,2,2,3,1,2,1,0,4,1,1,0,1,1,1,2,1,1,1,4,1,0,0,3,1,1,3,0,1,2,2,0,0,1,1,1,3,0,2,3,3,0,3,2,0,0,2,2,1,0,1,1,0,2,3,1,1,0,1,1,1,1,1,2,1,2,1,2,1,2,1,1,0,3,0,1,0,3,1,0,1,0,1,2,2,1,1,0,1,0,0,2,1,0,2,0,2,0,1,2,3,0,1,3,4,1,1,1,1,1,2,2,2,2,1,0,0,2,1,0,0,0,1,0,1,0,1,0,0,0,1,1,1,1,2,0,0,3,1,0,2,0,0,2,1,1,0,2,0,1,2,3,2,2,1,1,2,1,1,2,1,3,3,0,1,1,3,2,2,1,2,0,2,1,0,1,3,3,0,1,1,0,0,0,2,1,1,3,2,0,1,0,0,0,3,1,1,1,1,3,0,1,0,2,1,0,2,0,1,0,1,0,1,0,2,0,1,1,1,2,0,3,2,2,0,3,0,0,3,1,1,2,2,1,2,1,0,1,2,0,1,1,2,3,0,2,1,2,0,1,2,2,1,0,3,0,1,1,3,2,1,1,3,2,1,2,1,1,0,1,0,1,1,1,1,0,2,2,1,1,0,1,2,1,1,2,1,0,2,3,1,1,2,1,1,0,1,0,0,1,1,2,1,2,0,1,0,0,2,2,1,1,3,1,0,1,1,2,1,1,1,1,1,2,1,2,0,3,3,2,0,0,1,1,0,3,3,0,1,0,1,1,0,1,1,3,1,1,1,1,2,1,1,1,1,0,2,2,3,0,0,1,2,1,2,0,1,0,1,3,1,2,0,2,1,0,1,0,1,1,1,1,1,1,1,1,0,2,1,1,0,0,1,1,1,2,1,1,3,1,1,0,0,1,2,2,0,1,1,0,2,1,1,1,2,2,1,1,1,1,0,4,1,1,0,1,1,1,0,1,1,2,2,4,0,1,1,1,2,1,2,2,0,4,2,2,1,1,2,2,1,0,3,1,2,2,2,0,1,1,1,1,1,1,0,1,1,1,1,2,0,0,2,0,1,1,1,1,0,2,1,0,1,2,1,2,3,2,1,2,0,1,1,2,2,3,2,0,1,0,1,0,2,1,0,3,1,2,1,2,1,1,2,1,0,0,1,1,3,1,2,1,1,1,0,1,3,2,1,3,2,2,1,3,0,3,1,1,1,0,1,1,2,1,1,1,0,1,2,4,1,1,1,3,3,2,1,1,3,4,4,2,2,1,1,1,3,1,1,1,1,0,0,2,1,1,2,2,0,2,2,1,2,0,0,1,2,3,2,1,1,1,2,2,2,1,1,0,2,3,0,1,1,3,1,2,3,0,2,2,1,1,0,2,1,1,2,2,1,1,2,1,1,2,0,0,1,2,2,2,4,1,1,1,1,2,0,1,0,3,1,1,3,0,2,1,1,1,1,0,1,2,1,4,3,1,1,2,2,1,2,2,1,2,3,1,1,1,0,1,1,3,0,1,1,1,1,1,1,2,2,2,1,1,1,1,1,2,2,2,1,2,0,2,1,1,1,2,2,3,0,3,3,1,2,3,1,1,1,3,3,1,1,1,1,1,1,3,2,1,1,1,0,2,0,1,3,1,1,2,1,3,1,1,1,1,1,1,2,2,3,1,2,1,2,4,1,1,0,1,2,1,1,2,2,1,0,3,1,1,0,0,0,0,1,0,2,3,1,2,1,3,1,1,2,2,1,0,1,3,3,1,0,1,2,1,3,1,3,0,1,1,1,0,1,1,1,3,0,1,0,3,2,3,1,1,1,1,1,1,1,1,2,1,1,1,1,0,3,2,1,1,1,1,1,1,1,2,2,3,2,0,2,1,0,3,1,1,4,1,0,1,2,3,2,1,2,2,2,1,2,1,2,2,1,2,1,1,0,1,1,1,0,1,1,1,1,1,1,0,3,0,1,3,3,2,2,2,1,2,3,1,2,2,4,1,2,2,2,1,1,0,0,2,2,1,1,0,3,2,1,1,1,2,1,2,2,1,0,1,3,1,1,1,0,1,2,3,1,3,3,1,3,1,2,4,3,3,1,1,1,2,1,0,1,4,1,2,1,2,1,2,3,0,0,1,0,1,1,1,1,0,3,1,2,1,0,0,1,2,1,1,1,1,1,1,2,0,2,5,0,0,1,3,2,1,0,1,0,1,1,1,2,1,1,0,0,3,1,0,2,0,1,1,1,3,1,3,0,1,3,2,0,2,1,1,2,1,1,1,4,0,1,2,2,1,3,3,1,1,1,0,1,4,1,0,1,3,0,1,1,0,3,2,2,2,1,2,2,1,1,2,1,3,0,3,2,1,1,1,1,1,0,1,0,0,1,1,2,2,4,4,0,1,2,1,1,1,1,0,1,1,1,0,2,1,1,1,2,0,1,2,1,1,0,0,4,2,3,2,2,3,0,1,2,1,2,1,0,1,1,1,1,0,1,1,2,3,1,1,3,2,1,2,2,0,1,1,2,0,1,1,1,2,0,0,1,1,1,1,2,2,0,1,0,1,1,4,1,1,1,2,0,0,1,0,1,3,1,0,4,2,3,2,1,2,1,0,3,2,1,1,2,2,2,1,1,0,1,1,0,2,3,1,2,1,2,1,1,1,1,1,3,1,0,0,2,2,1,1,1,2,1,1,0,0,1,1,1,0,1,1,1,2,1,1,3,1,0,1,1,1,1,1,1,1,1,2,2,1,4,2,2,1,1,1,1,2,1,1,1,2,1,1,5,1,3,1,1,1,2,0,2,1,2,2,3,1,3,1,1,1,1,1,0,1,1,0,3,1,0,1,1,0,1,1,1,2,1,2,1,2,1,1,1,0,2,2,3,1],\"xaxis\":\"x2\",\"yaxis\":\"y2\",\"type\":\"histogram\"}],                        {\"template\":{\"data\":{\"histogram2dcontour\":[{\"type\":\"histogram2dcontour\",\"colorbar\":{\"outlinewidth\":0,\"ticks\":\"\"},\"colorscale\":[[0.0,\"#0d0887\"],[0.1111111111111111,\"#46039f\"],[0.2222222222222222,\"#7201a8\"],[0.3333333333333333,\"#9c179e\"],[0.4444444444444444,\"#bd3786\"],[0.5555555555555556,\"#d8576b\"],[0.6666666666666666,\"#ed7953\"],[0.7777777777777778,\"#fb9f3a\"],[0.8888888888888888,\"#fdca26\"],[1.0,\"#f0f921\"]]}],\"choropleth\":[{\"type\":\"choropleth\",\"colorbar\":{\"outlinewidth\":0,\"ticks\":\"\"}}],\"histogram2d\":[{\"type\":\"histogram2d\",\"colorbar\":{\"outlinewidth\":0,\"ticks\":\"\"},\"colorscale\":[[0.0,\"#0d0887\"],[0.1111111111111111,\"#46039f\"],[0.2222222222222222,\"#7201a8\"],[0.3333333333333333,\"#9c179e\"],[0.4444444444444444,\"#bd3786\"],[0.5555555555555556,\"#d8576b\"],[0.6666666666666666,\"#ed7953\"],[0.7777777777777778,\"#fb9f3a\"],[0.8888888888888888,\"#fdca26\"],[1.0,\"#f0f921\"]]}],\"heatmap\":[{\"type\":\"heatmap\",\"colorbar\":{\"outlinewidth\":0,\"ticks\":\"\"},\"colorscale\":[[0.0,\"#0d0887\"],[0.1111111111111111,\"#46039f\"],[0.2222222222222222,\"#7201a8\"],[0.3333333333333333,\"#9c179e\"],[0.4444444444444444,\"#bd3786\"],[0.5555555555555556,\"#d8576b\"],[0.6666666666666666,\"#ed7953\"],[0.7777777777777778,\"#fb9f3a\"],[0.8888888888888888,\"#fdca26\"],[1.0,\"#f0f921\"]]}],\"heatmapgl\":[{\"type\":\"heatmapgl\",\"colorbar\":{\"outlinewidth\":0,\"ticks\":\"\"},\"colorscale\":[[0.0,\"#0d0887\"],[0.1111111111111111,\"#46039f\"],[0.2222222222222222,\"#7201a8\"],[0.3333333333333333,\"#9c179e\"],[0.4444444444444444,\"#bd3786\"],[0.5555555555555556,\"#d8576b\"],[0.6666666666666666,\"#ed7953\"],[0.7777777777777778,\"#fb9f3a\"],[0.8888888888888888,\"#fdca26\"],[1.0,\"#f0f921\"]]}],\"contourcarpet\":[{\"type\":\"contourcarpet\",\"colorbar\":{\"outlinewidth\":0,\"ticks\":\"\"}}],\"contour\":[{\"type\":\"contour\",\"colorbar\":{\"outlinewidth\":0,\"ticks\":\"\"},\"colorscale\":[[0.0,\"#0d0887\"],[0.1111111111111111,\"#46039f\"],[0.2222222222222222,\"#7201a8\"],[0.3333333333333333,\"#9c179e\"],[0.4444444444444444,\"#bd3786\"],[0.5555555555555556,\"#d8576b\"],[0.6666666666666666,\"#ed7953\"],[0.7777777777777778,\"#fb9f3a\"],[0.8888888888888888,\"#fdca26\"],[1.0,\"#f0f921\"]]}],\"surface\":[{\"type\":\"surface\",\"colorbar\":{\"outlinewidth\":0,\"ticks\":\"\"},\"colorscale\":[[0.0,\"#0d0887\"],[0.1111111111111111,\"#46039f\"],[0.2222222222222222,\"#7201a8\"],[0.3333333333333333,\"#9c179e\"],[0.4444444444444444,\"#bd3786\"],[0.5555555555555556,\"#d8576b\"],[0.6666666666666666,\"#ed7953\"],[0.7777777777777778,\"#fb9f3a\"],[0.8888888888888888,\"#fdca26\"],[1.0,\"#f0f921\"]]}],\"mesh3d\":[{\"type\":\"mesh3d\",\"colorbar\":{\"outlinewidth\":0,\"ticks\":\"\"}}],\"scatter\":[{\"fillpattern\":{\"fillmode\":\"overlay\",\"size\":10,\"solidity\":0.2},\"type\":\"scatter\"}],\"parcoords\":[{\"type\":\"parcoords\",\"line\":{\"colorbar\":{\"outlinewidth\":0,\"ticks\":\"\"}}}],\"scatterpolargl\":[{\"type\":\"scatterpolargl\",\"marker\":{\"colorbar\":{\"outlinewidth\":0,\"ticks\":\"\"}}}],\"bar\":[{\"error_x\":{\"color\":\"#2a3f5f\"},\"error_y\":{\"color\":\"#2a3f5f\"},\"marker\":{\"line\":{\"color\":\"#E5ECF6\",\"width\":0.5},\"pattern\":{\"fillmode\":\"overlay\",\"size\":10,\"solidity\":0.2}},\"type\":\"bar\"}],\"scattergeo\":[{\"type\":\"scattergeo\",\"marker\":{\"colorbar\":{\"outlinewidth\":0,\"ticks\":\"\"}}}],\"scatterpolar\":[{\"type\":\"scatterpolar\",\"marker\":{\"colorbar\":{\"outlinewidth\":0,\"ticks\":\"\"}}}],\"histogram\":[{\"marker\":{\"pattern\":{\"fillmode\":\"overlay\",\"size\":10,\"solidity\":0.2}},\"type\":\"histogram\"}],\"scattergl\":[{\"type\":\"scattergl\",\"marker\":{\"colorbar\":{\"outlinewidth\":0,\"ticks\":\"\"}}}],\"scatter3d\":[{\"type\":\"scatter3d\",\"line\":{\"colorbar\":{\"outlinewidth\":0,\"ticks\":\"\"}},\"marker\":{\"colorbar\":{\"outlinewidth\":0,\"ticks\":\"\"}}}],\"scattermapbox\":[{\"type\":\"scattermapbox\",\"marker\":{\"colorbar\":{\"outlinewidth\":0,\"ticks\":\"\"}}}],\"scatterternary\":[{\"type\":\"scatterternary\",\"marker\":{\"colorbar\":{\"outlinewidth\":0,\"ticks\":\"\"}}}],\"scattercarpet\":[{\"type\":\"scattercarpet\",\"marker\":{\"colorbar\":{\"outlinewidth\":0,\"ticks\":\"\"}}}],\"carpet\":[{\"aaxis\":{\"endlinecolor\":\"#2a3f5f\",\"gridcolor\":\"white\",\"linecolor\":\"white\",\"minorgridcolor\":\"white\",\"startlinecolor\":\"#2a3f5f\"},\"baxis\":{\"endlinecolor\":\"#2a3f5f\",\"gridcolor\":\"white\",\"linecolor\":\"white\",\"minorgridcolor\":\"white\",\"startlinecolor\":\"#2a3f5f\"},\"type\":\"carpet\"}],\"table\":[{\"cells\":{\"fill\":{\"color\":\"#EBF0F8\"},\"line\":{\"color\":\"white\"}},\"header\":{\"fill\":{\"color\":\"#C8D4E3\"},\"line\":{\"color\":\"white\"}},\"type\":\"table\"}],\"barpolar\":[{\"marker\":{\"line\":{\"color\":\"#E5ECF6\",\"width\":0.5},\"pattern\":{\"fillmode\":\"overlay\",\"size\":10,\"solidity\":0.2}},\"type\":\"barpolar\"}],\"pie\":[{\"automargin\":true,\"type\":\"pie\"}]},\"layout\":{\"autotypenumbers\":\"strict\",\"colorway\":[\"#636efa\",\"#EF553B\",\"#00cc96\",\"#ab63fa\",\"#FFA15A\",\"#19d3f3\",\"#FF6692\",\"#B6E880\",\"#FF97FF\",\"#FECB52\"],\"font\":{\"color\":\"#2a3f5f\"},\"hovermode\":\"closest\",\"hoverlabel\":{\"align\":\"left\"},\"paper_bgcolor\":\"white\",\"plot_bgcolor\":\"#E5ECF6\",\"polar\":{\"bgcolor\":\"#E5ECF6\",\"angularaxis\":{\"gridcolor\":\"white\",\"linecolor\":\"white\",\"ticks\":\"\"},\"radialaxis\":{\"gridcolor\":\"white\",\"linecolor\":\"white\",\"ticks\":\"\"}},\"ternary\":{\"bgcolor\":\"#E5ECF6\",\"aaxis\":{\"gridcolor\":\"white\",\"linecolor\":\"white\",\"ticks\":\"\"},\"baxis\":{\"gridcolor\":\"white\",\"linecolor\":\"white\",\"ticks\":\"\"},\"caxis\":{\"gridcolor\":\"white\",\"linecolor\":\"white\",\"ticks\":\"\"}},\"coloraxis\":{\"colorbar\":{\"outlinewidth\":0,\"ticks\":\"\"}},\"colorscale\":{\"sequential\":[[0.0,\"#0d0887\"],[0.1111111111111111,\"#46039f\"],[0.2222222222222222,\"#7201a8\"],[0.3333333333333333,\"#9c179e\"],[0.4444444444444444,\"#bd3786\"],[0.5555555555555556,\"#d8576b\"],[0.6666666666666666,\"#ed7953\"],[0.7777777777777778,\"#fb9f3a\"],[0.8888888888888888,\"#fdca26\"],[1.0,\"#f0f921\"]],\"sequentialminus\":[[0.0,\"#0d0887\"],[0.1111111111111111,\"#46039f\"],[0.2222222222222222,\"#7201a8\"],[0.3333333333333333,\"#9c179e\"],[0.4444444444444444,\"#bd3786\"],[0.5555555555555556,\"#d8576b\"],[0.6666666666666666,\"#ed7953\"],[0.7777777777777778,\"#fb9f3a\"],[0.8888888888888888,\"#fdca26\"],[1.0,\"#f0f921\"]],\"diverging\":[[0,\"#8e0152\"],[0.1,\"#c51b7d\"],[0.2,\"#de77ae\"],[0.3,\"#f1b6da\"],[0.4,\"#fde0ef\"],[0.5,\"#f7f7f7\"],[0.6,\"#e6f5d0\"],[0.7,\"#b8e186\"],[0.8,\"#7fbc41\"],[0.9,\"#4d9221\"],[1,\"#276419\"]]},\"xaxis\":{\"gridcolor\":\"white\",\"linecolor\":\"white\",\"ticks\":\"\",\"title\":{\"standoff\":15},\"zerolinecolor\":\"white\",\"automargin\":true,\"zerolinewidth\":2},\"yaxis\":{\"gridcolor\":\"white\",\"linecolor\":\"white\",\"ticks\":\"\",\"title\":{\"standoff\":15},\"zerolinecolor\":\"white\",\"automargin\":true,\"zerolinewidth\":2},\"scene\":{\"xaxis\":{\"backgroundcolor\":\"#E5ECF6\",\"gridcolor\":\"white\",\"linecolor\":\"white\",\"showbackground\":true,\"ticks\":\"\",\"zerolinecolor\":\"white\",\"gridwidth\":2},\"yaxis\":{\"backgroundcolor\":\"#E5ECF6\",\"gridcolor\":\"white\",\"linecolor\":\"white\",\"showbackground\":true,\"ticks\":\"\",\"zerolinecolor\":\"white\",\"gridwidth\":2},\"zaxis\":{\"backgroundcolor\":\"#E5ECF6\",\"gridcolor\":\"white\",\"linecolor\":\"white\",\"showbackground\":true,\"ticks\":\"\",\"zerolinecolor\":\"white\",\"gridwidth\":2}},\"shapedefaults\":{\"line\":{\"color\":\"#2a3f5f\"}},\"annotationdefaults\":{\"arrowcolor\":\"#2a3f5f\",\"arrowhead\":0,\"arrowwidth\":1},\"geo\":{\"bgcolor\":\"white\",\"landcolor\":\"#E5ECF6\",\"subunitcolor\":\"white\",\"showland\":true,\"showlakes\":true,\"lakecolor\":\"white\"},\"title\":{\"x\":0.05},\"mapbox\":{\"style\":\"light\"}}},\"xaxis\":{\"anchor\":\"y\",\"domain\":[0.0,0.49],\"title\":{\"text\":\"Medicinas_tomadas\"}},\"yaxis\":{\"anchor\":\"x\",\"domain\":[0.0,1.0],\"title\":{\"text\":\"count\"}},\"xaxis2\":{\"anchor\":\"y2\",\"domain\":[0.51,1.0],\"matches\":\"x\",\"title\":{\"text\":\"Medicinas_tomadas\"}},\"yaxis2\":{\"anchor\":\"x2\",\"domain\":[0.0,1.0],\"matches\":\"y\",\"showticklabels\":false},\"annotations\":[{\"font\":{},\"showarrow\":false,\"text\":\"readmitted=\\u003c30\",\"x\":0.245,\"xanchor\":\"center\",\"xref\":\"paper\",\"y\":1.0,\"yanchor\":\"bottom\",\"yref\":\"paper\"},{\"font\":{},\"showarrow\":false,\"text\":\"readmitted=\\u003e30\",\"x\":0.755,\"xanchor\":\"center\",\"xref\":\"paper\",\"y\":1.0,\"yanchor\":\"bottom\",\"yref\":\"paper\"}],\"legend\":{\"tracegroupgap\":0},\"title\":{\"text\":\"Distribuci\\u00f3n del n\\u00famero de medicinas tomadas al tiempo\"},\"barmode\":\"relative\"},                        {\"responsive\": true}                    ).then(function(){\n",
              "                            \n",
              "var gd = document.getElementById('e25f2702-f227-4e73-8d58-0d6a3bed08c4');\n",
              "var x = new MutationObserver(function (mutations, observer) {{\n",
              "        var display = window.getComputedStyle(gd).display;\n",
              "        if (!display || display === 'none') {{\n",
              "            console.log([gd, 'removed!']);\n",
              "            Plotly.purge(gd);\n",
              "            observer.disconnect();\n",
              "        }}\n",
              "}});\n",
              "\n",
              "// Listen for the removal of the full notebook cells\n",
              "var notebookContainer = gd.closest('#notebook-container');\n",
              "if (notebookContainer) {{\n",
              "    x.observe(notebookContainer, {childList: true});\n",
              "}}\n",
              "\n",
              "// Listen for the clearing of the current output cell\n",
              "var outputEl = gd.closest('.output');\n",
              "if (outputEl) {{\n",
              "    x.observe(outputEl, {childList: true});\n",
              "}}\n",
              "\n",
              "                        })                };                            </script>        </div>\n",
              "</body>\n",
              "</html>"
            ]
          },
          "metadata": {}
        }
      ]
    },
    {
      "cell_type": "code",
      "source": [
        "second_add = Hernandez[Hernandez['all_time_number_inpatient']==2]\n",
        "second_add_med = second_add[['metformin', 'repaglinide', 'nateglinide', 'chlorpropamide',\n",
        "                                   'glimepiride', 'acetohexamide', 'glipizide', 'glyburide',\n",
        "                                   'tolbutamide', 'pioglitazone', 'rosiglitazone', 'acarbose',\n",
        "                                   'miglitol', 'troglitazone', 'tolazamide', 'examide',\n",
        "                                   'citoglipton', 'insulin', 'glyburide-metformin',\n",
        "                                   'glipizide-metformin', 'glimepiride-pioglitazone',\n",
        "                                   'metformin-rosiglitazone', 'metformin-pioglitazone']]\n",
        "\n",
        "second_add_med = second_add_med.loc[:, second_add_med.nunique() > 1] #Quitamos las columnas que solo tienen un valor constante\n",
        "second_add_med['Medicinas_tomadas'] = second_add_med.apply(lambda row: (row != 'No').sum(), axis=1) #Porque la columna de readmitted agrega un valor\n",
        "second_add_med['readmitted'] = Hernandez['readmitted']\n",
        "fig = px.histogram(second_add_med, x='Medicinas_tomadas', nbins=11, title='Distribución del número de medicinas tomadas al tiempo',\n",
        "                   facet_col='readmitted')\n",
        "fig.show()"
      ],
      "metadata": {
        "id": "jEKj6Hr3kJN-",
        "colab": {
          "base_uri": "https://localhost:8080/",
          "height": 542
        },
        "outputId": "069b5d7f-e885-4056-912d-e422e8a9b207"
      },
      "execution_count": 131,
      "outputs": [
        {
          "output_type": "display_data",
          "data": {
            "text/html": [
              "<html>\n",
              "<head><meta charset=\"utf-8\" /></head>\n",
              "<body>\n",
              "    <div>            <script src=\"https://cdnjs.cloudflare.com/ajax/libs/mathjax/2.7.5/MathJax.js?config=TeX-AMS-MML_SVG\"></script><script type=\"text/javascript\">if (window.MathJax && window.MathJax.Hub && window.MathJax.Hub.Config) {window.MathJax.Hub.Config({SVG: {font: \"STIX-Web\"}});}</script>                <script type=\"text/javascript\">window.PlotlyConfig = {MathJaxConfig: 'local'};</script>\n",
              "        <script charset=\"utf-8\" src=\"https://cdn.plot.ly/plotly-2.35.2.min.js\"></script>                <div id=\"12c6406d-1223-44fb-b029-d6ca64a1cfbf\" class=\"plotly-graph-div\" style=\"height:525px; width:100%;\"></div>            <script type=\"text/javascript\">                                    window.PLOTLYENV=window.PLOTLYENV || {};                                    if (document.getElementById(\"12c6406d-1223-44fb-b029-d6ca64a1cfbf\")) {                    Plotly.newPlot(                        \"12c6406d-1223-44fb-b029-d6ca64a1cfbf\",                        [{\"alignmentgroup\":\"True\",\"bingroup\":\"x\",\"hovertemplate\":\"readmitted=\\u003e30\\u003cbr\\u003eMedicinas_tomadas=%{x}\\u003cbr\\u003ecount=%{y}\\u003cextra\\u003e\\u003c\\u002fextra\\u003e\",\"legendgroup\":\"\",\"marker\":{\"color\":\"#636efa\",\"pattern\":{\"shape\":\"\"}},\"name\":\"\",\"nbinsx\":11,\"offsetgroup\":\"\",\"orientation\":\"v\",\"showlegend\":false,\"x\":[2,1,1,2,0,1,1,1,0,1,0,2,2,2,2,1,0,1,0,0,0,2,2,1,1,0,0,1,1,2,3,1,1,0,1,1,0,2,1,1,1,1,1,2,0,1,2,1,1,0,1,1,1,1,1,1,1,1,1,1,0,1,1,0,1,1,1,0,1,0,1,1,0,1,2,2,0,0,2,1,0,1,2,0,0,2,2,1,0,2,2,1,3,1,1,0,0,2,0,1,1,0,1,0,0,1,2,1,1,2,0,1,1,0,1,3,1,0,1,1,0,1,0,0,1,0,1,2,1,1,2,1,1,0,2,1,2,1,1,2,1,1,1,2,1,0,1,1,1,1,2,3,2,1,1,1,2,1,2,2,1,2,1,1,3,2,1,0,0,1,1,0,1,1,0,1,3,1,1,1,1,3,1,1,0,1,1,0,0,0,1,1,2,3,0,1,0,1,0,1,2,0,1,0,0,0,1,0,0,1,2,0,1,2,1,0,1,0,1,1,1,0,1,0,1,0,1,0,1,1,1,1,0,0,1,1,1,1,3,0,2,0,1,1,2,3,0,1,2,0,2,1,1,1,1,0,2,1,1,0,1,3,1,1,1,2,3,1,0,0,0,0,0,1,0,1,1,0,0,2,1,0,1,2,0,2,1,1,2,3,1,1,1,0,1,2,1,2,0,1,3,1,1,1,0,1,2,2,2,1,1,0,2,2,1,1,1,1,1,1,2,1,1,1,0,0,2,0,0,1,2,3,1,1,1,1,2,1,2,1,0,1,1,2,0,0,1,2,2,2,1,2,1,0,1,1,2,2,1,2,1,1,2,1,1,1,0,1,3,1,1,1,2,1,1,1,1,1,0,0,0,0,1,1,1,2,1,2,0,1,1,1,0,1,1,2,0,0,2,1,1,1,2,1,0,0,1,1,1,1,1,1,2,1,2,1,1,1,1,3,1,1,0,1,1,4,2,1,0,1,1,0,0,2,2,1,0,2,1,4,1,1,1,1,1,1,1,2,1,0,2,1,3,1,2,1,3,2,1,0,1,0,1,1,2,1,1,1,2,3,1,1,2,1,1,1,1,1,1,0,2,2,1,1,1,2,1,1,0,1,1,2,1,1,1,1,0,1,3,1,1,2,2,0,2,1,0,0,0,1,1,2,2,0,1,3,1,2,1,1,2,1,2,2,1,0,1,0,1,1,2,0,1,2,0,2,1,1,1,1,1,0,1,1,1,1,1,1,1,3,0,1,1,1,0,1,2,2,0,0,0,0,0,0,1,1,0,3,3,1,2,2,1,2,3,0,0,3,0,1,2,0,1,0,1,1,1,2,1,1,1,1,1,1,0,0,1,2,2,1,1,1,1,1,1,1,3,1,1,1,1,2,1,1,0,2,1,0,4,2,1,1,3,1,1,1,1,2,3,2,2,0,1,1,1,2,1,1,1,0,2,1,2,0,1,1,2,0,0,1,0,1,1,1,1,0,0,1,0,1,1,1,0,0,2,0,1,1,2,1,2,2,0,0,3,0,1,1,0,0,0,1,1,1,1,0,1,3,1,1,1,1,2,1,0,1,1,2,2,2,0,1,0,0,0,3,2,0,2,2,3,1,1,0,0,2,1,1,0,1,2,1,1,2,1,1,1,0,0,2,1,1,2,1,1,1,1,1,0,1,1,1,1,1,0,1,2,0,0,1,0,1,1,0,1,1,2,2,0,1,1,1,0,2,2,1,1,0,0,1,0,0,0,1,4,1,0,0,2,1,1,0,0,1,0,2,1,1,3,0,0,1,1,0,1,1,1,0,1,0,2,0,1,0,2,1,1,0,2,1,3,2,0,3,0,2,0,1,1,1,2,1,2,1,1,2,2,3,0,2,1,1,3,1,1,1,2,0,2,1,2,1,1,2,1,1,2,1,0,0,0,0,0,1,1,3,0,1,2,1,1,1,0,1,0,1,0,0,2,2,1,2,1,1,0,1,1,1,0,1,1,0,0,0,4,0,0,1,2,1,1,2,1,0,1,2,1,1,0,1,1,0,0,1,1,2,0,0,1,2,1,2,0,0,0,0,1,1,0,1,1,3,1,2,2,2,0,2,0,0,0,2,0,1,1,3,1,1,3,0,0,2,1,1,1,1,0,1,1,2,0,1,0,2,1,2,1,1,2,1,0,1,2,1,0,1,2,2,1,3,1,1,2,0,1,2,0,1,0,0,2,0,1,1,1,0,1,0,1,2,0,0,1,1,1,1,0,1,2,0,1,1,1,1,0,1,1,0,0,2,0,1,2,0,2,1,2,1,0,0,1,1,0,1,1,1,0,1,1,2,1,2,1,1,2,1,1,1,1,0,2,2,0,1,1,0,3,2,1,2,1,0,1,1,2,1,1,2,1,1,0,1,2,0,0,1,1,1,1,2,1,2,2,0,1,1,1,1,1,2,1,0,0,2,0,2,1,1,1,3,1,1,1,0,1,1,2,3,1,1,3,1,1,2,2,0,1,0,0,2,0,1,0,1,2,1,0,1,2,0,2,0,2,0,3,0,1,1,1,0,0,1,0,2,0,1,1,1,1,1,2,2,1,1,1,1,0,0,1,1,1,1,1,1,1,2,0,2,2,1,2,1,0,1,3,1,1,2,0,2,0,2,0,0,2,1,2,2,1,3,2,0,1,1,1,2,0,1,0,1,0,2,1,1,3,1,1,3,1,0,1,2,1,2,2,1,1,0,0,2,1,2,0,1,1,2,0,1,3,2,2,1,1,3,1,2,1,1,2,1,1,0,2,1,2,2,0,1,1,1,0,1,1,1,2,4,1,0,1,2,0,1,1,0,0,2,1,2,2,1,2,3,2,1,1,2,2,0,1,3,1,1,4,1,3,1,0,2,0,1,1,3,0,1,1,0,1,3,1,3,1,2,0,2,1,2,1,1,1,3,0,1,1,2,1,1,1,1,1,0,1,0,2,1,1,2,0,1,2,1,2,1,1,0,1,1,1,1,1,1,2,1,1,1,1,0,2,3,3,2,1,2,1,0,0,1,3,2,1,1,2,1,4,0,3,3,2,0,0,1,2,0,0,0,1,0,2,1,2,2,1,1,2,0,0,1,2,1,1,1,2,1,0,0,1,1,2,1,0,1,2,0,0,1,1,0,4,1,0,1,3,0,1,1,1,0,1,1,2,2,3,1,1,3,1,2,1,1,0,3,1,0,1,1,0,1,2,1,1,1,1,2,1,0,3,1,1,1,0,0,3,1,3,0,1,1,2,2,1,1,1,3,1,1,2,1,1,2,1,1,1,1,2,2,1,1,1,0,1,2,3,1,1,1,1,1,1,3,1,1,2,1,2,0,2,1,3,1,0,2,1,2,1,1,0,0,3,1,1,0,1,1,1,3,1,1,1,1,1,1,4,1,1,2,2,1,2,1,1,0,1,2,2,1,2,1,1,1,1,1,1,1,1,1,0,1,1,3,3,0,1,1,1,2,0,2,3,2,0,0,3,1,3,3,1,0,0,2,0,2,2,0,1,2,2,1,2,2,1,0,0,3,1,2,1,1,0,2,1,1,1,4,0,1,2,1,0,1,1,1,2,2,1,1,2,3,1,1,2,1,1,0,1,1,1,0,1,2,1,3,0,1,3,1,2,1,1,2,1,0,2,1,1,0,2,0,1,1,1,1,0,3,2,2,2,3,1,2,3,1,1,1,2,1,1,0,0,0,0,2,0,2,1,0,1,0,1,0,2,2,1,2,1,1,4,1,2,2,0,1,4,1,1,1,1,0,2,4,1,1,0,1,1,2,2,1,1,1,2,3,2,2,1,3,1,1,2,1,2,1,1,0,2,1,1,2,1,2,1,0,2,2,3,1,2,1,1,1,2,1,1,1,1,2,1,0,2,2,2,2,0,3,2,1,2,1,1,2,1,1,4,1,1,2,0,2,1,2,1,1,1,1,1,3,0,3,1,1,1,1,1,4,1,4,2,2,1,2,1,2,2,0,2,1,2,1,1,2,2,2,1,1,1,1,3,1,1,0,2,1,1,4,1,4,3,1,1,1,1,1,1,2,2,1,1,1,2,3,1,1,1,1,0,3,2,1,0,2,1,1,1,2,1,1,1,1,2,0,1,2,2,1,1,1,2,0,0,1,0,1,1,2,1,3,0,1,1,2,1,1,2,1,0,0,1,0,0,1,0,1,1,0,0,3,1,0,1,1,1,1,1,0,0,1,1,0,1,1,1,2,3,1,1,2,1,1,1,0,0,1,2,2,1,1,1,3,2,1,1,3,2,2,1,3,4,2,3,1,1,1,1,2,1,1,1,0,2,2,2,2,2,1,1,1,0,2,3,1,3,2,1,1,0,1,1,1,1,1,1,3,3,3,1,1,1,1,3,1,1,3,3,0,1,0,1,2,0,1,1,3,3,2,0,1,2,1,1,0,1,2,2,0,3,0,1,0,1,3,0,1,1,2,2,4,0,2,1,1,3,0,2,2,2,1,1,1,3,0,1,1,1,1,3,3,4,1,1,2,1,1,3,1,1,1,1,0,1,1,1,1,1,0,1,1,0,1,3,2,0,3,1,0,1,0,1,1,1,1,1,1,1,1,0,0,1,4,1,2,1,1,1,1,3,2,2,1,1,3,3,1,1,1,0,1,1,1,2,1,1,1,1,1,1,1,1,1,3,3,1,1,1,1,1,1,1,2,3,0,1,1,3,0,1,1,1,1,2,0,0,1,1,1,1,2,2,2,1,1,1,1,1,0,0,2,3,1,2,2,1,3,1,0,1,2,0,0,2,1,1,1,2,1,1,0,1,2,3,0,0,3,1,1,2,2,1,1,3,1,1,1,1,1,1,1,2,1,1,2,1,1,0,1,1,2,1,1,2,1,3,1,4,2,1,1,1,0,1,1,2,0,1,2,1,0,1,0,1,1,1,1,0,2,2,1,1,2,2,3,3,1,2,3,0,3,1,1,1,0,1,0,4,0,1,1,2,2,2,1,1,1,1,3,0,4,1,1,1,0,0,1,0,2,2,3,2,2,3,0,1,1,1,2,1,2,2,1,2,1,2,3,1,2,2,3,2,0,1,1,3,1,1,1,1,1,1,1,1,1,2,1,1,1,1,1,1,1,1,1,2,3,1,2,2,2,1,1,2,1,2,1,1,1,1,1,1,1,0,2,3,0,1,0,1,2,1,1,2,1,2,1,3,3,2,2,1,3,0,3,2,1,3,3,1,1,4,3,3,2,0,2,2,2,1,3,1,2,1,1,1,2,1,3,3,2,0,1,1,1,0,4,1,1,1,0,2,1,1,1,0,1,1,2,1,2,1,3,1,1,1,1,1,1,3,2,1,3,2,1,1,1,1,1,2,2,3,2,2,1,1,0,1,1,1,3,3,1,1,2,1,0,2,1,3,1,1,0,2,2,1,2,1,3,1,1,2,1,3,2,2,1,1,1,3,0,1,2,1,3,1,1,1,1,1,0,2,1,1,2,0,2,1,0,2,1,2,0,3,1,1,0,2,1,0,1,0,1,0,1,1,1,1,1,1,1,1,1,1,1,2,3,1,3,1,2,0,1,1,1,2,0,1,1,2,1,0,0,1,2,2,1,4,1,1,1,1,2,1,1,1,1,2,1,1,0,1,1,1,1,2,1,1,1,1,3,2,1,3,1,3,3,2,1,2,2,2,0,1,1,1,1,1,2,0,1,1,0,2,0,1,0,1,2,2,2,2,0,0,2,0,0,2,2,1,1,3,1,2,1,2,1,1,2,1,1,0,1,0,2,1,1,2,1,2,2,1,1,1,0,1,1,0,1,1,1,3,1,0,1,2,2,1,3,1,1,3,1,2,1,0,1,3,0,1,1,1,1,1,1,1,1,1,0,1,1,1,0,0,1,0,1,0,1,1,1,1,1,2,0,1,2,2,3,0,2,0,1,2,3,1,1,2,1,3,2,2,2,1,2,1,1,0,1,3,1,1,0,1,1,0,0,0,1,3,1,2,1,1,2,0,1,1,1,2,3,1,1,1,3,1,2,1,1,1,1,1,0,1,1,2,2,1,1,0,0,1,1,1,0,0,1,1,4,2,4,1,1,2,1,2,2,2,1,2,1,1,1,1,2,1,1,1,2,1,1,1,1,1,3,1,2,2,0,1,0,0,1,2,1,2,2,2,0,3,3,1,1,3,3,2,2,2,1,0,0,3,1,2,0,0,3,2,1,2,1,1,1,3,0,2,0,1,0,0,4,3,1,1,1,2,1,1,2,1,1,2,2,1,0,1,3,2,1,2,2,1,1,2,3,0,1,1,1,1,1,0,1,1,2,1,4,1,2,3,2,0,0,1,1,0,2,2,2,1,2,1,1,1,1,1,1,2,0,0,3,1,1,0,2,1,2,3,1,1,1,0,1,2,0,1,1,1,0,2,1,4,2,0,2,3,1,2,3,1,2,2,2,1,2,1,2,4,2,1,1,2,4,1,1,2,3,1,1,0,0,3,0,1,2,1,1,2,1,1,1,2,1,1,1,0,1,2,3,0,1,2,3,1,2,1,1,3,1,1,2,1,1,1,1,3,2,0,2,1,1,2,2,0,1,1,3,2,1,1,2,1,1,2,1,3,0,1,1,1,2,1,2,2,1,1,2,1,1,3,1,1,2,1,1,1,2,2,3,2,1,1,1,0,2,1,1,0,2,1,2,1,1,2,1,1,2,1,2,2,2,0,2,0,3,1,1,2,0,1,2,1,1,0,1,1,4,0,2,2,0,1,2,1,1,1,2,0,2,3,3,1,2,2,0,1,0,1,1,1,1,0,0,2,1,1,1,1,0,1,1,2,0,1,2,2,2,2,1,1,2,2,1,1,2,1,3,1,4,1,1,4,1,4,0,1,2,1,3,1,0,2,1,1,2,0,2,3,2,3,2,0,2,1,2,0,1,1,2,1,1,0,0,0,2,1,2,1,1,2,2,0,2,1,1,2,2,1,2,1,0,1,2,2,1,2,3,3,1,2,1,3,1,0,0,0,1,1,1,1,2,1,2,1,2,2,2,1,1,2,2,1,1,0,1,1,0,2,3,1,3,0,1,1,1,3,1,1,1,2,2,1,1,1,2,2,2,0,1,0,1,2,0,2,2,1,1,1,0,1,1,1,2,1,1,1,1,2,0,0,0,2,1,2,3,2,2,1,0,2,2,2,1,2,2,1,1,2,1,0,1,1,1,2,1,1,0,2,2,2,2,2,4,1,1,1,1,2,1,2,0,3,0,1,1,1,1,1,2,1,1,1,2,1,2,3,0,1,2,1,1,1,1,1,0,1,3,3,1,0,1,0,1,1,1,1,0,1,2,1,1,1,1,2,1,3,0,1,1,0,0,1,2,1,1,0,1,0,1,3,0,3,1,1,3,2,2,1,0,1,0,1,2,1,0,2,3,2,1,2,3,2,2,1,1,3,2,1,1,1,1,0,1,0,1,1,1,2,2,1,1,3,2,2,1,2,1,2,2,0,1,1,0,2,3,2,1,1,2,0,2,1,2,1,1,1,1,1,3,0,0,1,0,2,2,1,0,1,2,2,1,1,1,2,1,1,1,1,1,1,2,4,1,1,1,0,2,1,1,0,4,1,1,1,1,2,2,1,1,1,0,1,2,0,2,1,1,1,1,2,1,1,1,2,1,1,3,1,2,0,2,1,2,1,3,1,0,1,1,1,1,0,3,2,1,2,1,2,1,1,1,1,1,2,0,1,1,2,1,0,1,2,1,2,0,3,1,1,1,0,1,2,0,1,1,1,1,1,2,1,2,2,2,1,0,0,2,0,2,1,1,0,1,1,1,2,1,2,1,2,2,0,1,3,1,1,1,1,2,2,1,0,2,2,1,0,1,1,1,1,2,2,0,2,1,1,1,1,1,1,3,1,3,1,3,0,1,3,3,2,2,1,1,0,1,1,1,2,1,1,1,2,1,4,1,1,1,2,2,0,1,2,2,1,2,1,0,1,2,1,1,3,0,0,2,2,1,3,1,3,2,3,1,3,3,1,0,2,1,2,3,1,0,2,0,2,1,1,1,1,2,0,1,3,1,1,0,2,1,1,0,0,0,1,2,1,2,1,1,1,1,0,1,2,1,1,2,1,2,3,3,3,1,2,2,2,2,0,1,0,2,2,1,1,1,1,1,2,1,2,1,3,4,1,1,1,2,1,2,2,1,1,1,2,0,2,1,0,2,0,2,2,3,2,2,2,1,3,1,1,0,0,1,2,3,1,1,1,1,1,1,1,1,1,1,1,1,1,2,1,1,1,0,0,1,1,1,2,1,2,2,2,1,0,1,1,2,1,2,2,1,1,0,0,3,0,1,2,2,1,2,1,2,2,1,2,1,0,1,1,0,1,1,2,2,1,1,1,1,1,0,1,5,0,2,2,0,0,0,0,1,1,1,2,0,3,1,2,0,1,1,0,1,1,1,1,2,4,0,0,0,1,1,0,1,3,1,0,0,1,0,1,0,1,1,1,0,1,1,1,1,4,1,2,0,1,1,2,1,1,0,3,1,0,1,2,1,0,1,1,1,2,0,1,2,1,1,0,1,1,1,1,1,0,1,1,1,1,1,1,0,0,3,1,1,1,3,0,1,2,0,1,1,1,1,1,1,2,0,0,2,2,1,1,1,1,1,2,1,2,3,3,1,2,3,0,1,0,2,2,0,0,4,0,0,1,1,1,1,2,1,2,2,2,1,1,3,3,1,1,2,1,1,0,1,2,2,2,0,1,1,1,1,0,1,1,2,1,1,2,0,1,3,2,1,1,1,1,1,1,3,1,4,1,1,1,2,2,0,1,3,1,0,1,1,2,2,2,0,2,1,2,2,2,1,1,1,1,2,2,0,1,1,0,0,1,2,1,1,4,0,2,0,0,1,2,1,1,1,1,0,4,2,1,0,0,2,1,0,0,2,1,1,1,1,1,2,1,2,1,2,1,2,1,1,3,1,1,0,3,2,2,2,2,3,1,1,2,0,1,2,0,2,2,2,1,2,1,2,1,1,1,0,2,2,2,0,1,1,2,2,1,3,1,1,1,2,2,2,3,3,2,3,1,2,1,0,0,2,1,1,2,1,1,0,1,2,0,1,2,0,3,0,1,1,4,1,2,2,1,1,1,0,0,1,1,1,1,2,1,0,2,0,1,3,1,3,0,1,3,3,1,0,1,1,3,1,2,3,3,1,2,0,2,1,0,1,0,2,0,0,1,2,2,1,1,2,1,3,0,1,1,1,1,1,1,1,3,1,2,1,0,1,1,0,0,1,1,2,1,0,0,1,1,2,0,1,1,1,1,1,1,1,0,2,1,0,2,2,1,2,1,3,0,1,1,1,1,0,1,0,1,2,2,1,1,1,4,2,3,2,3,3,1,2,2,4,2,1,1,1,1,2,1,1,0,0,1,2,2,1,3,2,1,2,0,3,1,1,1,1,1,0,1,2,1,1,3,1,0,0,2,1,2,1,0,1,1,2,1,0,2,2,1,2,0,3,3,0,2,1,3,2,1,1,1,1,0,2,1,1,1,1,0,1,1,1,2,1,2,0,1,2,0,2,1,2,1,2,1,1,2,1,1,3,2,1,1,2,1,1,1,1,1,2,3,1,2,0,1,2,1,1,2,1,1,2,0,1,0,1,0,1,1,3,2,1,1,1,1,0,1,1,1,1,1,1,1,2,0,2,1,1,1,1,3,1,3,1,2,1,0,2,2,1,1,1,1,1,1,2,0,0,0,0,1,1,0,1,0,1,1,1,0,1,1,3,1,1,1,1,0,1,1,0,1,0,0,0,0,0,0,0,0,1,1,0,1,2,1,2,1,1,1,0,1,1,3,1,0,0,2,2,0,0,1,1,2,0,1,2,3,3,1,2,2,1,1,2,1,0,0,1,0,1,0,1,1,1,1,0,2,0,3,1,1,1,0,0,1,1,2,1,0,0,0,0,2,0,2,0,2,1,1,0,0,0,0,1,0,1,0,2,1,1,1,1,1,1,1,0,0,1,0,1,0,1,0,0,0,2,1,1,1,1,0,1,0,1,1,1,0,1,3,0,0,1,3,1,1,1,1,2,3,1,1,1,1,2,0,1,0,0,0,1,0,0,1,0,2,0,2,1,1,1,1,2,0,3,2,0,0,1,1,0,1,0,1,1,2,1,1,1,0,0,0,2,2,1,1,0,2,0,0,2,1,1,1,0,0,1,1,2,2,0,2,0,0,2,1,1,1,2,1,1,1,1,1,0,0,1,1,2,1,0,2,1,0,2,0,2,0,1,0,0,1,0,3,3,4,1,0,2,0,2,1,0,1,2,0,0,2,2,2,2,0,2,3,1,3,1,0,0,2,0,0,1,1,1,0,2,1,1,1,0,3,0,1,2,2,2,2,2,2,2,0,1,1,1,1,2,1,0,1,0,0,0,0,2,0,1,3,2,1,1,0,0,2,1,0,0,1,2,1,1,3,0,1,1,2,1,0,1,0,2,1,2,0,1,1,3,1,2,0,0,1,1,2,1,1,1,0,1,1,1,2,1,1,0,2,1,3,1,2,1,1,2,0,0,1,0,1,2,1,0,0,1,0,0,2,1,0,1,1,2,1,0,1,1,1,1,1,1,0,2,1,0,0,1,1,1,1,1,1,1,1,1,1,0,1,1,1,1,1,1,1,1,2,3,3,1,1,0,0,0,1,0,1,2,0,1,0,1,1,1,1,1,1,2,0,1,0,0,1,0,2,0,1,1,1,0,3,0,1,1,0,1,1,1,4,1,1,0,0,0,1,1,2,2,1,1,1,2,1,0,2,0,1,3,0,3,0,0,2,1,0,1,1,1,1,0,0,3,3,0,0,1,0,1,0,1,1,1,0,1,1,2,3,2,2,0,2,0,2,1,1,1,2,1,1,1,1,1,2,2,1,2,0,1,2,2,1,0,1,1,0,0,1,2,1,1,2,2,1,1,2,1,0,1,1,1,2,2,1,1,1,2,4,2,1,2,2,1,1,1,1,1,1,1,1,1,1,2,1,1,1,1,0,1,0,0,0,1,1,1,1,0,2,2,1,1,1,0,1,2,1,1,1,2,0,1,1,0,1,0,2,1,2,1,1,1,2,1,1,1,1,3,1,1,2,1,3,1,1,2,1,2,1,1,0,1,2,1,1,1,0,2,0,2,1,1,1,2,2,1,2,1,0,2,2,1,1,1,2,2,1,0,1,2,0,0,0,1,1,0,1,3,0,2,3,2,1,1,1,1,0,0,2,3,2,1,1,0,0,2,0,0,2,0,1,1,2,0,2,0,1,1,1,0,2,1,1,2,1,1,1,2,1,0,1,0,1,1,3,0,2,3,0,1,1,1,2,1,2,1,1,1,1,1,0,2,1,3,3,2,1,1,2,1,0,1,2,0,2,2,3,1,0,0,2,1,2,0,2,1,1,1,0,0,1,1,2,1,1,1,0,0,1,1,2,0,3,0,1,3,0,1,0,2,2,0,1,1,1,0,3,1,1,1,0,1,4,1,1,2,1,1,3,2,2,2,2,1,2,1,3,0,2,2,1,2,1,0,2,1,1,0,0,1,2,2,1,0,1,1,0,0,2,3,2,1,1,0,2,1,1,1,2,1,0,1,1,2,1,2,1,2,1,0,0,1,2,2,0,2,2,2,0,0,1,1,1,1,1,1,1,0,1,0,1,0,1,0,2,4,1,1,0,2,1,2,1,3,1,1,1,1,2,3,1,1,2,1,2,3,1,2,0,0,0,3,0,1,1,0,0,0,3,2,2,2,2,0,2,2,1,1,1,2,3,2,0,2,1,1,0,1,2,0,0,1,2,0,0,1,1,0,3,1,1,1,1,2,1,1,1,1,1,1,4,1,1,1,1,0,1,1,0,2,0,1,0,1,1,1,2,1,3,1,1,0,1,1,0,0,1,3,3,3,2,0,1,3,1,1,3,4,0,0,3,0,3,3,1,2,2,3,0,0,1,1,2,2,1,0,1,1,1,1,3,0,2,0,2,1,2,2,1,1,1,1,0,2,3,2,1,2,0,2,1,1,1,2,0,1,2,1,3,2,1,3,0,1,1,0,1,2,3,1,1,2,1,2,4,1,1,2,0,0,2,4,3,2,1,2,1,0,1,0,2,2,2,0,1,1,1,1,2,1,0,1,1,1,2,3,2,4,0,3,1,2,2,0,1,0,1,2,1,1,2,1,1,1,1,1,0,2,1,3,1,2,0,3,1,1,2,3,2,3,0,3,2,3,1,1,1,3,0,1,0,1,1,1,0,1,2,0,1,1,1,2,1,1,1,1,0,0,0,0,3,2,1,1,1,0,0,1,3,1,0,2,1,1,2,0,1,2,1,3,4,0,3,1,1,0,3,2,0,1,2,1,2,2,2,3,1,2,1,0,1,1,2,0,1,1,1,1,1,5,1,0,1,0,1,0,0,2,0,0,1,1,0,0,1,1,1,1,2,0,0,1,3,3,2,1,1,1,1,2,1,1,2,1,1,2,1,1,3,2,0,1,3,3,3,2,1,2,0,0,1,2,0,2,1,2,1,1,1,0,1,1,2,2,1,2,0,2,1,3,0,1,0,1,2,1,2,0,2,2,1,1,3,1,1,4,1,0,2,1,2,2,1,2,1,1,1,1,2,2,1,0,1,1,3,2,1,1,1,0,0,2,0,1,2,2,1,1,2,1,1,2,1,3,3,2,0,1,1,1,1,0,2,0,1,1,1,1,3,2,2,1,2,1,1,1,3,0,3,1,1,1,1,1,3,2,3,2,2,1,1,1,1,4,0,0,1,3,2,0,2,1,0,2,2,0,4,2,1,1,3,1,1,0,0,2,2,3,0,0,1,1,1,1,1,4,1,1,1,3,1,1,0,2,2,1,2,0,2,2,1,3,1,1,1,1,1,3,0,1,1,2,2,1,3,4,2,2,1,3,2,1,2,1,1,1,1,0,1,0,2,1,1,2,2,1,0,3,1,1,1,1,1,1,1,0,1,3,2,1,1,2,2,2,2,1,0,2,1,1,1,1,2,1,1,0,1,1,2,1,0,2,1,2,1,3,0,3,3,0,2,1,1,1,1,2,0,2,0,1,1,1,1,0,1,1,1,0,2,1,1,1,0,1,0,1,1,1,2,1,1,3,1,0,1,0,1,1,1,0,1,0,2,1,1,0,2,3,1,0,3,1,2,3,2,0,0,1,1,1,0,0,1,0,0,2,1,2,1,1,2,0,3,1,1,0,1,1,1,2,0,1,2,0,0,3,0,2,1,1,0,0,0,1,2,0,2,1,1,0,2,0,1,0,1,1,1,3,1,1,0,2,3,3,1,1,1,2,2,0,1,0,3,0,2,0,2,2,1,1,3,2,1,1,1,1,3,0,1,0,2,1,2,1,2,1,1,1,1,2,3,0,1,0,0,2,1,1,2,2,1,1,1,2,0,1,4,1,0,5,2,1,1,1,1,2,3,1,1,1,3,0,2,0,1,1,0,1,2,3,3,1,3,0,0,0,2,2,1,1,2,1,3,0,1,1,1,2,1,1,1,1,1,2,0,2,2,0,2,2,1,0,1,0,2,2,0,1,2,3,1,1,2,1,4,1,3,1,0,1,0,0,1,0,1,0,1,0,3,1,0,1,2,1,1,1,1,1,1,2,1,1,0,3,0,3,3,2,1,0,2,1,3,0,2,1,0,1,1,0,1,1,1,1,2,0,1,0,1,3,1,0,0,1,0,1,2,3,2,2,1,3,2,1,0,1,1,1,1,0,1,1,0,0,2,3,2,1,2,0,0,3,1,0,3,1,2,2,0,1,2,1,1,1,1,1,1,2,0,1,2,0,3,1,0,3,0,2,1,0,0,1,0,1,3,1,0,1,2,2,2,2,1,1,1,0,0,1,1,1,1,2,1,1,0,2,3,2,1,1,0,3,1,1,0,0,1,1,1,1,1,1,0,2,1,1,0,0,1,1,2,1,2,1,1,1,0,2,0,1,0,1,2,1,0,1,1,1,0,1,3,1,2,1,2,0,1,1,3,2,1,2,1,1,2,1,2,1,4,0,1,2,2,1,0,0,1,0,3,0,2,2,1,0,2,1,0,0,3,2,1,3,1,3,1,0,3,0,0,1,1,0,2,1,4,0,0,3,1,1,1,2,0,1,1,1,2,2,2,0,3,0,1,0,1,2,1,2,1,2,0,1,1,1,1,1,0,0,1,2,1,2,1,2,2,2,2,2,2,2,1,1,3,2,0,2,1,0,1,1,1,2,1,1,2,1,0,0,0,1,0,3,4,2,1,0,1,1,1,0,1,0,2,0,3,1,1,2,1,3,1,1,1,1,1,1,1,1,3,1,2,0,0,1,2,1,2,0,2,2,1,1,3,1,2,2,2,1,2,4,2,1,2,2,2,1,1,0,1,1,0,1,1,0,3,0,1,1,4,1,0,1,0,1,1,1,2,1,0,0,1,1,1,1,1,0,1,1,1,2,1,1,1,0,2,1,1,3,1,1,1,1,1,2,4,0,0,1,1,1,1,1,0,3,1,2,1,1,1,1,1,1,3,0,0,1,3,1,0,2,2,1,0,1,1,2,1,1,3,1,2,1,1,3,3,2,1,2,1,1,2,1,3,2,3,0,1,1,1,3,2,0,1,1,0,3,2,1,1,0,3,2,0,1,2,2,1,1,0,0,2,0,2,3,1,2,2,1,1,2,1,1,0,2,3,1,2,2,2,1,1,1,1,1,1,1,1,0,3,1,3,2,2,1,0,0,1,1,1,1,0,2,1,2,0,1,1,3,1,0,1,1,1,3,3,0,1,0,1,1,1,1,1,4,1,1,1,2,0,2,1,2,0,0,1,3,1,1,1,0,1,0,1,0,1,2,1,1,3,1,1,1,1,0,2,2,1,1,1,1,1,1,2,0,1,1,1,2,1,1,1,3,1,1,0,1,1,1,2,2,1,0,3,0,3,3,1,1,2,1,1,2,2,1,1,0,1,1,1,1,1,1,1,1,1,2,0,1,1,0,2,1,1,0,2,1,2,2,0,1,1,2,2,1,1,2,1,2,1,4,0,3,1,2,1,2,0,1,1,1,2,1,1,0,1,1,0,1,1,2,1,3],\"xaxis\":\"x\",\"yaxis\":\"y\",\"type\":\"histogram\"},{\"alignmentgroup\":\"True\",\"bingroup\":\"x\",\"hovertemplate\":\"readmitted=\\u003c30\\u003cbr\\u003eMedicinas_tomadas=%{x}\\u003cbr\\u003ecount=%{y}\\u003cextra\\u003e\\u003c\\u002fextra\\u003e\",\"legendgroup\":\"\",\"marker\":{\"color\":\"#636efa\",\"pattern\":{\"shape\":\"\"}},\"name\":\"\",\"nbinsx\":11,\"offsetgroup\":\"\",\"orientation\":\"v\",\"showlegend\":false,\"x\":[1,2,0,1,1,0,1,2,1,1,2,0,3,1,1,1,0,2,2,1,0,1,1,1,1,2,0,1,1,1,1,0,1,1,1,2,1,1,1,1,0,1,1,1,1,1,1,2,1,0,0,1,2,1,0,1,1,1,1,1,1,2,0,1,0,1,0,3,0,0,1,1,0,1,1,0,0,1,1,3,1,1,0,0,1,1,1,1,1,1,3,0,0,0,3,1,1,3,2,2,2,0,1,1,1,1,0,1,1,0,1,0,1,1,2,4,1,0,2,1,2,2,2,1,1,0,0,2,2,1,0,2,1,3,0,1,0,1,0,1,2,3,1,1,3,0,1,1,0,3,1,2,1,3,2,2,2,2,1,1,1,1,0,2,1,1,3,0,0,2,2,1,2,1,0,1,0,1,0,0,4,1,0,0,2,1,4,2,1,1,0,0,1,2,1,2,1,0,0,1,0,0,1,0,1,0,0,1,1,2,1,1,1,0,0,1,0,0,0,0,2,1,1,2,0,2,1,2,1,1,1,1,2,1,0,3,0,1,0,0,0,1,1,0,1,1,1,2,1,1,2,0,0,2,2,1,3,2,1,1,2,0,1,3,0,1,1,1,0,0,1,1,2,0,1,0,0,1,1,0,0,3,1,1,1,1,0,1,1,3,0,2,1,0,2,1,1,1,3,0,0,1,0,0,1,0,1,1,1,1,0,2,1,1,1,2,0,1,0,1,4,0,3,1,2,3,1,1,1,0,1,1,1,1,1,2,2,1,0,1,1,1,1,2,2,1,0,0,1,1,1,3,0,0,3,0,1,0,1,0,1,1,0,2,2,1,0,1,1,1,1,4,0,0,1,1,1,1,2,1,1,1,1,1,0,1,0,0,0,2,1,2,1,1,2,0,2,1,0,0,3,1,1,1,0,1,2,0,3,1,0,2,1,1,1,0,0,3,2,2,1,2,1,1,2,1,2,1,1,1,1,0,0,1,0,2,2,2,1,1,2,0,1,1,0,1,1,1,0,0,0,2,2,2,1,1,1,0,1,1,1,2,0,0,1,1,1,1,1,1,1,1,2,0,0,0,0,1,1,0,1,3,0,1,0,1,1,1,1,1,0,1,3,0,2,1,0,1,2,1,2,1,2,0,1,1,1,1,1,1,2,2,2,3,1,1,1,1,2,3,1,2,2,1,2,1,1,1,1,3,1,3,1,1,1,1,1,2,1,2,1,1,1,2,1,1,1,2,2,1,1,3,1,2,1,1,0,1,1,1,1,1,0,3,1,1,0,1,1,1,1,4,2,1,1,1,0,1,3,2,1,1,3,1,1,1,1,1,4,1,1,1,0,1,1,1,2,1,1,1,1,1,3,1,1,1,1,0,1,0,1,1,1,2,2,0,1,3,1,3,0,0,1,1,2,1,1,1,1,0,2,1,0,1,2,1,1,2,0,1,1,1,0,0,0,0,2,1,1,2,0,0,1,1,2,2,1,2,2,1,2,1,1,0,1,1,1,1,2,0,1,1,1,1,3,2,1,2,1,0,1,1,1,2,0,2,1,1,2,2,2,1,3,1,0,1,1,2,1,1,1,1,0,1,1,2,1,1,1,0,3,1,1,1,1,0,1,0,1,0,2,1,2,2,2,1,2,1,1,1,3,3,0,4,0,0,2,2,1,2,1,2,1,1,1,2,1,2,2,1,2,1,1,1,1,1,1,1,1,0,1,1,1,1,4,1,1,3,2,1,1,3,2,0,2,1,1,3,0,1,1,1,0,2,1,0,1,1,1,1,1,1,1,2,2,2,1,2,1,2,4,2,2,3,1,0,1,1,1,1,3,3,1,2,2,1,2,1,0,1,4,1,1,0,2,2,3,1,1,1,2,2,1,0,1,2,1,1,1,1,3,1,0,1,2,1,1,1,2,3,1,1,0,3,1,1,0,1,2,0,1,3,1,2,1,0,2,0,2,1,0,1,0,1,1,1,1,2,1,1,0,0,1,1,1,1,1,3,2,1,1,1,1,2,1,1,1,1,2,0,0,1,1,2,0,2,1,1,1,2,1,1,2,1,2,1,1,2,1,1,1,2,1,1,1,1,2,2,1,0,2,2,1,1,1,1,1,1,1,1,0,0,2,3,2,1,0,0,0,1,2,1,2,1,3,1,1,3,3,0,1,2,2,2,3,1,1,1,2,1,1,1,2,2,2,2,2,2,3,1,1,0,1,1,3,2,2,1,3,4,1,1,1,1,0,1,0,1,2,3,2,1,3,0,2,3,0,1,0,2,1,1,2,1,2,1,1,2,0,2,2,2,4,1,3,2,1,1,1,3,2,1,2,1,2,3,1,0,2,0,0,1,1,1,1,0,1,1,1,2,1,1,1,0,1,1,2,2,2,2,1,0,1,3,0,1,1,2,2,0,2,2,1,1,2,2,1,1,1,2,1,1,0,1,2,3,1,1,2,2,1,3,1,1,1,0,1,0,1,1,2,1,1,1,0,1,1,2,2,2,0,2,0,1,0,1,2,2,2,1,2,1,2,1,1,1,1,0,2,2,2,3,1,3,2,3,1,1,0,3,1,1,1,2,2,2,1,2,3,1,1,2,2,1,1,1,1,3,2,1,0,2,2,2,1,1,0,2,0,1,1,1,2,2,2,1,1,1,0,0,3,0,1,1,0,1,4,0,3,3,0,0,0,0,1,1,0,1,1,2,0,1,0,4,2,1,1,1,1,1,1,2,1,1,2,1,3,1,1,1,1,3,2,2,1,0,0,2,2,1,1,1,2,1,1,0,0,1,0,0,1,2,1,2,1,1,1,2,0,1,1,1,1,1,0,1,0,1,0,3,0,0,1,1,2,1,1,2,1,2,2,3,0,2,1,1,2,1,2,1,1,1,1,1,1,2,2,1,1,2,1,0,1,1,2,1,2,0,3,2,1,2,1,1,1,2,1,2,1,1,0,1,1,1,2,1,1,2,1,2,0,0,1,1,2,1,1,1,1,0,0,2,2,2,1,1,1,1,1,1,0,0,1,1,1,0,2,2,1,1,0,1,3,1,2,2,1,1,3,0,1,3,1,2,1,0,2,2,0,1,0,0,1,1,1,1,1,1,2,0,0,1,2,0,1,3,1,2,2,0,1,1,1,1,1,2,2,1,1,1,1,1,2,1,0,1,1,1,1,1,3,1,1,1,1,1,0,2,0,3,1,2,1,1,1,1,1,1,1,0,1,2,2,0,2,1,1,2,1,3,1,0,1,2,1,1,1,1,1,0,1,1,1,0,1,1,1,1,1,2,1,2,1,1,3,1,1,0,1,0,0,1,1,1,1,0,1,2,0,1,1,3,2,0,3,1,1,1,1,2,2,0,1,1,0,1,0,1,1,2,2,1,2,1,1,2,0,1,0,3,2,4,2,1,2,1,1,2,2,3,0,1,1,1,1,0,1,1,2,1,1,1,1,1,1,3,2,1,1,1,3,2,1,1,0,1,2,1,0,0,1,1,0,0,0,0,2,2,1,1,2,0,1,1,1,0,1,1,0,0,0,1,2,1,0,1,1,1,0,0,0,0,2,1,1,0,0,1,1,0,1,0,1,3,1,2,1,1,0,1,1,2,1,1,2,1,0,1,2,2,2,0,2,1,1,2,2,1,1,2,1,2,1,3,0,1,0,2,1,2,2,0,1,2,0,1,3,2,1,2,0,0,2,1,2,3,1,4,2,0,0,1,1,1,2,1,2,2,0,1,1,0,1,1,1,1,0,1,1,1,1,1,0,0,0,0,1,2,2,1,0,1,3,1,0,2,1,1,1,2,3,1,2,2,0,1,2,1,1,1,2,0,2,3,1,2,1,2,1,4,1,0,1,1,3,1,2,4,1,1,0,2,2,1,1,2,1,1,1,1,1,1,0,2,1,3,1,2,1,1,1,2,3,0,1,1,1,2,0,2,2,1,1,1,0,4,1,1,1,1,1,0,1,1,2,3,1,1,1,2,1,1,1,1,2,0,1,2,1,1,0,2,1,1,3,2,2,0,1,1,2,2,2,2,1,2,0,2,0,1,3,1,4,1,1,2,2,1,2,1,1,3,3,0,2,0,1,2,0,2,1,2,0,2,2,1,3,2,2,4,0,2,2,1,0,1,2,1,1,1,1,1,1,1,0,0,1,1,1,1,3,1,2,1,2,1,1,1,0,3,2,1,1,1,3,1,3,1,2,0,1,2,1,1,0,1,0,1,0,2,1,2,1,1,1,1,2,2,3,2,2,1,3,1,2,0,0,1,1,1,1,2,1,3,1,2,0,0,1,3,0,0,1,2,1,2,4,3,1,1,1,1,1,1,1,2,2,0,2,2,0,2,3,3,0,1,1,1,1,2,1,1,1,2,1,1,0,1,2,1,0,1,1,1,1,2,0,0,1,1,1,1,1,1,1,0,1,1,1,2,0,1,1,2,2,1,1,1,1,1,2,1,1,2,3,1,2,3,1,0,2,1,2,1,1,2,1,2,1,0,1,1,1,2,1,4,1,0,2,1,1,2,1,0,1,1,1,2,1,2,1,0,2,0,1,1,1,1,1,1,1,2,0,1,1,1,1,1,1,1,0,3,1,1,1,1,1,1,4,1,4,0,1,0,1,2,2,1,0,2,1,0,2,0,2,0,2,1,1,0,2,1,3,1,3,1,2,2,1,1,3,1,4,0,1,2,1,1,1,1,2,1,0,1,1,1,1,1,0,3,1,0,1,4,1,0,3,1,3,0,4,1,0,1,0,0,2,1,0,2,1,0,3,1,2,2,1,2,1,2,1,0,0,1,1,1,2,3,1,1,2,1,2,2,1,1,1,3,1,1,1,1,2,0,3,1,1,1,0,2,3,1,1,1,3,1,1,1,2,0,1,2,2,1,3,2,2,1,2,1,1,1,3,1,1,0,1,1,1,1,1],\"xaxis\":\"x2\",\"yaxis\":\"y2\",\"type\":\"histogram\"},{\"alignmentgroup\":\"True\",\"bingroup\":\"x\",\"hovertemplate\":\"readmitted=NO\\u003cbr\\u003eMedicinas_tomadas=%{x}\\u003cbr\\u003ecount=%{y}\\u003cextra\\u003e\\u003c\\u002fextra\\u003e\",\"legendgroup\":\"\",\"marker\":{\"color\":\"#636efa\",\"pattern\":{\"shape\":\"\"}},\"name\":\"\",\"nbinsx\":11,\"offsetgroup\":\"\",\"orientation\":\"v\",\"showlegend\":false,\"x\":[2,2,0,1,1,0,0,2,0,1,0,1,0,0,1,1,0,1,0,2,2,1,3,2,1,1,0,0,0,1,1,0,0,0,1,2,2,1,0,2,1,1,1,2,0,2,2,2,1,0,0,1,0,1,1,1,1,0,2,1,2,1,1,0,2,0,1,1,1,0,0,1,0,1,1,0,2,5,1,1,0,2,3,0,0,0,2,1,0,0,1,0,2,0,3,0,0,2,1,0,0,0,0,0,2,0,2,1,0,0,0,2,1,2,1,1,2,1,2,1,1,0,0,1,0,1,3,1,0,1,0,1,2,0,1,2,0,1,1,2,1,1,3,1,1,2,1,2,2,2,1,1,1,1,2,1,0,1,0,2,2,2,1,3,3,0,2,2,2,1,0,2,2,0,0,0,2,0,0,0,1,0,1,0,1,1,2,1,1,1,0,0,3,1,0,1,1,1,1,0,1,1,1,1,1,2,1,1,2,0,0,3,2,2,2,1,4,1,1,1,2,1,1,1,2,1,0,1,0,2,1,0,0,2,0,1,1,2,0,1,1,1,0,1,0,0,0,1,1,0,0,2,1,0,1,1,1,1,0,1,3,0,1,0,2,1,2,1,1,2,2,1,1,1,1,0,1,2,0,1,2,1,0,1,2,2,0,1,0,2,1,2,1,2,2,0,0,3,0,1,3,0,1,1,2,1,2,0,1,0,1,1,1,2,0,2,2,1,1,1,0,0,1,1,2,2,2,1,1,0,0,1,1,2,0,1,1,0,1,1,0,1,0,2,2,1,0,1,2,2,0,1,3,2,1,2,1,2,1,3,0,1,0,1,1,4,0,1,0,1,2,3,2,2,0,1,0,1,2,1,0,1,1,1,2,1,2,0,0,2,3,1,1,1,1,3,2,0,2,1,2,0,0,2,0,1,2,1,3,0,1,0,1,0,1,1,2,0,0,1,3,1,6,1,1,0,2,0,0,2,3,1,1,0,1,3,0,3,1,0,1,1,1,2,1,3,2,1,2,0,2,1,2,1,1,1,1,1,0,1,2,1,2,1,0,3,3,0,0,2,1,0,2,1,2,1,1,0,0,1,1,2,1,0,2,0,0,1,1,0,1,1,3,0,1,0,1,1,0,3,0,0,1,1,1,0,2,2,1,2,0,2,1,4,1,0,2,1,1,0,1,1,0,1,1,3,1,1,0,1,2,0,0,1,1,1,1,1,1,1,1,1,1,1,0,0,1,2,2,0,1,0,0,1,1,1,1,3,0,1,0,1,0,2,0,1,1,0,3,1,0,1,2,1,0,1,1,3,1,0,1,0,1,0,2,1,2,1,2,3,2,0,2,0,1,0,4,1,1,0,1,0,2,1,0,0,0,1,0,1,1,2,1,1,1,2,2,2,1,0,1,0,1,2,2,2,1,2,0,1,1,0,1,1,1,2,1,1,0,2,1,1,1,1,1,4,1,1,2,2,0,1,2,1,1,0,0,1,1,1,2,2,2,1,0,2,2,0,1,1,0,2,2,1,2,0,2,0,2,1,0,1,1,2,1,1,1,1,0,1,1,0,0,1,0,0,0,1,0,1,0,3,1,1,0,1,1,1,0,0,2,2,1,1,2,1,0,3,0,1,1,2,0,1,2,1,1,1,1,3,1,2,1,1,1,0,1,1,0,0,2,2,2,1,2,1,2,1,2,1,3,0,1,1,2,1,1,1,1,1,1,3,1,1,1,2,1,0,0,1,1,1,1,1,2,0,2,3,1,1,1,0,0,1,1,2,2,0,0,3,2,2,1,1,1,3,0,1,1,0,1,1,0,2,1,1,1,0,1,1,1,1,1,1,1,1,0,0,1,1,3,4,0,1,0,1,2,1,2,1,2,1,1,0,0,0,1,3,1,1,2,0,0,1,0,1,1,1,1,1,1,2,2,2,1,0,1,2,3,0,3,1,0,1,0,2,0,1,1,1,1,2,0,1,1,1,1,0,0,1,0,1,1,1,2,0,1,1,2,0,1,1,1,0,3,1,1,0,0,0,2,1,1,2,0,3,0,1,2,1,0,2,1,0,3,0,0,2,1,2,1,1,2,1,0,2,3,1,0,0,1,1,1,1,0,2,2,1,2,1,1,2,0,1,1,1,1,2,2,0,1,1,2,0,1,2,1,2,0,1,1,1,0,1,2,2,1,1,1,2,0,1,2,1,0,1,1,1,1,0,0,1,0,1,0,1,0,1,0,1,0,1,1,2,1,1,0,0,0,0,1,1,2,0,1,1,1,1,1,0,0,1,0,0,1,0,3,3,2,2,1,3,0,1,1,3,1,3,0,0,1,1,0,0,1,1,0,1,2,1,3,1,1,1,1,4,1,1,3,1,0,1,3,1,0,1,1,2,1,1,1,0,0,1,2,2,1,2,1,1,1,0,1,2,1,0,2,1,0,0,0,0,2,0,3,0,3,1,1,3,1,0,1,3,0,2,1,0,1,1,0,0,1,2,1,2,4,3,1,3,2,1,1,1,1,1,2,1,2,1,1,1,1,2,0,3,1,1,0,0,1,1,0,1,2,0,1,2,1,0,2,0,2,0,3,3,1,0,0,1,2,0,1,1,1,1,0,1,1,0,0,2,1,1,2,1,0,1,2,1,1,0,2,2,0,1,2,0,2,1,0,1,0,1,0,1,0,0,0,2,1,2,1,4,1,0,4,1,1,0,1,1,1,2,3,2,0,1,1,1,0,2,1,1,1,0,1,1,0,1,2,3,1,1,2,1,2,0,1,2,0,1,1,1,1,2,1,0,0,2,0,1,1,4,0,1,1,1,1,0,1,0,2,0,0,1,1,2,1,1,0,1,0,1,1,0,0,1,1,2,1,1,0,1,1,1,0,1,1,1,0,2,0,0,1,0,1,3,1,1,1,0,1,0,1,1,1,2,0,1,1,1,1,1,1,0,1,2,0,1,1,0,1,2,1,1,1,2,3,0,3,2,1,0,1,1,0,3,1,1,0,1,0,2,2,3,1,3,0,2,2,0,1,1,1,0,0,1,0,1,1,1,1,0,1,1,1,1,2,1,0,3,1,1,0,1,1,2,1,2,0,1,0,0,2,1,0,1,1,1,1,0,1,3,1,2,0,0,1,1,0,0,0,0,1,2,1,1,0,3,2,1,4,2,0,1,1,1,3,1,1,2,2,0,1,1,0,4,1,1,1,1,1,0,0,1,2,1,0,1,2,1,1,1,1,0,3,1,0,1,1,2,1,1,2,0,2,0,1,1,2,1,0,1,3,2,1,1,2,1,3,0,1,0,1,2,2,2,1,0,0,0,2,2,2,1,1,1,1,0,1,2,0,2,2,0,2,1,0,1,2,2,1,0,1,1,1,2,3,1,2,0,1,1,1,1,2,2,3,4,1,0,0,0,1,2,3,2,1,0,3,1,1,2,1,2,1,2,0,1,2,0,1,2,4,1,1,1,1,1,1,3,2,0,1,1,2,2,1,0,1,0,0,0,1,2,1,1,2,0,1,1,0,2,2,1,2,2,1,1,2,1,2,1,2,2,1,0,1,3,2,1,1,0,0,0,0,1,3,0,0,1,0,1,0,0,2,0,1,1,1,2,2,1,1,1,1,1,1,0,3,0,0,1,1,0,1,0,0,1,2,0,2,1,1,1,1,3,0,2,2,1,2,0,1,0,0,1,4,2,1,0,0,0,1,2,0,3,2,2,1,2,1,2,1,1,2,0,1,0,2,2,1,2,1,1,2,1,2,1,0,2,1,0,1,1,1,2,1,0,1,0,1,3,1,0,1,1,2,1,1,0,1,1,1,2,1,1,3,1,0,1,2,0,0,1,1,0,2,0,0,1,2,0,1,0,1,0,0,1,0,1,1,0,1,1,1,0,1,2,2,2,2,1,2,2,1,1,1,3,3,0,2,2,3,1,1,1,1,0,1,0,1,1,0,1,2,1,0,3,0,0,2,2,1,0,1,2,2,2,2,1,3,0,0,0,1,1,0,0,0,0,2,0,3,0,1,0,2,1,2,1,1,1,0,1,0,1,1,1,0,0,0,1,2,1,1,1,0,3,0,3,0,3,1,0,1,1,0,0,1,3,2,1,2,2,1,1,2,2,1,3,2,2,0,0,1,0,1,1,1,2,1,0,1,1,2,3,0,1,2,1,0,0,1,1,0,1,3,1,2,1,1,1,0,1,0,2,1,0,1,1,2,0,0,1,1,1,0,1,0,0,0,1,1,0,0,0,1,2,1,2,1,0,1,1,1,1,1,1,1,1,2,2,4,1,1,1,1,0,0,0,2,2,0,2,2,0,1,0,1,1,2,1,2,1,0,0,1,1,0,0,1,1,1,1,3,2,1,1,1,2,0,1,0,0,0,1,0,1,0,0,2,1,2,0,1,0,0,0,1,0,3,1,3,2,1,2,1,2,2,2,3,1,0,3,2,2,0,3,0,1,1,0,1,0,1,1,1,2,0,1,1,2,1,1,0,0,1,1,2,2,1,1,1,3,1,2,1,2,1,0,3,4,0,1,0,0,1,3,3,0,2,1,3,1,1,1,2,1,2,1,4,3,3,2,1,1,2,2,2,0,1,1,2,1,1,2,3,2,0,1,1,1,1,0,0,3,0,1,2,2,1,2,0,1,2,2,4,2,1,1,2,2,0,3,1,1,3,1,1,1,2,0,0,1,2,3,1,0,1,1,2,1,2,2,1,0,0,1,1,1,1,3,2,1,1,1,1,0,1,1,1,4,0,2,1,1,2,0,1,1,0,3,2,2,4,1,2,0,1,0,2,2,1,2,3,0,2,2,1,3,1,2,1,4,1,0,0,2,1,0,2,0,3,4,0,2,3,1,2,1,0,3,0,2,1,0,0,2,2,1,0,2,1,2,1,1,1,2,1,3,1,1,2,2,1,1,2,0,2,2,2,1,2,1,2,1,4,1,1,2,1,1,1,1,1,1,0,0,1,0,1,2,1,1,0,1,1,1,1,1,1,1,0,1,1,1,3,1,0,1,1,1,0,1,2,2,1,4,2,0,1,1,1,1,2,1,0,1,1,1,1,2,1,0,3,1,0,1,3,3,1,2,2,3,2,1,0,0,0,2,2,1,1,1,2,1,1,1,0,1,2,1,2,2,3,1,2,2,0,0,3,2,1,1,2,1,0,0,2,2,2,3,0,1,0,1,0,1,1,2,1,1,1,1,1,2,3,1,2,0,0,1,1,0,3,0,1,2,1,2,4,1,1,1,1,2,0,1,1,1,0,1,1,1,3,3,1,1,0,1,1,1,1,2,0,0,2,1,0,1,4,1,3,0,2,1,3,1,0,2,2,2,1,1,1,2,0,1,2,1,2,2,3,1,1,1,1,0,2,4,0,0,2,0,1,0,1,1,1,3,0,1,0,0,3,0,1,0,1,0,1,1,1,0,0,2,0,3,1,2,0,3,1,0,2,3,0,1,0,1,3,2,1,0,2,1,1,2,1,1,1,3,1,3,2,3,3,1,1,2,1,2,0,1,0,1,2,1,1,1,1,1,1,1,1,1,1,2,1,1,2,1,1,1,0,1,1,2,0,0,2,0,2,3,1,1,1,0,1,1,1,0,1,2,1,1,0,0,2,1,2,4,1,3,2,0,2,1,1,1,0,2,2,2,1,1,1,2,2,1,3,2,2,2,3,2,0,1,1,0,1,1,3,0,1,3,3,2,1,2,1,1,1,1,1,4,1,0,1,2,1,2,0,2,3,0,1,0,1,0,1,2,1,1,2,1,1,0,2,1,1,1,0,1,1,0,1,1,0,0,1,1,0,2,1,1,1,1,1,2,0,2,0,2,2,1,1,1,1,4,1,2,1,0,3,2,3,1,2,3,2,1,1,1,3,1,2,1,0,2,2,0,1,0,2,1,0,2,1,1,0,1,0,1,2,1,2,1,2,3,3,1,2,3,1,1,1,1,1,2,1,1,1,1,2,2,1,2,1,3,0,1,1,0,1,1,0,0,1,1,1,0,1,2,0,1,2,1,2,3,3,1,2,1,3,0,0,2,2,1,0,0,1,1,0,1,2,2,1,3,3,1,1,2,1,1,1,1,3,2,1,0,1,1,1,0,1,2,1,0,1,2,0,0,1,0,1,2,1,1,1,3,4,1,1,1,2,4,1,0,1,1,0,1,1,2,1,2,1,1,1,1,2,2,1,2,1,1,2,1,0,0,1,0,1,2,1,2,1,0,2,1,1,1,1,2,1,1,1,1,1,2,1,3,3,2,2,1,0,1,1,2,1,1,1,1,1,0,0,3,1,1,0,1,0,1,1,3,1,0,3,2,0,3,1,1,2,2,1,0,3,1,2,1,2,2,1,1,1,1,2,1,0,3,0,0,2,2,1,0,2,2,0,1,2,1,1,1,0,1,1,1,1,1,1,1,1,1,3,1,1,1,0,1,0,2,1,0,1,2,1,1,3,1,0,0,1,0,3,1,0,0,3,1,1,1,1,1,2,2,1,3,1,1,2,2,1,1,1,2,1,1,3,2,1,0,1,0,1,2,1,2,2,1,1,1,0,2,0,2,1,1,1,1,1,2,2,1,1,1,1,1,1,3,1,1,0,1,2,1,1,1,1,1,0,2,1,1,1,1,1,1,2,2,1,0,1,1,0,2,1,1,2,1,1,2,1,2,3,0,1,1,2,0,1,1,1,2,1,0,1,1,0,1,3,0,2,1,1,0,1,1,2,0,1,3,3,1,2,1,1,1,0,0,4,1,0,1,1,2,2,1,1,2,2,1,1,2,2,1,1,1,1,0,0,1,1,1,2,1,1,1,0,2,1,0,0,1,2,1,1,0,1,1,2,2,1,2,0,1,1,1,2,1,2,2,1,1,1,0,1,0,1,1,1,2,2,1,2,0,0,3,1,1,0,1,1,1,0,2,1,1,1,1,1,0,0,2,1,0,1,2,0,3,1,1,1,1,0,1,0,1,2,2,1,1,1,2,1,0,3,2,0,1,1,1,1,1,0,3,2,0,0,3,0,4,3,0,0,1,1,2,1,1,0,1,1,2,1,1,0,2,2,0,2,3,1,2,2,0,1,3,1,3,2,2,1,0,3,1,0,1,0,1,1,2,1,0,1,1,1,3,1,3,1,2,2,0,1,3,2,1,1,1,1,4,0,2,3,1,2,3,3,0,1,1,2,3,3,2,2,1,1,4,0,2,2,3,0,1,0,1,1,2,1,1,1,0,1,2,3,0,3,1,0,0,1,2,2,3,2,2,1,3,1,1,0,2,0,1,2,1,2,1,1,1,1,2,1,2,2,1,1,1,2,1,2,1,1,0,1,1,4,1,1,2,1,2,1,3,0,1,1,2,1,2,2,2,0,1,2,1,1,1,1,0,0,2,2,2,3,3,0,1,2,2,2,2,2,2,3,0,1,1,1,3,0,2,1,3,2,2,2,1,0,1,0,1,2,1,2,2,3,1,2,1,1,0,2,1,0,0,2,2,0,1,1,0,2,1,1,1,0,0,2,3,1,3,4,2,1,2,1,1,0,1,1,1,1,1,0,1,1,3,2,0,1,1,1,0,1,1,0,0,0,0,3,0,1,1,1,1,3,1,1,3,1,1,1,2,2,0,3,1,0,0,2,0,0,1,1,2,0,0,1,1,2,0,1,1,2,3,2,2,1,1,2,2,1,1,0,2,2,2,1,0,1,2,1,1,3,0,1,1,1,1,0,0,1,2,1,2,1,2,0,1,1,1,1,3,1,0,1,1,1,1,2,1,1,0,1,0,0,1,1,1,0,1,2,0,0,0,1,1,0,0,1,1,1,0,1,1,0,2,2,1,1,1,1,0,0,1,1,1,1,0,3,3,0,0,2,2,1,1,1,1,3,0,1,0,1,2,1,2,1,4,2,2,1,1,1,2,1,1,1,3,1,1,4,2,0,3,1,3,1,1,0,2,0,2,1,1,1,3,0,1,3,1,2,1,0,1,1,2,1,3,1,1,1,1,0,1,1,0,1,1,1,2,0,1,2,2,3,1,0,1,0,1,0,1,1,1,0,2,1,1,0,1,1,0,1,0,2,1,1,4,0,1,1,2,2,1,0,1,1,0,2,2,1,0,0,2,0,2,1,1,1,1,1,1,0,2,1,1,3,1,1,2,1,1,1,0,1,0,1,1,0,1,2,2,0,1,1,3,1,1,0,3,3,2,0,2,1,3,4,1,0,1,2,2,1,2,3,1,2,3,0,2,0,3,1,2,3,1,1,1,0,2,0,1,1,2,1,0,0,2,2,1,1,0,1,3,2,1,2,2,1,1,1,1,1,2,1,0,2,2,2,1,0,1,0,2,1,0,1,1,2,1,1,0,1,1,2,1,2,1,3,2,2,1,1,0,2,1,2,1,0,2,1,1,1,0,1,2,1,2,0,0,1,3,3,1,0,2,3,1,2,1,1,0,1,2,2,0,2,1,1,3,1,1,1,1,1,1,1,0,1,1,3,1,1,1,2,1,1,1,3,1,0,1,1,1,0,3,2,1,2,1,1,1,2,1,0,1,0,1,0,2,2,2,3,1,0,1,1,4,3,2,2,1,2,1,1,1,2,3,1,1,2,0,3,1,1,2,1,2,0,0,1,2,1,1,2,0,1,0,1,2,1,1,0,0,2,2,2,1,2,2,1,2,0,0,1,3,1,0,2,0,2,1,1,1,0,3,1,1,1,3,3,2,1,0,2,1,1,1,2,1,2,1,2,0,1,1,2,1,5,1,1,1,1,2,3,1,1,1,1,1,2,1,1,1,3,1,1,0,1,0,1,1,3,2,3,1,2,4,1,2,1,1,2,1,4,2,2,2,0,1,2,1,2,1,1,1,1,1,1,2,3,2,0,0,1,1,1,2,2,2,1,1,1,1,4,0,2,2,1,1,2,3,1,1,1,0,1,3,3,1,1,1,2,1,3,1,1,1,0,1,0,3,1,3,0,0,0,4,1,1,1,0,1,2,2,1,1,0,3,1,0,3,1,0,1,0,2,2,2,1,0,0,1,2,2,2,2,1,2,2,2,0,2,0,2,2,1,1,1,1,1,0,2,1,2,2,3,0,3,2,1,0,1,1,2,2,1,3,1,1,0,1,2,1,1,2,1,2,0,1,2,1,1,1,3,1,2,1,1,3,2,1,2,1,2,1,0,1,1,1,0,0,3,2,0,2,1,0,1,1,1,1,2,0,1,1,3,2,3,1,1,1,3,2,0,1,0,3,2,0,2,3,0,1,1,1,1,2,1,0,1,3,0,1,2,1,3,2,1,2,1,2,1,1,1,4,1,2,1,4,1,2,2,1,1,0,2,0,0,4,1,1,2,1,1,1,1,1,1,0,2,3,1,2,1,2,1,2,0,2,2,2,0,1,1,1,1,2,0,1,2,1,0,2,2,2,3,0,2,0,1,1,1,1,1,1,1,0,1,2,1,2,0,0,2,1,1,2,0,0,3,2,1,0,2,1,1,2,3,2,1,1,2,1,1,2,1,1,2,1,2,3,3,2,2,2,2,1,2,1,1,1,1,2,1,2,3,0,0,1,2,0,1,2,3,1,4,3,2,1,0,3,1,2,1,1,2,3,0,2,2,1,1,2,1,1,2,1,1,3,0,2,1,2,1,1,1,2,1,0,1,1,2,2,1,2,1,2,2,2,0,1,1,1,1,2,1,2,0,1,1,2,1,1,2,2,1,1,1,3,2,1,3,1,1,1,2,1,0,1,0,2,2,1,0,2,1,2,1,1,1,1,3,1,1,0,0,1,1,0,2,0,1,1,2,2,2,1,1,1,0,2,3,2,1,2,1,1,0,3,2,1,1,0,0,2,2,2,1,3,0,0,1,2,1,0,1,2,1,0,2,0,1,1,1,0,2,2,1,0,1,2,1,0,2,0,2,1,0,1,2,0,0,0,1,0,2,1,2,0,0,1,4,1,2,1,2,1,2,0,0,2,1,1,1,0,2,1,2,1,1,1,0,1,2,2,0,2,1,1,1,1,2,1,4,1,1,4,1,4,0,2,1,2,1,1,1,1,0,1,0,2,2,1,1,2,3,1,1,2,1,1,1,1,0,2,0,2,0,2,0,1,2,1,3,0,1,1,2,1,0,2,1,1,1,0,1,0,2,1,1,2,1,1,2,2,1,2,1,1,0,2,1,1,0,0,0,0,2,1,1,3,0,1,0,0,4,0,1,2,1,1,1,2,0,2,3,3,1,1,1,2,1,1,1,1,1,0,1,3,3,1,2,1,1,1,2,1,2,1,0,4,1,1,0,2,2,0,2,1,2,2,0,1,1,1,1,0,1,3,1,2,2,0,0,2,0,1,1,1,0,1,1,1,2,1,1,1,1,1,0,2,2,1,1,3,1,1,1,2,1,2,0,1,2,1,2,1,1,1,1,2,1,2,1,1,1,1,1,1,1,0,3,0,1,0,3,0,1,1,2,2,0,1,2,1,1,3,2,1,2,1,1,3,3,2,0,3,2,0,1,0,1,2,3,1,2,2,4,0,2,1,0,3,1,2,2,1,1,2,1,2,1,0,0,1,1,1,0,1,1,3,1,1,2,3,1,1,1,2,3,1,1,2,3,1,1,4,1,1,1,2,0,1,1,0,1,2,1,1,1,2,2,3,2,3,1,1,1,3,2,3,2,0,2,2,2,0,3,2,1,3,4,1,2,1,1,1,1,1,3,2,3,2,3,2,1,3,0,2,1,1,1,2,0,3,2,2,1,3,0,1,0,0,3,2,2,2,1,3,1,1,2,2,2,3,1,2,1,1,2,1,1,3,1,1,1,0,1,1,1,2,2,1,0,3,0,1,2,0,0,3,1,1,0,2,2,1,0,2,1,1,1,0,1,1,1,1,2,2,1,2,0,3,2,0,1,1,2,1,2,1,3,0,1,0,0,1,0,1,2,0,1,1,1,1,0,1,1,1,0,1,2,0,2,1,1,2,1,1,2,1,1,1,2,2,1,2,0,0,1,1,3,1,1,1,2,1,1,1,1,0,2,2,1,1,2,1,1,2,2,3,1,0,2,0,1,1,2,1,0,1,2,2,2,1,1,0,3,0,2,1,2,0,0,3,1,2,0,2,2,1,0,1,2,0,1,2,1,2,1,4,1,3,1,1,1,1,1,1,0,0,2,2,2,3,2,2,1,1,2,1,0,1,0,3,2,1,1,2,0,3,2,0,1,3,3,1,0,1,1,1,2,1,2,2,1,1,2,2,1,0,1,1,1,1,2,3,1,1,1,1,0,0,1,0,2,4,2,1,3,1,2,2,1,2,0,1,2,2,1,2,1,2,2,3,0,1,1,1,1,1,0,0,1,1,2,1,1,2,1,2,2,3,0,2,1,1,1,1,1,1,0,1,1,2,3,2,0,1,1,3,2,0,1,3,2,1,1,3,1,0,1,0,1,0,2,0,2,1,2,1,0,2,1,1,1,1,2,3,1,0,3,2,2,1,2,1,0,2,1,1,2,1,0,1,1,0,0,1,1,1,1,1,2,1,3,1,2,0,2,1,1,1,3,1,3,1,0,1,0,1,0,3,1,1,1,3,1,1,1,1,1,2,2,1,4,2,1,2,1,3,0,3,0,1,1,1,3,1,2,1,2,4,0,1,1,2,0,1,0,0,1,1,0,0,0,1,1,1,1,0,0,2,2,1,0,1,0,2,1,1,2,1,1,2,2,2,0,3,1,1,1,0,2,1,1,2,1,0,1,3,1,2,2,0,0,1,1,1,1,1,2,3,1,1,2,2,0,1,1,4,1,2,0,1,0,1,1,0,1,1,2,2,1,1,1,2,1,2,1,1,1,1,0,1,1,2,1,1,1,1,0,2,1,1,0,1,1,2,2,1,1,3,3,0,0,2,0,2,1,1,1,1,0,0,2,0,3,3,1,3,2,1,1,1,1,0,1,1,0,1,0,2,0,1,2,1,1,0,1,1,2,0,1,1,1,3,1,1,0,0,1,1,2,2,3,2,1,1,1,1,1,1,0,1,1,4,1,1,1,3,1,0,3,0,1,1,1,1,0,2,2,2,1,4,1,1,2,0,1,0,2,0,2,1,1,0,0,0,1,0,0,2,0,1,0,0,1,2,1,1,2,0,1,0,0,0,1,0,1,1,1,2,1,1,1,2,1,0,2,2,0,1,2,0,2,0,1,1,1,0,3,1,1,1,1,2,0,1,1,2,2,2,0,1,2,4,1,1,0,0,1,1,0,0,1,2,1,0,1,0,2,0,1,0,1,0,3,1,2,1,1,1,2,0,1,1,0,1,2,0,1,1,0,0,1,1,0,1,1,1,0,2,0,2,2,0,0,2,0,3,1,3,1,1,1,0,1,0,1,0,1,1,3,0,1,2,1,1,0,0,2,1,0,1,1,2,2,2,1,2,4,1,1,1,2,0,0,2,1,2,1,1,2,1,1,1,0,2,0,1,2,1,1,3,2,1,1,1,0,1,0,1,0,0,1,0,2,1,0,1,2,1,1,1,0,2,2,0,1,2,0,0,1,1,0,1,0,0,0,1,2,0,1,1,2,1,0,1,1,0,0,2,1,1,1,0,2,2,1,0,0,1,1,3,0,2,1,1,1,1,1,2,1,0,1,0,1,1,1,1,1,3,0,2,0,2,0,0,1,1,0,2,1,2,1,2,2,2,1,0,0,1,1,2,1,1,0,0,1,1,2,1,1,1,0,2,1,2,2,0,0,0,1,0,2,0,1,2,0,0,1,0,0,0,0,0,1,1,2,2,0,1,2,1,0,3,2,2,2,2,1,0,1,2,2,0,0,1,1,0,0,1,1,0,1,0,1,0,2,0,1,1,1,1,0,2,1,1,1,2,2,1,1,0,1,1,0,2,1,0,2,0,3,1,0,3,2,2,1,1,2,1,2,0,2,1,0,0,0,1,1,2,1,2,0,0,1,0,0,0,2,2,1,1,1,0,1,2,2,2,1,1,1,0,3,1,1,1,0,0,1,1,1,2,1,0,1,1,0,0,0,0,2,1,2,3,0,3,0,0,0,1,1,1,2,3,2,1,2,2,1,0,1,2,1,1,1,0,0,2,0,1,1,0,0,1,2,1,0,1,4,0,2,0,0,2,2,2,1,0,1,1,2,2,3,1,4,1,1,1,1,2,1,2,1,3,2,1,1,3,3,2,2,2,3,1,1,1,3,3,0,0,1,1,2,0,1,0,2,2,1,1,0,2,1,2,1,0,0,0,1,0,1,1,1,2,0,1,0,0,2,2,2,1,1,2,2,1,0,1,3,1,0,3,0,1,3,1,2,2,3,1,1,2,0,1,3,0,3,2,1,4,2,0,0,1,1,0,0,2,2,1,2,1,0,1,1,0,1,0,1,1,1,0,1,2,1,0,1,3,1,1,3,1,1,1,2,2,1,1,0,4,1,1,2,2,1,0,0,3,3,2,1,0,2,0,1,1,1,3,1,0,3,1,2,3,0,3,2,2,1,2,0,1,2,1,1,2,0,1,1,3,0,3,2,0,3,1,1,2,2,3,0,3,2,0,1,3,0,1,1,2,0,1,0,1,1,2,3,1,1,2,2,1,1,1,1,2,2,1,2,0,1,2,1,2,1,1,2,1,2,0,0,1,3,1,3,0,1,3,0,3,1,0,2,0,1,3,3,1,2,1,0,1,1,0,0,1,1,3,3,3,0,0,1,1,3,2,0,2,0,2,2,2,1,2,1,2,3,0,2,0,0,0,2,0,2,4,3,0,0,0,2,1,1,1,0,2,2,1,0,3,1,1,1,1,2,1,0,2,2,1,2,1,1,1,0,0,1,1,0,2,1,2,2,3,0,0,1,3,4,1,3,1,2,1,0,0,1,1,2,1,2,0,2,2,0,1,1,1,2,0,4,1,3,2,1,0,1,2,1,0,1,2,2,2,2,2,2,1,0,2,2,2,2,1,1,0,3,0,2,1,0,3,3,2,0,0,1,3,1,1,0,0,2,1,0,2,0,1,2,1,2,2,2,1,2,0,0,2,1,2,1,2,1,2,2,1,2,1,0,0,3,1,2,2,1,1,1,1,2,1,1,0,2,1,2,0,1,0,0,1,1,1,1,2,1,2,1,1,1,1,0,0,1,1,1,0,3,2,1,1,0,2,1,1,3,0,0,1,2,0,2,1,1,1,1,1,2,1,2,1,0,2,2,2,1,0,1,1,0,2,0,1,1,1,3,2,2,0,1,0,2,0,0,3,2,1,1,1,0,4,0,1,0,2,1,1,0,1,0,2,1,1,2,1,3,1,0,1,1,1,0,3,0,1,2,1,1,0,2,2,2,1,1,2,1,1,2,2,1,2,2,0,0,1,1,0,0,0,0,1,1,3,2,1,1,1,1,2,0,0,3,2,0,1,2,1,1,0,1,0,2,1,1,2,0,1,2,1,2,1,1,1,2,0,1,2,4,1,1,2,2,2,0,1,0,1,2,3,1,1,1,0,1,3,2,1,1,1,3,1,3,1,2,1,1,2,1,1,0,1,2,2,1,3,2,4,0,0,1,1,1,3,2,2,1,1,2,0,2,1,1,1,3,1,1,2,1,0,1,2,1,1,1,1,0,2,4,1,3,2,1,1,1,0,2,0,2,0,1,1,0,0,3,0,2,1,2,1,1,1,1,0,1,2,3,1,1,1,1,1,2,1,1,1,2,0,2,1,2,1,1,0,1,0,1,1,4,1,3,1,1,1,1,1,0,1,2,2,1,1,0,1,1,1,1,1,3,4,3,2,1,2,1,3,1,4,0,1,2,0,1,1,0,2,0,3,1,2,3,0,2,1,2,0,0,0,2,1,0,0,1,1,1,1,2,1,1,1,2,1,1,2,2,2,2,0,1,0,1,2,0,0,2,2,0,1,1,0,0,2,0,2,1,0,1,2,1,1,1,1,1,1,2,1,2,1,2,1,1,1,1,2,1,0,0,0,2,1,1,1,2,3,0,1,2,1,2,0,2,1,1,2,2,2,0,1,2,1,3,1,2,1,2,2,3,3,1,1,4,2,0,1,1,2,1,1,2,1,4,1,0,1,1,0,0,1,0,4,1,1,2,1,0,1,0,2,2,1,1,1,3,0,3,2,2,1,1,2,4,1,1,0,0,0,2,0,0,0,2,2,2,1,1,1,0,1,0,3,2,1,3,1,1,0,4,1,1,1,4,1,1,2,1,3,0,0,1,2,0,1,2,1,0,1,0,4,1,1,1,2,1,0,3,1,0,1,1,2,3,2,2,1,2,0,2,1,1,1,2,1,1,1,2,1,1,1,1,0,0,2,1,1,2,2,2,2,3,1,1,2,0,2,1,1,2,2,2,1,0,2,3,2,1,0,3,1,1,0,1,2,1,3,1,0,1,1,3,1,3,1,2,2,3,1,2,2,1,0,1,0,1,2,2,1,0,1,1,1,0,1,2,1,3,1,2,3,2,1,2,3,1,3,5,1,1,0,1,1,0,1,1,2,0,2,1,1,3,1,1,1,1,2,1,1,1,2,1,2,3,1,1,2,0,1,1,3,2,1,2,1,2,2,0,3,2,3,2,1,1,1,1,2,1,1,0,1,0,1,1,1,2,2,2,1,2,0,0,1,2,2,2,0,2,3,0,1,2,1,1,2,2,0,0,1,2,2,1,2,1,0,1,1,3,0,2,1,1,1,1,1,2,1,2,0,1,1,1,1,2,1,0,1,1,1,4,0,1,2,2,1,2,1,1,2,1,1,0,3,1,1,1,0,1,0,0,3,3,0,0,3,2,2,0,1,0,3,1,2,1,1,2,2,2,0,1,3,1,1,0,0,2,2,1,0,1,0,0,3,3,1,2,0,0,1,1,0,1,0,1,0,1,0,1,0,1,1,3,1,0,1,1,0,1,2,0,0,0,1,0,1,1,3,1,2,1,3,1,1,3,1,2,1,1,3,0,0,1,1,2,1,2,1,1,2,1,0,1,1,1,2,1,1,1,0,2,3,0,1,1,2,1,1,2,1,1,1,1,2,4,1,1,2,2,1,1,1,1,1,0,0,2,1,1,1,1,2,0,1,1,0,1,1,2,2,3,0,1,1,1,1,0,1,1,0,1,3,0,1,2,1,1,1,1,1,0,1,1,1,1,1,1,1,2,1,0,1,0,1,1,1,1,0,1,1,0,1,1,2,2,1,1,2,1,0,1,1,0,1,2,1,1,1,1,2,2,2,1,2,2,1,1,2,1,1,3,1,2,1,1,3,1,1,2,1,4,1,1,0,2,1,3,2,2,2,1,2,1,1,1,0,0,3,1,1,1,1,1,1,0,1,1,3,1,1],\"xaxis\":\"x3\",\"yaxis\":\"y3\",\"type\":\"histogram\"}],                        {\"template\":{\"data\":{\"histogram2dcontour\":[{\"type\":\"histogram2dcontour\",\"colorbar\":{\"outlinewidth\":0,\"ticks\":\"\"},\"colorscale\":[[0.0,\"#0d0887\"],[0.1111111111111111,\"#46039f\"],[0.2222222222222222,\"#7201a8\"],[0.3333333333333333,\"#9c179e\"],[0.4444444444444444,\"#bd3786\"],[0.5555555555555556,\"#d8576b\"],[0.6666666666666666,\"#ed7953\"],[0.7777777777777778,\"#fb9f3a\"],[0.8888888888888888,\"#fdca26\"],[1.0,\"#f0f921\"]]}],\"choropleth\":[{\"type\":\"choropleth\",\"colorbar\":{\"outlinewidth\":0,\"ticks\":\"\"}}],\"histogram2d\":[{\"type\":\"histogram2d\",\"colorbar\":{\"outlinewidth\":0,\"ticks\":\"\"},\"colorscale\":[[0.0,\"#0d0887\"],[0.1111111111111111,\"#46039f\"],[0.2222222222222222,\"#7201a8\"],[0.3333333333333333,\"#9c179e\"],[0.4444444444444444,\"#bd3786\"],[0.5555555555555556,\"#d8576b\"],[0.6666666666666666,\"#ed7953\"],[0.7777777777777778,\"#fb9f3a\"],[0.8888888888888888,\"#fdca26\"],[1.0,\"#f0f921\"]]}],\"heatmap\":[{\"type\":\"heatmap\",\"colorbar\":{\"outlinewidth\":0,\"ticks\":\"\"},\"colorscale\":[[0.0,\"#0d0887\"],[0.1111111111111111,\"#46039f\"],[0.2222222222222222,\"#7201a8\"],[0.3333333333333333,\"#9c179e\"],[0.4444444444444444,\"#bd3786\"],[0.5555555555555556,\"#d8576b\"],[0.6666666666666666,\"#ed7953\"],[0.7777777777777778,\"#fb9f3a\"],[0.8888888888888888,\"#fdca26\"],[1.0,\"#f0f921\"]]}],\"heatmapgl\":[{\"type\":\"heatmapgl\",\"colorbar\":{\"outlinewidth\":0,\"ticks\":\"\"},\"colorscale\":[[0.0,\"#0d0887\"],[0.1111111111111111,\"#46039f\"],[0.2222222222222222,\"#7201a8\"],[0.3333333333333333,\"#9c179e\"],[0.4444444444444444,\"#bd3786\"],[0.5555555555555556,\"#d8576b\"],[0.6666666666666666,\"#ed7953\"],[0.7777777777777778,\"#fb9f3a\"],[0.8888888888888888,\"#fdca26\"],[1.0,\"#f0f921\"]]}],\"contourcarpet\":[{\"type\":\"contourcarpet\",\"colorbar\":{\"outlinewidth\":0,\"ticks\":\"\"}}],\"contour\":[{\"type\":\"contour\",\"colorbar\":{\"outlinewidth\":0,\"ticks\":\"\"},\"colorscale\":[[0.0,\"#0d0887\"],[0.1111111111111111,\"#46039f\"],[0.2222222222222222,\"#7201a8\"],[0.3333333333333333,\"#9c179e\"],[0.4444444444444444,\"#bd3786\"],[0.5555555555555556,\"#d8576b\"],[0.6666666666666666,\"#ed7953\"],[0.7777777777777778,\"#fb9f3a\"],[0.8888888888888888,\"#fdca26\"],[1.0,\"#f0f921\"]]}],\"surface\":[{\"type\":\"surface\",\"colorbar\":{\"outlinewidth\":0,\"ticks\":\"\"},\"colorscale\":[[0.0,\"#0d0887\"],[0.1111111111111111,\"#46039f\"],[0.2222222222222222,\"#7201a8\"],[0.3333333333333333,\"#9c179e\"],[0.4444444444444444,\"#bd3786\"],[0.5555555555555556,\"#d8576b\"],[0.6666666666666666,\"#ed7953\"],[0.7777777777777778,\"#fb9f3a\"],[0.8888888888888888,\"#fdca26\"],[1.0,\"#f0f921\"]]}],\"mesh3d\":[{\"type\":\"mesh3d\",\"colorbar\":{\"outlinewidth\":0,\"ticks\":\"\"}}],\"scatter\":[{\"fillpattern\":{\"fillmode\":\"overlay\",\"size\":10,\"solidity\":0.2},\"type\":\"scatter\"}],\"parcoords\":[{\"type\":\"parcoords\",\"line\":{\"colorbar\":{\"outlinewidth\":0,\"ticks\":\"\"}}}],\"scatterpolargl\":[{\"type\":\"scatterpolargl\",\"marker\":{\"colorbar\":{\"outlinewidth\":0,\"ticks\":\"\"}}}],\"bar\":[{\"error_x\":{\"color\":\"#2a3f5f\"},\"error_y\":{\"color\":\"#2a3f5f\"},\"marker\":{\"line\":{\"color\":\"#E5ECF6\",\"width\":0.5},\"pattern\":{\"fillmode\":\"overlay\",\"size\":10,\"solidity\":0.2}},\"type\":\"bar\"}],\"scattergeo\":[{\"type\":\"scattergeo\",\"marker\":{\"colorbar\":{\"outlinewidth\":0,\"ticks\":\"\"}}}],\"scatterpolar\":[{\"type\":\"scatterpolar\",\"marker\":{\"colorbar\":{\"outlinewidth\":0,\"ticks\":\"\"}}}],\"histogram\":[{\"marker\":{\"pattern\":{\"fillmode\":\"overlay\",\"size\":10,\"solidity\":0.2}},\"type\":\"histogram\"}],\"scattergl\":[{\"type\":\"scattergl\",\"marker\":{\"colorbar\":{\"outlinewidth\":0,\"ticks\":\"\"}}}],\"scatter3d\":[{\"type\":\"scatter3d\",\"line\":{\"colorbar\":{\"outlinewidth\":0,\"ticks\":\"\"}},\"marker\":{\"colorbar\":{\"outlinewidth\":0,\"ticks\":\"\"}}}],\"scattermapbox\":[{\"type\":\"scattermapbox\",\"marker\":{\"colorbar\":{\"outlinewidth\":0,\"ticks\":\"\"}}}],\"scatterternary\":[{\"type\":\"scatterternary\",\"marker\":{\"colorbar\":{\"outlinewidth\":0,\"ticks\":\"\"}}}],\"scattercarpet\":[{\"type\":\"scattercarpet\",\"marker\":{\"colorbar\":{\"outlinewidth\":0,\"ticks\":\"\"}}}],\"carpet\":[{\"aaxis\":{\"endlinecolor\":\"#2a3f5f\",\"gridcolor\":\"white\",\"linecolor\":\"white\",\"minorgridcolor\":\"white\",\"startlinecolor\":\"#2a3f5f\"},\"baxis\":{\"endlinecolor\":\"#2a3f5f\",\"gridcolor\":\"white\",\"linecolor\":\"white\",\"minorgridcolor\":\"white\",\"startlinecolor\":\"#2a3f5f\"},\"type\":\"carpet\"}],\"table\":[{\"cells\":{\"fill\":{\"color\":\"#EBF0F8\"},\"line\":{\"color\":\"white\"}},\"header\":{\"fill\":{\"color\":\"#C8D4E3\"},\"line\":{\"color\":\"white\"}},\"type\":\"table\"}],\"barpolar\":[{\"marker\":{\"line\":{\"color\":\"#E5ECF6\",\"width\":0.5},\"pattern\":{\"fillmode\":\"overlay\",\"size\":10,\"solidity\":0.2}},\"type\":\"barpolar\"}],\"pie\":[{\"automargin\":true,\"type\":\"pie\"}]},\"layout\":{\"autotypenumbers\":\"strict\",\"colorway\":[\"#636efa\",\"#EF553B\",\"#00cc96\",\"#ab63fa\",\"#FFA15A\",\"#19d3f3\",\"#FF6692\",\"#B6E880\",\"#FF97FF\",\"#FECB52\"],\"font\":{\"color\":\"#2a3f5f\"},\"hovermode\":\"closest\",\"hoverlabel\":{\"align\":\"left\"},\"paper_bgcolor\":\"white\",\"plot_bgcolor\":\"#E5ECF6\",\"polar\":{\"bgcolor\":\"#E5ECF6\",\"angularaxis\":{\"gridcolor\":\"white\",\"linecolor\":\"white\",\"ticks\":\"\"},\"radialaxis\":{\"gridcolor\":\"white\",\"linecolor\":\"white\",\"ticks\":\"\"}},\"ternary\":{\"bgcolor\":\"#E5ECF6\",\"aaxis\":{\"gridcolor\":\"white\",\"linecolor\":\"white\",\"ticks\":\"\"},\"baxis\":{\"gridcolor\":\"white\",\"linecolor\":\"white\",\"ticks\":\"\"},\"caxis\":{\"gridcolor\":\"white\",\"linecolor\":\"white\",\"ticks\":\"\"}},\"coloraxis\":{\"colorbar\":{\"outlinewidth\":0,\"ticks\":\"\"}},\"colorscale\":{\"sequential\":[[0.0,\"#0d0887\"],[0.1111111111111111,\"#46039f\"],[0.2222222222222222,\"#7201a8\"],[0.3333333333333333,\"#9c179e\"],[0.4444444444444444,\"#bd3786\"],[0.5555555555555556,\"#d8576b\"],[0.6666666666666666,\"#ed7953\"],[0.7777777777777778,\"#fb9f3a\"],[0.8888888888888888,\"#fdca26\"],[1.0,\"#f0f921\"]],\"sequentialminus\":[[0.0,\"#0d0887\"],[0.1111111111111111,\"#46039f\"],[0.2222222222222222,\"#7201a8\"],[0.3333333333333333,\"#9c179e\"],[0.4444444444444444,\"#bd3786\"],[0.5555555555555556,\"#d8576b\"],[0.6666666666666666,\"#ed7953\"],[0.7777777777777778,\"#fb9f3a\"],[0.8888888888888888,\"#fdca26\"],[1.0,\"#f0f921\"]],\"diverging\":[[0,\"#8e0152\"],[0.1,\"#c51b7d\"],[0.2,\"#de77ae\"],[0.3,\"#f1b6da\"],[0.4,\"#fde0ef\"],[0.5,\"#f7f7f7\"],[0.6,\"#e6f5d0\"],[0.7,\"#b8e186\"],[0.8,\"#7fbc41\"],[0.9,\"#4d9221\"],[1,\"#276419\"]]},\"xaxis\":{\"gridcolor\":\"white\",\"linecolor\":\"white\",\"ticks\":\"\",\"title\":{\"standoff\":15},\"zerolinecolor\":\"white\",\"automargin\":true,\"zerolinewidth\":2},\"yaxis\":{\"gridcolor\":\"white\",\"linecolor\":\"white\",\"ticks\":\"\",\"title\":{\"standoff\":15},\"zerolinecolor\":\"white\",\"automargin\":true,\"zerolinewidth\":2},\"scene\":{\"xaxis\":{\"backgroundcolor\":\"#E5ECF6\",\"gridcolor\":\"white\",\"linecolor\":\"white\",\"showbackground\":true,\"ticks\":\"\",\"zerolinecolor\":\"white\",\"gridwidth\":2},\"yaxis\":{\"backgroundcolor\":\"#E5ECF6\",\"gridcolor\":\"white\",\"linecolor\":\"white\",\"showbackground\":true,\"ticks\":\"\",\"zerolinecolor\":\"white\",\"gridwidth\":2},\"zaxis\":{\"backgroundcolor\":\"#E5ECF6\",\"gridcolor\":\"white\",\"linecolor\":\"white\",\"showbackground\":true,\"ticks\":\"\",\"zerolinecolor\":\"white\",\"gridwidth\":2}},\"shapedefaults\":{\"line\":{\"color\":\"#2a3f5f\"}},\"annotationdefaults\":{\"arrowcolor\":\"#2a3f5f\",\"arrowhead\":0,\"arrowwidth\":1},\"geo\":{\"bgcolor\":\"white\",\"landcolor\":\"#E5ECF6\",\"subunitcolor\":\"white\",\"showland\":true,\"showlakes\":true,\"lakecolor\":\"white\"},\"title\":{\"x\":0.05},\"mapbox\":{\"style\":\"light\"}}},\"xaxis\":{\"anchor\":\"y\",\"domain\":[0.0,0.31999999999999995],\"title\":{\"text\":\"Medicinas_tomadas\"}},\"yaxis\":{\"anchor\":\"x\",\"domain\":[0.0,1.0],\"title\":{\"text\":\"count\"}},\"xaxis2\":{\"anchor\":\"y2\",\"domain\":[0.33999999999999997,0.6599999999999999],\"matches\":\"x\",\"title\":{\"text\":\"Medicinas_tomadas\"}},\"yaxis2\":{\"anchor\":\"x2\",\"domain\":[0.0,1.0],\"matches\":\"y\",\"showticklabels\":false},\"xaxis3\":{\"anchor\":\"y3\",\"domain\":[0.6799999999999999,0.9999999999999999],\"matches\":\"x\",\"title\":{\"text\":\"Medicinas_tomadas\"}},\"yaxis3\":{\"anchor\":\"x3\",\"domain\":[0.0,1.0],\"matches\":\"y\",\"showticklabels\":false},\"annotations\":[{\"font\":{},\"showarrow\":false,\"text\":\"readmitted=\\u003e30\",\"x\":0.15999999999999998,\"xanchor\":\"center\",\"xref\":\"paper\",\"y\":1.0,\"yanchor\":\"bottom\",\"yref\":\"paper\"},{\"font\":{},\"showarrow\":false,\"text\":\"readmitted=\\u003c30\",\"x\":0.49999999999999994,\"xanchor\":\"center\",\"xref\":\"paper\",\"y\":1.0,\"yanchor\":\"bottom\",\"yref\":\"paper\"},{\"font\":{},\"showarrow\":false,\"text\":\"readmitted=NO\",\"x\":0.8399999999999999,\"xanchor\":\"center\",\"xref\":\"paper\",\"y\":1.0,\"yanchor\":\"bottom\",\"yref\":\"paper\"}],\"legend\":{\"tracegroupgap\":0},\"title\":{\"text\":\"Distribuci\\u00f3n del n\\u00famero de medicinas tomadas al tiempo\"},\"barmode\":\"relative\"},                        {\"responsive\": true}                    ).then(function(){\n",
              "                            \n",
              "var gd = document.getElementById('12c6406d-1223-44fb-b029-d6ca64a1cfbf');\n",
              "var x = new MutationObserver(function (mutations, observer) {{\n",
              "        var display = window.getComputedStyle(gd).display;\n",
              "        if (!display || display === 'none') {{\n",
              "            console.log([gd, 'removed!']);\n",
              "            Plotly.purge(gd);\n",
              "            observer.disconnect();\n",
              "        }}\n",
              "}});\n",
              "\n",
              "// Listen for the removal of the full notebook cells\n",
              "var notebookContainer = gd.closest('#notebook-container');\n",
              "if (notebookContainer) {{\n",
              "    x.observe(notebookContainer, {childList: true});\n",
              "}}\n",
              "\n",
              "// Listen for the clearing of the current output cell\n",
              "var outputEl = gd.closest('.output');\n",
              "if (outputEl) {{\n",
              "    x.observe(outputEl, {childList: true});\n",
              "}}\n",
              "\n",
              "                        })                };                            </script>        </div>\n",
              "</body>\n",
              "</html>"
            ]
          },
          "metadata": {}
        }
      ]
    },
    {
      "cell_type": "markdown",
      "source": [
        "En la segunda visita es casi la misma proporción de pacientes que no vuelven a ser readmitidos y pacientes que son readmitidos despues de los 30 días\n"
      ],
      "metadata": {
        "id": "Q4mXCoNeOxaO"
      }
    },
    {
      "cell_type": "markdown",
      "source": [
        "Para finalizar con este dataset vamos a ver los diagnosticos más comunes cuando fueron readmitidos y cuando no"
      ],
      "metadata": {
        "id": "aIteaHjNO-Og"
      }
    },
    {
      "cell_type": "code",
      "source": [
        "Hernandez['diag_1_range'] = Hernandez['diag_1'].apply(replace_diag)\n",
        "diag1_Hernandez_No = Hernandez[Hernandez['readmitted'] == 'NO']\n",
        "diag1_Hernandez_Yes = Hernandez[Hernandez['readmitted'] != 'NO']\n",
        "\n",
        "diag1_freq_Hernandez_No = diag1_Hernandez_No['diag_1_range'].value_counts().reset_index()\n",
        "diag1_freq_Hernandez_No.columns = ['diag_1_range', 'Frecuencia']\n",
        "\n",
        "diag1_freq_Hernandez_Yes = diag1_Hernandez_Yes['diag_1_range'].value_counts().reset_index()\n",
        "diag1_freq_Hernandez_Yes.columns = ['diag_1_range', 'Frecuencia']\n",
        "\n",
        "fig = px.bar(diag1_freq_Hernandez_No, x='diag_1_range', y='Frecuencia', title='diag_1', hover_data= 'Frecuencia')\n",
        "fig.show()"
      ],
      "metadata": {
        "id": "AnX8MpcZkJUG",
        "colab": {
          "base_uri": "https://localhost:8080/",
          "height": 542
        },
        "outputId": "cadf67df-c9e8-44c7-aa2e-63cb26165b8a"
      },
      "execution_count": 137,
      "outputs": [
        {
          "output_type": "display_data",
          "data": {
            "text/html": [
              "<html>\n",
              "<head><meta charset=\"utf-8\" /></head>\n",
              "<body>\n",
              "    <div>            <script src=\"https://cdnjs.cloudflare.com/ajax/libs/mathjax/2.7.5/MathJax.js?config=TeX-AMS-MML_SVG\"></script><script type=\"text/javascript\">if (window.MathJax && window.MathJax.Hub && window.MathJax.Hub.Config) {window.MathJax.Hub.Config({SVG: {font: \"STIX-Web\"}});}</script>                <script type=\"text/javascript\">window.PlotlyConfig = {MathJaxConfig: 'local'};</script>\n",
              "        <script charset=\"utf-8\" src=\"https://cdn.plot.ly/plotly-2.35.2.min.js\"></script>                <div id=\"c54886f6-d525-4e38-869f-ad972fb6d713\" class=\"plotly-graph-div\" style=\"height:525px; width:100%;\"></div>            <script type=\"text/javascript\">                                    window.PLOTLYENV=window.PLOTLYENV || {};                                    if (document.getElementById(\"c54886f6-d525-4e38-869f-ad972fb6d713\")) {                    Plotly.newPlot(                        \"c54886f6-d525-4e38-869f-ad972fb6d713\",                        [{\"alignmentgroup\":\"True\",\"hovertemplate\":\"diag_1_range=%{x}\\u003cbr\\u003eFrecuencia=%{y}\\u003cextra\\u003e\\u003c\\u002fextra\\u003e\",\"legendgroup\":\"\",\"marker\":{\"color\":\"#636efa\",\"pattern\":{\"shape\":\"\"}},\"name\":\"\",\"offsetgroup\":\"\",\"orientation\":\"v\",\"showlegend\":false,\"textposition\":\"auto\",\"x\":[\"Diseases of the circulatory system\",\"Endocrine, nutritional and metabolic diseases, and immunity disorders\",\"Diseases of the respiratory system\",\"Diseases of the digestive system\",\"Injury and poisoning\",\"Symptoms, signs, and ill-defined conditions\",\"Diseases of the genitourinary system\",\"Diseases of the musculoskeletal system and connective tissue\",\"Neoplasms\",\"Infectious and parasitic diseases\",\"Supplementary Classification of Factors Influencing Health Status and Contact with Health Services\",\"Mental disorders\",\"Diseases of the skin and subcutaneous tissue\",\"Diseases of the blood and blood-forming organs\",\"Diseases of the nervous system and sense organs\",\"Complications of pregnancy, childbirth, and the puerperium\",\"none\",\"Congenital anomalies\"],\"xaxis\":\"x\",\"y\":[3154,1242,1235,1032,929,838,640,377,326,323,307,265,259,160,122,62,5,3],\"yaxis\":\"y\",\"type\":\"bar\"}],                        {\"template\":{\"data\":{\"histogram2dcontour\":[{\"type\":\"histogram2dcontour\",\"colorbar\":{\"outlinewidth\":0,\"ticks\":\"\"},\"colorscale\":[[0.0,\"#0d0887\"],[0.1111111111111111,\"#46039f\"],[0.2222222222222222,\"#7201a8\"],[0.3333333333333333,\"#9c179e\"],[0.4444444444444444,\"#bd3786\"],[0.5555555555555556,\"#d8576b\"],[0.6666666666666666,\"#ed7953\"],[0.7777777777777778,\"#fb9f3a\"],[0.8888888888888888,\"#fdca26\"],[1.0,\"#f0f921\"]]}],\"choropleth\":[{\"type\":\"choropleth\",\"colorbar\":{\"outlinewidth\":0,\"ticks\":\"\"}}],\"histogram2d\":[{\"type\":\"histogram2d\",\"colorbar\":{\"outlinewidth\":0,\"ticks\":\"\"},\"colorscale\":[[0.0,\"#0d0887\"],[0.1111111111111111,\"#46039f\"],[0.2222222222222222,\"#7201a8\"],[0.3333333333333333,\"#9c179e\"],[0.4444444444444444,\"#bd3786\"],[0.5555555555555556,\"#d8576b\"],[0.6666666666666666,\"#ed7953\"],[0.7777777777777778,\"#fb9f3a\"],[0.8888888888888888,\"#fdca26\"],[1.0,\"#f0f921\"]]}],\"heatmap\":[{\"type\":\"heatmap\",\"colorbar\":{\"outlinewidth\":0,\"ticks\":\"\"},\"colorscale\":[[0.0,\"#0d0887\"],[0.1111111111111111,\"#46039f\"],[0.2222222222222222,\"#7201a8\"],[0.3333333333333333,\"#9c179e\"],[0.4444444444444444,\"#bd3786\"],[0.5555555555555556,\"#d8576b\"],[0.6666666666666666,\"#ed7953\"],[0.7777777777777778,\"#fb9f3a\"],[0.8888888888888888,\"#fdca26\"],[1.0,\"#f0f921\"]]}],\"heatmapgl\":[{\"type\":\"heatmapgl\",\"colorbar\":{\"outlinewidth\":0,\"ticks\":\"\"},\"colorscale\":[[0.0,\"#0d0887\"],[0.1111111111111111,\"#46039f\"],[0.2222222222222222,\"#7201a8\"],[0.3333333333333333,\"#9c179e\"],[0.4444444444444444,\"#bd3786\"],[0.5555555555555556,\"#d8576b\"],[0.6666666666666666,\"#ed7953\"],[0.7777777777777778,\"#fb9f3a\"],[0.8888888888888888,\"#fdca26\"],[1.0,\"#f0f921\"]]}],\"contourcarpet\":[{\"type\":\"contourcarpet\",\"colorbar\":{\"outlinewidth\":0,\"ticks\":\"\"}}],\"contour\":[{\"type\":\"contour\",\"colorbar\":{\"outlinewidth\":0,\"ticks\":\"\"},\"colorscale\":[[0.0,\"#0d0887\"],[0.1111111111111111,\"#46039f\"],[0.2222222222222222,\"#7201a8\"],[0.3333333333333333,\"#9c179e\"],[0.4444444444444444,\"#bd3786\"],[0.5555555555555556,\"#d8576b\"],[0.6666666666666666,\"#ed7953\"],[0.7777777777777778,\"#fb9f3a\"],[0.8888888888888888,\"#fdca26\"],[1.0,\"#f0f921\"]]}],\"surface\":[{\"type\":\"surface\",\"colorbar\":{\"outlinewidth\":0,\"ticks\":\"\"},\"colorscale\":[[0.0,\"#0d0887\"],[0.1111111111111111,\"#46039f\"],[0.2222222222222222,\"#7201a8\"],[0.3333333333333333,\"#9c179e\"],[0.4444444444444444,\"#bd3786\"],[0.5555555555555556,\"#d8576b\"],[0.6666666666666666,\"#ed7953\"],[0.7777777777777778,\"#fb9f3a\"],[0.8888888888888888,\"#fdca26\"],[1.0,\"#f0f921\"]]}],\"mesh3d\":[{\"type\":\"mesh3d\",\"colorbar\":{\"outlinewidth\":0,\"ticks\":\"\"}}],\"scatter\":[{\"fillpattern\":{\"fillmode\":\"overlay\",\"size\":10,\"solidity\":0.2},\"type\":\"scatter\"}],\"parcoords\":[{\"type\":\"parcoords\",\"line\":{\"colorbar\":{\"outlinewidth\":0,\"ticks\":\"\"}}}],\"scatterpolargl\":[{\"type\":\"scatterpolargl\",\"marker\":{\"colorbar\":{\"outlinewidth\":0,\"ticks\":\"\"}}}],\"bar\":[{\"error_x\":{\"color\":\"#2a3f5f\"},\"error_y\":{\"color\":\"#2a3f5f\"},\"marker\":{\"line\":{\"color\":\"#E5ECF6\",\"width\":0.5},\"pattern\":{\"fillmode\":\"overlay\",\"size\":10,\"solidity\":0.2}},\"type\":\"bar\"}],\"scattergeo\":[{\"type\":\"scattergeo\",\"marker\":{\"colorbar\":{\"outlinewidth\":0,\"ticks\":\"\"}}}],\"scatterpolar\":[{\"type\":\"scatterpolar\",\"marker\":{\"colorbar\":{\"outlinewidth\":0,\"ticks\":\"\"}}}],\"histogram\":[{\"marker\":{\"pattern\":{\"fillmode\":\"overlay\",\"size\":10,\"solidity\":0.2}},\"type\":\"histogram\"}],\"scattergl\":[{\"type\":\"scattergl\",\"marker\":{\"colorbar\":{\"outlinewidth\":0,\"ticks\":\"\"}}}],\"scatter3d\":[{\"type\":\"scatter3d\",\"line\":{\"colorbar\":{\"outlinewidth\":0,\"ticks\":\"\"}},\"marker\":{\"colorbar\":{\"outlinewidth\":0,\"ticks\":\"\"}}}],\"scattermapbox\":[{\"type\":\"scattermapbox\",\"marker\":{\"colorbar\":{\"outlinewidth\":0,\"ticks\":\"\"}}}],\"scatterternary\":[{\"type\":\"scatterternary\",\"marker\":{\"colorbar\":{\"outlinewidth\":0,\"ticks\":\"\"}}}],\"scattercarpet\":[{\"type\":\"scattercarpet\",\"marker\":{\"colorbar\":{\"outlinewidth\":0,\"ticks\":\"\"}}}],\"carpet\":[{\"aaxis\":{\"endlinecolor\":\"#2a3f5f\",\"gridcolor\":\"white\",\"linecolor\":\"white\",\"minorgridcolor\":\"white\",\"startlinecolor\":\"#2a3f5f\"},\"baxis\":{\"endlinecolor\":\"#2a3f5f\",\"gridcolor\":\"white\",\"linecolor\":\"white\",\"minorgridcolor\":\"white\",\"startlinecolor\":\"#2a3f5f\"},\"type\":\"carpet\"}],\"table\":[{\"cells\":{\"fill\":{\"color\":\"#EBF0F8\"},\"line\":{\"color\":\"white\"}},\"header\":{\"fill\":{\"color\":\"#C8D4E3\"},\"line\":{\"color\":\"white\"}},\"type\":\"table\"}],\"barpolar\":[{\"marker\":{\"line\":{\"color\":\"#E5ECF6\",\"width\":0.5},\"pattern\":{\"fillmode\":\"overlay\",\"size\":10,\"solidity\":0.2}},\"type\":\"barpolar\"}],\"pie\":[{\"automargin\":true,\"type\":\"pie\"}]},\"layout\":{\"autotypenumbers\":\"strict\",\"colorway\":[\"#636efa\",\"#EF553B\",\"#00cc96\",\"#ab63fa\",\"#FFA15A\",\"#19d3f3\",\"#FF6692\",\"#B6E880\",\"#FF97FF\",\"#FECB52\"],\"font\":{\"color\":\"#2a3f5f\"},\"hovermode\":\"closest\",\"hoverlabel\":{\"align\":\"left\"},\"paper_bgcolor\":\"white\",\"plot_bgcolor\":\"#E5ECF6\",\"polar\":{\"bgcolor\":\"#E5ECF6\",\"angularaxis\":{\"gridcolor\":\"white\",\"linecolor\":\"white\",\"ticks\":\"\"},\"radialaxis\":{\"gridcolor\":\"white\",\"linecolor\":\"white\",\"ticks\":\"\"}},\"ternary\":{\"bgcolor\":\"#E5ECF6\",\"aaxis\":{\"gridcolor\":\"white\",\"linecolor\":\"white\",\"ticks\":\"\"},\"baxis\":{\"gridcolor\":\"white\",\"linecolor\":\"white\",\"ticks\":\"\"},\"caxis\":{\"gridcolor\":\"white\",\"linecolor\":\"white\",\"ticks\":\"\"}},\"coloraxis\":{\"colorbar\":{\"outlinewidth\":0,\"ticks\":\"\"}},\"colorscale\":{\"sequential\":[[0.0,\"#0d0887\"],[0.1111111111111111,\"#46039f\"],[0.2222222222222222,\"#7201a8\"],[0.3333333333333333,\"#9c179e\"],[0.4444444444444444,\"#bd3786\"],[0.5555555555555556,\"#d8576b\"],[0.6666666666666666,\"#ed7953\"],[0.7777777777777778,\"#fb9f3a\"],[0.8888888888888888,\"#fdca26\"],[1.0,\"#f0f921\"]],\"sequentialminus\":[[0.0,\"#0d0887\"],[0.1111111111111111,\"#46039f\"],[0.2222222222222222,\"#7201a8\"],[0.3333333333333333,\"#9c179e\"],[0.4444444444444444,\"#bd3786\"],[0.5555555555555556,\"#d8576b\"],[0.6666666666666666,\"#ed7953\"],[0.7777777777777778,\"#fb9f3a\"],[0.8888888888888888,\"#fdca26\"],[1.0,\"#f0f921\"]],\"diverging\":[[0,\"#8e0152\"],[0.1,\"#c51b7d\"],[0.2,\"#de77ae\"],[0.3,\"#f1b6da\"],[0.4,\"#fde0ef\"],[0.5,\"#f7f7f7\"],[0.6,\"#e6f5d0\"],[0.7,\"#b8e186\"],[0.8,\"#7fbc41\"],[0.9,\"#4d9221\"],[1,\"#276419\"]]},\"xaxis\":{\"gridcolor\":\"white\",\"linecolor\":\"white\",\"ticks\":\"\",\"title\":{\"standoff\":15},\"zerolinecolor\":\"white\",\"automargin\":true,\"zerolinewidth\":2},\"yaxis\":{\"gridcolor\":\"white\",\"linecolor\":\"white\",\"ticks\":\"\",\"title\":{\"standoff\":15},\"zerolinecolor\":\"white\",\"automargin\":true,\"zerolinewidth\":2},\"scene\":{\"xaxis\":{\"backgroundcolor\":\"#E5ECF6\",\"gridcolor\":\"white\",\"linecolor\":\"white\",\"showbackground\":true,\"ticks\":\"\",\"zerolinecolor\":\"white\",\"gridwidth\":2},\"yaxis\":{\"backgroundcolor\":\"#E5ECF6\",\"gridcolor\":\"white\",\"linecolor\":\"white\",\"showbackground\":true,\"ticks\":\"\",\"zerolinecolor\":\"white\",\"gridwidth\":2},\"zaxis\":{\"backgroundcolor\":\"#E5ECF6\",\"gridcolor\":\"white\",\"linecolor\":\"white\",\"showbackground\":true,\"ticks\":\"\",\"zerolinecolor\":\"white\",\"gridwidth\":2}},\"shapedefaults\":{\"line\":{\"color\":\"#2a3f5f\"}},\"annotationdefaults\":{\"arrowcolor\":\"#2a3f5f\",\"arrowhead\":0,\"arrowwidth\":1},\"geo\":{\"bgcolor\":\"white\",\"landcolor\":\"#E5ECF6\",\"subunitcolor\":\"white\",\"showland\":true,\"showlakes\":true,\"lakecolor\":\"white\"},\"title\":{\"x\":0.05},\"mapbox\":{\"style\":\"light\"}}},\"xaxis\":{\"anchor\":\"y\",\"domain\":[0.0,1.0],\"title\":{\"text\":\"diag_1_range\"}},\"yaxis\":{\"anchor\":\"x\",\"domain\":[0.0,1.0],\"title\":{\"text\":\"Frecuencia\"}},\"legend\":{\"tracegroupgap\":0},\"title\":{\"text\":\"diag_1\"},\"barmode\":\"relative\"},                        {\"responsive\": true}                    ).then(function(){\n",
              "                            \n",
              "var gd = document.getElementById('c54886f6-d525-4e38-869f-ad972fb6d713');\n",
              "var x = new MutationObserver(function (mutations, observer) {{\n",
              "        var display = window.getComputedStyle(gd).display;\n",
              "        if (!display || display === 'none') {{\n",
              "            console.log([gd, 'removed!']);\n",
              "            Plotly.purge(gd);\n",
              "            observer.disconnect();\n",
              "        }}\n",
              "}});\n",
              "\n",
              "// Listen for the removal of the full notebook cells\n",
              "var notebookContainer = gd.closest('#notebook-container');\n",
              "if (notebookContainer) {{\n",
              "    x.observe(notebookContainer, {childList: true});\n",
              "}}\n",
              "\n",
              "// Listen for the clearing of the current output cell\n",
              "var outputEl = gd.closest('.output');\n",
              "if (outputEl) {{\n",
              "    x.observe(outputEl, {childList: true});\n",
              "}}\n",
              "\n",
              "                        })                };                            </script>        </div>\n",
              "</body>\n",
              "</html>"
            ]
          },
          "metadata": {}
        }
      ]
    },
    {
      "cell_type": "code",
      "source": [
        "fig = px.bar(diag1_freq_Hernandez_Yes, x='diag_1_range', y='Frecuencia', title='diag_1', hover_data= 'Frecuencia')\n",
        "fig.show()"
      ],
      "metadata": {
        "id": "hHd-yv8IkJad",
        "colab": {
          "base_uri": "https://localhost:8080/",
          "height": 542
        },
        "outputId": "04292d0d-7983-4f1f-cc6f-2f8e912f679c"
      },
      "execution_count": 138,
      "outputs": [
        {
          "output_type": "display_data",
          "data": {
            "text/html": [
              "<html>\n",
              "<head><meta charset=\"utf-8\" /></head>\n",
              "<body>\n",
              "    <div>            <script src=\"https://cdnjs.cloudflare.com/ajax/libs/mathjax/2.7.5/MathJax.js?config=TeX-AMS-MML_SVG\"></script><script type=\"text/javascript\">if (window.MathJax && window.MathJax.Hub && window.MathJax.Hub.Config) {window.MathJax.Hub.Config({SVG: {font: \"STIX-Web\"}});}</script>                <script type=\"text/javascript\">window.PlotlyConfig = {MathJaxConfig: 'local'};</script>\n",
              "        <script charset=\"utf-8\" src=\"https://cdn.plot.ly/plotly-2.35.2.min.js\"></script>                <div id=\"4bb0e651-eb3e-4fb1-bbc0-65d2a445be25\" class=\"plotly-graph-div\" style=\"height:525px; width:100%;\"></div>            <script type=\"text/javascript\">                                    window.PLOTLYENV=window.PLOTLYENV || {};                                    if (document.getElementById(\"4bb0e651-eb3e-4fb1-bbc0-65d2a445be25\")) {                    Plotly.newPlot(                        \"4bb0e651-eb3e-4fb1-bbc0-65d2a445be25\",                        [{\"alignmentgroup\":\"True\",\"hovertemplate\":\"diag_1_range=%{x}\\u003cbr\\u003eFrecuencia=%{y}\\u003cextra\\u003e\\u003c\\u002fextra\\u003e\",\"legendgroup\":\"\",\"marker\":{\"color\":\"#636efa\",\"pattern\":{\"shape\":\"\"}},\"name\":\"\",\"offsetgroup\":\"\",\"orientation\":\"v\",\"showlegend\":false,\"textposition\":\"auto\",\"x\":[\"Diseases of the circulatory system\",\"Endocrine, nutritional and metabolic diseases, and immunity disorders\",\"Diseases of the respiratory system\",\"Diseases of the digestive system\",\"Symptoms, signs, and ill-defined conditions\",\"Injury and poisoning\",\"Diseases of the genitourinary system\",\"Diseases of the musculoskeletal system and connective tissue\",\"Infectious and parasitic diseases\",\"Diseases of the skin and subcutaneous tissue\",\"Mental disorders\",\"Neoplasms\",\"Supplementary Classification of Factors Influencing Health Status and Contact with Health Services\",\"Diseases of the blood and blood-forming organs\",\"Diseases of the nervous system and sense organs\",\"Complications of pregnancy, childbirth, and the puerperium\",\"Congenital anomalies\",\"none\"],\"xaxis\":\"x\",\"y\":[10234,4383,3999,3145,2465,2244,1676,1208,964,918,789,751,557,459,374,110,13,6],\"yaxis\":\"y\",\"type\":\"bar\"}],                        {\"template\":{\"data\":{\"histogram2dcontour\":[{\"type\":\"histogram2dcontour\",\"colorbar\":{\"outlinewidth\":0,\"ticks\":\"\"},\"colorscale\":[[0.0,\"#0d0887\"],[0.1111111111111111,\"#46039f\"],[0.2222222222222222,\"#7201a8\"],[0.3333333333333333,\"#9c179e\"],[0.4444444444444444,\"#bd3786\"],[0.5555555555555556,\"#d8576b\"],[0.6666666666666666,\"#ed7953\"],[0.7777777777777778,\"#fb9f3a\"],[0.8888888888888888,\"#fdca26\"],[1.0,\"#f0f921\"]]}],\"choropleth\":[{\"type\":\"choropleth\",\"colorbar\":{\"outlinewidth\":0,\"ticks\":\"\"}}],\"histogram2d\":[{\"type\":\"histogram2d\",\"colorbar\":{\"outlinewidth\":0,\"ticks\":\"\"},\"colorscale\":[[0.0,\"#0d0887\"],[0.1111111111111111,\"#46039f\"],[0.2222222222222222,\"#7201a8\"],[0.3333333333333333,\"#9c179e\"],[0.4444444444444444,\"#bd3786\"],[0.5555555555555556,\"#d8576b\"],[0.6666666666666666,\"#ed7953\"],[0.7777777777777778,\"#fb9f3a\"],[0.8888888888888888,\"#fdca26\"],[1.0,\"#f0f921\"]]}],\"heatmap\":[{\"type\":\"heatmap\",\"colorbar\":{\"outlinewidth\":0,\"ticks\":\"\"},\"colorscale\":[[0.0,\"#0d0887\"],[0.1111111111111111,\"#46039f\"],[0.2222222222222222,\"#7201a8\"],[0.3333333333333333,\"#9c179e\"],[0.4444444444444444,\"#bd3786\"],[0.5555555555555556,\"#d8576b\"],[0.6666666666666666,\"#ed7953\"],[0.7777777777777778,\"#fb9f3a\"],[0.8888888888888888,\"#fdca26\"],[1.0,\"#f0f921\"]]}],\"heatmapgl\":[{\"type\":\"heatmapgl\",\"colorbar\":{\"outlinewidth\":0,\"ticks\":\"\"},\"colorscale\":[[0.0,\"#0d0887\"],[0.1111111111111111,\"#46039f\"],[0.2222222222222222,\"#7201a8\"],[0.3333333333333333,\"#9c179e\"],[0.4444444444444444,\"#bd3786\"],[0.5555555555555556,\"#d8576b\"],[0.6666666666666666,\"#ed7953\"],[0.7777777777777778,\"#fb9f3a\"],[0.8888888888888888,\"#fdca26\"],[1.0,\"#f0f921\"]]}],\"contourcarpet\":[{\"type\":\"contourcarpet\",\"colorbar\":{\"outlinewidth\":0,\"ticks\":\"\"}}],\"contour\":[{\"type\":\"contour\",\"colorbar\":{\"outlinewidth\":0,\"ticks\":\"\"},\"colorscale\":[[0.0,\"#0d0887\"],[0.1111111111111111,\"#46039f\"],[0.2222222222222222,\"#7201a8\"],[0.3333333333333333,\"#9c179e\"],[0.4444444444444444,\"#bd3786\"],[0.5555555555555556,\"#d8576b\"],[0.6666666666666666,\"#ed7953\"],[0.7777777777777778,\"#fb9f3a\"],[0.8888888888888888,\"#fdca26\"],[1.0,\"#f0f921\"]]}],\"surface\":[{\"type\":\"surface\",\"colorbar\":{\"outlinewidth\":0,\"ticks\":\"\"},\"colorscale\":[[0.0,\"#0d0887\"],[0.1111111111111111,\"#46039f\"],[0.2222222222222222,\"#7201a8\"],[0.3333333333333333,\"#9c179e\"],[0.4444444444444444,\"#bd3786\"],[0.5555555555555556,\"#d8576b\"],[0.6666666666666666,\"#ed7953\"],[0.7777777777777778,\"#fb9f3a\"],[0.8888888888888888,\"#fdca26\"],[1.0,\"#f0f921\"]]}],\"mesh3d\":[{\"type\":\"mesh3d\",\"colorbar\":{\"outlinewidth\":0,\"ticks\":\"\"}}],\"scatter\":[{\"fillpattern\":{\"fillmode\":\"overlay\",\"size\":10,\"solidity\":0.2},\"type\":\"scatter\"}],\"parcoords\":[{\"type\":\"parcoords\",\"line\":{\"colorbar\":{\"outlinewidth\":0,\"ticks\":\"\"}}}],\"scatterpolargl\":[{\"type\":\"scatterpolargl\",\"marker\":{\"colorbar\":{\"outlinewidth\":0,\"ticks\":\"\"}}}],\"bar\":[{\"error_x\":{\"color\":\"#2a3f5f\"},\"error_y\":{\"color\":\"#2a3f5f\"},\"marker\":{\"line\":{\"color\":\"#E5ECF6\",\"width\":0.5},\"pattern\":{\"fillmode\":\"overlay\",\"size\":10,\"solidity\":0.2}},\"type\":\"bar\"}],\"scattergeo\":[{\"type\":\"scattergeo\",\"marker\":{\"colorbar\":{\"outlinewidth\":0,\"ticks\":\"\"}}}],\"scatterpolar\":[{\"type\":\"scatterpolar\",\"marker\":{\"colorbar\":{\"outlinewidth\":0,\"ticks\":\"\"}}}],\"histogram\":[{\"marker\":{\"pattern\":{\"fillmode\":\"overlay\",\"size\":10,\"solidity\":0.2}},\"type\":\"histogram\"}],\"scattergl\":[{\"type\":\"scattergl\",\"marker\":{\"colorbar\":{\"outlinewidth\":0,\"ticks\":\"\"}}}],\"scatter3d\":[{\"type\":\"scatter3d\",\"line\":{\"colorbar\":{\"outlinewidth\":0,\"ticks\":\"\"}},\"marker\":{\"colorbar\":{\"outlinewidth\":0,\"ticks\":\"\"}}}],\"scattermapbox\":[{\"type\":\"scattermapbox\",\"marker\":{\"colorbar\":{\"outlinewidth\":0,\"ticks\":\"\"}}}],\"scatterternary\":[{\"type\":\"scatterternary\",\"marker\":{\"colorbar\":{\"outlinewidth\":0,\"ticks\":\"\"}}}],\"scattercarpet\":[{\"type\":\"scattercarpet\",\"marker\":{\"colorbar\":{\"outlinewidth\":0,\"ticks\":\"\"}}}],\"carpet\":[{\"aaxis\":{\"endlinecolor\":\"#2a3f5f\",\"gridcolor\":\"white\",\"linecolor\":\"white\",\"minorgridcolor\":\"white\",\"startlinecolor\":\"#2a3f5f\"},\"baxis\":{\"endlinecolor\":\"#2a3f5f\",\"gridcolor\":\"white\",\"linecolor\":\"white\",\"minorgridcolor\":\"white\",\"startlinecolor\":\"#2a3f5f\"},\"type\":\"carpet\"}],\"table\":[{\"cells\":{\"fill\":{\"color\":\"#EBF0F8\"},\"line\":{\"color\":\"white\"}},\"header\":{\"fill\":{\"color\":\"#C8D4E3\"},\"line\":{\"color\":\"white\"}},\"type\":\"table\"}],\"barpolar\":[{\"marker\":{\"line\":{\"color\":\"#E5ECF6\",\"width\":0.5},\"pattern\":{\"fillmode\":\"overlay\",\"size\":10,\"solidity\":0.2}},\"type\":\"barpolar\"}],\"pie\":[{\"automargin\":true,\"type\":\"pie\"}]},\"layout\":{\"autotypenumbers\":\"strict\",\"colorway\":[\"#636efa\",\"#EF553B\",\"#00cc96\",\"#ab63fa\",\"#FFA15A\",\"#19d3f3\",\"#FF6692\",\"#B6E880\",\"#FF97FF\",\"#FECB52\"],\"font\":{\"color\":\"#2a3f5f\"},\"hovermode\":\"closest\",\"hoverlabel\":{\"align\":\"left\"},\"paper_bgcolor\":\"white\",\"plot_bgcolor\":\"#E5ECF6\",\"polar\":{\"bgcolor\":\"#E5ECF6\",\"angularaxis\":{\"gridcolor\":\"white\",\"linecolor\":\"white\",\"ticks\":\"\"},\"radialaxis\":{\"gridcolor\":\"white\",\"linecolor\":\"white\",\"ticks\":\"\"}},\"ternary\":{\"bgcolor\":\"#E5ECF6\",\"aaxis\":{\"gridcolor\":\"white\",\"linecolor\":\"white\",\"ticks\":\"\"},\"baxis\":{\"gridcolor\":\"white\",\"linecolor\":\"white\",\"ticks\":\"\"},\"caxis\":{\"gridcolor\":\"white\",\"linecolor\":\"white\",\"ticks\":\"\"}},\"coloraxis\":{\"colorbar\":{\"outlinewidth\":0,\"ticks\":\"\"}},\"colorscale\":{\"sequential\":[[0.0,\"#0d0887\"],[0.1111111111111111,\"#46039f\"],[0.2222222222222222,\"#7201a8\"],[0.3333333333333333,\"#9c179e\"],[0.4444444444444444,\"#bd3786\"],[0.5555555555555556,\"#d8576b\"],[0.6666666666666666,\"#ed7953\"],[0.7777777777777778,\"#fb9f3a\"],[0.8888888888888888,\"#fdca26\"],[1.0,\"#f0f921\"]],\"sequentialminus\":[[0.0,\"#0d0887\"],[0.1111111111111111,\"#46039f\"],[0.2222222222222222,\"#7201a8\"],[0.3333333333333333,\"#9c179e\"],[0.4444444444444444,\"#bd3786\"],[0.5555555555555556,\"#d8576b\"],[0.6666666666666666,\"#ed7953\"],[0.7777777777777778,\"#fb9f3a\"],[0.8888888888888888,\"#fdca26\"],[1.0,\"#f0f921\"]],\"diverging\":[[0,\"#8e0152\"],[0.1,\"#c51b7d\"],[0.2,\"#de77ae\"],[0.3,\"#f1b6da\"],[0.4,\"#fde0ef\"],[0.5,\"#f7f7f7\"],[0.6,\"#e6f5d0\"],[0.7,\"#b8e186\"],[0.8,\"#7fbc41\"],[0.9,\"#4d9221\"],[1,\"#276419\"]]},\"xaxis\":{\"gridcolor\":\"white\",\"linecolor\":\"white\",\"ticks\":\"\",\"title\":{\"standoff\":15},\"zerolinecolor\":\"white\",\"automargin\":true,\"zerolinewidth\":2},\"yaxis\":{\"gridcolor\":\"white\",\"linecolor\":\"white\",\"ticks\":\"\",\"title\":{\"standoff\":15},\"zerolinecolor\":\"white\",\"automargin\":true,\"zerolinewidth\":2},\"scene\":{\"xaxis\":{\"backgroundcolor\":\"#E5ECF6\",\"gridcolor\":\"white\",\"linecolor\":\"white\",\"showbackground\":true,\"ticks\":\"\",\"zerolinecolor\":\"white\",\"gridwidth\":2},\"yaxis\":{\"backgroundcolor\":\"#E5ECF6\",\"gridcolor\":\"white\",\"linecolor\":\"white\",\"showbackground\":true,\"ticks\":\"\",\"zerolinecolor\":\"white\",\"gridwidth\":2},\"zaxis\":{\"backgroundcolor\":\"#E5ECF6\",\"gridcolor\":\"white\",\"linecolor\":\"white\",\"showbackground\":true,\"ticks\":\"\",\"zerolinecolor\":\"white\",\"gridwidth\":2}},\"shapedefaults\":{\"line\":{\"color\":\"#2a3f5f\"}},\"annotationdefaults\":{\"arrowcolor\":\"#2a3f5f\",\"arrowhead\":0,\"arrowwidth\":1},\"geo\":{\"bgcolor\":\"white\",\"landcolor\":\"#E5ECF6\",\"subunitcolor\":\"white\",\"showland\":true,\"showlakes\":true,\"lakecolor\":\"white\"},\"title\":{\"x\":0.05},\"mapbox\":{\"style\":\"light\"}}},\"xaxis\":{\"anchor\":\"y\",\"domain\":[0.0,1.0],\"title\":{\"text\":\"diag_1_range\"}},\"yaxis\":{\"anchor\":\"x\",\"domain\":[0.0,1.0],\"title\":{\"text\":\"Frecuencia\"}},\"legend\":{\"tracegroupgap\":0},\"title\":{\"text\":\"diag_1\"},\"barmode\":\"relative\"},                        {\"responsive\": true}                    ).then(function(){\n",
              "                            \n",
              "var gd = document.getElementById('4bb0e651-eb3e-4fb1-bbc0-65d2a445be25');\n",
              "var x = new MutationObserver(function (mutations, observer) {{\n",
              "        var display = window.getComputedStyle(gd).display;\n",
              "        if (!display || display === 'none') {{\n",
              "            console.log([gd, 'removed!']);\n",
              "            Plotly.purge(gd);\n",
              "            observer.disconnect();\n",
              "        }}\n",
              "}});\n",
              "\n",
              "// Listen for the removal of the full notebook cells\n",
              "var notebookContainer = gd.closest('#notebook-container');\n",
              "if (notebookContainer) {{\n",
              "    x.observe(notebookContainer, {childList: true});\n",
              "}}\n",
              "\n",
              "// Listen for the clearing of the current output cell\n",
              "var outputEl = gd.closest('.output');\n",
              "if (outputEl) {{\n",
              "    x.observe(outputEl, {childList: true});\n",
              "}}\n",
              "\n",
              "                        })                };                            </script>        </div>\n",
              "</body>\n",
              "</html>"
            ]
          },
          "metadata": {}
        }
      ]
    },
    {
      "cell_type": "markdown",
      "source": [
        "Las enfermedades en distinta proporción muestran el mismo orden y la misma tendencia en ambos casos.\n",
        "\n",
        "La única conclusión y confirmación de este último análisis es que los problemas circulatorios vienen asociados en la mayoria de casos con la diabetes."
      ],
      "metadata": {
        "id": "k8iqLgOXQ1Ct"
      }
    },
    {
      "cell_type": "markdown",
      "source": [
        "Vamos a terminar con el último dataset que corresponde al dataset de los muertos."
      ],
      "metadata": {
        "id": "PXkCKsU26qhn"
      }
    },
    {
      "cell_type": "markdown",
      "source": [
        "## Death Dataset"
      ],
      "metadata": {
        "id": "fK0ab64Z6yqh"
      }
    },
    {
      "cell_type": "code",
      "source": [],
      "metadata": {
        "id": "uRM1e2VE6ure"
      },
      "execution_count": 66,
      "outputs": []
    }
  ]
}